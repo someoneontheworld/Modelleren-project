{
 "cells": [
  {
   "cell_type": "code",
   "execution_count": 131,
   "metadata": {},
   "outputs": [],
   "source": [
    "import pandas as pd\n",
    "import seaborn as sns\n",
    "import numpy as np\n",
    "from scipy import stats\n",
    "import matplotlib.pyplot as plt\n",
    "import datetime as dt\n",
    "\n",
    "import statsmodels.api as sm\n",
    "from statsmodels.formula.api import ols"
   ]
  },
  {
   "cell_type": "code",
   "execution_count": 132,
   "metadata": {},
   "outputs": [],
   "source": [
    "try:\n",
    "    df = pd.read_csv(r\"C:\\Users\\mitch\\OneDrive\\Documenten\\Studie Toegepaste wiskunde\\Moduleren project\\GBS_MOD_12082024.csv\", sep = ';')\n",
    "except:\n",
    "    df = pd.read_csv(r\"C:\\Users\\Chong\\Desktop\\Modelleren project\\info\\GBS_MOD_12082024.csv\", sep = ';')\n",
    "    "
   ]
  },
  {
   "cell_type": "code",
   "execution_count": 133,
   "metadata": {},
   "outputs": [],
   "source": [
    "#df = pd.read_csv(r\"C:\\Users\\Chong\\Desktop\\Modelleren project\\info\\GBS_MOD_12082024.csv\", sep = ';')"
   ]
  },
  {
   "cell_type": "code",
   "execution_count": 134,
   "metadata": {},
   "outputs": [
    {
     "data": {
      "text/html": [
       "<div>\n",
       "<style scoped>\n",
       "    .dataframe tbody tr th:only-of-type {\n",
       "        vertical-align: middle;\n",
       "    }\n",
       "\n",
       "    .dataframe tbody tr th {\n",
       "        vertical-align: top;\n",
       "    }\n",
       "\n",
       "    .dataframe thead th {\n",
       "        text-align: right;\n",
       "    }\n",
       "</style>\n",
       "<table border=\"1\" class=\"dataframe\">\n",
       "  <thead>\n",
       "    <tr style=\"text-align: right;\">\n",
       "      <th></th>\n",
       "      <th>Patientcode</th>\n",
       "      <th>Age</th>\n",
       "      <th>Sex</th>\n",
       "      <th>MRC_sum_e</th>\n",
       "      <th>MRC_sum_w1</th>\n",
       "      <th>CNI_e</th>\n",
       "      <th>CNI_Bulbar_e</th>\n",
       "      <th>CNI_Facial_e</th>\n",
       "      <th>CNI_Oculomotor_e</th>\n",
       "      <th>CNI_w1</th>\n",
       "      <th>...</th>\n",
       "      <th>Comorbidity_respiration</th>\n",
       "      <th>Days_between_onset_and_admission</th>\n",
       "      <th>Date_onset_weakness</th>\n",
       "      <th>Continent</th>\n",
       "      <th>Country_of_inclusion</th>\n",
       "      <th>Surv_days</th>\n",
       "      <th>Surv_status</th>\n",
       "      <th>Surv_unable_to_walk</th>\n",
       "      <th>Walking_again</th>\n",
       "      <th>Deceased</th>\n",
       "    </tr>\n",
       "  </thead>\n",
       "  <tbody>\n",
       "    <tr>\n",
       "      <th>0</th>\n",
       "      <td>P0001</td>\n",
       "      <td>75.0</td>\n",
       "      <td>0</td>\n",
       "      <td>50.0</td>\n",
       "      <td>53.0</td>\n",
       "      <td>1.0</td>\n",
       "      <td>0.0</td>\n",
       "      <td>0.0</td>\n",
       "      <td>1.0</td>\n",
       "      <td>1.0</td>\n",
       "      <td>...</td>\n",
       "      <td>0.0</td>\n",
       "      <td>5.0</td>\n",
       "      <td>16-06-2016</td>\n",
       "      <td>1</td>\n",
       "      <td>5</td>\n",
       "      <td>125.0</td>\n",
       "      <td>1.0</td>\n",
       "      <td>1</td>\n",
       "      <td>1.0</td>\n",
       "      <td>0</td>\n",
       "    </tr>\n",
       "    <tr>\n",
       "      <th>1</th>\n",
       "      <td>P0002</td>\n",
       "      <td>22.0</td>\n",
       "      <td>0</td>\n",
       "      <td>50.0</td>\n",
       "      <td>46.0</td>\n",
       "      <td>0.0</td>\n",
       "      <td>0.0</td>\n",
       "      <td>0.0</td>\n",
       "      <td>0.0</td>\n",
       "      <td>0.0</td>\n",
       "      <td>...</td>\n",
       "      <td>0.0</td>\n",
       "      <td>1.0</td>\n",
       "      <td>22-11-2017</td>\n",
       "      <td>5</td>\n",
       "      <td>19</td>\n",
       "      <td>49.0</td>\n",
       "      <td>1.0</td>\n",
       "      <td>1</td>\n",
       "      <td>1.0</td>\n",
       "      <td>0</td>\n",
       "    </tr>\n",
       "    <tr>\n",
       "      <th>2</th>\n",
       "      <td>P0003</td>\n",
       "      <td>63.0</td>\n",
       "      <td>0</td>\n",
       "      <td>40.0</td>\n",
       "      <td>53.0</td>\n",
       "      <td>0.0</td>\n",
       "      <td>0.0</td>\n",
       "      <td>0.0</td>\n",
       "      <td>0.0</td>\n",
       "      <td>0.0</td>\n",
       "      <td>...</td>\n",
       "      <td>0.0</td>\n",
       "      <td>15.0</td>\n",
       "      <td>28-12-2020</td>\n",
       "      <td>2</td>\n",
       "      <td>11</td>\n",
       "      <td>752.0</td>\n",
       "      <td>0.0</td>\n",
       "      <td>1</td>\n",
       "      <td>NaN</td>\n",
       "      <td>0</td>\n",
       "    </tr>\n",
       "    <tr>\n",
       "      <th>3</th>\n",
       "      <td>P0004</td>\n",
       "      <td>30.0</td>\n",
       "      <td>1</td>\n",
       "      <td>60.0</td>\n",
       "      <td>59.0</td>\n",
       "      <td>1.0</td>\n",
       "      <td>1.0</td>\n",
       "      <td>1.0</td>\n",
       "      <td>1.0</td>\n",
       "      <td>1.0</td>\n",
       "      <td>...</td>\n",
       "      <td>0.0</td>\n",
       "      <td>10.0</td>\n",
       "      <td>30-03-2020</td>\n",
       "      <td>1</td>\n",
       "      <td>6</td>\n",
       "      <td>13.0</td>\n",
       "      <td>1.0</td>\n",
       "      <td>1</td>\n",
       "      <td>1.0</td>\n",
       "      <td>0</td>\n",
       "    </tr>\n",
       "    <tr>\n",
       "      <th>4</th>\n",
       "      <td>P0005</td>\n",
       "      <td>48.0</td>\n",
       "      <td>1</td>\n",
       "      <td>39.0</td>\n",
       "      <td>45.0</td>\n",
       "      <td>0.0</td>\n",
       "      <td>0.0</td>\n",
       "      <td>0.0</td>\n",
       "      <td>0.0</td>\n",
       "      <td>1.0</td>\n",
       "      <td>...</td>\n",
       "      <td>0.0</td>\n",
       "      <td>3.0</td>\n",
       "      <td>28-12-2015</td>\n",
       "      <td>1</td>\n",
       "      <td>2</td>\n",
       "      <td>14.0</td>\n",
       "      <td>0.0</td>\n",
       "      <td>1</td>\n",
       "      <td>NaN</td>\n",
       "      <td>0</td>\n",
       "    </tr>\n",
       "    <tr>\n",
       "      <th>...</th>\n",
       "      <td>...</td>\n",
       "      <td>...</td>\n",
       "      <td>...</td>\n",
       "      <td>...</td>\n",
       "      <td>...</td>\n",
       "      <td>...</td>\n",
       "      <td>...</td>\n",
       "      <td>...</td>\n",
       "      <td>...</td>\n",
       "      <td>...</td>\n",
       "      <td>...</td>\n",
       "      <td>...</td>\n",
       "      <td>...</td>\n",
       "      <td>...</td>\n",
       "      <td>...</td>\n",
       "      <td>...</td>\n",
       "      <td>...</td>\n",
       "      <td>...</td>\n",
       "      <td>...</td>\n",
       "      <td>...</td>\n",
       "      <td>...</td>\n",
       "    </tr>\n",
       "    <tr>\n",
       "      <th>1495</th>\n",
       "      <td>P1496</td>\n",
       "      <td>52.0</td>\n",
       "      <td>1</td>\n",
       "      <td>19.0</td>\n",
       "      <td>NaN</td>\n",
       "      <td>0.0</td>\n",
       "      <td>0.0</td>\n",
       "      <td>0.0</td>\n",
       "      <td>0.0</td>\n",
       "      <td>NaN</td>\n",
       "      <td>...</td>\n",
       "      <td>0.0</td>\n",
       "      <td>12.0</td>\n",
       "      <td>04-09-2016</td>\n",
       "      <td>1</td>\n",
       "      <td>5</td>\n",
       "      <td>26.0</td>\n",
       "      <td>0.0</td>\n",
       "      <td>1</td>\n",
       "      <td>NaN</td>\n",
       "      <td>0</td>\n",
       "    </tr>\n",
       "    <tr>\n",
       "      <th>1496</th>\n",
       "      <td>P1497</td>\n",
       "      <td>66.0</td>\n",
       "      <td>0</td>\n",
       "      <td>54.0</td>\n",
       "      <td>55.0</td>\n",
       "      <td>1.0</td>\n",
       "      <td>1.0</td>\n",
       "      <td>1.0</td>\n",
       "      <td>0.0</td>\n",
       "      <td>0.0</td>\n",
       "      <td>...</td>\n",
       "      <td>0.0</td>\n",
       "      <td>9.0</td>\n",
       "      <td>04-02-2017</td>\n",
       "      <td>1</td>\n",
       "      <td>1</td>\n",
       "      <td>30.0</td>\n",
       "      <td>1.0</td>\n",
       "      <td>1</td>\n",
       "      <td>1.0</td>\n",
       "      <td>0</td>\n",
       "    </tr>\n",
       "    <tr>\n",
       "      <th>1497</th>\n",
       "      <td>P1498</td>\n",
       "      <td>67.0</td>\n",
       "      <td>0</td>\n",
       "      <td>33.0</td>\n",
       "      <td>46.0</td>\n",
       "      <td>1.0</td>\n",
       "      <td>1.0</td>\n",
       "      <td>1.0</td>\n",
       "      <td>0.0</td>\n",
       "      <td>1.0</td>\n",
       "      <td>...</td>\n",
       "      <td>0.0</td>\n",
       "      <td>1.0</td>\n",
       "      <td>30-04-2017</td>\n",
       "      <td>6</td>\n",
       "      <td>21</td>\n",
       "      <td>42.0</td>\n",
       "      <td>1.0</td>\n",
       "      <td>1</td>\n",
       "      <td>1.0</td>\n",
       "      <td>0</td>\n",
       "    </tr>\n",
       "    <tr>\n",
       "      <th>1498</th>\n",
       "      <td>P1499</td>\n",
       "      <td>35.0</td>\n",
       "      <td>1</td>\n",
       "      <td>1.0</td>\n",
       "      <td>3.0</td>\n",
       "      <td>1.0</td>\n",
       "      <td>1.0</td>\n",
       "      <td>0.0</td>\n",
       "      <td>0.0</td>\n",
       "      <td>1.0</td>\n",
       "      <td>...</td>\n",
       "      <td>0.0</td>\n",
       "      <td>5.0</td>\n",
       "      <td>03-10-2017</td>\n",
       "      <td>3</td>\n",
       "      <td>13</td>\n",
       "      <td>280.0</td>\n",
       "      <td>1.0</td>\n",
       "      <td>1</td>\n",
       "      <td>1.0</td>\n",
       "      <td>0</td>\n",
       "    </tr>\n",
       "    <tr>\n",
       "      <th>1499</th>\n",
       "      <td>P1500</td>\n",
       "      <td>67.0</td>\n",
       "      <td>0</td>\n",
       "      <td>60.0</td>\n",
       "      <td>59.0</td>\n",
       "      <td>1.0</td>\n",
       "      <td>0.0</td>\n",
       "      <td>1.0</td>\n",
       "      <td>0.0</td>\n",
       "      <td>0.0</td>\n",
       "      <td>...</td>\n",
       "      <td>0.0</td>\n",
       "      <td>5.0</td>\n",
       "      <td>10-03-2016</td>\n",
       "      <td>1</td>\n",
       "      <td>6</td>\n",
       "      <td>15.0</td>\n",
       "      <td>1.0</td>\n",
       "      <td>1</td>\n",
       "      <td>1.0</td>\n",
       "      <td>0</td>\n",
       "    </tr>\n",
       "  </tbody>\n",
       "</table>\n",
       "<p>1500 rows × 37 columns</p>\n",
       "</div>"
      ],
      "text/plain": [
       "     Patientcode   Age  Sex  MRC_sum_e  MRC_sum_w1  CNI_e  CNI_Bulbar_e  \\\n",
       "0          P0001  75.0    0       50.0        53.0    1.0           0.0   \n",
       "1          P0002  22.0    0       50.0        46.0    0.0           0.0   \n",
       "2          P0003  63.0    0       40.0        53.0    0.0           0.0   \n",
       "3          P0004  30.0    1       60.0        59.0    1.0           1.0   \n",
       "4          P0005  48.0    1       39.0        45.0    0.0           0.0   \n",
       "...          ...   ...  ...        ...         ...    ...           ...   \n",
       "1495       P1496  52.0    1       19.0         NaN    0.0           0.0   \n",
       "1496       P1497  66.0    0       54.0        55.0    1.0           1.0   \n",
       "1497       P1498  67.0    0       33.0        46.0    1.0           1.0   \n",
       "1498       P1499  35.0    1        1.0         3.0    1.0           1.0   \n",
       "1499       P1500  67.0    0       60.0        59.0    1.0           0.0   \n",
       "\n",
       "      CNI_Facial_e  CNI_Oculomotor_e  CNI_w1  ...  Comorbidity_respiration  \\\n",
       "0              0.0               1.0     1.0  ...                      0.0   \n",
       "1              0.0               0.0     0.0  ...                      0.0   \n",
       "2              0.0               0.0     0.0  ...                      0.0   \n",
       "3              1.0               1.0     1.0  ...                      0.0   \n",
       "4              0.0               0.0     1.0  ...                      0.0   \n",
       "...            ...               ...     ...  ...                      ...   \n",
       "1495           0.0               0.0     NaN  ...                      0.0   \n",
       "1496           1.0               0.0     0.0  ...                      0.0   \n",
       "1497           1.0               0.0     1.0  ...                      0.0   \n",
       "1498           0.0               0.0     1.0  ...                      0.0   \n",
       "1499           1.0               0.0     0.0  ...                      0.0   \n",
       "\n",
       "      Days_between_onset_and_admission  Date_onset_weakness  Continent  \\\n",
       "0                                  5.0           16-06-2016          1   \n",
       "1                                  1.0           22-11-2017          5   \n",
       "2                                 15.0           28-12-2020          2   \n",
       "3                                 10.0           30-03-2020          1   \n",
       "4                                  3.0           28-12-2015          1   \n",
       "...                                ...                  ...        ...   \n",
       "1495                              12.0           04-09-2016          1   \n",
       "1496                               9.0           04-02-2017          1   \n",
       "1497                               1.0           30-04-2017          6   \n",
       "1498                               5.0           03-10-2017          3   \n",
       "1499                               5.0           10-03-2016          1   \n",
       "\n",
       "      Country_of_inclusion  Surv_days  Surv_status  Surv_unable_to_walk  \\\n",
       "0                        5      125.0          1.0                    1   \n",
       "1                       19       49.0          1.0                    1   \n",
       "2                       11      752.0          0.0                    1   \n",
       "3                        6       13.0          1.0                    1   \n",
       "4                        2       14.0          0.0                    1   \n",
       "...                    ...        ...          ...                  ...   \n",
       "1495                     5       26.0          0.0                    1   \n",
       "1496                     1       30.0          1.0                    1   \n",
       "1497                    21       42.0          1.0                    1   \n",
       "1498                    13      280.0          1.0                    1   \n",
       "1499                     6       15.0          1.0                    1   \n",
       "\n",
       "      Walking_again  Deceased  \n",
       "0               1.0         0  \n",
       "1               1.0         0  \n",
       "2               NaN         0  \n",
       "3               1.0         0  \n",
       "4               NaN         0  \n",
       "...             ...       ...  \n",
       "1495            NaN         0  \n",
       "1496            1.0         0  \n",
       "1497            1.0         0  \n",
       "1498            1.0         0  \n",
       "1499            1.0         0  \n",
       "\n",
       "[1500 rows x 37 columns]"
      ]
     },
     "execution_count": 134,
     "metadata": {},
     "output_type": "execute_result"
    }
   ],
   "source": [
    "df"
   ]
  },
  {
   "cell_type": "code",
   "execution_count": 135,
   "metadata": {},
   "outputs": [],
   "source": [
    "# df.columns"
   ]
  },
  {
   "cell_type": "code",
   "execution_count": 136,
   "metadata": {},
   "outputs": [],
   "source": [
    "# a =  df[['Surv_status', 'Deceased']]"
   ]
  },
  {
   "cell_type": "code",
   "execution_count": 137,
   "metadata": {},
   "outputs": [],
   "source": [
    "# df.dtypes"
   ]
  },
  {
   "cell_type": "code",
   "execution_count": 138,
   "metadata": {},
   "outputs": [],
   "source": [
    "\n",
    "# past de datum naar yyyy-mm-dd\n",
    "# dan selecteer dan mm om de correlatie te bepalen met andere data\n",
    "df['date_hospital'] = pd.to_datetime(df['Date_onset_weakness'], format = \"%d-%m-%Y\")\n",
    "df['date_month'] = df['date_hospital'].dt.month"
   ]
  },
  {
   "cell_type": "code",
   "execution_count": 139,
   "metadata": {},
   "outputs": [],
   "source": [
    "df = df.drop(columns = ['Patientcode','Date_onset_weakness'])\n",
    "df['CSF_protein_level'] = df['CSF_protein_level'].str.replace(',','.').astype(float)\n",
    "\n",
    "#df['Walking_again'] = df['Walking_again'].fillna(0)\n"
   ]
  },
  {
   "cell_type": "code",
   "execution_count": 140,
   "metadata": {},
   "outputs": [
    {
     "data": {
      "text/plain": [
       "Country_of_inclusion  Continent                0.912135\n",
       "MRC_sum_w1            MRC_sum_e                0.813435\n",
       "Surv_unable_to_walk   GBSDS_e                  0.766703\n",
       "GBSDS_w1              GBSDS_e                  0.762471\n",
       "CNI_Oculomotor_w1     CNI_Oculomotor_e         0.758196\n",
       "                                                 ...   \n",
       "date_month            Ant_event_respiratory         NaN\n",
       "                      Ant_event_vaccination         NaN\n",
       "                      Ant_event_other               NaN\n",
       "                      Walking_again                 NaN\n",
       "                      date_month                    NaN\n",
       "Length: 1296, dtype: float64"
      ]
     },
     "execution_count": 140,
     "metadata": {},
     "output_type": "execute_result"
    }
   ],
   "source": [
    "\n",
    "corr_matrix = df.corr()\n",
    "sorted_corr = corr_matrix.where(np.triu(np.ones(corr_matrix.shape), k=1).astype(bool)).unstack().sort_values(ascending=False)\n",
    "sorted_corr"
   ]
  },
  {
   "cell_type": "code",
   "execution_count": 141,
   "metadata": {},
   "outputs": [
    {
     "name": "stdout",
     "output_type": "stream",
     "text": [
      "date_month                          1.000000\n",
      "Country_of_inclusion                0.042215\n",
      "Continent                           0.042008\n",
      "CSF_protein_level                   0.034668\n",
      "Deceased                            0.032537\n",
      "Comorbidity_respiration             0.028531\n",
      "GBSDS_w1                            0.027320\n",
      "Sens_deficits_e                     0.024639\n",
      "Able_to_walk_e                      0.014984\n",
      "Surv_status                         0.009699\n",
      "GBSDS_e                             0.007570\n",
      "Sens_deficits_w1                    0.004381\n",
      "Pain_e                              0.003648\n",
      "Days_between_onset_and_admission    0.000450\n",
      "Pain_w1                             0.000274\n",
      "CNI_Bulbar_w1                      -0.000925\n",
      "CNI_Bulbar_e                       -0.005650\n",
      "Surv_unable_to_walk                -0.007161\n",
      "Surv_days                          -0.012387\n",
      "Able_to_walk_w1                    -0.013766\n",
      "CNI_e                              -0.017687\n",
      "CNI_Facial_e                       -0.018265\n",
      "Ant_event                          -0.020287\n",
      "CNI_w1                             -0.021639\n",
      "MRC_sum_w1                         -0.022649\n",
      "CNI_Oculomotor_w1                  -0.024081\n",
      "MRC_sum_e                          -0.027020\n",
      "CNI_Facial_w1                      -0.030741\n",
      "Sex                                -0.035584\n",
      "Age                                -0.047358\n",
      "CNI_Oculomotor_e                   -0.048341\n",
      "Ant_event_GE                             NaN\n",
      "Ant_event_respiratory                    NaN\n",
      "Ant_event_vaccination                    NaN\n",
      "Ant_event_other                          NaN\n",
      "Walking_again                            NaN\n",
      "Name: date_month, dtype: float64\n"
     ]
    }
   ],
   "source": [
    "a = df.corr()['date_month'].sort_values(ascending=False)\n",
    "print(a)\n"
   ]
  },
  {
   "cell_type": "code",
   "execution_count": 142,
   "metadata": {},
   "outputs": [
    {
     "data": {
      "text/plain": [
       "1    878\n",
       "2    178\n",
       "5    176\n",
       "4    164\n",
       "3     71\n",
       "6     33\n",
       "Name: Continent, dtype: int64"
      ]
     },
     "execution_count": 142,
     "metadata": {},
     "output_type": "execute_result"
    }
   ],
   "source": [
    "df['Continent'].value_counts()"
   ]
  },
  {
   "cell_type": "code",
   "execution_count": 143,
   "metadata": {},
   "outputs": [
    {
     "data": {
      "text/plain": [
       "1     196\n",
       "19    176\n",
       "11    161\n",
       "6     160\n",
       "5     130\n",
       "2     129\n",
       "7     102\n",
       "18     66\n",
       "15     63\n",
       "3      60\n",
       "13     51\n",
       "8      40\n",
       "10     34\n",
       "17     28\n",
       "21     25\n",
       "4      18\n",
       "12     17\n",
       "14     16\n",
       "9      16\n",
       "16      6\n",
       "20      6\n",
       "Name: Country_of_inclusion, dtype: int64"
      ]
     },
     "execution_count": 143,
     "metadata": {},
     "output_type": "execute_result"
    }
   ],
   "source": [
    "df['Country_of_inclusion'].value_counts(sort=True)"
   ]
  },
  {
   "cell_type": "code",
   "execution_count": 144,
   "metadata": {},
   "outputs": [
    {
     "data": {
      "text/plain": [
       "<AxesSubplot:xlabel='Country_of_inclusion', ylabel='count'>"
      ]
     },
     "execution_count": 144,
     "metadata": {},
     "output_type": "execute_result"
    },
    {
     "data": {
      "image/png": "[encoded data removed]",
      "text/plain": [
       "<Figure size 432x288 with 1 Axes>"
      ]
     },
     "metadata": {
      "needs_background": "light"
     },
     "output_type": "display_data"
    }
   ],
   "source": [
    "# sns.countplot(df,x='Continent')\n",
    "sns.countplot(data  =df,x='Country_of_inclusion')"
   ]
  },
  {
   "cell_type": "code",
   "execution_count": 145,
   "metadata": {},
   "outputs": [
    {
     "name": "stdout",
     "output_type": "stream",
     "text": [
      "    country_code         country_name    klimaat\n",
      "0              1            Nederland  C Klimaat\n",
      "1              2  Verenigd Koninkrijk  C Klimaat\n",
      "2              3            Duitsland  C Klimaat\n",
      "3              4               België  C Klimaat\n",
      "4              5           Denemarken  C Klimaat\n",
      "5              6               Italië  C Klimaat\n",
      "6              7               Spanje  B Klimaat\n",
      "7              8            Frankrijk  C Klimaat\n",
      "8              9          Griekenland  C Klimaat\n",
      "9             10          Zwitserland  C Klimaat\n",
      "10            11     Verenigde Staten  D Klimaat\n",
      "11            12               Canada  D Klimaat\n",
      "12            13           Argentinië  C Klimaat\n",
      "13            14             Brazilië  A Klimaat\n",
      "14            15                Japan  C Klimaat\n",
      "15            16               Taiwan  C Klimaat\n",
      "16            17             Maleisië  A Klimaat\n",
      "17            18                China  C Klimaat\n",
      "18            19           Bangladesh  A Klimaat\n",
      "19            20            Australië  C Klimaat\n",
      "20            21          Zuid-Afrika  C Klimaat\n"
     ]
    }
   ],
   "source": [
    "data = {\n",
    "    'country_code': [1, 2, 3, 4, 5, 6, 7, 8, 9, 10, 11, 12, 13, 14, 15, 16, 17, 18, 19, 20, 21],\n",
    "    'country_name': ['Nederland', 'Verenigd Koninkrijk', 'Duitsland', 'België', 'Denemarken', \n",
    "                     'Italië', 'Spanje', 'Frankrijk', 'Griekenland', 'Zwitserland', \n",
    "                     'Verenigde Staten', 'Canada', 'Argentinië', 'Brazilië', 'Japan', \n",
    "                     'Taiwan', 'Maleisië', 'China', 'Bangladesh', 'Australië', 'Zuid-Afrika']\n",
    "}\n",
    "\n",
    "\n",
    "df_klimaat = pd.DataFrame(data)\n",
    "\n",
    "climate_data = {\n",
    "    'A_Klimaat': ['Maleisië', 'Bangladesh', 'Brazilië'],\n",
    "    'B_Klimaat': ['Spanje'],\n",
    "    'C_Klimaat': ['Nederland', 'Verenigd Koninkrijk', 'België', 'Denemarken', 'Duitsland', 'Frankrijk', 'Italië', 'Griekenland', 'Zwitserland', 'Argentinië', 'Japan', 'Taiwan', 'China', 'Australië', 'Zuid-Afrika'],\n",
    "    'D_Klimaat': ['Verenigde Staten', 'Canada']\n",
    "}\n",
    "\n",
    "# Function to assign the climate category based on the country\n",
    "def assign_climate(country):\n",
    "    if country in climate_data['A_Klimaat']:\n",
    "        return 'A Klimaat'\n",
    "    elif country in climate_data['B_Klimaat']:\n",
    "        return 'B Klimaat'\n",
    "    elif country in climate_data['C_Klimaat']:\n",
    "        return 'C Klimaat'\n",
    "    elif country in climate_data['D_Klimaat']:\n",
    "        return 'D Klimaat'\n",
    "    else:\n",
    "        return 'Unknown'\n",
    "\n",
    "# Add a new column 'Climate' to the dataframe\n",
    "df_klimaat['klimaat'] = df_klimaat['country_name'].apply(assign_climate)\n",
    "\n",
    "\n",
    "print(df_klimaat)\n"
   ]
  },
  {
   "cell_type": "code",
   "execution_count": 146,
   "metadata": {},
   "outputs": [],
   "source": [
    "# df en df_klimaat joinen op elkaar\n",
    "df = pd.merge(df, df_klimaat, \n",
    "                     left_on='Country_of_inclusion', right_on='country_code',\n",
    "                     how = 'left')\n",
    "\n",
    "df = df.drop(columns = 'country_code')"
   ]
  },
  {
   "cell_type": "code",
   "execution_count": 147,
   "metadata": {},
   "outputs": [
    {
     "data": {
      "text/plain": [
       "<AxesSubplot:xlabel='klimaat', ylabel='count'>"
      ]
     },
     "execution_count": 147,
     "metadata": {},
     "output_type": "execute_result"
    },
    {
     "data": {
      "image/png": "[encoded data removed]",
      "text/plain": [
       "<Figure size 432x288 with 1 Axes>"
      ]
     },
     "metadata": {
      "needs_background": "light"
     },
     "output_type": "display_data"
    }
   ],
   "source": [
    "\n",
    "sns.countplot(data = df,x='klimaat', hue = 'klimaat')"
   ]
  },
  {
   "cell_type": "code",
   "execution_count": null,
   "metadata": {},
   "outputs": [],
   "source": []
  },
  {
   "cell_type": "code",
   "execution_count": 148,
   "metadata": {},
   "outputs": [
    {
     "data": {
      "text/plain": [
       "C Klimaat    1000\n",
       "A Klimaat     220\n",
       "D Klimaat     178\n",
       "B Klimaat     102\n",
       "Name: klimaat, dtype: int64"
      ]
     },
     "execution_count": 148,
     "metadata": {},
     "output_type": "execute_result"
    }
   ],
   "source": [
    "df['klimaat'].value_counts()"
   ]
  },
  {
   "cell_type": "code",
   "execution_count": 149,
   "metadata": {},
   "outputs": [
    {
     "data": {
      "text/plain": [
       "Text(0.5, 1.0, 'Verdeling hoeveelheid GBS per hafrond')"
      ]
     },
     "execution_count": 149,
     "metadata": {},
     "output_type": "execute_result"
    },
    {
     "data": {
      "image/png": "[encoded data removed]",
      "text/plain": [
       "<Figure size 432x288 with 1 Axes>"
      ]
     },
     "metadata": {
      "needs_background": "light"
     },
     "output_type": "display_data"
    }
   ],
   "source": [
    "halfrond_data = {\n",
    "    'Noordelijk_halfrond': ['Nederland', 'Verenigd Koninkrijk', 'Duitsland', 'België', 'Denemarken', \n",
    "                     'Italië', 'Spanje', 'Frankrijk', 'Griekenland', 'Zwitserland', \n",
    "                     'Verenigde Staten', 'Canada','Japan', \n",
    "                     'Taiwan', 'Maleisië', 'China', 'Bangladesh'],\n",
    "\n",
    "    'Zuidelijk_halfrond': ['Argentinië','Brazilië','Australië', 'Zuid-Afrika']\n",
    "}\n",
    "\n",
    "\n",
    "def assign_halfrond(country):\n",
    "    if country in halfrond_data['Noordelijk_halfrond']:\n",
    "        return 'Noordelijk_halfrond'\n",
    "    elif country in halfrond_data['Zuidelijk_halfrond']:\n",
    "        return 'Zuidelijk_halfrond'\n",
    "\n",
    "\n",
    "df['halfrond'] = df['country_name'].apply(assign_halfrond)\n",
    "\n",
    "\n",
    "sns.countplot(data = df, x='halfrond', hue = 'halfrond').set_title('Verdeling hoeveelheid GBS per hafrond')"
   ]
  },
  {
   "cell_type": "markdown",
   "metadata": {},
   "source": [
    "Seizoenen definieren opbasis van de halfrond.\n",
    "\n",
    "Noordelijk_halfrond: lente 3-5, zomer 6-8, herfst 9-11, winter 12-2\n",
    "\n",
    "Zuidelijk halfrond: lente 9-11, zomer 12-2, herfst 3-5, winter 6-8"
   ]
  },
  {
   "cell_type": "code",
   "execution_count": 150,
   "metadata": {},
   "outputs": [],
   "source": [
    "def seizoenen(halfrond, date_month):\n",
    "    seizoen1 = [12,1,2]\n",
    "    seizoen2 = [3,4,5]\n",
    "    seizoen3 = [6,7,8]\n",
    "    seizoen4 = [9,10,11]\n",
    "    if str(halfrond) == 'Noordelijk_halfrond':\n",
    "        if date_month in seizoen1:\n",
    "            return \"Winter\"\n",
    "        elif date_month in seizoen2:\n",
    "            return \"Lente\"\n",
    "        elif date_month in seizoen3:\n",
    "            return \"Zomer\"\n",
    "        elif date_month in seizoen4:\n",
    "            return \"Herfst\"\n",
    "        else:\n",
    "            return None\n",
    "    elif str(halfrond) == 'Zuidelijk_halfrond':\n",
    "        if date_month in seizoen1:\n",
    "            return \"Zomer\"\n",
    "        elif date_month in seizoen2:\n",
    "            return \"Herfst\"\n",
    "        elif date_month in seizoen3:\n",
    "            return \"Winter\"\n",
    "        elif date_month in seizoen4:\n",
    "            return \"Lente\"\n",
    "        else:\n",
    "            return None\n",
    "    else:\n",
    "        print(\"help\")\n",
    "    \n",
    "\n"
   ]
  },
  {
   "cell_type": "code",
   "execution_count": 151,
   "metadata": {},
   "outputs": [
    {
     "data": {
      "text/plain": [
       "dtype('O')"
      ]
     },
     "execution_count": 151,
     "metadata": {},
     "output_type": "execute_result"
    }
   ],
   "source": [
    "df['halfrond'].dtype"
   ]
  },
  {
   "cell_type": "code",
   "execution_count": 152,
   "metadata": {},
   "outputs": [],
   "source": [
    "df['Seizoen'] = df.apply(lambda row: seizoenen(row['halfrond'], row['date_month']), axis=1)"
   ]
  },
  {
   "cell_type": "code",
   "execution_count": 153,
   "metadata": {},
   "outputs": [],
   "source": [
    "# a = df[['country_name','date_month','Seizoen']]\n",
    "# print(a)"
   ]
  },
  {
   "cell_type": "code",
   "execution_count": 154,
   "metadata": {},
   "outputs": [
    {
     "data": {
      "text/plain": [
       "<AxesSubplot:xlabel='Seizoen', ylabel='count'>"
      ]
     },
     "execution_count": 154,
     "metadata": {},
     "output_type": "execute_result"
    },
    {
     "data": {
      "image/png": "[encoded data removed]",
      "text/plain": [
       "<Figure size 432x288 with 1 Axes>"
      ]
     },
     "metadata": {
      "needs_background": "light"
     },
     "output_type": "display_data"
    }
   ],
   "source": [
    "sns.countplot(data = df,x='Seizoen', hue = 'Seizoen')#, legend= False).set_title('Verdeling hoeveelheid GBS per seizoen')"
   ]
  },
  {
   "cell_type": "code",
   "execution_count": 155,
   "metadata": {},
   "outputs": [
    {
     "data": {
      "text/plain": [
       "(3.7451420362510364,\n",
       " 0.9273719105102436,\n",
       " 9,\n",
       " array([[ 46.85372522,  56.13465482,  66.76281613,  49.24880383],\n",
       "        [ 21.18045113,  25.37593985,  30.18045113,  22.26315789],\n",
       "        [208.38140807, 249.6582365 , 296.92686261, 219.03349282],\n",
       "        [ 36.58441558,  43.83116883,  52.12987013,  38.45454545]]))"
      ]
     },
     "execution_count": 155,
     "metadata": {},
     "output_type": "execute_result"
    }
   ],
   "source": [
    "Klimaat_Seizoen = pd.crosstab(df['klimaat'], df['Seizoen'])\n",
    "\n",
    "stats.chi2_contingency(Klimaat_Seizoen)"
   ]
  },
  {
   "cell_type": "markdown",
   "metadata": {},
   "source": [
    "De chi-kwadraat toets geeft een p-waarde van 0,9237.... dat is hoger dan 0,05. Dus de 0-hypothese wordt bewaard.\n",
    "De 0 hypothese is dat de 2 variabelen statistisch onafhankelijk zijn."
   ]
  },
  {
   "cell_type": "markdown",
   "metadata": {},
   "source": [
    "Eerst kijken hoeveel NA er zijn in de dataset. Om te bepalen welke vorm van NA-handling wordt toegepast"
   ]
  },
  {
   "cell_type": "code",
   "execution_count": 156,
   "metadata": {},
   "outputs": [
    {
     "name": "stdout",
     "output_type": "stream",
     "text": [
      "Age : 9\n",
      "Sex : 0\n",
      "MRC_sum_e : 50\n",
      "MRC_sum_w1 : 183\n",
      "CNI_e : 33\n",
      "CNI_Bulbar_e : 33\n",
      "CNI_Facial_e : 33\n",
      "CNI_Oculomotor_e : 33\n",
      "CNI_w1 : 175\n",
      "CNI_Bulbar_w1 : 189\n",
      "CNI_Facial_w1 : 189\n",
      "CNI_Oculomotor_w1 : 189\n",
      "Pain_e : 35\n",
      "Pain_w1 : 171\n",
      "Sens_deficits_e : 40\n",
      "Sens_deficits_w1 : 182\n",
      "Ant_event : 98\n",
      "Ant_event_GE : 1105\n",
      "Ant_event_respiratory : 917\n",
      "Ant_event_vaccination : 1464\n",
      "Ant_event_other : 1429\n",
      "GBSDS_e : 40\n",
      "Able_to_walk_e : 40\n",
      "GBSDS_w1 : 178\n",
      "Able_to_walk_w1 : 178\n",
      "CSF_protein_level : 180\n",
      "Comorbidity_respiration : 32\n",
      "Days_between_onset_and_admission : 40\n",
      "Continent : 0\n",
      "Country_of_inclusion : 0\n",
      "Surv_days : 367\n",
      "Surv_status : 363\n",
      "Surv_unable_to_walk : 0\n",
      "Walking_again : 606\n",
      "Deceased : 0\n",
      "date_hospital : 37\n",
      "date_month : 37\n",
      "country_name : 0\n",
      "klimaat : 0\n",
      "halfrond : 0\n",
      "Seizoen : 37\n"
     ]
    }
   ],
   "source": [
    "for column, dtype in zip(df.columns, df.isna().sum()):\n",
    "    print(column, \":\", dtype)"
   ]
  },
  {
   "cell_type": "code",
   "execution_count": 157,
   "metadata": {},
   "outputs": [
    {
     "data": {
      "text/html": [
       "<div>\n",
       "<style scoped>\n",
       "    .dataframe tbody tr th:only-of-type {\n",
       "        vertical-align: middle;\n",
       "    }\n",
       "\n",
       "    .dataframe tbody tr th {\n",
       "        vertical-align: top;\n",
       "    }\n",
       "\n",
       "    .dataframe thead th {\n",
       "        text-align: right;\n",
       "    }\n",
       "</style>\n",
       "<table border=\"1\" class=\"dataframe\">\n",
       "  <thead>\n",
       "    <tr style=\"text-align: right;\">\n",
       "      <th></th>\n",
       "      <th>Age</th>\n",
       "      <th>Sex</th>\n",
       "      <th>MRC_sum_e</th>\n",
       "      <th>MRC_sum_w1</th>\n",
       "      <th>CNI_e</th>\n",
       "      <th>CNI_Bulbar_e</th>\n",
       "      <th>CNI_Facial_e</th>\n",
       "      <th>CNI_Oculomotor_e</th>\n",
       "      <th>CNI_w1</th>\n",
       "      <th>CNI_Bulbar_w1</th>\n",
       "      <th>...</th>\n",
       "      <th>Surv_status</th>\n",
       "      <th>Surv_unable_to_walk</th>\n",
       "      <th>Walking_again</th>\n",
       "      <th>Deceased</th>\n",
       "      <th>date_hospital</th>\n",
       "      <th>date_month</th>\n",
       "      <th>country_name</th>\n",
       "      <th>klimaat</th>\n",
       "      <th>halfrond</th>\n",
       "      <th>Seizoen</th>\n",
       "    </tr>\n",
       "  </thead>\n",
       "  <tbody>\n",
       "    <tr>\n",
       "      <th>0</th>\n",
       "      <td>75.0</td>\n",
       "      <td>0</td>\n",
       "      <td>50.0</td>\n",
       "      <td>53.0</td>\n",
       "      <td>1.0</td>\n",
       "      <td>0.0</td>\n",
       "      <td>0.0</td>\n",
       "      <td>1.0</td>\n",
       "      <td>1.0</td>\n",
       "      <td>0.0</td>\n",
       "      <td>...</td>\n",
       "      <td>1.0</td>\n",
       "      <td>1</td>\n",
       "      <td>1.0</td>\n",
       "      <td>0</td>\n",
       "      <td>2016-06-16</td>\n",
       "      <td>6.0</td>\n",
       "      <td>Denemarken</td>\n",
       "      <td>C Klimaat</td>\n",
       "      <td>Noordelijk_halfrond</td>\n",
       "      <td>Zomer</td>\n",
       "    </tr>\n",
       "    <tr>\n",
       "      <th>1</th>\n",
       "      <td>22.0</td>\n",
       "      <td>0</td>\n",
       "      <td>50.0</td>\n",
       "      <td>46.0</td>\n",
       "      <td>0.0</td>\n",
       "      <td>0.0</td>\n",
       "      <td>0.0</td>\n",
       "      <td>0.0</td>\n",
       "      <td>0.0</td>\n",
       "      <td>0.0</td>\n",
       "      <td>...</td>\n",
       "      <td>1.0</td>\n",
       "      <td>1</td>\n",
       "      <td>1.0</td>\n",
       "      <td>0</td>\n",
       "      <td>2017-11-22</td>\n",
       "      <td>11.0</td>\n",
       "      <td>Bangladesh</td>\n",
       "      <td>A Klimaat</td>\n",
       "      <td>Noordelijk_halfrond</td>\n",
       "      <td>Herfst</td>\n",
       "    </tr>\n",
       "    <tr>\n",
       "      <th>2</th>\n",
       "      <td>63.0</td>\n",
       "      <td>0</td>\n",
       "      <td>40.0</td>\n",
       "      <td>53.0</td>\n",
       "      <td>0.0</td>\n",
       "      <td>0.0</td>\n",
       "      <td>0.0</td>\n",
       "      <td>0.0</td>\n",
       "      <td>0.0</td>\n",
       "      <td>0.0</td>\n",
       "      <td>...</td>\n",
       "      <td>0.0</td>\n",
       "      <td>1</td>\n",
       "      <td>NaN</td>\n",
       "      <td>0</td>\n",
       "      <td>2020-12-28</td>\n",
       "      <td>12.0</td>\n",
       "      <td>Verenigde Staten</td>\n",
       "      <td>D Klimaat</td>\n",
       "      <td>Noordelijk_halfrond</td>\n",
       "      <td>Winter</td>\n",
       "    </tr>\n",
       "    <tr>\n",
       "      <th>3</th>\n",
       "      <td>30.0</td>\n",
       "      <td>1</td>\n",
       "      <td>60.0</td>\n",
       "      <td>59.0</td>\n",
       "      <td>1.0</td>\n",
       "      <td>1.0</td>\n",
       "      <td>1.0</td>\n",
       "      <td>1.0</td>\n",
       "      <td>1.0</td>\n",
       "      <td>0.0</td>\n",
       "      <td>...</td>\n",
       "      <td>1.0</td>\n",
       "      <td>1</td>\n",
       "      <td>1.0</td>\n",
       "      <td>0</td>\n",
       "      <td>2020-03-30</td>\n",
       "      <td>3.0</td>\n",
       "      <td>Italië</td>\n",
       "      <td>C Klimaat</td>\n",
       "      <td>Noordelijk_halfrond</td>\n",
       "      <td>Lente</td>\n",
       "    </tr>\n",
       "    <tr>\n",
       "      <th>4</th>\n",
       "      <td>48.0</td>\n",
       "      <td>1</td>\n",
       "      <td>39.0</td>\n",
       "      <td>45.0</td>\n",
       "      <td>0.0</td>\n",
       "      <td>0.0</td>\n",
       "      <td>0.0</td>\n",
       "      <td>0.0</td>\n",
       "      <td>1.0</td>\n",
       "      <td>1.0</td>\n",
       "      <td>...</td>\n",
       "      <td>0.0</td>\n",
       "      <td>1</td>\n",
       "      <td>NaN</td>\n",
       "      <td>0</td>\n",
       "      <td>2015-12-28</td>\n",
       "      <td>12.0</td>\n",
       "      <td>Verenigd Koninkrijk</td>\n",
       "      <td>C Klimaat</td>\n",
       "      <td>Noordelijk_halfrond</td>\n",
       "      <td>Winter</td>\n",
       "    </tr>\n",
       "    <tr>\n",
       "      <th>...</th>\n",
       "      <td>...</td>\n",
       "      <td>...</td>\n",
       "      <td>...</td>\n",
       "      <td>...</td>\n",
       "      <td>...</td>\n",
       "      <td>...</td>\n",
       "      <td>...</td>\n",
       "      <td>...</td>\n",
       "      <td>...</td>\n",
       "      <td>...</td>\n",
       "      <td>...</td>\n",
       "      <td>...</td>\n",
       "      <td>...</td>\n",
       "      <td>...</td>\n",
       "      <td>...</td>\n",
       "      <td>...</td>\n",
       "      <td>...</td>\n",
       "      <td>...</td>\n",
       "      <td>...</td>\n",
       "      <td>...</td>\n",
       "      <td>...</td>\n",
       "    </tr>\n",
       "    <tr>\n",
       "      <th>1494</th>\n",
       "      <td>69.0</td>\n",
       "      <td>0</td>\n",
       "      <td>42.0</td>\n",
       "      <td>50.0</td>\n",
       "      <td>0.0</td>\n",
       "      <td>0.0</td>\n",
       "      <td>0.0</td>\n",
       "      <td>0.0</td>\n",
       "      <td>0.0</td>\n",
       "      <td>0.0</td>\n",
       "      <td>...</td>\n",
       "      <td>0.0</td>\n",
       "      <td>1</td>\n",
       "      <td>NaN</td>\n",
       "      <td>0</td>\n",
       "      <td>2016-02-12</td>\n",
       "      <td>2.0</td>\n",
       "      <td>Taiwan</td>\n",
       "      <td>C Klimaat</td>\n",
       "      <td>Noordelijk_halfrond</td>\n",
       "      <td>Winter</td>\n",
       "    </tr>\n",
       "    <tr>\n",
       "      <th>1496</th>\n",
       "      <td>66.0</td>\n",
       "      <td>0</td>\n",
       "      <td>54.0</td>\n",
       "      <td>55.0</td>\n",
       "      <td>1.0</td>\n",
       "      <td>1.0</td>\n",
       "      <td>1.0</td>\n",
       "      <td>0.0</td>\n",
       "      <td>0.0</td>\n",
       "      <td>0.0</td>\n",
       "      <td>...</td>\n",
       "      <td>1.0</td>\n",
       "      <td>1</td>\n",
       "      <td>1.0</td>\n",
       "      <td>0</td>\n",
       "      <td>2017-02-04</td>\n",
       "      <td>2.0</td>\n",
       "      <td>Nederland</td>\n",
       "      <td>C Klimaat</td>\n",
       "      <td>Noordelijk_halfrond</td>\n",
       "      <td>Winter</td>\n",
       "    </tr>\n",
       "    <tr>\n",
       "      <th>1497</th>\n",
       "      <td>67.0</td>\n",
       "      <td>0</td>\n",
       "      <td>33.0</td>\n",
       "      <td>46.0</td>\n",
       "      <td>1.0</td>\n",
       "      <td>1.0</td>\n",
       "      <td>1.0</td>\n",
       "      <td>0.0</td>\n",
       "      <td>1.0</td>\n",
       "      <td>1.0</td>\n",
       "      <td>...</td>\n",
       "      <td>1.0</td>\n",
       "      <td>1</td>\n",
       "      <td>1.0</td>\n",
       "      <td>0</td>\n",
       "      <td>2017-04-30</td>\n",
       "      <td>4.0</td>\n",
       "      <td>Zuid-Afrika</td>\n",
       "      <td>C Klimaat</td>\n",
       "      <td>Zuidelijk_halfrond</td>\n",
       "      <td>Herfst</td>\n",
       "    </tr>\n",
       "    <tr>\n",
       "      <th>1498</th>\n",
       "      <td>35.0</td>\n",
       "      <td>1</td>\n",
       "      <td>1.0</td>\n",
       "      <td>3.0</td>\n",
       "      <td>1.0</td>\n",
       "      <td>1.0</td>\n",
       "      <td>0.0</td>\n",
       "      <td>0.0</td>\n",
       "      <td>1.0</td>\n",
       "      <td>1.0</td>\n",
       "      <td>...</td>\n",
       "      <td>1.0</td>\n",
       "      <td>1</td>\n",
       "      <td>1.0</td>\n",
       "      <td>0</td>\n",
       "      <td>2017-10-03</td>\n",
       "      <td>10.0</td>\n",
       "      <td>Argentinië</td>\n",
       "      <td>C Klimaat</td>\n",
       "      <td>Zuidelijk_halfrond</td>\n",
       "      <td>Lente</td>\n",
       "    </tr>\n",
       "    <tr>\n",
       "      <th>1499</th>\n",
       "      <td>67.0</td>\n",
       "      <td>0</td>\n",
       "      <td>60.0</td>\n",
       "      <td>59.0</td>\n",
       "      <td>1.0</td>\n",
       "      <td>0.0</td>\n",
       "      <td>1.0</td>\n",
       "      <td>0.0</td>\n",
       "      <td>0.0</td>\n",
       "      <td>0.0</td>\n",
       "      <td>...</td>\n",
       "      <td>1.0</td>\n",
       "      <td>1</td>\n",
       "      <td>1.0</td>\n",
       "      <td>0</td>\n",
       "      <td>2016-03-10</td>\n",
       "      <td>3.0</td>\n",
       "      <td>Italië</td>\n",
       "      <td>C Klimaat</td>\n",
       "      <td>Noordelijk_halfrond</td>\n",
       "      <td>Lente</td>\n",
       "    </tr>\n",
       "  </tbody>\n",
       "</table>\n",
       "<p>1325 rows × 41 columns</p>\n",
       "</div>"
      ],
      "text/plain": [
       "       Age  Sex  MRC_sum_e  MRC_sum_w1  CNI_e  CNI_Bulbar_e  CNI_Facial_e  \\\n",
       "0     75.0    0       50.0        53.0    1.0           0.0           0.0   \n",
       "1     22.0    0       50.0        46.0    0.0           0.0           0.0   \n",
       "2     63.0    0       40.0        53.0    0.0           0.0           0.0   \n",
       "3     30.0    1       60.0        59.0    1.0           1.0           1.0   \n",
       "4     48.0    1       39.0        45.0    0.0           0.0           0.0   \n",
       "...    ...  ...        ...         ...    ...           ...           ...   \n",
       "1494  69.0    0       42.0        50.0    0.0           0.0           0.0   \n",
       "1496  66.0    0       54.0        55.0    1.0           1.0           1.0   \n",
       "1497  67.0    0       33.0        46.0    1.0           1.0           1.0   \n",
       "1498  35.0    1        1.0         3.0    1.0           1.0           0.0   \n",
       "1499  67.0    0       60.0        59.0    1.0           0.0           1.0   \n",
       "\n",
       "      CNI_Oculomotor_e  CNI_w1  CNI_Bulbar_w1  ...  Surv_status  \\\n",
       "0                  1.0     1.0            0.0  ...          1.0   \n",
       "1                  0.0     0.0            0.0  ...          1.0   \n",
       "2                  0.0     0.0            0.0  ...          0.0   \n",
       "3                  1.0     1.0            0.0  ...          1.0   \n",
       "4                  0.0     1.0            1.0  ...          0.0   \n",
       "...                ...     ...            ...  ...          ...   \n",
       "1494               0.0     0.0            0.0  ...          0.0   \n",
       "1496               0.0     0.0            0.0  ...          1.0   \n",
       "1497               0.0     1.0            1.0  ...          1.0   \n",
       "1498               0.0     1.0            1.0  ...          1.0   \n",
       "1499               0.0     0.0            0.0  ...          1.0   \n",
       "\n",
       "      Surv_unable_to_walk  Walking_again  Deceased  date_hospital  date_month  \\\n",
       "0                       1            1.0         0     2016-06-16         6.0   \n",
       "1                       1            1.0         0     2017-11-22        11.0   \n",
       "2                       1            NaN         0     2020-12-28        12.0   \n",
       "3                       1            1.0         0     2020-03-30         3.0   \n",
       "4                       1            NaN         0     2015-12-28        12.0   \n",
       "...                   ...            ...       ...            ...         ...   \n",
       "1494                    1            NaN         0     2016-02-12         2.0   \n",
       "1496                    1            1.0         0     2017-02-04         2.0   \n",
       "1497                    1            1.0         0     2017-04-30         4.0   \n",
       "1498                    1            1.0         0     2017-10-03        10.0   \n",
       "1499                    1            1.0         0     2016-03-10         3.0   \n",
       "\n",
       "             country_name    klimaat             halfrond  Seizoen  \n",
       "0              Denemarken  C Klimaat  Noordelijk_halfrond    Zomer  \n",
       "1              Bangladesh  A Klimaat  Noordelijk_halfrond   Herfst  \n",
       "2        Verenigde Staten  D Klimaat  Noordelijk_halfrond   Winter  \n",
       "3                  Italië  C Klimaat  Noordelijk_halfrond    Lente  \n",
       "4     Verenigd Koninkrijk  C Klimaat  Noordelijk_halfrond   Winter  \n",
       "...                   ...        ...                  ...      ...  \n",
       "1494               Taiwan  C Klimaat  Noordelijk_halfrond   Winter  \n",
       "1496            Nederland  C Klimaat  Noordelijk_halfrond   Winter  \n",
       "1497          Zuid-Afrika  C Klimaat   Zuidelijk_halfrond   Herfst  \n",
       "1498           Argentinië  C Klimaat   Zuidelijk_halfrond    Lente  \n",
       "1499               Italië  C Klimaat  Noordelijk_halfrond    Lente  \n",
       "\n",
       "[1325 rows x 41 columns]"
      ]
     },
     "execution_count": 157,
     "metadata": {},
     "output_type": "execute_result"
    }
   ],
   "source": [
    "df = df.dropna(thresh= df.shape[1]-10)\n",
    "df"
   ]
  },
  {
   "cell_type": "code",
   "execution_count": 158,
   "metadata": {},
   "outputs": [
    {
     "name": "stdout",
     "output_type": "stream",
     "text": [
      "Age : 3\n",
      "Sex : 0\n",
      "MRC_sum_e : 16\n",
      "MRC_sum_w1 : 12\n",
      "CNI_e : 0\n",
      "CNI_Bulbar_e : 0\n",
      "CNI_Facial_e : 0\n",
      "CNI_Oculomotor_e : 0\n",
      "CNI_w1 : 4\n",
      "CNI_Bulbar_w1 : 18\n",
      "CNI_Facial_w1 : 18\n",
      "CNI_Oculomotor_w1 : 18\n",
      "Pain_e : 4\n",
      "Pain_w1 : 3\n",
      "Sens_deficits_e : 8\n",
      "Sens_deficits_w1 : 11\n",
      "Ant_event : 83\n",
      "Ant_event_GE : 967\n",
      "Ant_event_respiratory : 813\n",
      "Ant_event_vaccination : 1297\n",
      "Ant_event_other : 1259\n",
      "GBSDS_e : 8\n",
      "Able_to_walk_e : 8\n",
      "GBSDS_w1 : 10\n",
      "Able_to_walk_w1 : 10\n",
      "CSF_protein_level : 154\n",
      "Comorbidity_respiration : 4\n",
      "Days_between_onset_and_admission : 7\n",
      "Continent : 0\n",
      "Country_of_inclusion : 0\n",
      "Surv_days : 276\n",
      "Surv_status : 287\n",
      "Surv_unable_to_walk : 0\n",
      "Walking_again : 480\n",
      "Deceased : 0\n",
      "date_hospital : 7\n",
      "date_month : 7\n",
      "country_name : 0\n",
      "klimaat : 0\n",
      "halfrond : 0\n",
      "Seizoen : 7\n"
     ]
    }
   ],
   "source": [
    "for column, dtype in zip(df.columns, df.isna().sum()):\n",
    "    print(column, \":\", dtype)"
   ]
  },
  {
   "cell_type": "code",
   "execution_count": 159,
   "metadata": {},
   "outputs": [
    {
     "data": {
      "text/plain": [
       "1242"
      ]
     },
     "execution_count": 159,
     "metadata": {},
     "output_type": "execute_result"
    }
   ],
   "source": [
    "df[df['Ant_event'].isna() == False]['Ant_event'].count()"
   ]
  },
  {
   "cell_type": "code",
   "execution_count": 160,
   "metadata": {},
   "outputs": [
    {
     "data": {
      "text/plain": [
       "358"
      ]
     },
     "execution_count": 160,
     "metadata": {},
     "output_type": "execute_result"
    }
   ],
   "source": [
    "df[df['Ant_event_GE'].isna() == False]['Ant_event_GE'].count()"
   ]
  },
  {
   "cell_type": "code",
   "execution_count": 161,
   "metadata": {},
   "outputs": [
    {
     "data": {
      "text/plain": [
       "0       1.0\n",
       "1       NaN\n",
       "2       NaN\n",
       "3       NaN\n",
       "4       1.0\n",
       "       ... \n",
       "1494    NaN\n",
       "1496    NaN\n",
       "1497    NaN\n",
       "1498    NaN\n",
       "1499    NaN\n",
       "Name: Ant_event_GE, Length: 1325, dtype: float64"
      ]
     },
     "execution_count": 161,
     "metadata": {},
     "output_type": "execute_result"
    }
   ],
   "source": [
    "df['Ant_event_GE']"
   ]
  },
  {
   "cell_type": "code",
   "execution_count": 162,
   "metadata": {},
   "outputs": [
    {
     "data": {
      "text/plain": [
       "1.0    950\n",
       "0.0    292\n",
       "Name: Ant_event, dtype: int64"
      ]
     },
     "execution_count": 162,
     "metadata": {},
     "output_type": "execute_result"
    }
   ],
   "source": [
    "df['Ant_event'].value_counts()"
   ]
  },
  {
   "cell_type": "code",
   "execution_count": 163,
   "metadata": {},
   "outputs": [
    {
     "data": {
      "text/plain": [
       "967"
      ]
     },
     "execution_count": 163,
     "metadata": {},
     "output_type": "execute_result"
    }
   ],
   "source": [
    "df['Ant_event_GE'].isna().sum()"
   ]
  },
  {
   "cell_type": "code",
   "execution_count": 164,
   "metadata": {},
   "outputs": [
    {
     "data": {
      "text/plain": [
       "1.0    358\n",
       "Name: Ant_event_GE, dtype: int64"
      ]
     },
     "execution_count": 164,
     "metadata": {},
     "output_type": "execute_result"
    }
   ],
   "source": [
    "df['Ant_event_GE'].value_counts()"
   ]
  },
  {
   "cell_type": "code",
   "execution_count": 165,
   "metadata": {},
   "outputs": [],
   "source": [
    "df['Ant_event_GE'] = df['Ant_event_GE'].fillna(df['Ant_event'].\n",
    "                                               where(df['Ant_event'] <2, other=pd.NA).replace(1, 0))"
   ]
  },
  {
   "cell_type": "code",
   "execution_count": 166,
   "metadata": {},
   "outputs": [
    {
     "data": {
      "text/plain": [
       "83"
      ]
     },
     "execution_count": 166,
     "metadata": {},
     "output_type": "execute_result"
    }
   ],
   "source": [
    "df['Ant_event_GE'].isna().sum()"
   ]
  },
  {
   "cell_type": "code",
   "execution_count": 167,
   "metadata": {},
   "outputs": [
    {
     "data": {
      "text/plain": [
       "0.0    884\n",
       "1.0    358\n",
       "Name: Ant_event_GE, dtype: int64"
      ]
     },
     "execution_count": 167,
     "metadata": {},
     "output_type": "execute_result"
    }
   ],
   "source": [
    "df['Ant_event_GE'].value_counts()\n"
   ]
  },
  {
   "cell_type": "code",
   "execution_count": 168,
   "metadata": {},
   "outputs": [],
   "source": [
    "df['Ant_event_respiratory'] = df['Ant_event_respiratory'].fillna(df['Ant_event'].\n",
    "                                               where(df['Ant_event'] <2, other=pd.NA).replace(1, 0))"
   ]
  },
  {
   "cell_type": "code",
   "execution_count": 169,
   "metadata": {},
   "outputs": [],
   "source": [
    "df['Ant_event_vaccination'] = df['Ant_event_vaccination'].fillna(df['Ant_event'].\n",
    "                                               where(df['Ant_event'] <2, other=pd.NA).replace(1, 0))"
   ]
  },
  {
   "cell_type": "code",
   "execution_count": 170,
   "metadata": {},
   "outputs": [],
   "source": [
    "df['Ant_event_other'] = df['Ant_event_other'].fillna(df['Ant_event'].\n",
    "                                               where(df['Ant_event'] <2, other=pd.NA).replace(1, 0))"
   ]
  },
  {
   "cell_type": "markdown",
   "metadata": {},
   "source": []
  },
  {
   "cell_type": "code",
   "execution_count": 171,
   "metadata": {},
   "outputs": [
    {
     "name": "stdout",
     "output_type": "stream",
     "text": [
      "Age : 3\n",
      "Sex : 0\n",
      "MRC_sum_e : 16\n",
      "MRC_sum_w1 : 12\n",
      "CNI_e : 0\n",
      "CNI_Bulbar_e : 0\n",
      "CNI_Facial_e : 0\n",
      "CNI_Oculomotor_e : 0\n",
      "CNI_w1 : 4\n",
      "CNI_Bulbar_w1 : 18\n",
      "CNI_Facial_w1 : 18\n",
      "CNI_Oculomotor_w1 : 18\n",
      "Pain_e : 4\n",
      "Pain_w1 : 3\n",
      "Sens_deficits_e : 8\n",
      "Sens_deficits_w1 : 11\n",
      "Ant_event : 83\n",
      "Ant_event_GE : 83\n",
      "Ant_event_respiratory : 83\n",
      "Ant_event_vaccination : 83\n",
      "Ant_event_other : 83\n",
      "GBSDS_e : 8\n",
      "Able_to_walk_e : 8\n",
      "GBSDS_w1 : 10\n",
      "Able_to_walk_w1 : 10\n",
      "CSF_protein_level : 154\n",
      "Comorbidity_respiration : 4\n",
      "Days_between_onset_and_admission : 7\n",
      "Continent : 0\n",
      "Country_of_inclusion : 0\n",
      "Surv_days : 276\n",
      "Surv_status : 287\n",
      "Surv_unable_to_walk : 0\n",
      "Walking_again : 480\n",
      "Deceased : 0\n",
      "date_hospital : 7\n",
      "date_month : 7\n",
      "country_name : 0\n",
      "klimaat : 0\n",
      "halfrond : 0\n",
      "Seizoen : 7\n"
     ]
    }
   ],
   "source": [
    "for column, dtype in zip(df.columns, df.isna().sum()):\n",
    "    print(column, \":\", dtype)"
   ]
  },
  {
   "cell_type": "code",
   "execution_count": 172,
   "metadata": {},
   "outputs": [],
   "source": [
    "df_2  = df[['Able_to_walk_e','Able_to_walk_w1','Surv_unable_to_walk','Walking_again']]"
   ]
  },
  {
   "cell_type": "code",
   "execution_count": 173,
   "metadata": {},
   "outputs": [
    {
     "data": {
      "text/html": [
       "<div>\n",
       "<style scoped>\n",
       "    .dataframe tbody tr th:only-of-type {\n",
       "        vertical-align: middle;\n",
       "    }\n",
       "\n",
       "    .dataframe tbody tr th {\n",
       "        vertical-align: top;\n",
       "    }\n",
       "\n",
       "    .dataframe thead th {\n",
       "        text-align: right;\n",
       "    }\n",
       "</style>\n",
       "<table border=\"1\" class=\"dataframe\">\n",
       "  <thead>\n",
       "    <tr style=\"text-align: right;\">\n",
       "      <th></th>\n",
       "      <th>Able_to_walk_e</th>\n",
       "      <th>Able_to_walk_w1</th>\n",
       "      <th>Surv_unable_to_walk</th>\n",
       "      <th>Walking_again</th>\n",
       "    </tr>\n",
       "  </thead>\n",
       "  <tbody>\n",
       "    <tr>\n",
       "      <th>0</th>\n",
       "      <td>0.0</td>\n",
       "      <td>0.0</td>\n",
       "      <td>1</td>\n",
       "      <td>1.0</td>\n",
       "    </tr>\n",
       "    <tr>\n",
       "      <th>1</th>\n",
       "      <td>0.0</td>\n",
       "      <td>0.0</td>\n",
       "      <td>1</td>\n",
       "      <td>1.0</td>\n",
       "    </tr>\n",
       "    <tr>\n",
       "      <th>2</th>\n",
       "      <td>0.0</td>\n",
       "      <td>0.0</td>\n",
       "      <td>1</td>\n",
       "      <td>NaN</td>\n",
       "    </tr>\n",
       "    <tr>\n",
       "      <th>3</th>\n",
       "      <td>0.0</td>\n",
       "      <td>1.0</td>\n",
       "      <td>1</td>\n",
       "      <td>1.0</td>\n",
       "    </tr>\n",
       "    <tr>\n",
       "      <th>4</th>\n",
       "      <td>0.0</td>\n",
       "      <td>0.0</td>\n",
       "      <td>1</td>\n",
       "      <td>NaN</td>\n",
       "    </tr>\n",
       "    <tr>\n",
       "      <th>...</th>\n",
       "      <td>...</td>\n",
       "      <td>...</td>\n",
       "      <td>...</td>\n",
       "      <td>...</td>\n",
       "    </tr>\n",
       "    <tr>\n",
       "      <th>1494</th>\n",
       "      <td>0.0</td>\n",
       "      <td>0.0</td>\n",
       "      <td>1</td>\n",
       "      <td>NaN</td>\n",
       "    </tr>\n",
       "    <tr>\n",
       "      <th>1496</th>\n",
       "      <td>0.0</td>\n",
       "      <td>0.0</td>\n",
       "      <td>1</td>\n",
       "      <td>1.0</td>\n",
       "    </tr>\n",
       "    <tr>\n",
       "      <th>1497</th>\n",
       "      <td>0.0</td>\n",
       "      <td>0.0</td>\n",
       "      <td>1</td>\n",
       "      <td>1.0</td>\n",
       "    </tr>\n",
       "    <tr>\n",
       "      <th>1498</th>\n",
       "      <td>0.0</td>\n",
       "      <td>0.0</td>\n",
       "      <td>1</td>\n",
       "      <td>1.0</td>\n",
       "    </tr>\n",
       "    <tr>\n",
       "      <th>1499</th>\n",
       "      <td>0.0</td>\n",
       "      <td>0.0</td>\n",
       "      <td>1</td>\n",
       "      <td>1.0</td>\n",
       "    </tr>\n",
       "  </tbody>\n",
       "</table>\n",
       "<p>1325 rows × 4 columns</p>\n",
       "</div>"
      ],
      "text/plain": [
       "      Able_to_walk_e  Able_to_walk_w1  Surv_unable_to_walk  Walking_again\n",
       "0                0.0              0.0                    1            1.0\n",
       "1                0.0              0.0                    1            1.0\n",
       "2                0.0              0.0                    1            NaN\n",
       "3                0.0              1.0                    1            1.0\n",
       "4                0.0              0.0                    1            NaN\n",
       "...              ...              ...                  ...            ...\n",
       "1494             0.0              0.0                    1            NaN\n",
       "1496             0.0              0.0                    1            1.0\n",
       "1497             0.0              0.0                    1            1.0\n",
       "1498             0.0              0.0                    1            1.0\n",
       "1499             0.0              0.0                    1            1.0\n",
       "\n",
       "[1325 rows x 4 columns]"
      ]
     },
     "execution_count": 173,
     "metadata": {},
     "output_type": "execute_result"
    }
   ],
   "source": [
    "df_2"
   ]
  },
  {
   "cell_type": "code",
   "execution_count": 174,
   "metadata": {},
   "outputs": [],
   "source": [
    "df_lopers = df_2[df_2['Surv_unable_to_walk'] == 0]"
   ]
  },
  {
   "cell_type": "code",
   "execution_count": 175,
   "metadata": {},
   "outputs": [
    {
     "name": "stdout",
     "output_type": "stream",
     "text": [
      "1.0    268\n",
      "Name: Able_to_walk_e, dtype: int64 \n",
      " 1.0    268\n",
      "Name: Able_to_walk_w1, dtype: int64 \n",
      " 0    270\n",
      "Name: Surv_unable_to_walk, dtype: int64 \n",
      " walking_again Series([], Name: Walking_again, dtype: int64)\n"
     ]
    }
   ],
   "source": [
    "print(df_lopers['Able_to_walk_e'].value_counts(), '\\n',\n",
    "    df_lopers['Able_to_walk_w1'].value_counts(), '\\n',\n",
    "    df_lopers['Surv_unable_to_walk'].value_counts(), '\\n',\n",
    "    'walking_again', df_lopers['Walking_again'].value_counts())\n"
   ]
  },
  {
   "cell_type": "code",
   "execution_count": 176,
   "metadata": {},
   "outputs": [],
   "source": [
    "df_NietLopers = df_2[df_2['Surv_unable_to_walk'] == 1]"
   ]
  },
  {
   "cell_type": "code",
   "execution_count": 177,
   "metadata": {},
   "outputs": [
    {
     "data": {
      "text/html": [
       "<div>\n",
       "<style scoped>\n",
       "    .dataframe tbody tr th:only-of-type {\n",
       "        vertical-align: middle;\n",
       "    }\n",
       "\n",
       "    .dataframe tbody tr th {\n",
       "        vertical-align: top;\n",
       "    }\n",
       "\n",
       "    .dataframe thead th {\n",
       "        text-align: right;\n",
       "    }\n",
       "</style>\n",
       "<table border=\"1\" class=\"dataframe\">\n",
       "  <thead>\n",
       "    <tr style=\"text-align: right;\">\n",
       "      <th></th>\n",
       "      <th>Able_to_walk_e</th>\n",
       "      <th>Able_to_walk_w1</th>\n",
       "      <th>Surv_unable_to_walk</th>\n",
       "      <th>Walking_again</th>\n",
       "    </tr>\n",
       "  </thead>\n",
       "  <tbody>\n",
       "    <tr>\n",
       "      <th>0</th>\n",
       "      <td>0.0</td>\n",
       "      <td>0.0</td>\n",
       "      <td>1</td>\n",
       "      <td>1.0</td>\n",
       "    </tr>\n",
       "    <tr>\n",
       "      <th>1</th>\n",
       "      <td>0.0</td>\n",
       "      <td>0.0</td>\n",
       "      <td>1</td>\n",
       "      <td>1.0</td>\n",
       "    </tr>\n",
       "    <tr>\n",
       "      <th>2</th>\n",
       "      <td>0.0</td>\n",
       "      <td>0.0</td>\n",
       "      <td>1</td>\n",
       "      <td>NaN</td>\n",
       "    </tr>\n",
       "    <tr>\n",
       "      <th>3</th>\n",
       "      <td>0.0</td>\n",
       "      <td>1.0</td>\n",
       "      <td>1</td>\n",
       "      <td>1.0</td>\n",
       "    </tr>\n",
       "    <tr>\n",
       "      <th>4</th>\n",
       "      <td>0.0</td>\n",
       "      <td>0.0</td>\n",
       "      <td>1</td>\n",
       "      <td>NaN</td>\n",
       "    </tr>\n",
       "    <tr>\n",
       "      <th>...</th>\n",
       "      <td>...</td>\n",
       "      <td>...</td>\n",
       "      <td>...</td>\n",
       "      <td>...</td>\n",
       "    </tr>\n",
       "    <tr>\n",
       "      <th>1494</th>\n",
       "      <td>0.0</td>\n",
       "      <td>0.0</td>\n",
       "      <td>1</td>\n",
       "      <td>NaN</td>\n",
       "    </tr>\n",
       "    <tr>\n",
       "      <th>1496</th>\n",
       "      <td>0.0</td>\n",
       "      <td>0.0</td>\n",
       "      <td>1</td>\n",
       "      <td>1.0</td>\n",
       "    </tr>\n",
       "    <tr>\n",
       "      <th>1497</th>\n",
       "      <td>0.0</td>\n",
       "      <td>0.0</td>\n",
       "      <td>1</td>\n",
       "      <td>1.0</td>\n",
       "    </tr>\n",
       "    <tr>\n",
       "      <th>1498</th>\n",
       "      <td>0.0</td>\n",
       "      <td>0.0</td>\n",
       "      <td>1</td>\n",
       "      <td>1.0</td>\n",
       "    </tr>\n",
       "    <tr>\n",
       "      <th>1499</th>\n",
       "      <td>0.0</td>\n",
       "      <td>0.0</td>\n",
       "      <td>1</td>\n",
       "      <td>1.0</td>\n",
       "    </tr>\n",
       "  </tbody>\n",
       "</table>\n",
       "<p>1055 rows × 4 columns</p>\n",
       "</div>"
      ],
      "text/plain": [
       "      Able_to_walk_e  Able_to_walk_w1  Surv_unable_to_walk  Walking_again\n",
       "0                0.0              0.0                    1            1.0\n",
       "1                0.0              0.0                    1            1.0\n",
       "2                0.0              0.0                    1            NaN\n",
       "3                0.0              1.0                    1            1.0\n",
       "4                0.0              0.0                    1            NaN\n",
       "...              ...              ...                  ...            ...\n",
       "1494             0.0              0.0                    1            NaN\n",
       "1496             0.0              0.0                    1            1.0\n",
       "1497             0.0              0.0                    1            1.0\n",
       "1498             0.0              0.0                    1            1.0\n",
       "1499             0.0              0.0                    1            1.0\n",
       "\n",
       "[1055 rows x 4 columns]"
      ]
     },
     "execution_count": 177,
     "metadata": {},
     "output_type": "execute_result"
    }
   ],
   "source": [
    "df_NietLopers"
   ]
  },
  {
   "cell_type": "code",
   "execution_count": 178,
   "metadata": {},
   "outputs": [
    {
     "name": "stdout",
     "output_type": "stream",
     "text": [
      "0.0    982\n",
      "1.0    335\n",
      "Name: Able_to_walk_e, dtype: int64 \n",
      " 0.0    907\n",
      "1.0    408\n",
      "Name: Able_to_walk_w1, dtype: int64\n"
     ]
    }
   ],
   "source": [
    "print(df['Able_to_walk_e'].value_counts(), '\\n',\n",
    "      df['Able_to_walk_w1'].value_counts())"
   ]
  },
  {
   "cell_type": "code",
   "execution_count": 179,
   "metadata": {},
   "outputs": [],
   "source": [
    "df['Able_to_walk_e'] = df['Able_to_walk_e'].fillna(df['Surv_unable_to_walk'].\n",
    "                                               where(df['Surv_unable_to_walk'] == 0, other=pd.NA).replace(0, 1))"
   ]
  },
  {
   "cell_type": "code",
   "execution_count": 180,
   "metadata": {},
   "outputs": [],
   "source": [
    "df['Able_to_walk_w1'] = df['Able_to_walk_w1'].fillna(df['Surv_unable_to_walk'].\n",
    "                                               where(df['Surv_unable_to_walk'] == 0, other=pd.NA).replace(0, 1))"
   ]
  },
  {
   "cell_type": "code",
   "execution_count": 181,
   "metadata": {},
   "outputs": [
    {
     "name": "stdout",
     "output_type": "stream",
     "text": [
      "0.0    982\n",
      "1.0    337\n",
      "Name: Able_to_walk_e, dtype: int64 \n",
      " 0.0    907\n",
      "1.0    410\n",
      "Name: Able_to_walk_w1, dtype: int64\n"
     ]
    }
   ],
   "source": [
    "print(df['Able_to_walk_e'].value_counts(), '\\n',\n",
    "      df['Able_to_walk_w1'].value_counts())"
   ]
  },
  {
   "cell_type": "code",
   "execution_count": 182,
   "metadata": {},
   "outputs": [],
   "source": [
    "df['Surv_status'] = df['Surv_status'].fillna(0)"
   ]
  },
  {
   "cell_type": "code",
   "execution_count": 183,
   "metadata": {},
   "outputs": [
    {
     "name": "stdout",
     "output_type": "stream",
     "text": [
      "Age : 3\n",
      "Sex : 0\n",
      "MRC_sum_e : 16\n",
      "MRC_sum_w1 : 12\n",
      "CNI_e : 0\n",
      "CNI_Bulbar_e : 0\n",
      "CNI_Facial_e : 0\n",
      "CNI_Oculomotor_e : 0\n",
      "CNI_w1 : 4\n",
      "CNI_Bulbar_w1 : 18\n",
      "CNI_Facial_w1 : 18\n",
      "CNI_Oculomotor_w1 : 18\n",
      "Pain_e : 4\n",
      "Pain_w1 : 3\n",
      "Sens_deficits_e : 8\n",
      "Sens_deficits_w1 : 11\n",
      "Ant_event : 83\n",
      "Ant_event_GE : 83\n",
      "Ant_event_respiratory : 83\n",
      "Ant_event_vaccination : 83\n",
      "Ant_event_other : 83\n",
      "GBSDS_e : 8\n",
      "Able_to_walk_e : 6\n",
      "GBSDS_w1 : 10\n",
      "Able_to_walk_w1 : 8\n",
      "CSF_protein_level : 154\n",
      "Comorbidity_respiration : 4\n",
      "Days_between_onset_and_admission : 7\n",
      "Continent : 0\n",
      "Country_of_inclusion : 0\n",
      "Surv_days : 276\n",
      "Surv_status : 0\n",
      "Surv_unable_to_walk : 0\n",
      "Walking_again : 480\n",
      "Deceased : 0\n",
      "date_hospital : 7\n",
      "date_month : 7\n",
      "country_name : 0\n",
      "klimaat : 0\n",
      "halfrond : 0\n",
      "Seizoen : 7\n"
     ]
    }
   ],
   "source": [
    "for column, dtype in zip(df.columns, df.isna().sum()):\n",
    "    print(column, \":\", dtype)"
   ]
  },
  {
   "cell_type": "code",
   "execution_count": null,
   "metadata": {},
   "outputs": [],
   "source": []
  },
  {
   "cell_type": "code",
   "execution_count": null,
   "metadata": {},
   "outputs": [],
   "source": []
  },
  {
   "cell_type": "code",
   "execution_count": 184,
   "metadata": {},
   "outputs": [
    {
     "data": {
      "text/html": [
       "<div>\n",
       "<style scoped>\n",
       "    .dataframe tbody tr th:only-of-type {\n",
       "        vertical-align: middle;\n",
       "    }\n",
       "\n",
       "    .dataframe tbody tr th {\n",
       "        vertical-align: top;\n",
       "    }\n",
       "\n",
       "    .dataframe thead th {\n",
       "        text-align: right;\n",
       "    }\n",
       "</style>\n",
       "<table border=\"1\" class=\"dataframe\">\n",
       "  <thead>\n",
       "    <tr style=\"text-align: right;\">\n",
       "      <th>Seizoen</th>\n",
       "      <th>Herfst</th>\n",
       "      <th>Lente</th>\n",
       "      <th>Winter</th>\n",
       "      <th>Zomer</th>\n",
       "    </tr>\n",
       "    <tr>\n",
       "      <th>klimaat</th>\n",
       "      <th></th>\n",
       "      <th></th>\n",
       "      <th></th>\n",
       "      <th></th>\n",
       "    </tr>\n",
       "  </thead>\n",
       "  <tbody>\n",
       "    <tr>\n",
       "      <th>A Klimaat</th>\n",
       "      <td>47</td>\n",
       "      <td>58</td>\n",
       "      <td>57</td>\n",
       "      <td>43</td>\n",
       "    </tr>\n",
       "    <tr>\n",
       "      <th>B Klimaat</th>\n",
       "      <td>20</td>\n",
       "      <td>24</td>\n",
       "      <td>27</td>\n",
       "      <td>18</td>\n",
       "    </tr>\n",
       "    <tr>\n",
       "      <th>C Klimaat</th>\n",
       "      <td>175</td>\n",
       "      <td>218</td>\n",
       "      <td>271</td>\n",
       "      <td>208</td>\n",
       "    </tr>\n",
       "    <tr>\n",
       "      <th>D Klimaat</th>\n",
       "      <td>38</td>\n",
       "      <td>33</td>\n",
       "      <td>47</td>\n",
       "      <td>34</td>\n",
       "    </tr>\n",
       "  </tbody>\n",
       "</table>\n",
       "</div>"
      ],
      "text/plain": [
       "Seizoen    Herfst  Lente  Winter  Zomer\n",
       "klimaat                                \n",
       "A Klimaat      47     58      57     43\n",
       "B Klimaat      20     24      27     18\n",
       "C Klimaat     175    218     271    208\n",
       "D Klimaat      38     33      47     34"
      ]
     },
     "execution_count": 184,
     "metadata": {},
     "output_type": "execute_result"
    }
   ],
   "source": [
    "freq_table = pd.crosstab(df['klimaat'], df['Seizoen']) \n",
    "freq_table"
   ]
  },
  {
   "cell_type": "code",
   "execution_count": 185,
   "metadata": {},
   "outputs": [],
   "source": [
    "df_A = df[df['klimaat'] == 'A Klimaat']\n",
    "df_B = df[df['klimaat'] == 'B Klimaat']\n",
    "df_C = df[df['klimaat'] == 'C Klimaat']\n",
    "df_D = df[df['klimaat'] == 'D Klimaat']"
   ]
  },
  {
   "cell_type": "code",
   "execution_count": 186,
   "metadata": {},
   "outputs": [
    {
     "name": "stdout",
     "output_type": "stream",
     "text": [
      "A Klimaat    206\n",
      "Name: klimaat, dtype: int64\n",
      "B Klimaat    90\n",
      "Name: klimaat, dtype: int64\n",
      "C Klimaat    875\n",
      "Name: klimaat, dtype: int64\n",
      "D Klimaat    154\n",
      "Name: klimaat, dtype: int64\n"
     ]
    }
   ],
   "source": [
    "dataframes_klimaat = [df_A, df_B, df_C, df_D]\n",
    "for i in dataframes_klimaat:\n",
    "    print(i['klimaat'].value_counts()) \n",
    "    "
   ]
  },
  {
   "cell_type": "markdown",
   "metadata": {},
   "source": [
    "Uit deze code is te zien dat alle klimaten op juiste wijze zijn gesplitst"
   ]
  },
  {
   "cell_type": "code",
   "execution_count": 187,
   "metadata": {},
   "outputs": [],
   "source": [
    "df_lente = df[df['Seizoen'] == 'Lente']\n",
    "df_zomer = df[df['Seizoen'] == 'Zomer']\n",
    "df_herfst = df[df['Seizoen'] == 'Herfst']\n",
    "df_winter = df[df['Seizoen'] == 'Winter']"
   ]
  },
  {
   "cell_type": "code",
   "execution_count": 188,
   "metadata": {},
   "outputs": [
    {
     "name": "stdout",
     "output_type": "stream",
     "text": [
      "Lente    333\n",
      "Name: Seizoen, dtype: int64\n",
      "Zomer    303\n",
      "Name: Seizoen, dtype: int64\n",
      "Herfst    280\n",
      "Name: Seizoen, dtype: int64\n",
      "Winter    402\n",
      "Name: Seizoen, dtype: int64\n"
     ]
    }
   ],
   "source": [
    "dataframes_seizoen = [df_lente, df_zomer, df_herfst, df_winter]\n",
    "for i in dataframes_seizoen:\n",
    "    print(i['Seizoen'].value_counts()) \n",
    "    "
   ]
  },
  {
   "cell_type": "code",
   "execution_count": null,
   "metadata": {},
   "outputs": [],
   "source": [
    "\n",
    "    "
   ]
  },
  {
   "cell_type": "code",
   "execution_count": 189,
   "metadata": {},
   "outputs": [
    {
     "name": "stdout",
     "output_type": "stream",
     "text": [
      "Seizoen   Herfst  Lente  Winter  Zomer\n",
      "Deceased                              \n",
      "0             44     58      55     40\n",
      "1              3      0       2      3 \n",
      "\n",
      "Seizoen   Herfst  Lente  Winter  Zomer\n",
      "Deceased                              \n",
      "0             19     24      26     18\n",
      "1              1      0       1      0 \n",
      "\n",
      "Seizoen   Herfst  Lente  Winter  Zomer\n",
      "Deceased                              \n",
      "0            168    208     261    200\n",
      "1              7     10      10      8 \n",
      "\n",
      "Seizoen   Herfst  Lente  Winter  Zomer\n",
      "Deceased                              \n",
      "0             38     32      47     32\n",
      "1              0      1       0      2 \n",
      "\n"
     ]
    }
   ],
   "source": [
    "for dateframe in dataframes_klimaat:\n",
    "    freq_table = pd.crosstab(dateframe['Deceased'], dateframe['Seizoen']) \n",
    "    print(freq_table, '\\n')\n",
    "  "
   ]
  },
  {
   "cell_type": "markdown",
   "metadata": {},
   "source": [
    "Wat in deze tabel is te zien dat er te weinig waarden apart zijn om de chi-kwadraat toets uit te voeren, daarom wordt voor het geheel de chi-kwadraat en voor C klimaat de test uitgevoerd. Omdat dit geen 2 bij 2 matrices zijn mag de fishers exact toets ook niet worden uitgevoerd"
   ]
  },
  {
   "cell_type": "code",
   "execution_count": 190,
   "metadata": {},
   "outputs": [
    {
     "data": {
      "text/plain": [
       "(0.7282704121038908,\n",
       " 0.8665351698920313,\n",
       " 3,\n",
       " array([[269.80273141,  10.19726859],\n",
       "        [320.87253414,  12.12746586],\n",
       "        [387.35963581,  14.64036419],\n",
       "        [291.96509863,  11.03490137]]))"
      ]
     },
     "execution_count": 190,
     "metadata": {},
     "output_type": "execute_result"
    }
   ],
   "source": [
    "Seizoen_dood = pd.crosstab(df['Seizoen'], df['Deceased'])\n",
    "stats.chi2_contingency(Seizoen_dood)"
   ]
  },
  {
   "cell_type": "code",
   "execution_count": 191,
   "metadata": {},
   "outputs": [
    {
     "data": {
      "text/plain": [
       "(0.2750069819875797,\n",
       " 0.9646583492928525,\n",
       " 3,\n",
       " array([[167.97591743,   7.02408257],\n",
       "        [209.25      ,   8.75      ],\n",
       "        [260.12270642,  10.87729358],\n",
       "        [199.65137615,   8.34862385]]))"
      ]
     },
     "execution_count": 191,
     "metadata": {},
     "output_type": "execute_result"
    }
   ],
   "source": [
    "Seizoen_dood = pd.crosstab(df_C['Seizoen'], df_C['Deceased'])\n",
    "stats.chi2_contingency(Seizoen_dood)"
   ]
  },
  {
   "cell_type": "code",
   "execution_count": null,
   "metadata": {},
   "outputs": [],
   "source": []
  },
  {
   "cell_type": "markdown",
   "metadata": {},
   "source": []
  },
  {
   "cell_type": "code",
   "execution_count": 192,
   "metadata": {},
   "outputs": [
    {
     "name": "stdout",
     "output_type": "stream",
     "text": [
      "Seizoen      Herfst  Lente  Winter  Zomer\n",
      "Surv_status                              \n",
      "0.0              11     15      13     11\n",
      "1.0              33     43      42     29\n",
      "2.0               3      0       2      3 \n",
      "\n",
      "Seizoen      Herfst  Lente  Winter  Zomer\n",
      "Surv_status                              \n",
      "0.0               7     11       7     10\n",
      "1.0              12     13      19      8\n",
      "2.0               1      0       1      0 \n",
      "\n",
      "Seizoen      Herfst  Lente  Winter  Zomer\n",
      "Surv_status                              \n",
      "0.0              52     73      90     81\n",
      "1.0             116    135     171    119\n",
      "2.0               7     10      10      8 \n",
      "\n",
      "Seizoen      Herfst  Lente  Winter  Zomer\n",
      "Surv_status                              \n",
      "0.0              14     15      15      5\n",
      "1.0              24     17      32     27\n",
      "2.0               0      1       0      2 \n",
      "\n"
     ]
    }
   ],
   "source": [
    "for dateframe in dataframes_klimaat:\n",
    "    freq_table = pd.crosstab(dateframe['Surv_status'], dateframe['Seizoen']) \n",
    "    print(freq_table, '\\n')"
   ]
  },
  {
   "cell_type": "markdown",
   "metadata": {},
   "source": [
    "Voor de surv_status geldt hetzelfde al voor deceaced"
   ]
  },
  {
   "cell_type": "code",
   "execution_count": 193,
   "metadata": {},
   "outputs": [
    {
     "data": {
      "text/plain": [
       "(3.6084050021635243,\n",
       " 0.7294954618148062,\n",
       " 6,\n",
       " array([[ 91.35053111, 178.4522003 ,  10.19726859],\n",
       "        [108.64188164, 212.2306525 ,  12.12746586],\n",
       "        [131.15326252, 256.20637329,  14.64036419],\n",
       "        [ 98.85432473, 193.1107739 ,  11.03490137]]))"
      ]
     },
     "execution_count": 193,
     "metadata": {},
     "output_type": "execute_result"
    }
   ],
   "source": [
    "Seizoen_surv_status = pd.crosstab(df['Seizoen'], df['Surv_status'])\n",
    "stats.chi2_contingency(Seizoen_surv_status)"
   ]
  },
  {
   "cell_type": "code",
   "execution_count": 194,
   "metadata": {},
   "outputs": [
    {
     "data": {
      "text/plain": [
       "(4.113168019450811,\n",
       " 0.6613648188238734,\n",
       " 6,\n",
       " array([[ 59.40366972, 108.57224771,   7.02408257],\n",
       "        [ 74.        , 135.25      ,   8.75      ],\n",
       "        [ 91.99082569, 168.13188073,  10.87729358],\n",
       "        [ 70.60550459, 129.04587156,   8.34862385]]))"
      ]
     },
     "execution_count": 194,
     "metadata": {},
     "output_type": "execute_result"
    }
   ],
   "source": [
    "Seizoen_surv_status = pd.crosstab(df_C['Seizoen'], df_C['Surv_status'])\n",
    "stats.chi2_contingency(Seizoen_surv_status)"
   ]
  },
  {
   "cell_type": "markdown",
   "metadata": {},
   "source": [
    "Algemene CNI"
   ]
  },
  {
   "cell_type": "code",
   "execution_count": 195,
   "metadata": {},
   "outputs": [
    {
     "name": "stdout",
     "output_type": "stream",
     "text": [
      "Seizoen  Herfst  Lente  Winter  Zomer\n",
      "CNI_e                                \n",
      "0.0          30     27      30     20\n",
      "1.0          17     31      27     23 \n",
      "\n",
      "Seizoen  Herfst  Lente  Winter  Zomer\n",
      "CNI_e                                \n",
      "0.0          13     15      14     12\n",
      "1.0           7      9      13      6 \n",
      "\n",
      "Seizoen  Herfst  Lente  Winter  Zomer\n",
      "CNI_e                                \n",
      "0.0          83    111     149    112\n",
      "1.0          92    106     121     96\n",
      "2.0           0      1       1      0 \n",
      "\n",
      "Seizoen  Herfst  Lente  Winter  Zomer\n",
      "CNI_e                                \n",
      "0.0          19     14      28     21\n",
      "1.0          19     18      19     13\n",
      "2.0           0      1       0      0 \n",
      "\n"
     ]
    }
   ],
   "source": [
    "for dateframe in dataframes_klimaat:\n",
    "    freq_table = pd.crosstab(dateframe['CNI_e'], dateframe['Seizoen']) \n",
    "    print(freq_table, '\\n')"
   ]
  },
  {
   "cell_type": "code",
   "execution_count": 196,
   "metadata": {},
   "outputs": [
    {
     "name": "stdout",
     "output_type": "stream",
     "text": [
      "Seizoen  Herfst  Lente  Winter  Zomer\n",
      "CNI_w1                               \n",
      "0.0          29     26      32     19\n",
      "1.0          16     29      24     24\n",
      "2.0           1      3       1      0 \n",
      "\n",
      "Seizoen  Herfst  Lente  Winter  Zomer\n",
      "CNI_w1                               \n",
      "0.0          15     13      15     13\n",
      "1.0           5     11      12      5 \n",
      "\n",
      "Seizoen  Herfst  Lente  Winter  Zomer\n",
      "CNI_w1                               \n",
      "0.0          87    107     144    112\n",
      "1.0          84    107     124     96\n",
      "2.0           3      2       3      0 \n",
      "\n",
      "Seizoen  Herfst  Lente  Winter  Zomer\n",
      "CNI_w1                               \n",
      "0.0          20     17      26     20\n",
      "1.0          18     15      21     14\n",
      "2.0           0      1       0      0 \n",
      "\n"
     ]
    }
   ],
   "source": [
    "for dateframe in dataframes_klimaat:\n",
    "    freq_table = pd.crosstab(dateframe['CNI_w1'], dateframe['Seizoen']) \n",
    "    print(freq_table, '\\n')"
   ]
  },
  {
   "cell_type": "markdown",
   "metadata": {},
   "source": [
    "CNI Bulbular"
   ]
  },
  {
   "cell_type": "code",
   "execution_count": 197,
   "metadata": {},
   "outputs": [
    {
     "name": "stdout",
     "output_type": "stream",
     "text": [
      "Seizoen       Herfst  Lente  Winter  Zomer\n",
      "CNI_Bulbar_e                              \n",
      "0.0               38     40      40     28\n",
      "1.0                9     18      17     15 \n",
      "\n",
      "Seizoen       Herfst  Lente  Winter  Zomer\n",
      "CNI_Bulbar_e                              \n",
      "0.0               16     19      21     12\n",
      "1.0                4      5       6      6 \n",
      "\n",
      "Seizoen       Herfst  Lente  Winter  Zomer\n",
      "CNI_Bulbar_e                              \n",
      "0.0              118    165     206    163\n",
      "1.0               57     52      64     45\n",
      "2.0                0      1       1      0 \n",
      "\n",
      "Seizoen       Herfst  Lente  Winter  Zomer\n",
      "CNI_Bulbar_e                              \n",
      "0.0               30     25      36     27\n",
      "1.0                8      7      11      7\n",
      "2.0                0      1       0      0 \n",
      "\n"
     ]
    }
   ],
   "source": [
    "for dateframe in dataframes_klimaat:\n",
    "    freq_table = pd.crosstab(dateframe['CNI_Bulbar_e'], dateframe['Seizoen']) \n",
    "    print(freq_table, '\\n')"
   ]
  },
  {
   "cell_type": "code",
   "execution_count": 198,
   "metadata": {},
   "outputs": [
    {
     "name": "stdout",
     "output_type": "stream",
     "text": [
      "Seizoen        Herfst  Lente  Winter  Zomer\n",
      "CNI_Bulbar_w1                              \n",
      "0.0                37     40      40     29\n",
      "1.0                 8     15      16     14 \n",
      "\n",
      "Seizoen        Herfst  Lente  Winter  Zomer\n",
      "CNI_Bulbar_w1                              \n",
      "0.0                16     19      22     15\n",
      "1.0                 4      5       5      3 \n",
      "\n",
      "Seizoen        Herfst  Lente  Winter  Zomer\n",
      "CNI_Bulbar_w1                              \n",
      "0.0               125    164     217    166\n",
      "1.0                46     50      51     42 \n",
      "\n",
      "Seizoen        Herfst  Lente  Winter  Zomer\n",
      "CNI_Bulbar_w1                              \n",
      "0.0                31     24      36     27\n",
      "1.0                 7      8      11      7 \n",
      "\n"
     ]
    }
   ],
   "source": [
    "for dateframe in dataframes_klimaat:\n",
    "    freq_table = pd.crosstab(dateframe['CNI_Bulbar_w1'], dateframe['Seizoen']) \n",
    "    print(freq_table, '\\n')"
   ]
  },
  {
   "cell_type": "markdown",
   "metadata": {},
   "source": [
    "CNI facial"
   ]
  },
  {
   "cell_type": "code",
   "execution_count": 199,
   "metadata": {},
   "outputs": [
    {
     "name": "stdout",
     "output_type": "stream",
     "text": [
      "Seizoen       Herfst  Lente  Winter  Zomer\n",
      "CNI_Facial_e                              \n",
      "0.0               37     36      40     30\n",
      "1.0               10     22      17     13 \n",
      "\n",
      "Seizoen       Herfst  Lente  Winter  Zomer\n",
      "CNI_Facial_e                              \n",
      "0.0               15     22      22     15\n",
      "1.0                5      2       5      3 \n",
      "\n",
      "Seizoen       Herfst  Lente  Winter  Zomer\n",
      "CNI_Facial_e                              \n",
      "0.0              122    155     201    147\n",
      "1.0               53     62      69     61\n",
      "2.0                0      1       1      0 \n",
      "\n",
      "Seizoen       Herfst  Lente  Winter  Zomer\n",
      "CNI_Facial_e                              \n",
      "0.0               23     26      35     25\n",
      "1.0               15      6      12      9\n",
      "2.0                0      1       0      0 \n",
      "\n"
     ]
    }
   ],
   "source": [
    "for dateframe in dataframes_klimaat:\n",
    "    freq_table = pd.crosstab(dateframe['CNI_Facial_e'], dateframe['Seizoen']) \n",
    "    print(freq_table, '\\n')"
   ]
  },
  {
   "cell_type": "code",
   "execution_count": 200,
   "metadata": {},
   "outputs": [
    {
     "name": "stdout",
     "output_type": "stream",
     "text": [
      "Seizoen        Herfst  Lente  Winter  Zomer\n",
      "CNI_Facial_w1                              \n",
      "0.0                34     31      39     28\n",
      "1.0                11     24      17     15 \n",
      "\n",
      "Seizoen        Herfst  Lente  Winter  Zomer\n",
      "CNI_Facial_w1                              \n",
      "0.0                16     19      18     16\n",
      "1.0                 4      5       9      2 \n",
      "\n",
      "Seizoen        Herfst  Lente  Winter  Zomer\n",
      "CNI_Facial_w1                              \n",
      "0.0               118    145     181    144\n",
      "1.0                53     69      87     64 \n",
      "\n",
      "Seizoen        Herfst  Lente  Winter  Zomer\n",
      "CNI_Facial_w1                              \n",
      "0.0                22     26      31     26\n",
      "1.0                16      6      16      8 \n",
      "\n"
     ]
    }
   ],
   "source": [
    "for dateframe in dataframes_klimaat:\n",
    "    freq_table = pd.crosstab(dateframe['CNI_Facial_w1'], dateframe['Seizoen']) \n",
    "    print(freq_table, '\\n')"
   ]
  },
  {
   "cell_type": "markdown",
   "metadata": {},
   "source": [
    "CNI Oculomotor"
   ]
  },
  {
   "cell_type": "code",
   "execution_count": 201,
   "metadata": {},
   "outputs": [
    {
     "name": "stdout",
     "output_type": "stream",
     "text": [
      "Seizoen           Herfst  Lente  Winter  Zomer\n",
      "CNI_Oculomotor_e                              \n",
      "0.0                   41     50      49     38\n",
      "1.0                    6      8       8      5 \n",
      "\n",
      "Seizoen           Herfst  Lente  Winter  Zomer\n",
      "CNI_Oculomotor_e                              \n",
      "0.0                   20     19      23     15\n",
      "1.0                    0      5       4      3 \n",
      "\n",
      "Seizoen           Herfst  Lente  Winter  Zomer\n",
      "CNI_Oculomotor_e                              \n",
      "0.0                  154    178     223    172\n",
      "1.0                   21     39      47     36\n",
      "2.0                    0      1       1      0 \n",
      "\n",
      "Seizoen           Herfst  Lente  Winter  Zomer\n",
      "CNI_Oculomotor_e                              \n",
      "0.0                   36     22      41     29\n",
      "1.0                    2     10       6      5\n",
      "2.0                    0      1       0      0 \n",
      "\n"
     ]
    }
   ],
   "source": [
    "for dateframe in dataframes_klimaat:\n",
    "    freq_table = pd.crosstab(dateframe['CNI_Oculomotor_e'], dateframe['Seizoen']) \n",
    "    print(freq_table, '\\n')"
   ]
  },
  {
   "cell_type": "code",
   "execution_count": 202,
   "metadata": {},
   "outputs": [
    {
     "name": "stdout",
     "output_type": "stream",
     "text": [
      "Seizoen            Herfst  Lente  Winter  Zomer\n",
      "CNI_Oculomotor_w1                              \n",
      "0.0                    39     48      49     36\n",
      "1.0                     6      7       7      7 \n",
      "\n",
      "Seizoen            Herfst  Lente  Winter  Zomer\n",
      "CNI_Oculomotor_w1                              \n",
      "0.0                    20     18      24     16\n",
      "1.0                     0      6       3      2 \n",
      "\n",
      "Seizoen            Herfst  Lente  Winter  Zomer\n",
      "CNI_Oculomotor_w1                              \n",
      "0.0                   149    177     223    172\n",
      "1.0                    22     37      45     36 \n",
      "\n",
      "Seizoen            Herfst  Lente  Winter  Zomer\n",
      "CNI_Oculomotor_w1                              \n",
      "0.0                    35     25      42     28\n",
      "1.0                     3      7       5      6 \n",
      "\n"
     ]
    }
   ],
   "source": [
    "for dateframe in dataframes_klimaat:\n",
    "    freq_table = pd.crosstab(dateframe['CNI_Oculomotor_w1'], dateframe['Seizoen']) \n",
    "    print(freq_table, '\\n')"
   ]
  },
  {
   "cell_type": "markdown",
   "metadata": {},
   "source": [
    "In deze voorbeelden is te zien dat voor alle CNI evenementen niet genoeg waarden zijn bij de waarden van 2.0, nou is optie 2 niet mogelijk te bepalen, wat positief zou kunnen uitpakken. daarom worden die uit de dataset gehaald nu. Op de agemene CNI na komt de waarde 2.0 ook niet eens voor in dataset."
   ]
  },
  {
   "cell_type": "code",
   "execution_count": 203,
   "metadata": {},
   "outputs": [],
   "source": [
    "df_CNI = df\n",
    "df_A_CNI = df_A\n",
    "df_B_CNI = df_B\n",
    "df_C_CNI = df_C\n",
    "df_D_CNI = df_D\n",
    "CNI_var = ['CNI_e', 'CNI_w1', 'CNI_Bulbar_e', 'CNI_Facial_e', 'CNI_Oculomotor_e']"
   ]
  },
  {
   "cell_type": "code",
   "execution_count": 204,
   "metadata": {},
   "outputs": [],
   "source": [
    "for var in CNI_var:\n",
    "    df_CNI = df_CNI.drop(df_CNI[df_CNI[var] == 2].index)\n",
    "    df_A_CNI = df_A_CNI.drop(df_A_CNI[df_A_CNI[var] == 2].index)\n",
    "    df_B_CNI = df_B_CNI.drop(df_B_CNI[df_B_CNI[var] == 2].index)\n",
    "    df_C_CNI = df_C_CNI.drop(df_C_CNI[df_C_CNI[var] == 2].index)\n",
    "    df_D_CNI = df_D_CNI.drop(df_D_CNI[df_D_CNI[var] == 2].index)"
   ]
  },
  {
   "cell_type": "code",
   "execution_count": 205,
   "metadata": {},
   "outputs": [
    {
     "data": {
      "text/plain": [
       "array([ 1.,  0., nan])"
      ]
     },
     "execution_count": 205,
     "metadata": {},
     "output_type": "execute_result"
    }
   ],
   "source": [
    "df_CNI['CNI_w1'].unique()"
   ]
  },
  {
   "cell_type": "code",
   "execution_count": 206,
   "metadata": {},
   "outputs": [],
   "source": [
    "dataframes_CNI = [df_CNI, df_A_CNI, df_B_CNI, df_C_CNI, df_D_CNI]"
   ]
  },
  {
   "cell_type": "code",
   "execution_count": 207,
   "metadata": {},
   "outputs": [],
   "source": [
    "#for dateframe in dataframes_CNI:\n",
    "#    freq_table = pd.crosstab(dateframe['CNI_Oculomotor_e'], dateframe['Seizoen']) \n",
    "#   print(freq_table, '\\n')"
   ]
  },
  {
   "cell_type": "code",
   "execution_count": 208,
   "metadata": {},
   "outputs": [],
   "source": [
    "CNI_var_e = ['CNI_e', 'CNI_Bulbar_e', 'CNI_Facial_e', 'CNI_Oculomotor_e']\n",
    "CNI_var_w1 = ['CNI_w1', 'CNI_Bulbar_w1', 'CNI_Facial_w1', 'CNI_Oculomotor_w1']"
   ]
  },
  {
   "cell_type": "code",
   "execution_count": 209,
   "metadata": {},
   "outputs": [
    {
     "name": "stdout",
     "output_type": "stream",
     "text": [
      "CNI_e \n",
      "\n",
      "(2.187129110001867, 0.534487982644873, 3, array([[146.90322581, 129.09677419],\n",
      "       [173.51612903, 152.48387097],\n",
      "       [211.30645161, 185.69354839],\n",
      "       [161.27419355, 141.72580645]]))\n",
      "(3.297331085253876, 0.3480142807496441, 3, array([[24.15 , 21.85 ],\n",
      "       [28.875, 26.125],\n",
      "       [29.4  , 26.6  ],\n",
      "       [22.575, 20.425]]))\n",
      "(1.3420198902606308, 0.7191800379842723, 3, array([[12.13483146,  7.86516854],\n",
      "       [14.56179775,  9.43820225],\n",
      "       [16.38202247, 10.61797753],\n",
      "       [10.92134831,  7.07865169]]))\n",
      "(2.5914932955730317, 0.45898283415090624, 3, array([[ 90.19025522,  81.80974478],\n",
      "       [112.73781903, 102.26218097],\n",
      "       [140.00464037, 126.99535963],\n",
      "       [109.06728538,  98.93271462]]))\n",
      "(3.0088533862361535, 0.39026217144039593, 3, array([[20.63576159, 17.36423841],\n",
      "       [17.37748344, 14.62251656],\n",
      "       [25.52317881, 21.47682119],\n",
      "       [18.46357616, 15.53642384]]))\n",
      "CNI_Bulbar_e \n",
      "\n",
      "(1.2236845231097258, 0.7473295689518629, 3, array([[206.89400922,  69.10599078],\n",
      "       [244.37480799,  81.62519201],\n",
      "       [297.59754224,  99.40245776],\n",
      "       [227.13364055,  75.86635945]]))\n",
      "(2.818803733167959, 0.4204138349734631, 3, array([[32.89 , 13.11 ],\n",
      "       [39.325, 15.675],\n",
      "       [40.04 , 15.96 ],\n",
      "       [30.745, 12.255]]))\n",
      "(1.2200105042016804, 0.7482090754677737, 3, array([[15.28089888,  4.71910112],\n",
      "       [18.33707865,  5.66292135],\n",
      "       [20.62921348,  6.37078652],\n",
      "       [13.75280899,  4.24719101]]))\n",
      "(6.0862727233352825, 0.10748748470610867, 3, array([[129.09976798,  42.90023202],\n",
      "       [161.37470998,  53.62529002],\n",
      "       [200.40487239,  66.59512761],\n",
      "       [156.12064965,  51.87935035]]))\n",
      "(0.11233358369781904, 0.9903173435593152, 3, array([[29.69536424,  8.30463576],\n",
      "       [25.00662252,  6.99337748],\n",
      "       [36.72847682, 10.27152318],\n",
      "       [26.56953642,  7.43046358]]))\n",
      "CNI_Facial_e \n",
      "\n",
      "(1.4576233992566792, 0.6920847847550176, 3, array([[199.89861751,  76.10138249],\n",
      "       [236.11213518,  89.88786482],\n",
      "       [287.53533026, 109.46466974],\n",
      "       [219.45391705,  83.54608295]]))\n",
      "(3.3035999582294533, 0.3471419117830352, 3, array([[32.2, 13.8],\n",
      "       [38.5, 16.5],\n",
      "       [39.2, 16.8],\n",
      "       [30.1, 12.9]]))\n",
      "(2.2443026359693032, 0.5232749286026595, 3, array([[16.62921348,  3.37078652],\n",
      "       [19.95505618,  4.04494382],\n",
      "       [22.4494382 ,  4.5505618 ],\n",
      "       [14.96629213,  3.03370787]]))\n",
      "(1.333471563818815, 0.721200681997681, 3, array([[123.71229698,  48.28770302],\n",
      "       [154.64037123,  60.35962877],\n",
      "       [192.04176334,  74.95823666],\n",
      "       [149.60556845,  58.39443155]]))\n",
      "(4.0348314642026395, 0.25772744176216833, 3, array([[27.43046358, 10.56953642],\n",
      "       [23.09933775,  8.90066225],\n",
      "       [33.92715232, 13.07284768],\n",
      "       [24.54304636,  9.45695364]]))\n",
      "CNI_Oculomotor_e \n",
      "\n",
      "(9.2924102271231, 0.025645467673540617, 3, array([[232.96774194,  43.03225806],\n",
      "       [275.17204301,  50.82795699],\n",
      "       [335.10215054,  61.89784946],\n",
      "       [255.75806452,  47.24193548]]))\n",
      "(0.20018044319846912, 0.9775601627986763, 3, array([[40.02,  5.98],\n",
      "       [47.85,  7.15],\n",
      "       [48.72,  7.28],\n",
      "       [37.41,  5.59]]))\n",
      "(4.42583072791406, 0.21900219751084832, 3, array([[17.30337079,  2.69662921],\n",
      "       [20.76404494,  3.23595506],\n",
      "       [23.35955056,  3.64044944],\n",
      "       [15.57303371,  2.42696629]]))\n",
      "(3.7215145184626106, 0.2931482433881081, 3, array([[143.66589327,  28.33410673],\n",
      "       [179.58236659,  35.41763341],\n",
      "       [223.0162413 ,  43.9837587 ],\n",
      "       [173.73549884,  34.26450116]]))\n",
      "(9.512319016409421, 0.023200667266433474, 3, array([[32.21192053,  5.78807947],\n",
      "       [27.12582781,  4.87417219],\n",
      "       [39.8410596 ,  7.1589404 ],\n",
      "       [28.82119205,  5.17880795]]))\n"
     ]
    }
   ],
   "source": [
    "for var in CNI_var_e:\n",
    "    print(var, '\\n')\n",
    "    for dataframe in dataframes_CNI:\n",
    "        Seizoen_CNI = pd.crosstab(dataframe['Seizoen'], dataframe[var])\n",
    "        print(stats.chi2_contingency(Seizoen_CNI))"
   ]
  },
  {
   "cell_type": "markdown",
   "metadata": {},
   "source": [
    "Hieruit is te zien dat CNI_Oculomotor_e voor alle klimaten samen en voor D klimaat statistisch significant afwijkt"
   ]
  },
  {
   "cell_type": "code",
   "execution_count": 210,
   "metadata": {},
   "outputs": [
    {
     "data": {
      "text/plain": [
       "(9.2924102271231,\n",
       " 0.025645467673540617,\n",
       " 3,\n",
       " array([[232.96774194,  43.03225806],\n",
       "        [275.17204301,  50.82795699],\n",
       "        [335.10215054,  61.89784946],\n",
       "        [255.75806452,  47.24193548]]))"
      ]
     },
     "execution_count": 210,
     "metadata": {},
     "output_type": "execute_result"
    }
   ],
   "source": [
    "Seizoen_CNI = pd.crosstab(df_CNI['Seizoen'], df_CNI['CNI_Oculomotor_e'])\n",
    "stats.chi2_contingency(Seizoen_CNI)"
   ]
  },
  {
   "cell_type": "code",
   "execution_count": 211,
   "metadata": {},
   "outputs": [
    {
     "data": {
      "text/plain": [
       "(9.512319016409421,\n",
       " 0.023200667266433474,\n",
       " 3,\n",
       " array([[32.21192053,  5.78807947],\n",
       "        [27.12582781,  4.87417219],\n",
       "        [39.8410596 ,  7.1589404 ],\n",
       "        [28.82119205,  5.17880795]]))"
      ]
     },
     "execution_count": 211,
     "metadata": {},
     "output_type": "execute_result"
    }
   ],
   "source": [
    "Seizoen_CNI = pd.crosstab(df_D_CNI['Seizoen'], df_D_CNI['CNI_Oculomotor_e'])\n",
    "stats.chi2_contingency(Seizoen_CNI)"
   ]
  },
  {
   "cell_type": "markdown",
   "metadata": {},
   "source": [
    "Week 1"
   ]
  },
  {
   "cell_type": "code",
   "execution_count": 212,
   "metadata": {},
   "outputs": [
    {
     "name": "stdout",
     "output_type": "stream",
     "text": [
      "CNI_w1 \n",
      "\n",
      "(2.0529971173149066, 0.5614801316685369, 3, array([[146.28813559, 127.71186441],\n",
      "       [172.98305085, 151.01694915],\n",
      "       [211.95762712, 185.04237288],\n",
      "       [161.77118644, 141.22881356]]))\n",
      "(4.814745438108826, 0.1858759746679059, 3, array([[23.96984925, 21.03015075],\n",
      "       [29.29648241, 25.70351759],\n",
      "       [29.82914573, 26.17085427],\n",
      "       [22.90452261, 20.09547739]]))\n",
      "(3.3344231000481006, 0.34288025497993363, 3, array([[12.58426966,  7.41573034],\n",
      "       [15.1011236 ,  8.8988764 ],\n",
      "       [16.98876404, 10.01123596],\n",
      "       [11.3258427 ,  6.6741573 ]]))\n",
      "(1.0483870357977292, 0.7895459410802105, 3, array([[ 89.18277066,  81.81722934],\n",
      "       [111.08731083, 101.91268917],\n",
      "       [139.25029104, 127.74970896],\n",
      "       [108.47962747,  99.52037253]]))\n",
      "(0.33423356868520715, 0.9534665755985159, 3, array([[20.88741722, 17.11258278],\n",
      "       [17.58940397, 14.41059603],\n",
      "       [25.83443709, 21.16556291],\n",
      "       [18.68874172, 15.31125828]]))\n",
      "CNI_Bulbar_w1 \n",
      "\n",
      "(1.3628399525119614, 0.7142678945727408, 3, array([[212.3605547 ,  61.6394453 ],\n",
      "       [251.11248074,  72.88751926],\n",
      "       [307.69029276,  89.30970724],\n",
      "       [234.8366718 ,  68.1633282 ]]))\n",
      "(2.697666026025616, 0.4406240745147766, 3, array([[33.01507538, 11.98492462],\n",
      "       [40.35175879, 14.64824121],\n",
      "       [41.08542714, 14.91457286],\n",
      "       [31.54773869, 11.45226131]]))\n",
      "(0.13202690026627947, 0.9877347644224274, 3, array([[16.17977528,  3.82022472],\n",
      "       [19.41573034,  4.58426966],\n",
      "       [21.84269663,  5.15730337],\n",
      "       [14.56179775,  3.43820225]]))\n",
      "(4.366218416880756, 0.22453823985659585, 3, array([[133.37601863,  37.62398137],\n",
      "       [166.13504075,  46.86495925],\n",
      "       [208.25378347,  58.74621653],\n",
      "       [162.23515716,  45.76484284]]))\n",
      "(0.5457116045395998, 0.9087399285765567, 3, array([[29.69536424,  8.30463576],\n",
      "       [25.00662252,  6.99337748],\n",
      "       [36.72847682, 10.27152318],\n",
      "       [26.56953642,  7.43046358]]))\n",
      "CNI_Facial_w1 \n",
      "\n",
      "(0.9352589740694316, 0.8169117357151947, 3, array([[188.29583975,  85.70416025],\n",
      "       [222.65639445, 101.34360555],\n",
      "       [272.82280431, 124.17719569],\n",
      "       [208.22496148,  94.77503852]]))\n",
      "(4.464738006383307, 0.21545722494803957, 3, array([[29.84924623, 15.15075377],\n",
      "       [36.48241206, 18.51758794],\n",
      "       [37.14572864, 18.85427136],\n",
      "       [28.52261307, 14.47738693]]))\n",
      "(3.2688868760064413, 0.3519965407742446, 3, array([[15.50561798,  4.49438202],\n",
      "       [18.60674157,  5.39325843],\n",
      "       [20.93258427,  6.06741573],\n",
      "       [13.95505618,  4.04494382]]))\n",
      "(0.26346439244930153, 0.9667467010564921, 3, array([[116.65424913,  54.34575087],\n",
      "       [145.30616997,  67.69383003],\n",
      "       [182.1443539 ,  84.8556461 ],\n",
      "       [141.89522701,  66.10477299]]))\n",
      "(5.559849297087744, 0.1351024675348615, 3, array([[26.42384106, 11.57615894],\n",
      "       [22.25165563,  9.74834437],\n",
      "       [32.68211921, 14.31788079],\n",
      "       [23.64238411, 10.35761589]]))\n",
      "CNI_Oculomotor_w1 \n",
      "\n",
      "(5.223103842807747, 0.1561706146809269, 3, array([[231.99229584,  42.00770416],\n",
      "       [274.32665639,  49.67334361],\n",
      "       [336.1348228 ,  60.8651772 ],\n",
      "       [256.54622496,  46.45377504]]))\n",
      "(0.3592348921885156, 0.9485286785547861, 3, array([[38.89447236,  6.10552764],\n",
      "       [47.53768844,  7.46231156],\n",
      "       [48.40201005,  7.59798995],\n",
      "       [37.16582915,  5.83417085]]))\n",
      "(6.425472675472676, 0.09264847233908553, 3, array([[17.52808989,  2.47191011],\n",
      "       [21.03370787,  2.96629213],\n",
      "       [23.66292135,  3.33707865],\n",
      "       [15.7752809 ,  2.2247191 ]]))\n",
      "(1.87255051398079, 0.5992757867532432, 3, array([[143.13038417,  27.86961583],\n",
      "       [178.28521537,  34.71478463],\n",
      "       [223.48428405,  43.51571595],\n",
      "       [174.10011641,  33.89988359]]))\n",
      "(3.6606940936207373, 0.3005108398307607, 3, array([[32.71523179,  5.28476821],\n",
      "       [27.54966887,  4.45033113],\n",
      "       [40.46357616,  6.53642384],\n",
      "       [29.27152318,  4.72847682]]))\n"
     ]
    }
   ],
   "source": [
    "for var in CNI_var_w1:\n",
    "    print(var, '\\n')\n",
    "    for dataframe in dataframes_CNI:\n",
    "        Seizoen_CNI = pd.crosstab(dataframe['Seizoen'], dataframe[var])\n",
    "        print(stats.chi2_contingency(Seizoen_CNI))"
   ]
  },
  {
   "cell_type": "markdown",
   "metadata": {},
   "source": [
    "Echter is dit niet meer het geval na week 1"
   ]
  },
  {
   "cell_type": "markdown",
   "metadata": {},
   "source": [
    "Post hoc voor CNI_Oculomotor_e met hele dataframe en klimaat D"
   ]
  },
  {
   "cell_type": "markdown",
   "metadata": {},
   "source": [
    "Post hoc voor CNI"
   ]
  },
  {
   "cell_type": "code",
   "execution_count": 213,
   "metadata": {},
   "outputs": [],
   "source": [
    "df_CNI_LenZom = df_CNI[(df_CNI['Seizoen'] == 'Lente') | (df_CNI['Seizoen'] == 'Zomer')]\n",
    "df_CNI_LenHer = df_CNI[(df_CNI['Seizoen'] == 'Lente') | (df_CNI['Seizoen'] == 'Herfst')]\n",
    "df_CNI_LenWin = df_CNI[(df_CNI['Seizoen'] == 'Lente') | (df_CNI['Seizoen'] == 'Winter')]\n",
    "df_CNI_ZomHer = df_CNI[(df_CNI['Seizoen'] == 'Zomer') | (df_CNI['Seizoen'] == 'Herfst')]\n",
    "df_CNI_ZomWin = df_CNI[(df_CNI['Seizoen'] == 'Zomer') | (df_CNI['Seizoen'] == 'Winter')]\n",
    "df_CNI_HerWin = df_CNI[(df_CNI['Seizoen'] == 'Herfst') | (df_CNI['Seizoen'] == 'Winter')]\n",
    "\n",
    "df_D_CNI_LenZom = df_D_CNI[(df_D_CNI['Seizoen'] == 'Lente') | (df_D_CNI['Seizoen'] == 'Zomer')]\n",
    "df_D_CNI_LenHer = df_D_CNI[(df_D_CNI['Seizoen'] == 'Lente') | (df_D_CNI['Seizoen'] == 'Herfst')]\n",
    "df_D_CNI_LenWin = df_D_CNI[(df_D_CNI['Seizoen'] == 'Lente') | (df_D_CNI['Seizoen'] == 'Winter')]\n",
    "df_D_CNI_ZomHer = df_D_CNI[(df_D_CNI['Seizoen'] == 'Zomer') | (df_D_CNI['Seizoen'] == 'Herfst')]\n",
    "df_D_CNI_ZomWin = df_D_CNI[(df_D_CNI['Seizoen'] == 'Zomer') | (df_D_CNI['Seizoen'] == 'Winter')]\n",
    "df_D_CNI_HerWin = df_D_CNI[(df_D_CNI['Seizoen'] == 'Herfst') | (df_D_CNI['Seizoen'] == 'Winter')]\n",
    "\n"
   ]
  },
  {
   "cell_type": "markdown",
   "metadata": {},
   "source": [
    "Post hoc hele dataset"
   ]
  },
  {
   "cell_type": "code",
   "execution_count": 214,
   "metadata": {},
   "outputs": [
    {
     "data": {
      "text/plain": [
       "(0.6907941834937221,\n",
       " 0.4058943807836204,\n",
       " 1,\n",
       " array([[268.47058824,  57.52941176],\n",
       "        [249.52941176,  53.47058824]]))"
      ]
     },
     "execution_count": 214,
     "metadata": {},
     "output_type": "execute_result"
    }
   ],
   "source": [
    "Seizoen_CNI = pd.crosstab(df_CNI_LenZom['Seizoen'], df_CNI_LenZom['CNI_Oculomotor_e'])\n",
    "stats.chi2_contingency(Seizoen_CNI)"
   ]
  },
  {
   "cell_type": "code",
   "execution_count": 215,
   "metadata": {},
   "outputs": [
    {
     "data": {
      "text/plain": [
       "(8.570753507358903,\n",
       " 0.00341605751202755,\n",
       " 1,\n",
       " array([[234.73754153,  41.26245847],\n",
       "        [277.26245847,  48.73754153]]))"
      ]
     },
     "execution_count": 215,
     "metadata": {},
     "output_type": "execute_result"
    }
   ],
   "source": [
    "Seizoen_CNI = pd.crosstab(df_CNI_LenHer['Seizoen'], df_CNI_LenHer['CNI_Oculomotor_e'])\n",
    "stats.chi2_contingency(Seizoen_CNI)"
   ]
  },
  {
   "cell_type": "code",
   "execution_count": 216,
   "metadata": {},
   "outputs": [
    {
     "data": {
      "text/plain": [
       "(0.8527079149236981,\n",
       " 0.35578740883556814,\n",
       " 1,\n",
       " array([[269.18672199,  56.81327801],\n",
       "        [327.81327801,  69.18672199]]))"
      ]
     },
     "execution_count": 216,
     "metadata": {},
     "output_type": "execute_result"
    }
   ],
   "source": [
    "Seizoen_CNI = pd.crosstab(df_CNI_LenWin['Seizoen'], df_CNI_LenWin['CNI_Oculomotor_e'])\n",
    "stats.chi2_contingency(Seizoen_CNI)"
   ]
  },
  {
   "cell_type": "code",
   "execution_count": 217,
   "metadata": {},
   "outputs": [
    {
     "data": {
      "text/plain": [
       "(4.042137248897863,\n",
       " 0.04437758628676087,\n",
       " 1,\n",
       " array([[239.29533679,  36.70466321],\n",
       "        [262.70466321,  40.29533679]]))"
      ]
     },
     "execution_count": 217,
     "metadata": {},
     "output_type": "execute_result"
    }
   ],
   "source": [
    "Seizoen_CNI = pd.crosstab(df_CNI_ZomHer['Seizoen'], df_CNI_ZomHer['CNI_Oculomotor_e'])\n",
    "stats.chi2_contingency(Seizoen_CNI)"
   ]
  },
  {
   "cell_type": "code",
   "execution_count": 218,
   "metadata": {},
   "outputs": [
    {
     "data": {
      "text/plain": [
       "(0.0,\n",
       " 1.0,\n",
       " 1,\n",
       " array([[332.91285714,  64.08714286],\n",
       "        [254.08714286,  48.91285714]]))"
      ]
     },
     "execution_count": 218,
     "metadata": {},
     "output_type": "execute_result"
    }
   ],
   "source": [
    "Seizoen_CNI = pd.crosstab(df_CNI_ZomWin['Seizoen'], df_CNI_ZomWin['CNI_Oculomotor_e'])\n",
    "stats.chi2_contingency(Seizoen_CNI)"
   ]
  },
  {
   "cell_type": "code",
   "execution_count": 219,
   "metadata": {},
   "outputs": [
    {
     "data": {
      "text/plain": [
       "(4.433477357326408,\n",
       " 0.03524064043527041,\n",
       " 1,\n",
       " array([[238.27043091,  37.72956909],\n",
       "        [342.72956909,  54.27043091]]))"
      ]
     },
     "execution_count": 219,
     "metadata": {},
     "output_type": "execute_result"
    }
   ],
   "source": [
    "Seizoen_CNI = pd.crosstab(df_CNI_HerWin['Seizoen'], df_CNI_HerWin['CNI_Oculomotor_e'])\n",
    "stats.chi2_contingency(Seizoen_CNI)"
   ]
  },
  {
   "cell_type": "markdown",
   "metadata": {},
   "source": [
    "Hieruit is te halen dat de herfst de lage p waarde gaf"
   ]
  },
  {
   "cell_type": "markdown",
   "metadata": {},
   "source": [
    "Na bonferoni correctie is te concluderen dat het niet meer statistisch significant is"
   ]
  },
  {
   "cell_type": "markdown",
   "metadata": {},
   "source": [
    "Post hoc voor klimaat D"
   ]
  },
  {
   "cell_type": "code",
   "execution_count": 220,
   "metadata": {},
   "outputs": [
    {
     "data": {
      "text/plain": [
       "(1.7135164359861592,\n",
       " 0.1905297658210512,\n",
       " 1,\n",
       " array([[24.72727273,  7.27272727],\n",
       "        [26.27272727,  7.72727273]]))"
      ]
     },
     "execution_count": 220,
     "metadata": {},
     "output_type": "execute_result"
    }
   ],
   "source": [
    "Seizoen_CNI = pd.crosstab(df_D_CNI_LenZom['Seizoen'], df_D_CNI_LenZom['CNI_Oculomotor_e'])\n",
    "stats.chi2_contingency(Seizoen_CNI)"
   ]
  },
  {
   "cell_type": "code",
   "execution_count": 221,
   "metadata": {},
   "outputs": [
    {
     "data": {
      "text/plain": [
       "(6.530822273895947,\n",
       " 0.0106020934474967,\n",
       " 1,\n",
       " array([[31.48571429,  6.51428571],\n",
       "        [26.51428571,  5.48571429]]))"
      ]
     },
     "execution_count": 221,
     "metadata": {},
     "output_type": "execute_result"
    }
   ],
   "source": [
    "Seizoen_CNI = pd.crosstab(df_D_CNI_LenHer['Seizoen'], df_D_CNI_LenHer['CNI_Oculomotor_e'])\n",
    "stats.chi2_contingency(Seizoen_CNI)"
   ]
  },
  {
   "cell_type": "code",
   "execution_count": 222,
   "metadata": {},
   "outputs": [
    {
     "data": {
      "text/plain": [
       "(2.9641180067439206,\n",
       " 0.08513087194924716,\n",
       " 1,\n",
       " array([[25.51898734,  6.48101266],\n",
       "        [37.48101266,  9.51898734]]))"
      ]
     },
     "execution_count": 222,
     "metadata": {},
     "output_type": "execute_result"
    }
   ],
   "source": [
    "Seizoen_CNI = pd.crosstab(df_D_CNI_LenWin['Seizoen'], df_D_CNI_LenWin['CNI_Oculomotor_e'])\n",
    "stats.chi2_contingency(Seizoen_CNI)"
   ]
  },
  {
   "cell_type": "code",
   "execution_count": 223,
   "metadata": {},
   "outputs": [
    {
     "data": {
      "text/plain": [
       "(0.9058483312353283,\n",
       " 0.3412183836565774,\n",
       " 1,\n",
       " array([[34.30555556,  3.69444444],\n",
       "        [30.69444444,  3.30555556]]))"
      ]
     },
     "execution_count": 223,
     "metadata": {},
     "output_type": "execute_result"
    }
   ],
   "source": [
    "Seizoen_CNI = pd.crosstab(df_D_CNI_ZomHer['Seizoen'], df_D_CNI_ZomHer['CNI_Oculomotor_e'])\n",
    "stats.chi2_contingency(Seizoen_CNI)"
   ]
  },
  {
   "cell_type": "code",
   "execution_count": 224,
   "metadata": {},
   "outputs": [
    {
     "data": {
      "text/plain": [
       "(0.0,\n",
       " 1.0,\n",
       " 1,\n",
       " array([[40.61728395,  6.38271605],\n",
       "        [29.38271605,  4.61728395]]))"
      ]
     },
     "execution_count": 224,
     "metadata": {},
     "output_type": "execute_result"
    }
   ],
   "source": [
    "Seizoen_CNI = pd.crosstab(df_D_CNI_ZomWin['Seizoen'], df_D_CNI_ZomWin['CNI_Oculomotor_e'])\n",
    "stats.chi2_contingency(Seizoen_CNI)"
   ]
  },
  {
   "cell_type": "code",
   "execution_count": 225,
   "metadata": {},
   "outputs": [
    {
     "data": {
      "text/plain": [
       "(0.6468430960137288,\n",
       " 0.42124362140187777,\n",
       " 1,\n",
       " array([[34.42352941,  3.57647059],\n",
       "        [42.57647059,  4.42352941]]))"
      ]
     },
     "execution_count": 225,
     "metadata": {},
     "output_type": "execute_result"
    }
   ],
   "source": [
    "Seizoen_CNI = pd.crosstab(df_D_CNI_HerWin['Seizoen'], df_D_CNI_HerWin['CNI_Oculomotor_e'])\n",
    "stats.chi2_contingency(Seizoen_CNI)"
   ]
  },
  {
   "cell_type": "markdown",
   "metadata": {},
   "source": [
    "Hier is te zien dat dat alleen het geval is tussen de herfst en de lente"
   ]
  },
  {
   "cell_type": "markdown",
   "metadata": {},
   "source": [
    "Na bonferoni correctie is te concluderen dat het niet meer statistisch significant is"
   ]
  },
  {
   "cell_type": "code",
   "execution_count": null,
   "metadata": {},
   "outputs": [],
   "source": []
  },
  {
   "cell_type": "code",
   "execution_count": null,
   "metadata": {},
   "outputs": [],
   "source": []
  },
  {
   "cell_type": "code",
   "execution_count": null,
   "metadata": {},
   "outputs": [],
   "source": []
  },
  {
   "cell_type": "markdown",
   "metadata": {},
   "source": [
    "Ant event variabelen testen"
   ]
  },
  {
   "cell_type": "code",
   "execution_count": 226,
   "metadata": {},
   "outputs": [
    {
     "name": "stdout",
     "output_type": "stream",
     "text": [
      "Seizoen    Herfst  Lente  Winter  Zomer\n",
      "Ant_event                              \n",
      "0.0             8     19      13      6\n",
      "1.0            31     37      42     35 \n",
      "\n",
      "Seizoen    Herfst  Lente  Winter  Zomer\n",
      "Ant_event                              \n",
      "0.0             3      4       6      6\n",
      "1.0            16     17      19     11 \n",
      "\n",
      "Seizoen    Herfst  Lente  Winter  Zomer\n",
      "Ant_event                              \n",
      "0.0            40     41      61     54\n",
      "1.0           128    165     192    140 \n",
      "\n",
      "Seizoen    Herfst  Lente  Winter  Zomer\n",
      "Ant_event                              \n",
      "0.0             3      6      10     11\n",
      "1.0            32     25      33     22 \n",
      "\n"
     ]
    }
   ],
   "source": [
    "for dateframe in dataframes_klimaat:\n",
    "    freq_table = pd.crosstab(dateframe['Ant_event'], dateframe['Seizoen']) \n",
    "    print(freq_table, '\\n')"
   ]
  },
  {
   "cell_type": "markdown",
   "metadata": {},
   "source": [
    "Voor klimaat B en D zijn niet genoeg waarden, daarom worden de testen gedaan voor de datasets van alle klimate, klimaat A en klimaat C"
   ]
  },
  {
   "cell_type": "code",
   "execution_count": 227,
   "metadata": {},
   "outputs": [
    {
     "data": {
      "text/plain": [
       "(3.3967431318866286,\n",
       " 0.33440317301764083,\n",
       " 3,\n",
       " array([[ 61.44902913, 199.55097087],\n",
       "        [ 73.92718447, 240.07281553],\n",
       "        [ 88.52427184, 287.47572816],\n",
       "        [ 67.09951456, 217.90048544]]))"
      ]
     },
     "execution_count": 227,
     "metadata": {},
     "output_type": "execute_result"
    }
   ],
   "source": [
    "Seizoen_Ant_event = pd.crosstab(df['Seizoen'], df['Ant_event'])\n",
    "stats.chi2_contingency(Seizoen_Ant_event)"
   ]
  },
  {
   "cell_type": "code",
   "execution_count": 228,
   "metadata": {},
   "outputs": [
    {
     "data": {
      "text/plain": [
       "(5.24897725965238,\n",
       " 0.15444765405050956,\n",
       " 3,\n",
       " array([[ 9.39267016, 29.60732984],\n",
       "        [13.48691099, 42.51308901],\n",
       "        [13.2460733 , 41.7539267 ],\n",
       "        [ 9.87434555, 31.12565445]]))"
      ]
     },
     "execution_count": 228,
     "metadata": {},
     "output_type": "execute_result"
    }
   ],
   "source": [
    "Seizoen_Ant_event = pd.crosstab(df_A['Seizoen'], df_A['Ant_event'])\n",
    "stats.chi2_contingency(Seizoen_Ant_event)"
   ]
  },
  {
   "cell_type": "code",
   "execution_count": 229,
   "metadata": {},
   "outputs": [
    {
     "data": {
      "text/plain": [
       "(3.470480276210917,\n",
       " 0.3246109601569913,\n",
       " 3,\n",
       " array([[ 40.10718636, 127.89281364],\n",
       "        [ 49.17904994, 156.82095006],\n",
       "        [ 60.39951279, 192.60048721],\n",
       "        [ 46.31425091, 147.68574909]]))"
      ]
     },
     "execution_count": 229,
     "metadata": {},
     "output_type": "execute_result"
    }
   ],
   "source": [
    "Seizoen_Ant_event = pd.crosstab(df_C['Seizoen'], df_C['Ant_event'])\n",
    "stats.chi2_contingency(Seizoen_Ant_event)"
   ]
  },
  {
   "cell_type": "markdown",
   "metadata": {},
   "source": [
    "Statistisch onafhankelijk in elk klimaat"
   ]
  },
  {
   "cell_type": "code",
   "execution_count": 230,
   "metadata": {},
   "outputs": [
    {
     "name": "stdout",
     "output_type": "stream",
     "text": [
      "Seizoen       Herfst  Lente  Winter  Zomer\n",
      "Ant_event_GE                              \n",
      "0.0               24     43      36     26\n",
      "1.0               15     13      19     15 \n",
      "\n",
      "Seizoen       Herfst  Lente  Winter  Zomer\n",
      "Ant_event_GE                              \n",
      "0.0               12     17      17     10\n",
      "1.0                7      4       8      7 \n",
      "\n",
      "Seizoen       Herfst  Lente  Winter  Zomer\n",
      "Ant_event_GE                              \n",
      "0.0              120    145     184    153\n",
      "1.0               48     61      69     41 \n",
      "\n",
      "Seizoen       Herfst  Lente  Winter  Zomer\n",
      "Ant_event_GE                              \n",
      "0.0               22     19      27     26\n",
      "1.0               13     12      16      7 \n",
      "\n"
     ]
    }
   ],
   "source": [
    "for dateframe in dataframes_klimaat:\n",
    "    freq_table = pd.crosstab(dateframe['Ant_event_GE'], dateframe['Seizoen']) \n",
    "    print(freq_table, '\\n')"
   ]
  },
  {
   "cell_type": "markdown",
   "metadata": {},
   "source": [
    "Voor klimaat B zijn niet genoeg waarden, daarom worden de testen gedaan voor de datasets van alle klimate, klimaat A, klimaat C en klimaat D"
   ]
  },
  {
   "cell_type": "code",
   "execution_count": 231,
   "metadata": {},
   "outputs": [
    {
     "data": {
      "text/plain": [
       "(3.8272377846536627,\n",
       " 0.28073377635146896,\n",
       " 3,\n",
       " array([[186.03640777,  74.96359223],\n",
       "        [223.81391586,  90.18608414],\n",
       "        [268.00647249, 107.99352751],\n",
       "        [203.14320388,  81.85679612]]))"
      ]
     },
     "execution_count": 231,
     "metadata": {},
     "output_type": "execute_result"
    }
   ],
   "source": [
    "Seizoen_Ant_event = pd.crosstab(df['Seizoen'], df['Ant_event_GE'])\n",
    "stats.chi2_contingency(Seizoen_Ant_event)"
   ]
  },
  {
   "cell_type": "code",
   "execution_count": 232,
   "metadata": {},
   "outputs": [
    {
     "data": {
      "text/plain": [
       "(3.251610660014362,\n",
       " 0.35443452241451034,\n",
       " 3,\n",
       " array([[26.34031414, 12.65968586],\n",
       "        [37.82198953, 18.17801047],\n",
       "        [37.14659686, 17.85340314],\n",
       "        [27.69109948, 13.30890052]]))"
      ]
     },
     "execution_count": 232,
     "metadata": {},
     "output_type": "execute_result"
    }
   ],
   "source": [
    "Seizoen_Ant_event = pd.crosstab(df_A['Seizoen'], df_A['Ant_event_GE'])\n",
    "stats.chi2_contingency(Seizoen_Ant_event)"
   ]
  },
  {
   "cell_type": "code",
   "execution_count": 233,
   "metadata": {},
   "outputs": [
    {
     "data": {
      "text/plain": [
       "(4.308629049527979,\n",
       " 0.23000860089740766,\n",
       " 3,\n",
       " array([[123.1863581 ,  44.8136419 ],\n",
       "        [151.0499391 ,  54.9500609 ],\n",
       "        [185.51278928,  67.48721072],\n",
       "        [142.25091352,  51.74908648]]))"
      ]
     },
     "execution_count": 233,
     "metadata": {},
     "output_type": "execute_result"
    }
   ],
   "source": [
    "Seizoen_Ant_event = pd.crosstab(df_C['Seizoen'], df_C['Ant_event_GE'])\n",
    "stats.chi2_contingency(Seizoen_Ant_event)"
   ]
  },
  {
   "cell_type": "code",
   "execution_count": 234,
   "metadata": {},
   "outputs": [
    {
     "data": {
      "text/plain": [
       "(3.068920861513158,\n",
       " 0.381120521509981,\n",
       " 3,\n",
       " array([[23.16901408, 11.83098592],\n",
       "        [20.52112676, 10.47887324],\n",
       "        [28.46478873, 14.53521127],\n",
       "        [21.84507042, 11.15492958]]))"
      ]
     },
     "execution_count": 234,
     "metadata": {},
     "output_type": "execute_result"
    }
   ],
   "source": [
    "Seizoen_Ant_event = pd.crosstab(df_D['Seizoen'], df_D['Ant_event_GE'])\n",
    "stats.chi2_contingency(Seizoen_Ant_event)"
   ]
  },
  {
   "cell_type": "markdown",
   "metadata": {},
   "source": [
    "Statistisch onafhankelijk in elk klimaat"
   ]
  },
  {
   "cell_type": "code",
   "execution_count": 235,
   "metadata": {},
   "outputs": [
    {
     "name": "stdout",
     "output_type": "stream",
     "text": [
      "Seizoen                Herfst  Lente  Winter  Zomer\n",
      "Ant_event_respiratory                              \n",
      "0.0                        25     35      40     25\n",
      "1.0                        14     21      15     16 \n",
      "\n",
      "Seizoen                Herfst  Lente  Winter  Zomer\n",
      "Ant_event_respiratory                              \n",
      "0.0                        11     11      13     14\n",
      "1.0                         8     10      12      3 \n",
      "\n",
      "Seizoen                Herfst  Lente  Winter  Zomer\n",
      "Ant_event_respiratory                              \n",
      "0.0                        97    114     141    113\n",
      "1.0                        71     92     112     81 \n",
      "\n",
      "Seizoen                Herfst  Lente  Winter  Zomer\n",
      "Ant_event_respiratory                              \n",
      "0.0                        18     22      28     19\n",
      "1.0                        17      9      15     14 \n",
      "\n"
     ]
    }
   ],
   "source": [
    "for dateframe in dataframes_klimaat:\n",
    "    freq_table = pd.crosstab(dateframe['Ant_event_respiratory'], dateframe['Seizoen']) \n",
    "    print(freq_table, '\\n')"
   ]
  },
  {
   "cell_type": "markdown",
   "metadata": {},
   "source": [
    "Voor klimaat B zijn niet genoeg waarden, daarom worden de testen gedaan voor de datasets van alle klimate, klimaat A, klimaat C en klimaat D"
   ]
  },
  {
   "cell_type": "code",
   "execution_count": 236,
   "metadata": {},
   "outputs": [
    {
     "data": {
      "text/plain": [
       "(0.36380668650084336,\n",
       " 0.9476133879738914,\n",
       " 3,\n",
       " array([[153.30582524, 107.69417476],\n",
       "        [184.4368932 , 129.5631068 ],\n",
       "        [220.85436893, 155.14563107],\n",
       "        [167.40291262, 117.59708738]]))"
      ]
     },
     "execution_count": 236,
     "metadata": {},
     "output_type": "execute_result"
    }
   ],
   "source": [
    "Seizoen_Ant_event = pd.crosstab(df['Seizoen'], df['Ant_event_respiratory'])\n",
    "stats.chi2_contingency(Seizoen_Ant_event)"
   ]
  },
  {
   "cell_type": "code",
   "execution_count": 237,
   "metadata": {},
   "outputs": [
    {
     "data": {
      "text/plain": [
       "(1.897762991504676,\n",
       " 0.5938950499167601,\n",
       " 3,\n",
       " array([[25.52356021, 13.47643979],\n",
       "        [36.64921466, 19.35078534],\n",
       "        [35.9947644 , 19.0052356 ],\n",
       "        [26.83246073, 14.16753927]]))"
      ]
     },
     "execution_count": 237,
     "metadata": {},
     "output_type": "execute_result"
    }
   ],
   "source": [
    "Seizoen_Ant_event = pd.crosstab(df_A['Seizoen'], df_A['Ant_event_respiratory'])\n",
    "stats.chi2_contingency(Seizoen_Ant_event)"
   ]
  },
  {
   "cell_type": "code",
   "execution_count": 238,
   "metadata": {},
   "outputs": [
    {
     "data": {
      "text/plain": [
       "(0.5134594087318813,\n",
       " 0.9159246431134281,\n",
       " 3,\n",
       " array([[ 95.15225335,  72.84774665],\n",
       "        [116.67478685,  89.32521315],\n",
       "        [143.29476248, 109.70523752],\n",
       "        [109.87819732,  84.12180268]]))"
      ]
     },
     "execution_count": 238,
     "metadata": {},
     "output_type": "execute_result"
    }
   ],
   "source": [
    "Seizoen_Ant_event = pd.crosstab(df_C['Seizoen'], df_C['Ant_event_respiratory'])\n",
    "stats.chi2_contingency(Seizoen_Ant_event)"
   ]
  },
  {
   "cell_type": "code",
   "execution_count": 239,
   "metadata": {},
   "outputs": [
    {
     "data": {
      "text/plain": [
       "(3.1149113764076586,\n",
       " 0.37424519206613077,\n",
       " 3,\n",
       " array([[21.44366197, 13.55633803],\n",
       "        [18.99295775, 12.00704225],\n",
       "        [26.34507042, 16.65492958],\n",
       "        [20.21830986, 12.78169014]]))"
      ]
     },
     "execution_count": 239,
     "metadata": {},
     "output_type": "execute_result"
    }
   ],
   "source": [
    "Seizoen_Ant_event = pd.crosstab(df_D['Seizoen'], df_D['Ant_event_respiratory'])\n",
    "stats.chi2_contingency(Seizoen_Ant_event)"
   ]
  },
  {
   "cell_type": "markdown",
   "metadata": {},
   "source": [
    "Bij alle klimaten is het statistisch onafhankelijk "
   ]
  },
  {
   "cell_type": "code",
   "execution_count": 240,
   "metadata": {},
   "outputs": [
    {
     "name": "stdout",
     "output_type": "stream",
     "text": [
      "Seizoen                Herfst  Lente  Winter  Zomer\n",
      "Ant_event_vaccination                              \n",
      "0.0                        38     54      54     41\n",
      "1.0                         1      2       1      0 \n",
      "\n",
      "Seizoen                Herfst  Lente  Winter  Zomer\n",
      "Ant_event_vaccination                              \n",
      "0.0                        19     18      25     17\n",
      "1.0                         0      3       0      0 \n",
      "\n",
      "Seizoen                Herfst  Lente  Winter  Zomer\n",
      "Ant_event_vaccination                              \n",
      "0.0                       166    202     247    186\n",
      "1.0                         2      4       6      8 \n",
      "\n",
      "Seizoen                Herfst  Lente  Winter  Zomer\n",
      "Ant_event_vaccination                              \n",
      "0.0                        35     30      43     33\n",
      "1.0                         0      1       0      0 \n",
      "\n"
     ]
    }
   ],
   "source": [
    "for dateframe in dataframes_klimaat:\n",
    "    freq_table = pd.crosstab(dateframe['Ant_event_vaccination'], dateframe['Seizoen']) \n",
    "    print(freq_table, '\\n')"
   ]
  },
  {
   "cell_type": "markdown",
   "metadata": {},
   "source": [
    "Zelfs alles samen is het niet genoeg waarden voor een chi-kwadraat toets :("
   ]
  },
  {
   "cell_type": "code",
   "execution_count": 241,
   "metadata": {},
   "outputs": [
    {
     "name": "stdout",
     "output_type": "stream",
     "text": [
      "Seizoen          Herfst  Lente  Winter  Zomer\n",
      "Ant_event_other                              \n",
      "0.0                  38     54      48     36\n",
      "1.0                   1      2       7      5 \n",
      "\n",
      "Seizoen          Herfst  Lente  Winter  Zomer\n",
      "Ant_event_other                              \n",
      "0.0                  17     20      25     16\n",
      "1.0                   2      1       0      1 \n",
      "\n",
      "Seizoen          Herfst  Lente  Winter  Zomer\n",
      "Ant_event_other                              \n",
      "0.0                 160    195     244    183\n",
      "1.0                   8     11       9     11 \n",
      "\n",
      "Seizoen          Herfst  Lente  Winter  Zomer\n",
      "Ant_event_other                              \n",
      "0.0                  33     28      41     32\n",
      "1.0                   2      3       2      1 \n",
      "\n"
     ]
    }
   ],
   "source": [
    "for dateframe in dataframes_klimaat:\n",
    "    freq_table = pd.crosstab(dateframe['Ant_event_other'], dateframe['Seizoen']) \n",
    "    print(freq_table, '\\n')"
   ]
  },
  {
   "cell_type": "markdown",
   "metadata": {},
   "source": [
    "Alleen C heeft genoeg waarden, dus worden chi-kwadraat toetsen voor de hele dataset en voor het C klimaat uitgevoerd"
   ]
  },
  {
   "cell_type": "code",
   "execution_count": 242,
   "metadata": {},
   "outputs": [
    {
     "data": {
      "text/plain": [
       "(0.8341618289150069,\n",
       " 0.841279722287461,\n",
       " 3,\n",
       " array([[247.0631068 ,  13.9368932 ],\n",
       "        [297.23300971,  16.76699029],\n",
       "        [355.9223301 ,  20.0776699 ],\n",
       "        [269.7815534 ,  15.2184466 ]]))"
      ]
     },
     "execution_count": 242,
     "metadata": {},
     "output_type": "execute_result"
    }
   ],
   "source": [
    "Seizoen_Ant_event = pd.crosstab(df['Seizoen'], df['Ant_event_other'])\n",
    "stats.chi2_contingency(Seizoen_Ant_event)"
   ]
  },
  {
   "cell_type": "code",
   "execution_count": 243,
   "metadata": {},
   "outputs": [
    {
     "data": {
      "text/plain": [
       "(1.3168244943354948,\n",
       " 0.7251418637629603,\n",
       " 3,\n",
       " array([[160.01948843,   7.98051157],\n",
       "        [196.21437272,   9.78562728],\n",
       "        [240.9817296 ,  12.0182704 ],\n",
       "        [184.78440926,   9.21559074]]))"
      ]
     },
     "execution_count": 243,
     "metadata": {},
     "output_type": "execute_result"
    }
   ],
   "source": [
    "Seizoen_Ant_event = pd.crosstab(df_C['Seizoen'], df_C['Ant_event_other'])\n",
    "stats.chi2_contingency(Seizoen_Ant_event)"
   ]
  },
  {
   "cell_type": "markdown",
   "metadata": {},
   "source": [
    "Statistisch onafhankelijk"
   ]
  },
  {
   "cell_type": "code",
   "execution_count": null,
   "metadata": {},
   "outputs": [],
   "source": []
  },
  {
   "cell_type": "code",
   "execution_count": null,
   "metadata": {},
   "outputs": [],
   "source": []
  },
  {
   "cell_type": "code",
   "execution_count": null,
   "metadata": {},
   "outputs": [],
   "source": []
  },
  {
   "cell_type": "code",
   "execution_count": null,
   "metadata": {},
   "outputs": [],
   "source": []
  },
  {
   "cell_type": "code",
   "execution_count": null,
   "metadata": {},
   "outputs": [],
   "source": []
  },
  {
   "cell_type": "markdown",
   "metadata": {},
   "source": [
    "#### Able_to_walk_e"
   ]
  },
  {
   "cell_type": "code",
   "execution_count": 244,
   "metadata": {},
   "outputs": [
    {
     "name": "stdout",
     "output_type": "stream",
     "text": [
      "Seizoen         Herfst  Lente  Winter  Zomer\n",
      "Able_to_walk_e                              \n",
      "0.0                 38     49      53     38\n",
      "1.0                  9      9       4      5 \n",
      "\n",
      "Seizoen         Herfst  Lente  Winter  Zomer\n",
      "Able_to_walk_e                              \n",
      "0.0                 15     12      21      9\n",
      "1.0                  4     11       6      9 \n",
      "\n",
      "Seizoen         Herfst  Lente  Winter  Zomer\n",
      "Able_to_walk_e                              \n",
      "0.0                126    158     198    139\n",
      "1.0                 48     59      72     69 \n",
      "\n",
      "Seizoen         Herfst  Lente  Winter  Zomer\n",
      "Able_to_walk_e                              \n",
      "0.0                 29     24      39     28\n",
      "1.0                  9      9       7      6 \n",
      "\n"
     ]
    }
   ],
   "source": [
    "for dateframe in dataframes_klimaat:\n",
    "    freq_table = pd.crosstab(dateframe['Able_to_walk_e'], dateframe['Seizoen']) \n",
    "    print(freq_table, '\\n')"
   ]
  },
  {
   "cell_type": "code",
   "execution_count": 245,
   "metadata": {},
   "outputs": [
    {
     "data": {
      "text/plain": [
       "(4.81494762415157,\n",
       " 0.18586003710827367,\n",
       " 3,\n",
       " array([[206.80487805, 246.23170732, 297.56097561, 225.40243902],\n",
       "        [ 71.19512195,  84.76829268, 102.43902439,  77.59756098]]))"
      ]
     },
     "execution_count": 245,
     "metadata": {},
     "output_type": "execute_result"
    }
   ],
   "source": [
    "Seizoen_Able_to_walk_e = pd.crosstab(df['Able_to_walk_e'], df['Seizoen'])\n",
    "stats.chi2_contingency(Seizoen_Able_to_walk_e)"
   ]
  },
  {
   "cell_type": "code",
   "execution_count": 246,
   "metadata": {},
   "outputs": [
    {
     "data": {
      "text/plain": [
       "(7.04439559998394,\n",
       " 0.07049611519687934,\n",
       " 3,\n",
       " array([[12.44827586, 15.06896552, 17.68965517, 11.79310345],\n",
       "        [ 6.55172414,  7.93103448,  9.31034483,  6.20689655]]))"
      ]
     },
     "execution_count": 246,
     "metadata": {},
     "output_type": "execute_result"
    }
   ],
   "source": [
    "df_B_Able_to_walk_e = pd.crosstab(df_B['Able_to_walk_e'], df_B['Seizoen'])\n",
    "stats.chi2_contingency(df_B_Able_to_walk_e)"
   ]
  },
  {
   "cell_type": "code",
   "execution_count": 247,
   "metadata": {},
   "outputs": [
    {
     "data": {
      "text/plain": [
       "(2.925718813608853,\n",
       " 0.4032202346996997,\n",
       " 3,\n",
       " array([[124.3429229 , 155.07134638, 192.94591484, 148.63981588],\n",
       "        [ 49.6570771 ,  61.92865362,  77.05408516,  59.36018412]]))"
      ]
     },
     "execution_count": 247,
     "metadata": {},
     "output_type": "execute_result"
    }
   ],
   "source": [
    "df_C_Able_to_walk_e = pd.crosstab(df_C['Able_to_walk_e'], df_C['Seizoen'])\n",
    "stats.chi2_contingency(df_C_Able_to_walk_e)"
   ]
  },
  {
   "cell_type": "code",
   "execution_count": 248,
   "metadata": {},
   "outputs": [
    {
     "data": {
      "text/plain": [
       "(2.1202901938941827,\n",
       " 0.5478188380239974,\n",
       " 3,\n",
       " array([[30.1986755 , 26.22516556, 36.55629139, 27.01986755],\n",
       "        [ 7.8013245 ,  6.77483444,  9.44370861,  6.98013245]]))"
      ]
     },
     "execution_count": 248,
     "metadata": {},
     "output_type": "execute_result"
    }
   ],
   "source": [
    "df_D_Able_to_walk_e = pd.crosstab(df_D['Able_to_walk_e'], df_D['Seizoen'])\n",
    "stats.chi2_contingency(df_D_Able_to_walk_e)"
   ]
  },
  {
   "cell_type": "markdown",
   "metadata": {},
   "source": [
    "#### Able_to_walk_w1"
   ]
  },
  {
   "cell_type": "code",
   "execution_count": 249,
   "metadata": {},
   "outputs": [
    {
     "name": "stdout",
     "output_type": "stream",
     "text": [
      "Seizoen          Herfst  Lente  Winter  Zomer\n",
      "Able_to_walk_w1                              \n",
      "0.0                  37     39      50     35\n",
      "1.0                  10     18       7      8 \n",
      "\n",
      "Seizoen          Herfst  Lente  Winter  Zomer\n",
      "Able_to_walk_w1                              \n",
      "0.0                  15     12      18      8\n",
      "1.0                   5     12       9      9 \n",
      "\n",
      "Seizoen          Herfst  Lente  Winter  Zomer\n",
      "Able_to_walk_w1                              \n",
      "0.0                 123    145     183    136\n",
      "1.0                  52     72      86     70 \n",
      "\n",
      "Seizoen          Herfst  Lente  Winter  Zomer\n",
      "Able_to_walk_w1                              \n",
      "0.0                  23     22      34     23\n",
      "1.0                  14     11      13     11 \n",
      "\n"
     ]
    }
   ],
   "source": [
    "for dateframe in dataframes_klimaat:\n",
    "    freq_table = pd.crosstab(dateframe['Able_to_walk_w1'], dateframe['Seizoen']) \n",
    "    print(freq_table, '\\n')"
   ]
  },
  {
   "cell_type": "code",
   "execution_count": 250,
   "metadata": {},
   "outputs": [
    {
     "data": {
      "text/plain": [
       "(3.3590834681264,\n",
       " 0.3395036202025446,\n",
       " 3,\n",
       " array([[192.31832061, 228.16259542, 275.72519084, 206.79389313],\n",
       "        [ 86.68167939, 102.83740458, 124.27480916,  93.20610687]]))"
      ]
     },
     "execution_count": 250,
     "metadata": {},
     "output_type": "execute_result"
    }
   ],
   "source": [
    "Seizoen_Able_to_walk_w1 = pd.crosstab(df['Able_to_walk_w1'], df['Seizoen'])\n",
    "stats.chi2_contingency(Seizoen_Able_to_walk_w1)"
   ]
  },
  {
   "cell_type": "code",
   "execution_count": 251,
   "metadata": {},
   "outputs": [
    {
     "name": "stdout",
     "output_type": "stream",
     "text": [
      "Seizoen    Herfst  Lente  Winter  Zomer\n",
      "MRC_sum_e                              \n",
      "0.0             1      5       2      2\n",
      "1.0             0      2       3      1\n",
      "2.0             0      0       0      1\n",
      "3.0             1      0       4      0\n",
      "4.0             1      0       1      0\n",
      "6.0             1      0       0      1\n",
      "7.0             0      2       0      0\n",
      "10.0            0      0       0      1\n",
      "12.0            0      0       1      0\n",
      "14.0            1      1       0      0\n",
      "16.0            0      0       1      1\n",
      "18.0            1      0       1      2\n",
      "20.0            0      1       0      1\n",
      "21.0            0      0       0      1\n",
      "22.0            0      0       3      0\n",
      "23.0            1      1       1      0\n",
      "24.0            0      1       0      1\n",
      "25.0            0      1       0      0\n",
      "26.0            1      0       1      0\n",
      "27.0            0      1       0      0\n",
      "28.0            2      1       1      0\n",
      "30.0            0      0       1      0\n",
      "31.0            0      0       0      1\n",
      "32.0            0      2       0      2\n",
      "33.0            1      0       2      1\n",
      "34.0            1      1       0      2\n",
      "35.0            0      2       2      0\n",
      "36.0            1      1       0      0\n",
      "37.0            2      0       1      0\n",
      "38.0            1      1       0      1\n",
      "39.0            0      1       0      1\n",
      "40.0            1      1       2      0\n",
      "41.0            0      2       1      0\n",
      "42.0            2      1       1      0\n",
      "43.0            0      2       2      1\n",
      "44.0            0      1       5      1\n",
      "45.0            1      0       2      1\n",
      "46.0            2      3       2      4\n",
      "47.0            4      1       2      1\n",
      "48.0            3      0       3      1\n",
      "49.0            1      3       1      1\n",
      "50.0            4      1       1      2\n",
      "51.0            1      2       0      1\n",
      "52.0            0      2       2      1\n",
      "53.0            2      1       1      1\n",
      "54.0            2      0       0      2\n",
      "55.0            0      1       1      1\n",
      "56.0            0      5       2      0\n",
      "57.0            2      2       1      0\n",
      "58.0            2      2       0      1\n",
      "59.0            2      1       0      2\n",
      "60.0            2      2       1      2 \n",
      "\n",
      "Seizoen    Herfst  Lente  Winter  Zomer\n",
      "MRC_sum_e                              \n",
      "3.0             0      1       0      0\n",
      "6.0             0      0       1      0\n",
      "15.0            0      0       1      0\n",
      "17.0            0      1       1      0\n",
      "27.0            1      0       1      1\n",
      "30.0            2      0       1      0\n",
      "31.0            0      1       0      0\n",
      "32.0            0      0       0      1\n",
      "34.0            1      0       0      1\n",
      "35.0            0      1       0      1\n",
      "36.0            2      1       0      0\n",
      "38.0            0      1       0      0\n",
      "39.0            1      0       0      0\n",
      "40.0            2      0       1      1\n",
      "41.0            1      0       0      0\n",
      "42.0            0      0       1      0\n",
      "43.0            2      1       0      0\n",
      "44.0            0      0       0      1\n",
      "45.0            1      2       2      1\n",
      "46.0            0      0       1      0\n",
      "47.0            1      0       2      1\n",
      "48.0            0      1       1      0\n",
      "49.0            0      0       1      1\n",
      "50.0            0      0       2      0\n",
      "51.0            1      2       1      1\n",
      "52.0            1      0       1      0\n",
      "53.0            1      0       1      0\n",
      "54.0            0      0       0      1\n",
      "55.0            1      3       0      0\n",
      "56.0            0      1       2      0\n",
      "57.0            1      0       1      0\n",
      "58.0            0      2       1      2\n",
      "59.0            1      2       0      4\n",
      "60.0            0      3       3      0 \n",
      "\n",
      "Seizoen    Herfst  Lente  Winter  Zomer\n",
      "MRC_sum_e                              \n",
      "0.0             9      3       4      4\n",
      "1.0             6      2       2      1\n",
      "2.0             1      2       2      2\n",
      "3.0             0      5       2      1\n",
      "4.0             0      1       1      1\n",
      "...           ...    ...     ...    ...\n",
      "56.0            5      9       9      3\n",
      "57.0            6      4      10      7\n",
      "58.0            4      7       8      6\n",
      "59.0           10     15      12     16\n",
      "60.0           12     20      23     18\n",
      "\n",
      "[61 rows x 4 columns] \n",
      "\n",
      "Seizoen    Herfst  Lente  Winter  Zomer\n",
      "MRC_sum_e                              \n",
      "0.0             2      1       0      1\n",
      "1.0             0      0       0      1\n",
      "2.0             0      1       0      0\n",
      "3.0             0      0       1      0\n",
      "4.0             1      1       0      0\n",
      "5.0             0      1       0      0\n",
      "10.0            1      1       0      0\n",
      "12.0            0      1       0      2\n",
      "15.0            0      1       0      0\n",
      "16.0            0      1       0      0\n",
      "18.0            1      0       0      1\n",
      "19.0            0      0       1      0\n",
      "21.0            0      0       1      0\n",
      "22.0            1      0       0      0\n",
      "23.0            0      0       1      0\n",
      "24.0            0      1       1      0\n",
      "25.0            0      0       0      1\n",
      "27.0            0      0       0      1\n",
      "28.0            0      0       2      1\n",
      "29.0            1      0       0      0\n",
      "30.0            0      0       1      0\n",
      "31.0            0      0       1      0\n",
      "33.0            0      0       2      0\n",
      "34.0            1      0       0      1\n",
      "35.0            1      0       1      0\n",
      "36.0            0      0       1      1\n",
      "37.0            0      0       3      0\n",
      "38.0            0      1       0      2\n",
      "39.0            2      1       1      0\n",
      "40.0            0      0       2      1\n",
      "41.0            0      0       1      3\n",
      "42.0            0      0       1      0\n",
      "43.0            1      1       1      0\n",
      "44.0            2      1       0      0\n",
      "45.0            3      0       1      1\n",
      "46.0            1      1       2      0\n",
      "47.0            0      2       2      3\n",
      "48.0            2      0       0      0\n",
      "49.0            0      0       0      2\n",
      "50.0            0      0       3      0\n",
      "51.0            4      0       2      0\n",
      "52.0            1      3       3      1\n",
      "53.0            0      2       1      0\n",
      "54.0            2      0       0      2\n",
      "55.0            4      1       0      2\n",
      "56.0            1      2       0      2\n",
      "57.0            1      1       1      0\n",
      "58.0            0      2       4      0\n",
      "59.0            2      1       2      2\n",
      "60.0            3      4       3      2 \n",
      "\n"
     ]
    },
    {
     "data": {
      "text/plain": [
       "Text(0.5, 1.0, 'Seizoensverdeling MRC_sun_e over de seizoenen')"
      ]
     },
     "execution_count": 251,
     "metadata": {},
     "output_type": "execute_result"
    },
    {
     "data": {
      "image/png": "[encoded data removed]",
      "text/plain": [
       "<Figure size 432x288 with 1 Axes>"
      ]
     },
     "metadata": {
      "needs_background": "light"
     },
     "output_type": "display_data"
    }
   ],
   "source": [
    "frequentietabellen=[]\n",
    "\n",
    "for dateframe in dataframes_klimaat:\n",
    "    freq_table = pd.crosstab(dateframe['MRC_sum_e'], dateframe['Seizoen']) \n",
    "    frequentietabellen.append(freq_table)\n",
    "    print(freq_table, '\\n')\n",
    "\n",
    "combined_freq_table = pd.concat(frequentietabellen)\n",
    "\n",
    "combined_freq_table = combined_freq_table.groupby(combined_freq_table.index).sum()\n",
    "\n",
    "combined_freq_table.plot(kind='bar', stacked=True).set_title('Seizoensverdeling MRC_sun_e over de seizoenen')\n"
   ]
  },
  {
   "cell_type": "markdown",
   "metadata": {},
   "source": [
    "#### ANOVA uitvoeren"
   ]
  },
  {
   "cell_type": "code",
   "execution_count": 252,
   "metadata": {},
   "outputs": [
    {
     "name": "stdout",
     "output_type": "stream",
     "text": [
      "                   sum_sq      df         F    PR(>F)\n",
      "C(Seizoen)     110.231717     3.0  0.134426  0.939545\n",
      "Residual    354793.657684  1298.0       NaN       NaN\n"
     ]
    }
   ],
   "source": [
    "df_mrc_e = df[['MRC_sum_e', 'Seizoen']]\n",
    "model_1 = ols('MRC_sum_e ~ C(Seizoen)', data=df_mrc_e).fit()\n",
    "anova_table = sm.stats.anova_lm(model_1, typ=2)\n",
    "print(anova_table)"
   ]
  },
  {
   "cell_type": "markdown",
   "metadata": {},
   "source": [
    "#### Residuen testen op normaliteit met shapiro-wilk toets en QQ-plot tekenen"
   ]
  },
  {
   "cell_type": "code",
   "execution_count": 253,
   "metadata": {},
   "outputs": [
    {
     "name": "stdout",
     "output_type": "stream",
     "text": [
      "ShapiroResult(statistic=0.8740780353546143, pvalue=3.66684624681098e-31)\n"
     ]
    },
    {
     "data": {
      "image/png": "[encoded data removed]",
      "text/plain": [
       "<Figure size 432x288 with 1 Axes>"
      ]
     },
     "metadata": {
      "needs_background": "light"
     },
     "output_type": "display_data"
    }
   ],
   "source": [
    "residuen = model_1.resid\n",
    "\n",
    "print(stats.shapiro(residuen))\n",
    "\n",
    "sm.qqplot(residuen, line = 's' )\n",
    "# line = s =>standardized line, the expected order statistics are scaled by the standard deviation \n",
    "# of the given sample and have the mean added to them\n",
    "# https://www.statsmodels.org/dev/generated/statsmodels.graphics.gofplots.qqplot.html\n",
    "plt.title('QQ-plot van de reisduen')\n",
    "plt.show()\n"
   ]
  },
  {
   "cell_type": "markdown",
   "metadata": {},
   "source": [
    "Niet normaal verdeeld, kan geen anova uitvoeren, dus pair wise t-toets"
   ]
  },
  {
   "cell_type": "markdown",
   "metadata": {},
   "source": [
    "#### MRC_sum_e"
   ]
  },
  {
   "cell_type": "code",
   "execution_count": 254,
   "metadata": {},
   "outputs": [],
   "source": [
    "df_lente = df[df['Seizoen']=='Lente']\n",
    "df_lente_mrc_e = df_lente['MRC_sum_e'].dropna()"
   ]
  },
  {
   "cell_type": "code",
   "execution_count": 255,
   "metadata": {},
   "outputs": [],
   "source": [
    "df_zomer = df[df['Seizoen']=='Zomer']\n",
    "df_zomer_mrc_e = df_zomer['MRC_sum_e'].dropna()"
   ]
  },
  {
   "cell_type": "code",
   "execution_count": 256,
   "metadata": {},
   "outputs": [],
   "source": [
    "df_herfst = df[df['Seizoen']=='Herfst']\n",
    "df_herfst_mrc_e = df_herfst['MRC_sum_e'].dropna()"
   ]
  },
  {
   "cell_type": "code",
   "execution_count": 257,
   "metadata": {},
   "outputs": [],
   "source": [
    "df_winter = df[df['Seizoen']=='Winter']\n",
    "df_winter_mrc_e = df_winter['MRC_sum_e'].dropna()"
   ]
  },
  {
   "cell_type": "code",
   "execution_count": 258,
   "metadata": {},
   "outputs": [
    {
     "data": {
      "text/plain": [
       "Ttest_indResult(statistic=-0.3975787567276532, pvalue=0.691075822060262)"
      ]
     },
     "execution_count": 258,
     "metadata": {},
     "output_type": "execute_result"
    }
   ],
   "source": [
    "stats.ttest_ind(df_lente_mrc_e, df_zomer_mrc_e)"
   ]
  },
  {
   "cell_type": "code",
   "execution_count": 259,
   "metadata": {},
   "outputs": [
    {
     "data": {
      "text/plain": [
       "Ttest_indResult(statistic=0.17146194665194978, pvalue=0.8639180720441522)"
      ]
     },
     "execution_count": 259,
     "metadata": {},
     "output_type": "execute_result"
    }
   ],
   "source": [
    "stats.ttest_ind(df_lente_mrc_e, df_herfst_mrc_e)"
   ]
  },
  {
   "cell_type": "code",
   "execution_count": 260,
   "metadata": {},
   "outputs": [
    {
     "data": {
      "text/plain": [
       "Ttest_indResult(statistic=0.1340512936691759, pvalue=0.8933993191443476)"
      ]
     },
     "execution_count": 260,
     "metadata": {},
     "output_type": "execute_result"
    }
   ],
   "source": [
    "stats.ttest_ind(df_lente_mrc_e, df_winter_mrc_e)"
   ]
  },
  {
   "cell_type": "code",
   "execution_count": 261,
   "metadata": {},
   "outputs": [
    {
     "data": {
      "text/plain": [
       "Ttest_indResult(statistic=0.5569441319781446, pvalue=0.5777823099944884)"
      ]
     },
     "execution_count": 261,
     "metadata": {},
     "output_type": "execute_result"
    }
   ],
   "source": [
    "stats.ttest_ind(df_zomer_mrc_e, df_herfst_mrc_e)"
   ]
  },
  {
   "cell_type": "code",
   "execution_count": 262,
   "metadata": {},
   "outputs": [
    {
     "data": {
      "text/plain": [
       "Ttest_indResult(statistic=0.5673307415975231, pvalue=0.5706726938155942)"
      ]
     },
     "execution_count": 262,
     "metadata": {},
     "output_type": "execute_result"
    }
   ],
   "source": [
    "stats.ttest_ind(df_zomer_mrc_e, df_winter_mrc_e)"
   ]
  },
  {
   "cell_type": "code",
   "execution_count": 263,
   "metadata": {},
   "outputs": [
    {
     "data": {
      "text/plain": [
       "Ttest_indResult(statistic=-0.05805695778196898, pvalue=0.9537205696650012)"
      ]
     },
     "execution_count": 263,
     "metadata": {},
     "output_type": "execute_result"
    }
   ],
   "source": [
    "stats.ttest_ind(df_herfst_mrc_e, df_winter_mrc_e)"
   ]
  },
  {
   "cell_type": "markdown",
   "metadata": {},
   "source": [
    "#### Klimaat A"
   ]
  },
  {
   "cell_type": "code",
   "execution_count": 264,
   "metadata": {},
   "outputs": [],
   "source": [
    "df_lente = df[df['Seizoen']=='Lente']\n",
    "df_lente_A = df_lente[df_lente['klimaat'] == 'A Klimaat']\n",
    "df_lente_A_mrc_e = df_lente_A['MRC_sum_e'].dropna()\n",
    "\n",
    "df_zomer = df[df['Seizoen']=='Zomer']\n",
    "df_zomer_A = df_zomer[df_zomer['klimaat'] == 'A Klimaat']\n",
    "df_zomer_A_mrc_e = df_zomer_A['MRC_sum_e'].dropna()\n",
    "\n",
    "df_herfst = df[df['Seizoen']=='Herfst']\n",
    "df_herfst_A = df_herfst[df_herfst['klimaat'] == 'A Klimaat']\n",
    "df_herfst_A_mrc_e = df_herfst_A['MRC_sum_e'].dropna()\n",
    "\n",
    "df_winter = df[df['Seizoen']=='Winter']\n",
    "df_winter_A = df_winter[df_winter['klimaat'] == 'A Klimaat']\n",
    "df_winter_A_mrc_e = df_winter_A['MRC_sum_e'].dropna()"
   ]
  },
  {
   "cell_type": "code",
   "execution_count": 265,
   "metadata": {},
   "outputs": [
    {
     "data": {
      "text/plain": [
       "Ttest_indResult(statistic=0.17242488216799798, pvalue=0.8634591012214874)"
      ]
     },
     "execution_count": 265,
     "metadata": {},
     "output_type": "execute_result"
    }
   ],
   "source": [
    "stats.ttest_ind(df_lente_A_mrc_e, df_zomer_A_mrc_e)"
   ]
  },
  {
   "cell_type": "code",
   "execution_count": 266,
   "metadata": {},
   "outputs": [
    {
     "data": {
      "text/plain": [
       "Ttest_indResult(statistic=-1.0786385437724213, pvalue=0.2832930684623015)"
      ]
     },
     "execution_count": 266,
     "metadata": {},
     "output_type": "execute_result"
    }
   ],
   "source": [
    "stats.ttest_ind(df_lente_A_mrc_e, df_herfst_A_mrc_e)"
   ]
  },
  {
   "cell_type": "code",
   "execution_count": 267,
   "metadata": {},
   "outputs": [
    {
     "data": {
      "text/plain": [
       "Ttest_indResult(statistic=1.1364706255999273, pvalue=0.25822945688029486)"
      ]
     },
     "execution_count": 267,
     "metadata": {},
     "output_type": "execute_result"
    }
   ],
   "source": [
    "stats.ttest_ind(df_lente_A_mrc_e, df_winter_A_mrc_e)"
   ]
  },
  {
   "cell_type": "code",
   "execution_count": 268,
   "metadata": {},
   "outputs": [
    {
     "data": {
      "text/plain": [
       "Ttest_indResult(statistic=-1.2204771919139683, pvalue=0.2255443875877022)"
      ]
     },
     "execution_count": 268,
     "metadata": {},
     "output_type": "execute_result"
    }
   ],
   "source": [
    "stats.ttest_ind(df_zomer_A_mrc_e, df_herfst_A_mrc_e)"
   ]
  },
  {
   "cell_type": "code",
   "execution_count": 269,
   "metadata": {},
   "outputs": [
    {
     "data": {
      "text/plain": [
       "Ttest_indResult(statistic=0.9013189359356614, pvalue=0.36967445473612237)"
      ]
     },
     "execution_count": 269,
     "metadata": {},
     "output_type": "execute_result"
    }
   ],
   "source": [
    "stats.ttest_ind(df_zomer_A_mrc_e, df_winter_A_mrc_e)"
   ]
  },
  {
   "cell_type": "code",
   "execution_count": 270,
   "metadata": {},
   "outputs": [
    {
     "data": {
      "text/plain": [
       "Ttest_indResult(statistic=2.2572419809606656, pvalue=0.02616769803687231)"
      ]
     },
     "execution_count": 270,
     "metadata": {},
     "output_type": "execute_result"
    }
   ],
   "source": [
    "stats.ttest_ind(df_herfst_A_mrc_e, df_winter_A_mrc_e)"
   ]
  },
  {
   "cell_type": "markdown",
   "metadata": {},
   "source": [
    "#### Klimaat B"
   ]
  },
  {
   "cell_type": "code",
   "execution_count": 271,
   "metadata": {},
   "outputs": [],
   "source": [
    "df_lente = df[df['Seizoen']=='Lente']\n",
    "df_lente_B = df_lente[df_lente['klimaat'] == 'B Klimaat']\n",
    "df_lente_B_mrc_e = df_lente_B['MRC_sum_e'].dropna()\n",
    "\n",
    "df_zomer = df[df['Seizoen']=='Zomer']\n",
    "df_lente_B = df_zomer[df_zomer['klimaat'] == 'B Klimaat']\n",
    "df_zomer_B_mrc_e = df_lente_B['MRC_sum_e'].dropna()\n",
    "\n",
    "df_herfst = df[df['Seizoen']=='Herfst']\n",
    "df_herfst_B = df_herfst[df_herfst['klimaat'] == 'B Klimaat']\n",
    "df_herfst_B_mrc_e = df_herfst_B['MRC_sum_e'].dropna()\n",
    "\n",
    "df_winter = df[df['Seizoen']=='Winter']\n",
    "df_winter_B = df_winter[df_winter['klimaat'] == 'B Klimaat']\n",
    "df_winter_B_mrc_e = df_winter_B['MRC_sum_e'].dropna()"
   ]
  },
  {
   "cell_type": "code",
   "execution_count": 272,
   "metadata": {},
   "outputs": [
    {
     "data": {
      "text/plain": [
       "Ttest_indResult(statistic=-0.1832790539862144, pvalue=0.8555535031799215)"
      ]
     },
     "execution_count": 272,
     "metadata": {},
     "output_type": "execute_result"
    }
   ],
   "source": [
    "stats.ttest_ind(df_lente_B_mrc_e, df_zomer_B_mrc_e)"
   ]
  },
  {
   "cell_type": "code",
   "execution_count": 273,
   "metadata": {},
   "outputs": [
    {
     "data": {
      "text/plain": [
       "Ttest_indResult(statistic=1.033028811537846, pvalue=0.30764564707740544)"
      ]
     },
     "execution_count": 273,
     "metadata": {},
     "output_type": "execute_result"
    }
   ],
   "source": [
    "stats.ttest_ind(df_lente_B_mrc_e, df_herfst_B_mrc_e)"
   ]
  },
  {
   "cell_type": "code",
   "execution_count": 274,
   "metadata": {},
   "outputs": [
    {
     "data": {
      "text/plain": [
       "Ttest_indResult(statistic=0.47408291956988513, pvalue=0.637635888399338)"
      ]
     },
     "execution_count": 274,
     "metadata": {},
     "output_type": "execute_result"
    }
   ],
   "source": [
    "stats.ttest_ind(df_lente_B_mrc_e, df_winter_B_mrc_e)"
   ]
  },
  {
   "cell_type": "code",
   "execution_count": 275,
   "metadata": {},
   "outputs": [
    {
     "data": {
      "text/plain": [
       "Ttest_indResult(statistic=1.4284997650597513, pvalue=0.16201197401776413)"
      ]
     },
     "execution_count": 275,
     "metadata": {},
     "output_type": "execute_result"
    }
   ],
   "source": [
    "stats.ttest_ind(df_zomer_B_mrc_e, df_herfst_B_mrc_e)"
   ]
  },
  {
   "cell_type": "code",
   "execution_count": 276,
   "metadata": {},
   "outputs": [
    {
     "data": {
      "text/plain": [
       "Ttest_indResult(statistic=0.6715852286200144, pvalue=0.5056144318763897)"
      ]
     },
     "execution_count": 276,
     "metadata": {},
     "output_type": "execute_result"
    }
   ],
   "source": [
    "stats.ttest_ind(df_zomer_B_mrc_e, df_winter_B_mrc_e)"
   ]
  },
  {
   "cell_type": "code",
   "execution_count": 277,
   "metadata": {},
   "outputs": [
    {
     "data": {
      "text/plain": [
       "Ttest_indResult(statistic=-0.5319801326759199, pvalue=0.5974158026292029)"
      ]
     },
     "execution_count": 277,
     "metadata": {},
     "output_type": "execute_result"
    }
   ],
   "source": [
    "stats.ttest_ind(df_herfst_B_mrc_e, df_winter_B_mrc_e)"
   ]
  },
  {
   "cell_type": "markdown",
   "metadata": {},
   "source": [
    "#### Klimaat C"
   ]
  },
  {
   "cell_type": "code",
   "execution_count": 278,
   "metadata": {},
   "outputs": [],
   "source": [
    "df_lente = df[df['Seizoen'] == 'Lente']\n",
    "df_lente_C = df_lente[df_lente['klimaat'] == 'C Klimaat']\n",
    "df_lente_C_mrc_e = df_lente_C['MRC_sum_e'].dropna()\n",
    "\n",
    "df_zomer = df[df['Seizoen'] == 'Zomer']\n",
    "df_zomer_C = df_zomer[df_zomer['klimaat'] == 'C Klimaat']\n",
    "df_zomer_C_mrc_e = df_zomer_C['MRC_sum_e'].dropna()\n",
    "\n",
    "df_herfst = df[df['Seizoen'] == 'Herfst']\n",
    "df_herfst_C = df_herfst[df_herfst['klimaat'] == 'C Klimaat']\n",
    "df_herfst_C_mrc_e = df_herfst_C['MRC_sum_e'].dropna()\n",
    "\n",
    "df_winter = df[df['Seizoen'] == 'Winter']\n",
    "df_winter_C = df_winter[df_winter['klimaat'] == 'C Klimaat']\n",
    "df_winter_C_mrc_e = df_winter_C['MRC_sum_e'].dropna()"
   ]
  },
  {
   "cell_type": "code",
   "execution_count": 279,
   "metadata": {},
   "outputs": [
    {
     "data": {
      "text/plain": [
       "Ttest_indResult(statistic=-0.4665918059121626, pvalue=0.6410321604121328)"
      ]
     },
     "execution_count": 279,
     "metadata": {},
     "output_type": "execute_result"
    }
   ],
   "source": [
    "stats.ttest_ind(df_lente_C_mrc_e, df_zomer_C_mrc_e)"
   ]
  },
  {
   "cell_type": "code",
   "execution_count": 280,
   "metadata": {},
   "outputs": [
    {
     "data": {
      "text/plain": [
       "Ttest_indResult(statistic=0.8203206562946813, pvalue=0.4125396097158809)"
      ]
     },
     "execution_count": 280,
     "metadata": {},
     "output_type": "execute_result"
    }
   ],
   "source": [
    "stats.ttest_ind(df_lente_C_mrc_e, df_herfst_C_mrc_e)"
   ]
  },
  {
   "cell_type": "code",
   "execution_count": 281,
   "metadata": {},
   "outputs": [
    {
     "data": {
      "text/plain": [
       "Ttest_indResult(statistic=-0.10746013555448691, pvalue=0.9144684788331611)"
      ]
     },
     "execution_count": 281,
     "metadata": {},
     "output_type": "execute_result"
    }
   ],
   "source": [
    "stats.ttest_ind(df_lente_C_mrc_e, df_winter_C_mrc_e)"
   ]
  },
  {
   "cell_type": "code",
   "execution_count": 282,
   "metadata": {},
   "outputs": [
    {
     "data": {
      "text/plain": [
       "Ttest_indResult(statistic=1.243011261448791, pvalue=0.2146361802165554)"
      ]
     },
     "execution_count": 282,
     "metadata": {},
     "output_type": "execute_result"
    }
   ],
   "source": [
    "stats.ttest_ind(df_zomer_C_mrc_e, df_herfst_C_mrc_e)"
   ]
  },
  {
   "cell_type": "code",
   "execution_count": 283,
   "metadata": {},
   "outputs": [
    {
     "data": {
      "text/plain": [
       "Ttest_indResult(statistic=0.39399671542890735, pvalue=0.6937602756370076)"
      ]
     },
     "execution_count": 283,
     "metadata": {},
     "output_type": "execute_result"
    }
   ],
   "source": [
    "stats.ttest_ind(df_zomer_C_mrc_e, df_winter_C_mrc_e)"
   ]
  },
  {
   "cell_type": "code",
   "execution_count": 284,
   "metadata": {},
   "outputs": [
    {
     "data": {
      "text/plain": [
       "Ttest_indResult(statistic=-0.9799161964623329, pvalue=0.32766842353413617)"
      ]
     },
     "execution_count": 284,
     "metadata": {},
     "output_type": "execute_result"
    }
   ],
   "source": [
    "stats.ttest_ind(df_herfst_C_mrc_e, df_winter_C_mrc_e)"
   ]
  },
  {
   "cell_type": "markdown",
   "metadata": {},
   "source": [
    "#### Klimaat D"
   ]
  },
  {
   "cell_type": "code",
   "execution_count": 285,
   "metadata": {},
   "outputs": [],
   "source": [
    "df_lente = df[df['Seizoen'] == 'Lente']\n",
    "df_lente_D = df_lente[df_lente['klimaat'] == 'D Klimaat']\n",
    "df_lente_D_mrc_e = df_lente_D['MRC_sum_e'].dropna()\n",
    "\n",
    "df_zomer = df[df['Seizoen'] == 'Zomer']\n",
    "df_zomer_D = df_zomer[df_zomer['klimaat'] == 'D Klimaat']\n",
    "df_zomer_D_mrc_e = df_zomer_D['MRC_sum_e'].dropna()\n",
    "\n",
    "df_herfst = df[df['Seizoen'] == 'Herfst']\n",
    "df_herfst_D = df_herfst[df_herfst['klimaat'] == 'D Klimaat']\n",
    "df_herfst_D_mrc_e = df_herfst_D['MRC_sum_e'].dropna()\n",
    "\n",
    "df_winter = df[df['Seizoen'] == 'Winter']\n",
    "df_winter_D = df_winter[df_winter['klimaat'] == 'D Klimaat']\n",
    "df_winter_D_mrc_e = df_winter_D['MRC_sum_e'].dropna()"
   ]
  },
  {
   "cell_type": "code",
   "execution_count": 286,
   "metadata": {},
   "outputs": [
    {
     "data": {
      "text/plain": [
       "Ttest_indResult(statistic=-0.016804788828928795, pvalue=0.9866454567918623)"
      ]
     },
     "execution_count": 286,
     "metadata": {},
     "output_type": "execute_result"
    }
   ],
   "source": [
    "stats.ttest_ind(df_lente_D_mrc_e, df_zomer_D_mrc_e)"
   ]
  },
  {
   "cell_type": "code",
   "execution_count": 287,
   "metadata": {},
   "outputs": [
    {
     "data": {
      "text/plain": [
       "Ttest_indResult(statistic=-0.5697289124425807, pvalue=0.5707390277738525)"
      ]
     },
     "execution_count": 287,
     "metadata": {},
     "output_type": "execute_result"
    }
   ],
   "source": [
    "stats.ttest_ind(df_lente_D_mrc_e, df_herfst_D_mrc_e)"
   ]
  },
  {
   "cell_type": "code",
   "execution_count": 288,
   "metadata": {},
   "outputs": [
    {
     "data": {
      "text/plain": [
       "Ttest_indResult(statistic=-0.6825428934509726, pvalue=0.49697091615411093)"
      ]
     },
     "execution_count": 288,
     "metadata": {},
     "output_type": "execute_result"
    }
   ],
   "source": [
    "stats.ttest_ind(df_lente_D_mrc_e, df_winter_D_mrc_e)"
   ]
  },
  {
   "cell_type": "code",
   "execution_count": 289,
   "metadata": {},
   "outputs": [
    {
     "data": {
      "text/plain": [
       "Ttest_indResult(statistic=-0.6168479380090852, pvalue=0.5393651278519493)"
      ]
     },
     "execution_count": 289,
     "metadata": {},
     "output_type": "execute_result"
    }
   ],
   "source": [
    "stats.ttest_ind(df_zomer_D_mrc_e, df_herfst_D_mrc_e)"
   ]
  },
  {
   "cell_type": "code",
   "execution_count": 290,
   "metadata": {},
   "outputs": [
    {
     "data": {
      "text/plain": [
       "Ttest_indResult(statistic=-0.7503812459298587, pvalue=0.455312012931955)"
      ]
     },
     "execution_count": 290,
     "metadata": {},
     "output_type": "execute_result"
    }
   ],
   "source": [
    "stats.ttest_ind(df_zomer_D_mrc_e, df_winter_D_mrc_e)"
   ]
  },
  {
   "cell_type": "code",
   "execution_count": 291,
   "metadata": {},
   "outputs": [
    {
     "data": {
      "text/plain": [
       "Ttest_indResult(statistic=-0.014590601947543797, pvalue=0.988394238584568)"
      ]
     },
     "execution_count": 291,
     "metadata": {},
     "output_type": "execute_result"
    }
   ],
   "source": [
    "stats.ttest_ind(df_herfst_D_mrc_e, df_winter_D_mrc_e)"
   ]
  },
  {
   "cell_type": "markdown",
   "metadata": {},
   "source": [
    "#### MRC_sum_w1"
   ]
  },
  {
   "cell_type": "code",
   "execution_count": 292,
   "metadata": {},
   "outputs": [
    {
     "name": "stdout",
     "output_type": "stream",
     "text": [
      "                   sum_sq      df         F    PR(>F)\n",
      "C(Seizoen)     329.660225     3.0  0.331267  0.802752\n",
      "Residual    431895.216497  1302.0       NaN       NaN\n"
     ]
    }
   ],
   "source": [
    "df_mrc_w1 = df[['MRC_sum_w1', 'Seizoen']]\n",
    "model_2 = ols('MRC_sum_w1 ~ C(Seizoen)', data=df_mrc_w1).fit()\n",
    "anova_table = sm.stats.anova_lm(model_2, typ=2)\n",
    "print(anova_table)"
   ]
  },
  {
   "cell_type": "code",
   "execution_count": 293,
   "metadata": {},
   "outputs": [
    {
     "name": "stdout",
     "output_type": "stream",
     "text": [
      "ShapiroResult(statistic=0.8490647077560425, pvalue=1.5278929553549202e-33)\n"
     ]
    },
    {
     "data": {
      "image/png": "[encoded data removed]",
      "text/plain": [
       "<Figure size 432x288 with 1 Axes>"
      ]
     },
     "metadata": {
      "needs_background": "light"
     },
     "output_type": "display_data"
    }
   ],
   "source": [
    "residuen = model_2.resid\n",
    "print(stats.shapiro(residuen))\n",
    "\n",
    "\n",
    "sm.qqplot(residuen, line = 's' )\n",
    "plt.title('QQ-plot van de reisduen')\n",
    "plt.show()"
   ]
  },
  {
   "cell_type": "code",
   "execution_count": 294,
   "metadata": {},
   "outputs": [],
   "source": [
    "df_lente = df[df['Seizoen']=='Lente']\n",
    "df_lente_mrc_w1 = df_lente['MRC_sum_w1'].dropna()\n",
    "\n",
    "df_zomer = df[df['Seizoen']=='Zomer']\n",
    "df_zomer_mrc_w1 = df_zomer['MRC_sum_w1'].dropna()\n",
    "\n",
    "df_herfst = df[df['Seizoen']=='Herfst']\n",
    "df_herfst_mrc_w1 = df_herfst['MRC_sum_w1'].dropna()\n",
    "\n",
    "df_winter = df[df['Seizoen']=='Winter']\n",
    "df_winter_mrc_w1 = df_winter['MRC_sum_w1'].dropna()"
   ]
  },
  {
   "cell_type": "code",
   "execution_count": 295,
   "metadata": {},
   "outputs": [
    {
     "data": {
      "text/plain": [
       "Ttest_indResult(statistic=0.3071328590259369, pvalue=0.7588442266504682)"
      ]
     },
     "execution_count": 295,
     "metadata": {},
     "output_type": "execute_result"
    }
   ],
   "source": [
    "stats.ttest_ind(df_lente_mrc_w1, df_zomer_mrc_w1)"
   ]
  },
  {
   "cell_type": "code",
   "execution_count": 296,
   "metadata": {},
   "outputs": [
    {
     "data": {
      "text/plain": [
       "Ttest_indResult(statistic=0.774257794460052, pvalue=0.43908081575201885)"
      ]
     },
     "execution_count": 296,
     "metadata": {},
     "output_type": "execute_result"
    }
   ],
   "source": [
    "stats.ttest_ind(df_lente_mrc_w1, df_herfst_mrc_w1)"
   ]
  },
  {
   "cell_type": "code",
   "execution_count": 297,
   "metadata": {},
   "outputs": [
    {
     "data": {
      "text/plain": [
       "Ttest_indResult(statistic=-0.12433509696002487, pvalue=0.9010843760657089)"
      ]
     },
     "execution_count": 297,
     "metadata": {},
     "output_type": "execute_result"
    }
   ],
   "source": [
    "stats.ttest_ind(df_lente_mrc_w1, df_winter_mrc_w1)"
   ]
  },
  {
   "cell_type": "code",
   "execution_count": 298,
   "metadata": {},
   "outputs": [
    {
     "data": {
      "text/plain": [
       "Ttest_indResult(statistic=0.4583728920876599, pvalue=0.6468574510140936)"
      ]
     },
     "execution_count": 298,
     "metadata": {},
     "output_type": "execute_result"
    }
   ],
   "source": [
    "stats.ttest_ind(df_zomer_mrc_w1, df_herfst_mrc_w1)"
   ]
  },
  {
   "cell_type": "code",
   "execution_count": 299,
   "metadata": {},
   "outputs": [
    {
     "data": {
      "text/plain": [
       "Ttest_indResult(statistic=-0.45087067621335675, pvalue=0.6522229863816218)"
      ]
     },
     "execution_count": 299,
     "metadata": {},
     "output_type": "execute_result"
    }
   ],
   "source": [
    "stats.ttest_ind(df_zomer_mrc_w1, df_winter_mrc_w1)"
   ]
  },
  {
   "cell_type": "code",
   "execution_count": 300,
   "metadata": {},
   "outputs": [
    {
     "data": {
      "text/plain": [
       "Ttest_indResult(statistic=-0.9502849184182766, pvalue=0.3423076184472841)"
      ]
     },
     "execution_count": 300,
     "metadata": {},
     "output_type": "execute_result"
    }
   ],
   "source": [
    "stats.ttest_ind(df_herfst_mrc_w1, df_winter_mrc_w1)"
   ]
  },
  {
   "cell_type": "markdown",
   "metadata": {},
   "source": [
    "#### klimaat A"
   ]
  },
  {
   "cell_type": "code",
   "execution_count": 301,
   "metadata": {},
   "outputs": [],
   "source": [
    "df_lente = df[df['Seizoen']=='Lente']\n",
    "df_lente_A = df_lente[df_lente['klimaat'] == 'A Klimaat']\n",
    "df_lente_A_mrc_w1 = df_lente_A['MRC_sum_w1'].dropna()\n",
    "\n",
    "df_zomer = df[df['Seizoen']=='Zomer']\n",
    "df_zomer_A = df_zomer[df_zomer['klimaat'] == 'A Klimaat']\n",
    "df_zomer_A_mrc_w1 = df_zomer_A['MRC_sum_w1'].dropna()\n",
    "\n",
    "df_herfst = df[df['Seizoen']=='Herfst']\n",
    "df_herfst_A = df_herfst[df_herfst['klimaat'] == 'A Klimaat']\n",
    "df_herfst_A_mrc_w1 = df_herfst_A['MRC_sum_w1'].dropna()\n",
    "\n",
    "df_winter = df[df['Seizoen']=='Winter']\n",
    "df_winter_A = df_winter[df_winter['klimaat'] == 'A Klimaat']\n",
    "df_winter_A_mrc_w1 = df_winter_A['MRC_sum_w1'].dropna()"
   ]
  },
  {
   "cell_type": "code",
   "execution_count": 302,
   "metadata": {},
   "outputs": [
    {
     "data": {
      "text/plain": [
       "Ttest_indResult(statistic=0.25707234235866666, pvalue=0.7976618948000251)"
      ]
     },
     "execution_count": 302,
     "metadata": {},
     "output_type": "execute_result"
    }
   ],
   "source": [
    "stats.ttest_ind(df_lente_A_mrc_w1, df_zomer_A_mrc_w1)"
   ]
  },
  {
   "cell_type": "code",
   "execution_count": 303,
   "metadata": {},
   "outputs": [
    {
     "data": {
      "text/plain": [
       "Ttest_indResult(statistic=0.013424731872638235, pvalue=0.9893154179334994)"
      ]
     },
     "execution_count": 303,
     "metadata": {},
     "output_type": "execute_result"
    }
   ],
   "source": [
    "stats.ttest_ind(df_lente_A_mrc_w1, df_herfst_A_mrc_w1)"
   ]
  },
  {
   "cell_type": "code",
   "execution_count": 304,
   "metadata": {},
   "outputs": [
    {
     "data": {
      "text/plain": [
       "Ttest_indResult(statistic=0.21010573637874327, pvalue=0.8339703243969361)"
      ]
     },
     "execution_count": 304,
     "metadata": {},
     "output_type": "execute_result"
    }
   ],
   "source": [
    "stats.ttest_ind(df_lente_A_mrc_w1, df_winter_A_mrc_w1)"
   ]
  },
  {
   "cell_type": "code",
   "execution_count": 305,
   "metadata": {},
   "outputs": [
    {
     "data": {
      "text/plain": [
       "Ttest_indResult(statistic=-0.24124609410439599, pvalue=0.8099320504762414)"
      ]
     },
     "execution_count": 305,
     "metadata": {},
     "output_type": "execute_result"
    }
   ],
   "source": [
    "stats.ttest_ind(df_zomer_A_mrc_w1, df_herfst_A_mrc_w1)"
   ]
  },
  {
   "cell_type": "code",
   "execution_count": 306,
   "metadata": {},
   "outputs": [
    {
     "data": {
      "text/plain": [
       "Ttest_indResult(statistic=-0.0660884642346625, pvalue=0.9474434170727098)"
      ]
     },
     "execution_count": 306,
     "metadata": {},
     "output_type": "execute_result"
    }
   ],
   "source": [
    "stats.ttest_ind(df_zomer_A_mrc_w1, df_winter_A_mrc_w1)"
   ]
  },
  {
   "cell_type": "code",
   "execution_count": 307,
   "metadata": {},
   "outputs": [
    {
     "data": {
      "text/plain": [
       "Ttest_indResult(statistic=0.19219708650487924, pvalue=0.8479775856752814)"
      ]
     },
     "execution_count": 307,
     "metadata": {},
     "output_type": "execute_result"
    }
   ],
   "source": [
    "stats.ttest_ind(df_herfst_A_mrc_w1, df_winter_A_mrc_w1)"
   ]
  },
  {
   "cell_type": "markdown",
   "metadata": {},
   "source": [
    "#### klimaat B"
   ]
  },
  {
   "cell_type": "code",
   "execution_count": 308,
   "metadata": {},
   "outputs": [],
   "source": [
    "df_lente = df[df['Seizoen'] == 'Lente']\n",
    "df_lente_B = df_lente[df_lente['klimaat'] == 'B Klimaat']\n",
    "df_lente_B_mrc_w1 = df_lente_B['MRC_sum_w1'].dropna()\n",
    "\n",
    "df_zomer = df[df['Seizoen'] == 'Zomer']\n",
    "df_zomer_B = df_zomer[df_zomer['klimaat'] == 'B Klimaat']\n",
    "df_zomer_B_mrc_w1 = df_zomer_B['MRC_sum_w1'].dropna()\n",
    "\n",
    "df_herfst = df[df['Seizoen'] == 'Herfst']\n",
    "df_herfst_B = df_herfst[df_herfst['klimaat'] == 'B Klimaat']\n",
    "df_herfst_B_mrc_w1 = df_herfst_B['MRC_sum_w1'].dropna()\n",
    "\n",
    "df_winter = df[df['Seizoen'] == 'Winter']\n",
    "df_winter_B = df_winter[df_winter['klimaat'] == 'B Klimaat']\n",
    "df_winter_B_mrc_w1 = df_winter_B['MRC_sum_w1'].dropna()"
   ]
  },
  {
   "cell_type": "code",
   "execution_count": 309,
   "metadata": {},
   "outputs": [
    {
     "data": {
      "text/plain": [
       "Ttest_indResult(statistic=0.40544593733352885, pvalue=0.6874235463106204)"
      ]
     },
     "execution_count": 309,
     "metadata": {},
     "output_type": "execute_result"
    }
   ],
   "source": [
    "stats.ttest_ind(df_lente_B_mrc_w1, df_zomer_B_mrc_w1)"
   ]
  },
  {
   "cell_type": "code",
   "execution_count": 310,
   "metadata": {},
   "outputs": [
    {
     "data": {
      "text/plain": [
       "Ttest_indResult(statistic=1.8979091416018778, pvalue=0.06476407210243663)"
      ]
     },
     "execution_count": 310,
     "metadata": {},
     "output_type": "execute_result"
    }
   ],
   "source": [
    "stats.ttest_ind(df_lente_B_mrc_w1, df_herfst_B_mrc_w1)"
   ]
  },
  {
   "cell_type": "code",
   "execution_count": 311,
   "metadata": {},
   "outputs": [
    {
     "data": {
      "text/plain": [
       "Ttest_indResult(statistic=0.7122328871825775, pvalue=0.4797683687592853)"
      ]
     },
     "execution_count": 311,
     "metadata": {},
     "output_type": "execute_result"
    }
   ],
   "source": [
    "stats.ttest_ind(df_lente_B_mrc_w1, df_winter_B_mrc_w1)"
   ]
  },
  {
   "cell_type": "code",
   "execution_count": 312,
   "metadata": {},
   "outputs": [
    {
     "data": {
      "text/plain": [
       "Ttest_indResult(statistic=1.272760625555293, pvalue=0.21149298969221117)"
      ]
     },
     "execution_count": 312,
     "metadata": {},
     "output_type": "execute_result"
    }
   ],
   "source": [
    "stats.ttest_ind(df_zomer_B_mrc_w1, df_herfst_B_mrc_w1)"
   ]
  },
  {
   "cell_type": "code",
   "execution_count": 313,
   "metadata": {},
   "outputs": [
    {
     "data": {
      "text/plain": [
       "Ttest_indResult(statistic=0.24554732620277311, pvalue=0.8072286082018467)"
      ]
     },
     "execution_count": 313,
     "metadata": {},
     "output_type": "execute_result"
    }
   ],
   "source": [
    "stats.ttest_ind(df_zomer_B_mrc_w1, df_winter_B_mrc_w1)"
   ]
  },
  {
   "cell_type": "code",
   "execution_count": 314,
   "metadata": {},
   "outputs": [
    {
     "data": {
      "text/plain": [
       "Ttest_indResult(statistic=-1.04195821739505, pvalue=0.302996790664978)"
      ]
     },
     "execution_count": 314,
     "metadata": {},
     "output_type": "execute_result"
    }
   ],
   "source": [
    "stats.ttest_ind(df_herfst_B_mrc_w1, df_winter_B_mrc_w1)"
   ]
  },
  {
   "cell_type": "markdown",
   "metadata": {},
   "source": [
    "#### klimaat C"
   ]
  },
  {
   "cell_type": "code",
   "execution_count": 315,
   "metadata": {},
   "outputs": [],
   "source": [
    "df_lente = df[df['Seizoen'] == 'Lente']\n",
    "df_lente_C = df_lente[df_lente['klimaat'] == 'C Klimaat']\n",
    "df_lente_C_mrc_w1 = df_lente_C['MRC_sum_w1'].dropna()\n",
    "\n",
    "df_zomer = df[df['Seizoen'] == 'Zomer']\n",
    "df_zomer_C = df_zomer[df_zomer['klimaat'] == 'C Klimaat']\n",
    "df_zomer_C_mrc_w1 = df_zomer_C['MRC_sum_w1'].dropna()\n",
    "\n",
    "df_herfst = df[df['Seizoen'] == 'Herfst']\n",
    "df_herfst_C = df_herfst[df_herfst['klimaat'] == 'C Klimaat']\n",
    "df_herfst_C_mrc_w1 = df_herfst_C['MRC_sum_w1'].dropna()\n",
    "\n",
    "df_winter = df[df['Seizoen'] == 'Winter']\n",
    "df_winter_C = df_winter[df_winter['klimaat'] == 'C Klimaat']\n",
    "df_winter_C_mrc_w1 = df_winter_C['MRC_sum_w1'].dropna()"
   ]
  },
  {
   "cell_type": "code",
   "execution_count": 316,
   "metadata": {},
   "outputs": [
    {
     "data": {
      "text/plain": [
       "Ttest_indResult(statistic=0.2913313736817593, pvalue=0.770941376502027)"
      ]
     },
     "execution_count": 316,
     "metadata": {},
     "output_type": "execute_result"
    }
   ],
   "source": [
    "stats.ttest_ind(df_lente_C_mrc_w1, df_zomer_C_mrc_w1)"
   ]
  },
  {
   "cell_type": "code",
   "execution_count": 317,
   "metadata": {},
   "outputs": [
    {
     "data": {
      "text/plain": [
       "Ttest_indResult(statistic=0.7357735371568026, pvalue=0.46231307898587837)"
      ]
     },
     "execution_count": 317,
     "metadata": {},
     "output_type": "execute_result"
    }
   ],
   "source": [
    "stats.ttest_ind(df_lente_C_mrc_w1, df_herfst_C_mrc_w1)"
   ]
  },
  {
   "cell_type": "code",
   "execution_count": 318,
   "metadata": {},
   "outputs": [
    {
     "data": {
      "text/plain": [
       "Ttest_indResult(statistic=-0.4309497389700735, pvalue=0.6666971730277003)"
      ]
     },
     "execution_count": 318,
     "metadata": {},
     "output_type": "execute_result"
    }
   ],
   "source": [
    "stats.ttest_ind(df_lente_C_mrc_w1, df_winter_C_mrc_w1)"
   ]
  },
  {
   "cell_type": "code",
   "execution_count": 319,
   "metadata": {},
   "outputs": [
    {
     "data": {
      "text/plain": [
       "Ttest_indResult(statistic=0.44645621764746135, pvalue=0.6555227105648808)"
      ]
     },
     "execution_count": 319,
     "metadata": {},
     "output_type": "execute_result"
    }
   ],
   "source": [
    "stats.ttest_ind(df_zomer_C_mrc_w1, df_herfst_C_mrc_w1)"
   ]
  },
  {
   "cell_type": "code",
   "execution_count": 320,
   "metadata": {},
   "outputs": [
    {
     "data": {
      "text/plain": [
       "Ttest_indResult(statistic=-0.7346311212787782, pvalue=0.4629274506559269)"
      ]
     },
     "execution_count": 320,
     "metadata": {},
     "output_type": "execute_result"
    }
   ],
   "source": [
    "stats.ttest_ind(df_zomer_C_mrc_w1, df_winter_C_mrc_w1)"
   ]
  },
  {
   "cell_type": "code",
   "execution_count": 321,
   "metadata": {},
   "outputs": [
    {
     "data": {
      "text/plain": [
       "Ttest_indResult(statistic=-1.1922072974096698, pvalue=0.23382109850546123)"
      ]
     },
     "execution_count": 321,
     "metadata": {},
     "output_type": "execute_result"
    }
   ],
   "source": [
    "stats.ttest_ind(df_herfst_C_mrc_w1, df_winter_C_mrc_w1)"
   ]
  },
  {
   "cell_type": "markdown",
   "metadata": {},
   "source": [
    "#### klimaat D"
   ]
  },
  {
   "cell_type": "code",
   "execution_count": 322,
   "metadata": {},
   "outputs": [],
   "source": [
    "df_lente = df[df['Seizoen'] == 'Lente']\n",
    "df_lente_D = df_lente[df_lente['klimaat'] == 'D Klimaat']\n",
    "df_lente_D_mrc_w1 = df_lente_D['MRC_sum_w1'].dropna()\n",
    "\n",
    "df_zomer = df[df['Seizoen'] == 'Zomer']\n",
    "df_zomer_D = df_zomer[df_zomer['klimaat'] == 'D Klimaat']\n",
    "df_zomer_D_mrc_w1 = df_zomer_D['MRC_sum_w1'].dropna()\n",
    "\n",
    "df_herfst = df[df['Seizoen'] == 'Herfst']\n",
    "df_herfst_D = df_herfst[df_herfst['klimaat'] == 'D Klimaat']\n",
    "df_herfst_D_mrc_w1 = df_herfst_D['MRC_sum_w1'].dropna()\n",
    "\n",
    "df_winter = df[df['Seizoen'] == 'Winter']\n",
    "df_winter_D = df_winter[df_winter['klimaat'] == 'D Klimaat']\n",
    "df_winter_D_mrc_w1 = df_winter_D['MRC_sum_w1'].dropna()"
   ]
  },
  {
   "cell_type": "code",
   "execution_count": 323,
   "metadata": {},
   "outputs": [
    {
     "data": {
      "text/plain": [
       "Ttest_indResult(statistic=-0.17130496051823696, pvalue=0.8645244555424378)"
      ]
     },
     "execution_count": 323,
     "metadata": {},
     "output_type": "execute_result"
    }
   ],
   "source": [
    "stats.ttest_ind(df_lente_D_mrc_w1, df_zomer_D_mrc_w1)"
   ]
  },
  {
   "cell_type": "code",
   "execution_count": 324,
   "metadata": {},
   "outputs": [
    {
     "data": {
      "text/plain": [
       "Ttest_indResult(statistic=-0.38869379458649883, pvalue=0.6986995097592751)"
      ]
     },
     "execution_count": 324,
     "metadata": {},
     "output_type": "execute_result"
    }
   ],
   "source": [
    "stats.ttest_ind(df_lente_D_mrc_w1, df_herfst_D_mrc_w1)"
   ]
  },
  {
   "cell_type": "code",
   "execution_count": 325,
   "metadata": {},
   "outputs": [
    {
     "data": {
      "text/plain": [
       "Ttest_indResult(statistic=0.21638969716192966, pvalue=0.8292489292216977)"
      ]
     },
     "execution_count": 325,
     "metadata": {},
     "output_type": "execute_result"
    }
   ],
   "source": [
    "stats.ttest_ind(df_lente_D_mrc_w1, df_winter_D_mrc_w1)"
   ]
  },
  {
   "cell_type": "code",
   "execution_count": 326,
   "metadata": {},
   "outputs": [
    {
     "data": {
      "text/plain": [
       "Ttest_indResult(statistic=-0.23063332393232183, pvalue=0.8182821372586427)"
      ]
     },
     "execution_count": 326,
     "metadata": {},
     "output_type": "execute_result"
    }
   ],
   "source": [
    "stats.ttest_ind(df_zomer_D_mrc_w1, df_herfst_D_mrc_w1)"
   ]
  },
  {
   "cell_type": "code",
   "execution_count": 327,
   "metadata": {},
   "outputs": [
    {
     "data": {
      "text/plain": [
       "Ttest_indResult(statistic=0.43573013596206966, pvalue=0.6642360378153072)"
      ]
     },
     "execution_count": 327,
     "metadata": {},
     "output_type": "execute_result"
    }
   ],
   "source": [
    "stats.ttest_ind(df_zomer_D_mrc_w1, df_winter_D_mrc_w1)"
   ]
  },
  {
   "cell_type": "code",
   "execution_count": 328,
   "metadata": {},
   "outputs": [
    {
     "data": {
      "text/plain": [
       "Ttest_indResult(statistic=0.701657523344908, pvalue=0.4848555988107951)"
      ]
     },
     "execution_count": 328,
     "metadata": {},
     "output_type": "execute_result"
    }
   ],
   "source": [
    "stats.ttest_ind(df_herfst_D_mrc_w1, df_winter_D_mrc_w1)"
   ]
  },
  {
   "cell_type": "code",
   "execution_count": null,
   "metadata": {},
   "outputs": [],
   "source": []
  },
  {
   "cell_type": "code",
   "execution_count": null,
   "metadata": {},
   "outputs": [],
   "source": []
  },
  {
   "cell_type": "markdown",
   "metadata": {},
   "source": [
    "#### GBSDS_e"
   ]
  },
  {
   "cell_type": "code",
   "execution_count": 329,
   "metadata": {},
   "outputs": [
    {
     "name": "stdout",
     "output_type": "stream",
     "text": [
      "Seizoen  Herfst  Lente  Winter  Zomer\n",
      "GBSDS_e                              \n",
      "1.0           1      5       0      1\n",
      "2.0           8      4       4      4\n",
      "3.0           4      8       7      7\n",
      "4.0          28     34      36     25\n",
      "5.0           6      7      10      6 \n",
      "\n",
      "Seizoen  Herfst  Lente  Winter  Zomer\n",
      "GBSDS_e                              \n",
      "1.0           0      1       1      3\n",
      "2.0           4     10       5      6\n",
      "3.0           4      4       7      0\n",
      "4.0          11      7      14      9\n",
      "5.0           0      1       0      0 \n",
      "\n",
      "Seizoen  Herfst  Lente  Winter  Zomer\n",
      "GBSDS_e                              \n",
      "0.0           4      3       2      3\n",
      "1.0           7      9       7      9\n",
      "2.0          36     47      63     56\n",
      "3.0          35     38      65     31\n",
      "4.0          77    109     118     95\n",
      "5.0          14     11      15     13 \n",
      "\n",
      "Seizoen  Herfst  Lente  Winter  Zomer\n",
      "GBSDS_e                              \n",
      "1.0           2      3       3      1\n",
      "2.0           7      6       4      5\n",
      "3.0          13     10      12     13\n",
      "4.0          12     10      25     11\n",
      "5.0           4      4       2      4 \n",
      "\n"
     ]
    }
   ],
   "source": [
    "for dateframe in dataframes_klimaat:\n",
    "    freq_table = pd.crosstab(dateframe['GBSDS_e'], dateframe['Seizoen']) \n",
    "    print(freq_table, '\\n')"
   ]
  },
  {
   "cell_type": "code",
   "execution_count": 330,
   "metadata": {},
   "outputs": [
    {
     "data": {
      "text/html": [
       "<div>\n",
       "<style scoped>\n",
       "    .dataframe tbody tr th:only-of-type {\n",
       "        vertical-align: middle;\n",
       "    }\n",
       "\n",
       "    .dataframe tbody tr th {\n",
       "        vertical-align: top;\n",
       "    }\n",
       "\n",
       "    .dataframe thead th {\n",
       "        text-align: right;\n",
       "    }\n",
       "</style>\n",
       "<table border=\"1\" class=\"dataframe\">\n",
       "  <thead>\n",
       "    <tr style=\"text-align: right;\">\n",
       "      <th>Seizoen</th>\n",
       "      <th>Herfst</th>\n",
       "      <th>Lente</th>\n",
       "      <th>Winter</th>\n",
       "      <th>Zomer</th>\n",
       "    </tr>\n",
       "    <tr>\n",
       "      <th>GBSDS_e</th>\n",
       "      <th></th>\n",
       "      <th></th>\n",
       "      <th></th>\n",
       "      <th></th>\n",
       "    </tr>\n",
       "  </thead>\n",
       "  <tbody>\n",
       "    <tr>\n",
       "      <th>0.0</th>\n",
       "      <td>4</td>\n",
       "      <td>3</td>\n",
       "      <td>2</td>\n",
       "      <td>3</td>\n",
       "    </tr>\n",
       "    <tr>\n",
       "      <th>1.0</th>\n",
       "      <td>10</td>\n",
       "      <td>18</td>\n",
       "      <td>11</td>\n",
       "      <td>14</td>\n",
       "    </tr>\n",
       "    <tr>\n",
       "      <th>2.0</th>\n",
       "      <td>55</td>\n",
       "      <td>67</td>\n",
       "      <td>76</td>\n",
       "      <td>71</td>\n",
       "    </tr>\n",
       "    <tr>\n",
       "      <th>3.0</th>\n",
       "      <td>56</td>\n",
       "      <td>60</td>\n",
       "      <td>91</td>\n",
       "      <td>51</td>\n",
       "    </tr>\n",
       "    <tr>\n",
       "      <th>4.0</th>\n",
       "      <td>128</td>\n",
       "      <td>160</td>\n",
       "      <td>193</td>\n",
       "      <td>140</td>\n",
       "    </tr>\n",
       "    <tr>\n",
       "      <th>5.0</th>\n",
       "      <td>24</td>\n",
       "      <td>23</td>\n",
       "      <td>27</td>\n",
       "      <td>23</td>\n",
       "    </tr>\n",
       "  </tbody>\n",
       "</table>\n",
       "</div>"
      ],
      "text/plain": [
       "Seizoen  Herfst  Lente  Winter  Zomer\n",
       "GBSDS_e                              \n",
       "0.0           4      3       2      3\n",
       "1.0          10     18      11     14\n",
       "2.0          55     67      76     71\n",
       "3.0          56     60      91     51\n",
       "4.0         128    160     193    140\n",
       "5.0          24     23      27     23"
      ]
     },
     "execution_count": 330,
     "metadata": {},
     "output_type": "execute_result"
    }
   ],
   "source": [
    "freq_table = pd.crosstab(df['GBSDS_e'], df['Seizoen']) \n",
    "freq_table"
   ]
  },
  {
   "cell_type": "code",
   "execution_count": 331,
   "metadata": {},
   "outputs": [],
   "source": [
    "df_GBSDS_e = df\n",
    "df_C_GBSDS_e = df_C"
   ]
  },
  {
   "cell_type": "code",
   "execution_count": 332,
   "metadata": {},
   "outputs": [],
   "source": [
    "df_GBSDS_e = df_GBSDS_e.drop(df_GBSDS_e[df_GBSDS_e['GBSDS_e'] == 0].index)\n",
    "df_C_GBSDS_e = df_C_GBSDS_e.drop(df_C_GBSDS_e[df_C_GBSDS_e['GBSDS_e'] == 0].index)"
   ]
  },
  {
   "cell_type": "code",
   "execution_count": 333,
   "metadata": {},
   "outputs": [
    {
     "data": {
      "text/plain": [
       "(10.212860375521586,\n",
       " 0.5972926045872375,\n",
       " 12,\n",
       " array([[ 11.14714946,  13.39291217,  16.25115562,  12.20878274],\n",
       "        [ 56.5770416 ,  67.97534669,  82.48228043,  61.96533128],\n",
       "        [ 54.26348228,  65.19568567,  79.10939908,  59.43143297],\n",
       "        [130.61093991, 156.92449923, 190.41448382, 143.05007704],\n",
       "        [ 20.40138675,  24.51155624,  29.74268105,  22.34437596]]))"
      ]
     },
     "execution_count": 333,
     "metadata": {},
     "output_type": "execute_result"
    }
   ],
   "source": [
    "df_GBSDS_e_seizoen = pd.crosstab(df_GBSDS_e['GBSDS_e'], df_GBSDS_e['Seizoen'])\n",
    "stats.chi2_contingency(df_GBSDS_e_seizoen)"
   ]
  },
  {
   "cell_type": "code",
   "execution_count": 334,
   "metadata": {},
   "outputs": [
    {
     "data": {
      "text/plain": [
       "(11.673252938797496,\n",
       " 0.4722649728649132,\n",
       " 12,\n",
       " array([[  6.3251462 ,   8.00935673,  10.03040936,   7.63508772],\n",
       "        [ 39.92748538,  50.55906433,  63.31695906,  48.19649123],\n",
       "        [ 33.40467836,  42.2994152 ,  52.97309942,  40.32280702],\n",
       "        [ 78.86666667,  99.86666667, 125.06666667,  95.2       ],\n",
       "        [ 10.47602339,  13.26549708,  16.6128655 ,  12.64561404]]))"
      ]
     },
     "execution_count": 334,
     "metadata": {},
     "output_type": "execute_result"
    }
   ],
   "source": [
    "df_C_GBSDS_e_seizoen = pd.crosstab(df_C_GBSDS_e['GBSDS_e'], df_C_GBSDS_e['Seizoen'])\n",
    "stats.chi2_contingency(df_C_GBSDS_e_seizoen)"
   ]
  },
  {
   "cell_type": "markdown",
   "metadata": {},
   "source": [
    "#### GBSDS_w1"
   ]
  },
  {
   "cell_type": "code",
   "execution_count": 335,
   "metadata": {},
   "outputs": [
    {
     "name": "stdout",
     "output_type": "stream",
     "text": [
      "Seizoen   Herfst  Lente  Winter  Zomer\n",
      "GBSDS_w1                              \n",
      "1.0            1      2       2      1\n",
      "2.0            9     16       5      7\n",
      "3.0            8      4      11      7\n",
      "4.0           21     25      27     18\n",
      "5.0            8     10      12     10 \n",
      "\n",
      "Seizoen   Herfst  Lente  Winter  Zomer\n",
      "GBSDS_w1                              \n",
      "0.0            1      0       0      0\n",
      "1.0            1      2       2      3\n",
      "2.0            3     10       7      6\n",
      "3.0            3      6       9      3\n",
      "4.0           12      4       7      3\n",
      "5.0            0      2       2      2 \n",
      "\n",
      "Seizoen   Herfst  Lente  Winter  Zomer\n",
      "GBSDS_w1                              \n",
      "0.0            3      4       5      4\n",
      "1.0           13     19      16     20\n",
      "2.0           35     49      64     46\n",
      "3.0           37     44      62     36\n",
      "4.0           63     74      89     70\n",
      "5.0           23     27      32     30 \n",
      "\n",
      "Seizoen   Herfst  Lente  Winter  Zomer\n",
      "GBSDS_w1                              \n",
      "1.0            3      5       5      4\n",
      "2.0           11      6       8      7\n",
      "3.0            9     11       8      6\n",
      "4.0           10      6      18     13\n",
      "5.0            4      5       8      4 \n",
      "\n"
     ]
    }
   ],
   "source": [
    "for dateframe in dataframes_klimaat:\n",
    "    freq_table = pd.crosstab(dateframe['GBSDS_w1'], dateframe['Seizoen']) \n",
    "    print(freq_table, '\\n')"
   ]
  },
  {
   "cell_type": "code",
   "execution_count": 336,
   "metadata": {},
   "outputs": [
    {
     "data": {
      "text/html": [
       "<div>\n",
       "<style scoped>\n",
       "    .dataframe tbody tr th:only-of-type {\n",
       "        vertical-align: middle;\n",
       "    }\n",
       "\n",
       "    .dataframe tbody tr th {\n",
       "        vertical-align: top;\n",
       "    }\n",
       "\n",
       "    .dataframe thead th {\n",
       "        text-align: right;\n",
       "    }\n",
       "</style>\n",
       "<table border=\"1\" class=\"dataframe\">\n",
       "  <thead>\n",
       "    <tr style=\"text-align: right;\">\n",
       "      <th>Seizoen</th>\n",
       "      <th>Herfst</th>\n",
       "      <th>Lente</th>\n",
       "      <th>Winter</th>\n",
       "      <th>Zomer</th>\n",
       "    </tr>\n",
       "    <tr>\n",
       "      <th>GBSDS_w1</th>\n",
       "      <th></th>\n",
       "      <th></th>\n",
       "      <th></th>\n",
       "      <th></th>\n",
       "    </tr>\n",
       "  </thead>\n",
       "  <tbody>\n",
       "    <tr>\n",
       "      <th>0.0</th>\n",
       "      <td>4</td>\n",
       "      <td>4</td>\n",
       "      <td>5</td>\n",
       "      <td>4</td>\n",
       "    </tr>\n",
       "    <tr>\n",
       "      <th>1.0</th>\n",
       "      <td>18</td>\n",
       "      <td>28</td>\n",
       "      <td>25</td>\n",
       "      <td>28</td>\n",
       "    </tr>\n",
       "    <tr>\n",
       "      <th>2.0</th>\n",
       "      <td>58</td>\n",
       "      <td>81</td>\n",
       "      <td>84</td>\n",
       "      <td>66</td>\n",
       "    </tr>\n",
       "    <tr>\n",
       "      <th>3.0</th>\n",
       "      <td>57</td>\n",
       "      <td>65</td>\n",
       "      <td>90</td>\n",
       "      <td>52</td>\n",
       "    </tr>\n",
       "    <tr>\n",
       "      <th>4.0</th>\n",
       "      <td>106</td>\n",
       "      <td>109</td>\n",
       "      <td>141</td>\n",
       "      <td>104</td>\n",
       "    </tr>\n",
       "    <tr>\n",
       "      <th>5.0</th>\n",
       "      <td>35</td>\n",
       "      <td>44</td>\n",
       "      <td>54</td>\n",
       "      <td>46</td>\n",
       "    </tr>\n",
       "  </tbody>\n",
       "</table>\n",
       "</div>"
      ],
      "text/plain": [
       "Seizoen   Herfst  Lente  Winter  Zomer\n",
       "GBSDS_w1                              \n",
       "0.0            4      4       5      4\n",
       "1.0           18     28      25     28\n",
       "2.0           58     81      84     66\n",
       "3.0           57     65      90     52\n",
       "4.0          106    109     141    104\n",
       "5.0           35     44      54     46"
      ]
     },
     "execution_count": 336,
     "metadata": {},
     "output_type": "execute_result"
    }
   ],
   "source": [
    "freq_table = pd.crosstab(df['GBSDS_w1'], df['Seizoen']) \n",
    "freq_table"
   ]
  },
  {
   "cell_type": "code",
   "execution_count": 337,
   "metadata": {},
   "outputs": [],
   "source": [
    "df_GBSDS_w1 = df\n",
    "df_C_GBSDS_w1 = df_C"
   ]
  },
  {
   "cell_type": "code",
   "execution_count": 338,
   "metadata": {},
   "outputs": [],
   "source": [
    "df_GBSDS_w1 = df_GBSDS_w1.drop(df_GBSDS_w1[df_GBSDS_w1['GBSDS_w1'] == 0].index)\n",
    "df_C_GBSDS_w1 = df_C_GBSDS_w1.drop(df_C_GBSDS_w1[df_C_GBSDS_w1['GBSDS_w1'] == 0].index)"
   ]
  },
  {
   "cell_type": "code",
   "execution_count": 339,
   "metadata": {},
   "outputs": [
    {
     "data": {
      "text/plain": [
       "(8.605349528055823,\n",
       " 0.7362177942060986,\n",
       " 12,\n",
       " array([[ 21.0116189 ,  25.07591015,  30.21378776,  22.69868319],\n",
       "        [ 61.3369481 ,  73.20139427,  88.19984508,  66.26181255],\n",
       "        [ 56.03098373,  66.86909373,  80.5701007 ,  60.52982184],\n",
       "        [ 97.62974438, 116.51432998, 140.38729667, 105.46862897],\n",
       "        [ 37.99070488,  45.33927188,  54.62896979,  41.04105345]]))"
      ]
     },
     "execution_count": 339,
     "metadata": {},
     "output_type": "execute_result"
    }
   ],
   "source": [
    "df_GBSDS_w1_seizoen = pd.crosstab(df_GBSDS_w1['GBSDS_w1'], df_GBSDS_w1['Seizoen'])\n",
    "stats.chi2_contingency(df_GBSDS_w1_seizoen)"
   ]
  },
  {
   "cell_type": "code",
   "execution_count": 340,
   "metadata": {},
   "outputs": [
    {
     "data": {
      "text/plain": [
       "(5.850671248543038,\n",
       " 0.9234215659356688,\n",
       " 12,\n",
       " array([[13.69611307, 17.06007067, 21.0647821 , 16.17903416],\n",
       "        [39.07420495, 48.67137809, 60.09658422, 46.15783274],\n",
       "        [36.05300353, 44.90812721, 55.44994111, 42.58892815],\n",
       "        [59.61837456, 74.2614841 , 91.69375736, 70.42638398],\n",
       "        [22.55830389, 28.09893993, 34.69493522, 26.64782097]]))"
      ]
     },
     "execution_count": 340,
     "metadata": {},
     "output_type": "execute_result"
    }
   ],
   "source": [
    "df_C_GBSDS_w1_seizoen = pd.crosstab(df_C_GBSDS_w1['GBSDS_w1'], df_C_GBSDS_w1['Seizoen'])\n",
    "stats.chi2_contingency(df_C_GBSDS_w1_seizoen)"
   ]
  },
  {
   "cell_type": "markdown",
   "metadata": {},
   "source": [
    "#### Surv_unable_to_walk"
   ]
  },
  {
   "cell_type": "code",
   "execution_count": 341,
   "metadata": {},
   "outputs": [
    {
     "name": "stdout",
     "output_type": "stream",
     "text": [
      "Seizoen              Herfst  Lente  Winter  Zomer\n",
      "Surv_unable_to_walk                              \n",
      "0                         6      8       4      3\n",
      "1                        41     50      53     40 \n",
      "\n",
      "Seizoen              Herfst  Lente  Winter  Zomer\n",
      "Surv_unable_to_walk                              \n",
      "0                         4      9       3      9\n",
      "1                        16     15      24      9 \n",
      "\n",
      "Seizoen              Herfst  Lente  Winter  Zomer\n",
      "Surv_unable_to_walk                              \n",
      "0                        33     45      59     57\n",
      "1                       142    173     212    151 \n",
      "\n",
      "Seizoen              Herfst  Lente  Winter  Zomer\n",
      "Surv_unable_to_walk                              \n",
      "0                         9      9       7      4\n",
      "1                        29     24      40     30 \n",
      "\n"
     ]
    }
   ],
   "source": [
    "for dateframe in dataframes_klimaat:\n",
    "    freq_table = pd.crosstab(dateframe['Surv_unable_to_walk'], dateframe['Seizoen']) \n",
    "    print(freq_table, '\\n')"
   ]
  },
  {
   "cell_type": "code",
   "execution_count": 342,
   "metadata": {},
   "outputs": [
    {
     "data": {
      "text/plain": [
       "(4.535997817235742,\n",
       " 0.209101751712839,\n",
       " 3,\n",
       " array([[ 57.14719272,  67.96433991,  82.04704097,  61.8414264 ],\n",
       "        [222.85280728, 265.03566009, 319.95295903, 241.1585736 ]]))"
      ]
     },
     "execution_count": 342,
     "metadata": {},
     "output_type": "execute_result"
    }
   ],
   "source": [
    "df_Surv_unable_to_walk = pd.crosstab(df['Surv_unable_to_walk'], df['Seizoen'])\n",
    "stats.chi2_contingency(df_Surv_unable_to_walk)"
   ]
  },
  {
   "cell_type": "code",
   "execution_count": 343,
   "metadata": {},
   "outputs": [
    {
     "data": {
      "text/plain": [
       "(9.831255208333332,\n",
       " 0.020056357182502475,\n",
       " 3,\n",
       " array([[ 5.61797753,  6.74157303,  7.58426966,  5.05617978],\n",
       "        [14.38202247, 17.25842697, 19.41573034, 12.94382022]]))"
      ]
     },
     "execution_count": 343,
     "metadata": {},
     "output_type": "execute_result"
    }
   ],
   "source": [
    "df_B_Surv_unable_to_walk = pd.crosstab(df_B['Surv_unable_to_walk'], df_B['Seizoen'])\n",
    "stats.chi2_contingency(df_B_Surv_unable_to_walk)"
   ]
  },
  {
   "cell_type": "code",
   "execution_count": 344,
   "metadata": {},
   "outputs": [
    {
     "data": {
      "text/plain": [
       "(4.720218826077955,\n",
       " 0.19346847447480822,\n",
       " 3,\n",
       " array([[ 38.93348624,  48.5       ,  60.2912844 ,  46.27522936],\n",
       "        [136.06651376, 169.5       , 210.7087156 , 161.72477064]]))"
      ]
     },
     "execution_count": 344,
     "metadata": {},
     "output_type": "execute_result"
    }
   ],
   "source": [
    "df_C_Surv_unable_to_walk = pd.crosstab(df_C['Surv_unable_to_walk'], df_C['Seizoen'])\n",
    "stats.chi2_contingency(df_C_Surv_unable_to_walk)"
   ]
  },
  {
   "cell_type": "code",
   "execution_count": null,
   "metadata": {},
   "outputs": [],
   "source": []
  },
  {
   "cell_type": "markdown",
   "metadata": {},
   "source": [
    "Post hoc voor df_B_Surv_unable_to_walk"
   ]
  },
  {
   "cell_type": "code",
   "execution_count": 345,
   "metadata": {},
   "outputs": [],
   "source": [
    "df_B_LenZom = df_B[(df_B['Seizoen'] == 'Lente') | (df_B['Seizoen'] == 'Zomer')]\n",
    "df_B_LenHer = df_B[(df_B['Seizoen'] == 'Lente') | (df_B['Seizoen'] == 'Herfst')]\n",
    "df_B_LenWin = df_B[(df_B['Seizoen'] == 'Lente') | (df_B['Seizoen'] == 'Winter')]\n",
    "df_B_ZomHer = df_B[(df_B['Seizoen'] == 'Zomer') | (df_B['Seizoen'] == 'Herfst')]\n",
    "df_B_ZomWin = df_B[(df_B['Seizoen'] == 'Zomer') | (df_B['Seizoen'] == 'Winter')]\n",
    "df_B_HerWin = df_B[(df_B['Seizoen'] == 'Herfst') | (df_B['Seizoen'] == 'Winter')]"
   ]
  },
  {
   "cell_type": "code",
   "execution_count": 346,
   "metadata": {},
   "outputs": [
    {
     "data": {
      "text/plain": [
       "(0.24508101851851882,\n",
       " 0.6205601813347754,\n",
       " 1,\n",
       " array([[10.28571429,  7.71428571],\n",
       "        [13.71428571, 10.28571429]]))"
      ]
     },
     "execution_count": 346,
     "metadata": {},
     "output_type": "execute_result"
    }
   ],
   "source": [
    "df_B_Surv_unable_to_walk_seiz = pd.crosstab(df_B_LenZom['Surv_unable_to_walk'], df_B_LenZom['Seizoen'])\n",
    "stats.chi2_contingency(df_B_Surv_unable_to_walk_seiz)"
   ]
  },
  {
   "cell_type": "code",
   "execution_count": 347,
   "metadata": {},
   "outputs": [
    {
     "data": {
      "text/plain": [
       "(0.8743589743589744,\n",
       " 0.3497513801303367,\n",
       " 1,\n",
       " array([[ 5.90909091,  7.09090909],\n",
       "        [14.09090909, 16.90909091]]))"
      ]
     },
     "execution_count": 347,
     "metadata": {},
     "output_type": "execute_result"
    }
   ],
   "source": [
    "df_B_Surv_unable_to_walk_seiz = pd.crosstab(df_B_LenHer['Surv_unable_to_walk'], df_B_LenHer['Seizoen'])\n",
    "stats.chi2_contingency(df_B_Surv_unable_to_walk_seiz)"
   ]
  },
  {
   "cell_type": "code",
   "execution_count": 348,
   "metadata": {},
   "outputs": [
    {
     "data": {
      "text/plain": [
       "(3.5602074430199417,\n",
       " 0.05918034264755438,\n",
       " 1,\n",
       " array([[ 5.64705882,  6.35294118],\n",
       "        [18.35294118, 20.64705882]]))"
      ]
     },
     "execution_count": 348,
     "metadata": {},
     "output_type": "execute_result"
    }
   ],
   "source": [
    "df_B_Surv_unable_to_walk_seiz = pd.crosstab(df_B_LenWin['Surv_unable_to_walk'], df_B_LenWin['Seizoen'])\n",
    "stats.chi2_contingency(df_B_Surv_unable_to_walk_seiz)"
   ]
  },
  {
   "cell_type": "code",
   "execution_count": 349,
   "metadata": {},
   "outputs": [
    {
     "data": {
      "text/plain": [
       "(2.572632478632479,\n",
       " 0.10872666332863937,\n",
       " 1,\n",
       " array([[ 6.84210526,  6.15789474],\n",
       "        [13.15789474, 11.84210526]]))"
      ]
     },
     "execution_count": 349,
     "metadata": {},
     "output_type": "execute_result"
    }
   ],
   "source": [
    "df_B_Surv_unable_to_walk_seiz = pd.crosstab(df_B_ZomHer['Surv_unable_to_walk'], df_B_ZomHer['Seizoen'])\n",
    "stats.chi2_contingency(df_B_Surv_unable_to_walk_seiz)"
   ]
  },
  {
   "cell_type": "code",
   "execution_count": 350,
   "metadata": {},
   "outputs": [
    {
     "data": {
      "text/plain": [
       "(6.482007575757576,\n",
       " 0.010897183523382386,\n",
       " 1,\n",
       " array([[ 7.2,  4.8],\n",
       "        [19.8, 13.2]]))"
      ]
     },
     "execution_count": 350,
     "metadata": {},
     "output_type": "execute_result"
    }
   ],
   "source": [
    "df_B_Surv_unable_to_walk_seiz = pd.crosstab(df_B_ZomWin['Surv_unable_to_walk'], df_B_ZomWin['Seizoen'])\n",
    "stats.chi2_contingency(df_B_Surv_unable_to_walk_seiz)"
   ]
  },
  {
   "cell_type": "code",
   "execution_count": 351,
   "metadata": {},
   "outputs": [
    {
     "data": {
      "text/plain": [
       "(0.1865856481481481,\n",
       " 0.6657736768726352,\n",
       " 1,\n",
       " array([[ 2.9787234,  4.0212766],\n",
       "        [17.0212766, 22.9787234]]))"
      ]
     },
     "execution_count": 351,
     "metadata": {},
     "output_type": "execute_result"
    }
   ],
   "source": [
    "df_B_Surv_unable_to_walk_seiz = pd.crosstab(df_B_HerWin['Surv_unable_to_walk'], df_B_HerWin['Seizoen'])\n",
    "stats.chi2_contingency(df_B_Surv_unable_to_walk_seiz)"
   ]
  },
  {
   "cell_type": "markdown",
   "metadata": {},
   "source": [
    "De statistische afhankelijkheid is te zien tussen de winter en zomer"
   ]
  },
  {
   "cell_type": "markdown",
   "metadata": {},
   "source": [
    "Na bonferoni correctie is te concluderen dat het niet meer statistisch significant is"
   ]
  },
  {
   "cell_type": "code",
   "execution_count": null,
   "metadata": {},
   "outputs": [],
   "source": []
  },
  {
   "cell_type": "code",
   "execution_count": null,
   "metadata": {},
   "outputs": [],
   "source": []
  },
  {
   "cell_type": "code",
   "execution_count": null,
   "metadata": {},
   "outputs": [],
   "source": []
  },
  {
   "cell_type": "code",
   "execution_count": null,
   "metadata": {},
   "outputs": [],
   "source": []
  }
 ],
 "metadata": {
  "kernelspec": {
   "display_name": "base",
   "language": "python",
   "name": "python3"
  },
  "language_info": {
   "codemirror_mode": {
    "name": "ipython",
    "version": 3
   },
   "file_extension": ".py",
   "mimetype": "text/x-python",
   "name": "python",
   "nbconvert_exporter": "python",
   "pygments_lexer": "ipython3",
   "version": "3.9.12"
  }
 },
 "nbformat": 4,
 "nbformat_minor": 2
}

{
 "cells": [
  {
   "cell_type": "code",
   "execution_count": 13,
   "metadata": {},
   "outputs": [],
   "source": [
    "import pandas as pd\n",
    "import seaborn as sns\n",
    "import numpy as np\n",
    "from scipy import stats\n",
    "import matplotlib.pyplot as plt\n",
    "import datetime as dt\n",
    "from datetime import timedelta\n",
    "\n",
    "\n",
    "import statsmodels.api as sm\n",
    "from statsmodels.formula.api import ols\n",
    "from scipy.stats import levene\n",
    "from scipy.stats import ttest_1samp"
   ]
  },
  {
   "cell_type": "code",
   "execution_count": 50,
   "metadata": {},
   "outputs": [],
   "source": [
    "try:\n",
    "    df = pd.read_csv(r\"C:\\Users\\mitch\\OneDrive\\Documenten\\Studie Toegepaste wiskunde\\Moduleren project\\GBS_MOD_12082024.csv\", sep = ';')\n",
    "except:\n",
    "    df = pd.read_csv(r\"C:\\Users\\Chong\\Desktop\\Modelleren project\\info\\GBS_MOD_12082024.csv\", sep = ';')\n",
    "    "
   ]
  },
  {
   "cell_type": "code",
   "execution_count": 51,
   "metadata": {},
   "outputs": [],
   "source": [
    "#df = pd.read_csv(r\"C:\\Users\\Chong\\Desktop\\Modelleren project\\info\\GBS_MOD_12082024.csv\", sep = ';')"
   ]
  },
  {
   "cell_type": "code",
   "execution_count": 52,
   "metadata": {},
   "outputs": [
    {
     "data": {
      "text/html": [
       "<div>\n",
       "<style scoped>\n",
       "    .dataframe tbody tr th:only-of-type {\n",
       "        vertical-align: middle;\n",
       "    }\n",
       "\n",
       "    .dataframe tbody tr th {\n",
       "        vertical-align: top;\n",
       "    }\n",
       "\n",
       "    .dataframe thead th {\n",
       "        text-align: right;\n",
       "    }\n",
       "</style>\n",
       "<table border=\"1\" class=\"dataframe\">\n",
       "  <thead>\n",
       "    <tr style=\"text-align: right;\">\n",
       "      <th></th>\n",
       "      <th>Patientcode</th>\n",
       "      <th>Age</th>\n",
       "      <th>Sex</th>\n",
       "      <th>MRC_sum_e</th>\n",
       "      <th>MRC_sum_w1</th>\n",
       "      <th>CNI_e</th>\n",
       "      <th>CNI_Bulbar_e</th>\n",
       "      <th>CNI_Facial_e</th>\n",
       "      <th>CNI_Oculomotor_e</th>\n",
       "      <th>CNI_w1</th>\n",
       "      <th>...</th>\n",
       "      <th>Comorbidity_respiration</th>\n",
       "      <th>Days_between_onset_and_admission</th>\n",
       "      <th>Date_onset_weakness</th>\n",
       "      <th>Continent</th>\n",
       "      <th>Country_of_inclusion</th>\n",
       "      <th>Surv_days</th>\n",
       "      <th>Surv_status</th>\n",
       "      <th>Surv_unable_to_walk</th>\n",
       "      <th>Walking_again</th>\n",
       "      <th>Deceased</th>\n",
       "    </tr>\n",
       "  </thead>\n",
       "  <tbody>\n",
       "    <tr>\n",
       "      <th>0</th>\n",
       "      <td>P0001</td>\n",
       "      <td>75.0</td>\n",
       "      <td>0</td>\n",
       "      <td>50.0</td>\n",
       "      <td>53.0</td>\n",
       "      <td>1.0</td>\n",
       "      <td>0.0</td>\n",
       "      <td>0.0</td>\n",
       "      <td>1.0</td>\n",
       "      <td>1.0</td>\n",
       "      <td>...</td>\n",
       "      <td>0.0</td>\n",
       "      <td>5.0</td>\n",
       "      <td>16-6-2016</td>\n",
       "      <td>1</td>\n",
       "      <td>5</td>\n",
       "      <td>125.0</td>\n",
       "      <td>1.0</td>\n",
       "      <td>1</td>\n",
       "      <td>1.0</td>\n",
       "      <td>0</td>\n",
       "    </tr>\n",
       "    <tr>\n",
       "      <th>1</th>\n",
       "      <td>P0002</td>\n",
       "      <td>22.0</td>\n",
       "      <td>0</td>\n",
       "      <td>50.0</td>\n",
       "      <td>46.0</td>\n",
       "      <td>0.0</td>\n",
       "      <td>0.0</td>\n",
       "      <td>0.0</td>\n",
       "      <td>0.0</td>\n",
       "      <td>0.0</td>\n",
       "      <td>...</td>\n",
       "      <td>0.0</td>\n",
       "      <td>1.0</td>\n",
       "      <td>22-11-2017</td>\n",
       "      <td>5</td>\n",
       "      <td>19</td>\n",
       "      <td>49.0</td>\n",
       "      <td>1.0</td>\n",
       "      <td>1</td>\n",
       "      <td>1.0</td>\n",
       "      <td>0</td>\n",
       "    </tr>\n",
       "    <tr>\n",
       "      <th>2</th>\n",
       "      <td>P0003</td>\n",
       "      <td>63.0</td>\n",
       "      <td>0</td>\n",
       "      <td>40.0</td>\n",
       "      <td>53.0</td>\n",
       "      <td>0.0</td>\n",
       "      <td>0.0</td>\n",
       "      <td>0.0</td>\n",
       "      <td>0.0</td>\n",
       "      <td>0.0</td>\n",
       "      <td>...</td>\n",
       "      <td>0.0</td>\n",
       "      <td>15.0</td>\n",
       "      <td>28-12-2020</td>\n",
       "      <td>2</td>\n",
       "      <td>11</td>\n",
       "      <td>752.0</td>\n",
       "      <td>0.0</td>\n",
       "      <td>1</td>\n",
       "      <td>NaN</td>\n",
       "      <td>0</td>\n",
       "    </tr>\n",
       "    <tr>\n",
       "      <th>3</th>\n",
       "      <td>P0004</td>\n",
       "      <td>30.0</td>\n",
       "      <td>1</td>\n",
       "      <td>60.0</td>\n",
       "      <td>59.0</td>\n",
       "      <td>1.0</td>\n",
       "      <td>1.0</td>\n",
       "      <td>1.0</td>\n",
       "      <td>1.0</td>\n",
       "      <td>1.0</td>\n",
       "      <td>...</td>\n",
       "      <td>0.0</td>\n",
       "      <td>10.0</td>\n",
       "      <td>30-3-2020</td>\n",
       "      <td>1</td>\n",
       "      <td>6</td>\n",
       "      <td>13.0</td>\n",
       "      <td>1.0</td>\n",
       "      <td>1</td>\n",
       "      <td>1.0</td>\n",
       "      <td>0</td>\n",
       "    </tr>\n",
       "    <tr>\n",
       "      <th>4</th>\n",
       "      <td>P0005</td>\n",
       "      <td>48.0</td>\n",
       "      <td>1</td>\n",
       "      <td>39.0</td>\n",
       "      <td>45.0</td>\n",
       "      <td>0.0</td>\n",
       "      <td>0.0</td>\n",
       "      <td>0.0</td>\n",
       "      <td>0.0</td>\n",
       "      <td>1.0</td>\n",
       "      <td>...</td>\n",
       "      <td>0.0</td>\n",
       "      <td>3.0</td>\n",
       "      <td>28-12-2015</td>\n",
       "      <td>1</td>\n",
       "      <td>2</td>\n",
       "      <td>14.0</td>\n",
       "      <td>0.0</td>\n",
       "      <td>1</td>\n",
       "      <td>NaN</td>\n",
       "      <td>0</td>\n",
       "    </tr>\n",
       "    <tr>\n",
       "      <th>...</th>\n",
       "      <td>...</td>\n",
       "      <td>...</td>\n",
       "      <td>...</td>\n",
       "      <td>...</td>\n",
       "      <td>...</td>\n",
       "      <td>...</td>\n",
       "      <td>...</td>\n",
       "      <td>...</td>\n",
       "      <td>...</td>\n",
       "      <td>...</td>\n",
       "      <td>...</td>\n",
       "      <td>...</td>\n",
       "      <td>...</td>\n",
       "      <td>...</td>\n",
       "      <td>...</td>\n",
       "      <td>...</td>\n",
       "      <td>...</td>\n",
       "      <td>...</td>\n",
       "      <td>...</td>\n",
       "      <td>...</td>\n",
       "      <td>...</td>\n",
       "    </tr>\n",
       "    <tr>\n",
       "      <th>1495</th>\n",
       "      <td>P1496</td>\n",
       "      <td>52.0</td>\n",
       "      <td>1</td>\n",
       "      <td>19.0</td>\n",
       "      <td>NaN</td>\n",
       "      <td>0.0</td>\n",
       "      <td>0.0</td>\n",
       "      <td>0.0</td>\n",
       "      <td>0.0</td>\n",
       "      <td>NaN</td>\n",
       "      <td>...</td>\n",
       "      <td>0.0</td>\n",
       "      <td>12.0</td>\n",
       "      <td>4-9-2016</td>\n",
       "      <td>1</td>\n",
       "      <td>5</td>\n",
       "      <td>26.0</td>\n",
       "      <td>0.0</td>\n",
       "      <td>1</td>\n",
       "      <td>NaN</td>\n",
       "      <td>0</td>\n",
       "    </tr>\n",
       "    <tr>\n",
       "      <th>1496</th>\n",
       "      <td>P1497</td>\n",
       "      <td>66.0</td>\n",
       "      <td>0</td>\n",
       "      <td>54.0</td>\n",
       "      <td>55.0</td>\n",
       "      <td>1.0</td>\n",
       "      <td>1.0</td>\n",
       "      <td>1.0</td>\n",
       "      <td>0.0</td>\n",
       "      <td>0.0</td>\n",
       "      <td>...</td>\n",
       "      <td>0.0</td>\n",
       "      <td>9.0</td>\n",
       "      <td>4-2-2017</td>\n",
       "      <td>1</td>\n",
       "      <td>1</td>\n",
       "      <td>30.0</td>\n",
       "      <td>1.0</td>\n",
       "      <td>1</td>\n",
       "      <td>1.0</td>\n",
       "      <td>0</td>\n",
       "    </tr>\n",
       "    <tr>\n",
       "      <th>1497</th>\n",
       "      <td>P1498</td>\n",
       "      <td>67.0</td>\n",
       "      <td>0</td>\n",
       "      <td>33.0</td>\n",
       "      <td>46.0</td>\n",
       "      <td>1.0</td>\n",
       "      <td>1.0</td>\n",
       "      <td>1.0</td>\n",
       "      <td>0.0</td>\n",
       "      <td>1.0</td>\n",
       "      <td>...</td>\n",
       "      <td>0.0</td>\n",
       "      <td>1.0</td>\n",
       "      <td>30-4-2017</td>\n",
       "      <td>6</td>\n",
       "      <td>21</td>\n",
       "      <td>42.0</td>\n",
       "      <td>1.0</td>\n",
       "      <td>1</td>\n",
       "      <td>1.0</td>\n",
       "      <td>0</td>\n",
       "    </tr>\n",
       "    <tr>\n",
       "      <th>1498</th>\n",
       "      <td>P1499</td>\n",
       "      <td>35.0</td>\n",
       "      <td>1</td>\n",
       "      <td>1.0</td>\n",
       "      <td>3.0</td>\n",
       "      <td>1.0</td>\n",
       "      <td>1.0</td>\n",
       "      <td>0.0</td>\n",
       "      <td>0.0</td>\n",
       "      <td>1.0</td>\n",
       "      <td>...</td>\n",
       "      <td>0.0</td>\n",
       "      <td>5.0</td>\n",
       "      <td>3-10-2017</td>\n",
       "      <td>3</td>\n",
       "      <td>13</td>\n",
       "      <td>280.0</td>\n",
       "      <td>1.0</td>\n",
       "      <td>1</td>\n",
       "      <td>1.0</td>\n",
       "      <td>0</td>\n",
       "    </tr>\n",
       "    <tr>\n",
       "      <th>1499</th>\n",
       "      <td>P1500</td>\n",
       "      <td>67.0</td>\n",
       "      <td>0</td>\n",
       "      <td>60.0</td>\n",
       "      <td>59.0</td>\n",
       "      <td>1.0</td>\n",
       "      <td>0.0</td>\n",
       "      <td>1.0</td>\n",
       "      <td>0.0</td>\n",
       "      <td>0.0</td>\n",
       "      <td>...</td>\n",
       "      <td>0.0</td>\n",
       "      <td>5.0</td>\n",
       "      <td>10-3-2016</td>\n",
       "      <td>1</td>\n",
       "      <td>6</td>\n",
       "      <td>15.0</td>\n",
       "      <td>1.0</td>\n",
       "      <td>1</td>\n",
       "      <td>1.0</td>\n",
       "      <td>0</td>\n",
       "    </tr>\n",
       "  </tbody>\n",
       "</table>\n",
       "<p>1500 rows × 37 columns</p>\n",
       "</div>"
      ],
      "text/plain": [
       "     Patientcode   Age  Sex  MRC_sum_e  MRC_sum_w1  CNI_e  CNI_Bulbar_e  \\\n",
       "0          P0001  75.0    0       50.0        53.0    1.0           0.0   \n",
       "1          P0002  22.0    0       50.0        46.0    0.0           0.0   \n",
       "2          P0003  63.0    0       40.0        53.0    0.0           0.0   \n",
       "3          P0004  30.0    1       60.0        59.0    1.0           1.0   \n",
       "4          P0005  48.0    1       39.0        45.0    0.0           0.0   \n",
       "...          ...   ...  ...        ...         ...    ...           ...   \n",
       "1495       P1496  52.0    1       19.0         NaN    0.0           0.0   \n",
       "1496       P1497  66.0    0       54.0        55.0    1.0           1.0   \n",
       "1497       P1498  67.0    0       33.0        46.0    1.0           1.0   \n",
       "1498       P1499  35.0    1        1.0         3.0    1.0           1.0   \n",
       "1499       P1500  67.0    0       60.0        59.0    1.0           0.0   \n",
       "\n",
       "      CNI_Facial_e  CNI_Oculomotor_e  CNI_w1  ...  Comorbidity_respiration  \\\n",
       "0              0.0               1.0     1.0  ...                      0.0   \n",
       "1              0.0               0.0     0.0  ...                      0.0   \n",
       "2              0.0               0.0     0.0  ...                      0.0   \n",
       "3              1.0               1.0     1.0  ...                      0.0   \n",
       "4              0.0               0.0     1.0  ...                      0.0   \n",
       "...            ...               ...     ...  ...                      ...   \n",
       "1495           0.0               0.0     NaN  ...                      0.0   \n",
       "1496           1.0               0.0     0.0  ...                      0.0   \n",
       "1497           1.0               0.0     1.0  ...                      0.0   \n",
       "1498           0.0               0.0     1.0  ...                      0.0   \n",
       "1499           1.0               0.0     0.0  ...                      0.0   \n",
       "\n",
       "      Days_between_onset_and_admission  Date_onset_weakness  Continent  \\\n",
       "0                                  5.0            16-6-2016          1   \n",
       "1                                  1.0           22-11-2017          5   \n",
       "2                                 15.0           28-12-2020          2   \n",
       "3                                 10.0            30-3-2020          1   \n",
       "4                                  3.0           28-12-2015          1   \n",
       "...                                ...                  ...        ...   \n",
       "1495                              12.0             4-9-2016          1   \n",
       "1496                               9.0             4-2-2017          1   \n",
       "1497                               1.0            30-4-2017          6   \n",
       "1498                               5.0            3-10-2017          3   \n",
       "1499                               5.0            10-3-2016          1   \n",
       "\n",
       "      Country_of_inclusion  Surv_days  Surv_status  Surv_unable_to_walk  \\\n",
       "0                        5      125.0          1.0                    1   \n",
       "1                       19       49.0          1.0                    1   \n",
       "2                       11      752.0          0.0                    1   \n",
       "3                        6       13.0          1.0                    1   \n",
       "4                        2       14.0          0.0                    1   \n",
       "...                    ...        ...          ...                  ...   \n",
       "1495                     5       26.0          0.0                    1   \n",
       "1496                     1       30.0          1.0                    1   \n",
       "1497                    21       42.0          1.0                    1   \n",
       "1498                    13      280.0          1.0                    1   \n",
       "1499                     6       15.0          1.0                    1   \n",
       "\n",
       "      Walking_again  Deceased  \n",
       "0               1.0         0  \n",
       "1               1.0         0  \n",
       "2               NaN         0  \n",
       "3               1.0         0  \n",
       "4               NaN         0  \n",
       "...             ...       ...  \n",
       "1495            NaN         0  \n",
       "1496            1.0         0  \n",
       "1497            1.0         0  \n",
       "1498            1.0         0  \n",
       "1499            1.0         0  \n",
       "\n",
       "[1500 rows x 37 columns]"
      ]
     },
     "execution_count": 52,
     "metadata": {},
     "output_type": "execute_result"
    }
   ],
   "source": [
    "df"
   ]
  },
  {
   "cell_type": "code",
   "execution_count": 53,
   "metadata": {},
   "outputs": [],
   "source": [
    "# df.columns"
   ]
  },
  {
   "cell_type": "code",
   "execution_count": 54,
   "metadata": {},
   "outputs": [],
   "source": [
    "# a =  df[['Surv_status', 'Deceased']]"
   ]
  },
  {
   "cell_type": "code",
   "execution_count": 55,
   "metadata": {},
   "outputs": [],
   "source": [
    "# df.dtypes"
   ]
  },
  {
   "cell_type": "code",
   "execution_count": 56,
   "metadata": {},
   "outputs": [],
   "source": [
    "\n",
    "# past de datum naar yyyy-mm-dd\n",
    "# dan selecteer dan mm om de correlatie te bepalen met andere data\n",
    "df['date_sickness'] = pd.to_datetime(df['Date_onset_weakness'], format = \"%d-%m-%Y\")\n",
    "df['date_month'] = df['date_sickness'].dt.month"
   ]
  },
  {
   "cell_type": "code",
   "execution_count": 57,
   "metadata": {},
   "outputs": [],
   "source": [
    "df = df.drop(columns = ['Patientcode','Date_onset_weakness'])\n",
    "df['CSF_protein_level'] = df['CSF_protein_level'].str.replace(',','.').astype(float)\n",
    "\n",
    "#df['Walking_again'] = df['Walking_again'].fillna(0)\n"
   ]
  },
  {
   "cell_type": "code",
   "execution_count": 58,
   "metadata": {},
   "outputs": [
    {
     "data": {
      "text/plain": [
       "Country_of_inclusion  Continent                0.912135\n",
       "MRC_sum_w1            MRC_sum_e                0.813435\n",
       "Surv_unable_to_walk   GBSDS_e                  0.766703\n",
       "GBSDS_w1              GBSDS_e                  0.762471\n",
       "CNI_Oculomotor_w1     CNI_Oculomotor_e         0.758196\n",
       "                                                 ...   \n",
       "date_month            Ant_event_respiratory         NaN\n",
       "                      Ant_event_vaccination         NaN\n",
       "                      Ant_event_other               NaN\n",
       "                      Walking_again                 NaN\n",
       "                      date_month                    NaN\n",
       "Length: 1369, dtype: float64"
      ]
     },
     "execution_count": 58,
     "metadata": {},
     "output_type": "execute_result"
    }
   ],
   "source": [
    "\n",
    "corr_matrix = df.corr()\n",
    "sorted_corr = corr_matrix.where(np.triu(np.ones(corr_matrix.shape), k=1).astype(bool)).unstack().sort_values(ascending=False)\n",
    "sorted_corr"
   ]
  },
  {
   "cell_type": "code",
   "execution_count": 59,
   "metadata": {},
   "outputs": [
    {
     "name": "stdout",
     "output_type": "stream",
     "text": [
      "date_month                          1.000000\n",
      "Country_of_inclusion                0.042215\n",
      "Continent                           0.042008\n",
      "CSF_protein_level                   0.034668\n",
      "Deceased                            0.032537\n",
      "Comorbidity_respiration             0.028531\n",
      "GBSDS_w1                            0.027320\n",
      "Sens_deficits_e                     0.024639\n",
      "date_sickness                       0.016433\n",
      "Able_to_walk_e                      0.014984\n",
      "Surv_status                         0.009699\n",
      "GBSDS_e                             0.007570\n",
      "Sens_deficits_w1                    0.004381\n",
      "Pain_e                              0.003648\n",
      "Days_between_onset_and_admission    0.000450\n",
      "Pain_w1                             0.000274\n",
      "CNI_Bulbar_w1                      -0.000925\n",
      "CNI_Bulbar_e                       -0.005650\n",
      "Surv_unable_to_walk                -0.007161\n",
      "Surv_days                          -0.012387\n",
      "Able_to_walk_w1                    -0.013766\n",
      "CNI_e                              -0.017687\n",
      "CNI_Facial_e                       -0.018265\n",
      "Ant_event                          -0.020287\n",
      "CNI_w1                             -0.021639\n",
      "MRC_sum_w1                         -0.022649\n",
      "CNI_Oculomotor_w1                  -0.024081\n",
      "MRC_sum_e                          -0.027020\n",
      "CNI_Facial_w1                      -0.030741\n",
      "Sex                                -0.035584\n",
      "Age                                -0.047358\n",
      "CNI_Oculomotor_e                   -0.048341\n",
      "Ant_event_GE                             NaN\n",
      "Ant_event_respiratory                    NaN\n",
      "Ant_event_vaccination                    NaN\n",
      "Ant_event_other                          NaN\n",
      "Walking_again                            NaN\n",
      "Name: date_month, dtype: float64\n"
     ]
    }
   ],
   "source": [
    "a = df.corr()['date_month'].sort_values(ascending=False)\n",
    "print(a)\n"
   ]
  },
  {
   "cell_type": "code",
   "execution_count": 60,
   "metadata": {},
   "outputs": [
    {
     "data": {
      "text/plain": [
       "Continent\n",
       "1    878\n",
       "2    178\n",
       "5    176\n",
       "4    164\n",
       "3     71\n",
       "6     33\n",
       "Name: count, dtype: int64"
      ]
     },
     "execution_count": 60,
     "metadata": {},
     "output_type": "execute_result"
    }
   ],
   "source": [
    "df['Continent'].value_counts()"
   ]
  },
  {
   "cell_type": "code",
   "execution_count": 61,
   "metadata": {},
   "outputs": [
    {
     "data": {
      "text/plain": [
       "Country_of_inclusion\n",
       "1     196\n",
       "19    176\n",
       "11    161\n",
       "6     160\n",
       "5     130\n",
       "2     129\n",
       "7     102\n",
       "18     66\n",
       "15     63\n",
       "3      60\n",
       "13     51\n",
       "8      40\n",
       "10     34\n",
       "17     28\n",
       "21     25\n",
       "4      18\n",
       "12     17\n",
       "14     16\n",
       "9      16\n",
       "16      6\n",
       "20      6\n",
       "Name: count, dtype: int64"
      ]
     },
     "execution_count": 61,
     "metadata": {},
     "output_type": "execute_result"
    }
   ],
   "source": [
    "df['Country_of_inclusion'].value_counts(sort=True)"
   ]
  },
  {
   "cell_type": "code",
   "execution_count": 62,
   "metadata": {},
   "outputs": [
    {
     "data": {
      "text/plain": [
       "<Axes: xlabel='Country_of_inclusion', ylabel='count'>"
      ]
     },
     "execution_count": 62,
     "metadata": {},
     "output_type": "execute_result"
    },
    {
     "data": {
      "image/png": "[encoded data removed]",
      "text/plain": [
       "<Figure size 640x480 with 1 Axes>"
      ]
     },
     "metadata": {},
     "output_type": "display_data"
    }
   ],
   "source": [
    "# sns.countplot(df,x='Continent')\n",
    "sns.countplot(data  =df,x='Country_of_inclusion')"
   ]
  },
  {
   "cell_type": "code",
   "execution_count": 63,
   "metadata": {},
   "outputs": [
    {
     "name": "stdout",
     "output_type": "stream",
     "text": [
      "    country_code         country_name    klimaat\n",
      "0              1            Nederland  C Klimaat\n",
      "1              2  Verenigd Koninkrijk  C Klimaat\n",
      "2              3            Duitsland  C Klimaat\n",
      "3              4               België  C Klimaat\n",
      "4              5           Denemarken  C Klimaat\n",
      "5              6               Italië  C Klimaat\n",
      "6              7               Spanje  B Klimaat\n",
      "7              8            Frankrijk  C Klimaat\n",
      "8              9          Griekenland  C Klimaat\n",
      "9             10          Zwitserland  C Klimaat\n",
      "10            11     Verenigde Staten  D Klimaat\n",
      "11            12               Canada  D Klimaat\n",
      "12            13           Argentinië  C Klimaat\n",
      "13            14             Brazilië  A Klimaat\n",
      "14            15                Japan  C Klimaat\n",
      "15            16               Taiwan  C Klimaat\n",
      "16            17             Maleisië  A Klimaat\n",
      "17            18                China  C Klimaat\n",
      "18            19           Bangladesh  A Klimaat\n",
      "19            20            Australië  C Klimaat\n",
      "20            21          Zuid-Afrika  C Klimaat\n"
     ]
    }
   ],
   "source": [
    "data = {\n",
    "    'country_code': [1, 2, 3, 4, 5, 6, 7, 8, 9, 10, 11, 12, 13, 14, 15, 16, 17, 18, 19, 20, 21],\n",
    "    'country_name': ['Nederland', 'Verenigd Koninkrijk', 'Duitsland', 'België', 'Denemarken', \n",
    "                     'Italië', 'Spanje', 'Frankrijk', 'Griekenland', 'Zwitserland', \n",
    "                     'Verenigde Staten', 'Canada', 'Argentinië', 'Brazilië', 'Japan', \n",
    "                     'Taiwan', 'Maleisië', 'China', 'Bangladesh', 'Australië', 'Zuid-Afrika']\n",
    "}\n",
    "\n",
    "\n",
    "df_klimaat = pd.DataFrame(data)\n",
    "\n",
    "climate_data = {\n",
    "    'A_Klimaat': ['Maleisië', 'Bangladesh', 'Brazilië'],\n",
    "    'B_Klimaat': ['Spanje'],\n",
    "    'C_Klimaat': ['Nederland', 'Verenigd Koninkrijk', 'België', 'Denemarken', 'Duitsland', 'Frankrijk', 'Italië', 'Griekenland', 'Zwitserland', 'Argentinië', 'Japan', 'Taiwan', 'China', 'Australië', 'Zuid-Afrika'],\n",
    "    'D_Klimaat': ['Verenigde Staten', 'Canada']\n",
    "}\n",
    "\n",
    "# Function to assign the climate category based on the country\n",
    "def assign_climate(country):\n",
    "    if country in climate_data['A_Klimaat']:\n",
    "        return 'A Klimaat'\n",
    "    elif country in climate_data['B_Klimaat']:\n",
    "        return 'B Klimaat'\n",
    "    elif country in climate_data['C_Klimaat']:\n",
    "        return 'C Klimaat'\n",
    "    elif country in climate_data['D_Klimaat']:\n",
    "        return 'D Klimaat'\n",
    "    else:\n",
    "        return 'Unknown'\n",
    "\n",
    "# Add a new column 'Climate' to the dataframe\n",
    "df_klimaat['klimaat'] = df_klimaat['country_name'].apply(assign_climate)\n",
    "\n",
    "\n",
    "print(df_klimaat)\n"
   ]
  },
  {
   "cell_type": "code",
   "execution_count": 64,
   "metadata": {},
   "outputs": [],
   "source": [
    "# df en df_klimaat joinen op elkaar\n",
    "df = pd.merge(df, df_klimaat, \n",
    "                     left_on='Country_of_inclusion', right_on='country_code',\n",
    "                     how = 'left')\n",
    "\n",
    "df = df.drop(columns = 'country_code')"
   ]
  },
  {
   "cell_type": "code",
   "execution_count": 65,
   "metadata": {},
   "outputs": [
    {
     "data": {
      "text/plain": [
       "<Axes: xlabel='klimaat', ylabel='count'>"
      ]
     },
     "execution_count": 65,
     "metadata": {},
     "output_type": "execute_result"
    },
    {
     "data": {
      "image/png": "[encoded data removed]",
      "text/plain": [
       "<Figure size 640x480 with 1 Axes>"
      ]
     },
     "metadata": {},
     "output_type": "display_data"
    }
   ],
   "source": [
    "\n",
    "sns.countplot(data = df,x='klimaat', hue = 'klimaat')"
   ]
  },
  {
   "cell_type": "code",
   "execution_count": null,
   "metadata": {},
   "outputs": [],
   "source": []
  },
  {
   "cell_type": "code",
   "execution_count": 66,
   "metadata": {},
   "outputs": [
    {
     "data": {
      "text/plain": [
       "klimaat\n",
       "C Klimaat    1000\n",
       "A Klimaat     220\n",
       "D Klimaat     178\n",
       "B Klimaat     102\n",
       "Name: count, dtype: int64"
      ]
     },
     "execution_count": 66,
     "metadata": {},
     "output_type": "execute_result"
    }
   ],
   "source": [
    "df['klimaat'].value_counts()"
   ]
  },
  {
   "cell_type": "code",
   "execution_count": 67,
   "metadata": {},
   "outputs": [
    {
     "data": {
      "text/plain": [
       "Text(0.5, 1.0, 'Verdeling hoeveelheid GBS per hafrond')"
      ]
     },
     "execution_count": 67,
     "metadata": {},
     "output_type": "execute_result"
    },
    {
     "data": {
      "image/png": "[encoded data removed]",
      "text/plain": [
       "<Figure size 640x480 with 1 Axes>"
      ]
     },
     "metadata": {},
     "output_type": "display_data"
    }
   ],
   "source": [
    "halfrond_data = {\n",
    "    'Noordelijk_halfrond': ['Nederland', 'Verenigd Koninkrijk', 'Duitsland', 'België', 'Denemarken', \n",
    "                     'Italië', 'Spanje', 'Frankrijk', 'Griekenland', 'Zwitserland', \n",
    "                     'Verenigde Staten', 'Canada','Japan', \n",
    "                     'Taiwan', 'Maleisië', 'China', 'Bangladesh'],\n",
    "\n",
    "    'Zuidelijk_halfrond': ['Argentinië','Brazilië','Australië', 'Zuid-Afrika']\n",
    "}\n",
    "\n",
    "\n",
    "def assign_halfrond(country):\n",
    "    if country in halfrond_data['Noordelijk_halfrond']:\n",
    "        return 'Noordelijk_halfrond'\n",
    "    elif country in halfrond_data['Zuidelijk_halfrond']:\n",
    "        return 'Zuidelijk_halfrond'\n",
    "\n",
    "\n",
    "df['halfrond'] = df['country_name'].apply(assign_halfrond)\n",
    "\n",
    "\n",
    "sns.countplot(data = df, x='halfrond', hue = 'halfrond').set_title('Verdeling hoeveelheid GBS per hafrond')"
   ]
  },
  {
   "cell_type": "markdown",
   "metadata": {},
   "source": [
    "Seizoenen definieren opbasis van de halfrond.\n",
    "\n",
    "Noordelijk_halfrond: lente 3-5, zomer 6-8, herfst 9-11, winter 12-2\n",
    "\n",
    "Zuidelijk halfrond: lente 9-11, zomer 12-2, herfst 3-5, winter 6-8"
   ]
  },
  {
   "cell_type": "code",
   "execution_count": 68,
   "metadata": {},
   "outputs": [],
   "source": [
    "def seizoenen(halfrond, date_month):\n",
    "    seizoen1 = [12,1,2]\n",
    "    seizoen2 = [3,4,5]\n",
    "    seizoen3 = [6,7,8]\n",
    "    seizoen4 = [9,10,11]\n",
    "    if str(halfrond) == 'Noordelijk_halfrond':\n",
    "        if date_month in seizoen1:\n",
    "            return \"Winter\"\n",
    "        elif date_month in seizoen2:\n",
    "            return \"Lente\"\n",
    "        elif date_month in seizoen3:\n",
    "            return \"Zomer\"\n",
    "        elif date_month in seizoen4:\n",
    "            return \"Herfst\"\n",
    "        else:\n",
    "            return None\n",
    "    elif str(halfrond) == 'Zuidelijk_halfrond':\n",
    "        if date_month in seizoen1:\n",
    "            return \"Zomer\"\n",
    "        elif date_month in seizoen2:\n",
    "            return \"Herfst\"\n",
    "        elif date_month in seizoen3:\n",
    "            return \"Winter\"\n",
    "        elif date_month in seizoen4:\n",
    "            return \"Lente\"\n",
    "        else:\n",
    "            return None\n",
    "    else:\n",
    "        print(\"help\")\n",
    "    \n",
    "\n"
   ]
  },
  {
   "cell_type": "code",
   "execution_count": 69,
   "metadata": {},
   "outputs": [
    {
     "data": {
      "text/plain": [
       "dtype('O')"
      ]
     },
     "execution_count": 69,
     "metadata": {},
     "output_type": "execute_result"
    }
   ],
   "source": [
    "df['halfrond'].dtype"
   ]
  },
  {
   "cell_type": "code",
   "execution_count": 70,
   "metadata": {},
   "outputs": [],
   "source": [
    "df['Seizoen'] = df.apply(lambda row: seizoenen(row['halfrond'], row['date_month']), axis=1)"
   ]
  },
  {
   "cell_type": "code",
   "execution_count": 71,
   "metadata": {},
   "outputs": [],
   "source": [
    "df_seizoenstest = df[['halfrond', 'date_sickness', 'date_month', 'Seizoen', 'Days_between_onset_and_admission']]"
   ]
  },
  {
   "cell_type": "code",
   "execution_count": 72,
   "metadata": {},
   "outputs": [
    {
     "data": {
      "text/html": [
       "<div>\n",
       "<style scoped>\n",
       "    .dataframe tbody tr th:only-of-type {\n",
       "        vertical-align: middle;\n",
       "    }\n",
       "\n",
       "    .dataframe tbody tr th {\n",
       "        vertical-align: top;\n",
       "    }\n",
       "\n",
       "    .dataframe thead th {\n",
       "        text-align: right;\n",
       "    }\n",
       "</style>\n",
       "<table border=\"1\" class=\"dataframe\">\n",
       "  <thead>\n",
       "    <tr style=\"text-align: right;\">\n",
       "      <th></th>\n",
       "      <th>halfrond</th>\n",
       "      <th>date_sickness</th>\n",
       "      <th>date_month</th>\n",
       "      <th>Seizoen</th>\n",
       "      <th>Days_between_onset_and_admission</th>\n",
       "    </tr>\n",
       "  </thead>\n",
       "  <tbody>\n",
       "    <tr>\n",
       "      <th>0</th>\n",
       "      <td>Noordelijk_halfrond</td>\n",
       "      <td>2016-06-16</td>\n",
       "      <td>6.0</td>\n",
       "      <td>Zomer</td>\n",
       "      <td>5.0</td>\n",
       "    </tr>\n",
       "    <tr>\n",
       "      <th>1</th>\n",
       "      <td>Noordelijk_halfrond</td>\n",
       "      <td>2017-11-22</td>\n",
       "      <td>11.0</td>\n",
       "      <td>Herfst</td>\n",
       "      <td>1.0</td>\n",
       "    </tr>\n",
       "    <tr>\n",
       "      <th>2</th>\n",
       "      <td>Noordelijk_halfrond</td>\n",
       "      <td>2020-12-28</td>\n",
       "      <td>12.0</td>\n",
       "      <td>Winter</td>\n",
       "      <td>15.0</td>\n",
       "    </tr>\n",
       "    <tr>\n",
       "      <th>3</th>\n",
       "      <td>Noordelijk_halfrond</td>\n",
       "      <td>2020-03-30</td>\n",
       "      <td>3.0</td>\n",
       "      <td>Lente</td>\n",
       "      <td>10.0</td>\n",
       "    </tr>\n",
       "    <tr>\n",
       "      <th>4</th>\n",
       "      <td>Noordelijk_halfrond</td>\n",
       "      <td>2015-12-28</td>\n",
       "      <td>12.0</td>\n",
       "      <td>Winter</td>\n",
       "      <td>3.0</td>\n",
       "    </tr>\n",
       "    <tr>\n",
       "      <th>...</th>\n",
       "      <td>...</td>\n",
       "      <td>...</td>\n",
       "      <td>...</td>\n",
       "      <td>...</td>\n",
       "      <td>...</td>\n",
       "    </tr>\n",
       "    <tr>\n",
       "      <th>1495</th>\n",
       "      <td>Noordelijk_halfrond</td>\n",
       "      <td>2016-09-04</td>\n",
       "      <td>9.0</td>\n",
       "      <td>Herfst</td>\n",
       "      <td>12.0</td>\n",
       "    </tr>\n",
       "    <tr>\n",
       "      <th>1496</th>\n",
       "      <td>Noordelijk_halfrond</td>\n",
       "      <td>2017-02-04</td>\n",
       "      <td>2.0</td>\n",
       "      <td>Winter</td>\n",
       "      <td>9.0</td>\n",
       "    </tr>\n",
       "    <tr>\n",
       "      <th>1497</th>\n",
       "      <td>Zuidelijk_halfrond</td>\n",
       "      <td>2017-04-30</td>\n",
       "      <td>4.0</td>\n",
       "      <td>Herfst</td>\n",
       "      <td>1.0</td>\n",
       "    </tr>\n",
       "    <tr>\n",
       "      <th>1498</th>\n",
       "      <td>Zuidelijk_halfrond</td>\n",
       "      <td>2017-10-03</td>\n",
       "      <td>10.0</td>\n",
       "      <td>Lente</td>\n",
       "      <td>5.0</td>\n",
       "    </tr>\n",
       "    <tr>\n",
       "      <th>1499</th>\n",
       "      <td>Noordelijk_halfrond</td>\n",
       "      <td>2016-03-10</td>\n",
       "      <td>3.0</td>\n",
       "      <td>Lente</td>\n",
       "      <td>5.0</td>\n",
       "    </tr>\n",
       "  </tbody>\n",
       "</table>\n",
       "<p>1500 rows × 5 columns</p>\n",
       "</div>"
      ],
      "text/plain": [
       "                 halfrond date_sickness  date_month Seizoen  \\\n",
       "0     Noordelijk_halfrond    2016-06-16         6.0   Zomer   \n",
       "1     Noordelijk_halfrond    2017-11-22        11.0  Herfst   \n",
       "2     Noordelijk_halfrond    2020-12-28        12.0  Winter   \n",
       "3     Noordelijk_halfrond    2020-03-30         3.0   Lente   \n",
       "4     Noordelijk_halfrond    2015-12-28        12.0  Winter   \n",
       "...                   ...           ...         ...     ...   \n",
       "1495  Noordelijk_halfrond    2016-09-04         9.0  Herfst   \n",
       "1496  Noordelijk_halfrond    2017-02-04         2.0  Winter   \n",
       "1497   Zuidelijk_halfrond    2017-04-30         4.0  Herfst   \n",
       "1498   Zuidelijk_halfrond    2017-10-03        10.0   Lente   \n",
       "1499  Noordelijk_halfrond    2016-03-10         3.0   Lente   \n",
       "\n",
       "      Days_between_onset_and_admission  \n",
       "0                                  5.0  \n",
       "1                                  1.0  \n",
       "2                                 15.0  \n",
       "3                                 10.0  \n",
       "4                                  3.0  \n",
       "...                                ...  \n",
       "1495                              12.0  \n",
       "1496                               9.0  \n",
       "1497                               1.0  \n",
       "1498                               5.0  \n",
       "1499                               5.0  \n",
       "\n",
       "[1500 rows x 5 columns]"
      ]
     },
     "execution_count": 72,
     "metadata": {},
     "output_type": "execute_result"
    }
   ],
   "source": [
    "df_seizoenstest"
   ]
  },
  {
   "cell_type": "code",
   "execution_count": 73,
   "metadata": {},
   "outputs": [
    {
     "name": "stderr",
     "output_type": "stream",
     "text": [
      "C:\\Users\\mitch\\AppData\\Local\\Temp\\ipykernel_15164\\3361913468.py:1: SettingWithCopyWarning: \n",
      "A value is trying to be set on a copy of a slice from a DataFrame.\n",
      "Try using .loc[row_indexer,col_indexer] = value instead\n",
      "\n",
      "See the caveats in the documentation: https://pandas.pydata.org/pandas-docs/stable/user_guide/indexing.html#returning-a-view-versus-a-copy\n",
      "  df_seizoenstest['opname_datum'] = df_seizoenstest.apply(\n"
     ]
    }
   ],
   "source": [
    "df_seizoenstest['opname_datum'] = df_seizoenstest.apply(\n",
    "    lambda row: row['date_sickness'] + pd.to_timedelta(row['Days_between_onset_and_admission'], unit='D')\n",
    "    if pd.notna(row['date_sickness']) and pd.notna(row['Days_between_onset_and_admission']) \n",
    "    else np.nan, axis=1\n",
    ")"
   ]
  },
  {
   "cell_type": "code",
   "execution_count": 75,
   "metadata": {},
   "outputs": [
    {
     "name": "stderr",
     "output_type": "stream",
     "text": [
      "C:\\Users\\mitch\\AppData\\Local\\Temp\\ipykernel_15164\\2454794557.py:1: SettingWithCopyWarning: \n",
      "A value is trying to be set on a copy of a slice from a DataFrame.\n",
      "Try using .loc[row_indexer,col_indexer] = value instead\n",
      "\n",
      "See the caveats in the documentation: https://pandas.pydata.org/pandas-docs/stable/user_guide/indexing.html#returning-a-view-versus-a-copy\n",
      "  df_seizoenstest['opname_maand'] = df_seizoenstest['opname_datum'].dt.month\n"
     ]
    }
   ],
   "source": [
    "df_seizoenstest['opname_maand'] = df_seizoenstest['opname_datum'].dt.month"
   ]
  },
  {
   "cell_type": "code",
   "execution_count": 77,
   "metadata": {},
   "outputs": [
    {
     "name": "stderr",
     "output_type": "stream",
     "text": [
      "C:\\Users\\mitch\\AppData\\Local\\Temp\\ipykernel_15164\\2192254899.py:1: SettingWithCopyWarning: \n",
      "A value is trying to be set on a copy of a slice from a DataFrame.\n",
      "Try using .loc[row_indexer,col_indexer] = value instead\n",
      "\n",
      "See the caveats in the documentation: https://pandas.pydata.org/pandas-docs/stable/user_guide/indexing.html#returning-a-view-versus-a-copy\n",
      "  df_seizoenstest['Seizoen_opname'] = df_seizoenstest.apply(lambda row: seizoenen(row['halfrond'], row['opname_maand']), axis=1)\n"
     ]
    }
   ],
   "source": [
    "df_seizoenstest['Seizoen_opname'] = df_seizoenstest.apply(lambda row: seizoenen(row['halfrond'], row['opname_maand']), axis=1)"
   ]
  },
  {
   "cell_type": "code",
   "execution_count": 78,
   "metadata": {},
   "outputs": [
    {
     "data": {
      "text/html": [
       "<div>\n",
       "<style scoped>\n",
       "    .dataframe tbody tr th:only-of-type {\n",
       "        vertical-align: middle;\n",
       "    }\n",
       "\n",
       "    .dataframe tbody tr th {\n",
       "        vertical-align: top;\n",
       "    }\n",
       "\n",
       "    .dataframe thead th {\n",
       "        text-align: right;\n",
       "    }\n",
       "</style>\n",
       "<table border=\"1\" class=\"dataframe\">\n",
       "  <thead>\n",
       "    <tr style=\"text-align: right;\">\n",
       "      <th></th>\n",
       "      <th>halfrond</th>\n",
       "      <th>date_sickness</th>\n",
       "      <th>date_month</th>\n",
       "      <th>Seizoen</th>\n",
       "      <th>Days_between_onset_and_admission</th>\n",
       "      <th>opname_datum</th>\n",
       "      <th>opname_maand</th>\n",
       "      <th>Seizoen_opname</th>\n",
       "    </tr>\n",
       "  </thead>\n",
       "  <tbody>\n",
       "    <tr>\n",
       "      <th>0</th>\n",
       "      <td>Noordelijk_halfrond</td>\n",
       "      <td>2016-06-16</td>\n",
       "      <td>6.0</td>\n",
       "      <td>Zomer</td>\n",
       "      <td>5.0</td>\n",
       "      <td>2016-06-21</td>\n",
       "      <td>6.0</td>\n",
       "      <td>Zomer</td>\n",
       "    </tr>\n",
       "    <tr>\n",
       "      <th>1</th>\n",
       "      <td>Noordelijk_halfrond</td>\n",
       "      <td>2017-11-22</td>\n",
       "      <td>11.0</td>\n",
       "      <td>Herfst</td>\n",
       "      <td>1.0</td>\n",
       "      <td>2017-11-23</td>\n",
       "      <td>11.0</td>\n",
       "      <td>Herfst</td>\n",
       "    </tr>\n",
       "    <tr>\n",
       "      <th>2</th>\n",
       "      <td>Noordelijk_halfrond</td>\n",
       "      <td>2020-12-28</td>\n",
       "      <td>12.0</td>\n",
       "      <td>Winter</td>\n",
       "      <td>15.0</td>\n",
       "      <td>2021-01-12</td>\n",
       "      <td>1.0</td>\n",
       "      <td>Winter</td>\n",
       "    </tr>\n",
       "    <tr>\n",
       "      <th>3</th>\n",
       "      <td>Noordelijk_halfrond</td>\n",
       "      <td>2020-03-30</td>\n",
       "      <td>3.0</td>\n",
       "      <td>Lente</td>\n",
       "      <td>10.0</td>\n",
       "      <td>2020-04-09</td>\n",
       "      <td>4.0</td>\n",
       "      <td>Lente</td>\n",
       "    </tr>\n",
       "    <tr>\n",
       "      <th>4</th>\n",
       "      <td>Noordelijk_halfrond</td>\n",
       "      <td>2015-12-28</td>\n",
       "      <td>12.0</td>\n",
       "      <td>Winter</td>\n",
       "      <td>3.0</td>\n",
       "      <td>2015-12-31</td>\n",
       "      <td>12.0</td>\n",
       "      <td>Winter</td>\n",
       "    </tr>\n",
       "    <tr>\n",
       "      <th>...</th>\n",
       "      <td>...</td>\n",
       "      <td>...</td>\n",
       "      <td>...</td>\n",
       "      <td>...</td>\n",
       "      <td>...</td>\n",
       "      <td>...</td>\n",
       "      <td>...</td>\n",
       "      <td>...</td>\n",
       "    </tr>\n",
       "    <tr>\n",
       "      <th>1495</th>\n",
       "      <td>Noordelijk_halfrond</td>\n",
       "      <td>2016-09-04</td>\n",
       "      <td>9.0</td>\n",
       "      <td>Herfst</td>\n",
       "      <td>12.0</td>\n",
       "      <td>2016-09-16</td>\n",
       "      <td>9.0</td>\n",
       "      <td>Herfst</td>\n",
       "    </tr>\n",
       "    <tr>\n",
       "      <th>1496</th>\n",
       "      <td>Noordelijk_halfrond</td>\n",
       "      <td>2017-02-04</td>\n",
       "      <td>2.0</td>\n",
       "      <td>Winter</td>\n",
       "      <td>9.0</td>\n",
       "      <td>2017-02-13</td>\n",
       "      <td>2.0</td>\n",
       "      <td>Winter</td>\n",
       "    </tr>\n",
       "    <tr>\n",
       "      <th>1497</th>\n",
       "      <td>Zuidelijk_halfrond</td>\n",
       "      <td>2017-04-30</td>\n",
       "      <td>4.0</td>\n",
       "      <td>Herfst</td>\n",
       "      <td>1.0</td>\n",
       "      <td>2017-05-01</td>\n",
       "      <td>5.0</td>\n",
       "      <td>Herfst</td>\n",
       "    </tr>\n",
       "    <tr>\n",
       "      <th>1498</th>\n",
       "      <td>Zuidelijk_halfrond</td>\n",
       "      <td>2017-10-03</td>\n",
       "      <td>10.0</td>\n",
       "      <td>Lente</td>\n",
       "      <td>5.0</td>\n",
       "      <td>2017-10-08</td>\n",
       "      <td>10.0</td>\n",
       "      <td>Lente</td>\n",
       "    </tr>\n",
       "    <tr>\n",
       "      <th>1499</th>\n",
       "      <td>Noordelijk_halfrond</td>\n",
       "      <td>2016-03-10</td>\n",
       "      <td>3.0</td>\n",
       "      <td>Lente</td>\n",
       "      <td>5.0</td>\n",
       "      <td>2016-03-15</td>\n",
       "      <td>3.0</td>\n",
       "      <td>Lente</td>\n",
       "    </tr>\n",
       "  </tbody>\n",
       "</table>\n",
       "<p>1500 rows × 8 columns</p>\n",
       "</div>"
      ],
      "text/plain": [
       "                 halfrond date_sickness  date_month Seizoen  \\\n",
       "0     Noordelijk_halfrond    2016-06-16         6.0   Zomer   \n",
       "1     Noordelijk_halfrond    2017-11-22        11.0  Herfst   \n",
       "2     Noordelijk_halfrond    2020-12-28        12.0  Winter   \n",
       "3     Noordelijk_halfrond    2020-03-30         3.0   Lente   \n",
       "4     Noordelijk_halfrond    2015-12-28        12.0  Winter   \n",
       "...                   ...           ...         ...     ...   \n",
       "1495  Noordelijk_halfrond    2016-09-04         9.0  Herfst   \n",
       "1496  Noordelijk_halfrond    2017-02-04         2.0  Winter   \n",
       "1497   Zuidelijk_halfrond    2017-04-30         4.0  Herfst   \n",
       "1498   Zuidelijk_halfrond    2017-10-03        10.0   Lente   \n",
       "1499  Noordelijk_halfrond    2016-03-10         3.0   Lente   \n",
       "\n",
       "      Days_between_onset_and_admission opname_datum  opname_maand  \\\n",
       "0                                  5.0   2016-06-21           6.0   \n",
       "1                                  1.0   2017-11-23          11.0   \n",
       "2                                 15.0   2021-01-12           1.0   \n",
       "3                                 10.0   2020-04-09           4.0   \n",
       "4                                  3.0   2015-12-31          12.0   \n",
       "...                                ...          ...           ...   \n",
       "1495                              12.0   2016-09-16           9.0   \n",
       "1496                               9.0   2017-02-13           2.0   \n",
       "1497                               1.0   2017-05-01           5.0   \n",
       "1498                               5.0   2017-10-08          10.0   \n",
       "1499                               5.0   2016-03-15           3.0   \n",
       "\n",
       "     Seizoen_opname  \n",
       "0             Zomer  \n",
       "1            Herfst  \n",
       "2            Winter  \n",
       "3             Lente  \n",
       "4            Winter  \n",
       "...             ...  \n",
       "1495         Herfst  \n",
       "1496         Winter  \n",
       "1497         Herfst  \n",
       "1498          Lente  \n",
       "1499          Lente  \n",
       "\n",
       "[1500 rows x 8 columns]"
      ]
     },
     "execution_count": 78,
     "metadata": {},
     "output_type": "execute_result"
    }
   ],
   "source": [
    "df_seizoenstest"
   ]
  },
  {
   "cell_type": "code",
   "execution_count": 79,
   "metadata": {},
   "outputs": [
    {
     "name": "stderr",
     "output_type": "stream",
     "text": [
      "C:\\Users\\mitch\\AppData\\Local\\Temp\\ipykernel_15164\\3003221481.py:1: SettingWithCopyWarning: \n",
      "A value is trying to be set on a copy of a slice from a DataFrame.\n",
      "Try using .loc[row_indexer,col_indexer] = value instead\n",
      "\n",
      "See the caveats in the documentation: https://pandas.pydata.org/pandas-docs/stable/user_guide/indexing.html#returning-a-view-versus-a-copy\n",
      "  df_seizoenstest['verschil'] = df_seizoenstest.apply(\n"
     ]
    }
   ],
   "source": [
    "df_seizoenstest['verschil'] = df_seizoenstest.apply(\n",
    "    lambda row: 0 if row['Seizoen'] == row['Seizoen_opname'] else 1, \n",
    "    axis=1\n",
    ")"
   ]
  },
  {
   "cell_type": "code",
   "execution_count": 87,
   "metadata": {},
   "outputs": [
    {
     "data": {
      "text/plain": [
       "6.050684931506849"
      ]
     },
     "execution_count": 87,
     "metadata": {},
     "output_type": "execute_result"
    }
   ],
   "source": [
    "df_seizoenstest['Days_between_onset_and_admission'].mean()"
   ]
  },
  {
   "cell_type": "code",
   "execution_count": 81,
   "metadata": {},
   "outputs": [
    {
     "data": {
      "text/plain": [
       "verschil\n",
       "0    1416\n",
       "1      84\n",
       "Name: count, dtype: int64"
      ]
     },
     "execution_count": 81,
     "metadata": {},
     "output_type": "execute_result"
    }
   ],
   "source": [
    "df_seizoenstest['verschil'].value_counts()"
   ]
  },
  {
   "cell_type": "code",
   "execution_count": 83,
   "metadata": {},
   "outputs": [
    {
     "data": {
      "text/html": [
       "<div>\n",
       "<style scoped>\n",
       "    .dataframe tbody tr th:only-of-type {\n",
       "        vertical-align: middle;\n",
       "    }\n",
       "\n",
       "    .dataframe tbody tr th {\n",
       "        vertical-align: top;\n",
       "    }\n",
       "\n",
       "    .dataframe thead th {\n",
       "        text-align: right;\n",
       "    }\n",
       "</style>\n",
       "<table border=\"1\" class=\"dataframe\">\n",
       "  <thead>\n",
       "    <tr style=\"text-align: right;\">\n",
       "      <th>Seizoen_opname</th>\n",
       "      <th>Herfst</th>\n",
       "      <th>Lente</th>\n",
       "      <th>Winter</th>\n",
       "      <th>Zomer</th>\n",
       "    </tr>\n",
       "    <tr>\n",
       "      <th>Seizoen</th>\n",
       "      <th></th>\n",
       "      <th></th>\n",
       "      <th></th>\n",
       "      <th></th>\n",
       "    </tr>\n",
       "  </thead>\n",
       "  <tbody>\n",
       "    <tr>\n",
       "      <th>Herfst</th>\n",
       "      <td>297</td>\n",
       "      <td>0</td>\n",
       "      <td>14</td>\n",
       "      <td>0</td>\n",
       "    </tr>\n",
       "    <tr>\n",
       "      <th>Lente</th>\n",
       "      <td>0</td>\n",
       "      <td>354</td>\n",
       "      <td>0</td>\n",
       "      <td>20</td>\n",
       "    </tr>\n",
       "    <tr>\n",
       "      <th>Winter</th>\n",
       "      <td>0</td>\n",
       "      <td>31</td>\n",
       "      <td>415</td>\n",
       "      <td>0</td>\n",
       "    </tr>\n",
       "    <tr>\n",
       "      <th>Zomer</th>\n",
       "      <td>16</td>\n",
       "      <td>0</td>\n",
       "      <td>0</td>\n",
       "      <td>313</td>\n",
       "    </tr>\n",
       "  </tbody>\n",
       "</table>\n",
       "</div>"
      ],
      "text/plain": [
       "Seizoen_opname  Herfst  Lente  Winter  Zomer\n",
       "Seizoen                                     \n",
       "Herfst             297      0      14      0\n",
       "Lente                0    354       0     20\n",
       "Winter               0     31     415      0\n",
       "Zomer               16      0       0    313"
      ]
     },
     "execution_count": 83,
     "metadata": {},
     "output_type": "execute_result"
    }
   ],
   "source": [
    "freq_table = pd.crosstab(df_seizoenstest['Seizoen'], df_seizoenstest['Seizoen_opname']) \n",
    "freq_table"
   ]
  },
  {
   "cell_type": "markdown",
   "metadata": {},
   "source": [
    "Hieruit is op te halen dat er weinig verschil zit tussen of je kijkt naar het seizoen waarin de eerste klachten kwamen en het seizoen waarin de patiënten werden opgenomen"
   ]
  },
  {
   "cell_type": "markdown",
   "metadata": {},
   "source": [
    "Verder heeft het aantal dagen tussen ziekte en opname een mediaan van 6, wat laat zien dat veel van deze gevallen ook rond de seizoenswissellagen."
   ]
  },
  {
   "cell_type": "code",
   "execution_count": 35,
   "metadata": {},
   "outputs": [],
   "source": [
    "# a = df[['country_name','date_month','Seizoen']]\n",
    "# print(a)"
   ]
  },
  {
   "cell_type": "code",
   "execution_count": 36,
   "metadata": {},
   "outputs": [
    {
     "data": {
      "text/plain": [
       "<Axes: xlabel='Seizoen', ylabel='count'>"
      ]
     },
     "execution_count": 36,
     "metadata": {},
     "output_type": "execute_result"
    },
    {
     "data": {
      "image/png": "[encoded data removed]",
      "text/plain": [
       "<Figure size 640x480 with 1 Axes>"
      ]
     },
     "metadata": {},
     "output_type": "display_data"
    }
   ],
   "source": [
    "sns.countplot(data = df,x='Seizoen', hue = 'Seizoen')#, legend= False).set_title('Verdeling hoeveelheid GBS per seizoen')"
   ]
  },
  {
   "cell_type": "code",
   "execution_count": 37,
   "metadata": {},
   "outputs": [
    {
     "data": {
      "text/plain": [
       "Chi2ContingencyResult(statistic=3.7451420362510364, pvalue=0.9273719105102436, dof=9, expected_freq=array([[ 46.85372522,  56.13465482,  66.76281613,  49.24880383],\n",
       "       [ 21.18045113,  25.37593985,  30.18045113,  22.26315789],\n",
       "       [208.38140807, 249.6582365 , 296.92686261, 219.03349282],\n",
       "       [ 36.58441558,  43.83116883,  52.12987013,  38.45454545]]))"
      ]
     },
     "execution_count": 37,
     "metadata": {},
     "output_type": "execute_result"
    }
   ],
   "source": [
    "Klimaat_Seizoen = pd.crosstab(df['klimaat'], df['Seizoen'])\n",
    "\n",
    "stats.chi2_contingency(Klimaat_Seizoen)"
   ]
  },
  {
   "cell_type": "markdown",
   "metadata": {},
   "source": [
    "De chi-kwadraat toets geeft een p-waarde van 0,9237.... dat is hoger dan 0,05. Dus de 0-hypothese wordt bewaard.\n",
    "De 0 hypothese is dat de 2 variabelen statistisch onafhankelijk zijn."
   ]
  },
  {
   "cell_type": "markdown",
   "metadata": {},
   "source": [
    "# NA handling"
   ]
  },
  {
   "cell_type": "markdown",
   "metadata": {},
   "source": [
    "Eerst kijken hoeveel NA er zijn in de dataset. Om te bepalen welke vorm van NA-handling wordt toegepast"
   ]
  },
  {
   "cell_type": "code",
   "execution_count": null,
   "metadata": {},
   "outputs": [],
   "source": [
    "for column, dtype in zip(df.columns, df.isna().sum()):\n",
    "    print(column, \":\", dtype)"
   ]
  },
  {
   "cell_type": "code",
   "execution_count": null,
   "metadata": {},
   "outputs": [],
   "source": [
    "df = df.dropna(thresh= df.shape[1]-10)\n",
    "df"
   ]
  },
  {
   "cell_type": "code",
   "execution_count": null,
   "metadata": {},
   "outputs": [],
   "source": [
    "for column, dtype in zip(df.columns, df.isna().sum()):\n",
    "    print(column, \":\", dtype)"
   ]
  },
  {
   "cell_type": "code",
   "execution_count": null,
   "metadata": {},
   "outputs": [],
   "source": [
    "df[df['Ant_event'].isna() == False]['Ant_event'].count()"
   ]
  },
  {
   "cell_type": "code",
   "execution_count": null,
   "metadata": {},
   "outputs": [],
   "source": [
    "df[df['Ant_event_GE'].isna() == False]['Ant_event_GE'].count()"
   ]
  },
  {
   "cell_type": "code",
   "execution_count": null,
   "metadata": {},
   "outputs": [],
   "source": [
    "df['Ant_event_GE']"
   ]
  },
  {
   "cell_type": "code",
   "execution_count": null,
   "metadata": {},
   "outputs": [],
   "source": [
    "df['Ant_event'].value_counts()"
   ]
  },
  {
   "cell_type": "code",
   "execution_count": null,
   "metadata": {},
   "outputs": [],
   "source": [
    "df['Ant_event_GE'].isna().sum()"
   ]
  },
  {
   "cell_type": "code",
   "execution_count": null,
   "metadata": {},
   "outputs": [],
   "source": [
    "df['Ant_event_GE'].value_counts()"
   ]
  },
  {
   "cell_type": "code",
   "execution_count": null,
   "metadata": {},
   "outputs": [],
   "source": [
    "df['Ant_event_GE'] = df['Ant_event_GE'].fillna(df['Ant_event'].\n",
    "                                               where(df['Ant_event'] <2, other=pd.NA).replace(1, 0))"
   ]
  },
  {
   "cell_type": "code",
   "execution_count": null,
   "metadata": {},
   "outputs": [],
   "source": [
    "df['Ant_event_GE'].isna().sum()"
   ]
  },
  {
   "cell_type": "code",
   "execution_count": null,
   "metadata": {},
   "outputs": [],
   "source": [
    "df['Ant_event_GE'].value_counts()\n"
   ]
  },
  {
   "cell_type": "code",
   "execution_count": null,
   "metadata": {},
   "outputs": [],
   "source": [
    "df['Ant_event_respiratory'] = df['Ant_event_respiratory'].fillna(df['Ant_event'].\n",
    "                                               where(df['Ant_event'] <2, other=pd.NA).replace(1, 0))"
   ]
  },
  {
   "cell_type": "code",
   "execution_count": null,
   "metadata": {},
   "outputs": [],
   "source": [
    "df['Ant_event_vaccination'] = df['Ant_event_vaccination'].fillna(df['Ant_event'].\n",
    "                                               where(df['Ant_event'] <2, other=pd.NA).replace(1, 0))"
   ]
  },
  {
   "cell_type": "code",
   "execution_count": null,
   "metadata": {},
   "outputs": [],
   "source": [
    "df['Ant_event_other'] = df['Ant_event_other'].fillna(df['Ant_event'].\n",
    "                                               where(df['Ant_event'] <2, other=pd.NA).replace(1, 0))"
   ]
  },
  {
   "cell_type": "markdown",
   "metadata": {},
   "source": []
  },
  {
   "cell_type": "code",
   "execution_count": null,
   "metadata": {},
   "outputs": [],
   "source": [
    "for column, dtype in zip(df.columns, df.isna().sum()):\n",
    "    print(column, \":\", dtype)"
   ]
  },
  {
   "cell_type": "code",
   "execution_count": null,
   "metadata": {},
   "outputs": [],
   "source": [
    "df_2  = df[['Able_to_walk_e','Able_to_walk_w1','Surv_unable_to_walk','Walking_again']]"
   ]
  },
  {
   "cell_type": "code",
   "execution_count": null,
   "metadata": {},
   "outputs": [],
   "source": [
    "df_2"
   ]
  },
  {
   "cell_type": "code",
   "execution_count": null,
   "metadata": {},
   "outputs": [],
   "source": [
    "df_lopers = df_2[df_2['Surv_unable_to_walk'] == 0]"
   ]
  },
  {
   "cell_type": "code",
   "execution_count": null,
   "metadata": {},
   "outputs": [],
   "source": [
    "print(df_lopers['Able_to_walk_e'].value_counts(), '\\n',\n",
    "    df_lopers['Able_to_walk_w1'].value_counts(), '\\n',\n",
    "    df_lopers['Surv_unable_to_walk'].value_counts(), '\\n',\n",
    "    'walking_again', df_lopers['Walking_again'].value_counts())\n"
   ]
  },
  {
   "cell_type": "code",
   "execution_count": null,
   "metadata": {},
   "outputs": [],
   "source": [
    "df_NietLopers = df_2[df_2['Surv_unable_to_walk'] == 1]"
   ]
  },
  {
   "cell_type": "code",
   "execution_count": null,
   "metadata": {},
   "outputs": [],
   "source": [
    "df_NietLopers"
   ]
  },
  {
   "cell_type": "code",
   "execution_count": null,
   "metadata": {},
   "outputs": [],
   "source": [
    "print(df['Able_to_walk_e'].value_counts(), '\\n',\n",
    "      df['Able_to_walk_w1'].value_counts())"
   ]
  },
  {
   "cell_type": "code",
   "execution_count": null,
   "metadata": {},
   "outputs": [],
   "source": [
    "df['Able_to_walk_e'] = df['Able_to_walk_e'].fillna(df['Surv_unable_to_walk'].\n",
    "                                               where(df['Surv_unable_to_walk'] == 0, other=pd.NA).replace(0, 1))"
   ]
  },
  {
   "cell_type": "code",
   "execution_count": null,
   "metadata": {},
   "outputs": [],
   "source": [
    "df['Able_to_walk_w1'] = df['Able_to_walk_w1'].fillna(df['Surv_unable_to_walk'].\n",
    "                                               where(df['Surv_unable_to_walk'] == 0, other=pd.NA).replace(0, 1))"
   ]
  },
  {
   "cell_type": "code",
   "execution_count": null,
   "metadata": {},
   "outputs": [],
   "source": [
    "print(df['Able_to_walk_e'].value_counts(), '\\n',\n",
    "      df['Able_to_walk_w1'].value_counts())"
   ]
  },
  {
   "cell_type": "code",
   "execution_count": null,
   "metadata": {},
   "outputs": [],
   "source": [
    "df['Surv_status'] = df['Surv_status'].fillna(0)"
   ]
  },
  {
   "cell_type": "code",
   "execution_count": null,
   "metadata": {},
   "outputs": [],
   "source": [
    "for column, dtype in zip(df.columns, df.isna().sum()):\n",
    "    print(column, \":\", dtype)"
   ]
  },
  {
   "cell_type": "code",
   "execution_count": null,
   "metadata": {},
   "outputs": [],
   "source": []
  },
  {
   "cell_type": "code",
   "execution_count": null,
   "metadata": {},
   "outputs": [],
   "source": []
  },
  {
   "cell_type": "markdown",
   "metadata": {},
   "source": [
    "# Toetsen"
   ]
  },
  {
   "cell_type": "code",
   "execution_count": null,
   "metadata": {},
   "outputs": [],
   "source": [
    "freq_table = pd.crosstab(df['klimaat'], df['Seizoen']) \n",
    "freq_table"
   ]
  },
  {
   "cell_type": "code",
   "execution_count": null,
   "metadata": {},
   "outputs": [],
   "source": [
    "df_A = df[df['klimaat'] == 'A Klimaat']\n",
    "df_B = df[df['klimaat'] == 'B Klimaat']\n",
    "df_C = df[df['klimaat'] == 'C Klimaat']\n",
    "df_D = df[df['klimaat'] == 'D Klimaat']"
   ]
  },
  {
   "cell_type": "code",
   "execution_count": null,
   "metadata": {},
   "outputs": [],
   "source": [
    "dataframes_klimaat = [df_A, df_B, df_C, df_D]\n",
    "for i in dataframes_klimaat:\n",
    "    print(i['klimaat'].value_counts()) \n",
    "    "
   ]
  },
  {
   "cell_type": "markdown",
   "metadata": {},
   "source": [
    "Uit deze code is te zien dat alle klimaten op juiste wijze zijn gesplitst"
   ]
  },
  {
   "cell_type": "code",
   "execution_count": null,
   "metadata": {},
   "outputs": [],
   "source": [
    "df_lente = df[df['Seizoen'] == 'Lente']\n",
    "df_zomer = df[df['Seizoen'] == 'Zomer']\n",
    "df_herfst = df[df['Seizoen'] == 'Herfst']\n",
    "df_winter = df[df['Seizoen'] == 'Winter']"
   ]
  },
  {
   "cell_type": "code",
   "execution_count": null,
   "metadata": {},
   "outputs": [],
   "source": [
    "dataframes_seizoen = [df_lente, df_zomer, df_herfst, df_winter]\n",
    "for i in dataframes_seizoen:\n",
    "    print(i['Seizoen'].value_counts()) \n",
    "    "
   ]
  },
  {
   "cell_type": "code",
   "execution_count": null,
   "metadata": {},
   "outputs": [],
   "source": [
    "\n",
    "    "
   ]
  },
  {
   "cell_type": "code",
   "execution_count": null,
   "metadata": {},
   "outputs": [],
   "source": [
    "for dateframe in dataframes_klimaat:\n",
    "    freq_table = pd.crosstab(dateframe['Deceased'], dateframe['Seizoen']) \n",
    "    print(freq_table, '\\n')\n",
    "  "
   ]
  },
  {
   "cell_type": "markdown",
   "metadata": {},
   "source": [
    "Wat in deze tabel is te zien dat er te weinig waarden apart zijn om de chi-kwadraat toets uit te voeren, daarom wordt voor het geheel de chi-kwadraat en voor C klimaat de test uitgevoerd. Omdat dit geen 2 bij 2 matrices zijn mag de fishers exact toets ook niet worden uitgevoerd"
   ]
  },
  {
   "cell_type": "code",
   "execution_count": null,
   "metadata": {},
   "outputs": [],
   "source": [
    "Seizoen_dood = pd.crosstab(df['Seizoen'], df['Deceased'])\n",
    "stats.chi2_contingency(Seizoen_dood)"
   ]
  },
  {
   "cell_type": "code",
   "execution_count": null,
   "metadata": {},
   "outputs": [],
   "source": [
    "Seizoen_dood = pd.crosstab(df_C['Seizoen'], df_C['Deceased'])\n",
    "stats.chi2_contingency(Seizoen_dood)"
   ]
  },
  {
   "cell_type": "code",
   "execution_count": null,
   "metadata": {},
   "outputs": [],
   "source": []
  },
  {
   "cell_type": "markdown",
   "metadata": {},
   "source": []
  },
  {
   "cell_type": "code",
   "execution_count": null,
   "metadata": {},
   "outputs": [],
   "source": [
    "for dateframe in dataframes_klimaat:\n",
    "    freq_table = pd.crosstab(dateframe['Surv_status'], dateframe['Seizoen']) \n",
    "    print(freq_table, '\\n')"
   ]
  },
  {
   "cell_type": "markdown",
   "metadata": {},
   "source": [
    "Voor de surv_status geldt hetzelfde al voor deceaced"
   ]
  },
  {
   "cell_type": "code",
   "execution_count": null,
   "metadata": {},
   "outputs": [],
   "source": [
    "Seizoen_surv_status = pd.crosstab(df['Seizoen'], df['Surv_status'])\n",
    "stats.chi2_contingency(Seizoen_surv_status)"
   ]
  },
  {
   "cell_type": "code",
   "execution_count": null,
   "metadata": {},
   "outputs": [],
   "source": [
    "Seizoen_surv_status = pd.crosstab(df_C['Seizoen'], df_C['Surv_status'])\n",
    "stats.chi2_contingency(Seizoen_surv_status)"
   ]
  },
  {
   "cell_type": "markdown",
   "metadata": {},
   "source": [
    "Ook kan nog worden gekozen om 2 weg te halen dat wordt hieronder gedaan, bij deceased is namelijk ook al gekeken of het overlijden afhankelijk was aan het seizoen"
   ]
  },
  {
   "cell_type": "code",
   "execution_count": null,
   "metadata": {},
   "outputs": [],
   "source": [
    "df_survstatus = df\n",
    "df_A_survstatus = df_A\n",
    "df_B_survstatus = df_B\n",
    "df_C_survstatus = df_C\n",
    "df_D_survstatus = df_D"
   ]
  },
  {
   "cell_type": "code",
   "execution_count": null,
   "metadata": {},
   "outputs": [],
   "source": [
    "df_survstatus = df_survstatus.drop(df_survstatus[df_survstatus['Surv_status'] == 2].index)\n",
    "df_A_survstatus = df_A_survstatus.drop(df_A_survstatus[df_A_survstatus['Surv_status'] == 2].index)\n",
    "df_B_survstatus = df_B_survstatus.drop(df_B_survstatus[df_B_survstatus['Surv_status'] == 2].index)\n",
    "df_C_survstatus = df_C_survstatus.drop(df_C_survstatus[df_C_survstatus['Surv_status'] == 2].index)\n",
    "df_D_survstatus = df_D_survstatus.drop(df_D_survstatus[df_D_survstatus['Surv_status'] == 2].index)"
   ]
  },
  {
   "cell_type": "code",
   "execution_count": null,
   "metadata": {},
   "outputs": [],
   "source": [
    "Seizoen_surv_status = pd.crosstab(df_survstatus['Seizoen'], df_survstatus['Surv_status'])\n",
    "stats.chi2_contingency(Seizoen_surv_status)"
   ]
  },
  {
   "cell_type": "code",
   "execution_count": null,
   "metadata": {},
   "outputs": [],
   "source": [
    "Seizoen_surv_status = pd.crosstab(df_A_survstatus['Seizoen'], df_A_survstatus['Surv_status'])\n",
    "stats.chi2_contingency(Seizoen_surv_status)"
   ]
  },
  {
   "cell_type": "code",
   "execution_count": null,
   "metadata": {},
   "outputs": [],
   "source": [
    "Seizoen_surv_status = pd.crosstab(df_B_survstatus['Seizoen'], df_B_survstatus['Surv_status'])\n",
    "stats.chi2_contingency(Seizoen_surv_status)"
   ]
  },
  {
   "cell_type": "code",
   "execution_count": null,
   "metadata": {},
   "outputs": [],
   "source": [
    "Seizoen_surv_status = pd.crosstab(df_C_survstatus['Seizoen'], df_C_survstatus['Surv_status'])\n",
    "stats.chi2_contingency(Seizoen_surv_status)"
   ]
  },
  {
   "cell_type": "code",
   "execution_count": null,
   "metadata": {},
   "outputs": [],
   "source": [
    "Seizoen_surv_status = pd.crosstab(df_D_survstatus['Seizoen'], df_D_survstatus['Surv_status'])\n",
    "stats.chi2_contingency(Seizoen_surv_status)"
   ]
  },
  {
   "cell_type": "markdown",
   "metadata": {},
   "source": [
    "Seizoen en surv_status zijn statistisch onafhankelijk"
   ]
  },
  {
   "cell_type": "markdown",
   "metadata": {},
   "source": [
    "Algemene CNI"
   ]
  },
  {
   "cell_type": "code",
   "execution_count": null,
   "metadata": {},
   "outputs": [],
   "source": [
    "for dateframe in dataframes_klimaat:\n",
    "    freq_table = pd.crosstab(dateframe['CNI_e'], dateframe['Seizoen']) \n",
    "    print(freq_table, '\\n')"
   ]
  },
  {
   "cell_type": "code",
   "execution_count": null,
   "metadata": {},
   "outputs": [],
   "source": [
    "for dateframe in dataframes_klimaat:\n",
    "    freq_table = pd.crosstab(dateframe['CNI_w1'], dateframe['Seizoen']) \n",
    "    print(freq_table, '\\n')"
   ]
  },
  {
   "cell_type": "markdown",
   "metadata": {},
   "source": [
    "CNI Bulbular"
   ]
  },
  {
   "cell_type": "code",
   "execution_count": null,
   "metadata": {},
   "outputs": [],
   "source": [
    "for dateframe in dataframes_klimaat:\n",
    "    freq_table = pd.crosstab(dateframe['CNI_Bulbar_e'], dateframe['Seizoen']) \n",
    "    print(freq_table, '\\n')"
   ]
  },
  {
   "cell_type": "code",
   "execution_count": null,
   "metadata": {},
   "outputs": [],
   "source": [
    "for dateframe in dataframes_klimaat:\n",
    "    freq_table = pd.crosstab(dateframe['CNI_Bulbar_w1'], dateframe['Seizoen']) \n",
    "    print(freq_table, '\\n')"
   ]
  },
  {
   "cell_type": "markdown",
   "metadata": {},
   "source": [
    "CNI facial"
   ]
  },
  {
   "cell_type": "code",
   "execution_count": null,
   "metadata": {},
   "outputs": [],
   "source": [
    "for dateframe in dataframes_klimaat:\n",
    "    freq_table = pd.crosstab(dateframe['CNI_Facial_e'], dateframe['Seizoen']) \n",
    "    print(freq_table, '\\n')"
   ]
  },
  {
   "cell_type": "code",
   "execution_count": null,
   "metadata": {},
   "outputs": [],
   "source": [
    "for dateframe in dataframes_klimaat:\n",
    "    freq_table = pd.crosstab(dateframe['CNI_Facial_w1'], dateframe['Seizoen']) \n",
    "    print(freq_table, '\\n')"
   ]
  },
  {
   "cell_type": "markdown",
   "metadata": {},
   "source": [
    "CNI Oculomotor"
   ]
  },
  {
   "cell_type": "code",
   "execution_count": null,
   "metadata": {},
   "outputs": [],
   "source": [
    "for dateframe in dataframes_klimaat:\n",
    "    freq_table = pd.crosstab(dateframe['CNI_Oculomotor_e'], dateframe['Seizoen']) \n",
    "    print(freq_table, '\\n')"
   ]
  },
  {
   "cell_type": "code",
   "execution_count": null,
   "metadata": {},
   "outputs": [],
   "source": [
    "for dateframe in dataframes_klimaat:\n",
    "    freq_table = pd.crosstab(dateframe['CNI_Oculomotor_w1'], dateframe['Seizoen']) \n",
    "    print(freq_table, '\\n')"
   ]
  },
  {
   "cell_type": "markdown",
   "metadata": {},
   "source": [
    "In deze voorbeelden is te zien dat voor alle CNI evenementen niet genoeg waarden zijn bij de waarden van 2.0, nou is optie 2 niet mogelijk te bepalen, wat positief zou kunnen uitpakken. daarom worden die uit de dataset gehaald nu. Op de agemene CNI na komt de waarde 2.0 ook niet eens voor in dataset."
   ]
  },
  {
   "cell_type": "code",
   "execution_count": null,
   "metadata": {},
   "outputs": [],
   "source": [
    "df_CNI = df\n",
    "df_A_CNI = df_A\n",
    "df_B_CNI = df_B\n",
    "df_C_CNI = df_C\n",
    "df_D_CNI = df_D\n",
    "CNI_var = ['CNI_e', 'CNI_w1', 'CNI_Bulbar_e', 'CNI_Facial_e', 'CNI_Oculomotor_e']"
   ]
  },
  {
   "cell_type": "code",
   "execution_count": null,
   "metadata": {},
   "outputs": [],
   "source": [
    "for var in CNI_var:\n",
    "    df_CNI = df_CNI.drop(df_CNI[df_CNI[var] == 2].index)\n",
    "    df_A_CNI = df_A_CNI.drop(df_A_CNI[df_A_CNI[var] == 2].index)\n",
    "    df_B_CNI = df_B_CNI.drop(df_B_CNI[df_B_CNI[var] == 2].index)\n",
    "    df_C_CNI = df_C_CNI.drop(df_C_CNI[df_C_CNI[var] == 2].index)\n",
    "    df_D_CNI = df_D_CNI.drop(df_D_CNI[df_D_CNI[var] == 2].index)"
   ]
  },
  {
   "cell_type": "code",
   "execution_count": null,
   "metadata": {},
   "outputs": [],
   "source": [
    "df_CNI['CNI_w1'].unique()"
   ]
  },
  {
   "cell_type": "code",
   "execution_count": null,
   "metadata": {},
   "outputs": [],
   "source": [
    "dataframes_CNI = [df_CNI, df_A_CNI, df_B_CNI, df_C_CNI, df_D_CNI]"
   ]
  },
  {
   "cell_type": "code",
   "execution_count": null,
   "metadata": {},
   "outputs": [],
   "source": [
    "#for dateframe in dataframes_CNI:\n",
    "#    freq_table = pd.crosstab(dateframe['CNI_Oculomotor_e'], dateframe['Seizoen']) \n",
    "#   print(freq_table, '\\n')"
   ]
  },
  {
   "cell_type": "code",
   "execution_count": null,
   "metadata": {},
   "outputs": [],
   "source": [
    "CNI_var_e = ['CNI_e', 'CNI_Bulbar_e', 'CNI_Facial_e', 'CNI_Oculomotor_e']\n",
    "CNI_var_w1 = ['CNI_w1', 'CNI_Bulbar_w1', 'CNI_Facial_w1', 'CNI_Oculomotor_w1']"
   ]
  },
  {
   "cell_type": "code",
   "execution_count": null,
   "metadata": {},
   "outputs": [],
   "source": [
    "for var in CNI_var_e:\n",
    "    print(var, '\\n')\n",
    "    for dataframe in dataframes_CNI:\n",
    "        Seizoen_CNI = pd.crosstab(dataframe['Seizoen'], dataframe[var])\n",
    "        print(stats.chi2_contingency(Seizoen_CNI))"
   ]
  },
  {
   "cell_type": "markdown",
   "metadata": {},
   "source": [
    "Hieruit is te zien dat CNI_Oculomotor_e voor alle klimaten samen en voor D klimaat statistisch significant afwijkt"
   ]
  },
  {
   "cell_type": "code",
   "execution_count": null,
   "metadata": {},
   "outputs": [],
   "source": [
    "Seizoen_CNI = pd.crosstab(df_CNI['Seizoen'], df_CNI['CNI_Oculomotor_e'])\n",
    "stats.chi2_contingency(Seizoen_CNI)"
   ]
  },
  {
   "cell_type": "code",
   "execution_count": null,
   "metadata": {},
   "outputs": [],
   "source": [
    "Seizoen_CNI = pd.crosstab(df_D_CNI['Seizoen'], df_D_CNI['CNI_Oculomotor_e'])\n",
    "stats.chi2_contingency(Seizoen_CNI)"
   ]
  },
  {
   "cell_type": "markdown",
   "metadata": {},
   "source": [
    "Week 1"
   ]
  },
  {
   "cell_type": "code",
   "execution_count": null,
   "metadata": {},
   "outputs": [],
   "source": [
    "for var in CNI_var_w1:\n",
    "    print(var, '\\n')\n",
    "    for dataframe in dataframes_CNI:\n",
    "        Seizoen_CNI = pd.crosstab(dataframe['Seizoen'], dataframe[var])\n",
    "        print(stats.chi2_contingency(Seizoen_CNI))"
   ]
  },
  {
   "cell_type": "markdown",
   "metadata": {},
   "source": [
    "Echter is dit niet meer het geval na week 1"
   ]
  },
  {
   "cell_type": "markdown",
   "metadata": {},
   "source": [
    "Post hoc voor CNI_Oculomotor_e met hele dataframe en klimaat D"
   ]
  },
  {
   "cell_type": "markdown",
   "metadata": {},
   "source": [
    "Post hoc voor CNI"
   ]
  },
  {
   "cell_type": "code",
   "execution_count": null,
   "metadata": {},
   "outputs": [],
   "source": [
    "df_CNI_LenZom = df_CNI[(df_CNI['Seizoen'] == 'Lente') | (df_CNI['Seizoen'] == 'Zomer')]\n",
    "df_CNI_LenHer = df_CNI[(df_CNI['Seizoen'] == 'Lente') | (df_CNI['Seizoen'] == 'Herfst')]\n",
    "df_CNI_LenWin = df_CNI[(df_CNI['Seizoen'] == 'Lente') | (df_CNI['Seizoen'] == 'Winter')]\n",
    "df_CNI_ZomHer = df_CNI[(df_CNI['Seizoen'] == 'Zomer') | (df_CNI['Seizoen'] == 'Herfst')]\n",
    "df_CNI_ZomWin = df_CNI[(df_CNI['Seizoen'] == 'Zomer') | (df_CNI['Seizoen'] == 'Winter')]\n",
    "df_CNI_HerWin = df_CNI[(df_CNI['Seizoen'] == 'Herfst') | (df_CNI['Seizoen'] == 'Winter')]\n",
    "\n",
    "df_D_CNI_LenZom = df_D_CNI[(df_D_CNI['Seizoen'] == 'Lente') | (df_D_CNI['Seizoen'] == 'Zomer')]\n",
    "df_D_CNI_LenHer = df_D_CNI[(df_D_CNI['Seizoen'] == 'Lente') | (df_D_CNI['Seizoen'] == 'Herfst')]\n",
    "df_D_CNI_LenWin = df_D_CNI[(df_D_CNI['Seizoen'] == 'Lente') | (df_D_CNI['Seizoen'] == 'Winter')]\n",
    "df_D_CNI_ZomHer = df_D_CNI[(df_D_CNI['Seizoen'] == 'Zomer') | (df_D_CNI['Seizoen'] == 'Herfst')]\n",
    "df_D_CNI_ZomWin = df_D_CNI[(df_D_CNI['Seizoen'] == 'Zomer') | (df_D_CNI['Seizoen'] == 'Winter')]\n",
    "df_D_CNI_HerWin = df_D_CNI[(df_D_CNI['Seizoen'] == 'Herfst') | (df_D_CNI['Seizoen'] == 'Winter')]\n",
    "\n"
   ]
  },
  {
   "cell_type": "markdown",
   "metadata": {},
   "source": [
    "Post hoc hele dataset"
   ]
  },
  {
   "cell_type": "code",
   "execution_count": null,
   "metadata": {},
   "outputs": [],
   "source": [
    "Seizoen_CNI = pd.crosstab(df_CNI_LenZom['Seizoen'], df_CNI_LenZom['CNI_Oculomotor_e'])\n",
    "stats.chi2_contingency(Seizoen_CNI)"
   ]
  },
  {
   "cell_type": "code",
   "execution_count": null,
   "metadata": {},
   "outputs": [],
   "source": [
    "Seizoen_CNI = pd.crosstab(df_CNI_LenHer['Seizoen'], df_CNI_LenHer['CNI_Oculomotor_e'])\n",
    "stats.chi2_contingency(Seizoen_CNI)"
   ]
  },
  {
   "cell_type": "code",
   "execution_count": null,
   "metadata": {},
   "outputs": [],
   "source": [
    "Seizoen_CNI = pd.crosstab(df_CNI_LenWin['Seizoen'], df_CNI_LenWin['CNI_Oculomotor_e'])\n",
    "stats.chi2_contingency(Seizoen_CNI)"
   ]
  },
  {
   "cell_type": "code",
   "execution_count": null,
   "metadata": {},
   "outputs": [],
   "source": [
    "Seizoen_CNI = pd.crosstab(df_CNI_ZomHer['Seizoen'], df_CNI_ZomHer['CNI_Oculomotor_e'])\n",
    "stats.chi2_contingency(Seizoen_CNI)"
   ]
  },
  {
   "cell_type": "code",
   "execution_count": null,
   "metadata": {},
   "outputs": [],
   "source": [
    "Seizoen_CNI = pd.crosstab(df_CNI_ZomWin['Seizoen'], df_CNI_ZomWin['CNI_Oculomotor_e'])\n",
    "stats.chi2_contingency(Seizoen_CNI)"
   ]
  },
  {
   "cell_type": "code",
   "execution_count": null,
   "metadata": {},
   "outputs": [],
   "source": [
    "Seizoen_CNI = pd.crosstab(df_CNI_HerWin['Seizoen'], df_CNI_HerWin['CNI_Oculomotor_e'])\n",
    "stats.chi2_contingency(Seizoen_CNI)"
   ]
  },
  {
   "cell_type": "markdown",
   "metadata": {},
   "source": [
    "Hieruit is te halen dat de herfst de lage p waarde gaf"
   ]
  },
  {
   "cell_type": "markdown",
   "metadata": {},
   "source": [
    "Na bonferoni correctie is te concluderen dat het niet meer statistisch significant is"
   ]
  },
  {
   "cell_type": "markdown",
   "metadata": {},
   "source": [
    "Post hoc voor klimaat D"
   ]
  },
  {
   "cell_type": "code",
   "execution_count": null,
   "metadata": {},
   "outputs": [],
   "source": [
    "Seizoen_CNI = pd.crosstab(df_D_CNI_LenZom['Seizoen'], df_D_CNI_LenZom['CNI_Oculomotor_e'])\n",
    "stats.chi2_contingency(Seizoen_CNI)"
   ]
  },
  {
   "cell_type": "code",
   "execution_count": null,
   "metadata": {},
   "outputs": [],
   "source": [
    "Seizoen_CNI = pd.crosstab(df_D_CNI_LenHer['Seizoen'], df_D_CNI_LenHer['CNI_Oculomotor_e'])\n",
    "stats.chi2_contingency(Seizoen_CNI)"
   ]
  },
  {
   "cell_type": "code",
   "execution_count": null,
   "metadata": {},
   "outputs": [],
   "source": [
    "Seizoen_CNI = pd.crosstab(df_D_CNI_LenWin['Seizoen'], df_D_CNI_LenWin['CNI_Oculomotor_e'])\n",
    "stats.chi2_contingency(Seizoen_CNI)"
   ]
  },
  {
   "cell_type": "code",
   "execution_count": null,
   "metadata": {},
   "outputs": [],
   "source": [
    "Seizoen_CNI = pd.crosstab(df_D_CNI_ZomHer['Seizoen'], df_D_CNI_ZomHer['CNI_Oculomotor_e'])\n",
    "stats.chi2_contingency(Seizoen_CNI)"
   ]
  },
  {
   "cell_type": "code",
   "execution_count": null,
   "metadata": {},
   "outputs": [],
   "source": [
    "Seizoen_CNI = pd.crosstab(df_D_CNI_ZomWin['Seizoen'], df_D_CNI_ZomWin['CNI_Oculomotor_e'])\n",
    "stats.chi2_contingency(Seizoen_CNI)"
   ]
  },
  {
   "cell_type": "code",
   "execution_count": null,
   "metadata": {},
   "outputs": [],
   "source": [
    "Seizoen_CNI = pd.crosstab(df_D_CNI_HerWin['Seizoen'], df_D_CNI_HerWin['CNI_Oculomotor_e'])\n",
    "stats.chi2_contingency(Seizoen_CNI)"
   ]
  },
  {
   "cell_type": "markdown",
   "metadata": {},
   "source": [
    "Hier is te zien dat dat alleen het geval is tussen de herfst en de lente"
   ]
  },
  {
   "cell_type": "markdown",
   "metadata": {},
   "source": [
    "Na bonferoni correctie is te concluderen dat het niet meer statistisch significant is"
   ]
  },
  {
   "cell_type": "code",
   "execution_count": null,
   "metadata": {},
   "outputs": [],
   "source": []
  },
  {
   "cell_type": "code",
   "execution_count": null,
   "metadata": {},
   "outputs": [],
   "source": []
  },
  {
   "cell_type": "code",
   "execution_count": null,
   "metadata": {},
   "outputs": [],
   "source": []
  },
  {
   "cell_type": "markdown",
   "metadata": {},
   "source": [
    "Ant event variabelen testen"
   ]
  },
  {
   "cell_type": "code",
   "execution_count": null,
   "metadata": {},
   "outputs": [],
   "source": [
    "for dateframe in dataframes_klimaat:\n",
    "    freq_table = pd.crosstab(dateframe['Ant_event'], dateframe['Seizoen']) \n",
    "    print(freq_table, '\\n')"
   ]
  },
  {
   "cell_type": "markdown",
   "metadata": {},
   "source": [
    "Voor klimaat B en D zijn niet genoeg waarden, daarom worden de testen gedaan voor de datasets van alle klimate, klimaat A en klimaat C"
   ]
  },
  {
   "cell_type": "code",
   "execution_count": null,
   "metadata": {},
   "outputs": [],
   "source": [
    "Seizoen_Ant_event = pd.crosstab(df['Seizoen'], df['Ant_event'])\n",
    "stats.chi2_contingency(Seizoen_Ant_event)"
   ]
  },
  {
   "cell_type": "code",
   "execution_count": null,
   "metadata": {},
   "outputs": [],
   "source": [
    "Seizoen_Ant_event = pd.crosstab(df_A['Seizoen'], df_A['Ant_event'])\n",
    "stats.chi2_contingency(Seizoen_Ant_event)"
   ]
  },
  {
   "cell_type": "code",
   "execution_count": null,
   "metadata": {},
   "outputs": [],
   "source": [
    "Seizoen_Ant_event = pd.crosstab(df_C['Seizoen'], df_C['Ant_event'])\n",
    "stats.chi2_contingency(Seizoen_Ant_event)"
   ]
  },
  {
   "cell_type": "markdown",
   "metadata": {},
   "source": [
    "Statistisch onafhankelijk in elk klimaat"
   ]
  },
  {
   "cell_type": "code",
   "execution_count": null,
   "metadata": {},
   "outputs": [],
   "source": [
    "for dateframe in dataframes_klimaat:\n",
    "    freq_table = pd.crosstab(dateframe['Ant_event_GE'], dateframe['Seizoen']) \n",
    "    print(freq_table, '\\n')"
   ]
  },
  {
   "cell_type": "markdown",
   "metadata": {},
   "source": [
    "Voor klimaat B zijn niet genoeg waarden, daarom worden de testen gedaan voor de datasets van alle klimate, klimaat A, klimaat C en klimaat D"
   ]
  },
  {
   "cell_type": "code",
   "execution_count": null,
   "metadata": {},
   "outputs": [],
   "source": [
    "Seizoen_Ant_event = pd.crosstab(df['Seizoen'], df['Ant_event_GE'])\n",
    "stats.chi2_contingency(Seizoen_Ant_event)"
   ]
  },
  {
   "cell_type": "code",
   "execution_count": null,
   "metadata": {},
   "outputs": [],
   "source": [
    "Seizoen_Ant_event = pd.crosstab(df_A['Seizoen'], df_A['Ant_event_GE'])\n",
    "stats.chi2_contingency(Seizoen_Ant_event)"
   ]
  },
  {
   "cell_type": "code",
   "execution_count": null,
   "metadata": {},
   "outputs": [],
   "source": [
    "Seizoen_Ant_event = pd.crosstab(df_C['Seizoen'], df_C['Ant_event_GE'])\n",
    "stats.chi2_contingency(Seizoen_Ant_event)"
   ]
  },
  {
   "cell_type": "code",
   "execution_count": null,
   "metadata": {},
   "outputs": [],
   "source": [
    "Seizoen_Ant_event = pd.crosstab(df_D['Seizoen'], df_D['Ant_event_GE'])\n",
    "stats.chi2_contingency(Seizoen_Ant_event)"
   ]
  },
  {
   "cell_type": "markdown",
   "metadata": {},
   "source": [
    "Statistisch onafhankelijk in elk klimaat"
   ]
  },
  {
   "cell_type": "code",
   "execution_count": null,
   "metadata": {},
   "outputs": [],
   "source": [
    "for dateframe in dataframes_klimaat:\n",
    "    freq_table = pd.crosstab(dateframe['Ant_event_respiratory'], dateframe['Seizoen']) \n",
    "    print(freq_table, '\\n')"
   ]
  },
  {
   "cell_type": "markdown",
   "metadata": {},
   "source": [
    "Voor klimaat B zijn niet genoeg waarden, daarom worden de testen gedaan voor de datasets van alle klimate, klimaat A, klimaat C en klimaat D"
   ]
  },
  {
   "cell_type": "code",
   "execution_count": null,
   "metadata": {},
   "outputs": [],
   "source": [
    "Seizoen_Ant_event = pd.crosstab(df['Seizoen'], df['Ant_event_respiratory'])\n",
    "stats.chi2_contingency(Seizoen_Ant_event)"
   ]
  },
  {
   "cell_type": "code",
   "execution_count": null,
   "metadata": {},
   "outputs": [],
   "source": [
    "Seizoen_Ant_event = pd.crosstab(df_A['Seizoen'], df_A['Ant_event_respiratory'])\n",
    "stats.chi2_contingency(Seizoen_Ant_event)"
   ]
  },
  {
   "cell_type": "code",
   "execution_count": null,
   "metadata": {},
   "outputs": [],
   "source": [
    "Seizoen_Ant_event = pd.crosstab(df_C['Seizoen'], df_C['Ant_event_respiratory'])\n",
    "stats.chi2_contingency(Seizoen_Ant_event)"
   ]
  },
  {
   "cell_type": "code",
   "execution_count": null,
   "metadata": {},
   "outputs": [],
   "source": [
    "Seizoen_Ant_event = pd.crosstab(df_D['Seizoen'], df_D['Ant_event_respiratory'])\n",
    "stats.chi2_contingency(Seizoen_Ant_event)"
   ]
  },
  {
   "cell_type": "markdown",
   "metadata": {},
   "source": [
    "Bij alle klimaten is het statistisch onafhankelijk "
   ]
  },
  {
   "cell_type": "code",
   "execution_count": null,
   "metadata": {},
   "outputs": [],
   "source": [
    "for dateframe in dataframes_klimaat:\n",
    "    freq_table = pd.crosstab(dateframe['Ant_event_vaccination'], dateframe['Seizoen']) \n",
    "    print(freq_table, '\\n')"
   ]
  },
  {
   "cell_type": "markdown",
   "metadata": {},
   "source": [
    "Zelfs alles samen is het niet genoeg waarden voor een chi-kwadraat toets :("
   ]
  },
  {
   "cell_type": "code",
   "execution_count": null,
   "metadata": {},
   "outputs": [],
   "source": [
    "for dateframe in dataframes_klimaat:\n",
    "    freq_table = pd.crosstab(dateframe['Ant_event_other'], dateframe['Seizoen']) \n",
    "    print(freq_table, '\\n')"
   ]
  },
  {
   "cell_type": "markdown",
   "metadata": {},
   "source": [
    "Alleen C heeft genoeg waarden, dus worden chi-kwadraat toetsen voor de hele dataset en voor het C klimaat uitgevoerd"
   ]
  },
  {
   "cell_type": "code",
   "execution_count": null,
   "metadata": {},
   "outputs": [],
   "source": [
    "Seizoen_Ant_event = pd.crosstab(df['Seizoen'], df['Ant_event_other'])\n",
    "stats.chi2_contingency(Seizoen_Ant_event)"
   ]
  },
  {
   "cell_type": "code",
   "execution_count": null,
   "metadata": {},
   "outputs": [],
   "source": [
    "Seizoen_Ant_event = pd.crosstab(df_C['Seizoen'], df_C['Ant_event_other'])\n",
    "stats.chi2_contingency(Seizoen_Ant_event)"
   ]
  },
  {
   "cell_type": "markdown",
   "metadata": {},
   "source": [
    "Statistisch onafhankelijk"
   ]
  },
  {
   "cell_type": "code",
   "execution_count": null,
   "metadata": {},
   "outputs": [],
   "source": []
  },
  {
   "cell_type": "code",
   "execution_count": null,
   "metadata": {},
   "outputs": [],
   "source": []
  },
  {
   "cell_type": "code",
   "execution_count": null,
   "metadata": {},
   "outputs": [],
   "source": []
  },
  {
   "cell_type": "code",
   "execution_count": null,
   "metadata": {},
   "outputs": [],
   "source": []
  },
  {
   "cell_type": "code",
   "execution_count": null,
   "metadata": {},
   "outputs": [],
   "source": []
  },
  {
   "cell_type": "markdown",
   "metadata": {},
   "source": [
    "#### Able_to_walk_e"
   ]
  },
  {
   "cell_type": "code",
   "execution_count": null,
   "metadata": {},
   "outputs": [],
   "source": [
    "for dateframe in dataframes_klimaat:\n",
    "    freq_table = pd.crosstab(dateframe['Able_to_walk_e'], dateframe['Seizoen']) \n",
    "    print(freq_table, '\\n')"
   ]
  },
  {
   "cell_type": "code",
   "execution_count": null,
   "metadata": {},
   "outputs": [],
   "source": [
    "Seizoen_Able_to_walk_e = pd.crosstab(df['Able_to_walk_e'], df['Seizoen'])\n",
    "stats.chi2_contingency(Seizoen_Able_to_walk_e)"
   ]
  },
  {
   "cell_type": "code",
   "execution_count": null,
   "metadata": {},
   "outputs": [],
   "source": [
    "df_B_Able_to_walk_e = pd.crosstab(df_B['Able_to_walk_e'], df_B['Seizoen'])\n",
    "stats.chi2_contingency(df_B_Able_to_walk_e)"
   ]
  },
  {
   "cell_type": "code",
   "execution_count": null,
   "metadata": {},
   "outputs": [],
   "source": [
    "df_C_Able_to_walk_e = pd.crosstab(df_C['Able_to_walk_e'], df_C['Seizoen'])\n",
    "stats.chi2_contingency(df_C_Able_to_walk_e)"
   ]
  },
  {
   "cell_type": "code",
   "execution_count": null,
   "metadata": {},
   "outputs": [],
   "source": [
    "df_D_Able_to_walk_e = pd.crosstab(df_D['Able_to_walk_e'], df_D['Seizoen'])\n",
    "stats.chi2_contingency(df_D_Able_to_walk_e)"
   ]
  },
  {
   "cell_type": "markdown",
   "metadata": {},
   "source": [
    "#### Able_to_walk_w1"
   ]
  },
  {
   "cell_type": "code",
   "execution_count": null,
   "metadata": {},
   "outputs": [],
   "source": [
    "for dateframe in dataframes_klimaat:\n",
    "    freq_table = pd.crosstab(dateframe['Able_to_walk_w1'], dateframe['Seizoen']) \n",
    "    print(freq_table, '\\n')"
   ]
  },
  {
   "cell_type": "code",
   "execution_count": null,
   "metadata": {},
   "outputs": [],
   "source": [
    "Seizoen_Able_to_walk_w1 = pd.crosstab(df['Able_to_walk_w1'], df['Seizoen'])\n",
    "stats.chi2_contingency(Seizoen_Able_to_walk_w1)"
   ]
  },
  {
   "cell_type": "code",
   "execution_count": null,
   "metadata": {},
   "outputs": [],
   "source": [
    "frequentietabellen=[]\n",
    "\n",
    "for dateframe in dataframes_klimaat:\n",
    "    freq_table = pd.crosstab(dateframe['MRC_sum_e'], dateframe['Seizoen']) \n",
    "    frequentietabellen.append(freq_table)\n",
    "    print(freq_table, '\\n')\n",
    "\n",
    "combined_freq_table = pd.concat(frequentietabellen)\n",
    "\n",
    "combined_freq_table = combined_freq_table.groupby(combined_freq_table.index).sum()\n",
    "\n",
    "combined_freq_table.plot(kind='bar', stacked=True).set_title('Seizoensverdeling MRC_sun_e over de seizoenen')\n"
   ]
  },
  {
   "cell_type": "markdown",
   "metadata": {},
   "source": [
    "#### ANOVA uitvoeren"
   ]
  },
  {
   "cell_type": "code",
   "execution_count": null,
   "metadata": {},
   "outputs": [],
   "source": [
    "df_mrc_e = df[['MRC_sum_e', 'Seizoen']]\n",
    "model_1 = ols('MRC_sum_e ~ C(Seizoen)', data=df_mrc_e).fit()\n",
    "anova_table = sm.stats.anova_lm(model_1, typ=2)\n",
    "print(anova_table)"
   ]
  },
  {
   "cell_type": "markdown",
   "metadata": {},
   "source": [
    "#### Residuen testen op normaliteit met shapiro-wilk toets en QQ-plot tekenen"
   ]
  },
  {
   "cell_type": "code",
   "execution_count": null,
   "metadata": {},
   "outputs": [],
   "source": [
    "residuen = model_1.resid\n",
    "\n",
    "print(stats.shapiro(residuen))\n",
    "\n",
    "sm.qqplot(residuen, line = 's' )\n",
    "# line = s =>standardized line, the expected order statistics are scaled by the standard deviation \n",
    "# of the given sample and have the mean added to them\n",
    "# https://www.statsmodels.org/dev/generated/statsmodels.graphics.gofplots.qqplot.html\n",
    "plt.title('QQ-plot van de reisduen')\n",
    "plt.show()\n"
   ]
  },
  {
   "cell_type": "markdown",
   "metadata": {},
   "source": [
    "Niet normaal verdeeld, kan geen anova uitvoeren, dus pair wise t-toets"
   ]
  },
  {
   "cell_type": "markdown",
   "metadata": {},
   "source": [
    "#### MRC_sum_e"
   ]
  },
  {
   "cell_type": "code",
   "execution_count": null,
   "metadata": {},
   "outputs": [],
   "source": [
    "df_lente = df[df['Seizoen']=='Lente']\n",
    "df_lente_mrc_e = df_lente['MRC_sum_e'].dropna()"
   ]
  },
  {
   "cell_type": "code",
   "execution_count": null,
   "metadata": {},
   "outputs": [],
   "source": [
    "df_zomer = df[df['Seizoen']=='Zomer']\n",
    "df_zomer_mrc_e = df_zomer['MRC_sum_e'].dropna()"
   ]
  },
  {
   "cell_type": "code",
   "execution_count": null,
   "metadata": {},
   "outputs": [],
   "source": [
    "df_herfst = df[df['Seizoen']=='Herfst']\n",
    "df_herfst_mrc_e = df_herfst['MRC_sum_e'].dropna()"
   ]
  },
  {
   "cell_type": "code",
   "execution_count": null,
   "metadata": {},
   "outputs": [],
   "source": [
    "df_winter = df[df['Seizoen']=='Winter']\n",
    "df_winter_mrc_e = df_winter['MRC_sum_e'].dropna()"
   ]
  },
  {
   "cell_type": "code",
   "execution_count": null,
   "metadata": {},
   "outputs": [],
   "source": [
    "stats.ttest_ind(df_lente_mrc_e, df_zomer_mrc_e)"
   ]
  },
  {
   "cell_type": "code",
   "execution_count": null,
   "metadata": {},
   "outputs": [],
   "source": [
    "stats.ttest_ind(df_lente_mrc_e, df_herfst_mrc_e)"
   ]
  },
  {
   "cell_type": "code",
   "execution_count": null,
   "metadata": {},
   "outputs": [],
   "source": [
    "stats.ttest_ind(df_lente_mrc_e, df_winter_mrc_e)"
   ]
  },
  {
   "cell_type": "code",
   "execution_count": null,
   "metadata": {},
   "outputs": [],
   "source": [
    "stats.ttest_ind(df_zomer_mrc_e, df_herfst_mrc_e)"
   ]
  },
  {
   "cell_type": "code",
   "execution_count": null,
   "metadata": {},
   "outputs": [],
   "source": [
    "stats.ttest_ind(df_zomer_mrc_e, df_winter_mrc_e)"
   ]
  },
  {
   "cell_type": "code",
   "execution_count": null,
   "metadata": {},
   "outputs": [],
   "source": [
    "stats.ttest_ind(df_herfst_mrc_e, df_winter_mrc_e)"
   ]
  },
  {
   "cell_type": "markdown",
   "metadata": {},
   "source": [
    "#### Klimaat A"
   ]
  },
  {
   "cell_type": "code",
   "execution_count": null,
   "metadata": {},
   "outputs": [],
   "source": [
    "df_lente = df[df['Seizoen']=='Lente']\n",
    "df_lente_A = df_lente[df_lente['klimaat'] == 'A Klimaat']\n",
    "df_lente_A_mrc_e = df_lente_A['MRC_sum_e'].dropna()\n",
    "\n",
    "df_zomer = df[df['Seizoen']=='Zomer']\n",
    "df_zomer_A = df_zomer[df_zomer['klimaat'] == 'A Klimaat']\n",
    "df_zomer_A_mrc_e = df_zomer_A['MRC_sum_e'].dropna()\n",
    "\n",
    "df_herfst = df[df['Seizoen']=='Herfst']\n",
    "df_herfst_A = df_herfst[df_herfst['klimaat'] == 'A Klimaat']\n",
    "df_herfst_A_mrc_e = df_herfst_A['MRC_sum_e'].dropna()\n",
    "\n",
    "df_winter = df[df['Seizoen']=='Winter']\n",
    "df_winter_A = df_winter[df_winter['klimaat'] == 'A Klimaat']\n",
    "df_winter_A_mrc_e = df_winter_A['MRC_sum_e'].dropna()"
   ]
  },
  {
   "cell_type": "code",
   "execution_count": null,
   "metadata": {},
   "outputs": [],
   "source": [
    "stats.ttest_ind(df_lente_A_mrc_e, df_zomer_A_mrc_e)"
   ]
  },
  {
   "cell_type": "code",
   "execution_count": null,
   "metadata": {},
   "outputs": [],
   "source": [
    "stats.ttest_ind(df_lente_A_mrc_e, df_herfst_A_mrc_e)"
   ]
  },
  {
   "cell_type": "code",
   "execution_count": null,
   "metadata": {},
   "outputs": [],
   "source": [
    "stats.ttest_ind(df_lente_A_mrc_e, df_winter_A_mrc_e)"
   ]
  },
  {
   "cell_type": "code",
   "execution_count": null,
   "metadata": {},
   "outputs": [],
   "source": [
    "stats.ttest_ind(df_zomer_A_mrc_e, df_herfst_A_mrc_e)"
   ]
  },
  {
   "cell_type": "code",
   "execution_count": null,
   "metadata": {},
   "outputs": [],
   "source": [
    "stats.ttest_ind(df_zomer_A_mrc_e, df_winter_A_mrc_e)"
   ]
  },
  {
   "cell_type": "code",
   "execution_count": null,
   "metadata": {},
   "outputs": [],
   "source": [
    "stats.ttest_ind(df_herfst_A_mrc_e, df_winter_A_mrc_e)"
   ]
  },
  {
   "cell_type": "markdown",
   "metadata": {},
   "source": [
    "#### Klimaat B"
   ]
  },
  {
   "cell_type": "code",
   "execution_count": null,
   "metadata": {},
   "outputs": [],
   "source": [
    "df_lente = df[df['Seizoen']=='Lente']\n",
    "df_lente_B = df_lente[df_lente['klimaat'] == 'B Klimaat']\n",
    "df_lente_B_mrc_e = df_lente_B['MRC_sum_e'].dropna()\n",
    "\n",
    "df_zomer = df[df['Seizoen']=='Zomer']\n",
    "df_lente_B = df_zomer[df_zomer['klimaat'] == 'B Klimaat']\n",
    "df_zomer_B_mrc_e = df_lente_B['MRC_sum_e'].dropna()\n",
    "\n",
    "df_herfst = df[df['Seizoen']=='Herfst']\n",
    "df_herfst_B = df_herfst[df_herfst['klimaat'] == 'B Klimaat']\n",
    "df_herfst_B_mrc_e = df_herfst_B['MRC_sum_e'].dropna()\n",
    "\n",
    "df_winter = df[df['Seizoen']=='Winter']\n",
    "df_winter_B = df_winter[df_winter['klimaat'] == 'B Klimaat']\n",
    "df_winter_B_mrc_e = df_winter_B['MRC_sum_e'].dropna()"
   ]
  },
  {
   "cell_type": "code",
   "execution_count": null,
   "metadata": {},
   "outputs": [],
   "source": [
    "stats.ttest_ind(df_lente_B_mrc_e, df_zomer_B_mrc_e)"
   ]
  },
  {
   "cell_type": "code",
   "execution_count": null,
   "metadata": {},
   "outputs": [],
   "source": [
    "stats.ttest_ind(df_lente_B_mrc_e, df_herfst_B_mrc_e)"
   ]
  },
  {
   "cell_type": "code",
   "execution_count": null,
   "metadata": {},
   "outputs": [],
   "source": [
    "stats.ttest_ind(df_lente_B_mrc_e, df_winter_B_mrc_e)"
   ]
  },
  {
   "cell_type": "code",
   "execution_count": null,
   "metadata": {},
   "outputs": [],
   "source": [
    "stats.ttest_ind(df_zomer_B_mrc_e, df_herfst_B_mrc_e)"
   ]
  },
  {
   "cell_type": "code",
   "execution_count": null,
   "metadata": {},
   "outputs": [],
   "source": [
    "stats.ttest_ind(df_zomer_B_mrc_e, df_winter_B_mrc_e)"
   ]
  },
  {
   "cell_type": "code",
   "execution_count": null,
   "metadata": {},
   "outputs": [],
   "source": [
    "stats.ttest_ind(df_herfst_B_mrc_e, df_winter_B_mrc_e)"
   ]
  },
  {
   "cell_type": "markdown",
   "metadata": {},
   "source": [
    "#### Klimaat C"
   ]
  },
  {
   "cell_type": "code",
   "execution_count": null,
   "metadata": {},
   "outputs": [],
   "source": [
    "df_lente = df[df['Seizoen'] == 'Lente']\n",
    "df_lente_C = df_lente[df_lente['klimaat'] == 'C Klimaat']\n",
    "df_lente_C_mrc_e = df_lente_C['MRC_sum_e'].dropna()\n",
    "\n",
    "df_zomer = df[df['Seizoen'] == 'Zomer']\n",
    "df_zomer_C = df_zomer[df_zomer['klimaat'] == 'C Klimaat']\n",
    "df_zomer_C_mrc_e = df_zomer_C['MRC_sum_e'].dropna()\n",
    "\n",
    "df_herfst = df[df['Seizoen'] == 'Herfst']\n",
    "df_herfst_C = df_herfst[df_herfst['klimaat'] == 'C Klimaat']\n",
    "df_herfst_C_mrc_e = df_herfst_C['MRC_sum_e'].dropna()\n",
    "\n",
    "df_winter = df[df['Seizoen'] == 'Winter']\n",
    "df_winter_C = df_winter[df_winter['klimaat'] == 'C Klimaat']\n",
    "df_winter_C_mrc_e = df_winter_C['MRC_sum_e'].dropna()"
   ]
  },
  {
   "cell_type": "code",
   "execution_count": null,
   "metadata": {},
   "outputs": [],
   "source": [
    "stats.ttest_ind(df_lente_C_mrc_e, df_zomer_C_mrc_e)"
   ]
  },
  {
   "cell_type": "code",
   "execution_count": null,
   "metadata": {},
   "outputs": [],
   "source": [
    "stats.ttest_ind(df_lente_C_mrc_e, df_herfst_C_mrc_e)"
   ]
  },
  {
   "cell_type": "code",
   "execution_count": null,
   "metadata": {},
   "outputs": [],
   "source": [
    "stats.ttest_ind(df_lente_C_mrc_e, df_winter_C_mrc_e)"
   ]
  },
  {
   "cell_type": "code",
   "execution_count": null,
   "metadata": {},
   "outputs": [],
   "source": [
    "stats.ttest_ind(df_zomer_C_mrc_e, df_herfst_C_mrc_e)"
   ]
  },
  {
   "cell_type": "code",
   "execution_count": null,
   "metadata": {},
   "outputs": [],
   "source": [
    "stats.ttest_ind(df_zomer_C_mrc_e, df_winter_C_mrc_e)"
   ]
  },
  {
   "cell_type": "code",
   "execution_count": null,
   "metadata": {},
   "outputs": [],
   "source": [
    "stats.ttest_ind(df_herfst_C_mrc_e, df_winter_C_mrc_e)"
   ]
  },
  {
   "cell_type": "markdown",
   "metadata": {},
   "source": [
    "#### Klimaat D"
   ]
  },
  {
   "cell_type": "code",
   "execution_count": null,
   "metadata": {},
   "outputs": [],
   "source": [
    "df_lente = df[df['Seizoen'] == 'Lente']\n",
    "df_lente_D = df_lente[df_lente['klimaat'] == 'D Klimaat']\n",
    "df_lente_D_mrc_e = df_lente_D['MRC_sum_e'].dropna()\n",
    "\n",
    "df_zomer = df[df['Seizoen'] == 'Zomer']\n",
    "df_zomer_D = df_zomer[df_zomer['klimaat'] == 'D Klimaat']\n",
    "df_zomer_D_mrc_e = df_zomer_D['MRC_sum_e'].dropna()\n",
    "\n",
    "df_herfst = df[df['Seizoen'] == 'Herfst']\n",
    "df_herfst_D = df_herfst[df_herfst['klimaat'] == 'D Klimaat']\n",
    "df_herfst_D_mrc_e = df_herfst_D['MRC_sum_e'].dropna()\n",
    "\n",
    "df_winter = df[df['Seizoen'] == 'Winter']\n",
    "df_winter_D = df_winter[df_winter['klimaat'] == 'D Klimaat']\n",
    "df_winter_D_mrc_e = df_winter_D['MRC_sum_e'].dropna()"
   ]
  },
  {
   "cell_type": "code",
   "execution_count": null,
   "metadata": {},
   "outputs": [],
   "source": [
    "stats.ttest_ind(df_lente_D_mrc_e, df_zomer_D_mrc_e)"
   ]
  },
  {
   "cell_type": "code",
   "execution_count": null,
   "metadata": {},
   "outputs": [],
   "source": [
    "stats.ttest_ind(df_lente_D_mrc_e, df_herfst_D_mrc_e)"
   ]
  },
  {
   "cell_type": "code",
   "execution_count": null,
   "metadata": {},
   "outputs": [],
   "source": [
    "stats.ttest_ind(df_lente_D_mrc_e, df_winter_D_mrc_e)"
   ]
  },
  {
   "cell_type": "code",
   "execution_count": null,
   "metadata": {},
   "outputs": [],
   "source": [
    "stats.ttest_ind(df_zomer_D_mrc_e, df_herfst_D_mrc_e)"
   ]
  },
  {
   "cell_type": "code",
   "execution_count": null,
   "metadata": {},
   "outputs": [],
   "source": [
    "stats.ttest_ind(df_zomer_D_mrc_e, df_winter_D_mrc_e)"
   ]
  },
  {
   "cell_type": "code",
   "execution_count": null,
   "metadata": {},
   "outputs": [],
   "source": [
    "stats.ttest_ind(df_herfst_D_mrc_e, df_winter_D_mrc_e)"
   ]
  },
  {
   "cell_type": "markdown",
   "metadata": {},
   "source": [
    "#### MRC_sum_w1"
   ]
  },
  {
   "cell_type": "code",
   "execution_count": null,
   "metadata": {},
   "outputs": [],
   "source": [
    "df_mrc_w1 = df[['MRC_sum_w1', 'Seizoen']]\n",
    "model_2 = ols('MRC_sum_w1 ~ C(Seizoen)', data=df_mrc_w1).fit()\n",
    "anova_table = sm.stats.anova_lm(model_2, typ=2)\n",
    "print(anova_table)"
   ]
  },
  {
   "cell_type": "code",
   "execution_count": null,
   "metadata": {},
   "outputs": [],
   "source": [
    "residuen = model_2.resid\n",
    "print(stats.shapiro(residuen))\n",
    "\n",
    "\n",
    "sm.qqplot(residuen, line = 's' )\n",
    "plt.title('QQ-plot van de reisduen')\n",
    "plt.show()"
   ]
  },
  {
   "cell_type": "code",
   "execution_count": null,
   "metadata": {},
   "outputs": [],
   "source": [
    "df_lente = df[df['Seizoen']=='Lente']\n",
    "df_lente_mrc_w1 = df_lente['MRC_sum_w1'].dropna()\n",
    "\n",
    "df_zomer = df[df['Seizoen']=='Zomer']\n",
    "df_zomer_mrc_w1 = df_zomer['MRC_sum_w1'].dropna()\n",
    "\n",
    "df_herfst = df[df['Seizoen']=='Herfst']\n",
    "df_herfst_mrc_w1 = df_herfst['MRC_sum_w1'].dropna()\n",
    "\n",
    "df_winter = df[df['Seizoen']=='Winter']\n",
    "df_winter_mrc_w1 = df_winter['MRC_sum_w1'].dropna()"
   ]
  },
  {
   "cell_type": "code",
   "execution_count": null,
   "metadata": {},
   "outputs": [],
   "source": [
    "stats.ttest_ind(df_lente_mrc_w1, df_zomer_mrc_w1)"
   ]
  },
  {
   "cell_type": "code",
   "execution_count": null,
   "metadata": {},
   "outputs": [],
   "source": [
    "stats.ttest_ind(df_lente_mrc_w1, df_herfst_mrc_w1)"
   ]
  },
  {
   "cell_type": "code",
   "execution_count": null,
   "metadata": {},
   "outputs": [],
   "source": [
    "stats.ttest_ind(df_lente_mrc_w1, df_winter_mrc_w1)"
   ]
  },
  {
   "cell_type": "code",
   "execution_count": null,
   "metadata": {},
   "outputs": [],
   "source": [
    "stats.ttest_ind(df_zomer_mrc_w1, df_herfst_mrc_w1)"
   ]
  },
  {
   "cell_type": "code",
   "execution_count": null,
   "metadata": {},
   "outputs": [],
   "source": [
    "stats.ttest_ind(df_zomer_mrc_w1, df_winter_mrc_w1)"
   ]
  },
  {
   "cell_type": "code",
   "execution_count": null,
   "metadata": {},
   "outputs": [],
   "source": [
    "stats.ttest_ind(df_herfst_mrc_w1, df_winter_mrc_w1)"
   ]
  },
  {
   "cell_type": "markdown",
   "metadata": {},
   "source": [
    "#### klimaat A"
   ]
  },
  {
   "cell_type": "code",
   "execution_count": null,
   "metadata": {},
   "outputs": [],
   "source": [
    "df_lente = df[df['Seizoen']=='Lente']\n",
    "df_lente_A = df_lente[df_lente['klimaat'] == 'A Klimaat']\n",
    "df_lente_A_mrc_w1 = df_lente_A['MRC_sum_w1'].dropna()\n",
    "\n",
    "df_zomer = df[df['Seizoen']=='Zomer']\n",
    "df_zomer_A = df_zomer[df_zomer['klimaat'] == 'A Klimaat']\n",
    "df_zomer_A_mrc_w1 = df_zomer_A['MRC_sum_w1'].dropna()\n",
    "\n",
    "df_herfst = df[df['Seizoen']=='Herfst']\n",
    "df_herfst_A = df_herfst[df_herfst['klimaat'] == 'A Klimaat']\n",
    "df_herfst_A_mrc_w1 = df_herfst_A['MRC_sum_w1'].dropna()\n",
    "\n",
    "df_winter = df[df['Seizoen']=='Winter']\n",
    "df_winter_A = df_winter[df_winter['klimaat'] == 'A Klimaat']\n",
    "df_winter_A_mrc_w1 = df_winter_A['MRC_sum_w1'].dropna()"
   ]
  },
  {
   "cell_type": "code",
   "execution_count": null,
   "metadata": {},
   "outputs": [],
   "source": [
    "stats.ttest_ind(df_lente_A_mrc_w1, df_zomer_A_mrc_w1)"
   ]
  },
  {
   "cell_type": "code",
   "execution_count": null,
   "metadata": {},
   "outputs": [],
   "source": [
    "stats.ttest_ind(df_lente_A_mrc_w1, df_herfst_A_mrc_w1)"
   ]
  },
  {
   "cell_type": "code",
   "execution_count": null,
   "metadata": {},
   "outputs": [],
   "source": [
    "stats.ttest_ind(df_lente_A_mrc_w1, df_winter_A_mrc_w1)"
   ]
  },
  {
   "cell_type": "code",
   "execution_count": null,
   "metadata": {},
   "outputs": [],
   "source": [
    "stats.ttest_ind(df_zomer_A_mrc_w1, df_herfst_A_mrc_w1)"
   ]
  },
  {
   "cell_type": "code",
   "execution_count": null,
   "metadata": {},
   "outputs": [],
   "source": [
    "stats.ttest_ind(df_zomer_A_mrc_w1, df_winter_A_mrc_w1)"
   ]
  },
  {
   "cell_type": "code",
   "execution_count": null,
   "metadata": {},
   "outputs": [],
   "source": [
    "stats.ttest_ind(df_herfst_A_mrc_w1, df_winter_A_mrc_w1)"
   ]
  },
  {
   "cell_type": "markdown",
   "metadata": {},
   "source": [
    "#### klimaat B"
   ]
  },
  {
   "cell_type": "code",
   "execution_count": null,
   "metadata": {},
   "outputs": [],
   "source": [
    "df_lente = df[df['Seizoen'] == 'Lente']\n",
    "df_lente_B = df_lente[df_lente['klimaat'] == 'B Klimaat']\n",
    "df_lente_B_mrc_w1 = df_lente_B['MRC_sum_w1'].dropna()\n",
    "\n",
    "df_zomer = df[df['Seizoen'] == 'Zomer']\n",
    "df_zomer_B = df_zomer[df_zomer['klimaat'] == 'B Klimaat']\n",
    "df_zomer_B_mrc_w1 = df_zomer_B['MRC_sum_w1'].dropna()\n",
    "\n",
    "df_herfst = df[df['Seizoen'] == 'Herfst']\n",
    "df_herfst_B = df_herfst[df_herfst['klimaat'] == 'B Klimaat']\n",
    "df_herfst_B_mrc_w1 = df_herfst_B['MRC_sum_w1'].dropna()\n",
    "\n",
    "df_winter = df[df['Seizoen'] == 'Winter']\n",
    "df_winter_B = df_winter[df_winter['klimaat'] == 'B Klimaat']\n",
    "df_winter_B_mrc_w1 = df_winter_B['MRC_sum_w1'].dropna()"
   ]
  },
  {
   "cell_type": "code",
   "execution_count": null,
   "metadata": {},
   "outputs": [],
   "source": [
    "stats.ttest_ind(df_lente_B_mrc_w1, df_zomer_B_mrc_w1)"
   ]
  },
  {
   "cell_type": "code",
   "execution_count": null,
   "metadata": {},
   "outputs": [],
   "source": [
    "stats.ttest_ind(df_lente_B_mrc_w1, df_herfst_B_mrc_w1)"
   ]
  },
  {
   "cell_type": "code",
   "execution_count": null,
   "metadata": {},
   "outputs": [],
   "source": [
    "stats.ttest_ind(df_lente_B_mrc_w1, df_winter_B_mrc_w1)"
   ]
  },
  {
   "cell_type": "code",
   "execution_count": null,
   "metadata": {},
   "outputs": [],
   "source": [
    "stats.ttest_ind(df_zomer_B_mrc_w1, df_herfst_B_mrc_w1)"
   ]
  },
  {
   "cell_type": "code",
   "execution_count": null,
   "metadata": {},
   "outputs": [],
   "source": [
    "stats.ttest_ind(df_zomer_B_mrc_w1, df_winter_B_mrc_w1)"
   ]
  },
  {
   "cell_type": "code",
   "execution_count": null,
   "metadata": {},
   "outputs": [],
   "source": [
    "stats.ttest_ind(df_herfst_B_mrc_w1, df_winter_B_mrc_w1)"
   ]
  },
  {
   "cell_type": "markdown",
   "metadata": {},
   "source": [
    "#### klimaat C"
   ]
  },
  {
   "cell_type": "code",
   "execution_count": null,
   "metadata": {},
   "outputs": [],
   "source": [
    "df_lente = df[df['Seizoen'] == 'Lente']\n",
    "df_lente_C = df_lente[df_lente['klimaat'] == 'C Klimaat']\n",
    "df_lente_C_mrc_w1 = df_lente_C['MRC_sum_w1'].dropna()\n",
    "\n",
    "df_zomer = df[df['Seizoen'] == 'Zomer']\n",
    "df_zomer_C = df_zomer[df_zomer['klimaat'] == 'C Klimaat']\n",
    "df_zomer_C_mrc_w1 = df_zomer_C['MRC_sum_w1'].dropna()\n",
    "\n",
    "df_herfst = df[df['Seizoen'] == 'Herfst']\n",
    "df_herfst_C = df_herfst[df_herfst['klimaat'] == 'C Klimaat']\n",
    "df_herfst_C_mrc_w1 = df_herfst_C['MRC_sum_w1'].dropna()\n",
    "\n",
    "df_winter = df[df['Seizoen'] == 'Winter']\n",
    "df_winter_C = df_winter[df_winter['klimaat'] == 'C Klimaat']\n",
    "df_winter_C_mrc_w1 = df_winter_C['MRC_sum_w1'].dropna()"
   ]
  },
  {
   "cell_type": "code",
   "execution_count": null,
   "metadata": {},
   "outputs": [],
   "source": [
    "stats.ttest_ind(df_lente_C_mrc_w1, df_zomer_C_mrc_w1)"
   ]
  },
  {
   "cell_type": "code",
   "execution_count": null,
   "metadata": {},
   "outputs": [],
   "source": [
    "stats.ttest_ind(df_lente_C_mrc_w1, df_herfst_C_mrc_w1)"
   ]
  },
  {
   "cell_type": "code",
   "execution_count": null,
   "metadata": {},
   "outputs": [],
   "source": [
    "stats.ttest_ind(df_lente_C_mrc_w1, df_winter_C_mrc_w1)"
   ]
  },
  {
   "cell_type": "code",
   "execution_count": null,
   "metadata": {},
   "outputs": [],
   "source": [
    "stats.ttest_ind(df_zomer_C_mrc_w1, df_herfst_C_mrc_w1)"
   ]
  },
  {
   "cell_type": "code",
   "execution_count": null,
   "metadata": {},
   "outputs": [],
   "source": [
    "stats.ttest_ind(df_zomer_C_mrc_w1, df_winter_C_mrc_w1)"
   ]
  },
  {
   "cell_type": "code",
   "execution_count": null,
   "metadata": {},
   "outputs": [],
   "source": [
    "stats.ttest_ind(df_herfst_C_mrc_w1, df_winter_C_mrc_w1)"
   ]
  },
  {
   "cell_type": "markdown",
   "metadata": {},
   "source": [
    "#### klimaat D"
   ]
  },
  {
   "cell_type": "code",
   "execution_count": null,
   "metadata": {},
   "outputs": [],
   "source": [
    "df_lente = df[df['Seizoen'] == 'Lente']\n",
    "df_lente_D = df_lente[df_lente['klimaat'] == 'D Klimaat']\n",
    "df_lente_D_mrc_w1 = df_lente_D['MRC_sum_w1'].dropna()\n",
    "\n",
    "df_zomer = df[df['Seizoen'] == 'Zomer']\n",
    "df_zomer_D = df_zomer[df_zomer['klimaat'] == 'D Klimaat']\n",
    "df_zomer_D_mrc_w1 = df_zomer_D['MRC_sum_w1'].dropna()\n",
    "\n",
    "df_herfst = df[df['Seizoen'] == 'Herfst']\n",
    "df_herfst_D = df_herfst[df_herfst['klimaat'] == 'D Klimaat']\n",
    "df_herfst_D_mrc_w1 = df_herfst_D['MRC_sum_w1'].dropna()\n",
    "\n",
    "df_winter = df[df['Seizoen'] == 'Winter']\n",
    "df_winter_D = df_winter[df_winter['klimaat'] == 'D Klimaat']\n",
    "df_winter_D_mrc_w1 = df_winter_D['MRC_sum_w1'].dropna()"
   ]
  },
  {
   "cell_type": "code",
   "execution_count": null,
   "metadata": {},
   "outputs": [],
   "source": [
    "stats.ttest_ind(df_lente_D_mrc_w1, df_zomer_D_mrc_w1)"
   ]
  },
  {
   "cell_type": "code",
   "execution_count": null,
   "metadata": {},
   "outputs": [],
   "source": [
    "stats.ttest_ind(df_lente_D_mrc_w1, df_herfst_D_mrc_w1)"
   ]
  },
  {
   "cell_type": "code",
   "execution_count": null,
   "metadata": {},
   "outputs": [],
   "source": [
    "stats.ttest_ind(df_lente_D_mrc_w1, df_winter_D_mrc_w1)"
   ]
  },
  {
   "cell_type": "code",
   "execution_count": null,
   "metadata": {},
   "outputs": [],
   "source": [
    "stats.ttest_ind(df_zomer_D_mrc_w1, df_herfst_D_mrc_w1)"
   ]
  },
  {
   "cell_type": "code",
   "execution_count": null,
   "metadata": {},
   "outputs": [],
   "source": [
    "stats.ttest_ind(df_zomer_D_mrc_w1, df_winter_D_mrc_w1)"
   ]
  },
  {
   "cell_type": "code",
   "execution_count": null,
   "metadata": {},
   "outputs": [],
   "source": [
    "stats.ttest_ind(df_herfst_D_mrc_w1, df_winter_D_mrc_w1)"
   ]
  },
  {
   "cell_type": "code",
   "execution_count": null,
   "metadata": {},
   "outputs": [],
   "source": []
  },
  {
   "cell_type": "code",
   "execution_count": null,
   "metadata": {},
   "outputs": [],
   "source": []
  },
  {
   "cell_type": "markdown",
   "metadata": {},
   "source": [
    "#### GBSDS_e"
   ]
  },
  {
   "cell_type": "code",
   "execution_count": null,
   "metadata": {},
   "outputs": [],
   "source": [
    "for dateframe in dataframes_klimaat:\n",
    "    freq_table = pd.crosstab(dateframe['GBSDS_e'], dateframe['Seizoen']) \n",
    "    print(freq_table, '\\n')"
   ]
  },
  {
   "cell_type": "code",
   "execution_count": null,
   "metadata": {},
   "outputs": [],
   "source": [
    "freq_table = pd.crosstab(df['GBSDS_e'], df['Seizoen']) \n",
    "freq_table"
   ]
  },
  {
   "cell_type": "code",
   "execution_count": null,
   "metadata": {},
   "outputs": [],
   "source": [
    "df_GBSDS_e = df\n",
    "df_C_GBSDS_e = df_C"
   ]
  },
  {
   "cell_type": "code",
   "execution_count": null,
   "metadata": {},
   "outputs": [],
   "source": [
    "df_GBSDS_e = df_GBSDS_e.drop(df_GBSDS_e[df_GBSDS_e['GBSDS_e'] == 0].index)\n",
    "df_C_GBSDS_e = df_C_GBSDS_e.drop(df_C_GBSDS_e[df_C_GBSDS_e['GBSDS_e'] == 0].index)"
   ]
  },
  {
   "cell_type": "code",
   "execution_count": null,
   "metadata": {},
   "outputs": [],
   "source": [
    "df_GBSDS_e_seizoen = pd.crosstab(df_GBSDS_e['GBSDS_e'], df_GBSDS_e['Seizoen'])\n",
    "stats.chi2_contingency(df_GBSDS_e_seizoen)"
   ]
  },
  {
   "cell_type": "code",
   "execution_count": null,
   "metadata": {},
   "outputs": [],
   "source": [
    "df_C_GBSDS_e_seizoen = pd.crosstab(df_C_GBSDS_e['GBSDS_e'], df_C_GBSDS_e['Seizoen'])\n",
    "stats.chi2_contingency(df_C_GBSDS_e_seizoen)"
   ]
  },
  {
   "cell_type": "markdown",
   "metadata": {},
   "source": [
    "#### GBSDS_w1"
   ]
  },
  {
   "cell_type": "code",
   "execution_count": null,
   "metadata": {},
   "outputs": [],
   "source": [
    "for dateframe in dataframes_klimaat:\n",
    "    freq_table = pd.crosstab(dateframe['GBSDS_w1'], dateframe['Seizoen']) \n",
    "    print(freq_table, '\\n')"
   ]
  },
  {
   "cell_type": "code",
   "execution_count": null,
   "metadata": {},
   "outputs": [],
   "source": [
    "freq_table = pd.crosstab(df['GBSDS_w1'], df['Seizoen']) \n",
    "freq_table"
   ]
  },
  {
   "cell_type": "code",
   "execution_count": null,
   "metadata": {},
   "outputs": [],
   "source": [
    "df_GBSDS_w1 = df\n",
    "df_C_GBSDS_w1 = df_C"
   ]
  },
  {
   "cell_type": "code",
   "execution_count": null,
   "metadata": {},
   "outputs": [],
   "source": [
    "df_GBSDS_w1 = df_GBSDS_w1.drop(df_GBSDS_w1[df_GBSDS_w1['GBSDS_w1'] == 0].index)\n",
    "df_C_GBSDS_w1 = df_C_GBSDS_w1.drop(df_C_GBSDS_w1[df_C_GBSDS_w1['GBSDS_w1'] == 0].index)"
   ]
  },
  {
   "cell_type": "code",
   "execution_count": null,
   "metadata": {},
   "outputs": [],
   "source": [
    "df_GBSDS_w1_seizoen = pd.crosstab(df_GBSDS_w1['GBSDS_w1'], df_GBSDS_w1['Seizoen'])\n",
    "stats.chi2_contingency(df_GBSDS_w1_seizoen)"
   ]
  },
  {
   "cell_type": "code",
   "execution_count": null,
   "metadata": {},
   "outputs": [],
   "source": [
    "df_C_GBSDS_w1_seizoen = pd.crosstab(df_C_GBSDS_w1['GBSDS_w1'], df_C_GBSDS_w1['Seizoen'])\n",
    "stats.chi2_contingency(df_C_GBSDS_w1_seizoen)"
   ]
  },
  {
   "cell_type": "markdown",
   "metadata": {},
   "source": [
    "#### Surv_unable_to_walk"
   ]
  },
  {
   "cell_type": "code",
   "execution_count": null,
   "metadata": {},
   "outputs": [],
   "source": [
    "for dateframe in dataframes_klimaat:\n",
    "    freq_table = pd.crosstab(dateframe['Surv_unable_to_walk'], dateframe['Seizoen']) \n",
    "    print(freq_table, '\\n')"
   ]
  },
  {
   "cell_type": "code",
   "execution_count": null,
   "metadata": {},
   "outputs": [],
   "source": [
    "df_Surv_unable_to_walk = pd.crosstab(df['Surv_unable_to_walk'], df['Seizoen'])\n",
    "stats.chi2_contingency(df_Surv_unable_to_walk)"
   ]
  },
  {
   "cell_type": "code",
   "execution_count": null,
   "metadata": {},
   "outputs": [],
   "source": [
    "df_B_Surv_unable_to_walk = pd.crosstab(df_B['Surv_unable_to_walk'], df_B['Seizoen'])\n",
    "stats.chi2_contingency(df_B_Surv_unable_to_walk)"
   ]
  },
  {
   "cell_type": "code",
   "execution_count": null,
   "metadata": {},
   "outputs": [],
   "source": [
    "df_C_Surv_unable_to_walk = pd.crosstab(df_C['Surv_unable_to_walk'], df_C['Seizoen'])\n",
    "stats.chi2_contingency(df_C_Surv_unable_to_walk)"
   ]
  },
  {
   "cell_type": "code",
   "execution_count": null,
   "metadata": {},
   "outputs": [],
   "source": []
  },
  {
   "cell_type": "markdown",
   "metadata": {},
   "source": [
    "Post hoc voor df_B_Surv_unable_to_walk"
   ]
  },
  {
   "cell_type": "code",
   "execution_count": null,
   "metadata": {},
   "outputs": [],
   "source": [
    "df_B_LenZom = df_B[(df_B['Seizoen'] == 'Lente') | (df_B['Seizoen'] == 'Zomer')]\n",
    "df_B_LenHer = df_B[(df_B['Seizoen'] == 'Lente') | (df_B['Seizoen'] == 'Herfst')]\n",
    "df_B_LenWin = df_B[(df_B['Seizoen'] == 'Lente') | (df_B['Seizoen'] == 'Winter')]\n",
    "df_B_ZomHer = df_B[(df_B['Seizoen'] == 'Zomer') | (df_B['Seizoen'] == 'Herfst')]\n",
    "df_B_ZomWin = df_B[(df_B['Seizoen'] == 'Zomer') | (df_B['Seizoen'] == 'Winter')]\n",
    "df_B_HerWin = df_B[(df_B['Seizoen'] == 'Herfst') | (df_B['Seizoen'] == 'Winter')]"
   ]
  },
  {
   "cell_type": "code",
   "execution_count": null,
   "metadata": {},
   "outputs": [],
   "source": [
    "df_B_Surv_unable_to_walk_seiz = pd.crosstab(df_B_LenZom['Surv_unable_to_walk'], df_B_LenZom['Seizoen'])\n",
    "stats.chi2_contingency(df_B_Surv_unable_to_walk_seiz)"
   ]
  },
  {
   "cell_type": "code",
   "execution_count": null,
   "metadata": {},
   "outputs": [],
   "source": [
    "df_B_Surv_unable_to_walk_seiz = pd.crosstab(df_B_LenHer['Surv_unable_to_walk'], df_B_LenHer['Seizoen'])\n",
    "stats.chi2_contingency(df_B_Surv_unable_to_walk_seiz)"
   ]
  },
  {
   "cell_type": "code",
   "execution_count": null,
   "metadata": {},
   "outputs": [],
   "source": [
    "df_B_Surv_unable_to_walk_seiz = pd.crosstab(df_B_LenWin['Surv_unable_to_walk'], df_B_LenWin['Seizoen'])\n",
    "stats.chi2_contingency(df_B_Surv_unable_to_walk_seiz)"
   ]
  },
  {
   "cell_type": "code",
   "execution_count": null,
   "metadata": {},
   "outputs": [],
   "source": [
    "df_B_Surv_unable_to_walk_seiz = pd.crosstab(df_B_ZomHer['Surv_unable_to_walk'], df_B_ZomHer['Seizoen'])\n",
    "stats.chi2_contingency(df_B_Surv_unable_to_walk_seiz)"
   ]
  },
  {
   "cell_type": "code",
   "execution_count": null,
   "metadata": {},
   "outputs": [],
   "source": [
    "df_B_Surv_unable_to_walk_seiz = pd.crosstab(df_B_ZomWin['Surv_unable_to_walk'], df_B_ZomWin['Seizoen'])\n",
    "stats.chi2_contingency(df_B_Surv_unable_to_walk_seiz)"
   ]
  },
  {
   "cell_type": "code",
   "execution_count": null,
   "metadata": {},
   "outputs": [],
   "source": [
    "df_B_Surv_unable_to_walk_seiz = pd.crosstab(df_B_HerWin['Surv_unable_to_walk'], df_B_HerWin['Seizoen'])\n",
    "stats.chi2_contingency(df_B_Surv_unable_to_walk_seiz)"
   ]
  },
  {
   "cell_type": "markdown",
   "metadata": {},
   "source": [
    "De statistische afhankelijkheid is te zien tussen de winter en zomer"
   ]
  },
  {
   "cell_type": "markdown",
   "metadata": {},
   "source": [
    "Na bonferoni correctie is te concluderen dat het niet meer statistisch significant is"
   ]
  },
  {
   "cell_type": "code",
   "execution_count": null,
   "metadata": {},
   "outputs": [],
   "source": []
  },
  {
   "cell_type": "code",
   "execution_count": null,
   "metadata": {},
   "outputs": [],
   "source": []
  },
  {
   "cell_type": "code",
   "execution_count": null,
   "metadata": {},
   "outputs": [],
   "source": []
  },
  {
   "cell_type": "code",
   "execution_count": null,
   "metadata": {},
   "outputs": [],
   "source": [
    "df['CSF_protein_level'].unique()\n"
   ]
  },
  {
   "cell_type": "code",
   "execution_count": null,
   "metadata": {},
   "outputs": [],
   "source": [
    "df['Surv_days'].unique()\n"
   ]
  },
  {
   "cell_type": "code",
   "execution_count": null,
   "metadata": {},
   "outputs": [],
   "source": [
    "df['Days_between_onset_and_admission'].unique()\n"
   ]
  },
  {
   "cell_type": "code",
   "execution_count": null,
   "metadata": {},
   "outputs": [],
   "source": [
    "sns.histplot(data = df, x='Age', kde = True, hue=\"Seizoen\", element=\"step\", multiple = 'stack')"
   ]
  },
  {
   "cell_type": "code",
   "execution_count": null,
   "metadata": {},
   "outputs": [],
   "source": [
    "df['Sex'] = df['Sex'].replace({0: 'Vrouw', 1: 'Man'})\n",
    "sns.countplot(data = df, x='Sex', hue=\"Seizoen\", hue_order = ['Lente', 'Zomer', 'Herfst', 'Winter'])"
   ]
  },
  {
   "cell_type": "code",
   "execution_count": null,
   "metadata": {},
   "outputs": [],
   "source": [
    "for dateframe in dataframes_klimaat:\n",
    "    freq_table = pd.crosstab(dateframe['Sex'], dateframe['Seizoen']) \n",
    "    print(freq_table, '\\n')"
   ]
  },
  {
   "cell_type": "code",
   "execution_count": null,
   "metadata": {},
   "outputs": [],
   "source": [
    "Sex_seizoen = pd.crosstab(df['Sex'], df['Seizoen'])\n",
    "stats.chi2_contingency(Sex_seizoen)"
   ]
  },
  {
   "cell_type": "code",
   "execution_count": null,
   "metadata": {},
   "outputs": [],
   "source": [
    "Sex_seizoen = pd.crosstab(df_A['Sex'], df_A['Seizoen'])\n",
    "stats.chi2_contingency(Sex_seizoen)"
   ]
  },
  {
   "cell_type": "code",
   "execution_count": null,
   "metadata": {},
   "outputs": [],
   "source": [
    "Sex_seizoen = pd.crosstab(df_C['Sex'], df_C['Seizoen'])\n",
    "stats.chi2_contingency(Sex_seizoen)"
   ]
  },
  {
   "cell_type": "code",
   "execution_count": null,
   "metadata": {},
   "outputs": [],
   "source": [
    "Sex_seizoen = pd.crosstab(df_C['Sex'], df_C['Seizoen'])\n",
    "stats.chi2_contingency(Sex_seizoen)"
   ]
  },
  {
   "cell_type": "code",
   "execution_count": null,
   "metadata": {},
   "outputs": [],
   "source": []
  },
  {
   "cell_type": "markdown",
   "metadata": {},
   "source": [
    "Pijn"
   ]
  },
  {
   "cell_type": "code",
   "execution_count": null,
   "metadata": {},
   "outputs": [],
   "source": [
    "for dateframe in dataframes_klimaat:\n",
    "    freq_table = pd.crosstab(dateframe['Pain_e'], dateframe['Seizoen']) \n",
    "    print(freq_table, '\\n')"
   ]
  },
  {
   "cell_type": "code",
   "execution_count": null,
   "metadata": {},
   "outputs": [],
   "source": [
    "for dateframe in dataframes_klimaat:\n",
    "    freq_table = pd.crosstab(dateframe['Pain_w1'], dateframe['Seizoen']) \n",
    "    print(freq_table, '\\n')"
   ]
  },
  {
   "cell_type": "markdown",
   "metadata": {},
   "source": [
    "Genoeg waarden voor een chi kwadraat toets"
   ]
  },
  {
   "cell_type": "markdown",
   "metadata": {},
   "source": [
    "Entry"
   ]
  },
  {
   "cell_type": "code",
   "execution_count": null,
   "metadata": {},
   "outputs": [],
   "source": [
    "Pain_seizoen = pd.crosstab(df['Pain_e'], df['Seizoen'])\n",
    "stats.chi2_contingency(Pain_seizoen)"
   ]
  },
  {
   "cell_type": "code",
   "execution_count": null,
   "metadata": {},
   "outputs": [],
   "source": [
    "Pain_seizoen = pd.crosstab(df_A['Pain_e'], df_A['Seizoen'])\n",
    "stats.chi2_contingency(Pain_seizoen)"
   ]
  },
  {
   "cell_type": "code",
   "execution_count": null,
   "metadata": {},
   "outputs": [],
   "source": [
    "Pain_seizoen = pd.crosstab(df_B['Pain_e'], df_B['Seizoen'])\n",
    "stats.chi2_contingency(Pain_seizoen)"
   ]
  },
  {
   "cell_type": "code",
   "execution_count": null,
   "metadata": {},
   "outputs": [],
   "source": [
    "Pain_seizoen = pd.crosstab(df_C['Pain_e'], df_C['Seizoen'])\n",
    "stats.chi2_contingency(Pain_seizoen)"
   ]
  },
  {
   "cell_type": "code",
   "execution_count": null,
   "metadata": {},
   "outputs": [],
   "source": [
    "Pain_seizoen = pd.crosstab(df_D['Pain_e'], df_D['Seizoen'])\n",
    "stats.chi2_contingency(Pain_seizoen)"
   ]
  },
  {
   "cell_type": "markdown",
   "metadata": {},
   "source": [
    "Week 1"
   ]
  },
  {
   "cell_type": "code",
   "execution_count": null,
   "metadata": {},
   "outputs": [],
   "source": [
    "Pain_seizoen = pd.crosstab(df['Pain_w1'], df['Seizoen'])\n",
    "stats.chi2_contingency(Pain_seizoen)"
   ]
  },
  {
   "cell_type": "code",
   "execution_count": null,
   "metadata": {},
   "outputs": [],
   "source": [
    "Pain_seizoen = pd.crosstab(df_A['Pain_w1'], df_A['Seizoen'])\n",
    "stats.chi2_contingency(Pain_seizoen)"
   ]
  },
  {
   "cell_type": "code",
   "execution_count": null,
   "metadata": {},
   "outputs": [],
   "source": [
    "Pain_seizoen = pd.crosstab(df_B['Pain_w1'], df_B['Seizoen'])\n",
    "stats.chi2_contingency(Pain_seizoen)"
   ]
  },
  {
   "cell_type": "code",
   "execution_count": null,
   "metadata": {},
   "outputs": [],
   "source": [
    "Pain_seizoen = pd.crosstab(df_C['Pain_w1'], df_C['Seizoen'])\n",
    "stats.chi2_contingency(Pain_seizoen)"
   ]
  },
  {
   "cell_type": "code",
   "execution_count": null,
   "metadata": {},
   "outputs": [],
   "source": [
    "Pain_seizoen = pd.crosstab(df_D['Pain_w1'], df_D['Seizoen'])\n",
    "stats.chi2_contingency(Pain_seizoen)"
   ]
  },
  {
   "cell_type": "markdown",
   "metadata": {},
   "source": [
    "Het seizoen en de pijn die mensen voelen zijn statistisch onafhankelijk"
   ]
  },
  {
   "cell_type": "code",
   "execution_count": null,
   "metadata": {},
   "outputs": [],
   "source": []
  },
  {
   "cell_type": "markdown",
   "metadata": {},
   "source": [
    "Sens deficits"
   ]
  },
  {
   "cell_type": "code",
   "execution_count": null,
   "metadata": {},
   "outputs": [],
   "source": [
    "for dateframe in dataframes_klimaat:\n",
    "    freq_table = pd.crosstab(dateframe['Sens_deficits_e'], dateframe['Seizoen']) \n",
    "    print(freq_table, '\\n')"
   ]
  },
  {
   "cell_type": "code",
   "execution_count": null,
   "metadata": {},
   "outputs": [],
   "source": [
    "for dateframe in dataframes_klimaat:\n",
    "    freq_table = pd.crosstab(dateframe['Sens_deficits_w1'], dateframe['Seizoen']) \n",
    "    print(freq_table, '\\n')"
   ]
  },
  {
   "cell_type": "markdown",
   "metadata": {},
   "source": [
    "Vaak is de waarde 2 te weinig gegeven voor een chi kwadraat toets, sinds in het codeboek ook niet staat wat de waarde 2 inhoudt is besloten deze weg te houden"
   ]
  },
  {
   "cell_type": "code",
   "execution_count": null,
   "metadata": {},
   "outputs": [],
   "source": [
    "df_Sens_deficits_e = df\n",
    "df_A_Sens_deficits_e = df_A\n",
    "df_B_Sens_deficits_e = df_B\n",
    "df_C_Sens_deficits_e = df_C\n",
    "df_D_Sens_deficits_e = df_D\n",
    "\n",
    "df_Sens_deficits_w1 = df\n",
    "df_A_Sens_deficits_w1 = df_A\n",
    "df_B_Sens_deficits_w1 = df_B\n",
    "df_C_Sens_deficits_w1 = df_C\n",
    "df_D_Sens_deficits_w1 = df_D"
   ]
  },
  {
   "cell_type": "code",
   "execution_count": null,
   "metadata": {},
   "outputs": [],
   "source": [
    "df_Sens_deficits_e = df_Sens_deficits_e.drop(df_Sens_deficits_e[df_Sens_deficits_e['Sens_deficits_e'] == 2].index)\n",
    "df_A_Sens_deficits_e = df_A_Sens_deficits_e.drop(df_A_Sens_deficits_e[df_A_Sens_deficits_e['Sens_deficits_e'] == 2].index)\n",
    "df_B_Sens_deficits_e = df_B_Sens_deficits_e.drop(df_B_Sens_deficits_e[df_B_Sens_deficits_e['Sens_deficits_e'] == 2].index)\n",
    "df_C_Sens_deficits_e = df_C_Sens_deficits_e.drop(df_C_Sens_deficits_e[df_C_Sens_deficits_e['Sens_deficits_e'] == 2].index)\n",
    "df_D_Sens_deficits_e = df_D_Sens_deficits_e.drop(df_D_Sens_deficits_e[df_D_Sens_deficits_e['Sens_deficits_e'] == 2].index)\n",
    "\n",
    "df_Sens_deficits_w1 = df_Sens_deficits_w1.drop(df_Sens_deficits_w1[df_Sens_deficits_w1['Sens_deficits_w1'] == 2].index)\n",
    "df_A_Sens_deficits_w1 = df_A_Sens_deficits_w1.drop(df_A_Sens_deficits_w1[df_A_Sens_deficits_w1['Sens_deficits_w1'] == 2].index)\n",
    "df_B_Sens_deficits_w1 = df_B_Sens_deficits_w1.drop(df_B_Sens_deficits_w1[df_B_Sens_deficits_w1['Sens_deficits_w1'] == 2].index)\n",
    "df_C_Sens_deficits_w1 = df_C_Sens_deficits_w1.drop(df_C_Sens_deficits_w1[df_C_Sens_deficits_w1['Sens_deficits_w1'] == 2].index)\n",
    "df_D_Sens_deficits_w1 = df_D_Sens_deficits_w1.drop(df_D_Sens_deficits_w1[df_D_Sens_deficits_w1['Sens_deficits_w1'] == 2].index)"
   ]
  },
  {
   "cell_type": "markdown",
   "metadata": {},
   "source": [
    "De toetsen"
   ]
  },
  {
   "cell_type": "markdown",
   "metadata": {},
   "source": [
    "Entry"
   ]
  },
  {
   "cell_type": "code",
   "execution_count": null,
   "metadata": {},
   "outputs": [],
   "source": [
    "SensDef_seizoen = pd.crosstab(df_Sens_deficits_e['Sens_deficits_e'], df_Sens_deficits_e['Seizoen'])\n",
    "stats.chi2_contingency(SensDef_seizoen)"
   ]
  },
  {
   "cell_type": "code",
   "execution_count": null,
   "metadata": {},
   "outputs": [],
   "source": [
    "SensDef_seizoen = pd.crosstab(df_A_Sens_deficits_e['Sens_deficits_e'], df_A_Sens_deficits_e['Seizoen'])\n",
    "stats.chi2_contingency(SensDef_seizoen)"
   ]
  },
  {
   "cell_type": "code",
   "execution_count": null,
   "metadata": {},
   "outputs": [],
   "source": [
    "SensDef_seizoen = pd.crosstab(df_B_Sens_deficits_e['Sens_deficits_e'], df_B_Sens_deficits_e['Seizoen'])\n",
    "stats.chi2_contingency(SensDef_seizoen)"
   ]
  },
  {
   "cell_type": "code",
   "execution_count": null,
   "metadata": {},
   "outputs": [],
   "source": [
    "SensDef_seizoen = pd.crosstab(df_C_Sens_deficits_e['Sens_deficits_e'], df_C_Sens_deficits_e['Seizoen'])\n",
    "stats.chi2_contingency(SensDef_seizoen)"
   ]
  },
  {
   "cell_type": "code",
   "execution_count": null,
   "metadata": {},
   "outputs": [],
   "source": [
    "SensDef_seizoen = pd.crosstab(df_D_Sens_deficits_e['Sens_deficits_e'], df_D_Sens_deficits_e['Seizoen'])\n",
    "stats.chi2_contingency(SensDef_seizoen)"
   ]
  },
  {
   "cell_type": "markdown",
   "metadata": {},
   "source": [
    "Week 1"
   ]
  },
  {
   "cell_type": "code",
   "execution_count": null,
   "metadata": {},
   "outputs": [],
   "source": [
    "SensDef_seizoen = pd.crosstab(df_Sens_deficits_w1['Sens_deficits_w1'], df_Sens_deficits_w1['Seizoen'])\n",
    "stats.chi2_contingency(SensDef_seizoen)"
   ]
  },
  {
   "cell_type": "code",
   "execution_count": null,
   "metadata": {},
   "outputs": [],
   "source": [
    "SensDef_seizoen = pd.crosstab(df_A_Sens_deficits_w1['Sens_deficits_w1'], df_A_Sens_deficits_w1['Seizoen'])\n",
    "stats.chi2_contingency(SensDef_seizoen)"
   ]
  },
  {
   "cell_type": "code",
   "execution_count": null,
   "metadata": {},
   "outputs": [],
   "source": [
    "SensDef_seizoen = pd.crosstab(df_B_Sens_deficits_w1['Sens_deficits_w1'], df_B_Sens_deficits_w1['Seizoen'])\n",
    "stats.chi2_contingency(SensDef_seizoen)"
   ]
  },
  {
   "cell_type": "code",
   "execution_count": null,
   "metadata": {},
   "outputs": [],
   "source": [
    "SensDef_seizoen = pd.crosstab(df_C_Sens_deficits_w1['Sens_deficits_w1'], df_C_Sens_deficits_w1['Seizoen'])\n",
    "stats.chi2_contingency(SensDef_seizoen)"
   ]
  },
  {
   "cell_type": "code",
   "execution_count": null,
   "metadata": {},
   "outputs": [],
   "source": [
    "SensDef_seizoen = pd.crosstab(df_D_Sens_deficits_w1['Sens_deficits_w1'], df_D_Sens_deficits_w1['Seizoen'])\n",
    "stats.chi2_contingency(SensDef_seizoen)"
   ]
  },
  {
   "cell_type": "code",
   "execution_count": null,
   "metadata": {},
   "outputs": [],
   "source": []
  },
  {
   "cell_type": "code",
   "execution_count": null,
   "metadata": {},
   "outputs": [],
   "source": []
  },
  {
   "cell_type": "markdown",
   "metadata": {},
   "source": [
    "Comorbidity_respiration"
   ]
  },
  {
   "cell_type": "code",
   "execution_count": null,
   "metadata": {},
   "outputs": [],
   "source": [
    "for dateframe in dataframes_klimaat:\n",
    "    freq_table = pd.crosstab(dateframe['Comorbidity_respiration'], dateframe['Seizoen']) \n",
    "    print(freq_table, '\\n')"
   ]
  },
  {
   "cell_type": "markdown",
   "metadata": {},
   "source": [
    "Alleen voor klimaat C genoeg dus chi kwadraat voor C en hele dataset"
   ]
  },
  {
   "cell_type": "code",
   "execution_count": null,
   "metadata": {},
   "outputs": [],
   "source": [
    "ComRes_seizoen = pd.crosstab(df['Comorbidity_respiration'], df['Seizoen'])\n",
    "stats.chi2_contingency(ComRes_seizoen)"
   ]
  },
  {
   "cell_type": "code",
   "execution_count": null,
   "metadata": {},
   "outputs": [],
   "source": [
    "ComRes_seizoen = pd.crosstab(df_C['Comorbidity_respiration'], df_C['Seizoen'])\n",
    "stats.chi2_contingency(ComRes_seizoen)"
   ]
  },
  {
   "cell_type": "code",
   "execution_count": null,
   "metadata": {},
   "outputs": [],
   "source": []
  },
  {
   "cell_type": "markdown",
   "metadata": {},
   "source": [
    "#### Subset gemaakt met Surv_status vs Surv_days"
   ]
  },
  {
   "cell_type": "code",
   "execution_count": null,
   "metadata": {},
   "outputs": [],
   "source": [
    "df['Surv_status'] = df['Surv_status'].replace({0: 'lost_to_follow_up', 1: 'in_staat_om_zelfstandig_te_lopen', 2: 'Overleden'})\n",
    "mean_surv_days = df['Surv_days'].groupby([df['Seizoen'], df['Surv_status']]).mean().reset_index()"
   ]
  },
  {
   "cell_type": "code",
   "execution_count": null,
   "metadata": {},
   "outputs": [],
   "source": [
    "mean_surv_days"
   ]
  },
  {
   "cell_type": "code",
   "execution_count": null,
   "metadata": {},
   "outputs": [],
   "source": [
    "sns.barplot(data = mean_surv_days, y='Surv_days', x=\"Seizoen\", hue = 'Surv_status',\n",
    "            hue_order = ['lost_to_follow_up','in_staat_om_zelfstandig_te_lopen','Overleden'])"
   ]
  },
  {
   "cell_type": "code",
   "execution_count": null,
   "metadata": {},
   "outputs": [],
   "source": [
    "sns.catplot(data=mean_surv_days, kind='bar', x='Seizoen', y='Surv_days', \n",
    "            col='Surv_status', hue='Seizoen', \n",
    "            order=['Lente', 'Zomer', 'Herfst', 'Winter'])"
   ]
  },
  {
   "cell_type": "code",
   "execution_count": null,
   "metadata": {},
   "outputs": [],
   "source": [
    "lost_to_follow_up = df[df['Surv_status'] == 'lost_to_follow_up']\n",
    "in_staat_om_zelfstandig_te_lopen = df[df['Surv_status'] == 'in_staat_om_zelfstandig_te_lopen']\n",
    "overleden = df[df['Surv_status'] == 'Overleden']"
   ]
  },
  {
   "cell_type": "code",
   "execution_count": null,
   "metadata": {},
   "outputs": [],
   "source": [
    "lost_to_follow_up = lost_to_follow_up[['Surv_days', 'Seizoen','klimaat']]\n",
    "model_3 = ols('Surv_days ~ C(Seizoen)', data=lost_to_follow_up).fit()\n",
    "anova_table = sm.stats.anova_lm(model_3, typ=2)\n",
    "print(anova_table)"
   ]
  },
  {
   "cell_type": "code",
   "execution_count": null,
   "metadata": {},
   "outputs": [],
   "source": [
    "residuen = model_3.resid\n",
    "print(stats.shapiro(residuen))\n",
    "\n",
    "sm.qqplot(residuen, line = 's' )\n",
    "plt.title('QQ-plot van de reisduen')\n",
    "plt.show()"
   ]
  },
  {
   "cell_type": "markdown",
   "metadata": {},
   "source": [
    "##### Niet voldoen aan normaliteit, dus pairwise t-toets"
   ]
  },
  {
   "cell_type": "code",
   "execution_count": null,
   "metadata": {},
   "outputs": [],
   "source": [
    "lente_status_0 = lost_to_follow_up[lost_to_follow_up['Seizoen'] == 'Lente']\n",
    "lente_status_0 = lente_status_0['Surv_days'].dropna()\n",
    "\n",
    "zomer_status_0 = lost_to_follow_up[lost_to_follow_up['Seizoen'] == 'Zomer']\n",
    "zomer_status_0 = zomer_status_0['Surv_days'].dropna()\n",
    "\n",
    "herfst_status_0  = lost_to_follow_up[lost_to_follow_up['Seizoen'] == 'Herfst']\n",
    "herfst_status_0  = herfst_status_0 ['Surv_days'].dropna()\n",
    "\n",
    "winter_status_0  = lost_to_follow_up[lost_to_follow_up['Seizoen'] == 'Winter']\n",
    "winter_status_0  = winter_status_0 ['Surv_days'].dropna()"
   ]
  },
  {
   "cell_type": "code",
   "execution_count": null,
   "metadata": {},
   "outputs": [],
   "source": [
    "print('t-toets op groepen lente_status_0  en zomer_status_0 :' , stats.ttest_ind(lente_status_0 ,zomer_status_0 ))\n",
    "print('t-toets op groepen lente_status_0  en herfst_status_0 :' ,stats.ttest_ind(lente_status_0 ,herfst_status_0 ))\n",
    "print('t-toets op groepen lente_status_0  en winter_status_0 :' ,stats.ttest_ind(lente_status_0 ,winter_status_0 ))\n",
    "print('t-toets op groepen zomer_status_0  en herfst_status_0 :' ,stats.ttest_ind(zomer_status_0 ,herfst_status_0 ))\n",
    "print('t-toets op groepen zomer_status_0  en winter_status_0 :' ,stats.ttest_ind(zomer_status_0 ,winter_status_0 ))\n",
    "print('t-toets op groepen herfst_status_0  en winter_status_0 :' ,stats.ttest_ind(herfst_status_0 ,winter_status_0 ))"
   ]
  },
  {
   "cell_type": "code",
   "execution_count": null,
   "metadata": {},
   "outputs": [],
   "source": [
    "lost_to_follow_up['Seizoen'].groupby(lost_to_follow_up['klimaat']).value_counts()"
   ]
  },
  {
   "cell_type": "markdown",
   "metadata": {},
   "source": [
    "klimaat A"
   ]
  },
  {
   "cell_type": "code",
   "execution_count": null,
   "metadata": {},
   "outputs": [],
   "source": [
    "lente_status_0 = lost_to_follow_up[lost_to_follow_up['Seizoen'] == 'Lente']\n",
    "lente_status_0_A = lente_status_0[lente_status_0['klimaat'] == 'A Klimaat']\n",
    "lente_status_0_A = lente_status_0_A['Surv_days'].dropna()\n",
    "\n",
    "zomer_status_0 = lost_to_follow_up[lost_to_follow_up['Seizoen'] == 'Zomer']\n",
    "zomer_status_0_A = zomer_status_0[zomer_status_0['klimaat'] == 'A Klimaat']\n",
    "zomer_status_0_A = zomer_status_0_A['Surv_days'].dropna()\n",
    "\n",
    "herfst_status_0  = lost_to_follow_up[lost_to_follow_up['Seizoen'] == 'Herfst']\n",
    "herfst_status_0_A = herfst_status_0[herfst_status_0['klimaat'] == 'A Klimaat']\n",
    "herfst_status_0_A  = herfst_status_0_A ['Surv_days'].dropna()\n",
    "\n",
    "winter_status_0  = lost_to_follow_up[lost_to_follow_up['Seizoen'] == 'Winter']\n",
    "winter_status_0_A = winter_status_0[winter_status_0['klimaat'] == 'A Klimaat']\n",
    "winter_status_0_A  = winter_status_0_A ['Surv_days'].dropna()"
   ]
  },
  {
   "cell_type": "code",
   "execution_count": null,
   "metadata": {},
   "outputs": [],
   "source": [
    "print('t-toets op groepen lente_status_0_A  en zomer_status_0_A :' , stats.ttest_ind(lente_status_0_A ,zomer_status_0_A ))\n",
    "print('t-toets op groepen lente_status_0_A  en herfst_status_0_A :' ,stats.ttest_ind(lente_status_0_A ,herfst_status_0_A ))\n",
    "print('t-toets op groepen lente_status_0_A  en winter_status_0_A :' ,stats.ttest_ind(lente_status_0_A ,winter_status_0_A ))\n",
    "print('t-toets op groepen zomer_status_0_A  en herfst_status_0_A :' ,stats.ttest_ind(zomer_status_0_A ,herfst_status_0_A ))\n",
    "print('t-toets op groepen zomer_status_0_A  en winter_status_0_A :' ,stats.ttest_ind(zomer_status_0_A ,winter_status_0_A ))\n",
    "print('t-toets op groepen herfst_status_0_A  en winter_status_0_A :' ,stats.ttest_ind(herfst_status_0_A ,winter_status_0_A ))"
   ]
  },
  {
   "cell_type": "markdown",
   "metadata": {},
   "source": [
    "klimaat B"
   ]
  },
  {
   "cell_type": "code",
   "execution_count": null,
   "metadata": {},
   "outputs": [],
   "source": [
    "lente_status_0 = lost_to_follow_up[lost_to_follow_up['Seizoen'] == 'Lente']\n",
    "lente_status_0_B = lente_status_0[lente_status_0['klimaat'] == 'B Klimaat']\n",
    "lente_status_0_B = lente_status_0_B['Surv_days'].dropna()\n",
    "\n",
    "zomer_status_0 = lost_to_follow_up[lost_to_follow_up['Seizoen'] == 'Zomer']\n",
    "zomer_status_0_B = zomer_status_0[zomer_status_0['klimaat'] == 'B Klimaat']\n",
    "zomer_status_0_B = zomer_status_0_B['Surv_days'].dropna()\n",
    "\n",
    "herfst_status_0 = lost_to_follow_up[lost_to_follow_up['Seizoen'] == 'Herfst']\n",
    "herfst_status_0_B = herfst_status_0[herfst_status_0['klimaat'] == 'B Klimaat']\n",
    "herfst_status_0_B = herfst_status_0_B['Surv_days'].dropna()\n",
    "\n",
    "winter_status_0 = lost_to_follow_up[lost_to_follow_up['Seizoen'] == 'Winter']\n",
    "winter_status_0_B = winter_status_0[winter_status_0['klimaat'] == 'B Klimaat']\n",
    "winter_status_0_B = winter_status_0_B['Surv_days'].dropna()\n"
   ]
  },
  {
   "cell_type": "code",
   "execution_count": null,
   "metadata": {},
   "outputs": [],
   "source": [
    "print('t-toets op groepen lente_status_0_B en zomer_status_0_B :' , stats.ttest_ind(lente_status_0_B, zomer_status_0_B))\n",
    "print('t-toets op groepen lente_status_0_B en herfst_status_0_B :' , stats.ttest_ind(lente_status_0_B, herfst_status_0_B))\n",
    "print('t-toets op groepen lente_status_0_B en winter_status_0_B :' , stats.ttest_ind(lente_status_0_B, winter_status_0_B))\n",
    "print('t-toets op groepen zomer_status_0_B en herfst_status_0_B :' , stats.ttest_ind(zomer_status_0_B, herfst_status_0_B))\n",
    "print('t-toets op groepen zomer_status_0_B en winter_status_0_B :' , stats.ttest_ind(zomer_status_0_B, winter_status_0_B))\n",
    "print('t-toets op groepen herfst_status_0_B en winter_status_0_B :' , stats.ttest_ind(herfst_status_0_B, winter_status_0_B))\n"
   ]
  },
  {
   "cell_type": "markdown",
   "metadata": {},
   "source": [
    "Klimaat C"
   ]
  },
  {
   "cell_type": "code",
   "execution_count": null,
   "metadata": {},
   "outputs": [],
   "source": [
    "lente_status_0 = lost_to_follow_up[lost_to_follow_up['Seizoen'] == 'Lente']\n",
    "lente_status_0_C = lente_status_0[lente_status_0['klimaat'] == 'C Klimaat']\n",
    "lente_status_0_C = lente_status_0_C['Surv_days'].dropna()\n",
    "\n",
    "zomer_status_0 = lost_to_follow_up[lost_to_follow_up['Seizoen'] == 'Zomer']\n",
    "zomer_status_0_C = zomer_status_0[zomer_status_0['klimaat'] == 'C Klimaat']\n",
    "zomer_status_0_C = zomer_status_0_C['Surv_days'].dropna()\n",
    "\n",
    "herfst_status_0 = lost_to_follow_up[lost_to_follow_up['Seizoen'] == 'Herfst']\n",
    "herfst_status_0_C = herfst_status_0[herfst_status_0['klimaat'] == 'C Klimaat']\n",
    "herfst_status_0_C = herfst_status_0_C['Surv_days'].dropna()\n",
    "\n",
    "winter_status_0 = lost_to_follow_up[lost_to_follow_up['Seizoen'] == 'Winter']\n",
    "winter_status_0_C = winter_status_0[winter_status_0['klimaat'] == 'C Klimaat']\n",
    "winter_status_0_C = winter_status_0_C['Surv_days'].dropna()\n"
   ]
  },
  {
   "cell_type": "code",
   "execution_count": null,
   "metadata": {},
   "outputs": [],
   "source": [
    "print('t-toets op groepen lente_status_0_C en zomer_status_0_C :' , stats.ttest_ind(lente_status_0_C, zomer_status_0_C))\n",
    "print('t-toets op groepen lente_status_0_C en herfst_status_0_C :' , stats.ttest_ind(lente_status_0_C, herfst_status_0_C))\n",
    "print('t-toets op groepen lente_status_0_C en winter_status_0_C :' , stats.ttest_ind(lente_status_0_C, winter_status_0_C))\n",
    "print('t-toets op groepen zomer_status_0_C en herfst_status_0_C :' , stats.ttest_ind(zomer_status_0_C, herfst_status_0_C))\n",
    "print('t-toets op groepen zomer_status_0_C en winter_status_0_C :' , stats.ttest_ind(zomer_status_0_C, winter_status_0_C))\n",
    "print('t-toets op groepen herfst_status_0_C en winter_status_0_C :' , stats.ttest_ind(herfst_status_0_C, winter_status_0_C))\n"
   ]
  },
  {
   "cell_type": "markdown",
   "metadata": {},
   "source": [
    "Klimaat D"
   ]
  },
  {
   "cell_type": "code",
   "execution_count": null,
   "metadata": {},
   "outputs": [],
   "source": [
    "lente_status_0 = lost_to_follow_up[lost_to_follow_up['Seizoen'] == 'Lente']\n",
    "lente_status_0_D = lente_status_0[lente_status_0['klimaat'] == 'D Klimaat']\n",
    "lente_status_0_D = lente_status_0_D['Surv_days'].dropna()\n",
    "\n",
    "zomer_status_0 = lost_to_follow_up[lost_to_follow_up['Seizoen'] == 'Zomer']\n",
    "zomer_status_0_D = zomer_status_0[zomer_status_0['klimaat'] == 'D Klimaat']\n",
    "zomer_status_0_D = zomer_status_0_D['Surv_days'].dropna()\n",
    "\n",
    "herfst_status_0 = lost_to_follow_up[lost_to_follow_up['Seizoen'] == 'Herfst']\n",
    "herfst_status_0_D = herfst_status_0[herfst_status_0['klimaat'] == 'D Klimaat']\n",
    "herfst_status_0_D = herfst_status_0_D['Surv_days'].dropna()\n",
    "\n",
    "winter_status_0 = lost_to_follow_up[lost_to_follow_up['Seizoen'] == 'Winter']\n",
    "winter_status_0_D = winter_status_0[winter_status_0['klimaat'] == 'D Klimaat']\n",
    "winter_status_0_D = winter_status_0_D['Surv_days'].dropna()\n"
   ]
  },
  {
   "cell_type": "code",
   "execution_count": null,
   "metadata": {},
   "outputs": [],
   "source": [
    "print('t-toets op groepen lente_status_0_D en zomer_status_0_D :' , stats.ttest_ind(lente_status_0_D, zomer_status_0_D))\n",
    "print('t-toets op groepen lente_status_0_D en herfst_status_0_D :' , stats.ttest_ind(lente_status_0_D, herfst_status_0_D))\n",
    "print('t-toets op groepen lente_status_0_D en winter_status_0_D :' , stats.ttest_ind(lente_status_0_D, winter_status_0_D))\n",
    "print('t-toets op groepen zomer_status_0_D en herfst_status_0_D :' , stats.ttest_ind(zomer_status_0_D, herfst_status_0_D))\n",
    "print('t-toets op groepen zomer_status_0_D en winter_status_0_D :' , stats.ttest_ind(zomer_status_0_D, winter_status_0_D))\n",
    "print('t-toets op groepen herfst_status_0_D en winter_status_0_D :' , stats.ttest_ind(herfst_status_0_D, winter_status_0_D))\n"
   ]
  },
  {
   "cell_type": "markdown",
   "metadata": {},
   "source": [
    "#### in_staat_om_zelfstandig_te_lopen"
   ]
  },
  {
   "cell_type": "code",
   "execution_count": null,
   "metadata": {},
   "outputs": [],
   "source": [
    "in_staat_om_zelfstandig_te_lopen = in_staat_om_zelfstandig_te_lopen[['Surv_days', 'Seizoen','klimaat']]\n",
    "model_4 = ols('Surv_days ~ C(Seizoen)', data=in_staat_om_zelfstandig_te_lopen).fit()\n",
    "anova_table = sm.stats.anova_lm(model_4, typ=2)\n",
    "print(anova_table)"
   ]
  },
  {
   "cell_type": "code",
   "execution_count": null,
   "metadata": {},
   "outputs": [],
   "source": [
    "residuen = model_4.resid\n",
    "print(stats.shapiro(residuen))\n",
    "\n",
    "sm.qqplot(residuen, line = 's' )\n",
    "plt.title('QQ-plot van de reisduen')\n",
    "plt.show()"
   ]
  },
  {
   "cell_type": "code",
   "execution_count": null,
   "metadata": {},
   "outputs": [],
   "source": [
    "lente_status_1 = in_staat_om_zelfstandig_te_lopen[in_staat_om_zelfstandig_te_lopen['Seizoen'] == 'Lente']\n",
    "lente_status_1 = lente_status_1['Surv_days'].dropna()\n",
    "\n",
    "zomer_status_1 = in_staat_om_zelfstandig_te_lopen[in_staat_om_zelfstandig_te_lopen['Seizoen'] == 'Zomer']\n",
    "zomer_status_1 = zomer_status_1['Surv_days'].dropna()\n",
    "\n",
    "herfst_status_1 = in_staat_om_zelfstandig_te_lopen[in_staat_om_zelfstandig_te_lopen['Seizoen'] == 'Herfst']\n",
    "herfst_status_1 = herfst_status_1['Surv_days'].dropna()\n",
    "\n",
    "winter_status_1 = in_staat_om_zelfstandig_te_lopen[in_staat_om_zelfstandig_te_lopen['Seizoen'] == 'Winter']\n",
    "winter_status_1 = winter_status_1['Surv_days'].dropna()"
   ]
  },
  {
   "cell_type": "code",
   "execution_count": null,
   "metadata": {},
   "outputs": [],
   "source": [
    "print('t-toets op groepen lente_status_1 en zomer_status_1:' , stats.ttest_ind(lente_status_1,zomer_status_1))\n",
    "print('t-toets op groepen lente_status_1 en herfst_status_1:' ,stats.ttest_ind(lente_status_1,herfst_status_1))\n",
    "print('t-toets op groepen lente_status_1 en winter_status_1:' ,stats.ttest_ind(lente_status_1,winter_status_1))\n",
    "print('t-toets op groepen zomer_status_1 en herfst_status_1:' ,stats.ttest_ind(zomer_status_1,herfst_status_1))\n",
    "print('t-toets op groepen zomer_status_1 en winter_status_1:' ,stats.ttest_ind(zomer_status_1,winter_status_1))\n",
    "print('t-toets op groepen herfst_status_1 en winter_status_1:' ,stats.ttest_ind(herfst_status_1,winter_status_1))"
   ]
  },
  {
   "cell_type": "code",
   "execution_count": null,
   "metadata": {},
   "outputs": [],
   "source": [
    "in_staat_om_zelfstandig_te_lopen['Seizoen'].groupby(in_staat_om_zelfstandig_te_lopen['klimaat']).value_counts()"
   ]
  },
  {
   "cell_type": "markdown",
   "metadata": {},
   "source": [
    "klimaat A"
   ]
  },
  {
   "cell_type": "code",
   "execution_count": null,
   "metadata": {},
   "outputs": [],
   "source": [
    "lente_status_1 = in_staat_om_zelfstandig_te_lopen[in_staat_om_zelfstandig_te_lopen['Seizoen'] == 'Lente']\n",
    "lente_status_1_A = lente_status_1[lente_status_1['klimaat'] == 'A Klimaat']\n",
    "lente_status_1_A = lente_status_1_A['Surv_days'].dropna()\n",
    "\n",
    "zomer_status_1 = in_staat_om_zelfstandig_te_lopen[in_staat_om_zelfstandig_te_lopen['Seizoen'] == 'Zomer']\n",
    "zomer_status_1_A = zomer_status_1[zomer_status_1['klimaat'] == 'A Klimaat']\n",
    "zomer_status_1_A = zomer_status_1_A['Surv_days'].dropna()\n",
    "\n",
    "herfst_status_1  = in_staat_om_zelfstandig_te_lopen[in_staat_om_zelfstandig_te_lopen['Seizoen'] == 'Herfst']\n",
    "herfst_status_1_A = herfst_status_1[herfst_status_1['klimaat'] == 'A Klimaat']\n",
    "herfst_status_1_A  = herfst_status_1_A ['Surv_days'].dropna()\n",
    "\n",
    "winter_status_1  = in_staat_om_zelfstandig_te_lopen[in_staat_om_zelfstandig_te_lopen['Seizoen'] == 'Winter']\n",
    "winter_status_1_A = winter_status_1[winter_status_1['klimaat'] == 'A Klimaat']\n",
    "winter_status_1_A  = winter_status_1_A ['Surv_days'].dropna()"
   ]
  },
  {
   "cell_type": "code",
   "execution_count": null,
   "metadata": {},
   "outputs": [],
   "source": [
    "print('t-toets op groepen lente_status_1_A  en zomer_status_1_A :' , stats.ttest_ind(lente_status_1_A ,zomer_status_1_A ))\n",
    "print('t-toets op groepen lente_status_1_A  en herfst_status_1_A :' ,stats.ttest_ind(lente_status_1_A ,herfst_status_1_A ))\n",
    "print('t-toets op groepen lente_status_1_A  en winter_status_1_A :' ,stats.ttest_ind(lente_status_1_A ,winter_status_1_A ))\n",
    "print('t-toets op groepen zomer_status_1_A  en herfst_status_1_A :' ,stats.ttest_ind(zomer_status_1_A ,herfst_status_1_A ))\n",
    "print('t-toets op groepen zomer_status_1_A  en winter_status_1_A :' ,stats.ttest_ind(zomer_status_1_A ,winter_status_1_A ))\n",
    "print('t-toets op groepen herfst_status_1_A  en winter_status_1_A :' ,stats.ttest_ind(herfst_status_1_A ,winter_status_1_A ))"
   ]
  },
  {
   "cell_type": "markdown",
   "metadata": {},
   "source": [
    "klimaat B"
   ]
  },
  {
   "cell_type": "code",
   "execution_count": null,
   "metadata": {},
   "outputs": [],
   "source": [
    "lente_status_1 = in_staat_om_zelfstandig_te_lopen[in_staat_om_zelfstandig_te_lopen['Seizoen'] == 'Lente']\n",
    "lente_status_1_B = lente_status_1[lente_status_1['klimaat'] == 'B Klimaat']\n",
    "lente_status_1_B = lente_status_1_B['Surv_days'].dropna()\n",
    "\n",
    "zomer_status_1 = in_staat_om_zelfstandig_te_lopen[in_staat_om_zelfstandig_te_lopen['Seizoen'] == 'Zomer']\n",
    "zomer_status_1_B = zomer_status_1[zomer_status_1['klimaat'] == 'B Klimaat']\n",
    "zomer_status_1_B = zomer_status_1_B['Surv_days'].dropna()\n",
    "\n",
    "herfst_status_1 = in_staat_om_zelfstandig_te_lopen[in_staat_om_zelfstandig_te_lopen['Seizoen'] == 'Herfst']\n",
    "herfst_status_1_B = herfst_status_1[herfst_status_1['klimaat'] == 'B Klimaat']\n",
    "herfst_status_1_B = herfst_status_1_B['Surv_days'].dropna()\n",
    "\n",
    "winter_status_1 = in_staat_om_zelfstandig_te_lopen[in_staat_om_zelfstandig_te_lopen['Seizoen'] == 'Winter']\n",
    "winter_status_1_B = winter_status_1[winter_status_1['klimaat'] == 'B Klimaat']\n",
    "winter_status_1_B = winter_status_1_B['Surv_days'].dropna()\n"
   ]
  },
  {
   "cell_type": "code",
   "execution_count": null,
   "metadata": {},
   "outputs": [],
   "source": [
    "print('t-toets op groepen lente_status_1_B en zomer_status_1_B :' , stats.ttest_ind(lente_status_1_B, zomer_status_1_B))\n",
    "print('t-toets op groepen lente_status_1_B en herfst_status_1_B :' , stats.ttest_ind(lente_status_1_B, herfst_status_1_B))\n",
    "print('t-toets op groepen lente_status_1_B en winter_status_1_B :' , stats.ttest_ind(lente_status_1_B, winter_status_1_B))\n",
    "print('t-toets op groepen zomer_status_1_B en herfst_status_1_B :' , stats.ttest_ind(zomer_status_1_B, herfst_status_1_B))\n",
    "print('t-toets op groepen zomer_status_1_B en winter_status_1_B :' , stats.ttest_ind(zomer_status_1_B, winter_status_1_B))\n",
    "print('t-toets op groepen herfst_status_1_B en winter_status_1_B :' , stats.ttest_ind(herfst_status_1_B, winter_status_1_B))\n"
   ]
  },
  {
   "cell_type": "markdown",
   "metadata": {},
   "source": [
    "klimaat C"
   ]
  },
  {
   "cell_type": "code",
   "execution_count": null,
   "metadata": {},
   "outputs": [],
   "source": [
    "lente_status_1 = in_staat_om_zelfstandig_te_lopen[in_staat_om_zelfstandig_te_lopen['Seizoen'] == 'Lente']\n",
    "lente_status_1_C = lente_status_1[lente_status_1['klimaat'] == 'C Klimaat']\n",
    "lente_status_1_C = lente_status_1_C['Surv_days'].dropna()\n",
    "\n",
    "zomer_status_1 = in_staat_om_zelfstandig_te_lopen[in_staat_om_zelfstandig_te_lopen['Seizoen'] == 'Zomer']\n",
    "zomer_status_1_C = zomer_status_1[zomer_status_1['klimaat'] == 'C Klimaat']\n",
    "zomer_status_1_C = zomer_status_1_C['Surv_days'].dropna()\n",
    "\n",
    "herfst_status_1 = in_staat_om_zelfstandig_te_lopen[in_staat_om_zelfstandig_te_lopen['Seizoen'] == 'Herfst']\n",
    "herfst_status_1_C = herfst_status_1[herfst_status_1['klimaat'] == 'C Klimaat']\n",
    "herfst_status_1_C = herfst_status_1_C['Surv_days'].dropna()\n",
    "\n",
    "winter_status_1 = in_staat_om_zelfstandig_te_lopen[in_staat_om_zelfstandig_te_lopen['Seizoen'] == 'Winter']\n",
    "winter_status_1_C = winter_status_1[winter_status_1['klimaat'] == 'C Klimaat']\n",
    "winter_status_1_C = winter_status_1_C['Surv_days'].dropna()\n"
   ]
  },
  {
   "cell_type": "code",
   "execution_count": null,
   "metadata": {},
   "outputs": [],
   "source": [
    "print('t-toets op groepen lente_status_1_C en zomer_status_1_C :' , stats.ttest_ind(lente_status_1_C, zomer_status_1_C))\n",
    "print('t-toets op groepen lente_status_1_C en herfst_status_1_C :' , stats.ttest_ind(lente_status_1_C, herfst_status_1_C))\n",
    "print('t-toets op groepen lente_status_1_C en winter_status_1_C :' , stats.ttest_ind(lente_status_1_C, winter_status_1_C))\n",
    "print('t-toets op groepen zomer_status_1_C en herfst_status_1_C :' , stats.ttest_ind(zomer_status_1_C, herfst_status_1_C))\n",
    "print('t-toets op groepen zomer_status_1_C en winter_status_1_C :' , stats.ttest_ind(zomer_status_1_C, winter_status_1_C))\n",
    "print('t-toets op groepen herfst_status_1_C en winter_status_1_C :' , stats.ttest_ind(herfst_status_1_C, winter_status_1_C))\n"
   ]
  },
  {
   "cell_type": "markdown",
   "metadata": {},
   "source": [
    "klimaat D"
   ]
  },
  {
   "cell_type": "code",
   "execution_count": null,
   "metadata": {},
   "outputs": [],
   "source": [
    "lente_status_1 = in_staat_om_zelfstandig_te_lopen[in_staat_om_zelfstandig_te_lopen['Seizoen'] == 'Lente']\n",
    "lente_status_1_D = lente_status_1[lente_status_1['klimaat'] == 'D Klimaat']\n",
    "lente_status_1_D = lente_status_1_D['Surv_days'].dropna()\n",
    "\n",
    "zomer_status_1 = in_staat_om_zelfstandig_te_lopen[in_staat_om_zelfstandig_te_lopen['Seizoen'] == 'Zomer']\n",
    "zomer_status_1_D = zomer_status_1[zomer_status_1['klimaat'] == 'D Klimaat']\n",
    "zomer_status_1_D = zomer_status_1_D['Surv_days'].dropna()\n",
    "\n",
    "herfst_status_1 = in_staat_om_zelfstandig_te_lopen[in_staat_om_zelfstandig_te_lopen['Seizoen'] == 'Herfst']\n",
    "herfst_status_1_D = herfst_status_1[herfst_status_1['klimaat'] == 'D Klimaat']\n",
    "herfst_status_1_D = herfst_status_1_D['Surv_days'].dropna()\n",
    "\n",
    "winter_status_1 = in_staat_om_zelfstandig_te_lopen[in_staat_om_zelfstandig_te_lopen['Seizoen'] == 'Winter']\n",
    "winter_status_1_D = winter_status_1[winter_status_1['klimaat'] == 'D Klimaat']\n",
    "winter_status_1_D = winter_status_1_D['Surv_days'].dropna()\n"
   ]
  },
  {
   "cell_type": "code",
   "execution_count": null,
   "metadata": {},
   "outputs": [],
   "source": [
    "print('t-toets op groepen lente_status_1_D en zomer_status_1_D :' , stats.ttest_ind(lente_status_1_D, zomer_status_1_D))\n",
    "print('t-toets op groepen lente_status_1_D en herfst_status_1_D :' , stats.ttest_ind(lente_status_1_D, herfst_status_1_D))\n",
    "print('t-toets op groepen lente_status_1_D en winter_status_1_D :' , stats.ttest_ind(lente_status_1_D, winter_status_1_D))\n",
    "print('t-toets op groepen zomer_status_1_D en herfst_status_1_D :' , stats.ttest_ind(zomer_status_1_D, herfst_status_1_D))\n",
    "print('t-toets op groepen zomer_status_1_D en winter_status_1_D :' , stats.ttest_ind(zomer_status_1_D, winter_status_1_D))\n",
    "print('t-toets op groepen herfst_status_1_D en winter_status_1_D :' , stats.ttest_ind(herfst_status_1_D, winter_status_1_D))\n"
   ]
  },
  {
   "cell_type": "code",
   "execution_count": null,
   "metadata": {},
   "outputs": [],
   "source": []
  },
  {
   "cell_type": "markdown",
   "metadata": {},
   "source": [
    "#### overleden"
   ]
  },
  {
   "cell_type": "code",
   "execution_count": null,
   "metadata": {},
   "outputs": [],
   "source": [
    "overleden = overleden[['Surv_days', 'Seizoen','klimaat']]\n",
    "model_5 = ols('Surv_days ~ C(Seizoen)', data=overleden).fit()\n",
    "anova_table = sm.stats.anova_lm(model_5, typ=2)\n",
    "print(anova_table)"
   ]
  },
  {
   "cell_type": "code",
   "execution_count": null,
   "metadata": {},
   "outputs": [],
   "source": [
    "residuen = model_5.resid\n",
    "print(stats.shapiro(residuen))\n",
    "\n",
    "sm.qqplot(residuen, line = 's' )\n",
    "plt.title('QQ-plot van de reisduen')\n",
    "plt.show()"
   ]
  },
  {
   "cell_type": "code",
   "execution_count": null,
   "metadata": {},
   "outputs": [],
   "source": []
  },
  {
   "cell_type": "markdown",
   "metadata": {},
   "source": [
    "Voldoet niet aan normaliteit, dus er zullen t toetsen gedaan worden"
   ]
  },
  {
   "cell_type": "code",
   "execution_count": null,
   "metadata": {},
   "outputs": [],
   "source": []
  },
  {
   "cell_type": "code",
   "execution_count": null,
   "metadata": {},
   "outputs": [],
   "source": [
    "lente_status_2 = overleden[overleden['Seizoen'] == 'Lente']\n",
    "lente_status_2 = lente_status_2['Surv_days'].dropna()\n",
    "\n",
    "zomer_status_2 = overleden[overleden['Seizoen'] == 'Zomer']\n",
    "zomer_status_2 = zomer_status_2['Surv_days'].dropna()\n",
    "\n",
    "herfst_status_2  = overleden[overleden['Seizoen'] == 'Herfst']\n",
    "herfst_status_2  = herfst_status_2 ['Surv_days'].dropna()\n",
    "\n",
    "winter_status_2  = overleden[overleden['Seizoen'] == 'Winter']\n",
    "winter_status_2  = winter_status_2 ['Surv_days'].dropna()"
   ]
  },
  {
   "cell_type": "code",
   "execution_count": null,
   "metadata": {},
   "outputs": [],
   "source": [
    "print('t-toets op groepen lente_status_2  en zomer_status_2 :' , stats.ttest_ind(lente_status_2 ,zomer_status_2 ))\n",
    "print('t-toets op groepen lente_status_2  en herfst_status_2 :' ,stats.ttest_ind(lente_status_2 ,herfst_status_2 ))\n",
    "print('t-toets op groepen lente_status_2  en winter_status_2 :' ,stats.ttest_ind(lente_status_2 ,winter_status_2 ))\n",
    "print('t-toets op groepen zomer_status_2  en herfst_status_2 :' ,stats.ttest_ind(zomer_status_2 ,herfst_status_2 ))\n",
    "print('t-toets op groepen zomer_status_2  en winter_status_2 :' ,stats.ttest_ind(zomer_status_2 ,winter_status_2 ))\n",
    "print('t-toets op groepen herfst_status_2  en winter_status_2 :' ,stats.ttest_ind(herfst_status_2 ,winter_status_2 ))"
   ]
  },
  {
   "cell_type": "code",
   "execution_count": null,
   "metadata": {},
   "outputs": [],
   "source": [
    "overleden['Seizoen'].groupby(overleden['klimaat']).value_counts()"
   ]
  },
  {
   "cell_type": "markdown",
   "metadata": {},
   "source": [
    "Voor een Anova heb je minimaal 3 waarden nodig. Voor klimaat B en D kunnen er dus geen toetsen worden uitgevoerd. Voor klimaat A Kunnen Herfst en Zomer vergeken worden\n",
    "en voor klimaat C alles"
   ]
  },
  {
   "cell_type": "markdown",
   "metadata": {},
   "source": [
    "Klimaat A\n"
   ]
  },
  {
   "cell_type": "code",
   "execution_count": null,
   "metadata": {},
   "outputs": [],
   "source": [
    "zomer_status_2 = overleden[overleden['Seizoen'] == 'Zomer']\n",
    "zomer_status_2_A = zomer_status_2[zomer_status_2['klimaat'] == 'A Klimaat']\n",
    "zomer_status_2_A = zomer_status_2_A['Surv_days'].dropna()\n",
    "\n",
    "herfst_status_2  = overleden[overleden['Seizoen'] == 'Herfst']\n",
    "herfst_status_2_A = herfst_status_2[herfst_status_2['klimaat'] == 'A Klimaat']\n",
    "herfst_status_2_A  = herfst_status_2_A ['Surv_days'].dropna()\n"
   ]
  },
  {
   "cell_type": "code",
   "execution_count": null,
   "metadata": {},
   "outputs": [],
   "source": [
    "print('t-toets op groepen zomer_status_2_A  en herfst_status_2_A :' ,stats.ttest_ind(zomer_status_2_A ,herfst_status_2_A ))"
   ]
  },
  {
   "cell_type": "markdown",
   "metadata": {},
   "source": [
    "Klimaat C"
   ]
  },
  {
   "cell_type": "code",
   "execution_count": null,
   "metadata": {},
   "outputs": [],
   "source": [
    "lente_status_2 = overleden[overleden['Seizoen'] == 'Lente']\n",
    "lente_status_2_C = lente_status_2[lente_status_2['klimaat'] == 'C Klimaat']\n",
    "lente_status_2_C = lente_status_2_C['Surv_days'].dropna()\n",
    "\n",
    "zomer_status_2 = overleden[overleden['Seizoen'] == 'Zomer']\n",
    "zomer_status_2_C = zomer_status_2[zomer_status_2['klimaat'] == 'C Klimaat']\n",
    "zomer_status_2_C = zomer_status_2_C['Surv_days'].dropna()\n",
    "\n",
    "herfst_status_2  = overleden[overleden['Seizoen'] == 'Herfst']\n",
    "herfst_status_2_C = herfst_status_2[herfst_status_2['klimaat'] == 'C Klimaat']\n",
    "herfst_status_2_C  = herfst_status_2_C ['Surv_days'].dropna()\n",
    "\n",
    "winter_status_2  = overleden[overleden['Seizoen'] == 'Winter']\n",
    "winter_status_2_C = winter_status_2[winter_status_2['klimaat'] == 'C Klimaat']\n",
    "winter_status_2_C  = winter_status_2_C ['Surv_days'].dropna()"
   ]
  },
  {
   "cell_type": "code",
   "execution_count": null,
   "metadata": {},
   "outputs": [],
   "source": [
    "print('t-toets op groepen lente_status_2_C  en zomer_status_2_C :' , stats.ttest_ind(lente_status_2_C ,zomer_status_2_C ))\n",
    "print('t-toets op groepen lente_status_2_C  en herfst_status_2_C :' ,stats.ttest_ind(lente_status_2_C ,herfst_status_2_C ))\n",
    "print('t-toets op groepen lente_status_2_C  en winter_status_2_C :' ,stats.ttest_ind(lente_status_2_C ,winter_status_2_C ))\n",
    "print('t-toets op groepen zomer_status_2_C  en herfst_status_2_C :' ,stats.ttest_ind(zomer_status_2_C ,herfst_status_2_C ))\n",
    "print('t-toets op groepen zomer_status_2_C  en winter_status_2_C :' ,stats.ttest_ind(zomer_status_2_C ,winter_status_2_C ))\n",
    "print('t-toets op groepen herfst_status_2_C en winter_status_2_C :' ,stats.ttest_ind(herfst_status_2_C ,winter_status_2_C ))"
   ]
  },
  {
   "cell_type": "code",
   "execution_count": null,
   "metadata": {},
   "outputs": [],
   "source": []
  },
  {
   "cell_type": "code",
   "execution_count": null,
   "metadata": {},
   "outputs": [],
   "source": []
  },
  {
   "cell_type": "code",
   "execution_count": null,
   "metadata": {},
   "outputs": [],
   "source": []
  },
  {
   "cell_type": "code",
   "execution_count": null,
   "metadata": {},
   "outputs": [],
   "source": []
  },
  {
   "cell_type": "code",
   "execution_count": null,
   "metadata": {},
   "outputs": [],
   "source": []
  },
  {
   "cell_type": "code",
   "execution_count": null,
   "metadata": {},
   "outputs": [],
   "source": []
  },
  {
   "cell_type": "markdown",
   "metadata": {},
   "source": [
    "#### CSF_protein_level"
   ]
  },
  {
   "cell_type": "code",
   "execution_count": null,
   "metadata": {},
   "outputs": [],
   "source": [
    "df_csf = df[['CSF_protein_level', 'Seizoen', 'klimaat']]\n",
    "model_6 = ols('CSF_protein_level ~ C(Seizoen)', data=df_csf).fit()\n",
    "anova_table = sm.stats.anova_lm(model_6, typ=2)\n",
    "print(anova_table)\n"
   ]
  },
  {
   "cell_type": "code",
   "execution_count": null,
   "metadata": {},
   "outputs": [],
   "source": [
    "residuen = model_6.resid\n",
    "print(stats.shapiro(residuen))\n",
    "\n",
    "sm.qqplot(residuen, line = 's' )\n",
    "plt.title('QQ-plot van de reisduen')\n",
    "plt.show()"
   ]
  },
  {
   "cell_type": "code",
   "execution_count": null,
   "metadata": {},
   "outputs": [],
   "source": [
    "sns.boxplot(data=df_csf, x=\"CSF_protein_level\", y=\"Seizoen\")"
   ]
  },
  {
   "cell_type": "code",
   "execution_count": null,
   "metadata": {},
   "outputs": [],
   "source": [
    "Q1 = df_csf['CSF_protein_level'].quantile(0.0)\n",
    "Q3 = df_csf['CSF_protein_level'].quantile(0.95)\n",
    "IQR = Q3 - Q1\n",
    "\n",
    "# identify outliers\n",
    "threshold = 1.5\n",
    "outliners = df_csf[(df_csf['CSF_protein_level'] < Q1 - threshold * IQR) | (df_csf['CSF_protein_level'] > Q3 + threshold * IQR)]"
   ]
  },
  {
   "cell_type": "code",
   "execution_count": null,
   "metadata": {},
   "outputs": [],
   "source": [
    "uitbijters = outliners['CSF_protein_level']"
   ]
  },
  {
   "cell_type": "code",
   "execution_count": null,
   "metadata": {},
   "outputs": [],
   "source": [
    "for i in uitbijters:\n",
    "    df_csf = df_csf.drop(df_csf[df_csf['CSF_protein_level'] == i].index)"
   ]
  },
  {
   "cell_type": "markdown",
   "metadata": {},
   "source": [
    "##### outliner van csf_protein_level verwijderen"
   ]
  },
  {
   "cell_type": "code",
   "execution_count": null,
   "metadata": {},
   "outputs": [],
   "source": [
    "df_csf"
   ]
  },
  {
   "cell_type": "code",
   "execution_count": null,
   "metadata": {},
   "outputs": [],
   "source": [
    "sns.boxplot(data=df_csf, x=\"CSF_protein_level\", y=\"Seizoen\")"
   ]
  },
  {
   "cell_type": "code",
   "execution_count": null,
   "metadata": {},
   "outputs": [],
   "source": [
    "model_7 = ols('CSF_protein_level ~ C(Seizoen)', data=df_csf).fit()\n",
    "anova_table = sm.stats.anova_lm(model_7, typ=2)\n",
    "print(anova_table)\n"
   ]
  },
  {
   "cell_type": "code",
   "execution_count": null,
   "metadata": {},
   "outputs": [],
   "source": [
    "residuen = model_7.resid\n",
    "print(stats.shapiro(residuen))\n",
    "\n",
    "sm.qqplot(residuen, line = 's' )\n",
    "plt.title('QQ-plot van de reisduen')\n",
    "plt.show()"
   ]
  },
  {
   "cell_type": "markdown",
   "metadata": {},
   "source": [
    "Anova mag niet vanwege gebrek aan normaliteit"
   ]
  },
  {
   "cell_type": "code",
   "execution_count": null,
   "metadata": {},
   "outputs": [],
   "source": []
  },
  {
   "cell_type": "code",
   "execution_count": null,
   "metadata": {},
   "outputs": [],
   "source": []
  },
  {
   "cell_type": "code",
   "execution_count": null,
   "metadata": {},
   "outputs": [],
   "source": [
    "lente_csf = df_csf[df_csf['Seizoen'] == 'Lente']\n",
    "lente_csf = lente_csf['CSF_protein_level'].dropna()\n",
    "\n",
    "zomer_csf = df_csf[df_csf['Seizoen'] == 'Zomer']\n",
    "zomer_csf = zomer_csf['CSF_protein_level'].dropna()\n",
    "\n",
    "herfst_csf  = df_csf[df_csf['Seizoen'] == 'Herfst']\n",
    "herfst_csf  = herfst_csf['CSF_protein_level'].dropna()\n",
    "\n",
    "winter_csf  = df_csf[df_csf['Seizoen'] == 'Winter']\n",
    "winter_csf  = winter_csf['CSF_protein_level'].dropna()"
   ]
  },
  {
   "cell_type": "code",
   "execution_count": null,
   "metadata": {},
   "outputs": [],
   "source": [
    "print('t-toets op groepen lente_csf  en zomer_csf :' , stats.ttest_ind(lente_csf ,zomer_csf ))\n",
    "print('t-toets op groepen lente_csf  en herfst_csf :' ,stats.ttest_ind(lente_csf ,herfst_csf ))\n",
    "print('t-toets op groepen lente_csf  en winter_csf :' ,stats.ttest_ind(lente_csf ,winter_csf ))\n",
    "print('t-toets op groepen zomer_csf  en herfst_csf :' ,stats.ttest_ind(zomer_csf ,herfst_csf ))\n",
    "print('t-toets op groepen zomer_csf  en winter_csf :' ,stats.ttest_ind(zomer_csf ,winter_csf ))\n",
    "print('t-toets op groepen herfst_csf  en winter_csf :' ,stats.ttest_ind(herfst_csf ,winter_csf ))"
   ]
  },
  {
   "cell_type": "code",
   "execution_count": null,
   "metadata": {},
   "outputs": [],
   "source": [
    "df_csf['Seizoen'].groupby(df_csf['klimaat']).value_counts()"
   ]
  },
  {
   "cell_type": "markdown",
   "metadata": {},
   "source": [
    "Nu voor elk klimaat "
   ]
  },
  {
   "cell_type": "markdown",
   "metadata": {},
   "source": [
    "Klimaat A"
   ]
  },
  {
   "cell_type": "code",
   "execution_count": null,
   "metadata": {},
   "outputs": [],
   "source": [
    "lente_csf = df_csf[df_csf['Seizoen'] == 'Lente']\n",
    "lente_csf_A = lente_csf[lente_csf['klimaat'] == 'A Klimaat']\n",
    "lente_csf_A = lente_csf_A['CSF_protein_level'].dropna()\n",
    "\n",
    "zomer_csf = df_csf[df_csf['Seizoen'] == 'Zomer']\n",
    "zomer_csf_A = zomer_csf[zomer_csf['klimaat'] == 'A Klimaat']\n",
    "zomer_csf_A = zomer_csf_A['CSF_protein_level'].dropna()\n",
    "\n",
    "herfst_csf  = df_csf[df_csf['Seizoen'] == 'Herfst']\n",
    "herfst_csf_A = herfst_csf[herfst_csf['klimaat'] == 'A Klimaat']\n",
    "herfst_csf_A  = herfst_csf_A ['CSF_protein_level'].dropna()\n",
    "\n",
    "winter_csf  = df_csf[df_csf['Seizoen'] == 'Winter']\n",
    "winter_csf_A = winter_csf[winter_csf['klimaat'] == 'A Klimaat']\n",
    "winter_csf_A  = winter_csf_A ['CSF_protein_level'].dropna()"
   ]
  },
  {
   "cell_type": "code",
   "execution_count": null,
   "metadata": {},
   "outputs": [],
   "source": [
    "print('t-toets op groepen lente_csf_A  en zomer_csf_A :' , stats.ttest_ind(lente_csf_A ,zomer_csf_A ))\n",
    "print('t-toets op groepen lente_csf_A  en herfst_csf_A :' ,stats.ttest_ind(lente_csf_A ,herfst_csf_A ))\n",
    "print('t-toets op groepen lente_csf_A  en winter_csf_A :' ,stats.ttest_ind(lente_csf_A ,winter_csf_A ))\n",
    "print('t-toets op groepen zomer_csf_A  en herfst_csf_A :' ,stats.ttest_ind(zomer_csf_A ,herfst_csf_A ))\n",
    "print('t-toets op groepen zomer_csf_A  en winter_csf_A :' ,stats.ttest_ind(zomer_csf_A ,winter_csf_A ))\n",
    "print('t-toets op groepen herfst_csf_A  en winter_csf_A :' ,stats.ttest_ind(herfst_csf_A ,winter_csf_A ))"
   ]
  },
  {
   "cell_type": "markdown",
   "metadata": {},
   "source": []
  },
  {
   "cell_type": "markdown",
   "metadata": {},
   "source": [
    "Klimaat B"
   ]
  },
  {
   "cell_type": "code",
   "execution_count": null,
   "metadata": {},
   "outputs": [],
   "source": [
    "lente_csf = df_csf[df_csf['Seizoen'] == 'Lente']\n",
    "lente_csf_B = lente_csf[lente_csf['klimaat'] == 'B Klimaat']\n",
    "lente_csf_B = lente_csf_B['CSF_protein_level'].dropna()\n",
    "\n",
    "zomer_csf = df_csf[df_csf['Seizoen'] == 'Zomer']\n",
    "zomer_csf_B = zomer_csf[zomer_csf['klimaat'] == 'B Klimaat']\n",
    "zomer_csf_B = zomer_csf_B['CSF_protein_level'].dropna()\n",
    "\n",
    "herfst_csf  = df_csf[df_csf['Seizoen'] == 'Herfst']\n",
    "herfst_csf_B = herfst_csf[herfst_csf['klimaat'] == 'B Klimaat']\n",
    "herfst_csf_B  = herfst_csf_B ['CSF_protein_level'].dropna()\n",
    "\n",
    "winter_csf  = df_csf[df_csf['Seizoen'] == 'Winter']\n",
    "winter_csf_B = winter_csf[winter_csf['klimaat'] == 'B Klimaat']\n",
    "winter_csf_B  = winter_csf_B ['CSF_protein_level'].dropna()"
   ]
  },
  {
   "cell_type": "code",
   "execution_count": null,
   "metadata": {},
   "outputs": [],
   "source": [
    "print('t-toets op groepen lente_csf_B  en zomer_csf_B :' , stats.ttest_ind(lente_csf_B ,zomer_csf_B ))\n",
    "print('t-toets op groepen lente_csf_B  en herfst_csf_B :' ,stats.ttest_ind(lente_csf_B ,herfst_csf_B ))\n",
    "print('t-toets op groepen lente_csf_B  en winter_csf_B :' ,stats.ttest_ind(lente_csf_B ,winter_csf_B ))\n",
    "print('t-toets op groepen zomer_csf_B  en herfst_csf_B :' ,stats.ttest_ind(zomer_csf_B ,herfst_csf_B ))\n",
    "print('t-toets op groepen zomer_csf_B  en winter_csf_B :' ,stats.ttest_ind(zomer_csf_B ,winter_csf_B ))\n",
    "print('t-toets op groepen herfst_csf_B  en winter_csf_B :' ,stats.ttest_ind(herfst_csf_B ,winter_csf_B ))"
   ]
  },
  {
   "cell_type": "code",
   "execution_count": null,
   "metadata": {},
   "outputs": [],
   "source": []
  },
  {
   "cell_type": "markdown",
   "metadata": {},
   "source": [
    "Klimaat C"
   ]
  },
  {
   "cell_type": "code",
   "execution_count": null,
   "metadata": {},
   "outputs": [],
   "source": [
    "lente_csf = df_csf[df_csf['Seizoen'] == 'Lente']\n",
    "lente_csf_C = lente_csf[lente_csf['klimaat'] == 'C Klimaat']\n",
    "lente_csf_C = lente_csf_C['CSF_protein_level'].dropna()\n",
    "\n",
    "zomer_csf = df_csf[df_csf['Seizoen'] == 'Zomer']\n",
    "zomer_csf_C = zomer_csf[zomer_csf['klimaat'] == 'C Klimaat']\n",
    "zomer_csf_C = zomer_csf_C['CSF_protein_level'].dropna()\n",
    "\n",
    "herfst_csf  = df_csf[df_csf['Seizoen'] == 'Herfst']\n",
    "herfst_csf_C = herfst_csf[herfst_csf['klimaat'] == 'C Klimaat']\n",
    "herfst_csf_C  = herfst_csf_C['CSF_protein_level'].dropna()\n",
    "\n",
    "winter_csf  = df_csf[df_csf['Seizoen'] == 'Winter']\n",
    "winter_csf_C = winter_csf[winter_csf['klimaat'] == 'C Klimaat']\n",
    "winter_csf_C  = winter_csf_C['CSF_protein_level'].dropna()"
   ]
  },
  {
   "cell_type": "code",
   "execution_count": null,
   "metadata": {},
   "outputs": [],
   "source": [
    "print('t-toets op groepen lente_csf_C  en zomer_csf_C :' , stats.ttest_ind(lente_csf_C ,zomer_csf_C ))\n",
    "print('t-toets op groepen lente_csf_C  en herfst_csf_C :' ,stats.ttest_ind(lente_csf_C ,herfst_csf_C ))\n",
    "print('t-toets op groepen lente_csf_C  en winter_csf_C :' ,stats.ttest_ind(lente_csf_C ,winter_csf_C ))\n",
    "print('t-toets op groepen zomer_csf_C  en herfst_csf_C :' ,stats.ttest_ind(zomer_csf_C ,herfst_csf_C ))\n",
    "print('t-toets op groepen zomer_csf_C  en winter_csf_C :' ,stats.ttest_ind(zomer_csf_C ,winter_csf_C ))\n",
    "print('t-toets op groepen herfst_csf_C  en winter_csf_C :' ,stats.ttest_ind(herfst_csf_C ,winter_csf_C ))"
   ]
  },
  {
   "cell_type": "code",
   "execution_count": null,
   "metadata": {},
   "outputs": [],
   "source": []
  },
  {
   "cell_type": "markdown",
   "metadata": {},
   "source": [
    "Klimaat D"
   ]
  },
  {
   "cell_type": "code",
   "execution_count": null,
   "metadata": {},
   "outputs": [],
   "source": [
    "lente_csf = df_csf[df_csf['Seizoen'] == 'Lente']\n",
    "lente_csf_D = lente_csf[lente_csf['klimaat'] == 'D Klimaat']\n",
    "lente_csf_D = lente_csf_D['CSF_protein_level'].dropna()\n",
    "\n",
    "zomer_csf = df_csf[df_csf['Seizoen'] == 'Zomer']\n",
    "zomer_csf_D = zomer_csf[zomer_csf['klimaat'] == 'D Klimaat']\n",
    "zomer_csf_D = zomer_csf_D['CSF_protein_level'].dropna()\n",
    "\n",
    "herfst_csf  = df_csf[df_csf['Seizoen'] == 'Herfst']\n",
    "herfst_csf_D = herfst_csf[herfst_csf['klimaat'] == 'D Klimaat']\n",
    "herfst_csf_D  = herfst_csf_D['CSF_protein_level'].dropna()\n",
    "\n",
    "winter_csf  = df_csf[df_csf['Seizoen'] == 'Winter']\n",
    "winter_csf_D = winter_csf[winter_csf['klimaat'] == 'D Klimaat']\n",
    "winter_csf_D  = winter_csf_D['CSF_protein_level'].dropna()"
   ]
  },
  {
   "cell_type": "code",
   "execution_count": null,
   "metadata": {},
   "outputs": [],
   "source": [
    "print('t-toets op groepen lente_csf_D  en zomer_csf_D :' , stats.ttest_ind(lente_csf_D ,zomer_csf_D ))\n",
    "print('t-toets op groepen lente_csf_D  en herfst_csf_D :' ,stats.ttest_ind(lente_csf_D ,herfst_csf_D ))\n",
    "print('t-toets op groepen lente_csf_D  en winter_csf_D :' ,stats.ttest_ind(lente_csf_D ,winter_csf_D ))\n",
    "print('t-toets op groepen zomer_csf_D  en herfst_csf_D :' ,stats.ttest_ind(zomer_csf_D ,herfst_csf_D ))\n",
    "print('t-toets op groepen zomer_csf_D  en winter_csf_D :' ,stats.ttest_ind(zomer_csf_D ,winter_csf_D ))\n",
    "print('t-toets op groepen herfst_csf_D  en winter_csf_D :' ,stats.ttest_ind(herfst_csf_D ,winter_csf_D ))"
   ]
  },
  {
   "cell_type": "code",
   "execution_count": null,
   "metadata": {},
   "outputs": [],
   "source": []
  },
  {
   "cell_type": "code",
   "execution_count": null,
   "metadata": {},
   "outputs": [],
   "source": []
  },
  {
   "cell_type": "code",
   "execution_count": null,
   "metadata": {},
   "outputs": [],
   "source": []
  },
  {
   "cell_type": "code",
   "execution_count": null,
   "metadata": {},
   "outputs": [],
   "source": []
  },
  {
   "cell_type": "code",
   "execution_count": null,
   "metadata": {},
   "outputs": [],
   "source": []
  },
  {
   "cell_type": "code",
   "execution_count": null,
   "metadata": {},
   "outputs": [],
   "source": []
  },
  {
   "cell_type": "code",
   "execution_count": null,
   "metadata": {},
   "outputs": [],
   "source": []
  },
  {
   "cell_type": "code",
   "execution_count": null,
   "metadata": {},
   "outputs": [],
   "source": []
  },
  {
   "cell_type": "code",
   "execution_count": null,
   "metadata": {},
   "outputs": [],
   "source": []
  },
  {
   "cell_type": "code",
   "execution_count": null,
   "metadata": {},
   "outputs": [],
   "source": []
  },
  {
   "cell_type": "code",
   "execution_count": null,
   "metadata": {},
   "outputs": [],
   "source": []
  },
  {
   "cell_type": "code",
   "execution_count": null,
   "metadata": {},
   "outputs": [],
   "source": []
  },
  {
   "cell_type": "code",
   "execution_count": null,
   "metadata": {},
   "outputs": [],
   "source": []
  },
  {
   "cell_type": "code",
   "execution_count": null,
   "metadata": {},
   "outputs": [],
   "source": []
  },
  {
   "cell_type": "code",
   "execution_count": null,
   "metadata": {},
   "outputs": [],
   "source": []
  },
  {
   "cell_type": "code",
   "execution_count": null,
   "metadata": {},
   "outputs": [],
   "source": []
  },
  {
   "cell_type": "code",
   "execution_count": null,
   "metadata": {},
   "outputs": [],
   "source": []
  },
  {
   "cell_type": "code",
   "execution_count": null,
   "metadata": {},
   "outputs": [],
   "source": []
  },
  {
   "cell_type": "code",
   "execution_count": null,
   "metadata": {},
   "outputs": [],
   "source": []
  },
  {
   "cell_type": "code",
   "execution_count": null,
   "metadata": {},
   "outputs": [],
   "source": []
  },
  {
   "cell_type": "code",
   "execution_count": null,
   "metadata": {},
   "outputs": [],
   "source": []
  },
  {
   "cell_type": "code",
   "execution_count": null,
   "metadata": {},
   "outputs": [],
   "source": []
  },
  {
   "cell_type": "code",
   "execution_count": null,
   "metadata": {},
   "outputs": [],
   "source": []
  },
  {
   "cell_type": "code",
   "execution_count": null,
   "metadata": {},
   "outputs": [],
   "source": []
  },
  {
   "cell_type": "code",
   "execution_count": null,
   "metadata": {},
   "outputs": [],
   "source": []
  },
  {
   "cell_type": "code",
   "execution_count": null,
   "metadata": {},
   "outputs": [],
   "source": []
  },
  {
   "cell_type": "code",
   "execution_count": null,
   "metadata": {},
   "outputs": [],
   "source": []
  },
  {
   "cell_type": "code",
   "execution_count": null,
   "metadata": {},
   "outputs": [],
   "source": []
  },
  {
   "cell_type": "code",
   "execution_count": null,
   "metadata": {},
   "outputs": [],
   "source": [
    "\n"
   ]
  },
  {
   "cell_type": "code",
   "execution_count": null,
   "metadata": {},
   "outputs": [],
   "source": []
  },
  {
   "cell_type": "code",
   "execution_count": null,
   "metadata": {},
   "outputs": [],
   "source": []
  },
  {
   "cell_type": "code",
   "execution_count": null,
   "metadata": {},
   "outputs": [],
   "source": []
  },
  {
   "cell_type": "code",
   "execution_count": null,
   "metadata": {},
   "outputs": [],
   "source": []
  },
  {
   "cell_type": "code",
   "execution_count": null,
   "metadata": {},
   "outputs": [],
   "source": []
  },
  {
   "cell_type": "code",
   "execution_count": null,
   "metadata": {},
   "outputs": [],
   "source": []
  },
  {
   "cell_type": "code",
   "execution_count": null,
   "metadata": {},
   "outputs": [],
   "source": []
  },
  {
   "cell_type": "code",
   "execution_count": null,
   "metadata": {},
   "outputs": [],
   "source": []
  },
  {
   "cell_type": "code",
   "execution_count": null,
   "metadata": {},
   "outputs": [],
   "source": []
  },
  {
   "cell_type": "code",
   "execution_count": null,
   "metadata": {},
   "outputs": [],
   "source": []
  },
  {
   "cell_type": "code",
   "execution_count": null,
   "metadata": {},
   "outputs": [],
   "source": []
  },
  {
   "cell_type": "code",
   "execution_count": null,
   "metadata": {},
   "outputs": [],
   "source": []
  }
 ],
 "metadata": {
  "kernelspec": {
   "display_name": "Python 3",
   "language": "python",
   "name": "python3"
  },
  "language_info": {
   "codemirror_mode": {
    "name": "ipython",
    "version": 3
   },
   "file_extension": ".py",
   "mimetype": "text/x-python",
   "name": "python",
   "nbconvert_exporter": "python",
   "pygments_lexer": "ipython3",
   "version": "3.10.10"
  }
 },
 "nbformat": 4,
 "nbformat_minor": 2
}

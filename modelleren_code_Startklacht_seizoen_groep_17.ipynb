{
 "cells": [
  {
   "cell_type": "code",
   "execution_count": 101,
   "metadata": {},
   "outputs": [],
   "source": [
    "import pandas as pd\n",
    "import seaborn as sns\n",
    "import numpy as np\n",
    "from scipy import stats\n",
    "import matplotlib.pyplot as plt\n",
    "import datetime as dt\n",
    "from datetime import timedelta\n",
    "\n",
    "\n",
    "import statsmodels.api as sm\n",
    "from statsmodels.formula.api import ols\n",
    "from scipy.stats import levene\n",
    "from scipy.stats import ttest_1samp"
   ]
  },
  {
   "cell_type": "code",
   "execution_count": 102,
   "metadata": {},
   "outputs": [],
   "source": [
    "try:\n",
    "    df = pd.read_csv(r\"C:\\Users\\mitch\\OneDrive\\Documenten\\Studie Toegepaste wiskunde\\Moduleren project\\GBS_MOD_12082024.csv\", sep = ';')\n",
    "except:\n",
    "    df = pd.read_csv(r\"C:\\Users\\Chong\\Desktop\\Modelleren project\\info\\GBS_MOD_12082024.csv\", sep = ';')\n",
    "    "
   ]
  },
  {
   "cell_type": "code",
   "execution_count": 103,
   "metadata": {},
   "outputs": [],
   "source": [
    "#df = pd.read_csv(r\"C:\\Users\\Chong\\Desktop\\Modelleren project\\info\\GBS_MOD_12082024.csv\", sep = ';')"
   ]
  },
  {
   "cell_type": "code",
   "execution_count": 104,
   "metadata": {},
   "outputs": [
    {
     "data": {
      "text/html": [
       "<div>\n",
       "<style scoped>\n",
       "    .dataframe tbody tr th:only-of-type {\n",
       "        vertical-align: middle;\n",
       "    }\n",
       "\n",
       "    .dataframe tbody tr th {\n",
       "        vertical-align: top;\n",
       "    }\n",
       "\n",
       "    .dataframe thead th {\n",
       "        text-align: right;\n",
       "    }\n",
       "</style>\n",
       "<table border=\"1\" class=\"dataframe\">\n",
       "  <thead>\n",
       "    <tr style=\"text-align: right;\">\n",
       "      <th></th>\n",
       "      <th>Patientcode</th>\n",
       "      <th>Age</th>\n",
       "      <th>Sex</th>\n",
       "      <th>MRC_sum_e</th>\n",
       "      <th>MRC_sum_w1</th>\n",
       "      <th>CNI_e</th>\n",
       "      <th>CNI_Bulbar_e</th>\n",
       "      <th>CNI_Facial_e</th>\n",
       "      <th>CNI_Oculomotor_e</th>\n",
       "      <th>CNI_w1</th>\n",
       "      <th>...</th>\n",
       "      <th>Comorbidity_respiration</th>\n",
       "      <th>Days_between_onset_and_admission</th>\n",
       "      <th>Date_onset_weakness</th>\n",
       "      <th>Continent</th>\n",
       "      <th>Country_of_inclusion</th>\n",
       "      <th>Surv_days</th>\n",
       "      <th>Surv_status</th>\n",
       "      <th>Surv_unable_to_walk</th>\n",
       "      <th>Walking_again</th>\n",
       "      <th>Deceased</th>\n",
       "    </tr>\n",
       "  </thead>\n",
       "  <tbody>\n",
       "    <tr>\n",
       "      <th>0</th>\n",
       "      <td>P0001</td>\n",
       "      <td>75.0</td>\n",
       "      <td>0</td>\n",
       "      <td>50.0</td>\n",
       "      <td>53.0</td>\n",
       "      <td>1.0</td>\n",
       "      <td>0.0</td>\n",
       "      <td>0.0</td>\n",
       "      <td>1.0</td>\n",
       "      <td>1.0</td>\n",
       "      <td>...</td>\n",
       "      <td>0.0</td>\n",
       "      <td>5.0</td>\n",
       "      <td>16-06-2016</td>\n",
       "      <td>1</td>\n",
       "      <td>5</td>\n",
       "      <td>125.0</td>\n",
       "      <td>1.0</td>\n",
       "      <td>1</td>\n",
       "      <td>1.0</td>\n",
       "      <td>0</td>\n",
       "    </tr>\n",
       "    <tr>\n",
       "      <th>1</th>\n",
       "      <td>P0002</td>\n",
       "      <td>22.0</td>\n",
       "      <td>0</td>\n",
       "      <td>50.0</td>\n",
       "      <td>46.0</td>\n",
       "      <td>0.0</td>\n",
       "      <td>0.0</td>\n",
       "      <td>0.0</td>\n",
       "      <td>0.0</td>\n",
       "      <td>0.0</td>\n",
       "      <td>...</td>\n",
       "      <td>0.0</td>\n",
       "      <td>1.0</td>\n",
       "      <td>22-11-2017</td>\n",
       "      <td>5</td>\n",
       "      <td>19</td>\n",
       "      <td>49.0</td>\n",
       "      <td>1.0</td>\n",
       "      <td>1</td>\n",
       "      <td>1.0</td>\n",
       "      <td>0</td>\n",
       "    </tr>\n",
       "    <tr>\n",
       "      <th>2</th>\n",
       "      <td>P0003</td>\n",
       "      <td>63.0</td>\n",
       "      <td>0</td>\n",
       "      <td>40.0</td>\n",
       "      <td>53.0</td>\n",
       "      <td>0.0</td>\n",
       "      <td>0.0</td>\n",
       "      <td>0.0</td>\n",
       "      <td>0.0</td>\n",
       "      <td>0.0</td>\n",
       "      <td>...</td>\n",
       "      <td>0.0</td>\n",
       "      <td>15.0</td>\n",
       "      <td>28-12-2020</td>\n",
       "      <td>2</td>\n",
       "      <td>11</td>\n",
       "      <td>752.0</td>\n",
       "      <td>0.0</td>\n",
       "      <td>1</td>\n",
       "      <td>NaN</td>\n",
       "      <td>0</td>\n",
       "    </tr>\n",
       "    <tr>\n",
       "      <th>3</th>\n",
       "      <td>P0004</td>\n",
       "      <td>30.0</td>\n",
       "      <td>1</td>\n",
       "      <td>60.0</td>\n",
       "      <td>59.0</td>\n",
       "      <td>1.0</td>\n",
       "      <td>1.0</td>\n",
       "      <td>1.0</td>\n",
       "      <td>1.0</td>\n",
       "      <td>1.0</td>\n",
       "      <td>...</td>\n",
       "      <td>0.0</td>\n",
       "      <td>10.0</td>\n",
       "      <td>30-03-2020</td>\n",
       "      <td>1</td>\n",
       "      <td>6</td>\n",
       "      <td>13.0</td>\n",
       "      <td>1.0</td>\n",
       "      <td>1</td>\n",
       "      <td>1.0</td>\n",
       "      <td>0</td>\n",
       "    </tr>\n",
       "    <tr>\n",
       "      <th>4</th>\n",
       "      <td>P0005</td>\n",
       "      <td>48.0</td>\n",
       "      <td>1</td>\n",
       "      <td>39.0</td>\n",
       "      <td>45.0</td>\n",
       "      <td>0.0</td>\n",
       "      <td>0.0</td>\n",
       "      <td>0.0</td>\n",
       "      <td>0.0</td>\n",
       "      <td>1.0</td>\n",
       "      <td>...</td>\n",
       "      <td>0.0</td>\n",
       "      <td>3.0</td>\n",
       "      <td>28-12-2015</td>\n",
       "      <td>1</td>\n",
       "      <td>2</td>\n",
       "      <td>14.0</td>\n",
       "      <td>0.0</td>\n",
       "      <td>1</td>\n",
       "      <td>NaN</td>\n",
       "      <td>0</td>\n",
       "    </tr>\n",
       "    <tr>\n",
       "      <th>...</th>\n",
       "      <td>...</td>\n",
       "      <td>...</td>\n",
       "      <td>...</td>\n",
       "      <td>...</td>\n",
       "      <td>...</td>\n",
       "      <td>...</td>\n",
       "      <td>...</td>\n",
       "      <td>...</td>\n",
       "      <td>...</td>\n",
       "      <td>...</td>\n",
       "      <td>...</td>\n",
       "      <td>...</td>\n",
       "      <td>...</td>\n",
       "      <td>...</td>\n",
       "      <td>...</td>\n",
       "      <td>...</td>\n",
       "      <td>...</td>\n",
       "      <td>...</td>\n",
       "      <td>...</td>\n",
       "      <td>...</td>\n",
       "      <td>...</td>\n",
       "    </tr>\n",
       "    <tr>\n",
       "      <th>1495</th>\n",
       "      <td>P1496</td>\n",
       "      <td>52.0</td>\n",
       "      <td>1</td>\n",
       "      <td>19.0</td>\n",
       "      <td>NaN</td>\n",
       "      <td>0.0</td>\n",
       "      <td>0.0</td>\n",
       "      <td>0.0</td>\n",
       "      <td>0.0</td>\n",
       "      <td>NaN</td>\n",
       "      <td>...</td>\n",
       "      <td>0.0</td>\n",
       "      <td>12.0</td>\n",
       "      <td>04-09-2016</td>\n",
       "      <td>1</td>\n",
       "      <td>5</td>\n",
       "      <td>26.0</td>\n",
       "      <td>0.0</td>\n",
       "      <td>1</td>\n",
       "      <td>NaN</td>\n",
       "      <td>0</td>\n",
       "    </tr>\n",
       "    <tr>\n",
       "      <th>1496</th>\n",
       "      <td>P1497</td>\n",
       "      <td>66.0</td>\n",
       "      <td>0</td>\n",
       "      <td>54.0</td>\n",
       "      <td>55.0</td>\n",
       "      <td>1.0</td>\n",
       "      <td>1.0</td>\n",
       "      <td>1.0</td>\n",
       "      <td>0.0</td>\n",
       "      <td>0.0</td>\n",
       "      <td>...</td>\n",
       "      <td>0.0</td>\n",
       "      <td>9.0</td>\n",
       "      <td>04-02-2017</td>\n",
       "      <td>1</td>\n",
       "      <td>1</td>\n",
       "      <td>30.0</td>\n",
       "      <td>1.0</td>\n",
       "      <td>1</td>\n",
       "      <td>1.0</td>\n",
       "      <td>0</td>\n",
       "    </tr>\n",
       "    <tr>\n",
       "      <th>1497</th>\n",
       "      <td>P1498</td>\n",
       "      <td>67.0</td>\n",
       "      <td>0</td>\n",
       "      <td>33.0</td>\n",
       "      <td>46.0</td>\n",
       "      <td>1.0</td>\n",
       "      <td>1.0</td>\n",
       "      <td>1.0</td>\n",
       "      <td>0.0</td>\n",
       "      <td>1.0</td>\n",
       "      <td>...</td>\n",
       "      <td>0.0</td>\n",
       "      <td>1.0</td>\n",
       "      <td>30-04-2017</td>\n",
       "      <td>6</td>\n",
       "      <td>21</td>\n",
       "      <td>42.0</td>\n",
       "      <td>1.0</td>\n",
       "      <td>1</td>\n",
       "      <td>1.0</td>\n",
       "      <td>0</td>\n",
       "    </tr>\n",
       "    <tr>\n",
       "      <th>1498</th>\n",
       "      <td>P1499</td>\n",
       "      <td>35.0</td>\n",
       "      <td>1</td>\n",
       "      <td>1.0</td>\n",
       "      <td>3.0</td>\n",
       "      <td>1.0</td>\n",
       "      <td>1.0</td>\n",
       "      <td>0.0</td>\n",
       "      <td>0.0</td>\n",
       "      <td>1.0</td>\n",
       "      <td>...</td>\n",
       "      <td>0.0</td>\n",
       "      <td>5.0</td>\n",
       "      <td>03-10-2017</td>\n",
       "      <td>3</td>\n",
       "      <td>13</td>\n",
       "      <td>280.0</td>\n",
       "      <td>1.0</td>\n",
       "      <td>1</td>\n",
       "      <td>1.0</td>\n",
       "      <td>0</td>\n",
       "    </tr>\n",
       "    <tr>\n",
       "      <th>1499</th>\n",
       "      <td>P1500</td>\n",
       "      <td>67.0</td>\n",
       "      <td>0</td>\n",
       "      <td>60.0</td>\n",
       "      <td>59.0</td>\n",
       "      <td>1.0</td>\n",
       "      <td>0.0</td>\n",
       "      <td>1.0</td>\n",
       "      <td>0.0</td>\n",
       "      <td>0.0</td>\n",
       "      <td>...</td>\n",
       "      <td>0.0</td>\n",
       "      <td>5.0</td>\n",
       "      <td>10-03-2016</td>\n",
       "      <td>1</td>\n",
       "      <td>6</td>\n",
       "      <td>15.0</td>\n",
       "      <td>1.0</td>\n",
       "      <td>1</td>\n",
       "      <td>1.0</td>\n",
       "      <td>0</td>\n",
       "    </tr>\n",
       "  </tbody>\n",
       "</table>\n",
       "<p>1500 rows × 37 columns</p>\n",
       "</div>"
      ],
      "text/plain": [
       "     Patientcode   Age  Sex  MRC_sum_e  MRC_sum_w1  CNI_e  CNI_Bulbar_e  \\\n",
       "0          P0001  75.0    0       50.0        53.0    1.0           0.0   \n",
       "1          P0002  22.0    0       50.0        46.0    0.0           0.0   \n",
       "2          P0003  63.0    0       40.0        53.0    0.0           0.0   \n",
       "3          P0004  30.0    1       60.0        59.0    1.0           1.0   \n",
       "4          P0005  48.0    1       39.0        45.0    0.0           0.0   \n",
       "...          ...   ...  ...        ...         ...    ...           ...   \n",
       "1495       P1496  52.0    1       19.0         NaN    0.0           0.0   \n",
       "1496       P1497  66.0    0       54.0        55.0    1.0           1.0   \n",
       "1497       P1498  67.0    0       33.0        46.0    1.0           1.0   \n",
       "1498       P1499  35.0    1        1.0         3.0    1.0           1.0   \n",
       "1499       P1500  67.0    0       60.0        59.0    1.0           0.0   \n",
       "\n",
       "      CNI_Facial_e  CNI_Oculomotor_e  CNI_w1  ...  Comorbidity_respiration  \\\n",
       "0              0.0               1.0     1.0  ...                      0.0   \n",
       "1              0.0               0.0     0.0  ...                      0.0   \n",
       "2              0.0               0.0     0.0  ...                      0.0   \n",
       "3              1.0               1.0     1.0  ...                      0.0   \n",
       "4              0.0               0.0     1.0  ...                      0.0   \n",
       "...            ...               ...     ...  ...                      ...   \n",
       "1495           0.0               0.0     NaN  ...                      0.0   \n",
       "1496           1.0               0.0     0.0  ...                      0.0   \n",
       "1497           1.0               0.0     1.0  ...                      0.0   \n",
       "1498           0.0               0.0     1.0  ...                      0.0   \n",
       "1499           1.0               0.0     0.0  ...                      0.0   \n",
       "\n",
       "      Days_between_onset_and_admission  Date_onset_weakness  Continent  \\\n",
       "0                                  5.0           16-06-2016          1   \n",
       "1                                  1.0           22-11-2017          5   \n",
       "2                                 15.0           28-12-2020          2   \n",
       "3                                 10.0           30-03-2020          1   \n",
       "4                                  3.0           28-12-2015          1   \n",
       "...                                ...                  ...        ...   \n",
       "1495                              12.0           04-09-2016          1   \n",
       "1496                               9.0           04-02-2017          1   \n",
       "1497                               1.0           30-04-2017          6   \n",
       "1498                               5.0           03-10-2017          3   \n",
       "1499                               5.0           10-03-2016          1   \n",
       "\n",
       "      Country_of_inclusion  Surv_days  Surv_status  Surv_unable_to_walk  \\\n",
       "0                        5      125.0          1.0                    1   \n",
       "1                       19       49.0          1.0                    1   \n",
       "2                       11      752.0          0.0                    1   \n",
       "3                        6       13.0          1.0                    1   \n",
       "4                        2       14.0          0.0                    1   \n",
       "...                    ...        ...          ...                  ...   \n",
       "1495                     5       26.0          0.0                    1   \n",
       "1496                     1       30.0          1.0                    1   \n",
       "1497                    21       42.0          1.0                    1   \n",
       "1498                    13      280.0          1.0                    1   \n",
       "1499                     6       15.0          1.0                    1   \n",
       "\n",
       "      Walking_again  Deceased  \n",
       "0               1.0         0  \n",
       "1               1.0         0  \n",
       "2               NaN         0  \n",
       "3               1.0         0  \n",
       "4               NaN         0  \n",
       "...             ...       ...  \n",
       "1495            NaN         0  \n",
       "1496            1.0         0  \n",
       "1497            1.0         0  \n",
       "1498            1.0         0  \n",
       "1499            1.0         0  \n",
       "\n",
       "[1500 rows x 37 columns]"
      ]
     },
     "execution_count": 104,
     "metadata": {},
     "output_type": "execute_result"
    }
   ],
   "source": [
    "df"
   ]
  },
  {
   "cell_type": "code",
   "execution_count": 105,
   "metadata": {},
   "outputs": [],
   "source": [
    "# df.columns"
   ]
  },
  {
   "cell_type": "code",
   "execution_count": 106,
   "metadata": {},
   "outputs": [],
   "source": [
    "# a =  df[['Surv_status', 'Deceased']]"
   ]
  },
  {
   "cell_type": "code",
   "execution_count": 107,
   "metadata": {},
   "outputs": [],
   "source": [
    "# df.dtypes"
   ]
  },
  {
   "cell_type": "code",
   "execution_count": 108,
   "metadata": {},
   "outputs": [],
   "source": [
    "\n",
    "# past de datum naar yyyy-mm-dd\n",
    "# dan selecteer dan mm om de correlatie te bepalen met andere data\n",
    "df['date_sickness'] = pd.to_datetime(df['Date_onset_weakness'], format = \"%d-%m-%Y\")\n",
    "df['date_month'] = df['date_sickness'].dt.month"
   ]
  },
  {
   "cell_type": "code",
   "execution_count": 109,
   "metadata": {},
   "outputs": [],
   "source": [
    "df = df.drop(columns = ['Patientcode','Date_onset_weakness'])\n",
    "df['CSF_protein_level'] = df['CSF_protein_level'].str.replace(',','.').astype(float)\n",
    "\n",
    "#df['Walking_again'] = df['Walking_again'].fillna(0)\n"
   ]
  },
  {
   "cell_type": "code",
   "execution_count": 110,
   "metadata": {},
   "outputs": [
    {
     "data": {
      "text/plain": [
       "Country_of_inclusion  Continent                0.912135\n",
       "MRC_sum_w1            MRC_sum_e                0.813435\n",
       "Surv_unable_to_walk   GBSDS_e                  0.766703\n",
       "GBSDS_w1              GBSDS_e                  0.762471\n",
       "CNI_Oculomotor_w1     CNI_Oculomotor_e         0.758196\n",
       "                                                 ...   \n",
       "date_month            Ant_event_respiratory         NaN\n",
       "                      Ant_event_vaccination         NaN\n",
       "                      Ant_event_other               NaN\n",
       "                      Walking_again                 NaN\n",
       "                      date_month                    NaN\n",
       "Length: 1296, dtype: float64"
      ]
     },
     "execution_count": 110,
     "metadata": {},
     "output_type": "execute_result"
    }
   ],
   "source": [
    "\n",
    "corr_matrix = df.corr()\n",
    "sorted_corr = corr_matrix.where(np.triu(np.ones(corr_matrix.shape), k=1).astype(bool)).unstack().sort_values(ascending=False)\n",
    "sorted_corr"
   ]
  },
  {
   "cell_type": "code",
   "execution_count": 111,
   "metadata": {},
   "outputs": [
    {
     "name": "stdout",
     "output_type": "stream",
     "text": [
      "date_month                          1.000000\n",
      "Country_of_inclusion                0.042215\n",
      "Continent                           0.042008\n",
      "CSF_protein_level                   0.034668\n",
      "Deceased                            0.032537\n",
      "Comorbidity_respiration             0.028531\n",
      "GBSDS_w1                            0.027320\n",
      "Sens_deficits_e                     0.024639\n",
      "Able_to_walk_e                      0.014984\n",
      "Surv_status                         0.009699\n",
      "GBSDS_e                             0.007570\n",
      "Sens_deficits_w1                    0.004381\n",
      "Pain_e                              0.003648\n",
      "Days_between_onset_and_admission    0.000450\n",
      "Pain_w1                             0.000274\n",
      "CNI_Bulbar_w1                      -0.000925\n",
      "CNI_Bulbar_e                       -0.005650\n",
      "Surv_unable_to_walk                -0.007161\n",
      "Surv_days                          -0.012387\n",
      "Able_to_walk_w1                    -0.013766\n",
      "CNI_e                              -0.017687\n",
      "CNI_Facial_e                       -0.018265\n",
      "Ant_event                          -0.020287\n",
      "CNI_w1                             -0.021639\n",
      "MRC_sum_w1                         -0.022649\n",
      "CNI_Oculomotor_w1                  -0.024081\n",
      "MRC_sum_e                          -0.027020\n",
      "CNI_Facial_w1                      -0.030741\n",
      "Sex                                -0.035584\n",
      "Age                                -0.047358\n",
      "CNI_Oculomotor_e                   -0.048341\n",
      "Ant_event_GE                             NaN\n",
      "Ant_event_respiratory                    NaN\n",
      "Ant_event_vaccination                    NaN\n",
      "Ant_event_other                          NaN\n",
      "Walking_again                            NaN\n",
      "Name: date_month, dtype: float64\n"
     ]
    }
   ],
   "source": [
    "a = df.corr()['date_month'].sort_values(ascending=False)\n",
    "print(a)\n"
   ]
  },
  {
   "cell_type": "code",
   "execution_count": 112,
   "metadata": {},
   "outputs": [
    {
     "data": {
      "text/plain": [
       "1    878\n",
       "2    178\n",
       "5    176\n",
       "4    164\n",
       "3     71\n",
       "6     33\n",
       "Name: Continent, dtype: int64"
      ]
     },
     "execution_count": 112,
     "metadata": {},
     "output_type": "execute_result"
    }
   ],
   "source": [
    "df['Continent'].value_counts()"
   ]
  },
  {
   "cell_type": "code",
   "execution_count": 113,
   "metadata": {},
   "outputs": [
    {
     "data": {
      "text/plain": [
       "1     196\n",
       "19    176\n",
       "11    161\n",
       "6     160\n",
       "5     130\n",
       "2     129\n",
       "7     102\n",
       "18     66\n",
       "15     63\n",
       "3      60\n",
       "13     51\n",
       "8      40\n",
       "10     34\n",
       "17     28\n",
       "21     25\n",
       "4      18\n",
       "12     17\n",
       "14     16\n",
       "9      16\n",
       "16      6\n",
       "20      6\n",
       "Name: Country_of_inclusion, dtype: int64"
      ]
     },
     "execution_count": 113,
     "metadata": {},
     "output_type": "execute_result"
    }
   ],
   "source": [
    "df['Country_of_inclusion'].value_counts(sort=True)"
   ]
  },
  {
   "cell_type": "code",
   "execution_count": null,
   "metadata": {},
   "outputs": [],
   "source": []
  },
  {
   "cell_type": "code",
   "execution_count": 114,
   "metadata": {},
   "outputs": [
    {
     "name": "stdout",
     "output_type": "stream",
     "text": [
      "    country_code         country_name    klimaat\n",
      "0              1            Nederland  C Klimaat\n",
      "1              2  Verenigd Koninkrijk  C Klimaat\n",
      "2              3            Duitsland  C Klimaat\n",
      "3              4               België  C Klimaat\n",
      "4              5           Denemarken  C Klimaat\n",
      "5              6               Italië  C Klimaat\n",
      "6              7               Spanje  B Klimaat\n",
      "7              8            Frankrijk  C Klimaat\n",
      "8              9          Griekenland  C Klimaat\n",
      "9             10          Zwitserland  C Klimaat\n",
      "10            11     Verenigde Staten  D Klimaat\n",
      "11            12               Canada  D Klimaat\n",
      "12            13           Argentinië  C Klimaat\n",
      "13            14             Brazilië  A Klimaat\n",
      "14            15                Japan  C Klimaat\n",
      "15            16               Taiwan  C Klimaat\n",
      "16            17             Maleisië  A Klimaat\n",
      "17            18                China  C Klimaat\n",
      "18            19           Bangladesh  A Klimaat\n",
      "19            20            Australië  C Klimaat\n",
      "20            21          Zuid-Afrika  C Klimaat\n"
     ]
    }
   ],
   "source": [
    "data = {\n",
    "    'country_code': [1, 2, 3, 4, 5, 6, 7, 8, 9, 10, 11, 12, 13, 14, 15, 16, 17, 18, 19, 20, 21],\n",
    "    'country_name': ['Nederland', 'Verenigd Koninkrijk', 'Duitsland', 'België', 'Denemarken', \n",
    "                     'Italië', 'Spanje', 'Frankrijk', 'Griekenland', 'Zwitserland', \n",
    "                     'Verenigde Staten', 'Canada', 'Argentinië', 'Brazilië', 'Japan', \n",
    "                     'Taiwan', 'Maleisië', 'China', 'Bangladesh', 'Australië', 'Zuid-Afrika']\n",
    "}\n",
    "\n",
    "\n",
    "df_klimaat = pd.DataFrame(data)\n",
    "\n",
    "climate_data = {\n",
    "    'A_Klimaat': ['Maleisië', 'Bangladesh', 'Brazilië'],\n",
    "    'B_Klimaat': ['Spanje'],\n",
    "    'C_Klimaat': ['Nederland', 'Verenigd Koninkrijk', 'België', 'Denemarken', 'Duitsland', 'Frankrijk', 'Italië', 'Griekenland', 'Zwitserland', 'Argentinië', 'Japan', 'Taiwan', 'China', 'Australië', 'Zuid-Afrika'],\n",
    "    'D_Klimaat': ['Verenigde Staten', 'Canada']\n",
    "}\n",
    "\n",
    "# Function to assign the climate category based on the country\n",
    "def assign_climate(country):\n",
    "    if country in climate_data['A_Klimaat']:\n",
    "        return 'A Klimaat'\n",
    "    elif country in climate_data['B_Klimaat']:\n",
    "        return 'B Klimaat'\n",
    "    elif country in climate_data['C_Klimaat']:\n",
    "        return 'C Klimaat'\n",
    "    elif country in climate_data['D_Klimaat']:\n",
    "        return 'D Klimaat'\n",
    "    else:\n",
    "        return 'Unknown'\n",
    "\n",
    "# Add a new column 'Climate' to the dataframe\n",
    "df_klimaat['klimaat'] = df_klimaat['country_name'].apply(assign_climate)\n",
    "\n",
    "\n",
    "print(df_klimaat)\n"
   ]
  },
  {
   "cell_type": "code",
   "execution_count": 115,
   "metadata": {},
   "outputs": [],
   "source": [
    "# df en df_klimaat joinen op elkaar\n",
    "df = pd.merge(df, df_klimaat, \n",
    "                     left_on='Country_of_inclusion', right_on='country_code',\n",
    "                     how = 'left')\n",
    "\n",
    "df = df.drop(columns = 'country_code')"
   ]
  },
  {
   "cell_type": "code",
   "execution_count": 472,
   "metadata": {},
   "outputs": [
    {
     "data": {
      "text/plain": [
       "Text(0.5, 1.0, 'Verdeling van patienten per continent')"
      ]
     },
     "execution_count": 472,
     "metadata": {},
     "output_type": "execute_result"
    },
    {
     "data": {
      "image/png": "[encoded data removed]",
      "text/plain": [
       "<Figure size 576x432 with 1 Axes>"
      ]
     },
     "metadata": {
      "needs_background": "light"
     },
     "output_type": "display_data"
    }
   ],
   "source": [
    "continent_map = {\n",
    "    1: 'Europa',\n",
    "    2: 'Noord-Amerika',\n",
    "    3: 'Zuid-Amerika',\n",
    "    4: 'Azië',\n",
    "    5: 'Bangladesh',\n",
    "    6: 'Anders'\n",
    "}\n",
    "\n",
    "df['Continent'] = df['Continent'].map(continent_map)\n",
    "Continent_counts = df['Continent'].value_counts()\n",
    "\n",
    "plt.figure(figsize=(8, 6))\n",
    "sns.barplot(x=Continent_counts.index, y=Continent_counts.values, palette='Set2')\n",
    "\n",
    "\n",
    "plt.xlabel('Continenten')\n",
    "plt.ylabel('Aantal patienten')\n",
    "plt.title('Verdeling van patienten per continent')"
   ]
  },
  {
   "cell_type": "code",
   "execution_count": 116,
   "metadata": {},
   "outputs": [
    {
     "data": {
      "text/plain": [
       "Text(0, 0.5, 'Aantal patient')"
      ]
     },
     "execution_count": 116,
     "metadata": {},
     "output_type": "execute_result"
    },
    {
     "data": {
      "image/png": "[encoded data removed]",
      "text/plain": [
       "<Figure size 720x432 with 1 Axes>"
      ]
     },
     "metadata": {
      "needs_background": "light"
     },
     "output_type": "display_data"
    }
   ],
   "source": [
    "plt.figure(figsize=(10, 6))\n",
    "sns.countplot(data  =df,x='country_name', palette='Set2', order = [\n",
    "                    'Nederland', 'Verenigd Koninkrijk', 'Duitsland', 'België', 'Denemarken', \n",
    "                     'Italië', 'Spanje', 'Frankrijk', 'Griekenland', 'Zwitserland', \n",
    "                     'Verenigde Staten', 'Canada', 'Argentinië', 'Brazilië', 'Japan', \n",
    "                     'Taiwan', 'Maleisië', 'China', 'Bangladesh', 'Australië', 'Zuid-Afrika'])\n",
    "plt.title('Verdeling van patienten per landen')\n",
    "plt.xticks(rotation = 90)\n",
    "plt.xlabel('Landen')\n",
    "plt.ylabel('Aantal patient')"
   ]
  },
  {
   "cell_type": "code",
   "execution_count": 117,
   "metadata": {},
   "outputs": [
    {
     "data": {
      "text/plain": [
       "Text(0, 0.5, 'Aantal patient')"
      ]
     },
     "execution_count": 117,
     "metadata": {},
     "output_type": "execute_result"
    },
    {
     "data": {
      "image/png": "[encoded data removed]",
      "text/plain": [
       "<Figure size 432x288 with 1 Axes>"
      ]
     },
     "metadata": {
      "needs_background": "light"
     },
     "output_type": "display_data"
    }
   ],
   "source": [
    "sns.countplot(data  = df, x='klimaat', hue = 'klimaat', \n",
    "              palette='Set2', \n",
    "              order = ['A Klimaat', 'B Klimaat', 'C Klimaat', 'D Klimaat']\n",
    "              )\n",
    "plt.xticks(rotation = 45)\n",
    "plt.title('Verdeling van patienten per klimaat')\n",
    "plt.xlabel('Klimaat')\n",
    "plt.ylabel('Aantal patient')\n"
   ]
  },
  {
   "cell_type": "code",
   "execution_count": null,
   "metadata": {},
   "outputs": [],
   "source": []
  },
  {
   "cell_type": "code",
   "execution_count": 118,
   "metadata": {},
   "outputs": [
    {
     "data": {
      "text/plain": [
       "C Klimaat    1000\n",
       "A Klimaat     220\n",
       "D Klimaat     178\n",
       "B Klimaat     102\n",
       "Name: klimaat, dtype: int64"
      ]
     },
     "execution_count": 118,
     "metadata": {},
     "output_type": "execute_result"
    }
   ],
   "source": [
    "df['klimaat'].value_counts()"
   ]
  },
  {
   "cell_type": "code",
   "execution_count": 119,
   "metadata": {},
   "outputs": [
    {
     "data": {
      "text/plain": [
       "Text(0.5, 1.0, 'Verdeling hoeveelheid GBS per hafrond')"
      ]
     },
     "execution_count": 119,
     "metadata": {},
     "output_type": "execute_result"
    },
    {
     "data": {
      "image/png": "[encoded data removed]",
      "text/plain": [
       "<Figure size 432x288 with 1 Axes>"
      ]
     },
     "metadata": {
      "needs_background": "light"
     },
     "output_type": "display_data"
    }
   ],
   "source": [
    "halfrond_data = {\n",
    "    'Noordelijk_halfrond': ['Nederland', 'Verenigd Koninkrijk', 'Duitsland', 'België', 'Denemarken', \n",
    "                     'Italië', 'Spanje', 'Frankrijk', 'Griekenland', 'Zwitserland', \n",
    "                     'Verenigde Staten', 'Canada','Japan', \n",
    "                     'Taiwan', 'Maleisië', 'China', 'Bangladesh'],\n",
    "\n",
    "    'Zuidelijk_halfrond': ['Argentinië','Brazilië','Australië', 'Zuid-Afrika']\n",
    "}\n",
    "\n",
    "\n",
    "def assign_halfrond(country):\n",
    "    if country in halfrond_data['Noordelijk_halfrond']:\n",
    "        return 'Noordelijk_halfrond'\n",
    "    elif country in halfrond_data['Zuidelijk_halfrond']:\n",
    "        return 'Zuidelijk_halfrond'\n",
    "\n",
    "\n",
    "df['halfrond'] = df['country_name'].apply(assign_halfrond)\n",
    "\n",
    "\n",
    "sns.countplot(data = df, x='halfrond', hue = 'halfrond', palette='Set2')\n",
    "plt.title('Verdeling hoeveelheid GBS per hafrond')"
   ]
  },
  {
   "cell_type": "markdown",
   "metadata": {},
   "source": [
    "Seizoenen definieren opbasis van de halfrond.\n",
    "\n",
    "Noordelijk_halfrond: lente 3-5, zomer 6-8, herfst 9-11, winter 12-2\n",
    "\n",
    "Zuidelijk halfrond: lente 9-11, zomer 12-2, herfst 3-5, winter 6-8"
   ]
  },
  {
   "cell_type": "code",
   "execution_count": 120,
   "metadata": {},
   "outputs": [],
   "source": [
    "def seizoenen(halfrond, date_month):\n",
    "    seizoen1 = [12,1,2]\n",
    "    seizoen2 = [3,4,5]\n",
    "    seizoen3 = [6,7,8]\n",
    "    seizoen4 = [9,10,11]\n",
    "    if str(halfrond) == 'Noordelijk_halfrond':\n",
    "        if date_month in seizoen1:\n",
    "            return \"Winter\"\n",
    "        elif date_month in seizoen2:\n",
    "            return \"Lente\"\n",
    "        elif date_month in seizoen3:\n",
    "            return \"Zomer\"\n",
    "        elif date_month in seizoen4:\n",
    "            return \"Herfst\"\n",
    "        else:\n",
    "            return None\n",
    "    elif str(halfrond) == 'Zuidelijk_halfrond':\n",
    "        if date_month in seizoen1:\n",
    "            return \"Zomer\"\n",
    "        elif date_month in seizoen2:\n",
    "            return \"Herfst\"\n",
    "        elif date_month in seizoen3:\n",
    "            return \"Winter\"\n",
    "        elif date_month in seizoen4:\n",
    "            return \"Lente\"\n",
    "        else:\n",
    "            return None\n",
    "    else:\n",
    "        print(\"help\")\n",
    "    \n",
    "\n"
   ]
  },
  {
   "cell_type": "code",
   "execution_count": 121,
   "metadata": {},
   "outputs": [
    {
     "data": {
      "text/plain": [
       "dtype('O')"
      ]
     },
     "execution_count": 121,
     "metadata": {},
     "output_type": "execute_result"
    }
   ],
   "source": [
    "df['halfrond'].dtype"
   ]
  },
  {
   "cell_type": "code",
   "execution_count": 122,
   "metadata": {},
   "outputs": [],
   "source": [
    "df['Seizoen'] = df.apply(lambda row: seizoenen(row['halfrond'], row['date_month']), axis=1)"
   ]
  },
  {
   "cell_type": "code",
   "execution_count": 123,
   "metadata": {},
   "outputs": [],
   "source": [
    "df_seizoenstest = df[['halfrond', 'date_sickness', 'date_month', 'Seizoen', 'Days_between_onset_and_admission']]"
   ]
  },
  {
   "cell_type": "code",
   "execution_count": 124,
   "metadata": {},
   "outputs": [
    {
     "data": {
      "text/html": [
       "<div>\n",
       "<style scoped>\n",
       "    .dataframe tbody tr th:only-of-type {\n",
       "        vertical-align: middle;\n",
       "    }\n",
       "\n",
       "    .dataframe tbody tr th {\n",
       "        vertical-align: top;\n",
       "    }\n",
       "\n",
       "    .dataframe thead th {\n",
       "        text-align: right;\n",
       "    }\n",
       "</style>\n",
       "<table border=\"1\" class=\"dataframe\">\n",
       "  <thead>\n",
       "    <tr style=\"text-align: right;\">\n",
       "      <th></th>\n",
       "      <th>halfrond</th>\n",
       "      <th>date_sickness</th>\n",
       "      <th>date_month</th>\n",
       "      <th>Seizoen</th>\n",
       "      <th>Days_between_onset_and_admission</th>\n",
       "    </tr>\n",
       "  </thead>\n",
       "  <tbody>\n",
       "    <tr>\n",
       "      <th>0</th>\n",
       "      <td>Noordelijk_halfrond</td>\n",
       "      <td>2016-06-16</td>\n",
       "      <td>6.0</td>\n",
       "      <td>Zomer</td>\n",
       "      <td>5.0</td>\n",
       "    </tr>\n",
       "    <tr>\n",
       "      <th>1</th>\n",
       "      <td>Noordelijk_halfrond</td>\n",
       "      <td>2017-11-22</td>\n",
       "      <td>11.0</td>\n",
       "      <td>Herfst</td>\n",
       "      <td>1.0</td>\n",
       "    </tr>\n",
       "    <tr>\n",
       "      <th>2</th>\n",
       "      <td>Noordelijk_halfrond</td>\n",
       "      <td>2020-12-28</td>\n",
       "      <td>12.0</td>\n",
       "      <td>Winter</td>\n",
       "      <td>15.0</td>\n",
       "    </tr>\n",
       "    <tr>\n",
       "      <th>3</th>\n",
       "      <td>Noordelijk_halfrond</td>\n",
       "      <td>2020-03-30</td>\n",
       "      <td>3.0</td>\n",
       "      <td>Lente</td>\n",
       "      <td>10.0</td>\n",
       "    </tr>\n",
       "    <tr>\n",
       "      <th>4</th>\n",
       "      <td>Noordelijk_halfrond</td>\n",
       "      <td>2015-12-28</td>\n",
       "      <td>12.0</td>\n",
       "      <td>Winter</td>\n",
       "      <td>3.0</td>\n",
       "    </tr>\n",
       "    <tr>\n",
       "      <th>...</th>\n",
       "      <td>...</td>\n",
       "      <td>...</td>\n",
       "      <td>...</td>\n",
       "      <td>...</td>\n",
       "      <td>...</td>\n",
       "    </tr>\n",
       "    <tr>\n",
       "      <th>1495</th>\n",
       "      <td>Noordelijk_halfrond</td>\n",
       "      <td>2016-09-04</td>\n",
       "      <td>9.0</td>\n",
       "      <td>Herfst</td>\n",
       "      <td>12.0</td>\n",
       "    </tr>\n",
       "    <tr>\n",
       "      <th>1496</th>\n",
       "      <td>Noordelijk_halfrond</td>\n",
       "      <td>2017-02-04</td>\n",
       "      <td>2.0</td>\n",
       "      <td>Winter</td>\n",
       "      <td>9.0</td>\n",
       "    </tr>\n",
       "    <tr>\n",
       "      <th>1497</th>\n",
       "      <td>Zuidelijk_halfrond</td>\n",
       "      <td>2017-04-30</td>\n",
       "      <td>4.0</td>\n",
       "      <td>Herfst</td>\n",
       "      <td>1.0</td>\n",
       "    </tr>\n",
       "    <tr>\n",
       "      <th>1498</th>\n",
       "      <td>Zuidelijk_halfrond</td>\n",
       "      <td>2017-10-03</td>\n",
       "      <td>10.0</td>\n",
       "      <td>Lente</td>\n",
       "      <td>5.0</td>\n",
       "    </tr>\n",
       "    <tr>\n",
       "      <th>1499</th>\n",
       "      <td>Noordelijk_halfrond</td>\n",
       "      <td>2016-03-10</td>\n",
       "      <td>3.0</td>\n",
       "      <td>Lente</td>\n",
       "      <td>5.0</td>\n",
       "    </tr>\n",
       "  </tbody>\n",
       "</table>\n",
       "<p>1500 rows × 5 columns</p>\n",
       "</div>"
      ],
      "text/plain": [
       "                 halfrond date_sickness  date_month Seizoen  \\\n",
       "0     Noordelijk_halfrond    2016-06-16         6.0   Zomer   \n",
       "1     Noordelijk_halfrond    2017-11-22        11.0  Herfst   \n",
       "2     Noordelijk_halfrond    2020-12-28        12.0  Winter   \n",
       "3     Noordelijk_halfrond    2020-03-30         3.0   Lente   \n",
       "4     Noordelijk_halfrond    2015-12-28        12.0  Winter   \n",
       "...                   ...           ...         ...     ...   \n",
       "1495  Noordelijk_halfrond    2016-09-04         9.0  Herfst   \n",
       "1496  Noordelijk_halfrond    2017-02-04         2.0  Winter   \n",
       "1497   Zuidelijk_halfrond    2017-04-30         4.0  Herfst   \n",
       "1498   Zuidelijk_halfrond    2017-10-03        10.0   Lente   \n",
       "1499  Noordelijk_halfrond    2016-03-10         3.0   Lente   \n",
       "\n",
       "      Days_between_onset_and_admission  \n",
       "0                                  5.0  \n",
       "1                                  1.0  \n",
       "2                                 15.0  \n",
       "3                                 10.0  \n",
       "4                                  3.0  \n",
       "...                                ...  \n",
       "1495                              12.0  \n",
       "1496                               9.0  \n",
       "1497                               1.0  \n",
       "1498                               5.0  \n",
       "1499                               5.0  \n",
       "\n",
       "[1500 rows x 5 columns]"
      ]
     },
     "execution_count": 124,
     "metadata": {},
     "output_type": "execute_result"
    }
   ],
   "source": [
    "df_seizoenstest"
   ]
  },
  {
   "cell_type": "code",
   "execution_count": 125,
   "metadata": {},
   "outputs": [
    {
     "name": "stderr",
     "output_type": "stream",
     "text": [
      "C:\\Users\\Chong\\AppData\\Local\\Temp\\ipykernel_13732\\3361913468.py:1: SettingWithCopyWarning: \n",
      "A value is trying to be set on a copy of a slice from a DataFrame.\n",
      "Try using .loc[row_indexer,col_indexer] = value instead\n",
      "\n",
      "See the caveats in the documentation: https://pandas.pydata.org/pandas-docs/stable/user_guide/indexing.html#returning-a-view-versus-a-copy\n",
      "  df_seizoenstest['opname_datum'] = df_seizoenstest.apply(\n"
     ]
    }
   ],
   "source": [
    "df_seizoenstest['opname_datum'] = df_seizoenstest.apply(\n",
    "    lambda row: row['date_sickness'] + pd.to_timedelta(row['Days_between_onset_and_admission'], unit='D')\n",
    "    if pd.notna(row['date_sickness']) and pd.notna(row['Days_between_onset_and_admission']) \n",
    "    else np.nan, axis=1\n",
    ")"
   ]
  },
  {
   "cell_type": "code",
   "execution_count": 126,
   "metadata": {},
   "outputs": [
    {
     "name": "stderr",
     "output_type": "stream",
     "text": [
      "C:\\Users\\Chong\\AppData\\Local\\Temp\\ipykernel_13732\\2454794557.py:1: SettingWithCopyWarning: \n",
      "A value is trying to be set on a copy of a slice from a DataFrame.\n",
      "Try using .loc[row_indexer,col_indexer] = value instead\n",
      "\n",
      "See the caveats in the documentation: https://pandas.pydata.org/pandas-docs/stable/user_guide/indexing.html#returning-a-view-versus-a-copy\n",
      "  df_seizoenstest['opname_maand'] = df_seizoenstest['opname_datum'].dt.month\n"
     ]
    }
   ],
   "source": [
    "df_seizoenstest['opname_maand'] = df_seizoenstest['opname_datum'].dt.month"
   ]
  },
  {
   "cell_type": "code",
   "execution_count": 127,
   "metadata": {},
   "outputs": [
    {
     "name": "stderr",
     "output_type": "stream",
     "text": [
      "C:\\Users\\Chong\\AppData\\Local\\Temp\\ipykernel_13732\\2192254899.py:1: SettingWithCopyWarning: \n",
      "A value is trying to be set on a copy of a slice from a DataFrame.\n",
      "Try using .loc[row_indexer,col_indexer] = value instead\n",
      "\n",
      "See the caveats in the documentation: https://pandas.pydata.org/pandas-docs/stable/user_guide/indexing.html#returning-a-view-versus-a-copy\n",
      "  df_seizoenstest['Seizoen_opname'] = df_seizoenstest.apply(lambda row: seizoenen(row['halfrond'], row['opname_maand']), axis=1)\n"
     ]
    }
   ],
   "source": [
    "df_seizoenstest['Seizoen_opname'] = df_seizoenstest.apply(lambda row: seizoenen(row['halfrond'], row['opname_maand']), axis=1)"
   ]
  },
  {
   "cell_type": "code",
   "execution_count": 128,
   "metadata": {},
   "outputs": [
    {
     "data": {
      "text/html": [
       "<div>\n",
       "<style scoped>\n",
       "    .dataframe tbody tr th:only-of-type {\n",
       "        vertical-align: middle;\n",
       "    }\n",
       "\n",
       "    .dataframe tbody tr th {\n",
       "        vertical-align: top;\n",
       "    }\n",
       "\n",
       "    .dataframe thead th {\n",
       "        text-align: right;\n",
       "    }\n",
       "</style>\n",
       "<table border=\"1\" class=\"dataframe\">\n",
       "  <thead>\n",
       "    <tr style=\"text-align: right;\">\n",
       "      <th></th>\n",
       "      <th>halfrond</th>\n",
       "      <th>date_sickness</th>\n",
       "      <th>date_month</th>\n",
       "      <th>Seizoen</th>\n",
       "      <th>Days_between_onset_and_admission</th>\n",
       "      <th>opname_datum</th>\n",
       "      <th>opname_maand</th>\n",
       "      <th>Seizoen_opname</th>\n",
       "    </tr>\n",
       "  </thead>\n",
       "  <tbody>\n",
       "    <tr>\n",
       "      <th>0</th>\n",
       "      <td>Noordelijk_halfrond</td>\n",
       "      <td>2016-06-16</td>\n",
       "      <td>6.0</td>\n",
       "      <td>Zomer</td>\n",
       "      <td>5.0</td>\n",
       "      <td>2016-06-21</td>\n",
       "      <td>6.0</td>\n",
       "      <td>Zomer</td>\n",
       "    </tr>\n",
       "    <tr>\n",
       "      <th>1</th>\n",
       "      <td>Noordelijk_halfrond</td>\n",
       "      <td>2017-11-22</td>\n",
       "      <td>11.0</td>\n",
       "      <td>Herfst</td>\n",
       "      <td>1.0</td>\n",
       "      <td>2017-11-23</td>\n",
       "      <td>11.0</td>\n",
       "      <td>Herfst</td>\n",
       "    </tr>\n",
       "    <tr>\n",
       "      <th>2</th>\n",
       "      <td>Noordelijk_halfrond</td>\n",
       "      <td>2020-12-28</td>\n",
       "      <td>12.0</td>\n",
       "      <td>Winter</td>\n",
       "      <td>15.0</td>\n",
       "      <td>2021-01-12</td>\n",
       "      <td>1.0</td>\n",
       "      <td>Winter</td>\n",
       "    </tr>\n",
       "    <tr>\n",
       "      <th>3</th>\n",
       "      <td>Noordelijk_halfrond</td>\n",
       "      <td>2020-03-30</td>\n",
       "      <td>3.0</td>\n",
       "      <td>Lente</td>\n",
       "      <td>10.0</td>\n",
       "      <td>2020-04-09</td>\n",
       "      <td>4.0</td>\n",
       "      <td>Lente</td>\n",
       "    </tr>\n",
       "    <tr>\n",
       "      <th>4</th>\n",
       "      <td>Noordelijk_halfrond</td>\n",
       "      <td>2015-12-28</td>\n",
       "      <td>12.0</td>\n",
       "      <td>Winter</td>\n",
       "      <td>3.0</td>\n",
       "      <td>2015-12-31</td>\n",
       "      <td>12.0</td>\n",
       "      <td>Winter</td>\n",
       "    </tr>\n",
       "    <tr>\n",
       "      <th>...</th>\n",
       "      <td>...</td>\n",
       "      <td>...</td>\n",
       "      <td>...</td>\n",
       "      <td>...</td>\n",
       "      <td>...</td>\n",
       "      <td>...</td>\n",
       "      <td>...</td>\n",
       "      <td>...</td>\n",
       "    </tr>\n",
       "    <tr>\n",
       "      <th>1495</th>\n",
       "      <td>Noordelijk_halfrond</td>\n",
       "      <td>2016-09-04</td>\n",
       "      <td>9.0</td>\n",
       "      <td>Herfst</td>\n",
       "      <td>12.0</td>\n",
       "      <td>2016-09-16</td>\n",
       "      <td>9.0</td>\n",
       "      <td>Herfst</td>\n",
       "    </tr>\n",
       "    <tr>\n",
       "      <th>1496</th>\n",
       "      <td>Noordelijk_halfrond</td>\n",
       "      <td>2017-02-04</td>\n",
       "      <td>2.0</td>\n",
       "      <td>Winter</td>\n",
       "      <td>9.0</td>\n",
       "      <td>2017-02-13</td>\n",
       "      <td>2.0</td>\n",
       "      <td>Winter</td>\n",
       "    </tr>\n",
       "    <tr>\n",
       "      <th>1497</th>\n",
       "      <td>Zuidelijk_halfrond</td>\n",
       "      <td>2017-04-30</td>\n",
       "      <td>4.0</td>\n",
       "      <td>Herfst</td>\n",
       "      <td>1.0</td>\n",
       "      <td>2017-05-01</td>\n",
       "      <td>5.0</td>\n",
       "      <td>Herfst</td>\n",
       "    </tr>\n",
       "    <tr>\n",
       "      <th>1498</th>\n",
       "      <td>Zuidelijk_halfrond</td>\n",
       "      <td>2017-10-03</td>\n",
       "      <td>10.0</td>\n",
       "      <td>Lente</td>\n",
       "      <td>5.0</td>\n",
       "      <td>2017-10-08</td>\n",
       "      <td>10.0</td>\n",
       "      <td>Lente</td>\n",
       "    </tr>\n",
       "    <tr>\n",
       "      <th>1499</th>\n",
       "      <td>Noordelijk_halfrond</td>\n",
       "      <td>2016-03-10</td>\n",
       "      <td>3.0</td>\n",
       "      <td>Lente</td>\n",
       "      <td>5.0</td>\n",
       "      <td>2016-03-15</td>\n",
       "      <td>3.0</td>\n",
       "      <td>Lente</td>\n",
       "    </tr>\n",
       "  </tbody>\n",
       "</table>\n",
       "<p>1500 rows × 8 columns</p>\n",
       "</div>"
      ],
      "text/plain": [
       "                 halfrond date_sickness  date_month Seizoen  \\\n",
       "0     Noordelijk_halfrond    2016-06-16         6.0   Zomer   \n",
       "1     Noordelijk_halfrond    2017-11-22        11.0  Herfst   \n",
       "2     Noordelijk_halfrond    2020-12-28        12.0  Winter   \n",
       "3     Noordelijk_halfrond    2020-03-30         3.0   Lente   \n",
       "4     Noordelijk_halfrond    2015-12-28        12.0  Winter   \n",
       "...                   ...           ...         ...     ...   \n",
       "1495  Noordelijk_halfrond    2016-09-04         9.0  Herfst   \n",
       "1496  Noordelijk_halfrond    2017-02-04         2.0  Winter   \n",
       "1497   Zuidelijk_halfrond    2017-04-30         4.0  Herfst   \n",
       "1498   Zuidelijk_halfrond    2017-10-03        10.0   Lente   \n",
       "1499  Noordelijk_halfrond    2016-03-10         3.0   Lente   \n",
       "\n",
       "      Days_between_onset_and_admission opname_datum  opname_maand  \\\n",
       "0                                  5.0   2016-06-21           6.0   \n",
       "1                                  1.0   2017-11-23          11.0   \n",
       "2                                 15.0   2021-01-12           1.0   \n",
       "3                                 10.0   2020-04-09           4.0   \n",
       "4                                  3.0   2015-12-31          12.0   \n",
       "...                                ...          ...           ...   \n",
       "1495                              12.0   2016-09-16           9.0   \n",
       "1496                               9.0   2017-02-13           2.0   \n",
       "1497                               1.0   2017-05-01           5.0   \n",
       "1498                               5.0   2017-10-08          10.0   \n",
       "1499                               5.0   2016-03-15           3.0   \n",
       "\n",
       "     Seizoen_opname  \n",
       "0             Zomer  \n",
       "1            Herfst  \n",
       "2            Winter  \n",
       "3             Lente  \n",
       "4            Winter  \n",
       "...             ...  \n",
       "1495         Herfst  \n",
       "1496         Winter  \n",
       "1497         Herfst  \n",
       "1498          Lente  \n",
       "1499          Lente  \n",
       "\n",
       "[1500 rows x 8 columns]"
      ]
     },
     "execution_count": 128,
     "metadata": {},
     "output_type": "execute_result"
    }
   ],
   "source": [
    "df_seizoenstest"
   ]
  },
  {
   "cell_type": "code",
   "execution_count": 129,
   "metadata": {},
   "outputs": [
    {
     "name": "stderr",
     "output_type": "stream",
     "text": [
      "C:\\Users\\Chong\\AppData\\Local\\Temp\\ipykernel_13732\\3003221481.py:1: SettingWithCopyWarning: \n",
      "A value is trying to be set on a copy of a slice from a DataFrame.\n",
      "Try using .loc[row_indexer,col_indexer] = value instead\n",
      "\n",
      "See the caveats in the documentation: https://pandas.pydata.org/pandas-docs/stable/user_guide/indexing.html#returning-a-view-versus-a-copy\n",
      "  df_seizoenstest['verschil'] = df_seizoenstest.apply(\n"
     ]
    }
   ],
   "source": [
    "df_seizoenstest['verschil'] = df_seizoenstest.apply(\n",
    "    lambda row: 0 if row['Seizoen'] == row['Seizoen_opname'] else 1, \n",
    "    axis=1\n",
    ")"
   ]
  },
  {
   "cell_type": "code",
   "execution_count": 130,
   "metadata": {},
   "outputs": [
    {
     "data": {
      "text/plain": [
       "6.050684931506849"
      ]
     },
     "execution_count": 130,
     "metadata": {},
     "output_type": "execute_result"
    }
   ],
   "source": [
    "df_seizoenstest['Days_between_onset_and_admission'].mean()"
   ]
  },
  {
   "cell_type": "code",
   "execution_count": 131,
   "metadata": {},
   "outputs": [
    {
     "data": {
      "text/plain": [
       "0    1416\n",
       "1      84\n",
       "Name: verschil, dtype: int64"
      ]
     },
     "execution_count": 131,
     "metadata": {},
     "output_type": "execute_result"
    }
   ],
   "source": [
    "df_seizoenstest['verschil'].value_counts()"
   ]
  },
  {
   "cell_type": "code",
   "execution_count": 132,
   "metadata": {},
   "outputs": [
    {
     "data": {
      "text/html": [
       "<div>\n",
       "<style scoped>\n",
       "    .dataframe tbody tr th:only-of-type {\n",
       "        vertical-align: middle;\n",
       "    }\n",
       "\n",
       "    .dataframe tbody tr th {\n",
       "        vertical-align: top;\n",
       "    }\n",
       "\n",
       "    .dataframe thead th {\n",
       "        text-align: right;\n",
       "    }\n",
       "</style>\n",
       "<table border=\"1\" class=\"dataframe\">\n",
       "  <thead>\n",
       "    <tr style=\"text-align: right;\">\n",
       "      <th>Seizoen_opname</th>\n",
       "      <th>Herfst</th>\n",
       "      <th>Lente</th>\n",
       "      <th>Winter</th>\n",
       "      <th>Zomer</th>\n",
       "    </tr>\n",
       "    <tr>\n",
       "      <th>Seizoen</th>\n",
       "      <th></th>\n",
       "      <th></th>\n",
       "      <th></th>\n",
       "      <th></th>\n",
       "    </tr>\n",
       "  </thead>\n",
       "  <tbody>\n",
       "    <tr>\n",
       "      <th>Herfst</th>\n",
       "      <td>297</td>\n",
       "      <td>0</td>\n",
       "      <td>14</td>\n",
       "      <td>0</td>\n",
       "    </tr>\n",
       "    <tr>\n",
       "      <th>Lente</th>\n",
       "      <td>0</td>\n",
       "      <td>354</td>\n",
       "      <td>0</td>\n",
       "      <td>20</td>\n",
       "    </tr>\n",
       "    <tr>\n",
       "      <th>Winter</th>\n",
       "      <td>0</td>\n",
       "      <td>31</td>\n",
       "      <td>415</td>\n",
       "      <td>0</td>\n",
       "    </tr>\n",
       "    <tr>\n",
       "      <th>Zomer</th>\n",
       "      <td>16</td>\n",
       "      <td>0</td>\n",
       "      <td>0</td>\n",
       "      <td>313</td>\n",
       "    </tr>\n",
       "  </tbody>\n",
       "</table>\n",
       "</div>"
      ],
      "text/plain": [
       "Seizoen_opname  Herfst  Lente  Winter  Zomer\n",
       "Seizoen                                     \n",
       "Herfst             297      0      14      0\n",
       "Lente                0    354       0     20\n",
       "Winter               0     31     415      0\n",
       "Zomer               16      0       0    313"
      ]
     },
     "execution_count": 132,
     "metadata": {},
     "output_type": "execute_result"
    }
   ],
   "source": [
    "freq_table = pd.crosstab(df_seizoenstest['Seizoen'], df_seizoenstest['Seizoen_opname']) \n",
    "freq_table"
   ]
  },
  {
   "cell_type": "markdown",
   "metadata": {},
   "source": [
    "Hieruit is op te halen dat er weinig verschil zit tussen of je kijkt naar het seizoen waarin de eerste klachten kwamen en het seizoen waarin de patiënten werden opgenomen"
   ]
  },
  {
   "cell_type": "markdown",
   "metadata": {},
   "source": [
    "Verder heeft het aantal dagen tussen ziekte en opname een mediaan van 6, wat laat zien dat veel van deze gevallen ook rond de seizoenswissellagen."
   ]
  },
  {
   "cell_type": "code",
   "execution_count": 133,
   "metadata": {},
   "outputs": [],
   "source": [
    "# a = df[['country_name','date_month','Seizoen']]\n",
    "# print(a)"
   ]
  },
  {
   "cell_type": "code",
   "execution_count": 134,
   "metadata": {},
   "outputs": [
    {
     "data": {
      "text/plain": [
       "Text(0, 0.5, 'Aantal patient')"
      ]
     },
     "execution_count": 134,
     "metadata": {},
     "output_type": "execute_result"
    },
    {
     "data": {
      "image/png": "[encoded data removed]",
      "text/plain": [
       "<Figure size 432x288 with 1 Axes>"
      ]
     },
     "metadata": {
      "needs_background": "light"
     },
     "output_type": "display_data"
    }
   ],
   "source": [
    "sns.countplot(data = df,x='Seizoen', hue = 'Seizoen',\n",
    "              order = ['Lente', 'Zomer', 'Herfst', 'Winter'],\n",
    "              palette='Set2')\n",
    "plt.title('Verdeling hoeveelheid GBS per seizoen')\n",
    "plt.xticks(rotation = 90)\n",
    "plt.xlabel('Seizoenen')\n",
    "plt.ylabel('Aantal patient')\n"
   ]
  },
  {
   "cell_type": "code",
   "execution_count": 475,
   "metadata": {},
   "outputs": [
    {
     "data": {
      "image/png": "[encoded data removed]",
      "text/plain": [
       "<Figure size 720x432 with 1 Axes>"
      ]
     },
     "metadata": {
      "needs_background": "light"
     },
     "output_type": "display_data"
    }
   ],
   "source": [
    "month_counts = pd.Series(df['date_month'].value_counts())\n",
    "month_names = {\n",
    "    1.0: 'Januari',\n",
    "    2.0: 'Februari',\n",
    "    3.0: 'Maart',\n",
    "    4.0: 'April',\n",
    "    5.0: 'Mei',\n",
    "    6.0: 'Juni',\n",
    "    7.0: 'Juli',\n",
    "    8.0: 'Augustus',\n",
    "    9.0: 'September',\n",
    "    10.0: 'Oktober',\n",
    "    11.0: 'November',\n",
    "    12.0: 'December'\n",
    "}\n",
    "\n",
    "\n",
    "month_counts.index = month_counts.index.map(month_names)\n",
    "\n",
    "plt.figure(figsize=(10, 6))\n",
    "sns.barplot(x=month_counts.index, y=month_counts.values, palette='Set2',\n",
    "            order = ['Januari', 'Februari', 'Maart', 'April', 'Mei', 'Juni', 'Juli', 'Augustus', 'September', 'Oktober', 'November', 'December']\n",
    ")\n",
    "\n",
    "\n",
    "plt.xlabel('Maand')\n",
    "plt.ylabel('Aantal patient')\n",
    "plt.title('Verdeling van start klacht datum per maand')\n",
    "\n",
    "plt.xticks(rotation=45)\n",
    "plt.show()\n",
    "\n"
   ]
  },
  {
   "cell_type": "code",
   "execution_count": 135,
   "metadata": {},
   "outputs": [
    {
     "data": {
      "text/plain": [
       "(3.7451420362510364,\n",
       " 0.9273719105102436,\n",
       " 9,\n",
       " array([[ 46.85372522,  56.13465482,  66.76281613,  49.24880383],\n",
       "        [ 21.18045113,  25.37593985,  30.18045113,  22.26315789],\n",
       "        [208.38140807, 249.6582365 , 296.92686261, 219.03349282],\n",
       "        [ 36.58441558,  43.83116883,  52.12987013,  38.45454545]]))"
      ]
     },
     "execution_count": 135,
     "metadata": {},
     "output_type": "execute_result"
    }
   ],
   "source": [
    "Klimaat_Seizoen = pd.crosstab(df['klimaat'], df['Seizoen'])\n",
    "\n",
    "stats.chi2_contingency(Klimaat_Seizoen)"
   ]
  },
  {
   "cell_type": "markdown",
   "metadata": {},
   "source": [
    "De chi-kwadraat toets geeft een p-waarde van 0,9237.... dat is hoger dan 0,05. Dus de 0-hypothese wordt bewaard.\n",
    "De 0 hypothese is dat de 2 variabelen statistisch onafhankelijk zijn."
   ]
  },
  {
   "cell_type": "markdown",
   "metadata": {},
   "source": [
    "# NA handling"
   ]
  },
  {
   "cell_type": "markdown",
   "metadata": {},
   "source": [
    "Eerst kijken hoeveel NA er zijn in de dataset. Om te bepalen welke vorm van NA-handling wordt toegepast"
   ]
  },
  {
   "cell_type": "code",
   "execution_count": 136,
   "metadata": {},
   "outputs": [
    {
     "name": "stdout",
     "output_type": "stream",
     "text": [
      "Age : 9\n",
      "Sex : 0\n",
      "MRC_sum_e : 50\n",
      "MRC_sum_w1 : 183\n",
      "CNI_e : 33\n",
      "CNI_Bulbar_e : 33\n",
      "CNI_Facial_e : 33\n",
      "CNI_Oculomotor_e : 33\n",
      "CNI_w1 : 175\n",
      "CNI_Bulbar_w1 : 189\n",
      "CNI_Facial_w1 : 189\n",
      "CNI_Oculomotor_w1 : 189\n",
      "Pain_e : 35\n",
      "Pain_w1 : 171\n",
      "Sens_deficits_e : 40\n",
      "Sens_deficits_w1 : 182\n",
      "Ant_event : 98\n",
      "Ant_event_GE : 1105\n",
      "Ant_event_respiratory : 917\n",
      "Ant_event_vaccination : 1464\n",
      "Ant_event_other : 1429\n",
      "GBSDS_e : 40\n",
      "Able_to_walk_e : 40\n",
      "GBSDS_w1 : 178\n",
      "Able_to_walk_w1 : 178\n",
      "CSF_protein_level : 180\n",
      "Comorbidity_respiration : 32\n",
      "Days_between_onset_and_admission : 40\n",
      "Continent : 0\n",
      "Country_of_inclusion : 0\n",
      "Surv_days : 367\n",
      "Surv_status : 363\n",
      "Surv_unable_to_walk : 0\n",
      "Walking_again : 606\n",
      "Deceased : 0\n",
      "date_sickness : 37\n",
      "date_month : 37\n",
      "country_name : 0\n",
      "klimaat : 0\n",
      "halfrond : 0\n",
      "Seizoen : 37\n"
     ]
    }
   ],
   "source": [
    "for column, dtype in zip(df.columns, df.isna().sum()):\n",
    "    print(column, \":\", dtype)"
   ]
  },
  {
   "cell_type": "code",
   "execution_count": 137,
   "metadata": {},
   "outputs": [
    {
     "data": {
      "text/html": [
       "<div>\n",
       "<style scoped>\n",
       "    .dataframe tbody tr th:only-of-type {\n",
       "        vertical-align: middle;\n",
       "    }\n",
       "\n",
       "    .dataframe tbody tr th {\n",
       "        vertical-align: top;\n",
       "    }\n",
       "\n",
       "    .dataframe thead th {\n",
       "        text-align: right;\n",
       "    }\n",
       "</style>\n",
       "<table border=\"1\" class=\"dataframe\">\n",
       "  <thead>\n",
       "    <tr style=\"text-align: right;\">\n",
       "      <th></th>\n",
       "      <th>Age</th>\n",
       "      <th>Sex</th>\n",
       "      <th>MRC_sum_e</th>\n",
       "      <th>MRC_sum_w1</th>\n",
       "      <th>CNI_e</th>\n",
       "      <th>CNI_Bulbar_e</th>\n",
       "      <th>CNI_Facial_e</th>\n",
       "      <th>CNI_Oculomotor_e</th>\n",
       "      <th>CNI_w1</th>\n",
       "      <th>CNI_Bulbar_w1</th>\n",
       "      <th>...</th>\n",
       "      <th>Surv_status</th>\n",
       "      <th>Surv_unable_to_walk</th>\n",
       "      <th>Walking_again</th>\n",
       "      <th>Deceased</th>\n",
       "      <th>date_sickness</th>\n",
       "      <th>date_month</th>\n",
       "      <th>country_name</th>\n",
       "      <th>klimaat</th>\n",
       "      <th>halfrond</th>\n",
       "      <th>Seizoen</th>\n",
       "    </tr>\n",
       "  </thead>\n",
       "  <tbody>\n",
       "    <tr>\n",
       "      <th>0</th>\n",
       "      <td>75.0</td>\n",
       "      <td>0</td>\n",
       "      <td>50.0</td>\n",
       "      <td>53.0</td>\n",
       "      <td>1.0</td>\n",
       "      <td>0.0</td>\n",
       "      <td>0.0</td>\n",
       "      <td>1.0</td>\n",
       "      <td>1.0</td>\n",
       "      <td>0.0</td>\n",
       "      <td>...</td>\n",
       "      <td>1.0</td>\n",
       "      <td>1</td>\n",
       "      <td>1.0</td>\n",
       "      <td>0</td>\n",
       "      <td>2016-06-16</td>\n",
       "      <td>6.0</td>\n",
       "      <td>Denemarken</td>\n",
       "      <td>C Klimaat</td>\n",
       "      <td>Noordelijk_halfrond</td>\n",
       "      <td>Zomer</td>\n",
       "    </tr>\n",
       "    <tr>\n",
       "      <th>1</th>\n",
       "      <td>22.0</td>\n",
       "      <td>0</td>\n",
       "      <td>50.0</td>\n",
       "      <td>46.0</td>\n",
       "      <td>0.0</td>\n",
       "      <td>0.0</td>\n",
       "      <td>0.0</td>\n",
       "      <td>0.0</td>\n",
       "      <td>0.0</td>\n",
       "      <td>0.0</td>\n",
       "      <td>...</td>\n",
       "      <td>1.0</td>\n",
       "      <td>1</td>\n",
       "      <td>1.0</td>\n",
       "      <td>0</td>\n",
       "      <td>2017-11-22</td>\n",
       "      <td>11.0</td>\n",
       "      <td>Bangladesh</td>\n",
       "      <td>A Klimaat</td>\n",
       "      <td>Noordelijk_halfrond</td>\n",
       "      <td>Herfst</td>\n",
       "    </tr>\n",
       "    <tr>\n",
       "      <th>2</th>\n",
       "      <td>63.0</td>\n",
       "      <td>0</td>\n",
       "      <td>40.0</td>\n",
       "      <td>53.0</td>\n",
       "      <td>0.0</td>\n",
       "      <td>0.0</td>\n",
       "      <td>0.0</td>\n",
       "      <td>0.0</td>\n",
       "      <td>0.0</td>\n",
       "      <td>0.0</td>\n",
       "      <td>...</td>\n",
       "      <td>0.0</td>\n",
       "      <td>1</td>\n",
       "      <td>NaN</td>\n",
       "      <td>0</td>\n",
       "      <td>2020-12-28</td>\n",
       "      <td>12.0</td>\n",
       "      <td>Verenigde Staten</td>\n",
       "      <td>D Klimaat</td>\n",
       "      <td>Noordelijk_halfrond</td>\n",
       "      <td>Winter</td>\n",
       "    </tr>\n",
       "    <tr>\n",
       "      <th>3</th>\n",
       "      <td>30.0</td>\n",
       "      <td>1</td>\n",
       "      <td>60.0</td>\n",
       "      <td>59.0</td>\n",
       "      <td>1.0</td>\n",
       "      <td>1.0</td>\n",
       "      <td>1.0</td>\n",
       "      <td>1.0</td>\n",
       "      <td>1.0</td>\n",
       "      <td>0.0</td>\n",
       "      <td>...</td>\n",
       "      <td>1.0</td>\n",
       "      <td>1</td>\n",
       "      <td>1.0</td>\n",
       "      <td>0</td>\n",
       "      <td>2020-03-30</td>\n",
       "      <td>3.0</td>\n",
       "      <td>Italië</td>\n",
       "      <td>C Klimaat</td>\n",
       "      <td>Noordelijk_halfrond</td>\n",
       "      <td>Lente</td>\n",
       "    </tr>\n",
       "    <tr>\n",
       "      <th>4</th>\n",
       "      <td>48.0</td>\n",
       "      <td>1</td>\n",
       "      <td>39.0</td>\n",
       "      <td>45.0</td>\n",
       "      <td>0.0</td>\n",
       "      <td>0.0</td>\n",
       "      <td>0.0</td>\n",
       "      <td>0.0</td>\n",
       "      <td>1.0</td>\n",
       "      <td>1.0</td>\n",
       "      <td>...</td>\n",
       "      <td>0.0</td>\n",
       "      <td>1</td>\n",
       "      <td>NaN</td>\n",
       "      <td>0</td>\n",
       "      <td>2015-12-28</td>\n",
       "      <td>12.0</td>\n",
       "      <td>Verenigd Koninkrijk</td>\n",
       "      <td>C Klimaat</td>\n",
       "      <td>Noordelijk_halfrond</td>\n",
       "      <td>Winter</td>\n",
       "    </tr>\n",
       "    <tr>\n",
       "      <th>...</th>\n",
       "      <td>...</td>\n",
       "      <td>...</td>\n",
       "      <td>...</td>\n",
       "      <td>...</td>\n",
       "      <td>...</td>\n",
       "      <td>...</td>\n",
       "      <td>...</td>\n",
       "      <td>...</td>\n",
       "      <td>...</td>\n",
       "      <td>...</td>\n",
       "      <td>...</td>\n",
       "      <td>...</td>\n",
       "      <td>...</td>\n",
       "      <td>...</td>\n",
       "      <td>...</td>\n",
       "      <td>...</td>\n",
       "      <td>...</td>\n",
       "      <td>...</td>\n",
       "      <td>...</td>\n",
       "      <td>...</td>\n",
       "      <td>...</td>\n",
       "    </tr>\n",
       "    <tr>\n",
       "      <th>1494</th>\n",
       "      <td>69.0</td>\n",
       "      <td>0</td>\n",
       "      <td>42.0</td>\n",
       "      <td>50.0</td>\n",
       "      <td>0.0</td>\n",
       "      <td>0.0</td>\n",
       "      <td>0.0</td>\n",
       "      <td>0.0</td>\n",
       "      <td>0.0</td>\n",
       "      <td>0.0</td>\n",
       "      <td>...</td>\n",
       "      <td>0.0</td>\n",
       "      <td>1</td>\n",
       "      <td>NaN</td>\n",
       "      <td>0</td>\n",
       "      <td>2016-02-12</td>\n",
       "      <td>2.0</td>\n",
       "      <td>Taiwan</td>\n",
       "      <td>C Klimaat</td>\n",
       "      <td>Noordelijk_halfrond</td>\n",
       "      <td>Winter</td>\n",
       "    </tr>\n",
       "    <tr>\n",
       "      <th>1496</th>\n",
       "      <td>66.0</td>\n",
       "      <td>0</td>\n",
       "      <td>54.0</td>\n",
       "      <td>55.0</td>\n",
       "      <td>1.0</td>\n",
       "      <td>1.0</td>\n",
       "      <td>1.0</td>\n",
       "      <td>0.0</td>\n",
       "      <td>0.0</td>\n",
       "      <td>0.0</td>\n",
       "      <td>...</td>\n",
       "      <td>1.0</td>\n",
       "      <td>1</td>\n",
       "      <td>1.0</td>\n",
       "      <td>0</td>\n",
       "      <td>2017-02-04</td>\n",
       "      <td>2.0</td>\n",
       "      <td>Nederland</td>\n",
       "      <td>C Klimaat</td>\n",
       "      <td>Noordelijk_halfrond</td>\n",
       "      <td>Winter</td>\n",
       "    </tr>\n",
       "    <tr>\n",
       "      <th>1497</th>\n",
       "      <td>67.0</td>\n",
       "      <td>0</td>\n",
       "      <td>33.0</td>\n",
       "      <td>46.0</td>\n",
       "      <td>1.0</td>\n",
       "      <td>1.0</td>\n",
       "      <td>1.0</td>\n",
       "      <td>0.0</td>\n",
       "      <td>1.0</td>\n",
       "      <td>1.0</td>\n",
       "      <td>...</td>\n",
       "      <td>1.0</td>\n",
       "      <td>1</td>\n",
       "      <td>1.0</td>\n",
       "      <td>0</td>\n",
       "      <td>2017-04-30</td>\n",
       "      <td>4.0</td>\n",
       "      <td>Zuid-Afrika</td>\n",
       "      <td>C Klimaat</td>\n",
       "      <td>Zuidelijk_halfrond</td>\n",
       "      <td>Herfst</td>\n",
       "    </tr>\n",
       "    <tr>\n",
       "      <th>1498</th>\n",
       "      <td>35.0</td>\n",
       "      <td>1</td>\n",
       "      <td>1.0</td>\n",
       "      <td>3.0</td>\n",
       "      <td>1.0</td>\n",
       "      <td>1.0</td>\n",
       "      <td>0.0</td>\n",
       "      <td>0.0</td>\n",
       "      <td>1.0</td>\n",
       "      <td>1.0</td>\n",
       "      <td>...</td>\n",
       "      <td>1.0</td>\n",
       "      <td>1</td>\n",
       "      <td>1.0</td>\n",
       "      <td>0</td>\n",
       "      <td>2017-10-03</td>\n",
       "      <td>10.0</td>\n",
       "      <td>Argentinië</td>\n",
       "      <td>C Klimaat</td>\n",
       "      <td>Zuidelijk_halfrond</td>\n",
       "      <td>Lente</td>\n",
       "    </tr>\n",
       "    <tr>\n",
       "      <th>1499</th>\n",
       "      <td>67.0</td>\n",
       "      <td>0</td>\n",
       "      <td>60.0</td>\n",
       "      <td>59.0</td>\n",
       "      <td>1.0</td>\n",
       "      <td>0.0</td>\n",
       "      <td>1.0</td>\n",
       "      <td>0.0</td>\n",
       "      <td>0.0</td>\n",
       "      <td>0.0</td>\n",
       "      <td>...</td>\n",
       "      <td>1.0</td>\n",
       "      <td>1</td>\n",
       "      <td>1.0</td>\n",
       "      <td>0</td>\n",
       "      <td>2016-03-10</td>\n",
       "      <td>3.0</td>\n",
       "      <td>Italië</td>\n",
       "      <td>C Klimaat</td>\n",
       "      <td>Noordelijk_halfrond</td>\n",
       "      <td>Lente</td>\n",
       "    </tr>\n",
       "  </tbody>\n",
       "</table>\n",
       "<p>1325 rows × 41 columns</p>\n",
       "</div>"
      ],
      "text/plain": [
       "       Age  Sex  MRC_sum_e  MRC_sum_w1  CNI_e  CNI_Bulbar_e  CNI_Facial_e  \\\n",
       "0     75.0    0       50.0        53.0    1.0           0.0           0.0   \n",
       "1     22.0    0       50.0        46.0    0.0           0.0           0.0   \n",
       "2     63.0    0       40.0        53.0    0.0           0.0           0.0   \n",
       "3     30.0    1       60.0        59.0    1.0           1.0           1.0   \n",
       "4     48.0    1       39.0        45.0    0.0           0.0           0.0   \n",
       "...    ...  ...        ...         ...    ...           ...           ...   \n",
       "1494  69.0    0       42.0        50.0    0.0           0.0           0.0   \n",
       "1496  66.0    0       54.0        55.0    1.0           1.0           1.0   \n",
       "1497  67.0    0       33.0        46.0    1.0           1.0           1.0   \n",
       "1498  35.0    1        1.0         3.0    1.0           1.0           0.0   \n",
       "1499  67.0    0       60.0        59.0    1.0           0.0           1.0   \n",
       "\n",
       "      CNI_Oculomotor_e  CNI_w1  CNI_Bulbar_w1  ...  Surv_status  \\\n",
       "0                  1.0     1.0            0.0  ...          1.0   \n",
       "1                  0.0     0.0            0.0  ...          1.0   \n",
       "2                  0.0     0.0            0.0  ...          0.0   \n",
       "3                  1.0     1.0            0.0  ...          1.0   \n",
       "4                  0.0     1.0            1.0  ...          0.0   \n",
       "...                ...     ...            ...  ...          ...   \n",
       "1494               0.0     0.0            0.0  ...          0.0   \n",
       "1496               0.0     0.0            0.0  ...          1.0   \n",
       "1497               0.0     1.0            1.0  ...          1.0   \n",
       "1498               0.0     1.0            1.0  ...          1.0   \n",
       "1499               0.0     0.0            0.0  ...          1.0   \n",
       "\n",
       "      Surv_unable_to_walk  Walking_again  Deceased  date_sickness  date_month  \\\n",
       "0                       1            1.0         0     2016-06-16         6.0   \n",
       "1                       1            1.0         0     2017-11-22        11.0   \n",
       "2                       1            NaN         0     2020-12-28        12.0   \n",
       "3                       1            1.0         0     2020-03-30         3.0   \n",
       "4                       1            NaN         0     2015-12-28        12.0   \n",
       "...                   ...            ...       ...            ...         ...   \n",
       "1494                    1            NaN         0     2016-02-12         2.0   \n",
       "1496                    1            1.0         0     2017-02-04         2.0   \n",
       "1497                    1            1.0         0     2017-04-30         4.0   \n",
       "1498                    1            1.0         0     2017-10-03        10.0   \n",
       "1499                    1            1.0         0     2016-03-10         3.0   \n",
       "\n",
       "             country_name    klimaat             halfrond  Seizoen  \n",
       "0              Denemarken  C Klimaat  Noordelijk_halfrond    Zomer  \n",
       "1              Bangladesh  A Klimaat  Noordelijk_halfrond   Herfst  \n",
       "2        Verenigde Staten  D Klimaat  Noordelijk_halfrond   Winter  \n",
       "3                  Italië  C Klimaat  Noordelijk_halfrond    Lente  \n",
       "4     Verenigd Koninkrijk  C Klimaat  Noordelijk_halfrond   Winter  \n",
       "...                   ...        ...                  ...      ...  \n",
       "1494               Taiwan  C Klimaat  Noordelijk_halfrond   Winter  \n",
       "1496            Nederland  C Klimaat  Noordelijk_halfrond   Winter  \n",
       "1497          Zuid-Afrika  C Klimaat   Zuidelijk_halfrond   Herfst  \n",
       "1498           Argentinië  C Klimaat   Zuidelijk_halfrond    Lente  \n",
       "1499               Italië  C Klimaat  Noordelijk_halfrond    Lente  \n",
       "\n",
       "[1325 rows x 41 columns]"
      ]
     },
     "execution_count": 137,
     "metadata": {},
     "output_type": "execute_result"
    }
   ],
   "source": [
    "df = df.dropna(thresh= df.shape[1]-10)\n",
    "df"
   ]
  },
  {
   "cell_type": "code",
   "execution_count": 138,
   "metadata": {},
   "outputs": [
    {
     "name": "stdout",
     "output_type": "stream",
     "text": [
      "Age : 3\n",
      "Sex : 0\n",
      "MRC_sum_e : 16\n",
      "MRC_sum_w1 : 12\n",
      "CNI_e : 0\n",
      "CNI_Bulbar_e : 0\n",
      "CNI_Facial_e : 0\n",
      "CNI_Oculomotor_e : 0\n",
      "CNI_w1 : 4\n",
      "CNI_Bulbar_w1 : 18\n",
      "CNI_Facial_w1 : 18\n",
      "CNI_Oculomotor_w1 : 18\n",
      "Pain_e : 4\n",
      "Pain_w1 : 3\n",
      "Sens_deficits_e : 8\n",
      "Sens_deficits_w1 : 11\n",
      "Ant_event : 83\n",
      "Ant_event_GE : 967\n",
      "Ant_event_respiratory : 813\n",
      "Ant_event_vaccination : 1297\n",
      "Ant_event_other : 1259\n",
      "GBSDS_e : 8\n",
      "Able_to_walk_e : 8\n",
      "GBSDS_w1 : 10\n",
      "Able_to_walk_w1 : 10\n",
      "CSF_protein_level : 154\n",
      "Comorbidity_respiration : 4\n",
      "Days_between_onset_and_admission : 7\n",
      "Continent : 0\n",
      "Country_of_inclusion : 0\n",
      "Surv_days : 276\n",
      "Surv_status : 287\n",
      "Surv_unable_to_walk : 0\n",
      "Walking_again : 480\n",
      "Deceased : 0\n",
      "date_sickness : 7\n",
      "date_month : 7\n",
      "country_name : 0\n",
      "klimaat : 0\n",
      "halfrond : 0\n",
      "Seizoen : 7\n"
     ]
    }
   ],
   "source": [
    "for column, dtype in zip(df.columns, df.isna().sum()):\n",
    "    print(column, \":\", dtype)"
   ]
  },
  {
   "cell_type": "code",
   "execution_count": 139,
   "metadata": {},
   "outputs": [
    {
     "data": {
      "text/plain": [
       "1242"
      ]
     },
     "execution_count": 139,
     "metadata": {},
     "output_type": "execute_result"
    }
   ],
   "source": [
    "df[df['Ant_event'].isna() == False]['Ant_event'].count()"
   ]
  },
  {
   "cell_type": "code",
   "execution_count": 140,
   "metadata": {},
   "outputs": [
    {
     "data": {
      "text/plain": [
       "358"
      ]
     },
     "execution_count": 140,
     "metadata": {},
     "output_type": "execute_result"
    }
   ],
   "source": [
    "df[df['Ant_event_GE'].isna() == False]['Ant_event_GE'].count()"
   ]
  },
  {
   "cell_type": "code",
   "execution_count": 141,
   "metadata": {},
   "outputs": [
    {
     "data": {
      "text/plain": [
       "0       1.0\n",
       "1       NaN\n",
       "2       NaN\n",
       "3       NaN\n",
       "4       1.0\n",
       "       ... \n",
       "1494    NaN\n",
       "1496    NaN\n",
       "1497    NaN\n",
       "1498    NaN\n",
       "1499    NaN\n",
       "Name: Ant_event_GE, Length: 1325, dtype: float64"
      ]
     },
     "execution_count": 141,
     "metadata": {},
     "output_type": "execute_result"
    }
   ],
   "source": [
    "df['Ant_event_GE']"
   ]
  },
  {
   "cell_type": "code",
   "execution_count": 142,
   "metadata": {},
   "outputs": [
    {
     "data": {
      "text/plain": [
       "1.0    950\n",
       "0.0    292\n",
       "Name: Ant_event, dtype: int64"
      ]
     },
     "execution_count": 142,
     "metadata": {},
     "output_type": "execute_result"
    }
   ],
   "source": [
    "df['Ant_event'].value_counts()"
   ]
  },
  {
   "cell_type": "code",
   "execution_count": 143,
   "metadata": {},
   "outputs": [
    {
     "data": {
      "text/plain": [
       "967"
      ]
     },
     "execution_count": 143,
     "metadata": {},
     "output_type": "execute_result"
    }
   ],
   "source": [
    "df['Ant_event_GE'].isna().sum()"
   ]
  },
  {
   "cell_type": "code",
   "execution_count": 144,
   "metadata": {},
   "outputs": [
    {
     "data": {
      "text/plain": [
       "1.0    358\n",
       "Name: Ant_event_GE, dtype: int64"
      ]
     },
     "execution_count": 144,
     "metadata": {},
     "output_type": "execute_result"
    }
   ],
   "source": [
    "df['Ant_event_GE'].value_counts()"
   ]
  },
  {
   "cell_type": "code",
   "execution_count": 145,
   "metadata": {},
   "outputs": [],
   "source": [
    "df['Ant_event_GE'] = df['Ant_event_GE'].fillna(df['Ant_event'].\n",
    "                                               where(df['Ant_event'] <2, other=pd.NA).replace(1, 0))"
   ]
  },
  {
   "cell_type": "code",
   "execution_count": 146,
   "metadata": {},
   "outputs": [
    {
     "data": {
      "text/plain": [
       "83"
      ]
     },
     "execution_count": 146,
     "metadata": {},
     "output_type": "execute_result"
    }
   ],
   "source": [
    "df['Ant_event_GE'].isna().sum()"
   ]
  },
  {
   "cell_type": "code",
   "execution_count": 147,
   "metadata": {},
   "outputs": [
    {
     "data": {
      "text/plain": [
       "0.0    884\n",
       "1.0    358\n",
       "Name: Ant_event_GE, dtype: int64"
      ]
     },
     "execution_count": 147,
     "metadata": {},
     "output_type": "execute_result"
    }
   ],
   "source": [
    "df['Ant_event_GE'].value_counts()\n"
   ]
  },
  {
   "cell_type": "code",
   "execution_count": 148,
   "metadata": {},
   "outputs": [],
   "source": [
    "df['Ant_event_respiratory'] = df['Ant_event_respiratory'].fillna(df['Ant_event'].\n",
    "                                               where(df['Ant_event'] <2, other=pd.NA).replace(1, 0))"
   ]
  },
  {
   "cell_type": "code",
   "execution_count": 149,
   "metadata": {},
   "outputs": [],
   "source": [
    "df['Ant_event_vaccination'] = df['Ant_event_vaccination'].fillna(df['Ant_event'].\n",
    "                                               where(df['Ant_event'] <2, other=pd.NA).replace(1, 0))"
   ]
  },
  {
   "cell_type": "code",
   "execution_count": 150,
   "metadata": {},
   "outputs": [],
   "source": [
    "df['Ant_event_other'] = df['Ant_event_other'].fillna(df['Ant_event'].\n",
    "                                               where(df['Ant_event'] <2, other=pd.NA).replace(1, 0))"
   ]
  },
  {
   "cell_type": "markdown",
   "metadata": {},
   "source": []
  },
  {
   "cell_type": "code",
   "execution_count": 151,
   "metadata": {},
   "outputs": [
    {
     "name": "stdout",
     "output_type": "stream",
     "text": [
      "Age : 3\n",
      "Sex : 0\n",
      "MRC_sum_e : 16\n",
      "MRC_sum_w1 : 12\n",
      "CNI_e : 0\n",
      "CNI_Bulbar_e : 0\n",
      "CNI_Facial_e : 0\n",
      "CNI_Oculomotor_e : 0\n",
      "CNI_w1 : 4\n",
      "CNI_Bulbar_w1 : 18\n",
      "CNI_Facial_w1 : 18\n",
      "CNI_Oculomotor_w1 : 18\n",
      "Pain_e : 4\n",
      "Pain_w1 : 3\n",
      "Sens_deficits_e : 8\n",
      "Sens_deficits_w1 : 11\n",
      "Ant_event : 83\n",
      "Ant_event_GE : 83\n",
      "Ant_event_respiratory : 83\n",
      "Ant_event_vaccination : 83\n",
      "Ant_event_other : 83\n",
      "GBSDS_e : 8\n",
      "Able_to_walk_e : 8\n",
      "GBSDS_w1 : 10\n",
      "Able_to_walk_w1 : 10\n",
      "CSF_protein_level : 154\n",
      "Comorbidity_respiration : 4\n",
      "Days_between_onset_and_admission : 7\n",
      "Continent : 0\n",
      "Country_of_inclusion : 0\n",
      "Surv_days : 276\n",
      "Surv_status : 287\n",
      "Surv_unable_to_walk : 0\n",
      "Walking_again : 480\n",
      "Deceased : 0\n",
      "date_sickness : 7\n",
      "date_month : 7\n",
      "country_name : 0\n",
      "klimaat : 0\n",
      "halfrond : 0\n",
      "Seizoen : 7\n"
     ]
    }
   ],
   "source": [
    "for column, dtype in zip(df.columns, df.isna().sum()):\n",
    "    print(column, \":\", dtype)"
   ]
  },
  {
   "cell_type": "code",
   "execution_count": 152,
   "metadata": {},
   "outputs": [],
   "source": [
    "df_2  = df[['Able_to_walk_e','Able_to_walk_w1','Surv_unable_to_walk','Walking_again']]"
   ]
  },
  {
   "cell_type": "code",
   "execution_count": 153,
   "metadata": {},
   "outputs": [
    {
     "data": {
      "text/html": [
       "<div>\n",
       "<style scoped>\n",
       "    .dataframe tbody tr th:only-of-type {\n",
       "        vertical-align: middle;\n",
       "    }\n",
       "\n",
       "    .dataframe tbody tr th {\n",
       "        vertical-align: top;\n",
       "    }\n",
       "\n",
       "    .dataframe thead th {\n",
       "        text-align: right;\n",
       "    }\n",
       "</style>\n",
       "<table border=\"1\" class=\"dataframe\">\n",
       "  <thead>\n",
       "    <tr style=\"text-align: right;\">\n",
       "      <th></th>\n",
       "      <th>Able_to_walk_e</th>\n",
       "      <th>Able_to_walk_w1</th>\n",
       "      <th>Surv_unable_to_walk</th>\n",
       "      <th>Walking_again</th>\n",
       "    </tr>\n",
       "  </thead>\n",
       "  <tbody>\n",
       "    <tr>\n",
       "      <th>0</th>\n",
       "      <td>0.0</td>\n",
       "      <td>0.0</td>\n",
       "      <td>1</td>\n",
       "      <td>1.0</td>\n",
       "    </tr>\n",
       "    <tr>\n",
       "      <th>1</th>\n",
       "      <td>0.0</td>\n",
       "      <td>0.0</td>\n",
       "      <td>1</td>\n",
       "      <td>1.0</td>\n",
       "    </tr>\n",
       "    <tr>\n",
       "      <th>2</th>\n",
       "      <td>0.0</td>\n",
       "      <td>0.0</td>\n",
       "      <td>1</td>\n",
       "      <td>NaN</td>\n",
       "    </tr>\n",
       "    <tr>\n",
       "      <th>3</th>\n",
       "      <td>0.0</td>\n",
       "      <td>1.0</td>\n",
       "      <td>1</td>\n",
       "      <td>1.0</td>\n",
       "    </tr>\n",
       "    <tr>\n",
       "      <th>4</th>\n",
       "      <td>0.0</td>\n",
       "      <td>0.0</td>\n",
       "      <td>1</td>\n",
       "      <td>NaN</td>\n",
       "    </tr>\n",
       "    <tr>\n",
       "      <th>...</th>\n",
       "      <td>...</td>\n",
       "      <td>...</td>\n",
       "      <td>...</td>\n",
       "      <td>...</td>\n",
       "    </tr>\n",
       "    <tr>\n",
       "      <th>1494</th>\n",
       "      <td>0.0</td>\n",
       "      <td>0.0</td>\n",
       "      <td>1</td>\n",
       "      <td>NaN</td>\n",
       "    </tr>\n",
       "    <tr>\n",
       "      <th>1496</th>\n",
       "      <td>0.0</td>\n",
       "      <td>0.0</td>\n",
       "      <td>1</td>\n",
       "      <td>1.0</td>\n",
       "    </tr>\n",
       "    <tr>\n",
       "      <th>1497</th>\n",
       "      <td>0.0</td>\n",
       "      <td>0.0</td>\n",
       "      <td>1</td>\n",
       "      <td>1.0</td>\n",
       "    </tr>\n",
       "    <tr>\n",
       "      <th>1498</th>\n",
       "      <td>0.0</td>\n",
       "      <td>0.0</td>\n",
       "      <td>1</td>\n",
       "      <td>1.0</td>\n",
       "    </tr>\n",
       "    <tr>\n",
       "      <th>1499</th>\n",
       "      <td>0.0</td>\n",
       "      <td>0.0</td>\n",
       "      <td>1</td>\n",
       "      <td>1.0</td>\n",
       "    </tr>\n",
       "  </tbody>\n",
       "</table>\n",
       "<p>1325 rows × 4 columns</p>\n",
       "</div>"
      ],
      "text/plain": [
       "      Able_to_walk_e  Able_to_walk_w1  Surv_unable_to_walk  Walking_again\n",
       "0                0.0              0.0                    1            1.0\n",
       "1                0.0              0.0                    1            1.0\n",
       "2                0.0              0.0                    1            NaN\n",
       "3                0.0              1.0                    1            1.0\n",
       "4                0.0              0.0                    1            NaN\n",
       "...              ...              ...                  ...            ...\n",
       "1494             0.0              0.0                    1            NaN\n",
       "1496             0.0              0.0                    1            1.0\n",
       "1497             0.0              0.0                    1            1.0\n",
       "1498             0.0              0.0                    1            1.0\n",
       "1499             0.0              0.0                    1            1.0\n",
       "\n",
       "[1325 rows x 4 columns]"
      ]
     },
     "execution_count": 153,
     "metadata": {},
     "output_type": "execute_result"
    }
   ],
   "source": [
    "df_2"
   ]
  },
  {
   "cell_type": "code",
   "execution_count": 154,
   "metadata": {},
   "outputs": [],
   "source": [
    "df_lopers = df_2[df_2['Surv_unable_to_walk'] == 0]"
   ]
  },
  {
   "cell_type": "code",
   "execution_count": 155,
   "metadata": {},
   "outputs": [
    {
     "name": "stdout",
     "output_type": "stream",
     "text": [
      "1.0    268\n",
      "Name: Able_to_walk_e, dtype: int64 \n",
      " 1.0    268\n",
      "Name: Able_to_walk_w1, dtype: int64 \n",
      " 0    270\n",
      "Name: Surv_unable_to_walk, dtype: int64 \n",
      " walking_again Series([], Name: Walking_again, dtype: int64)\n"
     ]
    }
   ],
   "source": [
    "print(df_lopers['Able_to_walk_e'].value_counts(), '\\n',\n",
    "    df_lopers['Able_to_walk_w1'].value_counts(), '\\n',\n",
    "    df_lopers['Surv_unable_to_walk'].value_counts(), '\\n',\n",
    "    'walking_again', df_lopers['Walking_again'].value_counts())\n"
   ]
  },
  {
   "cell_type": "code",
   "execution_count": 156,
   "metadata": {},
   "outputs": [],
   "source": [
    "df_NietLopers = df_2[df_2['Surv_unable_to_walk'] == 1]"
   ]
  },
  {
   "cell_type": "code",
   "execution_count": 157,
   "metadata": {},
   "outputs": [
    {
     "data": {
      "text/html": [
       "<div>\n",
       "<style scoped>\n",
       "    .dataframe tbody tr th:only-of-type {\n",
       "        vertical-align: middle;\n",
       "    }\n",
       "\n",
       "    .dataframe tbody tr th {\n",
       "        vertical-align: top;\n",
       "    }\n",
       "\n",
       "    .dataframe thead th {\n",
       "        text-align: right;\n",
       "    }\n",
       "</style>\n",
       "<table border=\"1\" class=\"dataframe\">\n",
       "  <thead>\n",
       "    <tr style=\"text-align: right;\">\n",
       "      <th></th>\n",
       "      <th>Able_to_walk_e</th>\n",
       "      <th>Able_to_walk_w1</th>\n",
       "      <th>Surv_unable_to_walk</th>\n",
       "      <th>Walking_again</th>\n",
       "    </tr>\n",
       "  </thead>\n",
       "  <tbody>\n",
       "    <tr>\n",
       "      <th>0</th>\n",
       "      <td>0.0</td>\n",
       "      <td>0.0</td>\n",
       "      <td>1</td>\n",
       "      <td>1.0</td>\n",
       "    </tr>\n",
       "    <tr>\n",
       "      <th>1</th>\n",
       "      <td>0.0</td>\n",
       "      <td>0.0</td>\n",
       "      <td>1</td>\n",
       "      <td>1.0</td>\n",
       "    </tr>\n",
       "    <tr>\n",
       "      <th>2</th>\n",
       "      <td>0.0</td>\n",
       "      <td>0.0</td>\n",
       "      <td>1</td>\n",
       "      <td>NaN</td>\n",
       "    </tr>\n",
       "    <tr>\n",
       "      <th>3</th>\n",
       "      <td>0.0</td>\n",
       "      <td>1.0</td>\n",
       "      <td>1</td>\n",
       "      <td>1.0</td>\n",
       "    </tr>\n",
       "    <tr>\n",
       "      <th>4</th>\n",
       "      <td>0.0</td>\n",
       "      <td>0.0</td>\n",
       "      <td>1</td>\n",
       "      <td>NaN</td>\n",
       "    </tr>\n",
       "    <tr>\n",
       "      <th>...</th>\n",
       "      <td>...</td>\n",
       "      <td>...</td>\n",
       "      <td>...</td>\n",
       "      <td>...</td>\n",
       "    </tr>\n",
       "    <tr>\n",
       "      <th>1494</th>\n",
       "      <td>0.0</td>\n",
       "      <td>0.0</td>\n",
       "      <td>1</td>\n",
       "      <td>NaN</td>\n",
       "    </tr>\n",
       "    <tr>\n",
       "      <th>1496</th>\n",
       "      <td>0.0</td>\n",
       "      <td>0.0</td>\n",
       "      <td>1</td>\n",
       "      <td>1.0</td>\n",
       "    </tr>\n",
       "    <tr>\n",
       "      <th>1497</th>\n",
       "      <td>0.0</td>\n",
       "      <td>0.0</td>\n",
       "      <td>1</td>\n",
       "      <td>1.0</td>\n",
       "    </tr>\n",
       "    <tr>\n",
       "      <th>1498</th>\n",
       "      <td>0.0</td>\n",
       "      <td>0.0</td>\n",
       "      <td>1</td>\n",
       "      <td>1.0</td>\n",
       "    </tr>\n",
       "    <tr>\n",
       "      <th>1499</th>\n",
       "      <td>0.0</td>\n",
       "      <td>0.0</td>\n",
       "      <td>1</td>\n",
       "      <td>1.0</td>\n",
       "    </tr>\n",
       "  </tbody>\n",
       "</table>\n",
       "<p>1055 rows × 4 columns</p>\n",
       "</div>"
      ],
      "text/plain": [
       "      Able_to_walk_e  Able_to_walk_w1  Surv_unable_to_walk  Walking_again\n",
       "0                0.0              0.0                    1            1.0\n",
       "1                0.0              0.0                    1            1.0\n",
       "2                0.0              0.0                    1            NaN\n",
       "3                0.0              1.0                    1            1.0\n",
       "4                0.0              0.0                    1            NaN\n",
       "...              ...              ...                  ...            ...\n",
       "1494             0.0              0.0                    1            NaN\n",
       "1496             0.0              0.0                    1            1.0\n",
       "1497             0.0              0.0                    1            1.0\n",
       "1498             0.0              0.0                    1            1.0\n",
       "1499             0.0              0.0                    1            1.0\n",
       "\n",
       "[1055 rows x 4 columns]"
      ]
     },
     "execution_count": 157,
     "metadata": {},
     "output_type": "execute_result"
    }
   ],
   "source": [
    "df_NietLopers"
   ]
  },
  {
   "cell_type": "code",
   "execution_count": 158,
   "metadata": {},
   "outputs": [
    {
     "name": "stdout",
     "output_type": "stream",
     "text": [
      "0.0    982\n",
      "1.0    335\n",
      "Name: Able_to_walk_e, dtype: int64 \n",
      " 0.0    907\n",
      "1.0    408\n",
      "Name: Able_to_walk_w1, dtype: int64\n"
     ]
    }
   ],
   "source": [
    "print(df['Able_to_walk_e'].value_counts(), '\\n',\n",
    "      df['Able_to_walk_w1'].value_counts())"
   ]
  },
  {
   "cell_type": "code",
   "execution_count": 159,
   "metadata": {},
   "outputs": [],
   "source": [
    "df['Able_to_walk_e'] = df['Able_to_walk_e'].fillna(df['Surv_unable_to_walk'].\n",
    "                                               where(df['Surv_unable_to_walk'] == 0, other=pd.NA).replace(0, 1))"
   ]
  },
  {
   "cell_type": "code",
   "execution_count": 160,
   "metadata": {},
   "outputs": [],
   "source": [
    "df['Able_to_walk_w1'] = df['Able_to_walk_w1'].fillna(df['Surv_unable_to_walk'].\n",
    "                                               where(df['Surv_unable_to_walk'] == 0, other=pd.NA).replace(0, 1))"
   ]
  },
  {
   "cell_type": "code",
   "execution_count": 161,
   "metadata": {},
   "outputs": [
    {
     "name": "stdout",
     "output_type": "stream",
     "text": [
      "0.0    982\n",
      "1.0    337\n",
      "Name: Able_to_walk_e, dtype: int64 \n",
      " 0.0    907\n",
      "1.0    410\n",
      "Name: Able_to_walk_w1, dtype: int64\n"
     ]
    }
   ],
   "source": [
    "print(df['Able_to_walk_e'].value_counts(), '\\n',\n",
    "      df['Able_to_walk_w1'].value_counts())"
   ]
  },
  {
   "cell_type": "code",
   "execution_count": 162,
   "metadata": {},
   "outputs": [],
   "source": [
    "df['Surv_status'] = df['Surv_status'].fillna(0)"
   ]
  },
  {
   "cell_type": "code",
   "execution_count": 163,
   "metadata": {},
   "outputs": [
    {
     "name": "stdout",
     "output_type": "stream",
     "text": [
      "Age : 3\n",
      "Sex : 0\n",
      "MRC_sum_e : 16\n",
      "MRC_sum_w1 : 12\n",
      "CNI_e : 0\n",
      "CNI_Bulbar_e : 0\n",
      "CNI_Facial_e : 0\n",
      "CNI_Oculomotor_e : 0\n",
      "CNI_w1 : 4\n",
      "CNI_Bulbar_w1 : 18\n",
      "CNI_Facial_w1 : 18\n",
      "CNI_Oculomotor_w1 : 18\n",
      "Pain_e : 4\n",
      "Pain_w1 : 3\n",
      "Sens_deficits_e : 8\n",
      "Sens_deficits_w1 : 11\n",
      "Ant_event : 83\n",
      "Ant_event_GE : 83\n",
      "Ant_event_respiratory : 83\n",
      "Ant_event_vaccination : 83\n",
      "Ant_event_other : 83\n",
      "GBSDS_e : 8\n",
      "Able_to_walk_e : 6\n",
      "GBSDS_w1 : 10\n",
      "Able_to_walk_w1 : 8\n",
      "CSF_protein_level : 154\n",
      "Comorbidity_respiration : 4\n",
      "Days_between_onset_and_admission : 7\n",
      "Continent : 0\n",
      "Country_of_inclusion : 0\n",
      "Surv_days : 276\n",
      "Surv_status : 0\n",
      "Surv_unable_to_walk : 0\n",
      "Walking_again : 480\n",
      "Deceased : 0\n",
      "date_sickness : 7\n",
      "date_month : 7\n",
      "country_name : 0\n",
      "klimaat : 0\n",
      "halfrond : 0\n",
      "Seizoen : 7\n"
     ]
    }
   ],
   "source": [
    "for column, dtype in zip(df.columns, df.isna().sum()):\n",
    "    print(column, \":\", dtype)"
   ]
  },
  {
   "cell_type": "code",
   "execution_count": null,
   "metadata": {},
   "outputs": [],
   "source": []
  },
  {
   "cell_type": "code",
   "execution_count": null,
   "metadata": {},
   "outputs": [],
   "source": []
  },
  {
   "cell_type": "markdown",
   "metadata": {},
   "source": [
    "# Toetsen"
   ]
  },
  {
   "cell_type": "code",
   "execution_count": 164,
   "metadata": {},
   "outputs": [
    {
     "data": {
      "text/html": [
       "<div>\n",
       "<style scoped>\n",
       "    .dataframe tbody tr th:only-of-type {\n",
       "        vertical-align: middle;\n",
       "    }\n",
       "\n",
       "    .dataframe tbody tr th {\n",
       "        vertical-align: top;\n",
       "    }\n",
       "\n",
       "    .dataframe thead th {\n",
       "        text-align: right;\n",
       "    }\n",
       "</style>\n",
       "<table border=\"1\" class=\"dataframe\">\n",
       "  <thead>\n",
       "    <tr style=\"text-align: right;\">\n",
       "      <th>Seizoen</th>\n",
       "      <th>Herfst</th>\n",
       "      <th>Lente</th>\n",
       "      <th>Winter</th>\n",
       "      <th>Zomer</th>\n",
       "    </tr>\n",
       "    <tr>\n",
       "      <th>klimaat</th>\n",
       "      <th></th>\n",
       "      <th></th>\n",
       "      <th></th>\n",
       "      <th></th>\n",
       "    </tr>\n",
       "  </thead>\n",
       "  <tbody>\n",
       "    <tr>\n",
       "      <th>A Klimaat</th>\n",
       "      <td>47</td>\n",
       "      <td>58</td>\n",
       "      <td>57</td>\n",
       "      <td>43</td>\n",
       "    </tr>\n",
       "    <tr>\n",
       "      <th>B Klimaat</th>\n",
       "      <td>20</td>\n",
       "      <td>24</td>\n",
       "      <td>27</td>\n",
       "      <td>18</td>\n",
       "    </tr>\n",
       "    <tr>\n",
       "      <th>C Klimaat</th>\n",
       "      <td>175</td>\n",
       "      <td>218</td>\n",
       "      <td>271</td>\n",
       "      <td>208</td>\n",
       "    </tr>\n",
       "    <tr>\n",
       "      <th>D Klimaat</th>\n",
       "      <td>38</td>\n",
       "      <td>33</td>\n",
       "      <td>47</td>\n",
       "      <td>34</td>\n",
       "    </tr>\n",
       "  </tbody>\n",
       "</table>\n",
       "</div>"
      ],
      "text/plain": [
       "Seizoen    Herfst  Lente  Winter  Zomer\n",
       "klimaat                                \n",
       "A Klimaat      47     58      57     43\n",
       "B Klimaat      20     24      27     18\n",
       "C Klimaat     175    218     271    208\n",
       "D Klimaat      38     33      47     34"
      ]
     },
     "execution_count": 164,
     "metadata": {},
     "output_type": "execute_result"
    }
   ],
   "source": [
    "freq_table = pd.crosstab(df['klimaat'], df['Seizoen']) \n",
    "freq_table"
   ]
  },
  {
   "cell_type": "code",
   "execution_count": 165,
   "metadata": {},
   "outputs": [],
   "source": [
    "df_A = df[df['klimaat'] == 'A Klimaat']\n",
    "df_B = df[df['klimaat'] == 'B Klimaat']\n",
    "df_C = df[df['klimaat'] == 'C Klimaat']\n",
    "df_D = df[df['klimaat'] == 'D Klimaat']"
   ]
  },
  {
   "cell_type": "code",
   "execution_count": 166,
   "metadata": {},
   "outputs": [
    {
     "name": "stdout",
     "output_type": "stream",
     "text": [
      "A Klimaat    206\n",
      "Name: klimaat, dtype: int64\n",
      "B Klimaat    90\n",
      "Name: klimaat, dtype: int64\n",
      "C Klimaat    875\n",
      "Name: klimaat, dtype: int64\n",
      "D Klimaat    154\n",
      "Name: klimaat, dtype: int64\n"
     ]
    }
   ],
   "source": [
    "dataframes_klimaat = [df_A, df_B, df_C, df_D]\n",
    "for i in dataframes_klimaat:\n",
    "    print(i['klimaat'].value_counts()) \n",
    "    "
   ]
  },
  {
   "cell_type": "markdown",
   "metadata": {},
   "source": [
    "Uit deze code is te zien dat alle klimaten op juiste wijze zijn gesplitst"
   ]
  },
  {
   "cell_type": "code",
   "execution_count": 167,
   "metadata": {},
   "outputs": [],
   "source": [
    "df_lente = df[df['Seizoen'] == 'Lente']\n",
    "df_zomer = df[df['Seizoen'] == 'Zomer']\n",
    "df_herfst = df[df['Seizoen'] == 'Herfst']\n",
    "df_winter = df[df['Seizoen'] == 'Winter']"
   ]
  },
  {
   "cell_type": "code",
   "execution_count": 168,
   "metadata": {},
   "outputs": [
    {
     "name": "stdout",
     "output_type": "stream",
     "text": [
      "Lente    333\n",
      "Name: Seizoen, dtype: int64\n",
      "Zomer    303\n",
      "Name: Seizoen, dtype: int64\n",
      "Herfst    280\n",
      "Name: Seizoen, dtype: int64\n",
      "Winter    402\n",
      "Name: Seizoen, dtype: int64\n"
     ]
    }
   ],
   "source": [
    "dataframes_seizoen = [df_lente, df_zomer, df_herfst, df_winter]\n",
    "for i in dataframes_seizoen:\n",
    "    print(i['Seizoen'].value_counts()) \n",
    "    "
   ]
  },
  {
   "cell_type": "code",
   "execution_count": null,
   "metadata": {},
   "outputs": [],
   "source": [
    "\n",
    "    "
   ]
  },
  {
   "cell_type": "code",
   "execution_count": 169,
   "metadata": {},
   "outputs": [
    {
     "name": "stdout",
     "output_type": "stream",
     "text": [
      "Seizoen   Herfst  Lente  Winter  Zomer\n",
      "Deceased                              \n",
      "0             44     58      55     40\n",
      "1              3      0       2      3 \n",
      "\n",
      "Seizoen   Herfst  Lente  Winter  Zomer\n",
      "Deceased                              \n",
      "0             19     24      26     18\n",
      "1              1      0       1      0 \n",
      "\n",
      "Seizoen   Herfst  Lente  Winter  Zomer\n",
      "Deceased                              \n",
      "0            168    208     261    200\n",
      "1              7     10      10      8 \n",
      "\n",
      "Seizoen   Herfst  Lente  Winter  Zomer\n",
      "Deceased                              \n",
      "0             38     32      47     32\n",
      "1              0      1       0      2 \n",
      "\n"
     ]
    }
   ],
   "source": [
    "for dateframe in dataframes_klimaat:\n",
    "    freq_table = pd.crosstab(dateframe['Deceased'], dateframe['Seizoen']) \n",
    "    print(freq_table, '\\n')\n",
    "  "
   ]
  },
  {
   "cell_type": "markdown",
   "metadata": {},
   "source": [
    "Wat in deze tabel is te zien dat er te weinig waarden apart zijn om de chi-kwadraat toets uit te voeren, daarom wordt voor het geheel de chi-kwadraat en voor C klimaat de test uitgevoerd. Omdat dit geen 2 bij 2 matrices zijn mag de fishers exact toets ook niet worden uitgevoerd"
   ]
  },
  {
   "cell_type": "code",
   "execution_count": 170,
   "metadata": {},
   "outputs": [
    {
     "data": {
      "text/plain": [
       "(0.7282704121038908,\n",
       " 0.8665351698920313,\n",
       " 3,\n",
       " array([[269.80273141,  10.19726859],\n",
       "        [320.87253414,  12.12746586],\n",
       "        [387.35963581,  14.64036419],\n",
       "        [291.96509863,  11.03490137]]))"
      ]
     },
     "execution_count": 170,
     "metadata": {},
     "output_type": "execute_result"
    }
   ],
   "source": [
    "Seizoen_dood = pd.crosstab(df['Seizoen'], df['Deceased'])\n",
    "stats.chi2_contingency(Seizoen_dood)"
   ]
  },
  {
   "cell_type": "code",
   "execution_count": 171,
   "metadata": {},
   "outputs": [
    {
     "data": {
      "text/plain": [
       "(0.2750069819875797,\n",
       " 0.9646583492928525,\n",
       " 3,\n",
       " array([[167.97591743,   7.02408257],\n",
       "        [209.25      ,   8.75      ],\n",
       "        [260.12270642,  10.87729358],\n",
       "        [199.65137615,   8.34862385]]))"
      ]
     },
     "execution_count": 171,
     "metadata": {},
     "output_type": "execute_result"
    }
   ],
   "source": [
    "Seizoen_dood = pd.crosstab(df_C['Seizoen'], df_C['Deceased'])\n",
    "stats.chi2_contingency(Seizoen_dood)"
   ]
  },
  {
   "cell_type": "code",
   "execution_count": null,
   "metadata": {},
   "outputs": [],
   "source": []
  },
  {
   "cell_type": "markdown",
   "metadata": {},
   "source": []
  },
  {
   "cell_type": "code",
   "execution_count": 172,
   "metadata": {},
   "outputs": [
    {
     "name": "stdout",
     "output_type": "stream",
     "text": [
      "Seizoen      Herfst  Lente  Winter  Zomer\n",
      "Surv_status                              \n",
      "0.0              11     15      13     11\n",
      "1.0              33     43      42     29\n",
      "2.0               3      0       2      3 \n",
      "\n",
      "Seizoen      Herfst  Lente  Winter  Zomer\n",
      "Surv_status                              \n",
      "0.0               7     11       7     10\n",
      "1.0              12     13      19      8\n",
      "2.0               1      0       1      0 \n",
      "\n",
      "Seizoen      Herfst  Lente  Winter  Zomer\n",
      "Surv_status                              \n",
      "0.0              52     73      90     81\n",
      "1.0             116    135     171    119\n",
      "2.0               7     10      10      8 \n",
      "\n",
      "Seizoen      Herfst  Lente  Winter  Zomer\n",
      "Surv_status                              \n",
      "0.0              14     15      15      5\n",
      "1.0              24     17      32     27\n",
      "2.0               0      1       0      2 \n",
      "\n"
     ]
    }
   ],
   "source": [
    "for dateframe in dataframes_klimaat:\n",
    "    freq_table = pd.crosstab(dateframe['Surv_status'], dateframe['Seizoen']) \n",
    "    print(freq_table, '\\n')"
   ]
  },
  {
   "cell_type": "markdown",
   "metadata": {},
   "source": [
    "Voor de surv_status geldt hetzelfde al voor deceaced"
   ]
  },
  {
   "cell_type": "code",
   "execution_count": 173,
   "metadata": {},
   "outputs": [
    {
     "data": {
      "text/plain": [
       "(3.6084050021635243,\n",
       " 0.7294954618148062,\n",
       " 6,\n",
       " array([[ 91.35053111, 178.4522003 ,  10.19726859],\n",
       "        [108.64188164, 212.2306525 ,  12.12746586],\n",
       "        [131.15326252, 256.20637329,  14.64036419],\n",
       "        [ 98.85432473, 193.1107739 ,  11.03490137]]))"
      ]
     },
     "execution_count": 173,
     "metadata": {},
     "output_type": "execute_result"
    }
   ],
   "source": [
    "Seizoen_surv_status = pd.crosstab(df['Seizoen'], df['Surv_status'])\n",
    "stats.chi2_contingency(Seizoen_surv_status)"
   ]
  },
  {
   "cell_type": "code",
   "execution_count": 174,
   "metadata": {},
   "outputs": [
    {
     "data": {
      "text/plain": [
       "(4.113168019450811,\n",
       " 0.6613648188238734,\n",
       " 6,\n",
       " array([[ 59.40366972, 108.57224771,   7.02408257],\n",
       "        [ 74.        , 135.25      ,   8.75      ],\n",
       "        [ 91.99082569, 168.13188073,  10.87729358],\n",
       "        [ 70.60550459, 129.04587156,   8.34862385]]))"
      ]
     },
     "execution_count": 174,
     "metadata": {},
     "output_type": "execute_result"
    }
   ],
   "source": [
    "Seizoen_surv_status = pd.crosstab(df_C['Seizoen'], df_C['Surv_status'])\n",
    "stats.chi2_contingency(Seizoen_surv_status)"
   ]
  },
  {
   "cell_type": "markdown",
   "metadata": {},
   "source": [
    "Ook kan nog worden gekozen om 2 weg te halen dat wordt hieronder gedaan, bij deceased is namelijk ook al gekeken of het overlijden afhankelijk was aan het seizoen"
   ]
  },
  {
   "cell_type": "code",
   "execution_count": 175,
   "metadata": {},
   "outputs": [],
   "source": [
    "df_survstatus = df\n",
    "df_A_survstatus = df_A\n",
    "df_B_survstatus = df_B\n",
    "df_C_survstatus = df_C\n",
    "df_D_survstatus = df_D"
   ]
  },
  {
   "cell_type": "code",
   "execution_count": 176,
   "metadata": {},
   "outputs": [],
   "source": [
    "df_survstatus = df_survstatus.drop(df_survstatus[df_survstatus['Surv_status'] == 2].index)\n",
    "df_A_survstatus = df_A_survstatus.drop(df_A_survstatus[df_A_survstatus['Surv_status'] == 2].index)\n",
    "df_B_survstatus = df_B_survstatus.drop(df_B_survstatus[df_B_survstatus['Surv_status'] == 2].index)\n",
    "df_C_survstatus = df_C_survstatus.drop(df_C_survstatus[df_C_survstatus['Surv_status'] == 2].index)\n",
    "df_D_survstatus = df_D_survstatus.drop(df_D_survstatus[df_D_survstatus['Surv_status'] == 2].index)"
   ]
  },
  {
   "cell_type": "code",
   "execution_count": 177,
   "metadata": {},
   "outputs": [
    {
     "data": {
      "text/plain": [
       "(2.887260675949773,\n",
       " 0.4093359573061873,\n",
       " 3,\n",
       " array([[ 91.07874016, 177.92125984],\n",
       "        [109.02362205, 212.97637795],\n",
       "        [131.70866142, 257.29133858],\n",
       "        [ 98.18897638, 191.81102362]]))"
      ]
     },
     "execution_count": 177,
     "metadata": {},
     "output_type": "execute_result"
    }
   ],
   "source": [
    "Seizoen_surv_status = pd.crosstab(df_survstatus['Seizoen'], df_survstatus['Surv_status'])\n",
    "stats.chi2_contingency(Seizoen_surv_status)"
   ]
  },
  {
   "cell_type": "code",
   "execution_count": 178,
   "metadata": {},
   "outputs": [
    {
     "data": {
      "text/plain": [
       "(0.1936874693451049,\n",
       " 0.9786018652669638,\n",
       " 3,\n",
       " array([[11.16751269, 32.83248731],\n",
       "        [14.72081218, 43.27918782],\n",
       "        [13.95939086, 41.04060914],\n",
       "        [10.15228426, 29.84771574]]))"
      ]
     },
     "execution_count": 178,
     "metadata": {},
     "output_type": "execute_result"
    }
   ],
   "source": [
    "Seizoen_surv_status = pd.crosstab(df_A_survstatus['Seizoen'], df_A_survstatus['Surv_status'])\n",
    "stats.chi2_contingency(Seizoen_surv_status)"
   ]
  },
  {
   "cell_type": "code",
   "execution_count": 179,
   "metadata": {},
   "outputs": [
    {
     "data": {
      "text/plain": [
       "(4.076967844908129,\n",
       " 0.253272038079724,\n",
       " 3,\n",
       " array([[ 7.64367816, 11.35632184],\n",
       "        [ 9.65517241, 14.34482759],\n",
       "        [10.45977011, 15.54022989],\n",
       "        [ 7.24137931, 10.75862069]]))"
      ]
     },
     "execution_count": 179,
     "metadata": {},
     "output_type": "execute_result"
    }
   ],
   "source": [
    "Seizoen_surv_status = pd.crosstab(df_B_survstatus['Seizoen'], df_B_survstatus['Surv_status'])\n",
    "stats.chi2_contingency(Seizoen_surv_status)"
   ]
  },
  {
   "cell_type": "code",
   "execution_count": 180,
   "metadata": {},
   "outputs": [
    {
     "data": {
      "text/plain": [
       "(3.8336661255101143,\n",
       " 0.27999440609583726,\n",
       " 3,\n",
       " array([[ 59.41218638, 108.58781362],\n",
       "        [ 73.55794504, 134.44205496],\n",
       "        [ 92.30107527, 168.69892473],\n",
       "        [ 70.72879331, 129.27120669]]))"
      ]
     },
     "execution_count": 180,
     "metadata": {},
     "output_type": "execute_result"
    }
   ],
   "source": [
    "Seizoen_surv_status = pd.crosstab(df_C_survstatus['Seizoen'], df_C_survstatus['Surv_status'])\n",
    "stats.chi2_contingency(Seizoen_surv_status)"
   ]
  },
  {
   "cell_type": "code",
   "execution_count": 181,
   "metadata": {},
   "outputs": [
    {
     "data": {
      "text/plain": [
       "(7.446554394154078,\n",
       " 0.05894771770740127,\n",
       " 3,\n",
       " array([[12.4966443 , 25.5033557 ],\n",
       "        [10.52348993, 21.47651007],\n",
       "        [15.45637584, 31.54362416],\n",
       "        [10.52348993, 21.47651007]]))"
      ]
     },
     "execution_count": 181,
     "metadata": {},
     "output_type": "execute_result"
    }
   ],
   "source": [
    "Seizoen_surv_status = pd.crosstab(df_D_survstatus['Seizoen'], df_D_survstatus['Surv_status'])\n",
    "stats.chi2_contingency(Seizoen_surv_status)"
   ]
  },
  {
   "cell_type": "markdown",
   "metadata": {},
   "source": [
    "Seizoen en surv_status zijn statistisch onafhankelijk"
   ]
  },
  {
   "cell_type": "markdown",
   "metadata": {},
   "source": [
    "Algemene CNI"
   ]
  },
  {
   "cell_type": "code",
   "execution_count": 182,
   "metadata": {},
   "outputs": [
    {
     "name": "stdout",
     "output_type": "stream",
     "text": [
      "Seizoen  Herfst  Lente  Winter  Zomer\n",
      "CNI_e                                \n",
      "0.0          30     27      30     20\n",
      "1.0          17     31      27     23 \n",
      "\n",
      "Seizoen  Herfst  Lente  Winter  Zomer\n",
      "CNI_e                                \n",
      "0.0          13     15      14     12\n",
      "1.0           7      9      13      6 \n",
      "\n",
      "Seizoen  Herfst  Lente  Winter  Zomer\n",
      "CNI_e                                \n",
      "0.0          83    111     149    112\n",
      "1.0          92    106     121     96\n",
      "2.0           0      1       1      0 \n",
      "\n",
      "Seizoen  Herfst  Lente  Winter  Zomer\n",
      "CNI_e                                \n",
      "0.0          19     14      28     21\n",
      "1.0          19     18      19     13\n",
      "2.0           0      1       0      0 \n",
      "\n"
     ]
    }
   ],
   "source": [
    "for dateframe in dataframes_klimaat:\n",
    "    freq_table = pd.crosstab(dateframe['CNI_e'], dateframe['Seizoen']) \n",
    "    print(freq_table, '\\n')"
   ]
  },
  {
   "cell_type": "code",
   "execution_count": 183,
   "metadata": {},
   "outputs": [
    {
     "name": "stdout",
     "output_type": "stream",
     "text": [
      "Seizoen  Herfst  Lente  Winter  Zomer\n",
      "CNI_w1                               \n",
      "0.0          29     26      32     19\n",
      "1.0          16     29      24     24\n",
      "2.0           1      3       1      0 \n",
      "\n",
      "Seizoen  Herfst  Lente  Winter  Zomer\n",
      "CNI_w1                               \n",
      "0.0          15     13      15     13\n",
      "1.0           5     11      12      5 \n",
      "\n",
      "Seizoen  Herfst  Lente  Winter  Zomer\n",
      "CNI_w1                               \n",
      "0.0          87    107     144    112\n",
      "1.0          84    107     124     96\n",
      "2.0           3      2       3      0 \n",
      "\n",
      "Seizoen  Herfst  Lente  Winter  Zomer\n",
      "CNI_w1                               \n",
      "0.0          20     17      26     20\n",
      "1.0          18     15      21     14\n",
      "2.0           0      1       0      0 \n",
      "\n"
     ]
    }
   ],
   "source": [
    "for dateframe in dataframes_klimaat:\n",
    "    freq_table = pd.crosstab(dateframe['CNI_w1'], dateframe['Seizoen']) \n",
    "    print(freq_table, '\\n')"
   ]
  },
  {
   "cell_type": "markdown",
   "metadata": {},
   "source": [
    "CNI Bulbular"
   ]
  },
  {
   "cell_type": "code",
   "execution_count": 184,
   "metadata": {},
   "outputs": [
    {
     "name": "stdout",
     "output_type": "stream",
     "text": [
      "Seizoen       Herfst  Lente  Winter  Zomer\n",
      "CNI_Bulbar_e                              \n",
      "0.0               38     40      40     28\n",
      "1.0                9     18      17     15 \n",
      "\n",
      "Seizoen       Herfst  Lente  Winter  Zomer\n",
      "CNI_Bulbar_e                              \n",
      "0.0               16     19      21     12\n",
      "1.0                4      5       6      6 \n",
      "\n",
      "Seizoen       Herfst  Lente  Winter  Zomer\n",
      "CNI_Bulbar_e                              \n",
      "0.0              118    165     206    163\n",
      "1.0               57     52      64     45\n",
      "2.0                0      1       1      0 \n",
      "\n",
      "Seizoen       Herfst  Lente  Winter  Zomer\n",
      "CNI_Bulbar_e                              \n",
      "0.0               30     25      36     27\n",
      "1.0                8      7      11      7\n",
      "2.0                0      1       0      0 \n",
      "\n"
     ]
    }
   ],
   "source": [
    "for dateframe in dataframes_klimaat:\n",
    "    freq_table = pd.crosstab(dateframe['CNI_Bulbar_e'], dateframe['Seizoen']) \n",
    "    print(freq_table, '\\n')"
   ]
  },
  {
   "cell_type": "code",
   "execution_count": 185,
   "metadata": {},
   "outputs": [
    {
     "name": "stdout",
     "output_type": "stream",
     "text": [
      "Seizoen        Herfst  Lente  Winter  Zomer\n",
      "CNI_Bulbar_w1                              \n",
      "0.0                37     40      40     29\n",
      "1.0                 8     15      16     14 \n",
      "\n",
      "Seizoen        Herfst  Lente  Winter  Zomer\n",
      "CNI_Bulbar_w1                              \n",
      "0.0                16     19      22     15\n",
      "1.0                 4      5       5      3 \n",
      "\n",
      "Seizoen        Herfst  Lente  Winter  Zomer\n",
      "CNI_Bulbar_w1                              \n",
      "0.0               125    164     217    166\n",
      "1.0                46     50      51     42 \n",
      "\n",
      "Seizoen        Herfst  Lente  Winter  Zomer\n",
      "CNI_Bulbar_w1                              \n",
      "0.0                31     24      36     27\n",
      "1.0                 7      8      11      7 \n",
      "\n"
     ]
    }
   ],
   "source": [
    "for dateframe in dataframes_klimaat:\n",
    "    freq_table = pd.crosstab(dateframe['CNI_Bulbar_w1'], dateframe['Seizoen']) \n",
    "    print(freq_table, '\\n')"
   ]
  },
  {
   "cell_type": "markdown",
   "metadata": {},
   "source": [
    "CNI facial"
   ]
  },
  {
   "cell_type": "code",
   "execution_count": 186,
   "metadata": {},
   "outputs": [
    {
     "name": "stdout",
     "output_type": "stream",
     "text": [
      "Seizoen       Herfst  Lente  Winter  Zomer\n",
      "CNI_Facial_e                              \n",
      "0.0               37     36      40     30\n",
      "1.0               10     22      17     13 \n",
      "\n",
      "Seizoen       Herfst  Lente  Winter  Zomer\n",
      "CNI_Facial_e                              \n",
      "0.0               15     22      22     15\n",
      "1.0                5      2       5      3 \n",
      "\n",
      "Seizoen       Herfst  Lente  Winter  Zomer\n",
      "CNI_Facial_e                              \n",
      "0.0              122    155     201    147\n",
      "1.0               53     62      69     61\n",
      "2.0                0      1       1      0 \n",
      "\n",
      "Seizoen       Herfst  Lente  Winter  Zomer\n",
      "CNI_Facial_e                              \n",
      "0.0               23     26      35     25\n",
      "1.0               15      6      12      9\n",
      "2.0                0      1       0      0 \n",
      "\n"
     ]
    }
   ],
   "source": [
    "for dateframe in dataframes_klimaat:\n",
    "    freq_table = pd.crosstab(dateframe['CNI_Facial_e'], dateframe['Seizoen']) \n",
    "    print(freq_table, '\\n')"
   ]
  },
  {
   "cell_type": "code",
   "execution_count": 187,
   "metadata": {},
   "outputs": [
    {
     "name": "stdout",
     "output_type": "stream",
     "text": [
      "Seizoen        Herfst  Lente  Winter  Zomer\n",
      "CNI_Facial_w1                              \n",
      "0.0                34     31      39     28\n",
      "1.0                11     24      17     15 \n",
      "\n",
      "Seizoen        Herfst  Lente  Winter  Zomer\n",
      "CNI_Facial_w1                              \n",
      "0.0                16     19      18     16\n",
      "1.0                 4      5       9      2 \n",
      "\n",
      "Seizoen        Herfst  Lente  Winter  Zomer\n",
      "CNI_Facial_w1                              \n",
      "0.0               118    145     181    144\n",
      "1.0                53     69      87     64 \n",
      "\n",
      "Seizoen        Herfst  Lente  Winter  Zomer\n",
      "CNI_Facial_w1                              \n",
      "0.0                22     26      31     26\n",
      "1.0                16      6      16      8 \n",
      "\n"
     ]
    }
   ],
   "source": [
    "for dateframe in dataframes_klimaat:\n",
    "    freq_table = pd.crosstab(dateframe['CNI_Facial_w1'], dateframe['Seizoen']) \n",
    "    print(freq_table, '\\n')"
   ]
  },
  {
   "cell_type": "markdown",
   "metadata": {},
   "source": [
    "CNI Oculomotor"
   ]
  },
  {
   "cell_type": "code",
   "execution_count": 188,
   "metadata": {},
   "outputs": [
    {
     "name": "stdout",
     "output_type": "stream",
     "text": [
      "Seizoen           Herfst  Lente  Winter  Zomer\n",
      "CNI_Oculomotor_e                              \n",
      "0.0                   41     50      49     38\n",
      "1.0                    6      8       8      5 \n",
      "\n",
      "Seizoen           Herfst  Lente  Winter  Zomer\n",
      "CNI_Oculomotor_e                              \n",
      "0.0                   20     19      23     15\n",
      "1.0                    0      5       4      3 \n",
      "\n",
      "Seizoen           Herfst  Lente  Winter  Zomer\n",
      "CNI_Oculomotor_e                              \n",
      "0.0                  154    178     223    172\n",
      "1.0                   21     39      47     36\n",
      "2.0                    0      1       1      0 \n",
      "\n",
      "Seizoen           Herfst  Lente  Winter  Zomer\n",
      "CNI_Oculomotor_e                              \n",
      "0.0                   36     22      41     29\n",
      "1.0                    2     10       6      5\n",
      "2.0                    0      1       0      0 \n",
      "\n"
     ]
    }
   ],
   "source": [
    "for dateframe in dataframes_klimaat:\n",
    "    freq_table = pd.crosstab(dateframe['CNI_Oculomotor_e'], dateframe['Seizoen']) \n",
    "    print(freq_table, '\\n')"
   ]
  },
  {
   "cell_type": "code",
   "execution_count": 189,
   "metadata": {},
   "outputs": [
    {
     "name": "stdout",
     "output_type": "stream",
     "text": [
      "Seizoen            Herfst  Lente  Winter  Zomer\n",
      "CNI_Oculomotor_w1                              \n",
      "0.0                    39     48      49     36\n",
      "1.0                     6      7       7      7 \n",
      "\n",
      "Seizoen            Herfst  Lente  Winter  Zomer\n",
      "CNI_Oculomotor_w1                              \n",
      "0.0                    20     18      24     16\n",
      "1.0                     0      6       3      2 \n",
      "\n",
      "Seizoen            Herfst  Lente  Winter  Zomer\n",
      "CNI_Oculomotor_w1                              \n",
      "0.0                   149    177     223    172\n",
      "1.0                    22     37      45     36 \n",
      "\n",
      "Seizoen            Herfst  Lente  Winter  Zomer\n",
      "CNI_Oculomotor_w1                              \n",
      "0.0                    35     25      42     28\n",
      "1.0                     3      7       5      6 \n",
      "\n"
     ]
    }
   ],
   "source": [
    "for dateframe in dataframes_klimaat:\n",
    "    freq_table = pd.crosstab(dateframe['CNI_Oculomotor_w1'], dateframe['Seizoen']) \n",
    "    print(freq_table, '\\n')"
   ]
  },
  {
   "cell_type": "markdown",
   "metadata": {},
   "source": [
    "In deze voorbeelden is te zien dat voor alle CNI evenementen niet genoeg waarden zijn bij de waarden van 2.0, nou is optie 2 niet mogelijk te bepalen, wat positief zou kunnen uitpakken. daarom worden die uit de dataset gehaald nu. Op de agemene CNI na komt de waarde 2.0 ook niet eens voor in dataset."
   ]
  },
  {
   "cell_type": "code",
   "execution_count": 190,
   "metadata": {},
   "outputs": [],
   "source": [
    "df_CNI = df\n",
    "df_A_CNI = df_A\n",
    "df_B_CNI = df_B\n",
    "df_C_CNI = df_C\n",
    "df_D_CNI = df_D\n",
    "CNI_var = ['CNI_e', 'CNI_w1', 'CNI_Bulbar_e', 'CNI_Facial_e', 'CNI_Oculomotor_e']"
   ]
  },
  {
   "cell_type": "code",
   "execution_count": 191,
   "metadata": {},
   "outputs": [],
   "source": [
    "for var in CNI_var:\n",
    "    df_CNI = df_CNI.drop(df_CNI[df_CNI[var] == 2].index)\n",
    "    df_A_CNI = df_A_CNI.drop(df_A_CNI[df_A_CNI[var] == 2].index)\n",
    "    df_B_CNI = df_B_CNI.drop(df_B_CNI[df_B_CNI[var] == 2].index)\n",
    "    df_C_CNI = df_C_CNI.drop(df_C_CNI[df_C_CNI[var] == 2].index)\n",
    "    df_D_CNI = df_D_CNI.drop(df_D_CNI[df_D_CNI[var] == 2].index)"
   ]
  },
  {
   "cell_type": "code",
   "execution_count": 192,
   "metadata": {},
   "outputs": [
    {
     "data": {
      "text/plain": [
       "array([ 1.,  0., nan])"
      ]
     },
     "execution_count": 192,
     "metadata": {},
     "output_type": "execute_result"
    }
   ],
   "source": [
    "df_CNI['CNI_w1'].unique()"
   ]
  },
  {
   "cell_type": "code",
   "execution_count": 193,
   "metadata": {},
   "outputs": [],
   "source": [
    "dataframes_CNI = [df_CNI, df_A_CNI, df_B_CNI, df_C_CNI, df_D_CNI]"
   ]
  },
  {
   "cell_type": "code",
   "execution_count": 194,
   "metadata": {},
   "outputs": [],
   "source": [
    "#for dateframe in dataframes_CNI:\n",
    "#    freq_table = pd.crosstab(dateframe['CNI_Oculomotor_e'], dateframe['Seizoen']) \n",
    "#   print(freq_table, '\\n')"
   ]
  },
  {
   "cell_type": "code",
   "execution_count": 195,
   "metadata": {},
   "outputs": [],
   "source": [
    "CNI_var_e = ['CNI_e', 'CNI_Bulbar_e', 'CNI_Facial_e', 'CNI_Oculomotor_e']\n",
    "CNI_var_w1 = ['CNI_w1', 'CNI_Bulbar_w1', 'CNI_Facial_w1', 'CNI_Oculomotor_w1']"
   ]
  },
  {
   "cell_type": "code",
   "execution_count": 196,
   "metadata": {},
   "outputs": [
    {
     "name": "stdout",
     "output_type": "stream",
     "text": [
      "CNI_e \n",
      "\n",
      "(2.187129110001867, 0.534487982644873, 3, array([[146.90322581, 129.09677419],\n",
      "       [173.51612903, 152.48387097],\n",
      "       [211.30645161, 185.69354839],\n",
      "       [161.27419355, 141.72580645]]))\n",
      "(3.297331085253876, 0.3480142807496441, 3, array([[24.15 , 21.85 ],\n",
      "       [28.875, 26.125],\n",
      "       [29.4  , 26.6  ],\n",
      "       [22.575, 20.425]]))\n",
      "(1.3420198902606308, 0.7191800379842723, 3, array([[12.13483146,  7.86516854],\n",
      "       [14.56179775,  9.43820225],\n",
      "       [16.38202247, 10.61797753],\n",
      "       [10.92134831,  7.07865169]]))\n",
      "(2.5914932955730317, 0.45898283415090624, 3, array([[ 90.19025522,  81.80974478],\n",
      "       [112.73781903, 102.26218097],\n",
      "       [140.00464037, 126.99535963],\n",
      "       [109.06728538,  98.93271462]]))\n",
      "(3.0088533862361535, 0.39026217144039593, 3, array([[20.63576159, 17.36423841],\n",
      "       [17.37748344, 14.62251656],\n",
      "       [25.52317881, 21.47682119],\n",
      "       [18.46357616, 15.53642384]]))\n",
      "CNI_Bulbar_e \n",
      "\n",
      "(1.2236845231097258, 0.7473295689518629, 3, array([[206.89400922,  69.10599078],\n",
      "       [244.37480799,  81.62519201],\n",
      "       [297.59754224,  99.40245776],\n",
      "       [227.13364055,  75.86635945]]))\n",
      "(2.818803733167959, 0.4204138349734631, 3, array([[32.89 , 13.11 ],\n",
      "       [39.325, 15.675],\n",
      "       [40.04 , 15.96 ],\n",
      "       [30.745, 12.255]]))\n",
      "(1.2200105042016804, 0.7482090754677737, 3, array([[15.28089888,  4.71910112],\n",
      "       [18.33707865,  5.66292135],\n",
      "       [20.62921348,  6.37078652],\n",
      "       [13.75280899,  4.24719101]]))\n",
      "(6.0862727233352825, 0.10748748470610867, 3, array([[129.09976798,  42.90023202],\n",
      "       [161.37470998,  53.62529002],\n",
      "       [200.40487239,  66.59512761],\n",
      "       [156.12064965,  51.87935035]]))\n",
      "(0.11233358369781904, 0.9903173435593152, 3, array([[29.69536424,  8.30463576],\n",
      "       [25.00662252,  6.99337748],\n",
      "       [36.72847682, 10.27152318],\n",
      "       [26.56953642,  7.43046358]]))\n",
      "CNI_Facial_e \n",
      "\n",
      "(1.4576233992566792, 0.6920847847550176, 3, array([[199.89861751,  76.10138249],\n",
      "       [236.11213518,  89.88786482],\n",
      "       [287.53533026, 109.46466974],\n",
      "       [219.45391705,  83.54608295]]))\n",
      "(3.3035999582294533, 0.3471419117830352, 3, array([[32.2, 13.8],\n",
      "       [38.5, 16.5],\n",
      "       [39.2, 16.8],\n",
      "       [30.1, 12.9]]))\n",
      "(2.2443026359693032, 0.5232749286026595, 3, array([[16.62921348,  3.37078652],\n",
      "       [19.95505618,  4.04494382],\n",
      "       [22.4494382 ,  4.5505618 ],\n",
      "       [14.96629213,  3.03370787]]))\n",
      "(1.333471563818815, 0.721200681997681, 3, array([[123.71229698,  48.28770302],\n",
      "       [154.64037123,  60.35962877],\n",
      "       [192.04176334,  74.95823666],\n",
      "       [149.60556845,  58.39443155]]))\n",
      "(4.0348314642026395, 0.25772744176216833, 3, array([[27.43046358, 10.56953642],\n",
      "       [23.09933775,  8.90066225],\n",
      "       [33.92715232, 13.07284768],\n",
      "       [24.54304636,  9.45695364]]))\n",
      "CNI_Oculomotor_e \n",
      "\n",
      "(9.2924102271231, 0.025645467673540617, 3, array([[232.96774194,  43.03225806],\n",
      "       [275.17204301,  50.82795699],\n",
      "       [335.10215054,  61.89784946],\n",
      "       [255.75806452,  47.24193548]]))\n",
      "(0.20018044319846912, 0.9775601627986763, 3, array([[40.02,  5.98],\n",
      "       [47.85,  7.15],\n",
      "       [48.72,  7.28],\n",
      "       [37.41,  5.59]]))\n",
      "(4.42583072791406, 0.21900219751084832, 3, array([[17.30337079,  2.69662921],\n",
      "       [20.76404494,  3.23595506],\n",
      "       [23.35955056,  3.64044944],\n",
      "       [15.57303371,  2.42696629]]))\n",
      "(3.7215145184626106, 0.2931482433881081, 3, array([[143.66589327,  28.33410673],\n",
      "       [179.58236659,  35.41763341],\n",
      "       [223.0162413 ,  43.9837587 ],\n",
      "       [173.73549884,  34.26450116]]))\n",
      "(9.512319016409421, 0.023200667266433474, 3, array([[32.21192053,  5.78807947],\n",
      "       [27.12582781,  4.87417219],\n",
      "       [39.8410596 ,  7.1589404 ],\n",
      "       [28.82119205,  5.17880795]]))\n"
     ]
    }
   ],
   "source": [
    "for var in CNI_var_e:\n",
    "    print(var, '\\n')\n",
    "    for dataframe in dataframes_CNI:\n",
    "        Seizoen_CNI = pd.crosstab(dataframe['Seizoen'], dataframe[var])\n",
    "        print(stats.chi2_contingency(Seizoen_CNI))"
   ]
  },
  {
   "cell_type": "markdown",
   "metadata": {},
   "source": [
    "Hieruit is te zien dat CNI_Oculomotor_e voor alle klimaten samen en voor D klimaat statistisch significant afwijkt"
   ]
  },
  {
   "cell_type": "code",
   "execution_count": 197,
   "metadata": {},
   "outputs": [
    {
     "data": {
      "text/plain": [
       "(9.2924102271231,\n",
       " 0.025645467673540617,\n",
       " 3,\n",
       " array([[232.96774194,  43.03225806],\n",
       "        [275.17204301,  50.82795699],\n",
       "        [335.10215054,  61.89784946],\n",
       "        [255.75806452,  47.24193548]]))"
      ]
     },
     "execution_count": 197,
     "metadata": {},
     "output_type": "execute_result"
    }
   ],
   "source": [
    "Seizoen_CNI = pd.crosstab(df_CNI['Seizoen'], df_CNI['CNI_Oculomotor_e'])\n",
    "stats.chi2_contingency(Seizoen_CNI)"
   ]
  },
  {
   "cell_type": "code",
   "execution_count": 198,
   "metadata": {},
   "outputs": [
    {
     "data": {
      "text/plain": [
       "(9.512319016409421,\n",
       " 0.023200667266433474,\n",
       " 3,\n",
       " array([[32.21192053,  5.78807947],\n",
       "        [27.12582781,  4.87417219],\n",
       "        [39.8410596 ,  7.1589404 ],\n",
       "        [28.82119205,  5.17880795]]))"
      ]
     },
     "execution_count": 198,
     "metadata": {},
     "output_type": "execute_result"
    }
   ],
   "source": [
    "Seizoen_CNI = pd.crosstab(df_D_CNI['Seizoen'], df_D_CNI['CNI_Oculomotor_e'])\n",
    "stats.chi2_contingency(Seizoen_CNI)"
   ]
  },
  {
   "cell_type": "markdown",
   "metadata": {},
   "source": [
    "Week 1"
   ]
  },
  {
   "cell_type": "code",
   "execution_count": 199,
   "metadata": {},
   "outputs": [
    {
     "name": "stdout",
     "output_type": "stream",
     "text": [
      "CNI_w1 \n",
      "\n",
      "(2.0529971173149066, 0.5614801316685369, 3, array([[146.28813559, 127.71186441],\n",
      "       [172.98305085, 151.01694915],\n",
      "       [211.95762712, 185.04237288],\n",
      "       [161.77118644, 141.22881356]]))\n",
      "(4.814745438108826, 0.1858759746679059, 3, array([[23.96984925, 21.03015075],\n",
      "       [29.29648241, 25.70351759],\n",
      "       [29.82914573, 26.17085427],\n",
      "       [22.90452261, 20.09547739]]))\n",
      "(3.3344231000481006, 0.34288025497993363, 3, array([[12.58426966,  7.41573034],\n",
      "       [15.1011236 ,  8.8988764 ],\n",
      "       [16.98876404, 10.01123596],\n",
      "       [11.3258427 ,  6.6741573 ]]))\n",
      "(1.0483870357977292, 0.7895459410802105, 3, array([[ 89.18277066,  81.81722934],\n",
      "       [111.08731083, 101.91268917],\n",
      "       [139.25029104, 127.74970896],\n",
      "       [108.47962747,  99.52037253]]))\n",
      "(0.33423356868520715, 0.9534665755985159, 3, array([[20.88741722, 17.11258278],\n",
      "       [17.58940397, 14.41059603],\n",
      "       [25.83443709, 21.16556291],\n",
      "       [18.68874172, 15.31125828]]))\n",
      "CNI_Bulbar_w1 \n",
      "\n",
      "(1.3628399525119614, 0.7142678945727408, 3, array([[212.3605547 ,  61.6394453 ],\n",
      "       [251.11248074,  72.88751926],\n",
      "       [307.69029276,  89.30970724],\n",
      "       [234.8366718 ,  68.1633282 ]]))\n",
      "(2.697666026025616, 0.4406240745147766, 3, array([[33.01507538, 11.98492462],\n",
      "       [40.35175879, 14.64824121],\n",
      "       [41.08542714, 14.91457286],\n",
      "       [31.54773869, 11.45226131]]))\n",
      "(0.13202690026627947, 0.9877347644224274, 3, array([[16.17977528,  3.82022472],\n",
      "       [19.41573034,  4.58426966],\n",
      "       [21.84269663,  5.15730337],\n",
      "       [14.56179775,  3.43820225]]))\n",
      "(4.366218416880756, 0.22453823985659585, 3, array([[133.37601863,  37.62398137],\n",
      "       [166.13504075,  46.86495925],\n",
      "       [208.25378347,  58.74621653],\n",
      "       [162.23515716,  45.76484284]]))\n",
      "(0.5457116045395998, 0.9087399285765567, 3, array([[29.69536424,  8.30463576],\n",
      "       [25.00662252,  6.99337748],\n",
      "       [36.72847682, 10.27152318],\n",
      "       [26.56953642,  7.43046358]]))\n",
      "CNI_Facial_w1 \n",
      "\n",
      "(0.9352589740694316, 0.8169117357151947, 3, array([[188.29583975,  85.70416025],\n",
      "       [222.65639445, 101.34360555],\n",
      "       [272.82280431, 124.17719569],\n",
      "       [208.22496148,  94.77503852]]))\n",
      "(4.464738006383307, 0.21545722494803957, 3, array([[29.84924623, 15.15075377],\n",
      "       [36.48241206, 18.51758794],\n",
      "       [37.14572864, 18.85427136],\n",
      "       [28.52261307, 14.47738693]]))\n",
      "(3.2688868760064413, 0.3519965407742446, 3, array([[15.50561798,  4.49438202],\n",
      "       [18.60674157,  5.39325843],\n",
      "       [20.93258427,  6.06741573],\n",
      "       [13.95505618,  4.04494382]]))\n",
      "(0.26346439244930153, 0.9667467010564921, 3, array([[116.65424913,  54.34575087],\n",
      "       [145.30616997,  67.69383003],\n",
      "       [182.1443539 ,  84.8556461 ],\n",
      "       [141.89522701,  66.10477299]]))\n",
      "(5.559849297087744, 0.1351024675348615, 3, array([[26.42384106, 11.57615894],\n",
      "       [22.25165563,  9.74834437],\n",
      "       [32.68211921, 14.31788079],\n",
      "       [23.64238411, 10.35761589]]))\n",
      "CNI_Oculomotor_w1 \n",
      "\n",
      "(5.223103842807747, 0.1561706146809269, 3, array([[231.99229584,  42.00770416],\n",
      "       [274.32665639,  49.67334361],\n",
      "       [336.1348228 ,  60.8651772 ],\n",
      "       [256.54622496,  46.45377504]]))\n",
      "(0.3592348921885156, 0.9485286785547861, 3, array([[38.89447236,  6.10552764],\n",
      "       [47.53768844,  7.46231156],\n",
      "       [48.40201005,  7.59798995],\n",
      "       [37.16582915,  5.83417085]]))\n",
      "(6.425472675472676, 0.09264847233908553, 3, array([[17.52808989,  2.47191011],\n",
      "       [21.03370787,  2.96629213],\n",
      "       [23.66292135,  3.33707865],\n",
      "       [15.7752809 ,  2.2247191 ]]))\n",
      "(1.87255051398079, 0.5992757867532432, 3, array([[143.13038417,  27.86961583],\n",
      "       [178.28521537,  34.71478463],\n",
      "       [223.48428405,  43.51571595],\n",
      "       [174.10011641,  33.89988359]]))\n",
      "(3.6606940936207373, 0.3005108398307607, 3, array([[32.71523179,  5.28476821],\n",
      "       [27.54966887,  4.45033113],\n",
      "       [40.46357616,  6.53642384],\n",
      "       [29.27152318,  4.72847682]]))\n"
     ]
    }
   ],
   "source": [
    "for var in CNI_var_w1:\n",
    "    print(var, '\\n')\n",
    "    for dataframe in dataframes_CNI:\n",
    "        Seizoen_CNI = pd.crosstab(dataframe['Seizoen'], dataframe[var])\n",
    "        print(stats.chi2_contingency(Seizoen_CNI))"
   ]
  },
  {
   "cell_type": "markdown",
   "metadata": {},
   "source": [
    "Echter is dit niet meer het geval na week 1"
   ]
  },
  {
   "cell_type": "markdown",
   "metadata": {},
   "source": [
    "Post hoc voor CNI_Oculomotor_e met hele dataframe en klimaat D"
   ]
  },
  {
   "cell_type": "markdown",
   "metadata": {},
   "source": [
    "Post hoc voor CNI"
   ]
  },
  {
   "cell_type": "code",
   "execution_count": 200,
   "metadata": {},
   "outputs": [],
   "source": [
    "df_CNI_LenZom = df_CNI[(df_CNI['Seizoen'] == 'Lente') | (df_CNI['Seizoen'] == 'Zomer')]\n",
    "df_CNI_LenHer = df_CNI[(df_CNI['Seizoen'] == 'Lente') | (df_CNI['Seizoen'] == 'Herfst')]\n",
    "df_CNI_LenWin = df_CNI[(df_CNI['Seizoen'] == 'Lente') | (df_CNI['Seizoen'] == 'Winter')]\n",
    "df_CNI_ZomHer = df_CNI[(df_CNI['Seizoen'] == 'Zomer') | (df_CNI['Seizoen'] == 'Herfst')]\n",
    "df_CNI_ZomWin = df_CNI[(df_CNI['Seizoen'] == 'Zomer') | (df_CNI['Seizoen'] == 'Winter')]\n",
    "df_CNI_HerWin = df_CNI[(df_CNI['Seizoen'] == 'Herfst') | (df_CNI['Seizoen'] == 'Winter')]\n",
    "\n",
    "df_D_CNI_LenZom = df_D_CNI[(df_D_CNI['Seizoen'] == 'Lente') | (df_D_CNI['Seizoen'] == 'Zomer')]\n",
    "df_D_CNI_LenHer = df_D_CNI[(df_D_CNI['Seizoen'] == 'Lente') | (df_D_CNI['Seizoen'] == 'Herfst')]\n",
    "df_D_CNI_LenWin = df_D_CNI[(df_D_CNI['Seizoen'] == 'Lente') | (df_D_CNI['Seizoen'] == 'Winter')]\n",
    "df_D_CNI_ZomHer = df_D_CNI[(df_D_CNI['Seizoen'] == 'Zomer') | (df_D_CNI['Seizoen'] == 'Herfst')]\n",
    "df_D_CNI_ZomWin = df_D_CNI[(df_D_CNI['Seizoen'] == 'Zomer') | (df_D_CNI['Seizoen'] == 'Winter')]\n",
    "df_D_CNI_HerWin = df_D_CNI[(df_D_CNI['Seizoen'] == 'Herfst') | (df_D_CNI['Seizoen'] == 'Winter')]\n",
    "\n"
   ]
  },
  {
   "cell_type": "markdown",
   "metadata": {},
   "source": [
    "Post hoc hele dataset"
   ]
  },
  {
   "cell_type": "code",
   "execution_count": 201,
   "metadata": {},
   "outputs": [
    {
     "data": {
      "text/plain": [
       "(0.6907941834937221,\n",
       " 0.4058943807836204,\n",
       " 1,\n",
       " array([[268.47058824,  57.52941176],\n",
       "        [249.52941176,  53.47058824]]))"
      ]
     },
     "execution_count": 201,
     "metadata": {},
     "output_type": "execute_result"
    }
   ],
   "source": [
    "Seizoen_CNI = pd.crosstab(df_CNI_LenZom['Seizoen'], df_CNI_LenZom['CNI_Oculomotor_e'])\n",
    "stats.chi2_contingency(Seizoen_CNI)"
   ]
  },
  {
   "cell_type": "code",
   "execution_count": 202,
   "metadata": {},
   "outputs": [
    {
     "data": {
      "text/plain": [
       "(8.570753507358903,\n",
       " 0.00341605751202755,\n",
       " 1,\n",
       " array([[234.73754153,  41.26245847],\n",
       "        [277.26245847,  48.73754153]]))"
      ]
     },
     "execution_count": 202,
     "metadata": {},
     "output_type": "execute_result"
    }
   ],
   "source": [
    "Seizoen_CNI = pd.crosstab(df_CNI_LenHer['Seizoen'], df_CNI_LenHer['CNI_Oculomotor_e'])\n",
    "stats.chi2_contingency(Seizoen_CNI)"
   ]
  },
  {
   "cell_type": "code",
   "execution_count": 203,
   "metadata": {},
   "outputs": [
    {
     "data": {
      "text/plain": [
       "(0.8527079149236981,\n",
       " 0.35578740883556814,\n",
       " 1,\n",
       " array([[269.18672199,  56.81327801],\n",
       "        [327.81327801,  69.18672199]]))"
      ]
     },
     "execution_count": 203,
     "metadata": {},
     "output_type": "execute_result"
    }
   ],
   "source": [
    "Seizoen_CNI = pd.crosstab(df_CNI_LenWin['Seizoen'], df_CNI_LenWin['CNI_Oculomotor_e'])\n",
    "stats.chi2_contingency(Seizoen_CNI)"
   ]
  },
  {
   "cell_type": "code",
   "execution_count": 204,
   "metadata": {},
   "outputs": [
    {
     "data": {
      "text/plain": [
       "(4.042137248897863,\n",
       " 0.04437758628676087,\n",
       " 1,\n",
       " array([[239.29533679,  36.70466321],\n",
       "        [262.70466321,  40.29533679]]))"
      ]
     },
     "execution_count": 204,
     "metadata": {},
     "output_type": "execute_result"
    }
   ],
   "source": [
    "Seizoen_CNI = pd.crosstab(df_CNI_ZomHer['Seizoen'], df_CNI_ZomHer['CNI_Oculomotor_e'])\n",
    "stats.chi2_contingency(Seizoen_CNI)"
   ]
  },
  {
   "cell_type": "code",
   "execution_count": 205,
   "metadata": {},
   "outputs": [
    {
     "data": {
      "text/plain": [
       "(0.0,\n",
       " 1.0,\n",
       " 1,\n",
       " array([[332.91285714,  64.08714286],\n",
       "        [254.08714286,  48.91285714]]))"
      ]
     },
     "execution_count": 205,
     "metadata": {},
     "output_type": "execute_result"
    }
   ],
   "source": [
    "Seizoen_CNI = pd.crosstab(df_CNI_ZomWin['Seizoen'], df_CNI_ZomWin['CNI_Oculomotor_e'])\n",
    "stats.chi2_contingency(Seizoen_CNI)"
   ]
  },
  {
   "cell_type": "code",
   "execution_count": 206,
   "metadata": {},
   "outputs": [
    {
     "data": {
      "text/plain": [
       "(4.433477357326408,\n",
       " 0.03524064043527041,\n",
       " 1,\n",
       " array([[238.27043091,  37.72956909],\n",
       "        [342.72956909,  54.27043091]]))"
      ]
     },
     "execution_count": 206,
     "metadata": {},
     "output_type": "execute_result"
    }
   ],
   "source": [
    "Seizoen_CNI = pd.crosstab(df_CNI_HerWin['Seizoen'], df_CNI_HerWin['CNI_Oculomotor_e'])\n",
    "stats.chi2_contingency(Seizoen_CNI)"
   ]
  },
  {
   "cell_type": "markdown",
   "metadata": {},
   "source": [
    "Hieruit is te halen dat de herfst de lage p waarde gaf"
   ]
  },
  {
   "cell_type": "markdown",
   "metadata": {},
   "source": [
    "Na bonferoni correctie is te concluderen dat het niet meer statistisch significant is"
   ]
  },
  {
   "cell_type": "markdown",
   "metadata": {},
   "source": [
    "Post hoc voor klimaat D"
   ]
  },
  {
   "cell_type": "code",
   "execution_count": 207,
   "metadata": {},
   "outputs": [
    {
     "data": {
      "text/plain": [
       "(1.7135164359861592,\n",
       " 0.1905297658210512,\n",
       " 1,\n",
       " array([[24.72727273,  7.27272727],\n",
       "        [26.27272727,  7.72727273]]))"
      ]
     },
     "execution_count": 207,
     "metadata": {},
     "output_type": "execute_result"
    }
   ],
   "source": [
    "Seizoen_CNI = pd.crosstab(df_D_CNI_LenZom['Seizoen'], df_D_CNI_LenZom['CNI_Oculomotor_e'])\n",
    "stats.chi2_contingency(Seizoen_CNI)"
   ]
  },
  {
   "cell_type": "code",
   "execution_count": 208,
   "metadata": {},
   "outputs": [
    {
     "data": {
      "text/plain": [
       "(6.530822273895947,\n",
       " 0.0106020934474967,\n",
       " 1,\n",
       " array([[31.48571429,  6.51428571],\n",
       "        [26.51428571,  5.48571429]]))"
      ]
     },
     "execution_count": 208,
     "metadata": {},
     "output_type": "execute_result"
    }
   ],
   "source": [
    "Seizoen_CNI = pd.crosstab(df_D_CNI_LenHer['Seizoen'], df_D_CNI_LenHer['CNI_Oculomotor_e'])\n",
    "stats.chi2_contingency(Seizoen_CNI)"
   ]
  },
  {
   "cell_type": "code",
   "execution_count": 209,
   "metadata": {},
   "outputs": [
    {
     "data": {
      "text/plain": [
       "(2.9641180067439206,\n",
       " 0.08513087194924716,\n",
       " 1,\n",
       " array([[25.51898734,  6.48101266],\n",
       "        [37.48101266,  9.51898734]]))"
      ]
     },
     "execution_count": 209,
     "metadata": {},
     "output_type": "execute_result"
    }
   ],
   "source": [
    "Seizoen_CNI = pd.crosstab(df_D_CNI_LenWin['Seizoen'], df_D_CNI_LenWin['CNI_Oculomotor_e'])\n",
    "stats.chi2_contingency(Seizoen_CNI)"
   ]
  },
  {
   "cell_type": "code",
   "execution_count": 210,
   "metadata": {},
   "outputs": [
    {
     "data": {
      "text/plain": [
       "(0.9058483312353283,\n",
       " 0.3412183836565774,\n",
       " 1,\n",
       " array([[34.30555556,  3.69444444],\n",
       "        [30.69444444,  3.30555556]]))"
      ]
     },
     "execution_count": 210,
     "metadata": {},
     "output_type": "execute_result"
    }
   ],
   "source": [
    "Seizoen_CNI = pd.crosstab(df_D_CNI_ZomHer['Seizoen'], df_D_CNI_ZomHer['CNI_Oculomotor_e'])\n",
    "stats.chi2_contingency(Seizoen_CNI)"
   ]
  },
  {
   "cell_type": "code",
   "execution_count": 211,
   "metadata": {},
   "outputs": [
    {
     "data": {
      "text/plain": [
       "(0.0,\n",
       " 1.0,\n",
       " 1,\n",
       " array([[40.61728395,  6.38271605],\n",
       "        [29.38271605,  4.61728395]]))"
      ]
     },
     "execution_count": 211,
     "metadata": {},
     "output_type": "execute_result"
    }
   ],
   "source": [
    "Seizoen_CNI = pd.crosstab(df_D_CNI_ZomWin['Seizoen'], df_D_CNI_ZomWin['CNI_Oculomotor_e'])\n",
    "stats.chi2_contingency(Seizoen_CNI)"
   ]
  },
  {
   "cell_type": "code",
   "execution_count": 212,
   "metadata": {},
   "outputs": [
    {
     "data": {
      "text/plain": [
       "(0.6468430960137288,\n",
       " 0.42124362140187777,\n",
       " 1,\n",
       " array([[34.42352941,  3.57647059],\n",
       "        [42.57647059,  4.42352941]]))"
      ]
     },
     "execution_count": 212,
     "metadata": {},
     "output_type": "execute_result"
    }
   ],
   "source": [
    "Seizoen_CNI = pd.crosstab(df_D_CNI_HerWin['Seizoen'], df_D_CNI_HerWin['CNI_Oculomotor_e'])\n",
    "stats.chi2_contingency(Seizoen_CNI)"
   ]
  },
  {
   "cell_type": "markdown",
   "metadata": {},
   "source": [
    "Hier is te zien dat dat alleen het geval is tussen de herfst en de lente"
   ]
  },
  {
   "cell_type": "markdown",
   "metadata": {},
   "source": [
    "Na bonferoni correctie is te concluderen dat het niet meer statistisch significant is"
   ]
  },
  {
   "cell_type": "code",
   "execution_count": null,
   "metadata": {},
   "outputs": [],
   "source": []
  },
  {
   "cell_type": "code",
   "execution_count": null,
   "metadata": {},
   "outputs": [],
   "source": []
  },
  {
   "cell_type": "code",
   "execution_count": null,
   "metadata": {},
   "outputs": [],
   "source": []
  },
  {
   "cell_type": "markdown",
   "metadata": {},
   "source": [
    "Ant event variabelen testen"
   ]
  },
  {
   "cell_type": "code",
   "execution_count": 213,
   "metadata": {},
   "outputs": [
    {
     "name": "stdout",
     "output_type": "stream",
     "text": [
      "Seizoen    Herfst  Lente  Winter  Zomer\n",
      "Ant_event                              \n",
      "0.0             8     19      13      6\n",
      "1.0            31     37      42     35 \n",
      "\n",
      "Seizoen    Herfst  Lente  Winter  Zomer\n",
      "Ant_event                              \n",
      "0.0             3      4       6      6\n",
      "1.0            16     17      19     11 \n",
      "\n",
      "Seizoen    Herfst  Lente  Winter  Zomer\n",
      "Ant_event                              \n",
      "0.0            40     41      61     54\n",
      "1.0           128    165     192    140 \n",
      "\n",
      "Seizoen    Herfst  Lente  Winter  Zomer\n",
      "Ant_event                              \n",
      "0.0             3      6      10     11\n",
      "1.0            32     25      33     22 \n",
      "\n"
     ]
    }
   ],
   "source": [
    "for dateframe in dataframes_klimaat:\n",
    "    freq_table = pd.crosstab(dateframe['Ant_event'], dateframe['Seizoen']) \n",
    "    print(freq_table, '\\n')"
   ]
  },
  {
   "cell_type": "markdown",
   "metadata": {},
   "source": [
    "Voor klimaat B en D zijn niet genoeg waarden, daarom worden de testen gedaan voor de datasets van alle klimate, klimaat A en klimaat C"
   ]
  },
  {
   "cell_type": "code",
   "execution_count": 214,
   "metadata": {},
   "outputs": [
    {
     "data": {
      "text/plain": [
       "(3.3967431318866286,\n",
       " 0.33440317301764083,\n",
       " 3,\n",
       " array([[ 61.44902913, 199.55097087],\n",
       "        [ 73.92718447, 240.07281553],\n",
       "        [ 88.52427184, 287.47572816],\n",
       "        [ 67.09951456, 217.90048544]]))"
      ]
     },
     "execution_count": 214,
     "metadata": {},
     "output_type": "execute_result"
    }
   ],
   "source": [
    "Seizoen_Ant_event = pd.crosstab(df['Seizoen'], df['Ant_event'])\n",
    "stats.chi2_contingency(Seizoen_Ant_event)"
   ]
  },
  {
   "cell_type": "code",
   "execution_count": 215,
   "metadata": {},
   "outputs": [
    {
     "data": {
      "text/plain": [
       "(5.24897725965238,\n",
       " 0.15444765405050956,\n",
       " 3,\n",
       " array([[ 9.39267016, 29.60732984],\n",
       "        [13.48691099, 42.51308901],\n",
       "        [13.2460733 , 41.7539267 ],\n",
       "        [ 9.87434555, 31.12565445]]))"
      ]
     },
     "execution_count": 215,
     "metadata": {},
     "output_type": "execute_result"
    }
   ],
   "source": [
    "Seizoen_Ant_event = pd.crosstab(df_A['Seizoen'], df_A['Ant_event'])\n",
    "stats.chi2_contingency(Seizoen_Ant_event)"
   ]
  },
  {
   "cell_type": "code",
   "execution_count": 216,
   "metadata": {},
   "outputs": [
    {
     "data": {
      "text/plain": [
       "(3.470480276210917,\n",
       " 0.3246109601569913,\n",
       " 3,\n",
       " array([[ 40.10718636, 127.89281364],\n",
       "        [ 49.17904994, 156.82095006],\n",
       "        [ 60.39951279, 192.60048721],\n",
       "        [ 46.31425091, 147.68574909]]))"
      ]
     },
     "execution_count": 216,
     "metadata": {},
     "output_type": "execute_result"
    }
   ],
   "source": [
    "Seizoen_Ant_event = pd.crosstab(df_C['Seizoen'], df_C['Ant_event'])\n",
    "stats.chi2_contingency(Seizoen_Ant_event)"
   ]
  },
  {
   "cell_type": "markdown",
   "metadata": {},
   "source": [
    "Statistisch onafhankelijk in elk klimaat"
   ]
  },
  {
   "cell_type": "code",
   "execution_count": 217,
   "metadata": {},
   "outputs": [
    {
     "name": "stdout",
     "output_type": "stream",
     "text": [
      "Seizoen       Herfst  Lente  Winter  Zomer\n",
      "Ant_event_GE                              \n",
      "0.0               24     43      36     26\n",
      "1.0               15     13      19     15 \n",
      "\n",
      "Seizoen       Herfst  Lente  Winter  Zomer\n",
      "Ant_event_GE                              \n",
      "0.0               12     17      17     10\n",
      "1.0                7      4       8      7 \n",
      "\n",
      "Seizoen       Herfst  Lente  Winter  Zomer\n",
      "Ant_event_GE                              \n",
      "0.0              120    145     184    153\n",
      "1.0               48     61      69     41 \n",
      "\n",
      "Seizoen       Herfst  Lente  Winter  Zomer\n",
      "Ant_event_GE                              \n",
      "0.0               22     19      27     26\n",
      "1.0               13     12      16      7 \n",
      "\n"
     ]
    }
   ],
   "source": [
    "for dateframe in dataframes_klimaat:\n",
    "    freq_table = pd.crosstab(dateframe['Ant_event_GE'], dateframe['Seizoen']) \n",
    "    print(freq_table, '\\n')"
   ]
  },
  {
   "cell_type": "markdown",
   "metadata": {},
   "source": [
    "Voor klimaat B zijn niet genoeg waarden, daarom worden de testen gedaan voor de datasets van alle klimate, klimaat A, klimaat C en klimaat D"
   ]
  },
  {
   "cell_type": "code",
   "execution_count": 218,
   "metadata": {},
   "outputs": [
    {
     "data": {
      "text/plain": [
       "(3.8272377846536627,\n",
       " 0.28073377635146896,\n",
       " 3,\n",
       " array([[186.03640777,  74.96359223],\n",
       "        [223.81391586,  90.18608414],\n",
       "        [268.00647249, 107.99352751],\n",
       "        [203.14320388,  81.85679612]]))"
      ]
     },
     "execution_count": 218,
     "metadata": {},
     "output_type": "execute_result"
    }
   ],
   "source": [
    "Seizoen_Ant_event = pd.crosstab(df['Seizoen'], df['Ant_event_GE'])\n",
    "stats.chi2_contingency(Seizoen_Ant_event)"
   ]
  },
  {
   "cell_type": "code",
   "execution_count": 219,
   "metadata": {},
   "outputs": [
    {
     "data": {
      "text/plain": [
       "(3.251610660014362,\n",
       " 0.35443452241451034,\n",
       " 3,\n",
       " array([[26.34031414, 12.65968586],\n",
       "        [37.82198953, 18.17801047],\n",
       "        [37.14659686, 17.85340314],\n",
       "        [27.69109948, 13.30890052]]))"
      ]
     },
     "execution_count": 219,
     "metadata": {},
     "output_type": "execute_result"
    }
   ],
   "source": [
    "Seizoen_Ant_event = pd.crosstab(df_A['Seizoen'], df_A['Ant_event_GE'])\n",
    "stats.chi2_contingency(Seizoen_Ant_event)"
   ]
  },
  {
   "cell_type": "code",
   "execution_count": 220,
   "metadata": {},
   "outputs": [
    {
     "data": {
      "text/plain": [
       "(4.308629049527979,\n",
       " 0.23000860089740766,\n",
       " 3,\n",
       " array([[123.1863581 ,  44.8136419 ],\n",
       "        [151.0499391 ,  54.9500609 ],\n",
       "        [185.51278928,  67.48721072],\n",
       "        [142.25091352,  51.74908648]]))"
      ]
     },
     "execution_count": 220,
     "metadata": {},
     "output_type": "execute_result"
    }
   ],
   "source": [
    "Seizoen_Ant_event = pd.crosstab(df_C['Seizoen'], df_C['Ant_event_GE'])\n",
    "stats.chi2_contingency(Seizoen_Ant_event)"
   ]
  },
  {
   "cell_type": "code",
   "execution_count": 221,
   "metadata": {},
   "outputs": [
    {
     "data": {
      "text/plain": [
       "(3.068920861513158,\n",
       " 0.381120521509981,\n",
       " 3,\n",
       " array([[23.16901408, 11.83098592],\n",
       "        [20.52112676, 10.47887324],\n",
       "        [28.46478873, 14.53521127],\n",
       "        [21.84507042, 11.15492958]]))"
      ]
     },
     "execution_count": 221,
     "metadata": {},
     "output_type": "execute_result"
    }
   ],
   "source": [
    "Seizoen_Ant_event = pd.crosstab(df_D['Seizoen'], df_D['Ant_event_GE'])\n",
    "stats.chi2_contingency(Seizoen_Ant_event)"
   ]
  },
  {
   "cell_type": "markdown",
   "metadata": {},
   "source": [
    "Statistisch onafhankelijk in elk klimaat"
   ]
  },
  {
   "cell_type": "code",
   "execution_count": 222,
   "metadata": {},
   "outputs": [
    {
     "name": "stdout",
     "output_type": "stream",
     "text": [
      "Seizoen                Herfst  Lente  Winter  Zomer\n",
      "Ant_event_respiratory                              \n",
      "0.0                        25     35      40     25\n",
      "1.0                        14     21      15     16 \n",
      "\n",
      "Seizoen                Herfst  Lente  Winter  Zomer\n",
      "Ant_event_respiratory                              \n",
      "0.0                        11     11      13     14\n",
      "1.0                         8     10      12      3 \n",
      "\n",
      "Seizoen                Herfst  Lente  Winter  Zomer\n",
      "Ant_event_respiratory                              \n",
      "0.0                        97    114     141    113\n",
      "1.0                        71     92     112     81 \n",
      "\n",
      "Seizoen                Herfst  Lente  Winter  Zomer\n",
      "Ant_event_respiratory                              \n",
      "0.0                        18     22      28     19\n",
      "1.0                        17      9      15     14 \n",
      "\n"
     ]
    }
   ],
   "source": [
    "for dateframe in dataframes_klimaat:\n",
    "    freq_table = pd.crosstab(dateframe['Ant_event_respiratory'], dateframe['Seizoen']) \n",
    "    print(freq_table, '\\n')"
   ]
  },
  {
   "cell_type": "markdown",
   "metadata": {},
   "source": [
    "Voor klimaat B zijn niet genoeg waarden, daarom worden de testen gedaan voor de datasets van alle klimate, klimaat A, klimaat C en klimaat D"
   ]
  },
  {
   "cell_type": "code",
   "execution_count": 223,
   "metadata": {},
   "outputs": [
    {
     "data": {
      "text/plain": [
       "(0.36380668650084336,\n",
       " 0.9476133879738914,\n",
       " 3,\n",
       " array([[153.30582524, 107.69417476],\n",
       "        [184.4368932 , 129.5631068 ],\n",
       "        [220.85436893, 155.14563107],\n",
       "        [167.40291262, 117.59708738]]))"
      ]
     },
     "execution_count": 223,
     "metadata": {},
     "output_type": "execute_result"
    }
   ],
   "source": [
    "Seizoen_Ant_event = pd.crosstab(df['Seizoen'], df['Ant_event_respiratory'])\n",
    "stats.chi2_contingency(Seizoen_Ant_event)"
   ]
  },
  {
   "cell_type": "code",
   "execution_count": 224,
   "metadata": {},
   "outputs": [
    {
     "data": {
      "text/plain": [
       "(1.897762991504676,\n",
       " 0.5938950499167601,\n",
       " 3,\n",
       " array([[25.52356021, 13.47643979],\n",
       "        [36.64921466, 19.35078534],\n",
       "        [35.9947644 , 19.0052356 ],\n",
       "        [26.83246073, 14.16753927]]))"
      ]
     },
     "execution_count": 224,
     "metadata": {},
     "output_type": "execute_result"
    }
   ],
   "source": [
    "Seizoen_Ant_event = pd.crosstab(df_A['Seizoen'], df_A['Ant_event_respiratory'])\n",
    "stats.chi2_contingency(Seizoen_Ant_event)"
   ]
  },
  {
   "cell_type": "code",
   "execution_count": 225,
   "metadata": {},
   "outputs": [
    {
     "data": {
      "text/plain": [
       "(0.5134594087318813,\n",
       " 0.9159246431134281,\n",
       " 3,\n",
       " array([[ 95.15225335,  72.84774665],\n",
       "        [116.67478685,  89.32521315],\n",
       "        [143.29476248, 109.70523752],\n",
       "        [109.87819732,  84.12180268]]))"
      ]
     },
     "execution_count": 225,
     "metadata": {},
     "output_type": "execute_result"
    }
   ],
   "source": [
    "Seizoen_Ant_event = pd.crosstab(df_C['Seizoen'], df_C['Ant_event_respiratory'])\n",
    "stats.chi2_contingency(Seizoen_Ant_event)"
   ]
  },
  {
   "cell_type": "code",
   "execution_count": 226,
   "metadata": {},
   "outputs": [
    {
     "data": {
      "text/plain": [
       "(3.1149113764076586,\n",
       " 0.37424519206613077,\n",
       " 3,\n",
       " array([[21.44366197, 13.55633803],\n",
       "        [18.99295775, 12.00704225],\n",
       "        [26.34507042, 16.65492958],\n",
       "        [20.21830986, 12.78169014]]))"
      ]
     },
     "execution_count": 226,
     "metadata": {},
     "output_type": "execute_result"
    }
   ],
   "source": [
    "Seizoen_Ant_event = pd.crosstab(df_D['Seizoen'], df_D['Ant_event_respiratory'])\n",
    "stats.chi2_contingency(Seizoen_Ant_event)"
   ]
  },
  {
   "cell_type": "markdown",
   "metadata": {},
   "source": [
    "Bij alle klimaten is het statistisch onafhankelijk "
   ]
  },
  {
   "cell_type": "code",
   "execution_count": 227,
   "metadata": {},
   "outputs": [
    {
     "name": "stdout",
     "output_type": "stream",
     "text": [
      "Seizoen                Herfst  Lente  Winter  Zomer\n",
      "Ant_event_vaccination                              \n",
      "0.0                        38     54      54     41\n",
      "1.0                         1      2       1      0 \n",
      "\n",
      "Seizoen                Herfst  Lente  Winter  Zomer\n",
      "Ant_event_vaccination                              \n",
      "0.0                        19     18      25     17\n",
      "1.0                         0      3       0      0 \n",
      "\n",
      "Seizoen                Herfst  Lente  Winter  Zomer\n",
      "Ant_event_vaccination                              \n",
      "0.0                       166    202     247    186\n",
      "1.0                         2      4       6      8 \n",
      "\n",
      "Seizoen                Herfst  Lente  Winter  Zomer\n",
      "Ant_event_vaccination                              \n",
      "0.0                        35     30      43     33\n",
      "1.0                         0      1       0      0 \n",
      "\n"
     ]
    }
   ],
   "source": [
    "for dateframe in dataframes_klimaat:\n",
    "    freq_table = pd.crosstab(dateframe['Ant_event_vaccination'], dateframe['Seizoen']) \n",
    "    print(freq_table, '\\n')"
   ]
  },
  {
   "cell_type": "markdown",
   "metadata": {},
   "source": [
    "Zelfs alles samen is het niet genoeg waarden voor een chi-kwadraat toets :("
   ]
  },
  {
   "cell_type": "code",
   "execution_count": 228,
   "metadata": {},
   "outputs": [
    {
     "name": "stdout",
     "output_type": "stream",
     "text": [
      "Seizoen          Herfst  Lente  Winter  Zomer\n",
      "Ant_event_other                              \n",
      "0.0                  38     54      48     36\n",
      "1.0                   1      2       7      5 \n",
      "\n",
      "Seizoen          Herfst  Lente  Winter  Zomer\n",
      "Ant_event_other                              \n",
      "0.0                  17     20      25     16\n",
      "1.0                   2      1       0      1 \n",
      "\n",
      "Seizoen          Herfst  Lente  Winter  Zomer\n",
      "Ant_event_other                              \n",
      "0.0                 160    195     244    183\n",
      "1.0                   8     11       9     11 \n",
      "\n",
      "Seizoen          Herfst  Lente  Winter  Zomer\n",
      "Ant_event_other                              \n",
      "0.0                  33     28      41     32\n",
      "1.0                   2      3       2      1 \n",
      "\n"
     ]
    }
   ],
   "source": [
    "for dateframe in dataframes_klimaat:\n",
    "    freq_table = pd.crosstab(dateframe['Ant_event_other'], dateframe['Seizoen']) \n",
    "    print(freq_table, '\\n')"
   ]
  },
  {
   "cell_type": "markdown",
   "metadata": {},
   "source": [
    "Alleen C heeft genoeg waarden, dus worden chi-kwadraat toetsen voor de hele dataset en voor het C klimaat uitgevoerd"
   ]
  },
  {
   "cell_type": "code",
   "execution_count": 229,
   "metadata": {},
   "outputs": [
    {
     "data": {
      "text/plain": [
       "(0.8341618289150069,\n",
       " 0.841279722287461,\n",
       " 3,\n",
       " array([[247.0631068 ,  13.9368932 ],\n",
       "        [297.23300971,  16.76699029],\n",
       "        [355.9223301 ,  20.0776699 ],\n",
       "        [269.7815534 ,  15.2184466 ]]))"
      ]
     },
     "execution_count": 229,
     "metadata": {},
     "output_type": "execute_result"
    }
   ],
   "source": [
    "Seizoen_Ant_event = pd.crosstab(df['Seizoen'], df['Ant_event_other'])\n",
    "stats.chi2_contingency(Seizoen_Ant_event)"
   ]
  },
  {
   "cell_type": "code",
   "execution_count": 230,
   "metadata": {},
   "outputs": [
    {
     "data": {
      "text/plain": [
       "(1.3168244943354948,\n",
       " 0.7251418637629603,\n",
       " 3,\n",
       " array([[160.01948843,   7.98051157],\n",
       "        [196.21437272,   9.78562728],\n",
       "        [240.9817296 ,  12.0182704 ],\n",
       "        [184.78440926,   9.21559074]]))"
      ]
     },
     "execution_count": 230,
     "metadata": {},
     "output_type": "execute_result"
    }
   ],
   "source": [
    "Seizoen_Ant_event = pd.crosstab(df_C['Seizoen'], df_C['Ant_event_other'])\n",
    "stats.chi2_contingency(Seizoen_Ant_event)"
   ]
  },
  {
   "cell_type": "markdown",
   "metadata": {},
   "source": [
    "Statistisch onafhankelijk"
   ]
  },
  {
   "cell_type": "code",
   "execution_count": null,
   "metadata": {},
   "outputs": [],
   "source": []
  },
  {
   "cell_type": "code",
   "execution_count": null,
   "metadata": {},
   "outputs": [],
   "source": []
  },
  {
   "cell_type": "code",
   "execution_count": null,
   "metadata": {},
   "outputs": [],
   "source": []
  },
  {
   "cell_type": "code",
   "execution_count": null,
   "metadata": {},
   "outputs": [],
   "source": []
  },
  {
   "cell_type": "code",
   "execution_count": null,
   "metadata": {},
   "outputs": [],
   "source": []
  },
  {
   "cell_type": "markdown",
   "metadata": {},
   "source": [
    "#### Able_to_walk_e"
   ]
  },
  {
   "cell_type": "code",
   "execution_count": 231,
   "metadata": {},
   "outputs": [
    {
     "name": "stdout",
     "output_type": "stream",
     "text": [
      "Seizoen         Herfst  Lente  Winter  Zomer\n",
      "Able_to_walk_e                              \n",
      "0.0                 38     49      53     38\n",
      "1.0                  9      9       4      5 \n",
      "\n",
      "Seizoen         Herfst  Lente  Winter  Zomer\n",
      "Able_to_walk_e                              \n",
      "0.0                 15     12      21      9\n",
      "1.0                  4     11       6      9 \n",
      "\n",
      "Seizoen         Herfst  Lente  Winter  Zomer\n",
      "Able_to_walk_e                              \n",
      "0.0                126    158     198    139\n",
      "1.0                 48     59      72     69 \n",
      "\n",
      "Seizoen         Herfst  Lente  Winter  Zomer\n",
      "Able_to_walk_e                              \n",
      "0.0                 29     24      39     28\n",
      "1.0                  9      9       7      6 \n",
      "\n"
     ]
    }
   ],
   "source": [
    "for dateframe in dataframes_klimaat:\n",
    "    freq_table = pd.crosstab(dateframe['Able_to_walk_e'], dateframe['Seizoen']) \n",
    "    print(freq_table, '\\n')"
   ]
  },
  {
   "cell_type": "code",
   "execution_count": 232,
   "metadata": {},
   "outputs": [
    {
     "data": {
      "text/plain": [
       "(4.81494762415157,\n",
       " 0.18586003710827367,\n",
       " 3,\n",
       " array([[206.80487805, 246.23170732, 297.56097561, 225.40243902],\n",
       "        [ 71.19512195,  84.76829268, 102.43902439,  77.59756098]]))"
      ]
     },
     "execution_count": 232,
     "metadata": {},
     "output_type": "execute_result"
    }
   ],
   "source": [
    "Seizoen_Able_to_walk_e = pd.crosstab(df['Able_to_walk_e'], df['Seizoen'])\n",
    "stats.chi2_contingency(Seizoen_Able_to_walk_e)"
   ]
  },
  {
   "cell_type": "code",
   "execution_count": 233,
   "metadata": {},
   "outputs": [
    {
     "data": {
      "text/plain": [
       "(7.04439559998394,\n",
       " 0.07049611519687934,\n",
       " 3,\n",
       " array([[12.44827586, 15.06896552, 17.68965517, 11.79310345],\n",
       "        [ 6.55172414,  7.93103448,  9.31034483,  6.20689655]]))"
      ]
     },
     "execution_count": 233,
     "metadata": {},
     "output_type": "execute_result"
    }
   ],
   "source": [
    "df_B_Able_to_walk_e = pd.crosstab(df_B['Able_to_walk_e'], df_B['Seizoen'])\n",
    "stats.chi2_contingency(df_B_Able_to_walk_e)"
   ]
  },
  {
   "cell_type": "code",
   "execution_count": 234,
   "metadata": {},
   "outputs": [
    {
     "data": {
      "text/plain": [
       "(2.925718813608853,\n",
       " 0.4032202346996997,\n",
       " 3,\n",
       " array([[124.3429229 , 155.07134638, 192.94591484, 148.63981588],\n",
       "        [ 49.6570771 ,  61.92865362,  77.05408516,  59.36018412]]))"
      ]
     },
     "execution_count": 234,
     "metadata": {},
     "output_type": "execute_result"
    }
   ],
   "source": [
    "df_C_Able_to_walk_e = pd.crosstab(df_C['Able_to_walk_e'], df_C['Seizoen'])\n",
    "stats.chi2_contingency(df_C_Able_to_walk_e)"
   ]
  },
  {
   "cell_type": "code",
   "execution_count": 235,
   "metadata": {},
   "outputs": [
    {
     "data": {
      "text/plain": [
       "(2.1202901938941827,\n",
       " 0.5478188380239974,\n",
       " 3,\n",
       " array([[30.1986755 , 26.22516556, 36.55629139, 27.01986755],\n",
       "        [ 7.8013245 ,  6.77483444,  9.44370861,  6.98013245]]))"
      ]
     },
     "execution_count": 235,
     "metadata": {},
     "output_type": "execute_result"
    }
   ],
   "source": [
    "df_D_Able_to_walk_e = pd.crosstab(df_D['Able_to_walk_e'], df_D['Seizoen'])\n",
    "stats.chi2_contingency(df_D_Able_to_walk_e)"
   ]
  },
  {
   "cell_type": "markdown",
   "metadata": {},
   "source": [
    "#### Able_to_walk_w1"
   ]
  },
  {
   "cell_type": "code",
   "execution_count": 236,
   "metadata": {},
   "outputs": [
    {
     "name": "stdout",
     "output_type": "stream",
     "text": [
      "Seizoen          Herfst  Lente  Winter  Zomer\n",
      "Able_to_walk_w1                              \n",
      "0.0                  37     39      50     35\n",
      "1.0                  10     18       7      8 \n",
      "\n",
      "Seizoen          Herfst  Lente  Winter  Zomer\n",
      "Able_to_walk_w1                              \n",
      "0.0                  15     12      18      8\n",
      "1.0                   5     12       9      9 \n",
      "\n",
      "Seizoen          Herfst  Lente  Winter  Zomer\n",
      "Able_to_walk_w1                              \n",
      "0.0                 123    145     183    136\n",
      "1.0                  52     72      86     70 \n",
      "\n",
      "Seizoen          Herfst  Lente  Winter  Zomer\n",
      "Able_to_walk_w1                              \n",
      "0.0                  23     22      34     23\n",
      "1.0                  14     11      13     11 \n",
      "\n"
     ]
    }
   ],
   "source": [
    "for dateframe in dataframes_klimaat:\n",
    "    freq_table = pd.crosstab(dateframe['Able_to_walk_w1'], dateframe['Seizoen']) \n",
    "    print(freq_table, '\\n')"
   ]
  },
  {
   "cell_type": "code",
   "execution_count": 237,
   "metadata": {},
   "outputs": [
    {
     "data": {
      "text/plain": [
       "(3.3590834681264,\n",
       " 0.3395036202025446,\n",
       " 3,\n",
       " array([[192.31832061, 228.16259542, 275.72519084, 206.79389313],\n",
       "        [ 86.68167939, 102.83740458, 124.27480916,  93.20610687]]))"
      ]
     },
     "execution_count": 237,
     "metadata": {},
     "output_type": "execute_result"
    }
   ],
   "source": [
    "Seizoen_Able_to_walk_w1 = pd.crosstab(df['Able_to_walk_w1'], df['Seizoen'])\n",
    "stats.chi2_contingency(Seizoen_Able_to_walk_w1)"
   ]
  },
  {
   "cell_type": "code",
   "execution_count": 238,
   "metadata": {},
   "outputs": [
    {
     "name": "stdout",
     "output_type": "stream",
     "text": [
      "Seizoen    Herfst  Lente  Winter  Zomer\n",
      "MRC_sum_e                              \n",
      "0.0             1      5       2      2\n",
      "1.0             0      2       3      1\n",
      "2.0             0      0       0      1\n",
      "3.0             1      0       4      0\n",
      "4.0             1      0       1      0\n",
      "6.0             1      0       0      1\n",
      "7.0             0      2       0      0\n",
      "10.0            0      0       0      1\n",
      "12.0            0      0       1      0\n",
      "14.0            1      1       0      0\n",
      "16.0            0      0       1      1\n",
      "18.0            1      0       1      2\n",
      "20.0            0      1       0      1\n",
      "21.0            0      0       0      1\n",
      "22.0            0      0       3      0\n",
      "23.0            1      1       1      0\n",
      "24.0            0      1       0      1\n",
      "25.0            0      1       0      0\n",
      "26.0            1      0       1      0\n",
      "27.0            0      1       0      0\n",
      "28.0            2      1       1      0\n",
      "30.0            0      0       1      0\n",
      "31.0            0      0       0      1\n",
      "32.0            0      2       0      2\n",
      "33.0            1      0       2      1\n",
      "34.0            1      1       0      2\n",
      "35.0            0      2       2      0\n",
      "36.0            1      1       0      0\n",
      "37.0            2      0       1      0\n",
      "38.0            1      1       0      1\n",
      "39.0            0      1       0      1\n",
      "40.0            1      1       2      0\n",
      "41.0            0      2       1      0\n",
      "42.0            2      1       1      0\n",
      "43.0            0      2       2      1\n",
      "44.0            0      1       5      1\n",
      "45.0            1      0       2      1\n",
      "46.0            2      3       2      4\n",
      "47.0            4      1       2      1\n",
      "48.0            3      0       3      1\n",
      "49.0            1      3       1      1\n",
      "50.0            4      1       1      2\n",
      "51.0            1      2       0      1\n",
      "52.0            0      2       2      1\n",
      "53.0            2      1       1      1\n",
      "54.0            2      0       0      2\n",
      "55.0            0      1       1      1\n",
      "56.0            0      5       2      0\n",
      "57.0            2      2       1      0\n",
      "58.0            2      2       0      1\n",
      "59.0            2      1       0      2\n",
      "60.0            2      2       1      2 \n",
      "\n",
      "Seizoen    Herfst  Lente  Winter  Zomer\n",
      "MRC_sum_e                              \n",
      "3.0             0      1       0      0\n",
      "6.0             0      0       1      0\n",
      "15.0            0      0       1      0\n",
      "17.0            0      1       1      0\n",
      "27.0            1      0       1      1\n",
      "30.0            2      0       1      0\n",
      "31.0            0      1       0      0\n",
      "32.0            0      0       0      1\n",
      "34.0            1      0       0      1\n",
      "35.0            0      1       0      1\n",
      "36.0            2      1       0      0\n",
      "38.0            0      1       0      0\n",
      "39.0            1      0       0      0\n",
      "40.0            2      0       1      1\n",
      "41.0            1      0       0      0\n",
      "42.0            0      0       1      0\n",
      "43.0            2      1       0      0\n",
      "44.0            0      0       0      1\n",
      "45.0            1      2       2      1\n",
      "46.0            0      0       1      0\n",
      "47.0            1      0       2      1\n",
      "48.0            0      1       1      0\n",
      "49.0            0      0       1      1\n",
      "50.0            0      0       2      0\n",
      "51.0            1      2       1      1\n",
      "52.0            1      0       1      0\n",
      "53.0            1      0       1      0\n",
      "54.0            0      0       0      1\n",
      "55.0            1      3       0      0\n",
      "56.0            0      1       2      0\n",
      "57.0            1      0       1      0\n",
      "58.0            0      2       1      2\n",
      "59.0            1      2       0      4\n",
      "60.0            0      3       3      0 \n",
      "\n",
      "Seizoen    Herfst  Lente  Winter  Zomer\n",
      "MRC_sum_e                              \n",
      "0.0             9      3       4      4\n",
      "1.0             6      2       2      1\n",
      "2.0             1      2       2      2\n",
      "3.0             0      5       2      1\n",
      "4.0             0      1       1      1\n",
      "...           ...    ...     ...    ...\n",
      "56.0            5      9       9      3\n",
      "57.0            6      4      10      7\n",
      "58.0            4      7       8      6\n",
      "59.0           10     15      12     16\n",
      "60.0           12     20      23     18\n",
      "\n",
      "[61 rows x 4 columns] \n",
      "\n",
      "Seizoen    Herfst  Lente  Winter  Zomer\n",
      "MRC_sum_e                              \n",
      "0.0             2      1       0      1\n",
      "1.0             0      0       0      1\n",
      "2.0             0      1       0      0\n",
      "3.0             0      0       1      0\n",
      "4.0             1      1       0      0\n",
      "5.0             0      1       0      0\n",
      "10.0            1      1       0      0\n",
      "12.0            0      1       0      2\n",
      "15.0            0      1       0      0\n",
      "16.0            0      1       0      0\n",
      "18.0            1      0       0      1\n",
      "19.0            0      0       1      0\n",
      "21.0            0      0       1      0\n",
      "22.0            1      0       0      0\n",
      "23.0            0      0       1      0\n",
      "24.0            0      1       1      0\n",
      "25.0            0      0       0      1\n",
      "27.0            0      0       0      1\n",
      "28.0            0      0       2      1\n",
      "29.0            1      0       0      0\n",
      "30.0            0      0       1      0\n",
      "31.0            0      0       1      0\n",
      "33.0            0      0       2      0\n",
      "34.0            1      0       0      1\n",
      "35.0            1      0       1      0\n",
      "36.0            0      0       1      1\n",
      "37.0            0      0       3      0\n",
      "38.0            0      1       0      2\n",
      "39.0            2      1       1      0\n",
      "40.0            0      0       2      1\n",
      "41.0            0      0       1      3\n",
      "42.0            0      0       1      0\n",
      "43.0            1      1       1      0\n",
      "44.0            2      1       0      0\n",
      "45.0            3      0       1      1\n",
      "46.0            1      1       2      0\n",
      "47.0            0      2       2      3\n",
      "48.0            2      0       0      0\n",
      "49.0            0      0       0      2\n",
      "50.0            0      0       3      0\n",
      "51.0            4      0       2      0\n",
      "52.0            1      3       3      1\n",
      "53.0            0      2       1      0\n",
      "54.0            2      0       0      2\n",
      "55.0            4      1       0      2\n",
      "56.0            1      2       0      2\n",
      "57.0            1      1       1      0\n",
      "58.0            0      2       4      0\n",
      "59.0            2      1       2      2\n",
      "60.0            3      4       3      2 \n",
      "\n"
     ]
    },
    {
     "data": {
      "text/plain": [
       "Text(0.5, 1.0, 'Seizoensverdeling MRC_sun_e over de seizoenen')"
      ]
     },
     "execution_count": 238,
     "metadata": {},
     "output_type": "execute_result"
    },
    {
     "data": {
      "image/png": "[encoded data removed]",
      "text/plain": [
       "<Figure size 432x288 with 1 Axes>"
      ]
     },
     "metadata": {
      "needs_background": "light"
     },
     "output_type": "display_data"
    }
   ],
   "source": [
    "frequentietabellen=[]\n",
    "\n",
    "for dateframe in dataframes_klimaat:\n",
    "    freq_table = pd.crosstab(dateframe['MRC_sum_e'], dateframe['Seizoen']) \n",
    "    frequentietabellen.append(freq_table)\n",
    "    print(freq_table, '\\n')\n",
    "\n",
    "combined_freq_table = pd.concat(frequentietabellen)\n",
    "\n",
    "combined_freq_table = combined_freq_table.groupby(combined_freq_table.index).sum()\n",
    "\n",
    "combined_freq_table.plot(kind='bar', stacked=True).set_title('Seizoensverdeling MRC_sun_e over de seizoenen')\n"
   ]
  },
  {
   "cell_type": "markdown",
   "metadata": {},
   "source": [
    "#### ANOVA uitvoeren"
   ]
  },
  {
   "cell_type": "code",
   "execution_count": 239,
   "metadata": {},
   "outputs": [
    {
     "name": "stdout",
     "output_type": "stream",
     "text": [
      "                   sum_sq      df         F    PR(>F)\n",
      "C(Seizoen)     110.231717     3.0  0.134426  0.939545\n",
      "Residual    354793.657684  1298.0       NaN       NaN\n"
     ]
    }
   ],
   "source": [
    "df_mrc_e = df[['MRC_sum_e', 'Seizoen']]\n",
    "model_1 = ols('MRC_sum_e ~ C(Seizoen)', data=df_mrc_e).fit()\n",
    "anova_table = sm.stats.anova_lm(model_1, typ=2)\n",
    "print(anova_table)"
   ]
  },
  {
   "cell_type": "markdown",
   "metadata": {},
   "source": [
    "#### Residuen testen op normaliteit met shapiro-wilk toets en QQ-plot tekenen"
   ]
  },
  {
   "cell_type": "code",
   "execution_count": 240,
   "metadata": {},
   "outputs": [
    {
     "name": "stdout",
     "output_type": "stream",
     "text": [
      "ShapiroResult(statistic=0.8740780353546143, pvalue=3.66684624681098e-31)\n"
     ]
    },
    {
     "data": {
      "image/png": "[encoded data removed]",
      "text/plain": [
       "<Figure size 432x288 with 1 Axes>"
      ]
     },
     "metadata": {
      "needs_background": "light"
     },
     "output_type": "display_data"
    }
   ],
   "source": [
    "residuen = model_1.resid\n",
    "\n",
    "print(stats.shapiro(residuen))\n",
    "\n",
    "sm.qqplot(residuen, line = 's' )\n",
    "# line = s =>standardized line, the expected order statistics are scaled by the standard deviation \n",
    "# of the given sample and have the mean added to them\n",
    "# https://www.statsmodels.org/dev/generated/statsmodels.graphics.gofplots.qqplot.html\n",
    "plt.title('QQ-plot van de reisduen')\n",
    "plt.show()\n"
   ]
  },
  {
   "cell_type": "markdown",
   "metadata": {},
   "source": [
    "Niet normaal verdeeld, kan geen anova uitvoeren, dus pair wise t-toets"
   ]
  },
  {
   "cell_type": "markdown",
   "metadata": {},
   "source": [
    "#### MRC_sum_e"
   ]
  },
  {
   "cell_type": "code",
   "execution_count": 241,
   "metadata": {},
   "outputs": [],
   "source": [
    "df_lente = df[df['Seizoen']=='Lente']\n",
    "df_lente_mrc_e = df_lente['MRC_sum_e'].dropna()"
   ]
  },
  {
   "cell_type": "code",
   "execution_count": 242,
   "metadata": {},
   "outputs": [],
   "source": [
    "df_zomer = df[df['Seizoen']=='Zomer']\n",
    "df_zomer_mrc_e = df_zomer['MRC_sum_e'].dropna()"
   ]
  },
  {
   "cell_type": "code",
   "execution_count": 243,
   "metadata": {},
   "outputs": [],
   "source": [
    "df_herfst = df[df['Seizoen']=='Herfst']\n",
    "df_herfst_mrc_e = df_herfst['MRC_sum_e'].dropna()"
   ]
  },
  {
   "cell_type": "code",
   "execution_count": 244,
   "metadata": {},
   "outputs": [],
   "source": [
    "df_winter = df[df['Seizoen']=='Winter']\n",
    "df_winter_mrc_e = df_winter['MRC_sum_e'].dropna()"
   ]
  },
  {
   "cell_type": "code",
   "execution_count": 245,
   "metadata": {},
   "outputs": [
    {
     "data": {
      "text/plain": [
       "Ttest_indResult(statistic=-0.3975787567276532, pvalue=0.691075822060262)"
      ]
     },
     "execution_count": 245,
     "metadata": {},
     "output_type": "execute_result"
    }
   ],
   "source": [
    "stats.ttest_ind(df_lente_mrc_e, df_zomer_mrc_e)"
   ]
  },
  {
   "cell_type": "code",
   "execution_count": 246,
   "metadata": {},
   "outputs": [
    {
     "data": {
      "text/plain": [
       "Ttest_indResult(statistic=0.17146194665194978, pvalue=0.8639180720441522)"
      ]
     },
     "execution_count": 246,
     "metadata": {},
     "output_type": "execute_result"
    }
   ],
   "source": [
    "stats.ttest_ind(df_lente_mrc_e, df_herfst_mrc_e)"
   ]
  },
  {
   "cell_type": "code",
   "execution_count": 247,
   "metadata": {},
   "outputs": [
    {
     "data": {
      "text/plain": [
       "Ttest_indResult(statistic=0.1340512936691759, pvalue=0.8933993191443476)"
      ]
     },
     "execution_count": 247,
     "metadata": {},
     "output_type": "execute_result"
    }
   ],
   "source": [
    "stats.ttest_ind(df_lente_mrc_e, df_winter_mrc_e)"
   ]
  },
  {
   "cell_type": "code",
   "execution_count": 248,
   "metadata": {},
   "outputs": [
    {
     "data": {
      "text/plain": [
       "Ttest_indResult(statistic=0.5569441319781446, pvalue=0.5777823099944884)"
      ]
     },
     "execution_count": 248,
     "metadata": {},
     "output_type": "execute_result"
    }
   ],
   "source": [
    "stats.ttest_ind(df_zomer_mrc_e, df_herfst_mrc_e)"
   ]
  },
  {
   "cell_type": "code",
   "execution_count": 249,
   "metadata": {},
   "outputs": [
    {
     "data": {
      "text/plain": [
       "Ttest_indResult(statistic=0.5673307415975231, pvalue=0.5706726938155942)"
      ]
     },
     "execution_count": 249,
     "metadata": {},
     "output_type": "execute_result"
    }
   ],
   "source": [
    "stats.ttest_ind(df_zomer_mrc_e, df_winter_mrc_e)"
   ]
  },
  {
   "cell_type": "code",
   "execution_count": 250,
   "metadata": {},
   "outputs": [
    {
     "data": {
      "text/plain": [
       "Ttest_indResult(statistic=-0.05805695778196898, pvalue=0.9537205696650012)"
      ]
     },
     "execution_count": 250,
     "metadata": {},
     "output_type": "execute_result"
    }
   ],
   "source": [
    "stats.ttest_ind(df_herfst_mrc_e, df_winter_mrc_e)"
   ]
  },
  {
   "cell_type": "markdown",
   "metadata": {},
   "source": [
    "#### Klimaat A"
   ]
  },
  {
   "cell_type": "code",
   "execution_count": 251,
   "metadata": {},
   "outputs": [],
   "source": [
    "df_lente = df[df['Seizoen']=='Lente']\n",
    "df_lente_A = df_lente[df_lente['klimaat'] == 'A Klimaat']\n",
    "df_lente_A_mrc_e = df_lente_A['MRC_sum_e'].dropna()\n",
    "\n",
    "df_zomer = df[df['Seizoen']=='Zomer']\n",
    "df_zomer_A = df_zomer[df_zomer['klimaat'] == 'A Klimaat']\n",
    "df_zomer_A_mrc_e = df_zomer_A['MRC_sum_e'].dropna()\n",
    "\n",
    "df_herfst = df[df['Seizoen']=='Herfst']\n",
    "df_herfst_A = df_herfst[df_herfst['klimaat'] == 'A Klimaat']\n",
    "df_herfst_A_mrc_e = df_herfst_A['MRC_sum_e'].dropna()\n",
    "\n",
    "df_winter = df[df['Seizoen']=='Winter']\n",
    "df_winter_A = df_winter[df_winter['klimaat'] == 'A Klimaat']\n",
    "df_winter_A_mrc_e = df_winter_A['MRC_sum_e'].dropna()"
   ]
  },
  {
   "cell_type": "code",
   "execution_count": 252,
   "metadata": {},
   "outputs": [
    {
     "data": {
      "text/plain": [
       "Ttest_indResult(statistic=0.17242488216799798, pvalue=0.8634591012214874)"
      ]
     },
     "execution_count": 252,
     "metadata": {},
     "output_type": "execute_result"
    }
   ],
   "source": [
    "stats.ttest_ind(df_lente_A_mrc_e, df_zomer_A_mrc_e)"
   ]
  },
  {
   "cell_type": "code",
   "execution_count": 253,
   "metadata": {},
   "outputs": [
    {
     "data": {
      "text/plain": [
       "Ttest_indResult(statistic=-1.0786385437724213, pvalue=0.2832930684623015)"
      ]
     },
     "execution_count": 253,
     "metadata": {},
     "output_type": "execute_result"
    }
   ],
   "source": [
    "stats.ttest_ind(df_lente_A_mrc_e, df_herfst_A_mrc_e)"
   ]
  },
  {
   "cell_type": "code",
   "execution_count": 254,
   "metadata": {},
   "outputs": [
    {
     "data": {
      "text/plain": [
       "Ttest_indResult(statistic=1.1364706255999273, pvalue=0.25822945688029486)"
      ]
     },
     "execution_count": 254,
     "metadata": {},
     "output_type": "execute_result"
    }
   ],
   "source": [
    "stats.ttest_ind(df_lente_A_mrc_e, df_winter_A_mrc_e)"
   ]
  },
  {
   "cell_type": "code",
   "execution_count": 255,
   "metadata": {},
   "outputs": [
    {
     "data": {
      "text/plain": [
       "Ttest_indResult(statistic=-1.2204771919139683, pvalue=0.2255443875877022)"
      ]
     },
     "execution_count": 255,
     "metadata": {},
     "output_type": "execute_result"
    }
   ],
   "source": [
    "stats.ttest_ind(df_zomer_A_mrc_e, df_herfst_A_mrc_e)"
   ]
  },
  {
   "cell_type": "code",
   "execution_count": 256,
   "metadata": {},
   "outputs": [
    {
     "data": {
      "text/plain": [
       "Ttest_indResult(statistic=0.9013189359356614, pvalue=0.36967445473612237)"
      ]
     },
     "execution_count": 256,
     "metadata": {},
     "output_type": "execute_result"
    }
   ],
   "source": [
    "stats.ttest_ind(df_zomer_A_mrc_e, df_winter_A_mrc_e)"
   ]
  },
  {
   "cell_type": "code",
   "execution_count": 257,
   "metadata": {},
   "outputs": [
    {
     "data": {
      "text/plain": [
       "Ttest_indResult(statistic=2.2572419809606656, pvalue=0.02616769803687231)"
      ]
     },
     "execution_count": 257,
     "metadata": {},
     "output_type": "execute_result"
    }
   ],
   "source": [
    "stats.ttest_ind(df_herfst_A_mrc_e, df_winter_A_mrc_e)"
   ]
  },
  {
   "cell_type": "markdown",
   "metadata": {},
   "source": [
    "#### Klimaat B"
   ]
  },
  {
   "cell_type": "code",
   "execution_count": 258,
   "metadata": {},
   "outputs": [],
   "source": [
    "df_lente = df[df['Seizoen']=='Lente']\n",
    "df_lente_B = df_lente[df_lente['klimaat'] == 'B Klimaat']\n",
    "df_lente_B_mrc_e = df_lente_B['MRC_sum_e'].dropna()\n",
    "\n",
    "df_zomer = df[df['Seizoen']=='Zomer']\n",
    "df_lente_B = df_zomer[df_zomer['klimaat'] == 'B Klimaat']\n",
    "df_zomer_B_mrc_e = df_lente_B['MRC_sum_e'].dropna()\n",
    "\n",
    "df_herfst = df[df['Seizoen']=='Herfst']\n",
    "df_herfst_B = df_herfst[df_herfst['klimaat'] == 'B Klimaat']\n",
    "df_herfst_B_mrc_e = df_herfst_B['MRC_sum_e'].dropna()\n",
    "\n",
    "df_winter = df[df['Seizoen']=='Winter']\n",
    "df_winter_B = df_winter[df_winter['klimaat'] == 'B Klimaat']\n",
    "df_winter_B_mrc_e = df_winter_B['MRC_sum_e'].dropna()"
   ]
  },
  {
   "cell_type": "code",
   "execution_count": 259,
   "metadata": {},
   "outputs": [
    {
     "data": {
      "text/plain": [
       "Ttest_indResult(statistic=-0.1832790539862144, pvalue=0.8555535031799215)"
      ]
     },
     "execution_count": 259,
     "metadata": {},
     "output_type": "execute_result"
    }
   ],
   "source": [
    "stats.ttest_ind(df_lente_B_mrc_e, df_zomer_B_mrc_e)"
   ]
  },
  {
   "cell_type": "code",
   "execution_count": 260,
   "metadata": {},
   "outputs": [
    {
     "data": {
      "text/plain": [
       "Ttest_indResult(statistic=1.033028811537846, pvalue=0.30764564707740544)"
      ]
     },
     "execution_count": 260,
     "metadata": {},
     "output_type": "execute_result"
    }
   ],
   "source": [
    "stats.ttest_ind(df_lente_B_mrc_e, df_herfst_B_mrc_e)"
   ]
  },
  {
   "cell_type": "code",
   "execution_count": 261,
   "metadata": {},
   "outputs": [
    {
     "data": {
      "text/plain": [
       "Ttest_indResult(statistic=0.47408291956988513, pvalue=0.637635888399338)"
      ]
     },
     "execution_count": 261,
     "metadata": {},
     "output_type": "execute_result"
    }
   ],
   "source": [
    "stats.ttest_ind(df_lente_B_mrc_e, df_winter_B_mrc_e)"
   ]
  },
  {
   "cell_type": "code",
   "execution_count": 262,
   "metadata": {},
   "outputs": [
    {
     "data": {
      "text/plain": [
       "Ttest_indResult(statistic=1.4284997650597513, pvalue=0.16201197401776413)"
      ]
     },
     "execution_count": 262,
     "metadata": {},
     "output_type": "execute_result"
    }
   ],
   "source": [
    "stats.ttest_ind(df_zomer_B_mrc_e, df_herfst_B_mrc_e)"
   ]
  },
  {
   "cell_type": "code",
   "execution_count": 263,
   "metadata": {},
   "outputs": [
    {
     "data": {
      "text/plain": [
       "Ttest_indResult(statistic=0.6715852286200144, pvalue=0.5056144318763897)"
      ]
     },
     "execution_count": 263,
     "metadata": {},
     "output_type": "execute_result"
    }
   ],
   "source": [
    "stats.ttest_ind(df_zomer_B_mrc_e, df_winter_B_mrc_e)"
   ]
  },
  {
   "cell_type": "code",
   "execution_count": 264,
   "metadata": {},
   "outputs": [
    {
     "data": {
      "text/plain": [
       "Ttest_indResult(statistic=-0.5319801326759199, pvalue=0.5974158026292029)"
      ]
     },
     "execution_count": 264,
     "metadata": {},
     "output_type": "execute_result"
    }
   ],
   "source": [
    "stats.ttest_ind(df_herfst_B_mrc_e, df_winter_B_mrc_e)"
   ]
  },
  {
   "cell_type": "markdown",
   "metadata": {},
   "source": [
    "#### Klimaat C"
   ]
  },
  {
   "cell_type": "code",
   "execution_count": 265,
   "metadata": {},
   "outputs": [],
   "source": [
    "df_lente = df[df['Seizoen'] == 'Lente']\n",
    "df_lente_C = df_lente[df_lente['klimaat'] == 'C Klimaat']\n",
    "df_lente_C_mrc_e = df_lente_C['MRC_sum_e'].dropna()\n",
    "\n",
    "df_zomer = df[df['Seizoen'] == 'Zomer']\n",
    "df_zomer_C = df_zomer[df_zomer['klimaat'] == 'C Klimaat']\n",
    "df_zomer_C_mrc_e = df_zomer_C['MRC_sum_e'].dropna()\n",
    "\n",
    "df_herfst = df[df['Seizoen'] == 'Herfst']\n",
    "df_herfst_C = df_herfst[df_herfst['klimaat'] == 'C Klimaat']\n",
    "df_herfst_C_mrc_e = df_herfst_C['MRC_sum_e'].dropna()\n",
    "\n",
    "df_winter = df[df['Seizoen'] == 'Winter']\n",
    "df_winter_C = df_winter[df_winter['klimaat'] == 'C Klimaat']\n",
    "df_winter_C_mrc_e = df_winter_C['MRC_sum_e'].dropna()"
   ]
  },
  {
   "cell_type": "code",
   "execution_count": 266,
   "metadata": {},
   "outputs": [
    {
     "data": {
      "text/plain": [
       "Ttest_indResult(statistic=-0.4665918059121626, pvalue=0.6410321604121328)"
      ]
     },
     "execution_count": 266,
     "metadata": {},
     "output_type": "execute_result"
    }
   ],
   "source": [
    "stats.ttest_ind(df_lente_C_mrc_e, df_zomer_C_mrc_e)"
   ]
  },
  {
   "cell_type": "code",
   "execution_count": 267,
   "metadata": {},
   "outputs": [
    {
     "data": {
      "text/plain": [
       "Ttest_indResult(statistic=0.8203206562946813, pvalue=0.4125396097158809)"
      ]
     },
     "execution_count": 267,
     "metadata": {},
     "output_type": "execute_result"
    }
   ],
   "source": [
    "stats.ttest_ind(df_lente_C_mrc_e, df_herfst_C_mrc_e)"
   ]
  },
  {
   "cell_type": "code",
   "execution_count": 268,
   "metadata": {},
   "outputs": [
    {
     "data": {
      "text/plain": [
       "Ttest_indResult(statistic=-0.10746013555448691, pvalue=0.9144684788331611)"
      ]
     },
     "execution_count": 268,
     "metadata": {},
     "output_type": "execute_result"
    }
   ],
   "source": [
    "stats.ttest_ind(df_lente_C_mrc_e, df_winter_C_mrc_e)"
   ]
  },
  {
   "cell_type": "code",
   "execution_count": 269,
   "metadata": {},
   "outputs": [
    {
     "data": {
      "text/plain": [
       "Ttest_indResult(statistic=1.243011261448791, pvalue=0.2146361802165554)"
      ]
     },
     "execution_count": 269,
     "metadata": {},
     "output_type": "execute_result"
    }
   ],
   "source": [
    "stats.ttest_ind(df_zomer_C_mrc_e, df_herfst_C_mrc_e)"
   ]
  },
  {
   "cell_type": "code",
   "execution_count": 270,
   "metadata": {},
   "outputs": [
    {
     "data": {
      "text/plain": [
       "Ttest_indResult(statistic=0.39399671542890735, pvalue=0.6937602756370076)"
      ]
     },
     "execution_count": 270,
     "metadata": {},
     "output_type": "execute_result"
    }
   ],
   "source": [
    "stats.ttest_ind(df_zomer_C_mrc_e, df_winter_C_mrc_e)"
   ]
  },
  {
   "cell_type": "code",
   "execution_count": 271,
   "metadata": {},
   "outputs": [
    {
     "data": {
      "text/plain": [
       "Ttest_indResult(statistic=-0.9799161964623329, pvalue=0.32766842353413617)"
      ]
     },
     "execution_count": 271,
     "metadata": {},
     "output_type": "execute_result"
    }
   ],
   "source": [
    "stats.ttest_ind(df_herfst_C_mrc_e, df_winter_C_mrc_e)"
   ]
  },
  {
   "cell_type": "markdown",
   "metadata": {},
   "source": [
    "#### Klimaat D"
   ]
  },
  {
   "cell_type": "code",
   "execution_count": 272,
   "metadata": {},
   "outputs": [],
   "source": [
    "df_lente = df[df['Seizoen'] == 'Lente']\n",
    "df_lente_D = df_lente[df_lente['klimaat'] == 'D Klimaat']\n",
    "df_lente_D_mrc_e = df_lente_D['MRC_sum_e'].dropna()\n",
    "\n",
    "df_zomer = df[df['Seizoen'] == 'Zomer']\n",
    "df_zomer_D = df_zomer[df_zomer['klimaat'] == 'D Klimaat']\n",
    "df_zomer_D_mrc_e = df_zomer_D['MRC_sum_e'].dropna()\n",
    "\n",
    "df_herfst = df[df['Seizoen'] == 'Herfst']\n",
    "df_herfst_D = df_herfst[df_herfst['klimaat'] == 'D Klimaat']\n",
    "df_herfst_D_mrc_e = df_herfst_D['MRC_sum_e'].dropna()\n",
    "\n",
    "df_winter = df[df['Seizoen'] == 'Winter']\n",
    "df_winter_D = df_winter[df_winter['klimaat'] == 'D Klimaat']\n",
    "df_winter_D_mrc_e = df_winter_D['MRC_sum_e'].dropna()"
   ]
  },
  {
   "cell_type": "code",
   "execution_count": 273,
   "metadata": {},
   "outputs": [
    {
     "data": {
      "text/plain": [
       "Ttest_indResult(statistic=-0.016804788828928795, pvalue=0.9866454567918623)"
      ]
     },
     "execution_count": 273,
     "metadata": {},
     "output_type": "execute_result"
    }
   ],
   "source": [
    "stats.ttest_ind(df_lente_D_mrc_e, df_zomer_D_mrc_e)"
   ]
  },
  {
   "cell_type": "code",
   "execution_count": 274,
   "metadata": {},
   "outputs": [
    {
     "data": {
      "text/plain": [
       "Ttest_indResult(statistic=-0.5697289124425807, pvalue=0.5707390277738525)"
      ]
     },
     "execution_count": 274,
     "metadata": {},
     "output_type": "execute_result"
    }
   ],
   "source": [
    "stats.ttest_ind(df_lente_D_mrc_e, df_herfst_D_mrc_e)"
   ]
  },
  {
   "cell_type": "code",
   "execution_count": 275,
   "metadata": {},
   "outputs": [
    {
     "data": {
      "text/plain": [
       "Ttest_indResult(statistic=-0.6825428934509726, pvalue=0.49697091615411093)"
      ]
     },
     "execution_count": 275,
     "metadata": {},
     "output_type": "execute_result"
    }
   ],
   "source": [
    "stats.ttest_ind(df_lente_D_mrc_e, df_winter_D_mrc_e)"
   ]
  },
  {
   "cell_type": "code",
   "execution_count": 276,
   "metadata": {},
   "outputs": [
    {
     "data": {
      "text/plain": [
       "Ttest_indResult(statistic=-0.6168479380090852, pvalue=0.5393651278519493)"
      ]
     },
     "execution_count": 276,
     "metadata": {},
     "output_type": "execute_result"
    }
   ],
   "source": [
    "stats.ttest_ind(df_zomer_D_mrc_e, df_herfst_D_mrc_e)"
   ]
  },
  {
   "cell_type": "code",
   "execution_count": 277,
   "metadata": {},
   "outputs": [
    {
     "data": {
      "text/plain": [
       "Ttest_indResult(statistic=-0.7503812459298587, pvalue=0.455312012931955)"
      ]
     },
     "execution_count": 277,
     "metadata": {},
     "output_type": "execute_result"
    }
   ],
   "source": [
    "stats.ttest_ind(df_zomer_D_mrc_e, df_winter_D_mrc_e)"
   ]
  },
  {
   "cell_type": "code",
   "execution_count": 278,
   "metadata": {},
   "outputs": [
    {
     "data": {
      "text/plain": [
       "Ttest_indResult(statistic=-0.014590601947543797, pvalue=0.988394238584568)"
      ]
     },
     "execution_count": 278,
     "metadata": {},
     "output_type": "execute_result"
    }
   ],
   "source": [
    "stats.ttest_ind(df_herfst_D_mrc_e, df_winter_D_mrc_e)"
   ]
  },
  {
   "cell_type": "markdown",
   "metadata": {},
   "source": [
    "#### MRC_sum_w1"
   ]
  },
  {
   "cell_type": "code",
   "execution_count": 279,
   "metadata": {},
   "outputs": [
    {
     "name": "stdout",
     "output_type": "stream",
     "text": [
      "                   sum_sq      df         F    PR(>F)\n",
      "C(Seizoen)     329.660225     3.0  0.331267  0.802752\n",
      "Residual    431895.216497  1302.0       NaN       NaN\n"
     ]
    }
   ],
   "source": [
    "df_mrc_w1 = df[['MRC_sum_w1', 'Seizoen']]\n",
    "model_2 = ols('MRC_sum_w1 ~ C(Seizoen)', data=df_mrc_w1).fit()\n",
    "anova_table = sm.stats.anova_lm(model_2, typ=2)\n",
    "print(anova_table)"
   ]
  },
  {
   "cell_type": "code",
   "execution_count": 280,
   "metadata": {},
   "outputs": [
    {
     "name": "stdout",
     "output_type": "stream",
     "text": [
      "ShapiroResult(statistic=0.8490647077560425, pvalue=1.5278929553549202e-33)\n"
     ]
    },
    {
     "data": {
      "image/png": "[encoded data removed]",
      "text/plain": [
       "<Figure size 432x288 with 1 Axes>"
      ]
     },
     "metadata": {
      "needs_background": "light"
     },
     "output_type": "display_data"
    }
   ],
   "source": [
    "residuen = model_2.resid\n",
    "print(stats.shapiro(residuen))\n",
    "\n",
    "\n",
    "sm.qqplot(residuen, line = 's' )\n",
    "plt.title('QQ-plot van de reisduen')\n",
    "plt.show()"
   ]
  },
  {
   "cell_type": "code",
   "execution_count": 281,
   "metadata": {},
   "outputs": [],
   "source": [
    "df_lente = df[df['Seizoen']=='Lente']\n",
    "df_lente_mrc_w1 = df_lente['MRC_sum_w1'].dropna()\n",
    "\n",
    "df_zomer = df[df['Seizoen']=='Zomer']\n",
    "df_zomer_mrc_w1 = df_zomer['MRC_sum_w1'].dropna()\n",
    "\n",
    "df_herfst = df[df['Seizoen']=='Herfst']\n",
    "df_herfst_mrc_w1 = df_herfst['MRC_sum_w1'].dropna()\n",
    "\n",
    "df_winter = df[df['Seizoen']=='Winter']\n",
    "df_winter_mrc_w1 = df_winter['MRC_sum_w1'].dropna()"
   ]
  },
  {
   "cell_type": "code",
   "execution_count": 282,
   "metadata": {},
   "outputs": [
    {
     "data": {
      "text/plain": [
       "Ttest_indResult(statistic=0.3071328590259369, pvalue=0.7588442266504682)"
      ]
     },
     "execution_count": 282,
     "metadata": {},
     "output_type": "execute_result"
    }
   ],
   "source": [
    "stats.ttest_ind(df_lente_mrc_w1, df_zomer_mrc_w1)"
   ]
  },
  {
   "cell_type": "code",
   "execution_count": 283,
   "metadata": {},
   "outputs": [
    {
     "data": {
      "text/plain": [
       "Ttest_indResult(statistic=0.774257794460052, pvalue=0.43908081575201885)"
      ]
     },
     "execution_count": 283,
     "metadata": {},
     "output_type": "execute_result"
    }
   ],
   "source": [
    "stats.ttest_ind(df_lente_mrc_w1, df_herfst_mrc_w1)"
   ]
  },
  {
   "cell_type": "code",
   "execution_count": 284,
   "metadata": {},
   "outputs": [
    {
     "data": {
      "text/plain": [
       "Ttest_indResult(statistic=-0.12433509696002487, pvalue=0.9010843760657089)"
      ]
     },
     "execution_count": 284,
     "metadata": {},
     "output_type": "execute_result"
    }
   ],
   "source": [
    "stats.ttest_ind(df_lente_mrc_w1, df_winter_mrc_w1)"
   ]
  },
  {
   "cell_type": "code",
   "execution_count": 285,
   "metadata": {},
   "outputs": [
    {
     "data": {
      "text/plain": [
       "Ttest_indResult(statistic=0.4583728920876599, pvalue=0.6468574510140936)"
      ]
     },
     "execution_count": 285,
     "metadata": {},
     "output_type": "execute_result"
    }
   ],
   "source": [
    "stats.ttest_ind(df_zomer_mrc_w1, df_herfst_mrc_w1)"
   ]
  },
  {
   "cell_type": "code",
   "execution_count": 286,
   "metadata": {},
   "outputs": [
    {
     "data": {
      "text/plain": [
       "Ttest_indResult(statistic=-0.45087067621335675, pvalue=0.6522229863816218)"
      ]
     },
     "execution_count": 286,
     "metadata": {},
     "output_type": "execute_result"
    }
   ],
   "source": [
    "stats.ttest_ind(df_zomer_mrc_w1, df_winter_mrc_w1)"
   ]
  },
  {
   "cell_type": "code",
   "execution_count": 287,
   "metadata": {},
   "outputs": [
    {
     "data": {
      "text/plain": [
       "Ttest_indResult(statistic=-0.9502849184182766, pvalue=0.3423076184472841)"
      ]
     },
     "execution_count": 287,
     "metadata": {},
     "output_type": "execute_result"
    }
   ],
   "source": [
    "stats.ttest_ind(df_herfst_mrc_w1, df_winter_mrc_w1)"
   ]
  },
  {
   "cell_type": "markdown",
   "metadata": {},
   "source": [
    "#### klimaat A"
   ]
  },
  {
   "cell_type": "code",
   "execution_count": 288,
   "metadata": {},
   "outputs": [],
   "source": [
    "df_lente = df[df['Seizoen']=='Lente']\n",
    "df_lente_A = df_lente[df_lente['klimaat'] == 'A Klimaat']\n",
    "df_lente_A_mrc_w1 = df_lente_A['MRC_sum_w1'].dropna()\n",
    "\n",
    "df_zomer = df[df['Seizoen']=='Zomer']\n",
    "df_zomer_A = df_zomer[df_zomer['klimaat'] == 'A Klimaat']\n",
    "df_zomer_A_mrc_w1 = df_zomer_A['MRC_sum_w1'].dropna()\n",
    "\n",
    "df_herfst = df[df['Seizoen']=='Herfst']\n",
    "df_herfst_A = df_herfst[df_herfst['klimaat'] == 'A Klimaat']\n",
    "df_herfst_A_mrc_w1 = df_herfst_A['MRC_sum_w1'].dropna()\n",
    "\n",
    "df_winter = df[df['Seizoen']=='Winter']\n",
    "df_winter_A = df_winter[df_winter['klimaat'] == 'A Klimaat']\n",
    "df_winter_A_mrc_w1 = df_winter_A['MRC_sum_w1'].dropna()"
   ]
  },
  {
   "cell_type": "code",
   "execution_count": 289,
   "metadata": {},
   "outputs": [
    {
     "data": {
      "text/plain": [
       "Ttest_indResult(statistic=0.25707234235866666, pvalue=0.7976618948000251)"
      ]
     },
     "execution_count": 289,
     "metadata": {},
     "output_type": "execute_result"
    }
   ],
   "source": [
    "stats.ttest_ind(df_lente_A_mrc_w1, df_zomer_A_mrc_w1)"
   ]
  },
  {
   "cell_type": "code",
   "execution_count": 290,
   "metadata": {},
   "outputs": [
    {
     "data": {
      "text/plain": [
       "Ttest_indResult(statistic=0.013424731872638235, pvalue=0.9893154179334994)"
      ]
     },
     "execution_count": 290,
     "metadata": {},
     "output_type": "execute_result"
    }
   ],
   "source": [
    "stats.ttest_ind(df_lente_A_mrc_w1, df_herfst_A_mrc_w1)"
   ]
  },
  {
   "cell_type": "code",
   "execution_count": 291,
   "metadata": {},
   "outputs": [
    {
     "data": {
      "text/plain": [
       "Ttest_indResult(statistic=0.21010573637874327, pvalue=0.8339703243969361)"
      ]
     },
     "execution_count": 291,
     "metadata": {},
     "output_type": "execute_result"
    }
   ],
   "source": [
    "stats.ttest_ind(df_lente_A_mrc_w1, df_winter_A_mrc_w1)"
   ]
  },
  {
   "cell_type": "code",
   "execution_count": 292,
   "metadata": {},
   "outputs": [
    {
     "data": {
      "text/plain": [
       "Ttest_indResult(statistic=-0.24124609410439599, pvalue=0.8099320504762414)"
      ]
     },
     "execution_count": 292,
     "metadata": {},
     "output_type": "execute_result"
    }
   ],
   "source": [
    "stats.ttest_ind(df_zomer_A_mrc_w1, df_herfst_A_mrc_w1)"
   ]
  },
  {
   "cell_type": "code",
   "execution_count": 293,
   "metadata": {},
   "outputs": [
    {
     "data": {
      "text/plain": [
       "Ttest_indResult(statistic=-0.0660884642346625, pvalue=0.9474434170727098)"
      ]
     },
     "execution_count": 293,
     "metadata": {},
     "output_type": "execute_result"
    }
   ],
   "source": [
    "stats.ttest_ind(df_zomer_A_mrc_w1, df_winter_A_mrc_w1)"
   ]
  },
  {
   "cell_type": "code",
   "execution_count": 294,
   "metadata": {},
   "outputs": [
    {
     "data": {
      "text/plain": [
       "Ttest_indResult(statistic=0.19219708650487924, pvalue=0.8479775856752814)"
      ]
     },
     "execution_count": 294,
     "metadata": {},
     "output_type": "execute_result"
    }
   ],
   "source": [
    "stats.ttest_ind(df_herfst_A_mrc_w1, df_winter_A_mrc_w1)"
   ]
  },
  {
   "cell_type": "markdown",
   "metadata": {},
   "source": [
    "#### klimaat B"
   ]
  },
  {
   "cell_type": "code",
   "execution_count": 295,
   "metadata": {},
   "outputs": [],
   "source": [
    "df_lente = df[df['Seizoen'] == 'Lente']\n",
    "df_lente_B = df_lente[df_lente['klimaat'] == 'B Klimaat']\n",
    "df_lente_B_mrc_w1 = df_lente_B['MRC_sum_w1'].dropna()\n",
    "\n",
    "df_zomer = df[df['Seizoen'] == 'Zomer']\n",
    "df_zomer_B = df_zomer[df_zomer['klimaat'] == 'B Klimaat']\n",
    "df_zomer_B_mrc_w1 = df_zomer_B['MRC_sum_w1'].dropna()\n",
    "\n",
    "df_herfst = df[df['Seizoen'] == 'Herfst']\n",
    "df_herfst_B = df_herfst[df_herfst['klimaat'] == 'B Klimaat']\n",
    "df_herfst_B_mrc_w1 = df_herfst_B['MRC_sum_w1'].dropna()\n",
    "\n",
    "df_winter = df[df['Seizoen'] == 'Winter']\n",
    "df_winter_B = df_winter[df_winter['klimaat'] == 'B Klimaat']\n",
    "df_winter_B_mrc_w1 = df_winter_B['MRC_sum_w1'].dropna()"
   ]
  },
  {
   "cell_type": "code",
   "execution_count": 296,
   "metadata": {},
   "outputs": [
    {
     "data": {
      "text/plain": [
       "Ttest_indResult(statistic=0.40544593733352885, pvalue=0.6874235463106204)"
      ]
     },
     "execution_count": 296,
     "metadata": {},
     "output_type": "execute_result"
    }
   ],
   "source": [
    "stats.ttest_ind(df_lente_B_mrc_w1, df_zomer_B_mrc_w1)"
   ]
  },
  {
   "cell_type": "code",
   "execution_count": 297,
   "metadata": {},
   "outputs": [
    {
     "data": {
      "text/plain": [
       "Ttest_indResult(statistic=1.8979091416018778, pvalue=0.06476407210243663)"
      ]
     },
     "execution_count": 297,
     "metadata": {},
     "output_type": "execute_result"
    }
   ],
   "source": [
    "stats.ttest_ind(df_lente_B_mrc_w1, df_herfst_B_mrc_w1)"
   ]
  },
  {
   "cell_type": "code",
   "execution_count": 298,
   "metadata": {},
   "outputs": [
    {
     "data": {
      "text/plain": [
       "Ttest_indResult(statistic=0.7122328871825775, pvalue=0.4797683687592853)"
      ]
     },
     "execution_count": 298,
     "metadata": {},
     "output_type": "execute_result"
    }
   ],
   "source": [
    "stats.ttest_ind(df_lente_B_mrc_w1, df_winter_B_mrc_w1)"
   ]
  },
  {
   "cell_type": "code",
   "execution_count": 299,
   "metadata": {},
   "outputs": [
    {
     "data": {
      "text/plain": [
       "Ttest_indResult(statistic=1.272760625555293, pvalue=0.21149298969221117)"
      ]
     },
     "execution_count": 299,
     "metadata": {},
     "output_type": "execute_result"
    }
   ],
   "source": [
    "stats.ttest_ind(df_zomer_B_mrc_w1, df_herfst_B_mrc_w1)"
   ]
  },
  {
   "cell_type": "code",
   "execution_count": 300,
   "metadata": {},
   "outputs": [
    {
     "data": {
      "text/plain": [
       "Ttest_indResult(statistic=0.24554732620277311, pvalue=0.8072286082018467)"
      ]
     },
     "execution_count": 300,
     "metadata": {},
     "output_type": "execute_result"
    }
   ],
   "source": [
    "stats.ttest_ind(df_zomer_B_mrc_w1, df_winter_B_mrc_w1)"
   ]
  },
  {
   "cell_type": "code",
   "execution_count": 301,
   "metadata": {},
   "outputs": [
    {
     "data": {
      "text/plain": [
       "Ttest_indResult(statistic=-1.04195821739505, pvalue=0.302996790664978)"
      ]
     },
     "execution_count": 301,
     "metadata": {},
     "output_type": "execute_result"
    }
   ],
   "source": [
    "stats.ttest_ind(df_herfst_B_mrc_w1, df_winter_B_mrc_w1)"
   ]
  },
  {
   "cell_type": "markdown",
   "metadata": {},
   "source": [
    "#### klimaat C"
   ]
  },
  {
   "cell_type": "code",
   "execution_count": 302,
   "metadata": {},
   "outputs": [],
   "source": [
    "df_lente = df[df['Seizoen'] == 'Lente']\n",
    "df_lente_C = df_lente[df_lente['klimaat'] == 'C Klimaat']\n",
    "df_lente_C_mrc_w1 = df_lente_C['MRC_sum_w1'].dropna()\n",
    "\n",
    "df_zomer = df[df['Seizoen'] == 'Zomer']\n",
    "df_zomer_C = df_zomer[df_zomer['klimaat'] == 'C Klimaat']\n",
    "df_zomer_C_mrc_w1 = df_zomer_C['MRC_sum_w1'].dropna()\n",
    "\n",
    "df_herfst = df[df['Seizoen'] == 'Herfst']\n",
    "df_herfst_C = df_herfst[df_herfst['klimaat'] == 'C Klimaat']\n",
    "df_herfst_C_mrc_w1 = df_herfst_C['MRC_sum_w1'].dropna()\n",
    "\n",
    "df_winter = df[df['Seizoen'] == 'Winter']\n",
    "df_winter_C = df_winter[df_winter['klimaat'] == 'C Klimaat']\n",
    "df_winter_C_mrc_w1 = df_winter_C['MRC_sum_w1'].dropna()"
   ]
  },
  {
   "cell_type": "code",
   "execution_count": 303,
   "metadata": {},
   "outputs": [
    {
     "data": {
      "text/plain": [
       "Ttest_indResult(statistic=0.2913313736817593, pvalue=0.770941376502027)"
      ]
     },
     "execution_count": 303,
     "metadata": {},
     "output_type": "execute_result"
    }
   ],
   "source": [
    "stats.ttest_ind(df_lente_C_mrc_w1, df_zomer_C_mrc_w1)"
   ]
  },
  {
   "cell_type": "code",
   "execution_count": 304,
   "metadata": {},
   "outputs": [
    {
     "data": {
      "text/plain": [
       "Ttest_indResult(statistic=0.7357735371568026, pvalue=0.46231307898587837)"
      ]
     },
     "execution_count": 304,
     "metadata": {},
     "output_type": "execute_result"
    }
   ],
   "source": [
    "stats.ttest_ind(df_lente_C_mrc_w1, df_herfst_C_mrc_w1)"
   ]
  },
  {
   "cell_type": "code",
   "execution_count": 305,
   "metadata": {},
   "outputs": [
    {
     "data": {
      "text/plain": [
       "Ttest_indResult(statistic=-0.4309497389700735, pvalue=0.6666971730277003)"
      ]
     },
     "execution_count": 305,
     "metadata": {},
     "output_type": "execute_result"
    }
   ],
   "source": [
    "stats.ttest_ind(df_lente_C_mrc_w1, df_winter_C_mrc_w1)"
   ]
  },
  {
   "cell_type": "code",
   "execution_count": 306,
   "metadata": {},
   "outputs": [
    {
     "data": {
      "text/plain": [
       "Ttest_indResult(statistic=0.44645621764746135, pvalue=0.6555227105648808)"
      ]
     },
     "execution_count": 306,
     "metadata": {},
     "output_type": "execute_result"
    }
   ],
   "source": [
    "stats.ttest_ind(df_zomer_C_mrc_w1, df_herfst_C_mrc_w1)"
   ]
  },
  {
   "cell_type": "code",
   "execution_count": 307,
   "metadata": {},
   "outputs": [
    {
     "data": {
      "text/plain": [
       "Ttest_indResult(statistic=-0.7346311212787782, pvalue=0.4629274506559269)"
      ]
     },
     "execution_count": 307,
     "metadata": {},
     "output_type": "execute_result"
    }
   ],
   "source": [
    "stats.ttest_ind(df_zomer_C_mrc_w1, df_winter_C_mrc_w1)"
   ]
  },
  {
   "cell_type": "code",
   "execution_count": 308,
   "metadata": {},
   "outputs": [
    {
     "data": {
      "text/plain": [
       "Ttest_indResult(statistic=-1.1922072974096698, pvalue=0.23382109850546123)"
      ]
     },
     "execution_count": 308,
     "metadata": {},
     "output_type": "execute_result"
    }
   ],
   "source": [
    "stats.ttest_ind(df_herfst_C_mrc_w1, df_winter_C_mrc_w1)"
   ]
  },
  {
   "cell_type": "markdown",
   "metadata": {},
   "source": [
    "#### klimaat D"
   ]
  },
  {
   "cell_type": "code",
   "execution_count": 309,
   "metadata": {},
   "outputs": [],
   "source": [
    "df_lente = df[df['Seizoen'] == 'Lente']\n",
    "df_lente_D = df_lente[df_lente['klimaat'] == 'D Klimaat']\n",
    "df_lente_D_mrc_w1 = df_lente_D['MRC_sum_w1'].dropna()\n",
    "\n",
    "df_zomer = df[df['Seizoen'] == 'Zomer']\n",
    "df_zomer_D = df_zomer[df_zomer['klimaat'] == 'D Klimaat']\n",
    "df_zomer_D_mrc_w1 = df_zomer_D['MRC_sum_w1'].dropna()\n",
    "\n",
    "df_herfst = df[df['Seizoen'] == 'Herfst']\n",
    "df_herfst_D = df_herfst[df_herfst['klimaat'] == 'D Klimaat']\n",
    "df_herfst_D_mrc_w1 = df_herfst_D['MRC_sum_w1'].dropna()\n",
    "\n",
    "df_winter = df[df['Seizoen'] == 'Winter']\n",
    "df_winter_D = df_winter[df_winter['klimaat'] == 'D Klimaat']\n",
    "df_winter_D_mrc_w1 = df_winter_D['MRC_sum_w1'].dropna()"
   ]
  },
  {
   "cell_type": "code",
   "execution_count": 310,
   "metadata": {},
   "outputs": [
    {
     "data": {
      "text/plain": [
       "Ttest_indResult(statistic=-0.17130496051823696, pvalue=0.8645244555424378)"
      ]
     },
     "execution_count": 310,
     "metadata": {},
     "output_type": "execute_result"
    }
   ],
   "source": [
    "stats.ttest_ind(df_lente_D_mrc_w1, df_zomer_D_mrc_w1)"
   ]
  },
  {
   "cell_type": "code",
   "execution_count": 311,
   "metadata": {},
   "outputs": [
    {
     "data": {
      "text/plain": [
       "Ttest_indResult(statistic=-0.38869379458649883, pvalue=0.6986995097592751)"
      ]
     },
     "execution_count": 311,
     "metadata": {},
     "output_type": "execute_result"
    }
   ],
   "source": [
    "stats.ttest_ind(df_lente_D_mrc_w1, df_herfst_D_mrc_w1)"
   ]
  },
  {
   "cell_type": "code",
   "execution_count": 312,
   "metadata": {},
   "outputs": [
    {
     "data": {
      "text/plain": [
       "Ttest_indResult(statistic=0.21638969716192966, pvalue=0.8292489292216977)"
      ]
     },
     "execution_count": 312,
     "metadata": {},
     "output_type": "execute_result"
    }
   ],
   "source": [
    "stats.ttest_ind(df_lente_D_mrc_w1, df_winter_D_mrc_w1)"
   ]
  },
  {
   "cell_type": "code",
   "execution_count": 313,
   "metadata": {},
   "outputs": [
    {
     "data": {
      "text/plain": [
       "Ttest_indResult(statistic=-0.23063332393232183, pvalue=0.8182821372586427)"
      ]
     },
     "execution_count": 313,
     "metadata": {},
     "output_type": "execute_result"
    }
   ],
   "source": [
    "stats.ttest_ind(df_zomer_D_mrc_w1, df_herfst_D_mrc_w1)"
   ]
  },
  {
   "cell_type": "code",
   "execution_count": 314,
   "metadata": {},
   "outputs": [
    {
     "data": {
      "text/plain": [
       "Ttest_indResult(statistic=0.43573013596206966, pvalue=0.6642360378153072)"
      ]
     },
     "execution_count": 314,
     "metadata": {},
     "output_type": "execute_result"
    }
   ],
   "source": [
    "stats.ttest_ind(df_zomer_D_mrc_w1, df_winter_D_mrc_w1)"
   ]
  },
  {
   "cell_type": "code",
   "execution_count": 315,
   "metadata": {},
   "outputs": [
    {
     "data": {
      "text/plain": [
       "Ttest_indResult(statistic=0.701657523344908, pvalue=0.4848555988107951)"
      ]
     },
     "execution_count": 315,
     "metadata": {},
     "output_type": "execute_result"
    }
   ],
   "source": [
    "stats.ttest_ind(df_herfst_D_mrc_w1, df_winter_D_mrc_w1)"
   ]
  },
  {
   "cell_type": "code",
   "execution_count": null,
   "metadata": {},
   "outputs": [],
   "source": []
  },
  {
   "cell_type": "code",
   "execution_count": null,
   "metadata": {},
   "outputs": [],
   "source": []
  },
  {
   "cell_type": "markdown",
   "metadata": {},
   "source": [
    "#### GBSDS_e"
   ]
  },
  {
   "cell_type": "code",
   "execution_count": 316,
   "metadata": {},
   "outputs": [
    {
     "name": "stdout",
     "output_type": "stream",
     "text": [
      "Seizoen  Herfst  Lente  Winter  Zomer\n",
      "GBSDS_e                              \n",
      "1.0           1      5       0      1\n",
      "2.0           8      4       4      4\n",
      "3.0           4      8       7      7\n",
      "4.0          28     34      36     25\n",
      "5.0           6      7      10      6 \n",
      "\n",
      "Seizoen  Herfst  Lente  Winter  Zomer\n",
      "GBSDS_e                              \n",
      "1.0           0      1       1      3\n",
      "2.0           4     10       5      6\n",
      "3.0           4      4       7      0\n",
      "4.0          11      7      14      9\n",
      "5.0           0      1       0      0 \n",
      "\n",
      "Seizoen  Herfst  Lente  Winter  Zomer\n",
      "GBSDS_e                              \n",
      "0.0           4      3       2      3\n",
      "1.0           7      9       7      9\n",
      "2.0          36     47      63     56\n",
      "3.0          35     38      65     31\n",
      "4.0          77    109     118     95\n",
      "5.0          14     11      15     13 \n",
      "\n",
      "Seizoen  Herfst  Lente  Winter  Zomer\n",
      "GBSDS_e                              \n",
      "1.0           2      3       3      1\n",
      "2.0           7      6       4      5\n",
      "3.0          13     10      12     13\n",
      "4.0          12     10      25     11\n",
      "5.0           4      4       2      4 \n",
      "\n"
     ]
    }
   ],
   "source": [
    "for dateframe in dataframes_klimaat:\n",
    "    freq_table = pd.crosstab(dateframe['GBSDS_e'], dateframe['Seizoen']) \n",
    "    print(freq_table, '\\n')"
   ]
  },
  {
   "cell_type": "code",
   "execution_count": 317,
   "metadata": {},
   "outputs": [
    {
     "data": {
      "text/html": [
       "<div>\n",
       "<style scoped>\n",
       "    .dataframe tbody tr th:only-of-type {\n",
       "        vertical-align: middle;\n",
       "    }\n",
       "\n",
       "    .dataframe tbody tr th {\n",
       "        vertical-align: top;\n",
       "    }\n",
       "\n",
       "    .dataframe thead th {\n",
       "        text-align: right;\n",
       "    }\n",
       "</style>\n",
       "<table border=\"1\" class=\"dataframe\">\n",
       "  <thead>\n",
       "    <tr style=\"text-align: right;\">\n",
       "      <th>Seizoen</th>\n",
       "      <th>Herfst</th>\n",
       "      <th>Lente</th>\n",
       "      <th>Winter</th>\n",
       "      <th>Zomer</th>\n",
       "    </tr>\n",
       "    <tr>\n",
       "      <th>GBSDS_e</th>\n",
       "      <th></th>\n",
       "      <th></th>\n",
       "      <th></th>\n",
       "      <th></th>\n",
       "    </tr>\n",
       "  </thead>\n",
       "  <tbody>\n",
       "    <tr>\n",
       "      <th>0.0</th>\n",
       "      <td>4</td>\n",
       "      <td>3</td>\n",
       "      <td>2</td>\n",
       "      <td>3</td>\n",
       "    </tr>\n",
       "    <tr>\n",
       "      <th>1.0</th>\n",
       "      <td>10</td>\n",
       "      <td>18</td>\n",
       "      <td>11</td>\n",
       "      <td>14</td>\n",
       "    </tr>\n",
       "    <tr>\n",
       "      <th>2.0</th>\n",
       "      <td>55</td>\n",
       "      <td>67</td>\n",
       "      <td>76</td>\n",
       "      <td>71</td>\n",
       "    </tr>\n",
       "    <tr>\n",
       "      <th>3.0</th>\n",
       "      <td>56</td>\n",
       "      <td>60</td>\n",
       "      <td>91</td>\n",
       "      <td>51</td>\n",
       "    </tr>\n",
       "    <tr>\n",
       "      <th>4.0</th>\n",
       "      <td>128</td>\n",
       "      <td>160</td>\n",
       "      <td>193</td>\n",
       "      <td>140</td>\n",
       "    </tr>\n",
       "    <tr>\n",
       "      <th>5.0</th>\n",
       "      <td>24</td>\n",
       "      <td>23</td>\n",
       "      <td>27</td>\n",
       "      <td>23</td>\n",
       "    </tr>\n",
       "  </tbody>\n",
       "</table>\n",
       "</div>"
      ],
      "text/plain": [
       "Seizoen  Herfst  Lente  Winter  Zomer\n",
       "GBSDS_e                              \n",
       "0.0           4      3       2      3\n",
       "1.0          10     18      11     14\n",
       "2.0          55     67      76     71\n",
       "3.0          56     60      91     51\n",
       "4.0         128    160     193    140\n",
       "5.0          24     23      27     23"
      ]
     },
     "execution_count": 317,
     "metadata": {},
     "output_type": "execute_result"
    }
   ],
   "source": [
    "freq_table = pd.crosstab(df['GBSDS_e'], df['Seizoen']) \n",
    "freq_table"
   ]
  },
  {
   "cell_type": "code",
   "execution_count": 318,
   "metadata": {},
   "outputs": [],
   "source": [
    "df_GBSDS_e = df\n",
    "df_C_GBSDS_e = df_C"
   ]
  },
  {
   "cell_type": "code",
   "execution_count": 319,
   "metadata": {},
   "outputs": [],
   "source": [
    "df_GBSDS_e = df_GBSDS_e.drop(df_GBSDS_e[df_GBSDS_e['GBSDS_e'] == 0].index)\n",
    "df_C_GBSDS_e = df_C_GBSDS_e.drop(df_C_GBSDS_e[df_C_GBSDS_e['GBSDS_e'] == 0].index)"
   ]
  },
  {
   "cell_type": "code",
   "execution_count": 320,
   "metadata": {},
   "outputs": [
    {
     "data": {
      "text/plain": [
       "(10.212860375521586,\n",
       " 0.5972926045872375,\n",
       " 12,\n",
       " array([[ 11.14714946,  13.39291217,  16.25115562,  12.20878274],\n",
       "        [ 56.5770416 ,  67.97534669,  82.48228043,  61.96533128],\n",
       "        [ 54.26348228,  65.19568567,  79.10939908,  59.43143297],\n",
       "        [130.61093991, 156.92449923, 190.41448382, 143.05007704],\n",
       "        [ 20.40138675,  24.51155624,  29.74268105,  22.34437596]]))"
      ]
     },
     "execution_count": 320,
     "metadata": {},
     "output_type": "execute_result"
    }
   ],
   "source": [
    "df_GBSDS_e_seizoen = pd.crosstab(df_GBSDS_e['GBSDS_e'], df_GBSDS_e['Seizoen'])\n",
    "stats.chi2_contingency(df_GBSDS_e_seizoen)"
   ]
  },
  {
   "cell_type": "code",
   "execution_count": 321,
   "metadata": {},
   "outputs": [
    {
     "data": {
      "text/plain": [
       "(11.673252938797496,\n",
       " 0.4722649728649132,\n",
       " 12,\n",
       " array([[  6.3251462 ,   8.00935673,  10.03040936,   7.63508772],\n",
       "        [ 39.92748538,  50.55906433,  63.31695906,  48.19649123],\n",
       "        [ 33.40467836,  42.2994152 ,  52.97309942,  40.32280702],\n",
       "        [ 78.86666667,  99.86666667, 125.06666667,  95.2       ],\n",
       "        [ 10.47602339,  13.26549708,  16.6128655 ,  12.64561404]]))"
      ]
     },
     "execution_count": 321,
     "metadata": {},
     "output_type": "execute_result"
    }
   ],
   "source": [
    "df_C_GBSDS_e_seizoen = pd.crosstab(df_C_GBSDS_e['GBSDS_e'], df_C_GBSDS_e['Seizoen'])\n",
    "stats.chi2_contingency(df_C_GBSDS_e_seizoen)"
   ]
  },
  {
   "cell_type": "markdown",
   "metadata": {},
   "source": [
    "#### GBSDS_w1"
   ]
  },
  {
   "cell_type": "code",
   "execution_count": 322,
   "metadata": {},
   "outputs": [
    {
     "name": "stdout",
     "output_type": "stream",
     "text": [
      "Seizoen   Herfst  Lente  Winter  Zomer\n",
      "GBSDS_w1                              \n",
      "1.0            1      2       2      1\n",
      "2.0            9     16       5      7\n",
      "3.0            8      4      11      7\n",
      "4.0           21     25      27     18\n",
      "5.0            8     10      12     10 \n",
      "\n",
      "Seizoen   Herfst  Lente  Winter  Zomer\n",
      "GBSDS_w1                              \n",
      "0.0            1      0       0      0\n",
      "1.0            1      2       2      3\n",
      "2.0            3     10       7      6\n",
      "3.0            3      6       9      3\n",
      "4.0           12      4       7      3\n",
      "5.0            0      2       2      2 \n",
      "\n",
      "Seizoen   Herfst  Lente  Winter  Zomer\n",
      "GBSDS_w1                              \n",
      "0.0            3      4       5      4\n",
      "1.0           13     19      16     20\n",
      "2.0           35     49      64     46\n",
      "3.0           37     44      62     36\n",
      "4.0           63     74      89     70\n",
      "5.0           23     27      32     30 \n",
      "\n",
      "Seizoen   Herfst  Lente  Winter  Zomer\n",
      "GBSDS_w1                              \n",
      "1.0            3      5       5      4\n",
      "2.0           11      6       8      7\n",
      "3.0            9     11       8      6\n",
      "4.0           10      6      18     13\n",
      "5.0            4      5       8      4 \n",
      "\n"
     ]
    }
   ],
   "source": [
    "for dateframe in dataframes_klimaat:\n",
    "    freq_table = pd.crosstab(dateframe['GBSDS_w1'], dateframe['Seizoen']) \n",
    "    print(freq_table, '\\n')"
   ]
  },
  {
   "cell_type": "code",
   "execution_count": 323,
   "metadata": {},
   "outputs": [
    {
     "data": {
      "text/html": [
       "<div>\n",
       "<style scoped>\n",
       "    .dataframe tbody tr th:only-of-type {\n",
       "        vertical-align: middle;\n",
       "    }\n",
       "\n",
       "    .dataframe tbody tr th {\n",
       "        vertical-align: top;\n",
       "    }\n",
       "\n",
       "    .dataframe thead th {\n",
       "        text-align: right;\n",
       "    }\n",
       "</style>\n",
       "<table border=\"1\" class=\"dataframe\">\n",
       "  <thead>\n",
       "    <tr style=\"text-align: right;\">\n",
       "      <th>Seizoen</th>\n",
       "      <th>Herfst</th>\n",
       "      <th>Lente</th>\n",
       "      <th>Winter</th>\n",
       "      <th>Zomer</th>\n",
       "    </tr>\n",
       "    <tr>\n",
       "      <th>GBSDS_w1</th>\n",
       "      <th></th>\n",
       "      <th></th>\n",
       "      <th></th>\n",
       "      <th></th>\n",
       "    </tr>\n",
       "  </thead>\n",
       "  <tbody>\n",
       "    <tr>\n",
       "      <th>0.0</th>\n",
       "      <td>4</td>\n",
       "      <td>4</td>\n",
       "      <td>5</td>\n",
       "      <td>4</td>\n",
       "    </tr>\n",
       "    <tr>\n",
       "      <th>1.0</th>\n",
       "      <td>18</td>\n",
       "      <td>28</td>\n",
       "      <td>25</td>\n",
       "      <td>28</td>\n",
       "    </tr>\n",
       "    <tr>\n",
       "      <th>2.0</th>\n",
       "      <td>58</td>\n",
       "      <td>81</td>\n",
       "      <td>84</td>\n",
       "      <td>66</td>\n",
       "    </tr>\n",
       "    <tr>\n",
       "      <th>3.0</th>\n",
       "      <td>57</td>\n",
       "      <td>65</td>\n",
       "      <td>90</td>\n",
       "      <td>52</td>\n",
       "    </tr>\n",
       "    <tr>\n",
       "      <th>4.0</th>\n",
       "      <td>106</td>\n",
       "      <td>109</td>\n",
       "      <td>141</td>\n",
       "      <td>104</td>\n",
       "    </tr>\n",
       "    <tr>\n",
       "      <th>5.0</th>\n",
       "      <td>35</td>\n",
       "      <td>44</td>\n",
       "      <td>54</td>\n",
       "      <td>46</td>\n",
       "    </tr>\n",
       "  </tbody>\n",
       "</table>\n",
       "</div>"
      ],
      "text/plain": [
       "Seizoen   Herfst  Lente  Winter  Zomer\n",
       "GBSDS_w1                              \n",
       "0.0            4      4       5      4\n",
       "1.0           18     28      25     28\n",
       "2.0           58     81      84     66\n",
       "3.0           57     65      90     52\n",
       "4.0          106    109     141    104\n",
       "5.0           35     44      54     46"
      ]
     },
     "execution_count": 323,
     "metadata": {},
     "output_type": "execute_result"
    }
   ],
   "source": [
    "freq_table = pd.crosstab(df['GBSDS_w1'], df['Seizoen']) \n",
    "freq_table"
   ]
  },
  {
   "cell_type": "code",
   "execution_count": 324,
   "metadata": {},
   "outputs": [],
   "source": [
    "df_GBSDS_w1 = df\n",
    "df_C_GBSDS_w1 = df_C"
   ]
  },
  {
   "cell_type": "code",
   "execution_count": 325,
   "metadata": {},
   "outputs": [],
   "source": [
    "df_GBSDS_w1 = df_GBSDS_w1.drop(df_GBSDS_w1[df_GBSDS_w1['GBSDS_w1'] == 0].index)\n",
    "df_C_GBSDS_w1 = df_C_GBSDS_w1.drop(df_C_GBSDS_w1[df_C_GBSDS_w1['GBSDS_w1'] == 0].index)"
   ]
  },
  {
   "cell_type": "code",
   "execution_count": 326,
   "metadata": {},
   "outputs": [
    {
     "data": {
      "text/plain": [
       "(8.605349528055823,\n",
       " 0.7362177942060986,\n",
       " 12,\n",
       " array([[ 21.0116189 ,  25.07591015,  30.21378776,  22.69868319],\n",
       "        [ 61.3369481 ,  73.20139427,  88.19984508,  66.26181255],\n",
       "        [ 56.03098373,  66.86909373,  80.5701007 ,  60.52982184],\n",
       "        [ 97.62974438, 116.51432998, 140.38729667, 105.46862897],\n",
       "        [ 37.99070488,  45.33927188,  54.62896979,  41.04105345]]))"
      ]
     },
     "execution_count": 326,
     "metadata": {},
     "output_type": "execute_result"
    }
   ],
   "source": [
    "df_GBSDS_w1_seizoen = pd.crosstab(df_GBSDS_w1['GBSDS_w1'], df_GBSDS_w1['Seizoen'])\n",
    "stats.chi2_contingency(df_GBSDS_w1_seizoen)"
   ]
  },
  {
   "cell_type": "code",
   "execution_count": 327,
   "metadata": {},
   "outputs": [
    {
     "data": {
      "text/plain": [
       "(5.850671248543038,\n",
       " 0.9234215659356688,\n",
       " 12,\n",
       " array([[13.69611307, 17.06007067, 21.0647821 , 16.17903416],\n",
       "        [39.07420495, 48.67137809, 60.09658422, 46.15783274],\n",
       "        [36.05300353, 44.90812721, 55.44994111, 42.58892815],\n",
       "        [59.61837456, 74.2614841 , 91.69375736, 70.42638398],\n",
       "        [22.55830389, 28.09893993, 34.69493522, 26.64782097]]))"
      ]
     },
     "execution_count": 327,
     "metadata": {},
     "output_type": "execute_result"
    }
   ],
   "source": [
    "df_C_GBSDS_w1_seizoen = pd.crosstab(df_C_GBSDS_w1['GBSDS_w1'], df_C_GBSDS_w1['Seizoen'])\n",
    "stats.chi2_contingency(df_C_GBSDS_w1_seizoen)"
   ]
  },
  {
   "cell_type": "markdown",
   "metadata": {},
   "source": [
    "#### Surv_unable_to_walk"
   ]
  },
  {
   "cell_type": "code",
   "execution_count": 328,
   "metadata": {},
   "outputs": [
    {
     "name": "stdout",
     "output_type": "stream",
     "text": [
      "Seizoen              Herfst  Lente  Winter  Zomer\n",
      "Surv_unable_to_walk                              \n",
      "0                         6      8       4      3\n",
      "1                        41     50      53     40 \n",
      "\n",
      "Seizoen              Herfst  Lente  Winter  Zomer\n",
      "Surv_unable_to_walk                              \n",
      "0                         4      9       3      9\n",
      "1                        16     15      24      9 \n",
      "\n",
      "Seizoen              Herfst  Lente  Winter  Zomer\n",
      "Surv_unable_to_walk                              \n",
      "0                        33     45      59     57\n",
      "1                       142    173     212    151 \n",
      "\n",
      "Seizoen              Herfst  Lente  Winter  Zomer\n",
      "Surv_unable_to_walk                              \n",
      "0                         9      9       7      4\n",
      "1                        29     24      40     30 \n",
      "\n"
     ]
    }
   ],
   "source": [
    "for dateframe in dataframes_klimaat:\n",
    "    freq_table = pd.crosstab(dateframe['Surv_unable_to_walk'], dateframe['Seizoen']) \n",
    "    print(freq_table, '\\n')"
   ]
  },
  {
   "cell_type": "code",
   "execution_count": 329,
   "metadata": {},
   "outputs": [
    {
     "data": {
      "text/plain": [
       "(4.535997817235742,\n",
       " 0.209101751712839,\n",
       " 3,\n",
       " array([[ 57.14719272,  67.96433991,  82.04704097,  61.8414264 ],\n",
       "        [222.85280728, 265.03566009, 319.95295903, 241.1585736 ]]))"
      ]
     },
     "execution_count": 329,
     "metadata": {},
     "output_type": "execute_result"
    }
   ],
   "source": [
    "df_Surv_unable_to_walk = pd.crosstab(df['Surv_unable_to_walk'], df['Seizoen'])\n",
    "stats.chi2_contingency(df_Surv_unable_to_walk)"
   ]
  },
  {
   "cell_type": "code",
   "execution_count": 330,
   "metadata": {},
   "outputs": [
    {
     "data": {
      "text/plain": [
       "(9.831255208333332,\n",
       " 0.020056357182502475,\n",
       " 3,\n",
       " array([[ 5.61797753,  6.74157303,  7.58426966,  5.05617978],\n",
       "        [14.38202247, 17.25842697, 19.41573034, 12.94382022]]))"
      ]
     },
     "execution_count": 330,
     "metadata": {},
     "output_type": "execute_result"
    }
   ],
   "source": [
    "df_B_Surv_unable_to_walk = pd.crosstab(df_B['Surv_unable_to_walk'], df_B['Seizoen'])\n",
    "stats.chi2_contingency(df_B_Surv_unable_to_walk)"
   ]
  },
  {
   "cell_type": "code",
   "execution_count": 331,
   "metadata": {},
   "outputs": [
    {
     "data": {
      "text/plain": [
       "(4.720218826077955,\n",
       " 0.19346847447480822,\n",
       " 3,\n",
       " array([[ 38.93348624,  48.5       ,  60.2912844 ,  46.27522936],\n",
       "        [136.06651376, 169.5       , 210.7087156 , 161.72477064]]))"
      ]
     },
     "execution_count": 331,
     "metadata": {},
     "output_type": "execute_result"
    }
   ],
   "source": [
    "df_C_Surv_unable_to_walk = pd.crosstab(df_C['Surv_unable_to_walk'], df_C['Seizoen'])\n",
    "stats.chi2_contingency(df_C_Surv_unable_to_walk)"
   ]
  },
  {
   "cell_type": "code",
   "execution_count": null,
   "metadata": {},
   "outputs": [],
   "source": []
  },
  {
   "cell_type": "markdown",
   "metadata": {},
   "source": [
    "Post hoc voor df_B_Surv_unable_to_walk"
   ]
  },
  {
   "cell_type": "code",
   "execution_count": 332,
   "metadata": {},
   "outputs": [],
   "source": [
    "df_B_LenZom = df_B[(df_B['Seizoen'] == 'Lente') | (df_B['Seizoen'] == 'Zomer')]\n",
    "df_B_LenHer = df_B[(df_B['Seizoen'] == 'Lente') | (df_B['Seizoen'] == 'Herfst')]\n",
    "df_B_LenWin = df_B[(df_B['Seizoen'] == 'Lente') | (df_B['Seizoen'] == 'Winter')]\n",
    "df_B_ZomHer = df_B[(df_B['Seizoen'] == 'Zomer') | (df_B['Seizoen'] == 'Herfst')]\n",
    "df_B_ZomWin = df_B[(df_B['Seizoen'] == 'Zomer') | (df_B['Seizoen'] == 'Winter')]\n",
    "df_B_HerWin = df_B[(df_B['Seizoen'] == 'Herfst') | (df_B['Seizoen'] == 'Winter')]"
   ]
  },
  {
   "cell_type": "code",
   "execution_count": 333,
   "metadata": {},
   "outputs": [
    {
     "data": {
      "text/plain": [
       "(0.24508101851851882,\n",
       " 0.6205601813347754,\n",
       " 1,\n",
       " array([[10.28571429,  7.71428571],\n",
       "        [13.71428571, 10.28571429]]))"
      ]
     },
     "execution_count": 333,
     "metadata": {},
     "output_type": "execute_result"
    }
   ],
   "source": [
    "df_B_Surv_unable_to_walk_seiz = pd.crosstab(df_B_LenZom['Surv_unable_to_walk'], df_B_LenZom['Seizoen'])\n",
    "stats.chi2_contingency(df_B_Surv_unable_to_walk_seiz)"
   ]
  },
  {
   "cell_type": "code",
   "execution_count": 334,
   "metadata": {},
   "outputs": [
    {
     "data": {
      "text/plain": [
       "(0.8743589743589744,\n",
       " 0.3497513801303367,\n",
       " 1,\n",
       " array([[ 5.90909091,  7.09090909],\n",
       "        [14.09090909, 16.90909091]]))"
      ]
     },
     "execution_count": 334,
     "metadata": {},
     "output_type": "execute_result"
    }
   ],
   "source": [
    "df_B_Surv_unable_to_walk_seiz = pd.crosstab(df_B_LenHer['Surv_unable_to_walk'], df_B_LenHer['Seizoen'])\n",
    "stats.chi2_contingency(df_B_Surv_unable_to_walk_seiz)"
   ]
  },
  {
   "cell_type": "code",
   "execution_count": 335,
   "metadata": {},
   "outputs": [
    {
     "data": {
      "text/plain": [
       "(3.5602074430199417,\n",
       " 0.05918034264755438,\n",
       " 1,\n",
       " array([[ 5.64705882,  6.35294118],\n",
       "        [18.35294118, 20.64705882]]))"
      ]
     },
     "execution_count": 335,
     "metadata": {},
     "output_type": "execute_result"
    }
   ],
   "source": [
    "df_B_Surv_unable_to_walk_seiz = pd.crosstab(df_B_LenWin['Surv_unable_to_walk'], df_B_LenWin['Seizoen'])\n",
    "stats.chi2_contingency(df_B_Surv_unable_to_walk_seiz)"
   ]
  },
  {
   "cell_type": "code",
   "execution_count": 336,
   "metadata": {},
   "outputs": [
    {
     "data": {
      "text/plain": [
       "(2.572632478632479,\n",
       " 0.10872666332863937,\n",
       " 1,\n",
       " array([[ 6.84210526,  6.15789474],\n",
       "        [13.15789474, 11.84210526]]))"
      ]
     },
     "execution_count": 336,
     "metadata": {},
     "output_type": "execute_result"
    }
   ],
   "source": [
    "df_B_Surv_unable_to_walk_seiz = pd.crosstab(df_B_ZomHer['Surv_unable_to_walk'], df_B_ZomHer['Seizoen'])\n",
    "stats.chi2_contingency(df_B_Surv_unable_to_walk_seiz)"
   ]
  },
  {
   "cell_type": "code",
   "execution_count": 337,
   "metadata": {},
   "outputs": [
    {
     "data": {
      "text/plain": [
       "(6.482007575757576,\n",
       " 0.010897183523382386,\n",
       " 1,\n",
       " array([[ 7.2,  4.8],\n",
       "        [19.8, 13.2]]))"
      ]
     },
     "execution_count": 337,
     "metadata": {},
     "output_type": "execute_result"
    }
   ],
   "source": [
    "df_B_Surv_unable_to_walk_seiz = pd.crosstab(df_B_ZomWin['Surv_unable_to_walk'], df_B_ZomWin['Seizoen'])\n",
    "stats.chi2_contingency(df_B_Surv_unable_to_walk_seiz)"
   ]
  },
  {
   "cell_type": "code",
   "execution_count": 338,
   "metadata": {},
   "outputs": [
    {
     "data": {
      "text/plain": [
       "(0.1865856481481481,\n",
       " 0.6657736768726352,\n",
       " 1,\n",
       " array([[ 2.9787234,  4.0212766],\n",
       "        [17.0212766, 22.9787234]]))"
      ]
     },
     "execution_count": 338,
     "metadata": {},
     "output_type": "execute_result"
    }
   ],
   "source": [
    "df_B_Surv_unable_to_walk_seiz = pd.crosstab(df_B_HerWin['Surv_unable_to_walk'], df_B_HerWin['Seizoen'])\n",
    "stats.chi2_contingency(df_B_Surv_unable_to_walk_seiz)"
   ]
  },
  {
   "cell_type": "markdown",
   "metadata": {},
   "source": [
    "De statistische afhankelijkheid is te zien tussen de winter en zomer"
   ]
  },
  {
   "cell_type": "markdown",
   "metadata": {},
   "source": [
    "Na bonferoni correctie is te concluderen dat het niet meer statistisch significant is"
   ]
  },
  {
   "cell_type": "code",
   "execution_count": null,
   "metadata": {},
   "outputs": [],
   "source": []
  },
  {
   "cell_type": "code",
   "execution_count": null,
   "metadata": {},
   "outputs": [],
   "source": []
  },
  {
   "cell_type": "code",
   "execution_count": null,
   "metadata": {},
   "outputs": [],
   "source": []
  },
  {
   "cell_type": "code",
   "execution_count": 339,
   "metadata": {},
   "outputs": [
    {
     "data": {
      "text/plain": [
       "array([8.4000e-01, 5.1000e-01, 3.2800e+00, 4.2000e-01, 1.4700e+00,\n",
       "       4.8000e-01, 4.0000e-01, 3.1000e-01, 1.3400e+00, 4.6000e-01,\n",
       "       1.1800e+00, 8.7000e-01,        nan, 2.4000e-01, 7.5000e-01,\n",
       "       5.3000e-01, 8.8000e-01, 7.6000e-01, 3.8000e-01, 7.1000e-01,\n",
       "       5.4000e-01, 9.3000e-01, 6.6000e+00, 3.3000e-01, 8.1000e-01,\n",
       "       2.9600e+00, 6.6000e-01, 6.9000e-01, 3.0000e-02, 3.4000e-01,\n",
       "       2.5500e+00, 3.0100e+00, 2.5000e-01, 1.1200e+00, 3.9000e-01,\n",
       "       9.1000e-01, 1.1700e+00, 6.3400e+00, 4.1000e-01, 3.1100e+00,\n",
       "       2.7200e+00, 1.9400e+00, 7.0000e-01, 1.9000e-01, 4.4000e-01,\n",
       "       1.4600e+00, 3.6000e-01, 9.2000e-01, 2.3600e+00, 1.5700e+00,\n",
       "       5.2000e-01, 1.6500e+00, 7.2500e+00, 1.0100e+00, 6.5000e-01,\n",
       "       1.8700e+00, 4.7000e-01, 1.0200e+00, 8.5800e-01, 6.1000e-01,\n",
       "       5.9000e-01, 1.5000e-01, 1.2200e+00, 8.6000e-01, 2.4600e+00,\n",
       "       2.2000e-01, 8.3000e-01, 1.4400e+00, 4.9400e+00, 9.6000e-01,\n",
       "       8.0000e-01, 1.2000e-01, 1.6100e+00, 1.0900e+00, 2.1900e+00,\n",
       "       9.7000e-01, 1.9000e+00, 4.5000e-01, 2.1000e-01, 4.9000e-01,\n",
       "       2.3000e-01, 1.4200e+00, 2.0000e-02, 6.3000e-01, 1.1000e+00,\n",
       "       3.0000e-01, 1.1500e+00, 1.8300e+00, 1.2400e+00, 5.5000e-01,\n",
       "       2.8000e-01, 2.0000e-01, 5.6000e-01, 6.7000e-01, 9.0000e-01,\n",
       "       1.1400e+00, 5.0000e-01, 7.4000e-01, 4.4600e+00, 9.5000e-01,\n",
       "       6.0000e-01, 1.2800e+00, 3.2000e+00, 1.3200e+00, 7.9000e-01,\n",
       "       7.3000e-01, 5.7000e-01, 6.2000e-01, 1.6000e-01, 1.3500e+00,\n",
       "       1.4300e+00, 2.6200e+00, 4.3000e-01, 1.3000e-01, 2.1200e+00,\n",
       "       1.5800e+00, 1.4000e-01, 1.1300e+00, 4.5300e+00, 1.7800e+00,\n",
       "       3.9300e+00, 1.0400e+00, 2.8400e+00, 1.5400e+00, 6.5400e+00,\n",
       "       7.2000e-01, 3.1500e+00, 1.5300e+00, 1.3000e+00, 5.9900e+00,\n",
       "       6.4000e-01, 8.9000e-01, 1.7300e+00, 6.0000e-02, 1.0000e+00,\n",
       "       9.9000e-01, 1.9900e+00, 2.0000e+00, 1.8800e+00, 6.5200e+00,\n",
       "       6.4000e+00, 7.8000e-01, 2.0600e+00, 1.1100e+00, 1.7100e+00,\n",
       "       1.3100e+00, 1.6300e+00, 1.0300e+00, 1.4800e+00, 9.8000e-01,\n",
       "       1.3600e+00, 1.0700e+00, 5.8000e-01, 2.5700e+00, 1.7000e-01,\n",
       "       1.1900e+00, 1.2500e+00, 1.2600e+00, 2.3900e+00, 8.2000e-01,\n",
       "       3.5000e-01, 2.4000e+00, 6.8000e-01, 1.5200e+00, 3.4700e+00,\n",
       "       1.4500e+00, 1.3900e+00, 2.8000e+00, 1.9600e+00, 1.7700e+00,\n",
       "       1.7200e+00, 9.0000e-02, 3.0600e+00, 1.9700e+00, 1.7400e+00,\n",
       "       2.6030e+01, 2.7000e-01, 1.3800e+00, 3.7000e-01, 1.7000e+00,\n",
       "       1.0600e+00, 2.7400e+00, 3.2000e-01, 8.9100e-01, 4.7500e+00,\n",
       "       1.9800e+00, 1.2100e+00, 2.6000e-01, 9.4000e-01, 2.8100e+00,\n",
       "       1.6200e+00, 5.6800e+00, 8.5000e-01, 1.0800e+00, 1.4100e+00,\n",
       "       3.2600e+00, 1.5100e+00, 3.4600e-01, 2.4300e+00, 1.2300e+00,\n",
       "       2.9000e-01, 1.8000e+00, 1.5000e+00, 1.3700e+00, 7.7000e-01,\n",
       "       1.5600e+00, 2.5100e+00, 3.1800e+00, 1.4000e+00, 1.1600e+00,\n",
       "       2.2700e+00, 4.4700e+00, 1.0500e+00, 2.1300e+00, 4.9700e+00,\n",
       "       1.2900e+00, 2.7600e+00, 1.3292e+02, 8.1900e+00, 2.9300e+00,\n",
       "       7.3600e+00, 2.1000e+00, 2.1100e+00, 3.2400e+00, 2.6600e+00,\n",
       "       1.5500e+00, 2.2900e+00, 2.4100e+00, 2.5600e+00, 2.3100e+00,\n",
       "       2.0800e+00, 4.8700e+00, 3.0800e+00, 3.4300e+00, 2.2800e+00,\n",
       "       2.2500e+00, 4.9000e+00, 4.6800e+00, 2.5200e+00, 2.0900e+00,\n",
       "       2.2000e+00, 2.2100e+00, 2.3800e+00, 2.3400e+00, 1.8500e+00,\n",
       "       2.3000e+00, 1.9200e+00, 1.8200e+00, 3.0500e+00, 2.8600e+00,\n",
       "       1.8000e-01, 3.9200e+00, 2.1700e+00, 3.5000e+00, 1.5900e+00,\n",
       "       5.0800e+00, 2.0700e+00, 2.0100e+00, 1.4900e+00, 1.6700e+00,\n",
       "       1.7500e+00, 2.2200e+00, 2.8800e+00, 1.6000e+00, 2.7900e+00,\n",
       "       3.8600e+00, 3.0200e+00, 2.6900e+00, 1.3300e+00, 2.6100e+00,\n",
       "       2.0400e+00, 2.3300e+00, 3.1900e+00, 1.8900e+00, 4.4400e+00,\n",
       "       2.0200e+00, 5.3300e+00, 1.8100e+00, 4.1800e+00, 2.6700e+00,\n",
       "       1.9300e+00, 4.0000e-02, 1.2700e+00, 1.0000e-01, 1.7600e+00,\n",
       "       1.6600e+00, 5.5600e+00, 3.4900e+00, 2.6600e-01])"
      ]
     },
     "execution_count": 339,
     "metadata": {},
     "output_type": "execute_result"
    }
   ],
   "source": [
    "df['CSF_protein_level'].unique()\n"
   ]
  },
  {
   "cell_type": "code",
   "execution_count": 340,
   "metadata": {},
   "outputs": [
    {
     "data": {
      "text/plain": [
       "array([ 1.250e+02,  4.900e+01,  7.520e+02,  1.300e+01,  1.400e+01,\n",
       "        2.400e+01,  1.700e+01,  3.100e+01,        nan,  2.000e+01,\n",
       "        1.460e+02,  1.097e+03,  8.300e+01,  1.510e+02,  5.500e+01,\n",
       "        6.000e+00,  7.380e+02,  3.300e+01,  5.300e+01,  2.300e+01,\n",
       "        3.840e+02,  3.200e+01,  2.170e+02,  3.950e+02,  1.290e+02,\n",
       "        3.000e+00,  4.400e+01,  3.500e+01,  8.900e+01,  4.700e+01,\n",
       "        1.720e+02,  1.500e+01,  2.200e+01,  1.900e+01,  5.800e+01,\n",
       "        1.100e+01,  8.400e+01,  5.600e+01,  2.700e+01,  3.800e+01,\n",
       "        8.000e+01,  3.880e+02,  4.100e+01,  1.490e+02,  7.240e+02,\n",
       "        1.600e+01,  1.450e+02,  1.080e+02,  1.094e+03,  1.093e+03,\n",
       "        2.710e+02,  1.940e+02,  2.600e+01,  2.740e+02,  1.540e+02,\n",
       "        5.400e+01,  3.700e+01,  2.800e+01,  5.720e+02,  1.800e+01,\n",
       "        2.500e+01,  7.900e+01,  3.000e+01,  1.400e+02,  2.820e+02,\n",
       "        2.230e+02,  2.320e+02,  4.800e+01,  8.000e+00,  1.500e+02,\n",
       "        3.900e+01,  3.600e+01,  1.430e+02,  5.200e+01,  4.320e+02,\n",
       "        1.200e+01,  7.500e+01,  9.000e+00,  4.740e+02,  4.600e+01,\n",
       "        1.180e+02,  2.830e+02,  1.110e+02,  1.680e+02,  2.900e+02,\n",
       "        5.100e+01,  1.095e+03,  5.000e+01,  1.390e+02,  3.070e+02,\n",
       "        2.350e+02,  6.100e+01,  6.900e+01,  8.500e+01,  7.600e+01,\n",
       "        6.700e+01,  5.000e+00,  1.000e+01,  2.080e+02,  3.710e+02,\n",
       "        5.090e+02,  3.620e+02,  1.160e+02,  9.800e+01,  9.500e+01,\n",
       "        1.380e+02,  3.510e+02,  1.730e+02,  1.530e+02,  4.200e+01,\n",
       "        2.100e+01,  3.400e+01,  1.370e+02,  2.680e+02,  7.800e+01,\n",
       "        5.640e+02, -1.000e+00,  2.840e+02,  9.700e+01,  1.440e+02,\n",
       "        6.500e+01,  1.040e+02,  7.100e+01,  1.750e+02,  1.000e+00,\n",
       "        1.820e+02,  1.420e+02,  1.410e+02,  8.800e+01,  3.100e+02,\n",
       "        3.170e+02,  5.480e+02,  1.098e+03,  4.500e+01,  4.300e+01,\n",
       "        8.100e+01,  1.310e+02,  2.940e+02,  8.700e+01,  4.000e+01,\n",
       "        1.070e+02,  3.730e+02,  1.580e+02,  3.700e+02,  2.900e+01,\n",
       "        7.700e+01,  5.700e+01,  7.000e+00,  2.690e+02,  9.380e+02,\n",
       "        5.680e+02,  3.800e+02,  3.680e+02,  2.750e+02,  1.570e+02,\n",
       "        1.280e+02,  6.200e+01,  1.550e+02,  2.770e+02,  5.900e+01,\n",
       "        1.480e+02,  2.850e+02,  1.780e+02,  2.810e+02,  4.750e+02,\n",
       "        3.660e+02,  1.330e+02,  4.120e+02,  1.240e+02,  1.099e+03,\n",
       "        9.120e+02,  2.000e+00, -1.290e+02,  5.530e+02,  4.270e+02,\n",
       "        1.950e+02,  2.020e+02,  2.730e+02,  1.030e+02,  2.950e+02,\n",
       "        4.590e+02,  1.910e+02,  2.380e+02,  7.300e+01,  2.760e+02,\n",
       "        1.850e+02,  5.620e+02,  1.320e+02,  7.250e+02,  1.020e+02,\n",
       "        4.790e+02,  6.600e+01,  5.460e+02,  1.520e+02,  9.000e+01,\n",
       "        6.400e+01,  5.560e+02,  3.820e+02,  3.860e+02,  5.510e+02,\n",
       "        3.330e+02,  7.400e+01,  2.340e+02,  1.470e+02,  1.740e+02,\n",
       "        9.600e+01,  2.630e+02,  5.370e+02,  2.860e+02,  4.000e+00,\n",
       "        2.780e+02,  1.860e+02,  4.580e+02,  2.970e+02,  2.050e+02,\n",
       "        5.500e+02,  8.200e+01,  3.670e+02,  5.540e+02,  1.010e+02,\n",
       "        9.200e+02,  9.100e+01,  2.700e+02,  1.600e+02,  3.770e+02,\n",
       "        2.920e+02,  1.340e+02,  3.000e+02,  4.160e+02,  3.740e+02,\n",
       "        2.010e+02,  5.780e+02,  2.040e+02,  2.410e+02,  8.600e+01,\n",
       "        4.730e+02,  2.890e+02,  9.160e+02,  7.280e+02,  1.100e+02,\n",
       "        1.091e+03,  2.070e+02,  1.690e+02,  2.720e+02,  2.800e+02,\n",
       "        7.270e+02,  2.650e+02,  6.300e+01,  4.130e+02,  4.600e+02,\n",
       "        1.980e+02,  3.760e+02,  1.760e+02,  4.030e+02,  1.260e+02,\n",
       "        1.350e+02,  2.790e+02,  7.410e+02,  7.110e+02,  7.730e+02,\n",
       "        2.300e+02,  2.290e+02,  7.200e+01,  1.090e+02,  1.190e+02,\n",
       "        2.330e+02,  1.830e+02,  1.130e+02,  1.560e+02,  1.900e+02,\n",
       "        9.200e+01, -2.000e+00,  2.960e+02,  1.870e+02,  5.450e+02,\n",
       "        1.960e+02])"
      ]
     },
     "execution_count": 340,
     "metadata": {},
     "output_type": "execute_result"
    }
   ],
   "source": [
    "df['Surv_days'].unique()\n"
   ]
  },
  {
   "cell_type": "code",
   "execution_count": 341,
   "metadata": {},
   "outputs": [
    {
     "data": {
      "text/plain": [
       "array([   5.,    1.,   15.,   10.,    3.,    0.,    2.,    8.,    6.,\n",
       "          7.,    4.,   13.,   27.,   26.,   16.,    9.,   18.,   11.,\n",
       "         19.,   23.,   14.,  364.,   47.,   nan,   12., -363.,   17.,\n",
       "         41.,   50.,   24.,   22.,   53.,  374.,   21.,   52.,  368.,\n",
       "         32.,   28.,   20.])"
      ]
     },
     "execution_count": 341,
     "metadata": {},
     "output_type": "execute_result"
    }
   ],
   "source": [
    "df['Days_between_onset_and_admission'].unique()\n"
   ]
  },
  {
   "cell_type": "code",
   "execution_count": 466,
   "metadata": {},
   "outputs": [
    {
     "data": {
      "text/plain": [
       "Text(0, 0.5, 'Aantal Patienten')"
      ]
     },
     "execution_count": 466,
     "metadata": {},
     "output_type": "execute_result"
    },
    {
     "data": {
      "image/png": "[encoded data removed]",
      "text/plain": [
       "<Figure size 432x288 with 1 Axes>"
      ]
     },
     "metadata": {
      "needs_background": "light"
     },
     "output_type": "display_data"
    }
   ],
   "source": [
    "sns.histplot(data = df, x='Age', kde = True, hue=\"Sex\", element=\"step\")\n",
    "plt.title('Verdeling van patienten per leeftijd')\n",
    "plt.xlabel('Leeftijd')\n",
    "plt.ylabel('Aantal Patienten')\n"
   ]
  },
  {
   "cell_type": "code",
   "execution_count": 468,
   "metadata": {},
   "outputs": [
    {
     "data": {
      "text/plain": [
       "Text(0, 0.5, 'Aantal patient')"
      ]
     },
     "execution_count": 468,
     "metadata": {},
     "output_type": "execute_result"
    },
    {
     "data": {
      "image/png": "[encoded data removed]",
      "text/plain": [
       "<Figure size 432x288 with 1 Axes>"
      ]
     },
     "metadata": {
      "needs_background": "light"
     },
     "output_type": "display_data"
    }
   ],
   "source": [
    "sns.histplot(data = df, x='Age', kde = True, hue=\"Seizoen\", element=\"step\", multiple = 'stack')\n",
    "plt.title('Verdeling van patient per leeftijd per seizoen')\n",
    "plt.xlabel('Leeftijd')\n",
    "plt.ylabel('Aantal patient')"
   ]
  },
  {
   "cell_type": "code",
   "execution_count": 462,
   "metadata": {},
   "outputs": [
    {
     "data": {
      "image/png": "[encoded data removed]",
      "text/plain": [
       "<Figure size 432x288 with 1 Axes>"
      ]
     },
     "metadata": {},
     "output_type": "display_data"
    }
   ],
   "source": [
    "gender_counts = df['Sex'].value_counts()\n",
    "gender_labels = {0: 'Vrouw', 1: 'Man'}\n",
    "gender_counts.index = gender_counts.index.map(gender_labels)\n",
    "\n",
    "plt.pie(gender_counts, labels=gender_counts.index, autopct='%1.1f%%', startangle=90, colors=sns.color_palette(\"Set2\", len(gender_counts)))\n",
    "plt.axis('equal')\n",
    "plt.title('Verdeling van patienten per geslacht')\n",
    "plt.show()"
   ]
  },
  {
   "cell_type": "code",
   "execution_count": 439,
   "metadata": {},
   "outputs": [
    {
     "data": {
      "text/plain": [
       "Text(0, 0.5, 'Aantal patient')"
      ]
     },
     "execution_count": 439,
     "metadata": {},
     "output_type": "execute_result"
    },
    {
     "data": {
      "image/png": "[encoded data removed]",
      "text/plain": [
       "<Figure size 432x288 with 1 Axes>"
      ]
     },
     "metadata": {
      "needs_background": "light"
     },
     "output_type": "display_data"
    }
   ],
   "source": [
    "df['Sex'] = df['Sex'].replace({0: 'Vrouw', 1: 'Man'})\n",
    "sns.countplot(data = df, x='Sex', hue=\"Seizoen\", hue_order = ['Lente', 'Zomer', 'Herfst', 'Winter'],\n",
    "              palette='Set2')\n",
    "plt.title('Verdeling van patient per geslacht per seizoen')\n",
    "plt.xlabel('Geslacht')\n",
    "plt.ylabel('Aantal patient')"
   ]
  },
  {
   "cell_type": "code",
   "execution_count": 344,
   "metadata": {},
   "outputs": [
    {
     "name": "stdout",
     "output_type": "stream",
     "text": [
      "Seizoen  Herfst  Lente  Winter  Zomer\n",
      "Sex                                  \n",
      "0            21     26      24     18\n",
      "1            26     32      33     25 \n",
      "\n",
      "Seizoen  Herfst  Lente  Winter  Zomer\n",
      "Sex                                  \n",
      "0             4     10       9      9\n",
      "1            16     14      18      9 \n",
      "\n",
      "Seizoen  Herfst  Lente  Winter  Zomer\n",
      "Sex                                  \n",
      "0            71     94     105     82\n",
      "1           104    124     166    126 \n",
      "\n",
      "Seizoen  Herfst  Lente  Winter  Zomer\n",
      "Sex                                  \n",
      "0            16     11      19     14\n",
      "1            22     22      28     20 \n",
      "\n"
     ]
    }
   ],
   "source": [
    "for dateframe in dataframes_klimaat:\n",
    "    freq_table = pd.crosstab(dateframe['Sex'], dateframe['Seizoen']) \n",
    "    print(freq_table, '\\n')"
   ]
  },
  {
   "cell_type": "code",
   "execution_count": 345,
   "metadata": {},
   "outputs": [
    {
     "data": {
      "text/plain": [
       "(0.8461015105677512,\n",
       " 0.8384113044592554,\n",
       " 3,\n",
       " array([[166.76783005, 198.33459788, 239.43095599, 180.46661608],\n",
       "        [113.23216995, 134.66540212, 162.56904401, 122.53338392]]))"
      ]
     },
     "execution_count": 345,
     "metadata": {},
     "output_type": "execute_result"
    }
   ],
   "source": [
    "Sex_seizoen = pd.crosstab(df['Sex'], df['Seizoen'])\n",
    "stats.chi2_contingency(Sex_seizoen)"
   ]
  },
  {
   "cell_type": "code",
   "execution_count": 346,
   "metadata": {},
   "outputs": [
    {
     "data": {
      "text/plain": [
       "(0.1598676988898045,\n",
       " 0.9837921146564822,\n",
       " 3,\n",
       " array([[20.40487805, 25.1804878 , 24.74634146, 18.66829268],\n",
       "        [26.59512195, 32.8195122 , 32.25365854, 24.33170732]]))"
      ]
     },
     "execution_count": 346,
     "metadata": {},
     "output_type": "execute_result"
    }
   ],
   "source": [
    "Sex_seizoen = pd.crosstab(df_A['Sex'], df_A['Seizoen'])\n",
    "stats.chi2_contingency(Sex_seizoen)"
   ]
  },
  {
   "cell_type": "code",
   "execution_count": 347,
   "metadata": {},
   "outputs": [
    {
     "data": {
      "text/plain": [
       "(1.062066525158066,\n",
       " 0.78623835045817,\n",
       " 3,\n",
       " array([[ 70.64220183,  88.        , 109.39449541,  83.96330275],\n",
       "        [104.35779817, 130.        , 161.60550459, 124.03669725]]))"
      ]
     },
     "execution_count": 347,
     "metadata": {},
     "output_type": "execute_result"
    }
   ],
   "source": [
    "Sex_seizoen = pd.crosstab(df_C['Sex'], df_C['Seizoen'])\n",
    "stats.chi2_contingency(Sex_seizoen)"
   ]
  },
  {
   "cell_type": "code",
   "execution_count": 348,
   "metadata": {},
   "outputs": [
    {
     "data": {
      "text/plain": [
       "(1.062066525158066,\n",
       " 0.78623835045817,\n",
       " 3,\n",
       " array([[ 70.64220183,  88.        , 109.39449541,  83.96330275],\n",
       "        [104.35779817, 130.        , 161.60550459, 124.03669725]]))"
      ]
     },
     "execution_count": 348,
     "metadata": {},
     "output_type": "execute_result"
    }
   ],
   "source": [
    "Sex_seizoen = pd.crosstab(df_C['Sex'], df_C['Seizoen'])\n",
    "stats.chi2_contingency(Sex_seizoen)"
   ]
  },
  {
   "cell_type": "code",
   "execution_count": null,
   "metadata": {},
   "outputs": [],
   "source": []
  },
  {
   "cell_type": "markdown",
   "metadata": {},
   "source": [
    "Pijn"
   ]
  },
  {
   "cell_type": "code",
   "execution_count": 349,
   "metadata": {},
   "outputs": [
    {
     "name": "stdout",
     "output_type": "stream",
     "text": [
      "Seizoen  Herfst  Lente  Winter  Zomer\n",
      "Pain_e                               \n",
      "0.0          17     22      27     19\n",
      "1.0          30     36      30     24 \n",
      "\n",
      "Seizoen  Herfst  Lente  Winter  Zomer\n",
      "Pain_e                               \n",
      "0.0           8     14      13      7\n",
      "1.0          12     10      14     11 \n",
      "\n",
      "Seizoen  Herfst  Lente  Winter  Zomer\n",
      "Pain_e                               \n",
      "0.0          85     99     136     96\n",
      "1.0          89    118     135    112 \n",
      "\n",
      "Seizoen  Herfst  Lente  Winter  Zomer\n",
      "Pain_e                               \n",
      "0.0          18     15      22     15\n",
      "1.0          20     18      24     19 \n",
      "\n"
     ]
    }
   ],
   "source": [
    "for dateframe in dataframes_klimaat:\n",
    "    freq_table = pd.crosstab(dateframe['Pain_e'], dateframe['Seizoen']) \n",
    "    print(freq_table, '\\n')"
   ]
  },
  {
   "cell_type": "code",
   "execution_count": 350,
   "metadata": {},
   "outputs": [
    {
     "name": "stdout",
     "output_type": "stream",
     "text": [
      "Seizoen  Herfst  Lente  Winter  Zomer\n",
      "Pain_w1                              \n",
      "0.0          21     25      32     20\n",
      "1.0          26     33      25     21 \n",
      "\n",
      "Seizoen  Herfst  Lente  Winter  Zomer\n",
      "Pain_w1                              \n",
      "0.0           9     11      13     13\n",
      "1.0          11     13      14      5 \n",
      "\n",
      "Seizoen  Herfst  Lente  Winter  Zomer\n",
      "Pain_w1                              \n",
      "0.0          82    122     149    117\n",
      "1.0          92     96     122     91 \n",
      "\n",
      "Seizoen  Herfst  Lente  Winter  Zomer\n",
      "Pain_w1                              \n",
      "0.0          18     18      23     24\n",
      "1.0          20     15      24     10 \n",
      "\n"
     ]
    }
   ],
   "source": [
    "for dateframe in dataframes_klimaat:\n",
    "    freq_table = pd.crosstab(dateframe['Pain_w1'], dateframe['Seizoen']) \n",
    "    print(freq_table, '\\n')"
   ]
  },
  {
   "cell_type": "markdown",
   "metadata": {},
   "source": [
    "Genoeg waarden voor een chi kwadraat toets"
   ]
  },
  {
   "cell_type": "markdown",
   "metadata": {},
   "source": [
    "Entry"
   ]
  },
  {
   "cell_type": "code",
   "execution_count": 351,
   "metadata": {},
   "outputs": [
    {
     "data": {
      "text/plain": [
       "(1.8030011939989403,\n",
       " 0.6142820601807788,\n",
       " 3,\n",
       " array([[130.05855513, 154.76501901, 186.93003802, 141.24638783],\n",
       "        [148.94144487, 177.23498099, 214.06996198, 161.75361217]]))"
      ]
     },
     "execution_count": 351,
     "metadata": {},
     "output_type": "execute_result"
    }
   ],
   "source": [
    "Pain_seizoen = pd.crosstab(df['Pain_e'], df['Seizoen'])\n",
    "stats.chi2_contingency(Pain_seizoen)"
   ]
  },
  {
   "cell_type": "code",
   "execution_count": 352,
   "metadata": {},
   "outputs": [
    {
     "data": {
      "text/plain": [
       "(1.790940031980845,\n",
       " 0.6169084683212931,\n",
       " 3,\n",
       " array([[19.48780488, 24.04878049, 23.63414634, 17.82926829],\n",
       "        [27.51219512, 33.95121951, 33.36585366, 25.17073171]]))"
      ]
     },
     "execution_count": 352,
     "metadata": {},
     "output_type": "execute_result"
    }
   ],
   "source": [
    "Pain_seizoen = pd.crosstab(df_A['Pain_e'], df_A['Seizoen'])\n",
    "stats.chi2_contingency(Pain_seizoen)"
   ]
  },
  {
   "cell_type": "code",
   "execution_count": 353,
   "metadata": {},
   "outputs": [
    {
     "data": {
      "text/plain": [
       "(2.1183796765357057,\n",
       " 0.5482033882896704,\n",
       " 3,\n",
       " array([[ 9.43820225, 11.3258427 , 12.74157303,  8.49438202],\n",
       "        [10.56179775, 12.6741573 , 14.25842697,  9.50561798]]))"
      ]
     },
     "execution_count": 353,
     "metadata": {},
     "output_type": "execute_result"
    }
   ],
   "source": [
    "Pain_seizoen = pd.crosstab(df_B['Pain_e'], df_B['Seizoen'])\n",
    "stats.chi2_contingency(Pain_seizoen)"
   ]
  },
  {
   "cell_type": "code",
   "execution_count": 354,
   "metadata": {},
   "outputs": [
    {
     "data": {
      "text/plain": [
       "(1.3327802996825722,\n",
       " 0.7213641772174626,\n",
       " 3,\n",
       " array([[ 83.2       , 103.76091954, 129.5816092 ,  99.45747126],\n",
       "        [ 90.8       , 113.23908046, 141.4183908 , 108.54252874]]))"
      ]
     },
     "execution_count": 354,
     "metadata": {},
     "output_type": "execute_result"
    }
   ],
   "source": [
    "Pain_seizoen = pd.crosstab(df_C['Pain_e'], df_C['Seizoen'])\n",
    "stats.chi2_contingency(Pain_seizoen)"
   ]
  },
  {
   "cell_type": "code",
   "execution_count": 355,
   "metadata": {},
   "outputs": [
    {
     "data": {
      "text/plain": [
       "(0.13492671136364742,\n",
       " 0.9873394015452223,\n",
       " 3,\n",
       " array([[17.61589404, 15.29801325, 21.32450331, 15.7615894 ],\n",
       "        [20.38410596, 17.70198675, 24.67549669, 18.2384106 ]]))"
      ]
     },
     "execution_count": 355,
     "metadata": {},
     "output_type": "execute_result"
    }
   ],
   "source": [
    "Pain_seizoen = pd.crosstab(df_D['Pain_e'], df_D['Seizoen'])\n",
    "stats.chi2_contingency(Pain_seizoen)"
   ]
  },
  {
   "cell_type": "markdown",
   "metadata": {},
   "source": [
    "Week 1"
   ]
  },
  {
   "cell_type": "code",
   "execution_count": 356,
   "metadata": {},
   "outputs": [
    {
     "data": {
      "text/plain": [
       "(7.545349559994106,\n",
       " 0.05640460589079493,\n",
       " 3,\n",
       " array([[147.88060837, 176.5026616 , 213.07528517, 159.54144487],\n",
       "        [131.11939163, 156.4973384 , 188.92471483, 141.45855513]]))"
      ]
     },
     "execution_count": 356,
     "metadata": {},
     "output_type": "execute_result"
    }
   ],
   "source": [
    "Pain_seizoen = pd.crosstab(df['Pain_w1'], df['Seizoen'])\n",
    "stats.chi2_contingency(Pain_seizoen)"
   ]
  },
  {
   "cell_type": "code",
   "execution_count": 357,
   "metadata": {},
   "outputs": [
    {
     "data": {
      "text/plain": [
       "(2.280735158255438,\n",
       " 0.5162215824141989,\n",
       " 3,\n",
       " array([[22.68965517, 28.        , 27.51724138, 19.79310345],\n",
       "        [24.31034483, 30.        , 29.48275862, 21.20689655]]))"
      ]
     },
     "execution_count": 357,
     "metadata": {},
     "output_type": "execute_result"
    }
   ],
   "source": [
    "Pain_seizoen = pd.crosstab(df_A['Pain_w1'], df_A['Seizoen'])\n",
    "stats.chi2_contingency(Pain_seizoen)"
   ]
  },
  {
   "cell_type": "code",
   "execution_count": 358,
   "metadata": {},
   "outputs": [
    {
     "data": {
      "text/plain": [
       "(3.8625243418342503,\n",
       " 0.27669678503433986,\n",
       " 3,\n",
       " array([[10.33707865, 12.40449438, 13.95505618,  9.30337079],\n",
       "        [ 9.66292135, 11.59550562, 13.04494382,  8.69662921]]))"
      ]
     },
     "execution_count": 358,
     "metadata": {},
     "output_type": "execute_result"
    }
   ],
   "source": [
    "Pain_seizoen = pd.crosstab(df_B['Pain_w1'], df_B['Seizoen'])\n",
    "stats.chi2_contingency(Pain_seizoen)"
   ]
  },
  {
   "cell_type": "code",
   "execution_count": 359,
   "metadata": {},
   "outputs": [
    {
     "data": {
      "text/plain": [
       "(4.175741775564967,\n",
       " 0.2431018431932827,\n",
       " 3,\n",
       " array([[ 93.89207807, 117.63490241, 146.23421355, 112.23880597],\n",
       "        [ 80.10792193, 100.36509759, 124.76578645,  95.76119403]]))"
      ]
     },
     "execution_count": 359,
     "metadata": {},
     "output_type": "execute_result"
    }
   ],
   "source": [
    "Pain_seizoen = pd.crosstab(df_C['Pain_w1'], df_C['Seizoen'])\n",
    "stats.chi2_contingency(Pain_seizoen)"
   ]
  },
  {
   "cell_type": "code",
   "execution_count": 360,
   "metadata": {},
   "outputs": [
    {
     "data": {
      "text/plain": [
       "(4.91620525943157,\n",
       " 0.17803684753611188,\n",
       " 3,\n",
       " array([[20.75      , 18.01973684, 25.66447368, 18.56578947],\n",
       "        [17.25      , 14.98026316, 21.33552632, 15.43421053]]))"
      ]
     },
     "execution_count": 360,
     "metadata": {},
     "output_type": "execute_result"
    }
   ],
   "source": [
    "Pain_seizoen = pd.crosstab(df_D['Pain_w1'], df_D['Seizoen'])\n",
    "stats.chi2_contingency(Pain_seizoen)"
   ]
  },
  {
   "cell_type": "markdown",
   "metadata": {},
   "source": [
    "Het seizoen en de pijn die mensen voelen zijn statistisch onafhankelijk"
   ]
  },
  {
   "cell_type": "code",
   "execution_count": null,
   "metadata": {},
   "outputs": [],
   "source": []
  },
  {
   "cell_type": "markdown",
   "metadata": {},
   "source": [
    "Sens deficits"
   ]
  },
  {
   "cell_type": "code",
   "execution_count": 361,
   "metadata": {},
   "outputs": [
    {
     "name": "stdout",
     "output_type": "stream",
     "text": [
      "Seizoen          Herfst  Lente  Winter  Zomer\n",
      "Sens_deficits_e                              \n",
      "0.0                  20     18      25     14\n",
      "1.0                  26     34      31     27\n",
      "2.0                   1      4       1      2 \n",
      "\n",
      "Seizoen          Herfst  Lente  Winter  Zomer\n",
      "Sens_deficits_e                              \n",
      "0.0                   8      9      12      6\n",
      "1.0                  12     14      15     11\n",
      "2.0                   0      1       0      0 \n",
      "\n",
      "Seizoen          Herfst  Lente  Winter  Zomer\n",
      "Sens_deficits_e                              \n",
      "0.0                  73     90     105     86\n",
      "1.0                  96    123     162    112\n",
      "2.0                   6      3       3      8 \n",
      "\n",
      "Seizoen          Herfst  Lente  Winter  Zomer\n",
      "Sens_deficits_e                              \n",
      "0.0                  15     14      17      9\n",
      "1.0                  22     18      29     23\n",
      "2.0                   1      1       1      2 \n",
      "\n"
     ]
    }
   ],
   "source": [
    "for dateframe in dataframes_klimaat:\n",
    "    freq_table = pd.crosstab(dateframe['Sens_deficits_e'], dateframe['Seizoen']) \n",
    "    print(freq_table, '\\n')"
   ]
  },
  {
   "cell_type": "code",
   "execution_count": 362,
   "metadata": {},
   "outputs": [
    {
     "name": "stdout",
     "output_type": "stream",
     "text": [
      "Seizoen           Herfst  Lente  Winter  Zomer\n",
      "Sens_deficits_w1                              \n",
      "0.0                   20     20      27     16\n",
      "1.0                   22     32      27     21\n",
      "2.0                    4      5       3      5 \n",
      "\n",
      "Seizoen           Herfst  Lente  Winter  Zomer\n",
      "Sens_deficits_w1                              \n",
      "0.0                   10     10      12      6\n",
      "1.0                   10     13      15     10\n",
      "2.0                    0      1       0      1 \n",
      "\n",
      "Seizoen           Herfst  Lente  Winter  Zomer\n",
      "Sens_deficits_w1                              \n",
      "0.0                   80     94     113     87\n",
      "1.0                   87    112     144    110\n",
      "2.0                    7      9      12     11 \n",
      "\n",
      "Seizoen           Herfst  Lente  Winter  Zomer\n",
      "Sens_deficits_w1                              \n",
      "0.0                   15     17      21     12\n",
      "1.0                   22     15      24     19\n",
      "2.0                    1      1       1      3 \n",
      "\n"
     ]
    }
   ],
   "source": [
    "for dateframe in dataframes_klimaat:\n",
    "    freq_table = pd.crosstab(dateframe['Sens_deficits_w1'], dateframe['Seizoen']) \n",
    "    print(freq_table, '\\n')"
   ]
  },
  {
   "cell_type": "markdown",
   "metadata": {},
   "source": [
    "Vaak is de waarde 2 te weinig gegeven voor een chi kwadraat toets, sinds in het codeboek ook niet staat wat de waarde 2 inhoudt is besloten deze weg te houden"
   ]
  },
  {
   "cell_type": "code",
   "execution_count": 363,
   "metadata": {},
   "outputs": [],
   "source": [
    "df_Sens_deficits_e = df\n",
    "df_A_Sens_deficits_e = df_A\n",
    "df_B_Sens_deficits_e = df_B\n",
    "df_C_Sens_deficits_e = df_C\n",
    "df_D_Sens_deficits_e = df_D\n",
    "\n",
    "df_Sens_deficits_w1 = df\n",
    "df_A_Sens_deficits_w1 = df_A\n",
    "df_B_Sens_deficits_w1 = df_B\n",
    "df_C_Sens_deficits_w1 = df_C\n",
    "df_D_Sens_deficits_w1 = df_D"
   ]
  },
  {
   "cell_type": "code",
   "execution_count": 364,
   "metadata": {},
   "outputs": [],
   "source": [
    "df_Sens_deficits_e = df_Sens_deficits_e.drop(df_Sens_deficits_e[df_Sens_deficits_e['Sens_deficits_e'] == 2].index)\n",
    "df_A_Sens_deficits_e = df_A_Sens_deficits_e.drop(df_A_Sens_deficits_e[df_A_Sens_deficits_e['Sens_deficits_e'] == 2].index)\n",
    "df_B_Sens_deficits_e = df_B_Sens_deficits_e.drop(df_B_Sens_deficits_e[df_B_Sens_deficits_e['Sens_deficits_e'] == 2].index)\n",
    "df_C_Sens_deficits_e = df_C_Sens_deficits_e.drop(df_C_Sens_deficits_e[df_C_Sens_deficits_e['Sens_deficits_e'] == 2].index)\n",
    "df_D_Sens_deficits_e = df_D_Sens_deficits_e.drop(df_D_Sens_deficits_e[df_D_Sens_deficits_e['Sens_deficits_e'] == 2].index)\n",
    "\n",
    "df_Sens_deficits_w1 = df_Sens_deficits_w1.drop(df_Sens_deficits_w1[df_Sens_deficits_w1['Sens_deficits_w1'] == 2].index)\n",
    "df_A_Sens_deficits_w1 = df_A_Sens_deficits_w1.drop(df_A_Sens_deficits_w1[df_A_Sens_deficits_w1['Sens_deficits_w1'] == 2].index)\n",
    "df_B_Sens_deficits_w1 = df_B_Sens_deficits_w1.drop(df_B_Sens_deficits_w1[df_B_Sens_deficits_w1['Sens_deficits_w1'] == 2].index)\n",
    "df_C_Sens_deficits_w1 = df_C_Sens_deficits_w1.drop(df_C_Sens_deficits_w1[df_C_Sens_deficits_w1['Sens_deficits_w1'] == 2].index)\n",
    "df_D_Sens_deficits_w1 = df_D_Sens_deficits_w1.drop(df_D_Sens_deficits_w1[df_D_Sens_deficits_w1['Sens_deficits_w1'] == 2].index)"
   ]
  },
  {
   "cell_type": "markdown",
   "metadata": {},
   "source": [
    "De toetsen"
   ]
  },
  {
   "cell_type": "markdown",
   "metadata": {},
   "source": [
    "Entry"
   ]
  },
  {
   "cell_type": "code",
   "execution_count": 365,
   "metadata": {},
   "outputs": [
    {
     "data": {
      "text/plain": [
       "(0.545152791101652,\n",
       " 0.9088652739150143,\n",
       " 3,\n",
       " array([[111.05956113, 130.65830721, 161.68965517, 117.59247649],\n",
       "        [160.94043887, 189.34169279, 234.31034483, 170.40752351]]))"
      ]
     },
     "execution_count": 365,
     "metadata": {},
     "output_type": "execute_result"
    }
   ],
   "source": [
    "SensDef_seizoen = pd.crosstab(df_Sens_deficits_e['Sens_deficits_e'], df_Sens_deficits_e['Seizoen'])\n",
    "stats.chi2_contingency(SensDef_seizoen)"
   ]
  },
  {
   "cell_type": "code",
   "execution_count": 366,
   "metadata": {},
   "outputs": [
    {
     "data": {
      "text/plain": [
       "(1.935547370439908,\n",
       " 0.5858912555158813,\n",
       " 3,\n",
       " array([[18.16410256, 20.53333333, 22.11282051, 16.18974359],\n",
       "        [27.83589744, 31.46666667, 33.88717949, 24.81025641]]))"
      ]
     },
     "execution_count": 366,
     "metadata": {},
     "output_type": "execute_result"
    }
   ],
   "source": [
    "SensDef_seizoen = pd.crosstab(df_A_Sens_deficits_e['Sens_deficits_e'], df_A_Sens_deficits_e['Seizoen'])\n",
    "stats.chi2_contingency(SensDef_seizoen)"
   ]
  },
  {
   "cell_type": "code",
   "execution_count": 367,
   "metadata": {},
   "outputs": [
    {
     "data": {
      "text/plain": [
       "(0.38368904752536437,\n",
       " 0.9435909581325236,\n",
       " 3,\n",
       " array([[ 8.04597701,  9.25287356, 10.86206897,  6.83908046],\n",
       "        [11.95402299, 13.74712644, 16.13793103, 10.16091954]]))"
      ]
     },
     "execution_count": 367,
     "metadata": {},
     "output_type": "execute_result"
    }
   ],
   "source": [
    "SensDef_seizoen = pd.crosstab(df_B_Sens_deficits_e['Sens_deficits_e'], df_B_Sens_deficits_e['Seizoen'])\n",
    "stats.chi2_contingency(SensDef_seizoen)"
   ]
  },
  {
   "cell_type": "code",
   "execution_count": 368,
   "metadata": {},
   "outputs": [
    {
     "data": {
      "text/plain": [
       "(1.0425128989507468,\n",
       " 0.7909665969532564,\n",
       " 3,\n",
       " array([[ 70.63282172,  89.02243211, 111.59149941,  82.75324675],\n",
       "        [ 98.36717828, 123.97756789, 155.40850059, 115.24675325]]))"
      ]
     },
     "execution_count": 368,
     "metadata": {},
     "output_type": "execute_result"
    }
   ],
   "source": [
    "SensDef_seizoen = pd.crosstab(df_C_Sens_deficits_e['Sens_deficits_e'], df_C_Sens_deficits_e['Seizoen'])\n",
    "stats.chi2_contingency(SensDef_seizoen)"
   ]
  },
  {
   "cell_type": "code",
   "execution_count": 369,
   "metadata": {},
   "outputs": [
    {
     "data": {
      "text/plain": [
       "(1.8863396512705348,\n",
       " 0.5963290226645186,\n",
       " 3,\n",
       " array([[13.84353741, 11.97278912, 17.21088435, 11.97278912],\n",
       "        [23.15646259, 20.02721088, 28.78911565, 20.02721088]]))"
      ]
     },
     "execution_count": 369,
     "metadata": {},
     "output_type": "execute_result"
    }
   ],
   "source": [
    "SensDef_seizoen = pd.crosstab(df_D_Sens_deficits_e['Sens_deficits_e'], df_D_Sens_deficits_e['Seizoen'])\n",
    "stats.chi2_contingency(SensDef_seizoen)"
   ]
  },
  {
   "cell_type": "markdown",
   "metadata": {},
   "source": [
    "Week 1"
   ]
  },
  {
   "cell_type": "code",
   "execution_count": 370,
   "metadata": {},
   "outputs": [
    {
     "data": {
      "text/plain": [
       "(0.8569490402249752,\n",
       " 0.8358025580311411,\n",
       " 3,\n",
       " array([[119.83909895, 141.01367659, 172.55028158, 126.59694288],\n",
       "        [146.16090105, 171.98632341, 210.44971842, 154.40305712]]))"
      ]
     },
     "execution_count": 370,
     "metadata": {},
     "output_type": "execute_result"
    }
   ],
   "source": [
    "SensDef_seizoen = pd.crosstab(df_Sens_deficits_w1['Sens_deficits_w1'], df_Sens_deficits_w1['Seizoen'])\n",
    "stats.chi2_contingency(SensDef_seizoen)"
   ]
  },
  {
   "cell_type": "code",
   "execution_count": 371,
   "metadata": {},
   "outputs": [
    {
     "data": {
      "text/plain": [
       "(1.6057301820944634,\n",
       " 0.6580912384031685,\n",
       " 3,\n",
       " array([[18.84324324, 23.32972973, 24.22702703, 16.6       ],\n",
       "        [23.15675676, 28.67027027, 29.77297297, 20.4       ]]))"
      ]
     },
     "execution_count": 371,
     "metadata": {},
     "output_type": "execute_result"
    }
   ],
   "source": [
    "SensDef_seizoen = pd.crosstab(df_A_Sens_deficits_w1['Sens_deficits_w1'], df_A_Sens_deficits_w1['Seizoen'])\n",
    "stats.chi2_contingency(SensDef_seizoen)"
   ]
  },
  {
   "cell_type": "code",
   "execution_count": 372,
   "metadata": {},
   "outputs": [
    {
     "data": {
      "text/plain": [
       "(0.5695477370963643,\n",
       " 0.9033669373112526,\n",
       " 3,\n",
       " array([[ 8.8372093 , 10.1627907 , 11.93023256,  7.06976744],\n",
       "        [11.1627907 , 12.8372093 , 15.06976744,  8.93023256]]))"
      ]
     },
     "execution_count": 372,
     "metadata": {},
     "output_type": "execute_result"
    }
   ],
   "source": [
    "SensDef_seizoen = pd.crosstab(df_B_Sens_deficits_w1['Sens_deficits_w1'], df_B_Sens_deficits_w1['Seizoen'])\n",
    "stats.chi2_contingency(SensDef_seizoen)"
   ]
  },
  {
   "cell_type": "code",
   "execution_count": 373,
   "metadata": {},
   "outputs": [
    {
     "data": {
      "text/plain": [
       "(0.7511077177216596,\n",
       " 0.8611220236959,\n",
       " 3,\n",
       " array([[ 75.5235792 ,  93.16082225, 116.22490931,  89.09068924],\n",
       "        [ 91.4764208 , 112.83917775, 140.77509069, 107.90931076]]))"
      ]
     },
     "execution_count": 373,
     "metadata": {},
     "output_type": "execute_result"
    }
   ],
   "source": [
    "SensDef_seizoen = pd.crosstab(df_C_Sens_deficits_w1['Sens_deficits_w1'], df_C_Sens_deficits_w1['Seizoen'])\n",
    "stats.chi2_contingency(SensDef_seizoen)"
   ]
  },
  {
   "cell_type": "code",
   "execution_count": 374,
   "metadata": {},
   "outputs": [
    {
     "data": {
      "text/plain": [
       "(1.6963994439926895,\n",
       " 0.6377345782094259,\n",
       " 3,\n",
       " array([[16.5862069 , 14.34482759, 20.17241379, 13.89655172],\n",
       "        [20.4137931 , 17.65517241, 24.82758621, 17.10344828]]))"
      ]
     },
     "execution_count": 374,
     "metadata": {},
     "output_type": "execute_result"
    }
   ],
   "source": [
    "SensDef_seizoen = pd.crosstab(df_D_Sens_deficits_w1['Sens_deficits_w1'], df_D_Sens_deficits_w1['Seizoen'])\n",
    "stats.chi2_contingency(SensDef_seizoen)"
   ]
  },
  {
   "cell_type": "code",
   "execution_count": null,
   "metadata": {},
   "outputs": [],
   "source": []
  },
  {
   "cell_type": "code",
   "execution_count": null,
   "metadata": {},
   "outputs": [],
   "source": []
  },
  {
   "cell_type": "markdown",
   "metadata": {},
   "source": [
    "Comorbidity_respiration"
   ]
  },
  {
   "cell_type": "code",
   "execution_count": 375,
   "metadata": {},
   "outputs": [
    {
     "name": "stdout",
     "output_type": "stream",
     "text": [
      "Seizoen                  Herfst  Lente  Winter  Zomer\n",
      "Comorbidity_respiration                              \n",
      "0.0                          40     55      52     37\n",
      "1.0                           7      3       4      6 \n",
      "\n",
      "Seizoen                  Herfst  Lente  Winter  Zomer\n",
      "Comorbidity_respiration                              \n",
      "0.0                          19     22      23     16\n",
      "1.0                           1      2       4      2 \n",
      "\n",
      "Seizoen                  Herfst  Lente  Winter  Zomer\n",
      "Comorbidity_respiration                              \n",
      "0.0                         154    205     251    195\n",
      "1.0                          21     13      18     13 \n",
      "\n",
      "Seizoen                  Herfst  Lente  Winter  Zomer\n",
      "Comorbidity_respiration                              \n",
      "0.0                          37     32      42     31\n",
      "1.0                           1      1       5      3 \n",
      "\n"
     ]
    }
   ],
   "source": [
    "for dateframe in dataframes_klimaat:\n",
    "    freq_table = pd.crosstab(dateframe['Comorbidity_respiration'], dateframe['Seizoen']) \n",
    "    print(freq_table, '\\n')"
   ]
  },
  {
   "cell_type": "markdown",
   "metadata": {},
   "source": [
    "Alleen voor klimaat C genoeg dus chi kwadraat voor C en hele dataset"
   ]
  },
  {
   "cell_type": "code",
   "execution_count": 376,
   "metadata": {},
   "outputs": [
    {
     "data": {
      "text/plain": [
       "(5.255695937662587,\n",
       " 0.15400318667644444,\n",
       " 3,\n",
       " array([[257.85551331, 306.66387833, 367.44410646, 279.0365019 ],\n",
       "        [ 22.14448669,  26.33612167,  31.55589354,  23.9634981 ]]))"
      ]
     },
     "execution_count": 376,
     "metadata": {},
     "output_type": "execute_result"
    }
   ],
   "source": [
    "ComRes_seizoen = pd.crosstab(df['Comorbidity_respiration'], df['Seizoen'])\n",
    "stats.chi2_contingency(ComRes_seizoen)"
   ]
  },
  {
   "cell_type": "code",
   "execution_count": 377,
   "metadata": {},
   "outputs": [
    {
     "data": {
      "text/plain": [
       "(6.594302083012695,\n",
       " 0.08601673833707718,\n",
       " 3,\n",
       " array([[161.92528736, 201.71264368, 248.90229885, 192.45977011],\n",
       "        [ 13.07471264,  16.28735632,  20.09770115,  15.54022989]]))"
      ]
     },
     "execution_count": 377,
     "metadata": {},
     "output_type": "execute_result"
    }
   ],
   "source": [
    "ComRes_seizoen = pd.crosstab(df_C['Comorbidity_respiration'], df_C['Seizoen'])\n",
    "stats.chi2_contingency(ComRes_seizoen)"
   ]
  },
  {
   "cell_type": "code",
   "execution_count": null,
   "metadata": {},
   "outputs": [],
   "source": []
  },
  {
   "cell_type": "markdown",
   "metadata": {},
   "source": [
    "#### Subset gemaakt met Surv_status vs Surv_days"
   ]
  },
  {
   "cell_type": "code",
   "execution_count": 378,
   "metadata": {},
   "outputs": [],
   "source": [
    "df['Surv_status'] = df['Surv_status'].replace({0: 'lost_to_follow_up', 1: 'in_staat_om_zelfstandig_te_lopen', 2: 'Overleden'})\n",
    "mean_surv_days = df['Surv_days'].groupby([df['Seizoen'], df['Surv_status']]).mean().reset_index()"
   ]
  },
  {
   "cell_type": "code",
   "execution_count": 379,
   "metadata": {},
   "outputs": [
    {
     "data": {
      "text/html": [
       "<div>\n",
       "<style scoped>\n",
       "    .dataframe tbody tr th:only-of-type {\n",
       "        vertical-align: middle;\n",
       "    }\n",
       "\n",
       "    .dataframe tbody tr th {\n",
       "        vertical-align: top;\n",
       "    }\n",
       "\n",
       "    .dataframe thead th {\n",
       "        text-align: right;\n",
       "    }\n",
       "</style>\n",
       "<table border=\"1\" class=\"dataframe\">\n",
       "  <thead>\n",
       "    <tr style=\"text-align: right;\">\n",
       "      <th></th>\n",
       "      <th>Seizoen</th>\n",
       "      <th>Surv_status</th>\n",
       "      <th>Surv_days</th>\n",
       "    </tr>\n",
       "  </thead>\n",
       "  <tbody>\n",
       "    <tr>\n",
       "      <th>0</th>\n",
       "      <td>Herfst</td>\n",
       "      <td>Overleden</td>\n",
       "      <td>68.000000</td>\n",
       "    </tr>\n",
       "    <tr>\n",
       "      <th>1</th>\n",
       "      <td>Herfst</td>\n",
       "      <td>in_staat_om_zelfstandig_te_lopen</td>\n",
       "      <td>75.183784</td>\n",
       "    </tr>\n",
       "    <tr>\n",
       "      <th>2</th>\n",
       "      <td>Herfst</td>\n",
       "      <td>lost_to_follow_up</td>\n",
       "      <td>367.093750</td>\n",
       "    </tr>\n",
       "    <tr>\n",
       "      <th>3</th>\n",
       "      <td>Lente</td>\n",
       "      <td>Overleden</td>\n",
       "      <td>108.363636</td>\n",
       "    </tr>\n",
       "    <tr>\n",
       "      <th>4</th>\n",
       "      <td>Lente</td>\n",
       "      <td>in_staat_om_zelfstandig_te_lopen</td>\n",
       "      <td>92.548077</td>\n",
       "    </tr>\n",
       "    <tr>\n",
       "      <th>5</th>\n",
       "      <td>Lente</td>\n",
       "      <td>lost_to_follow_up</td>\n",
       "      <td>235.372093</td>\n",
       "    </tr>\n",
       "    <tr>\n",
       "      <th>6</th>\n",
       "      <td>Winter</td>\n",
       "      <td>Overleden</td>\n",
       "      <td>92.538462</td>\n",
       "    </tr>\n",
       "    <tr>\n",
       "      <th>7</th>\n",
       "      <td>Winter</td>\n",
       "      <td>in_staat_om_zelfstandig_te_lopen</td>\n",
       "      <td>81.393939</td>\n",
       "    </tr>\n",
       "    <tr>\n",
       "      <th>8</th>\n",
       "      <td>Winter</td>\n",
       "      <td>lost_to_follow_up</td>\n",
       "      <td>223.980769</td>\n",
       "    </tr>\n",
       "    <tr>\n",
       "      <th>9</th>\n",
       "      <td>Zomer</td>\n",
       "      <td>Overleden</td>\n",
       "      <td>169.307692</td>\n",
       "    </tr>\n",
       "    <tr>\n",
       "      <th>10</th>\n",
       "      <td>Zomer</td>\n",
       "      <td>in_staat_om_zelfstandig_te_lopen</td>\n",
       "      <td>80.224044</td>\n",
       "    </tr>\n",
       "    <tr>\n",
       "      <th>11</th>\n",
       "      <td>Zomer</td>\n",
       "      <td>lost_to_follow_up</td>\n",
       "      <td>262.235294</td>\n",
       "    </tr>\n",
       "  </tbody>\n",
       "</table>\n",
       "</div>"
      ],
      "text/plain": [
       "   Seizoen                       Surv_status   Surv_days\n",
       "0   Herfst                         Overleden   68.000000\n",
       "1   Herfst  in_staat_om_zelfstandig_te_lopen   75.183784\n",
       "2   Herfst                 lost_to_follow_up  367.093750\n",
       "3    Lente                         Overleden  108.363636\n",
       "4    Lente  in_staat_om_zelfstandig_te_lopen   92.548077\n",
       "5    Lente                 lost_to_follow_up  235.372093\n",
       "6   Winter                         Overleden   92.538462\n",
       "7   Winter  in_staat_om_zelfstandig_te_lopen   81.393939\n",
       "8   Winter                 lost_to_follow_up  223.980769\n",
       "9    Zomer                         Overleden  169.307692\n",
       "10   Zomer  in_staat_om_zelfstandig_te_lopen   80.224044\n",
       "11   Zomer                 lost_to_follow_up  262.235294"
      ]
     },
     "execution_count": 379,
     "metadata": {},
     "output_type": "execute_result"
    }
   ],
   "source": [
    "mean_surv_days"
   ]
  },
  {
   "cell_type": "code",
   "execution_count": null,
   "metadata": {},
   "outputs": [
    {
     "data": {
      "text/plain": [
       "Text(0, 0.5, 'Aantal patient')"
      ]
     },
     "execution_count": 442,
     "metadata": {},
     "output_type": "execute_result"
    },
    {
     "data": {
      "image/png": "[encoded data removed]",
      "text/plain": [
       "<Figure size 432x288 with 1 Axes>"
      ]
     },
     "metadata": {
      "needs_background": "light"
     },
     "output_type": "display_data"
    }
   ],
   "source": [
    "sns.barplot(data = mean_surv_days, y='Surv_days', x=\"Seizoen\", hue = 'Surv_status',\n",
    "            hue_order = ['lost_to_follow_up','in_staat_om_zelfstandig_te_lopen','Overleden'],\n",
    "            order = ['Lente','Zomer','Herfst','Winter'],\n",
    "            palette='Set2')\n",
    "plt.title('Verdeling van patient per Surv_status per seizoen')\n",
    "plt.xlabel('Seizoenen')\n",
    "plt.ylabel('Aantal patient')"
   ]
  },
  {
   "cell_type": "code",
   "execution_count": 458,
   "metadata": {},
   "outputs": [
    {
     "data": {
      "image/png": "[encoded data removed]",
      "text/plain": [
       "<Figure size 1080x360 with 3 Axes>"
      ]
     },
     "metadata": {
      "needs_background": "light"
     },
     "output_type": "display_data"
    }
   ],
   "source": [
    "plot = sns.catplot(data=mean_surv_days, kind='bar', x='Seizoen', y='Surv_days', \n",
    "            col='Surv_status', hue='Seizoen', \n",
    "            order=['Lente', 'Zomer', 'Herfst', 'Winter'],\n",
    "            col_order = ['lost_to_follow_up','in_staat_om_zelfstandig_te_lopen','Overleden'],\n",
    "            palette='Set2')\n",
    "\n",
    "plot.set_titles('Survival Status: {col_name}')\n",
    "plt.suptitle('Verdeling van survival Status per seizoen', y=1.05) \n",
    "plot.set_axis_labels('Seizoenen', 'Aantal patient')\n",
    "\n",
    "plt.show()"
   ]
  },
  {
   "cell_type": "code",
   "execution_count": 382,
   "metadata": {},
   "outputs": [],
   "source": [
    "lost_to_follow_up = df[df['Surv_status'] == 'lost_to_follow_up']\n",
    "in_staat_om_zelfstandig_te_lopen = df[df['Surv_status'] == 'in_staat_om_zelfstandig_te_lopen']\n",
    "overleden = df[df['Surv_status'] == 'Overleden']"
   ]
  },
  {
   "cell_type": "code",
   "execution_count": 383,
   "metadata": {},
   "outputs": [
    {
     "name": "stdout",
     "output_type": "stream",
     "text": [
      "                  sum_sq     df         F   PR(>F)\n",
      "C(Seizoen)  4.587000e+05    3.0  1.326951  0.26761\n",
      "Residual    1.809057e+07  157.0       NaN      NaN\n"
     ]
    }
   ],
   "source": [
    "lost_to_follow_up = lost_to_follow_up[['Surv_days', 'Seizoen','klimaat']]\n",
    "model_3 = ols('Surv_days ~ C(Seizoen)', data=lost_to_follow_up).fit()\n",
    "anova_table = sm.stats.anova_lm(model_3, typ=2)\n",
    "print(anova_table)"
   ]
  },
  {
   "cell_type": "code",
   "execution_count": 384,
   "metadata": {},
   "outputs": [
    {
     "name": "stdout",
     "output_type": "stream",
     "text": [
      "ShapiroResult(statistic=0.7674040794372559, pvalue=1.0602794209562012e-14)\n"
     ]
    },
    {
     "data": {
      "image/png": "[encoded data removed]",
      "text/plain": [
       "<Figure size 432x288 with 1 Axes>"
      ]
     },
     "metadata": {
      "needs_background": "light"
     },
     "output_type": "display_data"
    }
   ],
   "source": [
    "residuen = model_3.resid\n",
    "print(stats.shapiro(residuen))\n",
    "\n",
    "sm.qqplot(residuen, line = 's' )\n",
    "plt.title('QQ-plot van de reisduen')\n",
    "plt.show()"
   ]
  },
  {
   "cell_type": "markdown",
   "metadata": {},
   "source": [
    "##### Niet voldoen aan normaliteit, dus pairwise t-toets"
   ]
  },
  {
   "cell_type": "code",
   "execution_count": 385,
   "metadata": {},
   "outputs": [],
   "source": [
    "lente_status_0 = lost_to_follow_up[lost_to_follow_up['Seizoen'] == 'Lente']\n",
    "lente_status_0 = lente_status_0['Surv_days'].dropna()\n",
    "\n",
    "zomer_status_0 = lost_to_follow_up[lost_to_follow_up['Seizoen'] == 'Zomer']\n",
    "zomer_status_0 = zomer_status_0['Surv_days'].dropna()\n",
    "\n",
    "herfst_status_0  = lost_to_follow_up[lost_to_follow_up['Seizoen'] == 'Herfst']\n",
    "herfst_status_0  = herfst_status_0 ['Surv_days'].dropna()\n",
    "\n",
    "winter_status_0  = lost_to_follow_up[lost_to_follow_up['Seizoen'] == 'Winter']\n",
    "winter_status_0  = winter_status_0 ['Surv_days'].dropna()"
   ]
  },
  {
   "cell_type": "code",
   "execution_count": 386,
   "metadata": {},
   "outputs": [
    {
     "name": "stdout",
     "output_type": "stream",
     "text": [
      "t-toets op groepen lente_status_0  en zomer_status_0 : Ttest_indResult(statistic=-0.3554877160646544, pvalue=0.7232221105333847)\n",
      "t-toets op groepen lente_status_0  en herfst_status_0 : Ttest_indResult(statistic=-1.546866604338499, pvalue=0.12621995304865438)\n",
      "t-toets op groepen lente_status_0  en winter_status_0 : Ttest_indResult(statistic=0.1722613894480457, pvalue=0.8636063521371962)\n",
      "t-toets op groepen zomer_status_0  en herfst_status_0 : Ttest_indResult(statistic=-1.166952195095853, pvalue=0.24755937792514315)\n",
      "t-toets op groepen zomer_status_0  en winter_status_0 : Ttest_indResult(statistic=0.5491838661129114, pvalue=0.584336272654684)\n",
      "t-toets op groepen herfst_status_0  en winter_status_0 : Ttest_indResult(statistic=1.8277596277170225, pvalue=0.07122289216338502)\n"
     ]
    }
   ],
   "source": [
    "print('t-toets op groepen lente_status_0  en zomer_status_0 :' , stats.ttest_ind(lente_status_0 ,zomer_status_0 ))\n",
    "print('t-toets op groepen lente_status_0  en herfst_status_0 :' ,stats.ttest_ind(lente_status_0 ,herfst_status_0 ))\n",
    "print('t-toets op groepen lente_status_0  en winter_status_0 :' ,stats.ttest_ind(lente_status_0 ,winter_status_0 ))\n",
    "print('t-toets op groepen zomer_status_0  en herfst_status_0 :' ,stats.ttest_ind(zomer_status_0 ,herfst_status_0 ))\n",
    "print('t-toets op groepen zomer_status_0  en winter_status_0 :' ,stats.ttest_ind(zomer_status_0 ,winter_status_0 ))\n",
    "print('t-toets op groepen herfst_status_0  en winter_status_0 :' ,stats.ttest_ind(herfst_status_0 ,winter_status_0 ))"
   ]
  },
  {
   "cell_type": "code",
   "execution_count": 387,
   "metadata": {},
   "outputs": [
    {
     "data": {
      "text/plain": [
       "klimaat    Seizoen\n",
       "A Klimaat  Lente      15\n",
       "           Winter     13\n",
       "           Herfst     11\n",
       "           Zomer      11\n",
       "B Klimaat  Lente      11\n",
       "           Zomer      10\n",
       "           Herfst      7\n",
       "           Winter      7\n",
       "C Klimaat  Winter     90\n",
       "           Zomer      81\n",
       "           Lente      73\n",
       "           Herfst     52\n",
       "D Klimaat  Lente      15\n",
       "           Winter     15\n",
       "           Herfst     14\n",
       "           Zomer       5\n",
       "Name: Seizoen, dtype: int64"
      ]
     },
     "execution_count": 387,
     "metadata": {},
     "output_type": "execute_result"
    }
   ],
   "source": [
    "lost_to_follow_up['Seizoen'].groupby(lost_to_follow_up['klimaat']).value_counts()"
   ]
  },
  {
   "cell_type": "markdown",
   "metadata": {},
   "source": [
    "klimaat A"
   ]
  },
  {
   "cell_type": "code",
   "execution_count": 388,
   "metadata": {},
   "outputs": [],
   "source": [
    "lente_status_0 = lost_to_follow_up[lost_to_follow_up['Seizoen'] == 'Lente']\n",
    "lente_status_0_A = lente_status_0[lente_status_0['klimaat'] == 'A Klimaat']\n",
    "lente_status_0_A = lente_status_0_A['Surv_days'].dropna()\n",
    "\n",
    "zomer_status_0 = lost_to_follow_up[lost_to_follow_up['Seizoen'] == 'Zomer']\n",
    "zomer_status_0_A = zomer_status_0[zomer_status_0['klimaat'] == 'A Klimaat']\n",
    "zomer_status_0_A = zomer_status_0_A['Surv_days'].dropna()\n",
    "\n",
    "herfst_status_0  = lost_to_follow_up[lost_to_follow_up['Seizoen'] == 'Herfst']\n",
    "herfst_status_0_A = herfst_status_0[herfst_status_0['klimaat'] == 'A Klimaat']\n",
    "herfst_status_0_A  = herfst_status_0_A ['Surv_days'].dropna()\n",
    "\n",
    "winter_status_0  = lost_to_follow_up[lost_to_follow_up['Seizoen'] == 'Winter']\n",
    "winter_status_0_A = winter_status_0[winter_status_0['klimaat'] == 'A Klimaat']\n",
    "winter_status_0_A  = winter_status_0_A ['Surv_days'].dropna()"
   ]
  },
  {
   "cell_type": "code",
   "execution_count": 389,
   "metadata": {},
   "outputs": [
    {
     "name": "stdout",
     "output_type": "stream",
     "text": [
      "t-toets op groepen lente_status_0_A  en zomer_status_0_A : Ttest_indResult(statistic=-0.6748686979543076, pvalue=0.5115838270592856)\n",
      "t-toets op groepen lente_status_0_A  en herfst_status_0_A : Ttest_indResult(statistic=0.3359352108648631, pvalue=0.7438618068953448)\n",
      "t-toets op groepen lente_status_0_A  en winter_status_0_A : Ttest_indResult(statistic=-0.5860141605633883, pvalue=0.5671942383217969)\n",
      "t-toets op groepen zomer_status_0_A  en herfst_status_0_A : Ttest_indResult(statistic=0.9834344130726307, pvalue=0.34653006692857347)\n",
      "t-toets op groepen zomer_status_0_A  en winter_status_0_A : Ttest_indResult(statistic=0.08122299086236627, pvalue=0.936338468388922)\n",
      "t-toets op groepen herfst_status_0_A  en winter_status_0_A : Ttest_indResult(statistic=-0.8778046987242003, pvalue=0.3972845198431102)\n"
     ]
    }
   ],
   "source": [
    "print('t-toets op groepen lente_status_0_A  en zomer_status_0_A :' , stats.ttest_ind(lente_status_0_A ,zomer_status_0_A ))\n",
    "print('t-toets op groepen lente_status_0_A  en herfst_status_0_A :' ,stats.ttest_ind(lente_status_0_A ,herfst_status_0_A ))\n",
    "print('t-toets op groepen lente_status_0_A  en winter_status_0_A :' ,stats.ttest_ind(lente_status_0_A ,winter_status_0_A ))\n",
    "print('t-toets op groepen zomer_status_0_A  en herfst_status_0_A :' ,stats.ttest_ind(zomer_status_0_A ,herfst_status_0_A ))\n",
    "print('t-toets op groepen zomer_status_0_A  en winter_status_0_A :' ,stats.ttest_ind(zomer_status_0_A ,winter_status_0_A ))\n",
    "print('t-toets op groepen herfst_status_0_A  en winter_status_0_A :' ,stats.ttest_ind(herfst_status_0_A ,winter_status_0_A ))"
   ]
  },
  {
   "cell_type": "markdown",
   "metadata": {},
   "source": [
    "klimaat B"
   ]
  },
  {
   "cell_type": "code",
   "execution_count": 390,
   "metadata": {},
   "outputs": [],
   "source": [
    "lente_status_0 = lost_to_follow_up[lost_to_follow_up['Seizoen'] == 'Lente']\n",
    "lente_status_0_B = lente_status_0[lente_status_0['klimaat'] == 'B Klimaat']\n",
    "lente_status_0_B = lente_status_0_B['Surv_days'].dropna()\n",
    "\n",
    "zomer_status_0 = lost_to_follow_up[lost_to_follow_up['Seizoen'] == 'Zomer']\n",
    "zomer_status_0_B = zomer_status_0[zomer_status_0['klimaat'] == 'B Klimaat']\n",
    "zomer_status_0_B = zomer_status_0_B['Surv_days'].dropna()\n",
    "\n",
    "herfst_status_0 = lost_to_follow_up[lost_to_follow_up['Seizoen'] == 'Herfst']\n",
    "herfst_status_0_B = herfst_status_0[herfst_status_0['klimaat'] == 'B Klimaat']\n",
    "herfst_status_0_B = herfst_status_0_B['Surv_days'].dropna()\n",
    "\n",
    "winter_status_0 = lost_to_follow_up[lost_to_follow_up['Seizoen'] == 'Winter']\n",
    "winter_status_0_B = winter_status_0[winter_status_0['klimaat'] == 'B Klimaat']\n",
    "winter_status_0_B = winter_status_0_B['Surv_days'].dropna()\n"
   ]
  },
  {
   "cell_type": "code",
   "execution_count": 391,
   "metadata": {},
   "outputs": [
    {
     "name": "stdout",
     "output_type": "stream",
     "text": [
      "t-toets op groepen lente_status_0_B en zomer_status_0_B : Ttest_indResult(statistic=nan, pvalue=nan)\n",
      "t-toets op groepen lente_status_0_B en herfst_status_0_B : Ttest_indResult(statistic=-0.9547976439952003, pvalue=0.4101187525754582)\n",
      "t-toets op groepen lente_status_0_B en winter_status_0_B : Ttest_indResult(statistic=-0.8834272842888145, pvalue=0.4269050179353795)\n",
      "t-toets op groepen zomer_status_0_B en herfst_status_0_B : Ttest_indResult(statistic=nan, pvalue=nan)\n",
      "t-toets op groepen zomer_status_0_B en winter_status_0_B : Ttest_indResult(statistic=nan, pvalue=nan)\n",
      "t-toets op groepen herfst_status_0_B en winter_status_0_B : Ttest_indResult(statistic=-0.21310127719051136, pvalue=0.8396642556791933)\n"
     ]
    },
    {
     "name": "stderr",
     "output_type": "stream",
     "text": [
      "c:\\Users\\Chong\\anaconda3\\lib\\site-packages\\numpy\\core\\fromnumeric.py:3723: RuntimeWarning: Degrees of freedom <= 0 for slice\n",
      "  return _methods._var(a, axis=axis, dtype=dtype, out=out, ddof=ddof,\n",
      "c:\\Users\\Chong\\anaconda3\\lib\\site-packages\\numpy\\core\\_methods.py:254: RuntimeWarning: invalid value encountered in double_scalars\n",
      "  ret = ret.dtype.type(ret / rcount)\n"
     ]
    }
   ],
   "source": [
    "print('t-toets op groepen lente_status_0_B en zomer_status_0_B :' , stats.ttest_ind(lente_status_0_B, zomer_status_0_B))\n",
    "print('t-toets op groepen lente_status_0_B en herfst_status_0_B :' , stats.ttest_ind(lente_status_0_B, herfst_status_0_B))\n",
    "print('t-toets op groepen lente_status_0_B en winter_status_0_B :' , stats.ttest_ind(lente_status_0_B, winter_status_0_B))\n",
    "print('t-toets op groepen zomer_status_0_B en herfst_status_0_B :' , stats.ttest_ind(zomer_status_0_B, herfst_status_0_B))\n",
    "print('t-toets op groepen zomer_status_0_B en winter_status_0_B :' , stats.ttest_ind(zomer_status_0_B, winter_status_0_B))\n",
    "print('t-toets op groepen herfst_status_0_B en winter_status_0_B :' , stats.ttest_ind(herfst_status_0_B, winter_status_0_B))\n"
   ]
  },
  {
   "cell_type": "markdown",
   "metadata": {},
   "source": [
    "Klimaat C"
   ]
  },
  {
   "cell_type": "code",
   "execution_count": 392,
   "metadata": {},
   "outputs": [],
   "source": [
    "lente_status_0 = lost_to_follow_up[lost_to_follow_up['Seizoen'] == 'Lente']\n",
    "lente_status_0_C = lente_status_0[lente_status_0['klimaat'] == 'C Klimaat']\n",
    "lente_status_0_C = lente_status_0_C['Surv_days'].dropna()\n",
    "\n",
    "zomer_status_0 = lost_to_follow_up[lost_to_follow_up['Seizoen'] == 'Zomer']\n",
    "zomer_status_0_C = zomer_status_0[zomer_status_0['klimaat'] == 'C Klimaat']\n",
    "zomer_status_0_C = zomer_status_0_C['Surv_days'].dropna()\n",
    "\n",
    "herfst_status_0 = lost_to_follow_up[lost_to_follow_up['Seizoen'] == 'Herfst']\n",
    "herfst_status_0_C = herfst_status_0[herfst_status_0['klimaat'] == 'C Klimaat']\n",
    "herfst_status_0_C = herfst_status_0_C['Surv_days'].dropna()\n",
    "\n",
    "winter_status_0 = lost_to_follow_up[lost_to_follow_up['Seizoen'] == 'Winter']\n",
    "winter_status_0_C = winter_status_0[winter_status_0['klimaat'] == 'C Klimaat']\n",
    "winter_status_0_C = winter_status_0_C['Surv_days'].dropna()\n"
   ]
  },
  {
   "cell_type": "code",
   "execution_count": 393,
   "metadata": {},
   "outputs": [
    {
     "name": "stdout",
     "output_type": "stream",
     "text": [
      "t-toets op groepen lente_status_0_C en zomer_status_0_C : Ttest_indResult(statistic=-0.0378171810438573, pvalue=0.9699840349955648)\n",
      "t-toets op groepen lente_status_0_C en herfst_status_0_C : Ttest_indResult(statistic=-1.487937575901321, pvalue=0.14374194084216754)\n",
      "t-toets op groepen lente_status_0_C en winter_status_0_C : Ttest_indResult(statistic=1.0667849495580723, pvalue=0.29056662091248286)\n",
      "t-toets op groepen zomer_status_0_C en herfst_status_0_C : Ttest_indResult(statistic=-1.4356354768552733, pvalue=0.15869195117885884)\n",
      "t-toets op groepen zomer_status_0_C en winter_status_0_C : Ttest_indResult(statistic=1.1048029983235068, pvalue=0.27423536409307)\n",
      "t-toets op groepen herfst_status_0_C en winter_status_0_C : Ttest_indResult(statistic=2.571199982949284, pvalue=0.013289008831980078)\n"
     ]
    }
   ],
   "source": [
    "print('t-toets op groepen lente_status_0_C en zomer_status_0_C :' , stats.ttest_ind(lente_status_0_C, zomer_status_0_C))\n",
    "print('t-toets op groepen lente_status_0_C en herfst_status_0_C :' , stats.ttest_ind(lente_status_0_C, herfst_status_0_C))\n",
    "print('t-toets op groepen lente_status_0_C en winter_status_0_C :' , stats.ttest_ind(lente_status_0_C, winter_status_0_C))\n",
    "print('t-toets op groepen zomer_status_0_C en herfst_status_0_C :' , stats.ttest_ind(zomer_status_0_C, herfst_status_0_C))\n",
    "print('t-toets op groepen zomer_status_0_C en winter_status_0_C :' , stats.ttest_ind(zomer_status_0_C, winter_status_0_C))\n",
    "print('t-toets op groepen herfst_status_0_C en winter_status_0_C :' , stats.ttest_ind(herfst_status_0_C, winter_status_0_C))\n"
   ]
  },
  {
   "cell_type": "markdown",
   "metadata": {},
   "source": [
    "Klimaat D"
   ]
  },
  {
   "cell_type": "code",
   "execution_count": 394,
   "metadata": {},
   "outputs": [],
   "source": [
    "lente_status_0 = lost_to_follow_up[lost_to_follow_up['Seizoen'] == 'Lente']\n",
    "lente_status_0_D = lente_status_0[lente_status_0['klimaat'] == 'D Klimaat']\n",
    "lente_status_0_D = lente_status_0_D['Surv_days'].dropna()\n",
    "\n",
    "zomer_status_0 = lost_to_follow_up[lost_to_follow_up['Seizoen'] == 'Zomer']\n",
    "zomer_status_0_D = zomer_status_0[zomer_status_0['klimaat'] == 'D Klimaat']\n",
    "zomer_status_0_D = zomer_status_0_D['Surv_days'].dropna()\n",
    "\n",
    "herfst_status_0 = lost_to_follow_up[lost_to_follow_up['Seizoen'] == 'Herfst']\n",
    "herfst_status_0_D = herfst_status_0[herfst_status_0['klimaat'] == 'D Klimaat']\n",
    "herfst_status_0_D = herfst_status_0_D['Surv_days'].dropna()\n",
    "\n",
    "winter_status_0 = lost_to_follow_up[lost_to_follow_up['Seizoen'] == 'Winter']\n",
    "winter_status_0_D = winter_status_0[winter_status_0['klimaat'] == 'D Klimaat']\n",
    "winter_status_0_D = winter_status_0_D['Surv_days'].dropna()\n"
   ]
  },
  {
   "cell_type": "code",
   "execution_count": 395,
   "metadata": {},
   "outputs": [
    {
     "name": "stdout",
     "output_type": "stream",
     "text": [
      "t-toets op groepen lente_status_0_D en zomer_status_0_D : Ttest_indResult(statistic=nan, pvalue=nan)\n",
      "t-toets op groepen lente_status_0_D en herfst_status_0_D : Ttest_indResult(statistic=-1.0734864531274158, pvalue=0.3109906518135099)\n",
      "t-toets op groepen lente_status_0_D en winter_status_0_D : Ttest_indResult(statistic=-1.0637480443689242, pvalue=0.30838064318938596)\n",
      "t-toets op groepen zomer_status_0_D en herfst_status_0_D : Ttest_indResult(statistic=nan, pvalue=nan)\n",
      "t-toets op groepen zomer_status_0_D en winter_status_0_D : Ttest_indResult(statistic=nan, pvalue=nan)\n",
      "t-toets op groepen herfst_status_0_D en winter_status_0_D : Ttest_indResult(statistic=-0.4048008484692521, pvalue=0.6933843543093168)\n"
     ]
    }
   ],
   "source": [
    "print('t-toets op groepen lente_status_0_D en zomer_status_0_D :' , stats.ttest_ind(lente_status_0_D, zomer_status_0_D))\n",
    "print('t-toets op groepen lente_status_0_D en herfst_status_0_D :' , stats.ttest_ind(lente_status_0_D, herfst_status_0_D))\n",
    "print('t-toets op groepen lente_status_0_D en winter_status_0_D :' , stats.ttest_ind(lente_status_0_D, winter_status_0_D))\n",
    "print('t-toets op groepen zomer_status_0_D en herfst_status_0_D :' , stats.ttest_ind(zomer_status_0_D, herfst_status_0_D))\n",
    "print('t-toets op groepen zomer_status_0_D en winter_status_0_D :' , stats.ttest_ind(zomer_status_0_D, winter_status_0_D))\n",
    "print('t-toets op groepen herfst_status_0_D en winter_status_0_D :' , stats.ttest_ind(herfst_status_0_D, winter_status_0_D))\n"
   ]
  },
  {
   "cell_type": "markdown",
   "metadata": {},
   "source": [
    "#### in_staat_om_zelfstandig_te_lopen"
   ]
  },
  {
   "cell_type": "code",
   "execution_count": 396,
   "metadata": {},
   "outputs": [
    {
     "name": "stdout",
     "output_type": "stream",
     "text": [
      "                  sum_sq     df         F    PR(>F)\n",
      "C(Seizoen)  3.217295e+04    3.0  0.732256  0.532895\n",
      "Residual    1.224371e+07  836.0       NaN       NaN\n"
     ]
    }
   ],
   "source": [
    "in_staat_om_zelfstandig_te_lopen = in_staat_om_zelfstandig_te_lopen[['Surv_days', 'Seizoen','klimaat']]\n",
    "model_4 = ols('Surv_days ~ C(Seizoen)', data=in_staat_om_zelfstandig_te_lopen).fit()\n",
    "anova_table = sm.stats.anova_lm(model_4, typ=2)\n",
    "print(anova_table)"
   ]
  },
  {
   "cell_type": "code",
   "execution_count": 397,
   "metadata": {},
   "outputs": [
    {
     "name": "stdout",
     "output_type": "stream",
     "text": [
      "ShapiroResult(statistic=0.616007924079895, pvalue=1.502127494026845e-39)\n"
     ]
    },
    {
     "data": {
      "image/png": "[encoded data removed]",
      "text/plain": [
       "<Figure size 432x288 with 1 Axes>"
      ]
     },
     "metadata": {
      "needs_background": "light"
     },
     "output_type": "display_data"
    }
   ],
   "source": [
    "residuen = model_4.resid\n",
    "print(stats.shapiro(residuen))\n",
    "\n",
    "sm.qqplot(residuen, line = 's' )\n",
    "plt.title('QQ-plot van de reisduen')\n",
    "plt.show()"
   ]
  },
  {
   "cell_type": "code",
   "execution_count": 398,
   "metadata": {},
   "outputs": [],
   "source": [
    "lente_status_1 = in_staat_om_zelfstandig_te_lopen[in_staat_om_zelfstandig_te_lopen['Seizoen'] == 'Lente']\n",
    "lente_status_1 = lente_status_1['Surv_days'].dropna()\n",
    "\n",
    "zomer_status_1 = in_staat_om_zelfstandig_te_lopen[in_staat_om_zelfstandig_te_lopen['Seizoen'] == 'Zomer']\n",
    "zomer_status_1 = zomer_status_1['Surv_days'].dropna()\n",
    "\n",
    "herfst_status_1 = in_staat_om_zelfstandig_te_lopen[in_staat_om_zelfstandig_te_lopen['Seizoen'] == 'Herfst']\n",
    "herfst_status_1 = herfst_status_1['Surv_days'].dropna()\n",
    "\n",
    "winter_status_1 = in_staat_om_zelfstandig_te_lopen[in_staat_om_zelfstandig_te_lopen['Seizoen'] == 'Winter']\n",
    "winter_status_1 = winter_status_1['Surv_days'].dropna()"
   ]
  },
  {
   "cell_type": "code",
   "execution_count": 399,
   "metadata": {},
   "outputs": [
    {
     "name": "stdout",
     "output_type": "stream",
     "text": [
      "t-toets op groepen lente_status_1 en zomer_status_1: Ttest_indResult(statistic=0.9309451361840685, pvalue=0.3524593246228853)\n",
      "t-toets op groepen lente_status_1 en herfst_status_1: Ttest_indResult(statistic=1.35939875455261, pvalue=0.1748037391153721)\n",
      "t-toets op groepen lente_status_1 en winter_status_1: Ttest_indResult(statistic=0.9478965351362599, pvalue=0.3436692361400242)\n",
      "t-toets op groepen zomer_status_1 en herfst_status_1: Ttest_indResult(statistic=0.4278708128642892, pvalue=0.6689968275371428)\n",
      "t-toets op groepen zomer_status_1 en winter_status_1: Ttest_indResult(statistic=-0.10476778224231127, pvalue=0.9166072797188809)\n",
      "t-toets op groepen herfst_status_1 en winter_status_1: Ttest_indResult(statistic=-0.5782968021569393, pvalue=0.5633549829099378)\n"
     ]
    }
   ],
   "source": [
    "print('t-toets op groepen lente_status_1 en zomer_status_1:' , stats.ttest_ind(lente_status_1,zomer_status_1))\n",
    "print('t-toets op groepen lente_status_1 en herfst_status_1:' ,stats.ttest_ind(lente_status_1,herfst_status_1))\n",
    "print('t-toets op groepen lente_status_1 en winter_status_1:' ,stats.ttest_ind(lente_status_1,winter_status_1))\n",
    "print('t-toets op groepen zomer_status_1 en herfst_status_1:' ,stats.ttest_ind(zomer_status_1,herfst_status_1))\n",
    "print('t-toets op groepen zomer_status_1 en winter_status_1:' ,stats.ttest_ind(zomer_status_1,winter_status_1))\n",
    "print('t-toets op groepen herfst_status_1 en winter_status_1:' ,stats.ttest_ind(herfst_status_1,winter_status_1))"
   ]
  },
  {
   "cell_type": "code",
   "execution_count": 400,
   "metadata": {},
   "outputs": [
    {
     "data": {
      "text/plain": [
       "klimaat    Seizoen\n",
       "A Klimaat  Lente       43\n",
       "           Winter      42\n",
       "           Herfst      33\n",
       "           Zomer       29\n",
       "B Klimaat  Winter      19\n",
       "           Lente       13\n",
       "           Herfst      12\n",
       "           Zomer        8\n",
       "C Klimaat  Winter     171\n",
       "           Lente      135\n",
       "           Zomer      119\n",
       "           Herfst     116\n",
       "D Klimaat  Winter      32\n",
       "           Zomer       27\n",
       "           Herfst      24\n",
       "           Lente       17\n",
       "Name: Seizoen, dtype: int64"
      ]
     },
     "execution_count": 400,
     "metadata": {},
     "output_type": "execute_result"
    }
   ],
   "source": [
    "in_staat_om_zelfstandig_te_lopen['Seizoen'].groupby(in_staat_om_zelfstandig_te_lopen['klimaat']).value_counts()"
   ]
  },
  {
   "cell_type": "markdown",
   "metadata": {},
   "source": [
    "klimaat A"
   ]
  },
  {
   "cell_type": "code",
   "execution_count": 401,
   "metadata": {},
   "outputs": [],
   "source": [
    "lente_status_1 = in_staat_om_zelfstandig_te_lopen[in_staat_om_zelfstandig_te_lopen['Seizoen'] == 'Lente']\n",
    "lente_status_1_A = lente_status_1[lente_status_1['klimaat'] == 'A Klimaat']\n",
    "lente_status_1_A = lente_status_1_A['Surv_days'].dropna()\n",
    "\n",
    "zomer_status_1 = in_staat_om_zelfstandig_te_lopen[in_staat_om_zelfstandig_te_lopen['Seizoen'] == 'Zomer']\n",
    "zomer_status_1_A = zomer_status_1[zomer_status_1['klimaat'] == 'A Klimaat']\n",
    "zomer_status_1_A = zomer_status_1_A['Surv_days'].dropna()\n",
    "\n",
    "herfst_status_1  = in_staat_om_zelfstandig_te_lopen[in_staat_om_zelfstandig_te_lopen['Seizoen'] == 'Herfst']\n",
    "herfst_status_1_A = herfst_status_1[herfst_status_1['klimaat'] == 'A Klimaat']\n",
    "herfst_status_1_A  = herfst_status_1_A ['Surv_days'].dropna()\n",
    "\n",
    "winter_status_1  = in_staat_om_zelfstandig_te_lopen[in_staat_om_zelfstandig_te_lopen['Seizoen'] == 'Winter']\n",
    "winter_status_1_A = winter_status_1[winter_status_1['klimaat'] == 'A Klimaat']\n",
    "winter_status_1_A  = winter_status_1_A ['Surv_days'].dropna()"
   ]
  },
  {
   "cell_type": "code",
   "execution_count": 402,
   "metadata": {},
   "outputs": [
    {
     "name": "stdout",
     "output_type": "stream",
     "text": [
      "t-toets op groepen lente_status_1_A  en zomer_status_1_A : Ttest_indResult(statistic=0.4149223438517319, pvalue=0.6794677037964896)\n",
      "t-toets op groepen lente_status_1_A  en herfst_status_1_A : Ttest_indResult(statistic=-0.4457630172155645, pvalue=0.657069922698506)\n",
      "t-toets op groepen lente_status_1_A  en winter_status_1_A : Ttest_indResult(statistic=1.3015953660825346, pvalue=0.19665589423796484)\n",
      "t-toets op groepen zomer_status_1_A  en herfst_status_1_A : Ttest_indResult(statistic=-0.6999997490806925, pvalue=0.48663282055646573)\n",
      "t-toets op groepen zomer_status_1_A  en winter_status_1_A : Ttest_indResult(statistic=0.6161398926527474, pvalue=0.5398295696597105)\n",
      "t-toets op groepen herfst_status_1_A  en winter_status_1_A : Ttest_indResult(statistic=1.4980262851707389, pvalue=0.13843830164807358)\n"
     ]
    }
   ],
   "source": [
    "print('t-toets op groepen lente_status_1_A  en zomer_status_1_A :' , stats.ttest_ind(lente_status_1_A ,zomer_status_1_A ))\n",
    "print('t-toets op groepen lente_status_1_A  en herfst_status_1_A :' ,stats.ttest_ind(lente_status_1_A ,herfst_status_1_A ))\n",
    "print('t-toets op groepen lente_status_1_A  en winter_status_1_A :' ,stats.ttest_ind(lente_status_1_A ,winter_status_1_A ))\n",
    "print('t-toets op groepen zomer_status_1_A  en herfst_status_1_A :' ,stats.ttest_ind(zomer_status_1_A ,herfst_status_1_A ))\n",
    "print('t-toets op groepen zomer_status_1_A  en winter_status_1_A :' ,stats.ttest_ind(zomer_status_1_A ,winter_status_1_A ))\n",
    "print('t-toets op groepen herfst_status_1_A  en winter_status_1_A :' ,stats.ttest_ind(herfst_status_1_A ,winter_status_1_A ))"
   ]
  },
  {
   "cell_type": "markdown",
   "metadata": {},
   "source": [
    "klimaat B"
   ]
  },
  {
   "cell_type": "code",
   "execution_count": 403,
   "metadata": {},
   "outputs": [],
   "source": [
    "lente_status_1 = in_staat_om_zelfstandig_te_lopen[in_staat_om_zelfstandig_te_lopen['Seizoen'] == 'Lente']\n",
    "lente_status_1_B = lente_status_1[lente_status_1['klimaat'] == 'B Klimaat']\n",
    "lente_status_1_B = lente_status_1_B['Surv_days'].dropna()\n",
    "\n",
    "zomer_status_1 = in_staat_om_zelfstandig_te_lopen[in_staat_om_zelfstandig_te_lopen['Seizoen'] == 'Zomer']\n",
    "zomer_status_1_B = zomer_status_1[zomer_status_1['klimaat'] == 'B Klimaat']\n",
    "zomer_status_1_B = zomer_status_1_B['Surv_days'].dropna()\n",
    "\n",
    "herfst_status_1 = in_staat_om_zelfstandig_te_lopen[in_staat_om_zelfstandig_te_lopen['Seizoen'] == 'Herfst']\n",
    "herfst_status_1_B = herfst_status_1[herfst_status_1['klimaat'] == 'B Klimaat']\n",
    "herfst_status_1_B = herfst_status_1_B['Surv_days'].dropna()\n",
    "\n",
    "winter_status_1 = in_staat_om_zelfstandig_te_lopen[in_staat_om_zelfstandig_te_lopen['Seizoen'] == 'Winter']\n",
    "winter_status_1_B = winter_status_1[winter_status_1['klimaat'] == 'B Klimaat']\n",
    "winter_status_1_B = winter_status_1_B['Surv_days'].dropna()\n"
   ]
  },
  {
   "cell_type": "code",
   "execution_count": 404,
   "metadata": {},
   "outputs": [
    {
     "name": "stdout",
     "output_type": "stream",
     "text": [
      "t-toets op groepen lente_status_1_B en zomer_status_1_B : Ttest_indResult(statistic=-1.5193902536118233, pvalue=0.14513031351289413)\n",
      "t-toets op groepen lente_status_1_B en herfst_status_1_B : Ttest_indResult(statistic=-1.0577481707841139, pvalue=0.30115375649467746)\n",
      "t-toets op groepen lente_status_1_B en winter_status_1_B : Ttest_indResult(statistic=0.39118871415516726, pvalue=0.6984223648158143)\n",
      "t-toets op groepen zomer_status_1_B en herfst_status_1_B : Ttest_indResult(statistic=0.5775134457583811, pvalue=0.5707466979388149)\n",
      "t-toets op groepen zomer_status_1_B en winter_status_1_B : Ttest_indResult(statistic=1.797480955819704, pvalue=0.08434986468475783)\n",
      "t-toets op groepen herfst_status_1_B en winter_status_1_B : Ttest_indResult(statistic=1.353735574125871, pvalue=0.1862780031673565)\n"
     ]
    }
   ],
   "source": [
    "print('t-toets op groepen lente_status_1_B en zomer_status_1_B :' , stats.ttest_ind(lente_status_1_B, zomer_status_1_B))\n",
    "print('t-toets op groepen lente_status_1_B en herfst_status_1_B :' , stats.ttest_ind(lente_status_1_B, herfst_status_1_B))\n",
    "print('t-toets op groepen lente_status_1_B en winter_status_1_B :' , stats.ttest_ind(lente_status_1_B, winter_status_1_B))\n",
    "print('t-toets op groepen zomer_status_1_B en herfst_status_1_B :' , stats.ttest_ind(zomer_status_1_B, herfst_status_1_B))\n",
    "print('t-toets op groepen zomer_status_1_B en winter_status_1_B :' , stats.ttest_ind(zomer_status_1_B, winter_status_1_B))\n",
    "print('t-toets op groepen herfst_status_1_B en winter_status_1_B :' , stats.ttest_ind(herfst_status_1_B, winter_status_1_B))\n"
   ]
  },
  {
   "cell_type": "markdown",
   "metadata": {},
   "source": [
    "klimaat C"
   ]
  },
  {
   "cell_type": "code",
   "execution_count": 405,
   "metadata": {},
   "outputs": [],
   "source": [
    "lente_status_1 = in_staat_om_zelfstandig_te_lopen[in_staat_om_zelfstandig_te_lopen['Seizoen'] == 'Lente']\n",
    "lente_status_1_C = lente_status_1[lente_status_1['klimaat'] == 'C Klimaat']\n",
    "lente_status_1_C = lente_status_1_C['Surv_days'].dropna()\n",
    "\n",
    "zomer_status_1 = in_staat_om_zelfstandig_te_lopen[in_staat_om_zelfstandig_te_lopen['Seizoen'] == 'Zomer']\n",
    "zomer_status_1_C = zomer_status_1[zomer_status_1['klimaat'] == 'C Klimaat']\n",
    "zomer_status_1_C = zomer_status_1_C['Surv_days'].dropna()\n",
    "\n",
    "herfst_status_1 = in_staat_om_zelfstandig_te_lopen[in_staat_om_zelfstandig_te_lopen['Seizoen'] == 'Herfst']\n",
    "herfst_status_1_C = herfst_status_1[herfst_status_1['klimaat'] == 'C Klimaat']\n",
    "herfst_status_1_C = herfst_status_1_C['Surv_days'].dropna()\n",
    "\n",
    "winter_status_1 = in_staat_om_zelfstandig_te_lopen[in_staat_om_zelfstandig_te_lopen['Seizoen'] == 'Winter']\n",
    "winter_status_1_C = winter_status_1[winter_status_1['klimaat'] == 'C Klimaat']\n",
    "winter_status_1_C = winter_status_1_C['Surv_days'].dropna()\n"
   ]
  },
  {
   "cell_type": "code",
   "execution_count": 406,
   "metadata": {},
   "outputs": [
    {
     "name": "stdout",
     "output_type": "stream",
     "text": [
      "t-toets op groepen lente_status_1_C en zomer_status_1_C : Ttest_indResult(statistic=1.0212507667461126, pvalue=0.3081150424629656)\n",
      "t-toets op groepen lente_status_1_C en herfst_status_1_C : Ttest_indResult(statistic=1.560318333633688, pvalue=0.11995471820726719)\n",
      "t-toets op groepen lente_status_1_C en winter_status_1_C : Ttest_indResult(statistic=-0.0929022628517289, pvalue=0.9260424022576969)\n",
      "t-toets op groepen zomer_status_1_C en herfst_status_1_C : Ttest_indResult(statistic=0.7559567403374432, pvalue=0.4504387197384616)\n",
      "t-toets op groepen zomer_status_1_C en winter_status_1_C : Ttest_indResult(statistic=-1.2754276851510564, pvalue=0.20318572880623367)\n",
      "t-toets op groepen herfst_status_1_C en winter_status_1_C : Ttest_indResult(statistic=-1.8951114108721152, pvalue=0.05908951044622809)\n"
     ]
    }
   ],
   "source": [
    "print('t-toets op groepen lente_status_1_C en zomer_status_1_C :' , stats.ttest_ind(lente_status_1_C, zomer_status_1_C))\n",
    "print('t-toets op groepen lente_status_1_C en herfst_status_1_C :' , stats.ttest_ind(lente_status_1_C, herfst_status_1_C))\n",
    "print('t-toets op groepen lente_status_1_C en winter_status_1_C :' , stats.ttest_ind(lente_status_1_C, winter_status_1_C))\n",
    "print('t-toets op groepen zomer_status_1_C en herfst_status_1_C :' , stats.ttest_ind(zomer_status_1_C, herfst_status_1_C))\n",
    "print('t-toets op groepen zomer_status_1_C en winter_status_1_C :' , stats.ttest_ind(zomer_status_1_C, winter_status_1_C))\n",
    "print('t-toets op groepen herfst_status_1_C en winter_status_1_C :' , stats.ttest_ind(herfst_status_1_C, winter_status_1_C))\n"
   ]
  },
  {
   "cell_type": "markdown",
   "metadata": {},
   "source": [
    "klimaat D"
   ]
  },
  {
   "cell_type": "code",
   "execution_count": 407,
   "metadata": {},
   "outputs": [],
   "source": [
    "lente_status_1 = in_staat_om_zelfstandig_te_lopen[in_staat_om_zelfstandig_te_lopen['Seizoen'] == 'Lente']\n",
    "lente_status_1_D = lente_status_1[lente_status_1['klimaat'] == 'D Klimaat']\n",
    "lente_status_1_D = lente_status_1_D['Surv_days'].dropna()\n",
    "\n",
    "zomer_status_1 = in_staat_om_zelfstandig_te_lopen[in_staat_om_zelfstandig_te_lopen['Seizoen'] == 'Zomer']\n",
    "zomer_status_1_D = zomer_status_1[zomer_status_1['klimaat'] == 'D Klimaat']\n",
    "zomer_status_1_D = zomer_status_1_D['Surv_days'].dropna()\n",
    "\n",
    "herfst_status_1 = in_staat_om_zelfstandig_te_lopen[in_staat_om_zelfstandig_te_lopen['Seizoen'] == 'Herfst']\n",
    "herfst_status_1_D = herfst_status_1[herfst_status_1['klimaat'] == 'D Klimaat']\n",
    "herfst_status_1_D = herfst_status_1_D['Surv_days'].dropna()\n",
    "\n",
    "winter_status_1 = in_staat_om_zelfstandig_te_lopen[in_staat_om_zelfstandig_te_lopen['Seizoen'] == 'Winter']\n",
    "winter_status_1_D = winter_status_1[winter_status_1['klimaat'] == 'D Klimaat']\n",
    "winter_status_1_D = winter_status_1_D['Surv_days'].dropna()\n"
   ]
  },
  {
   "cell_type": "code",
   "execution_count": 408,
   "metadata": {},
   "outputs": [
    {
     "name": "stdout",
     "output_type": "stream",
     "text": [
      "t-toets op groepen lente_status_1_D en zomer_status_1_D : Ttest_indResult(statistic=0.6788592362054496, pvalue=0.5009509606146973)\n",
      "t-toets op groepen lente_status_1_D en herfst_status_1_D : Ttest_indResult(statistic=1.9230885548664236, pvalue=0.061792423495310556)\n",
      "t-toets op groepen lente_status_1_D en winter_status_1_D : Ttest_indResult(statistic=1.3614376037955438, pvalue=0.17986675510584912)\n",
      "t-toets op groepen zomer_status_1_D en herfst_status_1_D : Ttest_indResult(statistic=0.9623262948249893, pvalue=0.34061085236239286)\n",
      "t-toets op groepen zomer_status_1_D en winter_status_1_D : Ttest_indResult(statistic=0.46419447196725094, pvalue=0.6442764964619578)\n",
      "t-toets op groepen herfst_status_1_D en winter_status_1_D : Ttest_indResult(statistic=-0.7552983640251806, pvalue=0.4533518907698234)\n"
     ]
    }
   ],
   "source": [
    "print('t-toets op groepen lente_status_1_D en zomer_status_1_D :' , stats.ttest_ind(lente_status_1_D, zomer_status_1_D))\n",
    "print('t-toets op groepen lente_status_1_D en herfst_status_1_D :' , stats.ttest_ind(lente_status_1_D, herfst_status_1_D))\n",
    "print('t-toets op groepen lente_status_1_D en winter_status_1_D :' , stats.ttest_ind(lente_status_1_D, winter_status_1_D))\n",
    "print('t-toets op groepen zomer_status_1_D en herfst_status_1_D :' , stats.ttest_ind(zomer_status_1_D, herfst_status_1_D))\n",
    "print('t-toets op groepen zomer_status_1_D en winter_status_1_D :' , stats.ttest_ind(zomer_status_1_D, winter_status_1_D))\n",
    "print('t-toets op groepen herfst_status_1_D en winter_status_1_D :' , stats.ttest_ind(herfst_status_1_D, winter_status_1_D))\n"
   ]
  },
  {
   "cell_type": "code",
   "execution_count": null,
   "metadata": {},
   "outputs": [],
   "source": []
  },
  {
   "cell_type": "markdown",
   "metadata": {},
   "source": [
    "#### overleden"
   ]
  },
  {
   "cell_type": "code",
   "execution_count": 409,
   "metadata": {},
   "outputs": [
    {
     "name": "stdout",
     "output_type": "stream",
     "text": [
      "                  sum_sq    df         F    PR(>F)\n",
      "C(Seizoen)  6.903812e+04   3.0  0.885121  0.456228\n",
      "Residual    1.143979e+06  44.0       NaN       NaN\n"
     ]
    }
   ],
   "source": [
    "overleden = overleden[['Surv_days', 'Seizoen','klimaat']]\n",
    "model_5 = ols('Surv_days ~ C(Seizoen)', data=overleden).fit()\n",
    "anova_table = sm.stats.anova_lm(model_5, typ=2)\n",
    "print(anova_table)"
   ]
  },
  {
   "cell_type": "code",
   "execution_count": 410,
   "metadata": {},
   "outputs": [
    {
     "name": "stdout",
     "output_type": "stream",
     "text": [
      "ShapiroResult(statistic=0.7372358441352844, pvalue=6.429299048704706e-08)\n"
     ]
    },
    {
     "data": {
      "image/png": "[encoded data removed]",
      "text/plain": [
       "<Figure size 432x288 with 1 Axes>"
      ]
     },
     "metadata": {
      "needs_background": "light"
     },
     "output_type": "display_data"
    }
   ],
   "source": [
    "residuen = model_5.resid\n",
    "print(stats.shapiro(residuen))\n",
    "\n",
    "sm.qqplot(residuen, line = 's' )\n",
    "plt.title('QQ-plot van de reisduen')\n",
    "plt.show()"
   ]
  },
  {
   "cell_type": "code",
   "execution_count": null,
   "metadata": {},
   "outputs": [],
   "source": []
  },
  {
   "cell_type": "markdown",
   "metadata": {},
   "source": [
    "Voldoet niet aan normaliteit, dus er zullen t toetsen gedaan worden"
   ]
  },
  {
   "cell_type": "code",
   "execution_count": null,
   "metadata": {},
   "outputs": [],
   "source": []
  },
  {
   "cell_type": "code",
   "execution_count": 411,
   "metadata": {},
   "outputs": [],
   "source": [
    "lente_status_2 = overleden[overleden['Seizoen'] == 'Lente']\n",
    "lente_status_2 = lente_status_2['Surv_days'].dropna()\n",
    "\n",
    "zomer_status_2 = overleden[overleden['Seizoen'] == 'Zomer']\n",
    "zomer_status_2 = zomer_status_2['Surv_days'].dropna()\n",
    "\n",
    "herfst_status_2  = overleden[overleden['Seizoen'] == 'Herfst']\n",
    "herfst_status_2  = herfst_status_2 ['Surv_days'].dropna()\n",
    "\n",
    "winter_status_2  = overleden[overleden['Seizoen'] == 'Winter']\n",
    "winter_status_2  = winter_status_2 ['Surv_days'].dropna()"
   ]
  },
  {
   "cell_type": "code",
   "execution_count": 412,
   "metadata": {},
   "outputs": [
    {
     "name": "stdout",
     "output_type": "stream",
     "text": [
      "t-toets op groepen lente_status_2  en zomer_status_2 : Ttest_indResult(statistic=-0.8503185553250501, pvalue=0.40430769150470824)\n",
      "t-toets op groepen lente_status_2  en herfst_status_2 : Ttest_indResult(statistic=0.9370859799079555, pvalue=0.35989329275062865)\n",
      "t-toets op groepen lente_status_2  en winter_status_2 : Ttest_indResult(statistic=0.23914405215949452, pvalue=0.8132076768433963)\n",
      "t-toets op groepen zomer_status_2  en herfst_status_2 : Ttest_indResult(statistic=1.5363624318867137, pvalue=0.13870789164071765)\n",
      "t-toets op groepen zomer_status_2  en winter_status_2 : Ttest_indResult(statistic=0.989032383179063, pvalue=0.33251440335801674)\n",
      "t-toets op groepen herfst_status_2  en winter_status_2 : Ttest_indResult(statistic=-0.40953048359618066, pvalue=0.6861104325966088)\n"
     ]
    }
   ],
   "source": [
    "print('t-toets op groepen lente_status_2  en zomer_status_2 :' , stats.ttest_ind(lente_status_2 ,zomer_status_2 ))\n",
    "print('t-toets op groepen lente_status_2  en herfst_status_2 :' ,stats.ttest_ind(lente_status_2 ,herfst_status_2 ))\n",
    "print('t-toets op groepen lente_status_2  en winter_status_2 :' ,stats.ttest_ind(lente_status_2 ,winter_status_2 ))\n",
    "print('t-toets op groepen zomer_status_2  en herfst_status_2 :' ,stats.ttest_ind(zomer_status_2 ,herfst_status_2 ))\n",
    "print('t-toets op groepen zomer_status_2  en winter_status_2 :' ,stats.ttest_ind(zomer_status_2 ,winter_status_2 ))\n",
    "print('t-toets op groepen herfst_status_2  en winter_status_2 :' ,stats.ttest_ind(herfst_status_2 ,winter_status_2 ))"
   ]
  },
  {
   "cell_type": "code",
   "execution_count": 413,
   "metadata": {},
   "outputs": [
    {
     "data": {
      "text/plain": [
       "klimaat    Seizoen\n",
       "A Klimaat  Herfst      3\n",
       "           Zomer       3\n",
       "           Winter      2\n",
       "B Klimaat  Herfst      1\n",
       "           Winter      1\n",
       "C Klimaat  Lente      10\n",
       "           Winter     10\n",
       "           Zomer       8\n",
       "           Herfst      7\n",
       "D Klimaat  Zomer       2\n",
       "           Lente       1\n",
       "Name: Seizoen, dtype: int64"
      ]
     },
     "execution_count": 413,
     "metadata": {},
     "output_type": "execute_result"
    }
   ],
   "source": [
    "overleden['Seizoen'].groupby(overleden['klimaat']).value_counts()"
   ]
  },
  {
   "cell_type": "markdown",
   "metadata": {},
   "source": [
    "Voor een Anova heb je minimaal 3 waarden nodig. Voor klimaat B en D kunnen er dus geen toetsen worden uitgevoerd. Voor klimaat A Kunnen Herfst en Zomer vergeken worden\n",
    "en voor klimaat C alles"
   ]
  },
  {
   "cell_type": "markdown",
   "metadata": {},
   "source": [
    "Klimaat A\n"
   ]
  },
  {
   "cell_type": "code",
   "execution_count": 414,
   "metadata": {},
   "outputs": [],
   "source": [
    "zomer_status_2 = overleden[overleden['Seizoen'] == 'Zomer']\n",
    "zomer_status_2_A = zomer_status_2[zomer_status_2['klimaat'] == 'A Klimaat']\n",
    "zomer_status_2_A = zomer_status_2_A['Surv_days'].dropna()\n",
    "\n",
    "herfst_status_2  = overleden[overleden['Seizoen'] == 'Herfst']\n",
    "herfst_status_2_A = herfst_status_2[herfst_status_2['klimaat'] == 'A Klimaat']\n",
    "herfst_status_2_A  = herfst_status_2_A ['Surv_days'].dropna()\n"
   ]
  },
  {
   "cell_type": "code",
   "execution_count": 415,
   "metadata": {},
   "outputs": [
    {
     "name": "stdout",
     "output_type": "stream",
     "text": [
      "t-toets op groepen zomer_status_2_A  en herfst_status_2_A : Ttest_indResult(statistic=1.7442238319686778, pvalue=0.15606577672255106)\n"
     ]
    }
   ],
   "source": [
    "print('t-toets op groepen zomer_status_2_A  en herfst_status_2_A :' ,stats.ttest_ind(zomer_status_2_A ,herfst_status_2_A ))"
   ]
  },
  {
   "cell_type": "markdown",
   "metadata": {},
   "source": [
    "Klimaat C"
   ]
  },
  {
   "cell_type": "code",
   "execution_count": 416,
   "metadata": {},
   "outputs": [],
   "source": [
    "lente_status_2 = overleden[overleden['Seizoen'] == 'Lente']\n",
    "lente_status_2_C = lente_status_2[lente_status_2['klimaat'] == 'C Klimaat']\n",
    "lente_status_2_C = lente_status_2_C['Surv_days'].dropna()\n",
    "\n",
    "zomer_status_2 = overleden[overleden['Seizoen'] == 'Zomer']\n",
    "zomer_status_2_C = zomer_status_2[zomer_status_2['klimaat'] == 'C Klimaat']\n",
    "zomer_status_2_C = zomer_status_2_C['Surv_days'].dropna()\n",
    "\n",
    "herfst_status_2  = overleden[overleden['Seizoen'] == 'Herfst']\n",
    "herfst_status_2_C = herfst_status_2[herfst_status_2['klimaat'] == 'C Klimaat']\n",
    "herfst_status_2_C  = herfst_status_2_C ['Surv_days'].dropna()\n",
    "\n",
    "winter_status_2  = overleden[overleden['Seizoen'] == 'Winter']\n",
    "winter_status_2_C = winter_status_2[winter_status_2['klimaat'] == 'C Klimaat']\n",
    "winter_status_2_C  = winter_status_2_C ['Surv_days'].dropna()"
   ]
  },
  {
   "cell_type": "code",
   "execution_count": 417,
   "metadata": {},
   "outputs": [
    {
     "name": "stdout",
     "output_type": "stream",
     "text": [
      "t-toets op groepen lente_status_2_C  en zomer_status_2_C : Ttest_indResult(statistic=-0.7303801445911297, pvalue=0.4757173071753579)\n",
      "t-toets op groepen lente_status_2_C  en herfst_status_2_C : Ttest_indResult(statistic=0.6532644942662194, pvalue=0.523473703318507)\n",
      "t-toets op groepen lente_status_2_C  en winter_status_2_C : Ttest_indResult(statistic=0.09823793391112447, pvalue=0.9228290625580621)\n",
      "t-toets op groepen zomer_status_2_C  en herfst_status_2_C : Ttest_indResult(statistic=1.0655880048861623, pvalue=0.30600136572622205)\n",
      "t-toets op groepen zomer_status_2_C  en winter_status_2_C : Ttest_indResult(statistic=0.6677613264337073, pvalue=0.5138034375388317)\n",
      "t-toets op groepen herfst_status_2_C en winter_status_2_C : Ttest_indResult(statistic=-0.33305202401367373, pvalue=0.7437045734450745)\n"
     ]
    }
   ],
   "source": [
    "print('t-toets op groepen lente_status_2_C  en zomer_status_2_C :' , stats.ttest_ind(lente_status_2_C ,zomer_status_2_C ))\n",
    "print('t-toets op groepen lente_status_2_C  en herfst_status_2_C :' ,stats.ttest_ind(lente_status_2_C ,herfst_status_2_C ))\n",
    "print('t-toets op groepen lente_status_2_C  en winter_status_2_C :' ,stats.ttest_ind(lente_status_2_C ,winter_status_2_C ))\n",
    "print('t-toets op groepen zomer_status_2_C  en herfst_status_2_C :' ,stats.ttest_ind(zomer_status_2_C ,herfst_status_2_C ))\n",
    "print('t-toets op groepen zomer_status_2_C  en winter_status_2_C :' ,stats.ttest_ind(zomer_status_2_C ,winter_status_2_C ))\n",
    "print('t-toets op groepen herfst_status_2_C en winter_status_2_C :' ,stats.ttest_ind(herfst_status_2_C ,winter_status_2_C ))"
   ]
  },
  {
   "cell_type": "code",
   "execution_count": null,
   "metadata": {},
   "outputs": [],
   "source": []
  },
  {
   "cell_type": "code",
   "execution_count": null,
   "metadata": {},
   "outputs": [],
   "source": []
  },
  {
   "cell_type": "code",
   "execution_count": null,
   "metadata": {},
   "outputs": [],
   "source": []
  },
  {
   "cell_type": "code",
   "execution_count": null,
   "metadata": {},
   "outputs": [],
   "source": []
  },
  {
   "cell_type": "code",
   "execution_count": null,
   "metadata": {},
   "outputs": [],
   "source": []
  },
  {
   "cell_type": "code",
   "execution_count": null,
   "metadata": {},
   "outputs": [],
   "source": []
  },
  {
   "cell_type": "markdown",
   "metadata": {},
   "source": [
    "#### CSF_protein_level"
   ]
  },
  {
   "cell_type": "code",
   "execution_count": 418,
   "metadata": {},
   "outputs": [
    {
     "name": "stdout",
     "output_type": "stream",
     "text": [
      "                  sum_sq      df         F    PR(>F)\n",
      "C(Seizoen)     77.313521     3.0  1.573121  0.194156\n",
      "Residual    19019.722444  1161.0       NaN       NaN\n"
     ]
    }
   ],
   "source": [
    "df_csf = df[['CSF_protein_level', 'Seizoen', 'klimaat']]\n",
    "model_6 = ols('CSF_protein_level ~ C(Seizoen)', data=df_csf).fit()\n",
    "anova_table = sm.stats.anova_lm(model_6, typ=2)\n",
    "print(anova_table)\n"
   ]
  },
  {
   "cell_type": "code",
   "execution_count": 419,
   "metadata": {},
   "outputs": [
    {
     "name": "stdout",
     "output_type": "stream",
     "text": [
      "ShapiroResult(statistic=0.10528069734573364, pvalue=0.0)\n"
     ]
    },
    {
     "data": {
      "image/png": "[encoded data removed]",
      "text/plain": [
       "<Figure size 432x288 with 1 Axes>"
      ]
     },
     "metadata": {
      "needs_background": "light"
     },
     "output_type": "display_data"
    }
   ],
   "source": [
    "residuen = model_6.resid\n",
    "print(stats.shapiro(residuen))\n",
    "\n",
    "sm.qqplot(residuen, line = 's' )\n",
    "plt.title('QQ-plot van de reisduen')\n",
    "plt.show()"
   ]
  },
  {
   "cell_type": "code",
   "execution_count": 420,
   "metadata": {},
   "outputs": [
    {
     "data": {
      "text/plain": [
       "<AxesSubplot:xlabel='CSF_protein_level', ylabel='Seizoen'>"
      ]
     },
     "execution_count": 420,
     "metadata": {},
     "output_type": "execute_result"
    },
    {
     "data": {
      "image/png": "[encoded data removed]",
      "text/plain": [
       "<Figure size 432x288 with 1 Axes>"
      ]
     },
     "metadata": {
      "needs_background": "light"
     },
     "output_type": "display_data"
    }
   ],
   "source": [
    "sns.boxplot(data=df_csf, x=\"CSF_protein_level\", y=\"Seizoen\")"
   ]
  },
  {
   "cell_type": "code",
   "execution_count": 421,
   "metadata": {},
   "outputs": [],
   "source": [
    "Q1 = df_csf['CSF_protein_level'].quantile(0.0)\n",
    "Q3 = df_csf['CSF_protein_level'].quantile(0.95)\n",
    "IQR = Q3 - Q1\n",
    "\n",
    "# identify outliers\n",
    "threshold = 1.5\n",
    "outliners = df_csf[(df_csf['CSF_protein_level'] < Q1 - threshold * IQR) | (df_csf['CSF_protein_level'] > Q3 + threshold * IQR)]"
   ]
  },
  {
   "cell_type": "code",
   "execution_count": 422,
   "metadata": {},
   "outputs": [],
   "source": [
    "uitbijters = outliners['CSF_protein_level']"
   ]
  },
  {
   "cell_type": "code",
   "execution_count": 423,
   "metadata": {},
   "outputs": [],
   "source": [
    "for i in uitbijters:\n",
    "    df_csf = df_csf.drop(df_csf[df_csf['CSF_protein_level'] == i].index)"
   ]
  },
  {
   "cell_type": "markdown",
   "metadata": {},
   "source": [
    "##### outliner van csf_protein_level verwijderen"
   ]
  },
  {
   "cell_type": "code",
   "execution_count": 424,
   "metadata": {},
   "outputs": [
    {
     "data": {
      "text/html": [
       "<div>\n",
       "<style scoped>\n",
       "    .dataframe tbody tr th:only-of-type {\n",
       "        vertical-align: middle;\n",
       "    }\n",
       "\n",
       "    .dataframe tbody tr th {\n",
       "        vertical-align: top;\n",
       "    }\n",
       "\n",
       "    .dataframe thead th {\n",
       "        text-align: right;\n",
       "    }\n",
       "</style>\n",
       "<table border=\"1\" class=\"dataframe\">\n",
       "  <thead>\n",
       "    <tr style=\"text-align: right;\">\n",
       "      <th></th>\n",
       "      <th>CSF_protein_level</th>\n",
       "      <th>Seizoen</th>\n",
       "      <th>klimaat</th>\n",
       "    </tr>\n",
       "  </thead>\n",
       "  <tbody>\n",
       "    <tr>\n",
       "      <th>0</th>\n",
       "      <td>0.84</td>\n",
       "      <td>Zomer</td>\n",
       "      <td>C Klimaat</td>\n",
       "    </tr>\n",
       "    <tr>\n",
       "      <th>1</th>\n",
       "      <td>0.51</td>\n",
       "      <td>Herfst</td>\n",
       "      <td>A Klimaat</td>\n",
       "    </tr>\n",
       "    <tr>\n",
       "      <th>2</th>\n",
       "      <td>3.28</td>\n",
       "      <td>Winter</td>\n",
       "      <td>D Klimaat</td>\n",
       "    </tr>\n",
       "    <tr>\n",
       "      <th>3</th>\n",
       "      <td>0.42</td>\n",
       "      <td>Lente</td>\n",
       "      <td>C Klimaat</td>\n",
       "    </tr>\n",
       "    <tr>\n",
       "      <th>4</th>\n",
       "      <td>1.47</td>\n",
       "      <td>Winter</td>\n",
       "      <td>C Klimaat</td>\n",
       "    </tr>\n",
       "    <tr>\n",
       "      <th>...</th>\n",
       "      <td>...</td>\n",
       "      <td>...</td>\n",
       "      <td>...</td>\n",
       "    </tr>\n",
       "    <tr>\n",
       "      <th>1494</th>\n",
       "      <td>1.16</td>\n",
       "      <td>Winter</td>\n",
       "      <td>C Klimaat</td>\n",
       "    </tr>\n",
       "    <tr>\n",
       "      <th>1496</th>\n",
       "      <td>NaN</td>\n",
       "      <td>Winter</td>\n",
       "      <td>C Klimaat</td>\n",
       "    </tr>\n",
       "    <tr>\n",
       "      <th>1497</th>\n",
       "      <td>0.63</td>\n",
       "      <td>Herfst</td>\n",
       "      <td>C Klimaat</td>\n",
       "    </tr>\n",
       "    <tr>\n",
       "      <th>1498</th>\n",
       "      <td>1.03</td>\n",
       "      <td>Lente</td>\n",
       "      <td>C Klimaat</td>\n",
       "    </tr>\n",
       "    <tr>\n",
       "      <th>1499</th>\n",
       "      <td>2.56</td>\n",
       "      <td>Lente</td>\n",
       "      <td>C Klimaat</td>\n",
       "    </tr>\n",
       "  </tbody>\n",
       "</table>\n",
       "<p>1320 rows × 3 columns</p>\n",
       "</div>"
      ],
      "text/plain": [
       "      CSF_protein_level Seizoen    klimaat\n",
       "0                  0.84   Zomer  C Klimaat\n",
       "1                  0.51  Herfst  A Klimaat\n",
       "2                  3.28  Winter  D Klimaat\n",
       "3                  0.42   Lente  C Klimaat\n",
       "4                  1.47  Winter  C Klimaat\n",
       "...                 ...     ...        ...\n",
       "1494               1.16  Winter  C Klimaat\n",
       "1496                NaN  Winter  C Klimaat\n",
       "1497               0.63  Herfst  C Klimaat\n",
       "1498               1.03   Lente  C Klimaat\n",
       "1499               2.56   Lente  C Klimaat\n",
       "\n",
       "[1320 rows x 3 columns]"
      ]
     },
     "execution_count": 424,
     "metadata": {},
     "output_type": "execute_result"
    }
   ],
   "source": [
    "df_csf"
   ]
  },
  {
   "cell_type": "code",
   "execution_count": 461,
   "metadata": {},
   "outputs": [
    {
     "data": {
      "text/plain": [
       "Text(0, 0.5, 'Seizoenen')"
      ]
     },
     "execution_count": 461,
     "metadata": {},
     "output_type": "execute_result"
    },
    {
     "data": {
      "image/png": "[encoded data removed]",
      "text/plain": [
       "<Figure size 432x288 with 1 Axes>"
      ]
     },
     "metadata": {
      "needs_background": "light"
     },
     "output_type": "display_data"
    }
   ],
   "source": [
    "sns.boxplot(data=df_csf, x=\"CSF_protein_level\", y=\"Seizoen\", palette='Set2')\n",
    "\n",
    "plt.title('Verdeling van gemiddelde CSF_protein_level per seizoen')\n",
    "plt.xlabel('CSF_protein_level')\n",
    "plt.ylabel('Seizoenen')"
   ]
  },
  {
   "cell_type": "code",
   "execution_count": 426,
   "metadata": {},
   "outputs": [
    {
     "name": "stdout",
     "output_type": "stream",
     "text": [
      "                sum_sq      df         F   PR(>F)\n",
      "C(Seizoen)    1.055686     3.0  0.428482  0.73263\n",
      "Residual    949.377385  1156.0       NaN      NaN\n"
     ]
    }
   ],
   "source": [
    "model_7 = ols('CSF_protein_level ~ C(Seizoen)', data=df_csf).fit()\n",
    "anova_table = sm.stats.anova_lm(model_7, typ=2)\n",
    "print(anova_table)\n"
   ]
  },
  {
   "cell_type": "code",
   "execution_count": 427,
   "metadata": {},
   "outputs": [
    {
     "name": "stdout",
     "output_type": "stream",
     "text": [
      "ShapiroResult(statistic=0.7267235517501831, pvalue=6.888474964958649e-40)\n"
     ]
    },
    {
     "data": {
      "image/png": "[encoded data removed]",
      "text/plain": [
       "<Figure size 432x288 with 1 Axes>"
      ]
     },
     "metadata": {
      "needs_background": "light"
     },
     "output_type": "display_data"
    }
   ],
   "source": [
    "residuen = model_7.resid\n",
    "print(stats.shapiro(residuen))\n",
    "\n",
    "sm.qqplot(residuen, line = 's' )\n",
    "plt.title('QQ-plot van de reisduen')\n",
    "plt.show()"
   ]
  },
  {
   "cell_type": "markdown",
   "metadata": {},
   "source": [
    "Anova mag niet vanwege gebrek aan normaliteit"
   ]
  },
  {
   "cell_type": "code",
   "execution_count": null,
   "metadata": {},
   "outputs": [],
   "source": []
  },
  {
   "cell_type": "code",
   "execution_count": null,
   "metadata": {},
   "outputs": [],
   "source": []
  },
  {
   "cell_type": "code",
   "execution_count": 428,
   "metadata": {},
   "outputs": [],
   "source": [
    "lente_csf = df_csf[df_csf['Seizoen'] == 'Lente']\n",
    "lente_csf = lente_csf['CSF_protein_level'].dropna()\n",
    "\n",
    "zomer_csf = df_csf[df_csf['Seizoen'] == 'Zomer']\n",
    "zomer_csf = zomer_csf['CSF_protein_level'].dropna()\n",
    "\n",
    "herfst_csf  = df_csf[df_csf['Seizoen'] == 'Herfst']\n",
    "herfst_csf  = herfst_csf['CSF_protein_level'].dropna()\n",
    "\n",
    "winter_csf  = df_csf[df_csf['Seizoen'] == 'Winter']\n",
    "winter_csf  = winter_csf['CSF_protein_level'].dropna()"
   ]
  },
  {
   "cell_type": "code",
   "execution_count": 429,
   "metadata": {},
   "outputs": [
    {
     "name": "stdout",
     "output_type": "stream",
     "text": [
      "t-toets op groepen lente_csf  en zomer_csf : Ttest_indResult(statistic=-0.14070778776574852, pvalue=0.8881513898101143)\n",
      "t-toets op groepen lente_csf  en herfst_csf : Ttest_indResult(statistic=-0.006294606179881487, pvalue=0.9949800326075233)\n",
      "t-toets op groepen lente_csf  en winter_csf : Ttest_indResult(statistic=-0.9172103876737296, pvalue=0.3593757591579563)\n",
      "t-toets op groepen zomer_csf  en herfst_csf : Ttest_indResult(statistic=0.13263527935816183, pvalue=0.894533939311998)\n",
      "t-toets op groepen zomer_csf  en winter_csf : Ttest_indResult(statistic=-0.7630671919235344, pvalue=0.44571078014942733)\n",
      "t-toets op groepen herfst_csf  en winter_csf : Ttest_indResult(statistic=-0.8816493716186133, pvalue=0.3783218626927287)\n"
     ]
    }
   ],
   "source": [
    "print('t-toets op groepen lente_csf  en zomer_csf :' , stats.ttest_ind(lente_csf ,zomer_csf ))\n",
    "print('t-toets op groepen lente_csf  en herfst_csf :' ,stats.ttest_ind(lente_csf ,herfst_csf ))\n",
    "print('t-toets op groepen lente_csf  en winter_csf :' ,stats.ttest_ind(lente_csf ,winter_csf ))\n",
    "print('t-toets op groepen zomer_csf  en herfst_csf :' ,stats.ttest_ind(zomer_csf ,herfst_csf ))\n",
    "print('t-toets op groepen zomer_csf  en winter_csf :' ,stats.ttest_ind(zomer_csf ,winter_csf ))\n",
    "print('t-toets op groepen herfst_csf  en winter_csf :' ,stats.ttest_ind(herfst_csf ,winter_csf ))"
   ]
  },
  {
   "cell_type": "code",
   "execution_count": 430,
   "metadata": {},
   "outputs": [
    {
     "data": {
      "text/plain": [
       "klimaat    Seizoen\n",
       "A Klimaat  Lente       58\n",
       "           Winter      57\n",
       "           Herfst      47\n",
       "           Zomer       43\n",
       "B Klimaat  Winter      27\n",
       "           Lente       24\n",
       "           Herfst      20\n",
       "           Zomer       18\n",
       "C Klimaat  Winter     269\n",
       "           Lente      218\n",
       "           Zomer      208\n",
       "           Herfst     172\n",
       "D Klimaat  Winter      47\n",
       "           Herfst      38\n",
       "           Zomer       34\n",
       "           Lente       33\n",
       "Name: Seizoen, dtype: int64"
      ]
     },
     "execution_count": 430,
     "metadata": {},
     "output_type": "execute_result"
    }
   ],
   "source": [
    "df_csf['Seizoen'].groupby(df_csf['klimaat']).value_counts()"
   ]
  },
  {
   "cell_type": "markdown",
   "metadata": {},
   "source": [
    "Nu voor elk klimaat "
   ]
  },
  {
   "cell_type": "markdown",
   "metadata": {},
   "source": [
    "Klimaat A"
   ]
  },
  {
   "cell_type": "code",
   "execution_count": 431,
   "metadata": {},
   "outputs": [],
   "source": [
    "lente_csf = df_csf[df_csf['Seizoen'] == 'Lente']\n",
    "lente_csf_A = lente_csf[lente_csf['klimaat'] == 'A Klimaat']\n",
    "lente_csf_A = lente_csf_A['CSF_protein_level'].dropna()\n",
    "\n",
    "zomer_csf = df_csf[df_csf['Seizoen'] == 'Zomer']\n",
    "zomer_csf_A = zomer_csf[zomer_csf['klimaat'] == 'A Klimaat']\n",
    "zomer_csf_A = zomer_csf_A['CSF_protein_level'].dropna()\n",
    "\n",
    "herfst_csf  = df_csf[df_csf['Seizoen'] == 'Herfst']\n",
    "herfst_csf_A = herfst_csf[herfst_csf['klimaat'] == 'A Klimaat']\n",
    "herfst_csf_A  = herfst_csf_A ['CSF_protein_level'].dropna()\n",
    "\n",
    "winter_csf  = df_csf[df_csf['Seizoen'] == 'Winter']\n",
    "winter_csf_A = winter_csf[winter_csf['klimaat'] == 'A Klimaat']\n",
    "winter_csf_A  = winter_csf_A ['CSF_protein_level'].dropna()"
   ]
  },
  {
   "cell_type": "code",
   "execution_count": 432,
   "metadata": {},
   "outputs": [
    {
     "name": "stdout",
     "output_type": "stream",
     "text": [
      "t-toets op groepen lente_csf_A  en zomer_csf_A : Ttest_indResult(statistic=0.08201120494590326, pvalue=0.9348140521307178)\n",
      "t-toets op groepen lente_csf_A  en herfst_csf_A : Ttest_indResult(statistic=-0.4146559471228571, pvalue=0.6793385782185737)\n",
      "t-toets op groepen lente_csf_A  en winter_csf_A : Ttest_indResult(statistic=-0.3297021552591119, pvalue=0.7423287069381164)\n",
      "t-toets op groepen zomer_csf_A  en herfst_csf_A : Ttest_indResult(statistic=-0.4800337549858685, pvalue=0.6324660611691802)\n",
      "t-toets op groepen zomer_csf_A  en winter_csf_A : Ttest_indResult(statistic=-0.40413671687824637, pvalue=0.6871039380341593)\n",
      "t-toets op groepen herfst_csf_A  en winter_csf_A : Ttest_indResult(statistic=0.10403602230002677, pvalue=0.9173775041545112)\n"
     ]
    }
   ],
   "source": [
    "print('t-toets op groepen lente_csf_A  en zomer_csf_A :' , stats.ttest_ind(lente_csf_A ,zomer_csf_A ))\n",
    "print('t-toets op groepen lente_csf_A  en herfst_csf_A :' ,stats.ttest_ind(lente_csf_A ,herfst_csf_A ))\n",
    "print('t-toets op groepen lente_csf_A  en winter_csf_A :' ,stats.ttest_ind(lente_csf_A ,winter_csf_A ))\n",
    "print('t-toets op groepen zomer_csf_A  en herfst_csf_A :' ,stats.ttest_ind(zomer_csf_A ,herfst_csf_A ))\n",
    "print('t-toets op groepen zomer_csf_A  en winter_csf_A :' ,stats.ttest_ind(zomer_csf_A ,winter_csf_A ))\n",
    "print('t-toets op groepen herfst_csf_A  en winter_csf_A :' ,stats.ttest_ind(herfst_csf_A ,winter_csf_A ))"
   ]
  },
  {
   "cell_type": "markdown",
   "metadata": {},
   "source": []
  },
  {
   "cell_type": "markdown",
   "metadata": {},
   "source": [
    "Klimaat B"
   ]
  },
  {
   "cell_type": "code",
   "execution_count": 433,
   "metadata": {},
   "outputs": [],
   "source": [
    "lente_csf = df_csf[df_csf['Seizoen'] == 'Lente']\n",
    "lente_csf_B = lente_csf[lente_csf['klimaat'] == 'B Klimaat']\n",
    "lente_csf_B = lente_csf_B['CSF_protein_level'].dropna()\n",
    "\n",
    "zomer_csf = df_csf[df_csf['Seizoen'] == 'Zomer']\n",
    "zomer_csf_B = zomer_csf[zomer_csf['klimaat'] == 'B Klimaat']\n",
    "zomer_csf_B = zomer_csf_B['CSF_protein_level'].dropna()\n",
    "\n",
    "herfst_csf  = df_csf[df_csf['Seizoen'] == 'Herfst']\n",
    "herfst_csf_B = herfst_csf[herfst_csf['klimaat'] == 'B Klimaat']\n",
    "herfst_csf_B  = herfst_csf_B ['CSF_protein_level'].dropna()\n",
    "\n",
    "winter_csf  = df_csf[df_csf['Seizoen'] == 'Winter']\n",
    "winter_csf_B = winter_csf[winter_csf['klimaat'] == 'B Klimaat']\n",
    "winter_csf_B  = winter_csf_B ['CSF_protein_level'].dropna()"
   ]
  },
  {
   "cell_type": "code",
   "execution_count": 434,
   "metadata": {},
   "outputs": [
    {
     "name": "stdout",
     "output_type": "stream",
     "text": [
      "t-toets op groepen lente_csf_B  en zomer_csf_B : Ttest_indResult(statistic=0.9943208244126938, pvalue=0.3270908642404662)\n",
      "t-toets op groepen lente_csf_B  en herfst_csf_B : Ttest_indResult(statistic=0.678016045487643, pvalue=0.502096487015177)\n",
      "t-toets op groepen lente_csf_B  en winter_csf_B : Ttest_indResult(statistic=-0.6511628416777342, pvalue=0.5184884498799265)\n",
      "t-toets op groepen zomer_csf_B  en herfst_csf_B : Ttest_indResult(statistic=-0.5319268853630217, pvalue=0.5984505531081022)\n",
      "t-toets op groepen zomer_csf_B  en winter_csf_B : Ttest_indResult(statistic=-1.6818196631695823, pvalue=0.10080553516232253)\n",
      "t-toets op groepen herfst_csf_B  en winter_csf_B : Ttest_indResult(statistic=-1.4086156579460092, pvalue=0.16667493950124607)\n"
     ]
    }
   ],
   "source": [
    "print('t-toets op groepen lente_csf_B  en zomer_csf_B :' , stats.ttest_ind(lente_csf_B ,zomer_csf_B ))\n",
    "print('t-toets op groepen lente_csf_B  en herfst_csf_B :' ,stats.ttest_ind(lente_csf_B ,herfst_csf_B ))\n",
    "print('t-toets op groepen lente_csf_B  en winter_csf_B :' ,stats.ttest_ind(lente_csf_B ,winter_csf_B ))\n",
    "print('t-toets op groepen zomer_csf_B  en herfst_csf_B :' ,stats.ttest_ind(zomer_csf_B ,herfst_csf_B ))\n",
    "print('t-toets op groepen zomer_csf_B  en winter_csf_B :' ,stats.ttest_ind(zomer_csf_B ,winter_csf_B ))\n",
    "print('t-toets op groepen herfst_csf_B  en winter_csf_B :' ,stats.ttest_ind(herfst_csf_B ,winter_csf_B ))"
   ]
  },
  {
   "cell_type": "code",
   "execution_count": null,
   "metadata": {},
   "outputs": [],
   "source": []
  },
  {
   "cell_type": "markdown",
   "metadata": {},
   "source": [
    "Klimaat C"
   ]
  },
  {
   "cell_type": "code",
   "execution_count": 435,
   "metadata": {},
   "outputs": [],
   "source": [
    "lente_csf = df_csf[df_csf['Seizoen'] == 'Lente']\n",
    "lente_csf_C = lente_csf[lente_csf['klimaat'] == 'C Klimaat']\n",
    "lente_csf_C = lente_csf_C['CSF_protein_level'].dropna()\n",
    "\n",
    "zomer_csf = df_csf[df_csf['Seizoen'] == 'Zomer']\n",
    "zomer_csf_C = zomer_csf[zomer_csf['klimaat'] == 'C Klimaat']\n",
    "zomer_csf_C = zomer_csf_C['CSF_protein_level'].dropna()\n",
    "\n",
    "herfst_csf  = df_csf[df_csf['Seizoen'] == 'Herfst']\n",
    "herfst_csf_C = herfst_csf[herfst_csf['klimaat'] == 'C Klimaat']\n",
    "herfst_csf_C  = herfst_csf_C['CSF_protein_level'].dropna()\n",
    "\n",
    "winter_csf  = df_csf[df_csf['Seizoen'] == 'Winter']\n",
    "winter_csf_C = winter_csf[winter_csf['klimaat'] == 'C Klimaat']\n",
    "winter_csf_C  = winter_csf_C['CSF_protein_level'].dropna()"
   ]
  },
  {
   "cell_type": "code",
   "execution_count": 436,
   "metadata": {},
   "outputs": [
    {
     "name": "stdout",
     "output_type": "stream",
     "text": [
      "t-toets op groepen lente_csf_C  en zomer_csf_C : Ttest_indResult(statistic=-0.9441428256777816, pvalue=0.345717802130605)\n",
      "t-toets op groepen lente_csf_C  en herfst_csf_C : Ttest_indResult(statistic=-0.09996039277163393, pvalue=0.9204353846301131)\n",
      "t-toets op groepen lente_csf_C  en winter_csf_C : Ttest_indResult(statistic=-0.787706110202898, pvalue=0.4313066878983496)\n",
      "t-toets op groepen zomer_csf_C  en herfst_csf_C : Ttest_indResult(statistic=0.8139287829554458, pvalue=0.41627444410459846)\n",
      "t-toets op groepen zomer_csf_C  en winter_csf_C : Ttest_indResult(statistic=0.18352926179038975, pvalue=0.8544715403448325)\n",
      "t-toets op groepen herfst_csf_C  en winter_csf_C : Ttest_indResult(statistic=-0.6523413795779788, pvalue=0.5145672465246306)\n"
     ]
    }
   ],
   "source": [
    "print('t-toets op groepen lente_csf_C  en zomer_csf_C :' , stats.ttest_ind(lente_csf_C ,zomer_csf_C ))\n",
    "print('t-toets op groepen lente_csf_C  en herfst_csf_C :' ,stats.ttest_ind(lente_csf_C ,herfst_csf_C ))\n",
    "print('t-toets op groepen lente_csf_C  en winter_csf_C :' ,stats.ttest_ind(lente_csf_C ,winter_csf_C ))\n",
    "print('t-toets op groepen zomer_csf_C  en herfst_csf_C :' ,stats.ttest_ind(zomer_csf_C ,herfst_csf_C ))\n",
    "print('t-toets op groepen zomer_csf_C  en winter_csf_C :' ,stats.ttest_ind(zomer_csf_C ,winter_csf_C ))\n",
    "print('t-toets op groepen herfst_csf_C  en winter_csf_C :' ,stats.ttest_ind(herfst_csf_C ,winter_csf_C ))"
   ]
  },
  {
   "cell_type": "code",
   "execution_count": null,
   "metadata": {},
   "outputs": [],
   "source": []
  },
  {
   "cell_type": "markdown",
   "metadata": {},
   "source": [
    "Klimaat D"
   ]
  },
  {
   "cell_type": "code",
   "execution_count": 437,
   "metadata": {},
   "outputs": [],
   "source": [
    "lente_csf = df_csf[df_csf['Seizoen'] == 'Lente']\n",
    "lente_csf_D = lente_csf[lente_csf['klimaat'] == 'D Klimaat']\n",
    "lente_csf_D = lente_csf_D['CSF_protein_level'].dropna()\n",
    "\n",
    "zomer_csf = df_csf[df_csf['Seizoen'] == 'Zomer']\n",
    "zomer_csf_D = zomer_csf[zomer_csf['klimaat'] == 'D Klimaat']\n",
    "zomer_csf_D = zomer_csf_D['CSF_protein_level'].dropna()\n",
    "\n",
    "herfst_csf  = df_csf[df_csf['Seizoen'] == 'Herfst']\n",
    "herfst_csf_D = herfst_csf[herfst_csf['klimaat'] == 'D Klimaat']\n",
    "herfst_csf_D  = herfst_csf_D['CSF_protein_level'].dropna()\n",
    "\n",
    "winter_csf  = df_csf[df_csf['Seizoen'] == 'Winter']\n",
    "winter_csf_D = winter_csf[winter_csf['klimaat'] == 'D Klimaat']\n",
    "winter_csf_D  = winter_csf_D['CSF_protein_level'].dropna()"
   ]
  },
  {
   "cell_type": "code",
   "execution_count": 438,
   "metadata": {},
   "outputs": [
    {
     "name": "stdout",
     "output_type": "stream",
     "text": [
      "t-toets op groepen lente_csf_D  en zomer_csf_D : Ttest_indResult(statistic=0.8540264891044536, pvalue=0.39648727085468294)\n",
      "t-toets op groepen lente_csf_D  en herfst_csf_D : Ttest_indResult(statistic=0.1566502794455547, pvalue=0.8760644886512179)\n",
      "t-toets op groepen lente_csf_D  en winter_csf_D : Ttest_indResult(statistic=0.40789819139726224, pvalue=0.6845588344566673)\n",
      "t-toets op groepen zomer_csf_D  en herfst_csf_D : Ttest_indResult(statistic=-0.6424364037906026, pvalue=0.5229584667483107)\n",
      "t-toets op groepen zomer_csf_D  en winter_csf_D : Ttest_indResult(statistic=-0.5105258523026504, pvalue=0.6111628113110674)\n",
      "t-toets op groepen herfst_csf_D  en winter_csf_D : Ttest_indResult(statistic=0.21696372360697014, pvalue=0.8288336773112033)\n"
     ]
    }
   ],
   "source": [
    "print('t-toets op groepen lente_csf_D  en zomer_csf_D :' , stats.ttest_ind(lente_csf_D ,zomer_csf_D ))\n",
    "print('t-toets op groepen lente_csf_D  en herfst_csf_D :' ,stats.ttest_ind(lente_csf_D ,herfst_csf_D ))\n",
    "print('t-toets op groepen lente_csf_D  en winter_csf_D :' ,stats.ttest_ind(lente_csf_D ,winter_csf_D ))\n",
    "print('t-toets op groepen zomer_csf_D  en herfst_csf_D :' ,stats.ttest_ind(zomer_csf_D ,herfst_csf_D ))\n",
    "print('t-toets op groepen zomer_csf_D  en winter_csf_D :' ,stats.ttest_ind(zomer_csf_D ,winter_csf_D ))\n",
    "print('t-toets op groepen herfst_csf_D  en winter_csf_D :' ,stats.ttest_ind(herfst_csf_D ,winter_csf_D ))"
   ]
  },
  {
   "cell_type": "code",
   "execution_count": null,
   "metadata": {},
   "outputs": [],
   "source": []
  },
  {
   "cell_type": "code",
   "execution_count": null,
   "metadata": {},
   "outputs": [],
   "source": []
  },
  {
   "cell_type": "code",
   "execution_count": null,
   "metadata": {},
   "outputs": [],
   "source": []
  },
  {
   "cell_type": "code",
   "execution_count": null,
   "metadata": {},
   "outputs": [],
   "source": []
  },
  {
   "cell_type": "code",
   "execution_count": null,
   "metadata": {},
   "outputs": [],
   "source": []
  },
  {
   "cell_type": "code",
   "execution_count": null,
   "metadata": {},
   "outputs": [],
   "source": []
  },
  {
   "cell_type": "code",
   "execution_count": null,
   "metadata": {},
   "outputs": [],
   "source": []
  },
  {
   "cell_type": "code",
   "execution_count": null,
   "metadata": {},
   "outputs": [],
   "source": []
  },
  {
   "cell_type": "code",
   "execution_count": null,
   "metadata": {},
   "outputs": [],
   "source": []
  },
  {
   "cell_type": "code",
   "execution_count": null,
   "metadata": {},
   "outputs": [],
   "source": []
  },
  {
   "cell_type": "code",
   "execution_count": null,
   "metadata": {},
   "outputs": [],
   "source": []
  },
  {
   "cell_type": "code",
   "execution_count": null,
   "metadata": {},
   "outputs": [],
   "source": []
  },
  {
   "cell_type": "code",
   "execution_count": null,
   "metadata": {},
   "outputs": [],
   "source": []
  },
  {
   "cell_type": "code",
   "execution_count": null,
   "metadata": {},
   "outputs": [],
   "source": []
  },
  {
   "cell_type": "code",
   "execution_count": null,
   "metadata": {},
   "outputs": [],
   "source": []
  },
  {
   "cell_type": "code",
   "execution_count": null,
   "metadata": {},
   "outputs": [],
   "source": []
  },
  {
   "cell_type": "code",
   "execution_count": null,
   "metadata": {},
   "outputs": [],
   "source": []
  },
  {
   "cell_type": "code",
   "execution_count": null,
   "metadata": {},
   "outputs": [],
   "source": []
  },
  {
   "cell_type": "code",
   "execution_count": null,
   "metadata": {},
   "outputs": [],
   "source": []
  },
  {
   "cell_type": "code",
   "execution_count": null,
   "metadata": {},
   "outputs": [],
   "source": []
  },
  {
   "cell_type": "code",
   "execution_count": null,
   "metadata": {},
   "outputs": [],
   "source": []
  },
  {
   "cell_type": "code",
   "execution_count": null,
   "metadata": {},
   "outputs": [],
   "source": []
  },
  {
   "cell_type": "code",
   "execution_count": null,
   "metadata": {},
   "outputs": [],
   "source": []
  },
  {
   "cell_type": "code",
   "execution_count": null,
   "metadata": {},
   "outputs": [],
   "source": []
  },
  {
   "cell_type": "code",
   "execution_count": null,
   "metadata": {},
   "outputs": [],
   "source": []
  },
  {
   "cell_type": "code",
   "execution_count": null,
   "metadata": {},
   "outputs": [],
   "source": []
  },
  {
   "cell_type": "code",
   "execution_count": null,
   "metadata": {},
   "outputs": [],
   "source": []
  },
  {
   "cell_type": "code",
   "execution_count": null,
   "metadata": {},
   "outputs": [],
   "source": []
  },
  {
   "cell_type": "code",
   "execution_count": null,
   "metadata": {},
   "outputs": [],
   "source": [
    "\n"
   ]
  },
  {
   "cell_type": "code",
   "execution_count": null,
   "metadata": {},
   "outputs": [],
   "source": []
  },
  {
   "cell_type": "code",
   "execution_count": null,
   "metadata": {},
   "outputs": [],
   "source": []
  },
  {
   "cell_type": "code",
   "execution_count": null,
   "metadata": {},
   "outputs": [],
   "source": []
  },
  {
   "cell_type": "code",
   "execution_count": null,
   "metadata": {},
   "outputs": [],
   "source": []
  },
  {
   "cell_type": "code",
   "execution_count": null,
   "metadata": {},
   "outputs": [],
   "source": []
  },
  {
   "cell_type": "code",
   "execution_count": null,
   "metadata": {},
   "outputs": [],
   "source": []
  },
  {
   "cell_type": "code",
   "execution_count": null,
   "metadata": {},
   "outputs": [],
   "source": []
  },
  {
   "cell_type": "code",
   "execution_count": null,
   "metadata": {},
   "outputs": [],
   "source": []
  },
  {
   "cell_type": "code",
   "execution_count": null,
   "metadata": {},
   "outputs": [],
   "source": []
  },
  {
   "cell_type": "code",
   "execution_count": null,
   "metadata": {},
   "outputs": [],
   "source": []
  },
  {
   "cell_type": "code",
   "execution_count": null,
   "metadata": {},
   "outputs": [],
   "source": []
  },
  {
   "cell_type": "code",
   "execution_count": null,
   "metadata": {},
   "outputs": [],
   "source": []
  },
  {
   "cell_type": "code",
   "execution_count": null,
   "metadata": {},
   "outputs": [],
   "source": []
  }
 ],
 "metadata": {
  "kernelspec": {
   "display_name": "base",
   "language": "python",
   "name": "python3"
  },
  "language_info": {
   "codemirror_mode": {
    "name": "ipython",
    "version": 3
   },
   "file_extension": ".py",
   "mimetype": "text/x-python",
   "name": "python",
   "nbconvert_exporter": "python",
   "pygments_lexer": "ipython3",
   "version": "3.9.12"
  }
 },
 "nbformat": 4,
 "nbformat_minor": 2
}
